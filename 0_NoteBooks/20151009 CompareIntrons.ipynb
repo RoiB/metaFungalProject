{
 "cells": [
  {
   "cell_type": "code",
   "execution_count": null,
   "metadata": {
    "collapsed": true
   },
   "outputs": [],
   "source": [
    "## go with examples on ES vs RNA-Seq first "
   ]
  },
  {
   "cell_type": "code",
   "execution_count": 20,
   "metadata": {
    "collapsed": true
   },
   "outputs": [],
   "source": [
    "sourcePath = '/storage3/w/richard/meta2015/placeForRNASeq/'\n",
    "shortNames = os.listdir(sourcePath)\n",
    "outputPath = '/home/richard/research/5_Tests/Oct9CompareIntron/'\n",
    "\n",
    "base = '~alexl/DISTR/src/pl/compare_cds_exact.pl '"
   ]
  },
  {
   "cell_type": "code",
   "execution_count": 21,
   "metadata": {
    "collapsed": true
   },
   "outputs": [],
   "source": [
    "# ~/DISTR/src/pl/compare_cds_exact.pl  -f1 ../star/star_introns_GT_AG_10.gff  -f2 introns.gff  -v  -intron"
   ]
  },
  {
   "cell_type": "code",
   "execution_count": 27,
   "metadata": {
    "collapsed": false
   },
   "outputs": [
    {
     "name": "stdout",
     "output_type": "stream",
     "text": [
      "problem with Clafu1\n",
      "problem with Aurvu1\n",
      "problem with Tilan2\n"
     ]
    }
   ],
   "source": [
    "## find intron overlap introns\n",
    "script = \"\"\n",
    "for shortName in shortNames:\n",
    "    inputFile1 = '-f1 {}{}/star/star_introns_GT_AG_10.gff'.format(sourcePath,shortName)\n",
    "    inputFile2 = '-f2 {}{}/star/introns.gff -v -intron'.format(sourcePath,shortName)\n",
    "    outputFile = '> {}{}.intronOverlap.txt'.format(outputPath,shortName)\n",
    "    try:\n",
    "        subprocess.check_call(\"{}{} {} {}\".format(base,inputFile1,inputFile2,outputFile),shell=True)\n",
    "    except:\n",
    "        print 'problem with {}'.format(shortName)\n",
    "    script+=\"{}{} {} {}\".format(base,inputFile1,inputFile2,outputFile)\n",
    "#     print \"{}{} {} {}\".format(base,inputFile1,inputFile2,outputFile)"
   ]
  },
  {
   "cell_type": "code",
   "execution_count": 23,
   "metadata": {
    "collapsed": true
   },
   "outputs": [],
   "source": [
    "import subprocess"
   ]
  }
 ],
 "metadata": {
  "kernelspec": {
   "display_name": "Python 2",
   "language": "python",
   "name": "python2"
  },
  "language_info": {
   "codemirror_mode": {
    "name": "ipython",
    "version": 2
   },
   "file_extension": ".py",
   "mimetype": "text/x-python",
   "name": "python",
   "nbconvert_exporter": "python",
   "pygments_lexer": "ipython2",
   "version": "2.7.10"
  }
 },
 "nbformat": 4,
 "nbformat_minor": 0
}
