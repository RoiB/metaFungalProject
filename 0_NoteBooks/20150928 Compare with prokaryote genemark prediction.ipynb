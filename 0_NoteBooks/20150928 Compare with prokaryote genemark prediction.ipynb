{
 "cells": [
  {
   "cell_type": "code",
   "execution_count": 7,
   "metadata": {
    "collapsed": true
   },
   "outputs": [],
   "source": [
    "'''\n",
    "The purpose of this notebook is to run prokaryote verion of genemark.hmm and compare the result\n",
    "with the one we already have\n",
    "'''\n",
    "import os\n",
    "import re"
   ]
  },
  {
   "cell_type": "code",
   "execution_count": 20,
   "metadata": {
    "collapsed": false
   },
   "outputs": [],
   "source": [
    "# prepare fastafiles in order\n",
    "fastaFilePath = '../5_Tests/Sep26SlicingGenome/SlicedSchpo1/'\n",
    "fastaFileNames = sorted(os.listdir(fastaFilePath), key = lambda x: int(re.findall('\\#(\\d+?)\\_', x)[0]))\n",
    "\n",
    "fasta_collection = ''\n",
    "for filename in fastaFileNames:\n",
    "    with open(fastaFilePath+filename) as f:\n",
    "        fasta_collection+=f.read()\n",
    "with open('../5_Tests/Sep28ComparisonProkaryote/Schpo1_meta_collection.fasta','w') as f: f.write(fasta_collection)\n",
    "    \n",
    "# run genemark.hmm prok version in command line"
   ]
  },
  {
   "cell_type": "code",
   "execution_count": 21,
   "metadata": {
    "collapsed": true
   },
   "outputs": [],
   "source": [
    "# same with above,for N.Crassa\n",
    "fastaFilePath = '../5_Tests/Sep28ComparisonProkaryote/SlicedNeucr2/'\n",
    "fastaFileNames = sorted(os.listdir(fastaFilePath), key = lambda x: int(re.findall('\\#(\\d+?)\\_', x)[0]))\n",
    "\n",
    "fasta_collection = ''\n",
    "for filename in fastaFileNames:\n",
    "    with open(fastaFilePath+filename) as f:\n",
    "        fasta_collection+=f.read()\n",
    "with open('../5_Tests/Sep28ComparisonProkaryote/Neucr2_meta_collection.fasta','w') as f: f.write(fasta_collection)\n",
    "    \n",
    "# then execute the command:\n",
    "# /home/tool/gms/gmhmmp -m /home/tool/gms/MetaGeneMark_v1.mod -f G -o Neucr2_meta_collection.gff Neucr2_meta_collection.fasta\n"
   ]
  },
  {
   "cell_type": "code",
   "execution_count": null,
   "metadata": {
    "collapsed": true
   },
   "outputs": [],
   "source": []
  }
 ],
 "metadata": {
  "kernelspec": {
   "display_name": "Python 2",
   "language": "python",
   "name": "python2"
  },
  "language_info": {
   "codemirror_mode": {
    "name": "ipython",
    "version": 2
   },
   "file_extension": ".py",
   "mimetype": "text/x-python",
   "name": "python",
   "nbconvert_exporter": "python",
   "pygments_lexer": "ipython2",
   "version": "2.7.10"
  }
 },
 "nbformat": 4,
 "nbformat_minor": 0
}
