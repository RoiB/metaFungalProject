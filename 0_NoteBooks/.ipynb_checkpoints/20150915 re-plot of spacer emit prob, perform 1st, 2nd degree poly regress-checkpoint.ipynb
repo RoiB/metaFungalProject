{
 "cells": [
  {
   "cell_type": "code",
   "execution_count": 26,
   "metadata": {
    "collapsed": false
   },
   "outputs": [
    {
     "data": {
      "text/plain": [
       "<AsyncResult: finished>"
      ]
     },
     "execution_count": 26,
     "metadata": {},
     "output_type": "execute_result"
    }
   ],
   "source": [
    "'''\n",
    "The note book deal with spacer emission probability to get a better understanding of emission prob distribution\n",
    "\n",
    "1. plot all emission probability on the same scale\n",
    "2. compare linear and poly regression on emission probability \n",
    "3. build new set of parameters on spacer emission probability\n",
    "4. build function to assembly spacer emission probabilty fitting the model file\n",
    "'''\n",
    "\n",
    "## use ipython parallel programming \n",
    "from IPython.parallel import Client\n",
    "rc = Client()\n",
    "dview = rc[:]\n",
    "\n",
    "\n",
    "import pandas as pd; dview.execute(\"import pandas as pd\")\n",
    "\n",
    "import numpy as np\n",
    "\n",
    "import matplotlib.pylab as plt\n",
    "%matplotlib inline\n",
    "import matplotlib\n",
    "\n",
    "\n",
    "import os\n",
    "# The path where all the GeneMark-ES 4th run models located\n",
    "modelFilePath = \"/home/richard/largeDataSet/ES_Run_modfileAug2015/\" \n",
    "modelFileNames = os.listdir(modelFilePath)\n",
    "\n",
    "# full data\n",
    "fulldata = pd.read_csv(\"../1_DataSmall/fullTableInfoGff3GffRNAESwithDensity20150829.csv\")\n",
    "fulldata.index = fulldata['shortName']\n",
    "\n",
    "\n",
    "dview.push({'modelFilePath':modelFilePath,'modelFileNames':modelFileNames})"
   ]
  },
  {
   "cell_type": "code",
   "execution_count": 2,
   "metadata": {
    "collapsed": false
   },
   "outputs": [
    {
     "data": {
      "text/plain": [
       "<AsyncResult: finished>"
      ]
     },
     "execution_count": 2,
     "metadata": {},
     "output_type": "execute_result"
    }
   ],
   "source": [
    "class ESModelSpacer():\n",
    "    _GC_PARAM = { # each param is paired with an ending signal\n",
    "        '$MARKOV_BP_SPACER':'TT'\n",
    "    }\n",
    "    \n",
    "    def __init__(self, filename):\n",
    "        self.f = open(filename)\n",
    "\n",
    "    def close(self):\n",
    "        '''close file connection'''\n",
    "        self.f.close()\n",
    "        \n",
    "    def extract_to_table(self, param, cols = ['X','Y']):\n",
    "        '''\n",
    "        Capture data below parameter and output an dataframe\n",
    "        Right now, only been tested on spacer\n",
    "        \n",
    "        '''\n",
    "        data = []\n",
    "        switch = False\n",
    "        for line in self.f:\n",
    "            if switch:\n",
    "                data.append(line)\n",
    "#                 print line\n",
    "            if param in line:\n",
    "                switch = True\n",
    "            if switch and \"{}\".format(self._GC_PARAM[param]) in line:\n",
    "                switch = False\n",
    "                break\n",
    "        data = map(lambda line: line.rstrip().split(), data)\n",
    "#         pairs = map(lambda (a,b): (int(a), float(b)), data)\n",
    "        \n",
    "        return pd.DataFrame(data, columns= cols) \n",
    "    \n",
    "dview.push({'ESModelSpacer':ESModelSpacer})"
   ]
  },
  {
   "cell_type": "code",
   "execution_count": 3,
   "metadata": {
    "collapsed": false
   },
   "outputs": [],
   "source": [
    "test1 = ESModelSpacer(modelFilePath+modelFileNames[0]).extract_to_table(\"$MARKOV_BP_SPACER\")"
   ]
  },
  {
   "cell_type": "code",
   "execution_count": 4,
   "metadata": {
    "collapsed": false
   },
   "outputs": [],
   "source": [
    "cols = test1.X #assign column names as dinucleotides"
   ]
  },
  {
   "cell_type": "code",
   "execution_count": 5,
   "metadata": {
    "collapsed": true
   },
   "outputs": [],
   "source": [
    "spacer_prob_map = dview.map(lambda filename: ESModelSpacer(modelFilePath+filename).extract_to_table(\"$MARKOV_BP_SPACER\"), modelFileNames)"
   ]
  },
  {
   "cell_type": "code",
   "execution_count": 6,
   "metadata": {
    "collapsed": false
   },
   "outputs": [],
   "source": [
    "spacer_probs = spacer_prob_map.get()"
   ]
  },
  {
   "cell_type": "code",
   "execution_count": 7,
   "metadata": {
    "collapsed": false
   },
   "outputs": [],
   "source": [
    "df = pd.DataFrame(map(lambda df: df.Y, spacer_probs),dtype=float)"
   ]
  },
  {
   "cell_type": "code",
   "execution_count": 8,
   "metadata": {
    "collapsed": true
   },
   "outputs": [],
   "source": [
    "df.columns = cols"
   ]
  },
  {
   "cell_type": "code",
   "execution_count": 9,
   "metadata": {
    "collapsed": false
   },
   "outputs": [],
   "source": [
    "## get GC\n",
    "gc = map(lambda filename: fulldata.loc[filename[:-11]].gc, modelFileNames)"
   ]
  },
  {
   "cell_type": "code",
   "execution_count": 10,
   "metadata": {
    "collapsed": true
   },
   "outputs": [],
   "source": [
    "df['gc'] = gc"
   ]
  },
  {
   "cell_type": "code",
   "execution_count": 90,
   "metadata": {
    "collapsed": true
   },
   "outputs": [],
   "source": [
    "# adjust font size\n",
    "matplotlib.rcParams.update({'font.size': 20})"
   ]
  },
  {
   "cell_type": "code",
   "execution_count": 91,
   "metadata": {
    "collapsed": false
   },
   "outputs": [
    {
     "data": {
      "text/plain": [
       "<matplotlib.text.Text at 0x7f9817db6c90>"
      ]
     },
     "execution_count": 91,
     "metadata": {},
     "output_type": "execute_result"
    },
    {
     "data": {
      "image/png": "[encoded data removed]",
      "text/plain": [
       "<matplotlib.figure.Figure at 0x7f9817d8fe50>"
      ]
     },
     "metadata": {},
     "output_type": "display_data"
    }
   ],
   "source": [
    "plt.plot(df.gc, df.icol(0),'ro')\n",
    "plt.title(df.columns[0])\n",
    "plt.ylim([0,.5])\n",
    "plt.xlim([10,70])\n",
    "plt.xlabel('GC')\n",
    "plt.ylabel('Probability')"
   ]
  },
  {
   "cell_type": "code",
   "execution_count": 19,
   "metadata": {
    "collapsed": false
   },
   "outputs": [],
   "source": [
    "df.to_csv('../1_DataSmall/SpacerEmissionProbTable.csv',index=None)"
   ]
  },
  {
   "cell_type": "code",
   "execution_count": 20,
   "metadata": {
    "collapsed": true
   },
   "outputs": [],
   "source": [
    "# plot path \n",
    "plot_path = \"/home/richard/research/1_DataSmall/Plots/spacer_emission/\""
   ]
  },
  {
   "cell_type": "code",
   "execution_count": 23,
   "metadata": {
    "collapsed": true
   },
   "outputs": [],
   "source": [
    "for i in range(16):\n",
    "    plt.plot(df.gc, df.icol(i),'ro')\n",
    "    plt.title(df.columns[i])\n",
    "    plt.ylim([0,.3])\n",
    "    plt.xlim([10,70])\n",
    "    plt.xlabel('GC')\n",
    "    plt.ylabel('Probability')\n",
    "    plt.savefig(plot_path+df.columns[i],bbox_inches='tight')\n",
    "    plt.close()"
   ]
  },
  {
   "cell_type": "code",
   "execution_count": null,
   "metadata": {
    "collapsed": true
   },
   "outputs": [],
   "source": [
    "### start poly regression "
   ]
  },
  {
   "cell_type": "code",
   "execution_count": 47,
   "metadata": {
    "collapsed": true
   },
   "outputs": [],
   "source": [
    "# regression set with 1d wrapper, just plug in gc and will output probability\n",
    "regressModelSet = map(lambda XY: np.poly1d(np.polyfit(df.gc, df[XY],deg = 2)), df.columns)"
   ]
  },
  {
   "cell_type": "code",
   "execution_count": 71,
   "metadata": {
    "collapsed": true
   },
   "outputs": [],
   "source": [
    "gc_range = range(20,65)"
   ]
  },
  {
   "cell_type": "code",
   "execution_count": 72,
   "metadata": {
    "collapsed": false
   },
   "outputs": [],
   "source": [
    "regressResult = map(lambda model: model(gc_range), regressModelSet)"
   ]
  },
  {
   "cell_type": "code",
   "execution_count": 83,
   "metadata": {
    "collapsed": false
   },
   "outputs": [],
   "source": [
    "AA = np.polyfit(df.gc, df.AA, 2)\n",
    "linearAA = np.polyfit(df.gc, df.AA, 1)"
   ]
  },
  {
   "cell_type": "code",
   "execution_count": 84,
   "metadata": {
    "collapsed": false
   },
   "outputs": [],
   "source": [
    "p = np.poly1d(AA)\n",
    "linearp = np.poly1d(linearAA)"
   ]
  },
  {
   "cell_type": "code",
   "execution_count": 148,
   "metadata": {
    "collapsed": false
   },
   "outputs": [
    {
     "data": {
      "text/plain": [
       "<matplotlib.legend.Legend at 0x7f9817b1e1d0>"
      ]
     },
     "execution_count": 148,
     "metadata": {},
     "output_type": "execute_result"
    },
    {
     "data": {
      "image/png": "[encoded data removed]",
      "text/plain": [
       "<matplotlib.figure.Figure at 0x7f981768e050>"
      ]
     },
     "metadata": {},
     "output_type": "display_data"
    }
   ],
   "source": [
    "plt.plot(range(10,70),p(range(10,70)), lw = 3, label = '2nd degree poly regression')\n",
    "plt.plot(range(10,70),linearp(range(10,70)), lw = 3, label = 'linear regression')\n",
    "plt.plot(df.gc, df.icol(0),'ro',label = 'real data',alpha = 0.15)\n",
    "plt.legend(fontsize = 10)"
   ]
  },
  {
   "cell_type": "code",
   "execution_count": 76,
   "metadata": {
    "collapsed": true
   },
   "outputs": [],
   "source": [
    "# plot path \n",
    "plot_path = \"/home/richard/research/1_DataSmall/Plots/spacer_emission_regression/\""
   ]
  },
  {
   "cell_type": "code",
   "execution_count": 80,
   "metadata": {
    "collapsed": false,
    "scrolled": false
   },
   "outputs": [],
   "source": [
    "for i in range(16):\n",
    "    plt.plot(df.gc, df.icol(i),'ro',label = 'real data')\n",
    "    plt.plot(gc_range, regressResult[i], lw = 4, label = '2nd degree poly regression')\n",
    "    plt.title(df.columns[i])\n",
    "    plt.ylim([0,.3])\n",
    "    plt.xlim([10,70])\n",
    "    plt.xlabel('GC')\n",
    "    plt.ylabel('Probability')\n",
    "    plt.legend()\n",
    "    plt.savefig(plot_path+df.columns[i],bbox_inches='tight')\n",
    "    plt.close()"
   ]
  },
  {
   "cell_type": "code",
   "execution_count": 88,
   "metadata": {
    "collapsed": true
   },
   "outputs": [],
   "source": [
    "## add comparison linear regression\n",
    "linearRegressModelSet = map(lambda XY: np.poly1d(np.polyfit(df.gc, df[XY],deg = 1)), df.columns)\n",
    "gc_range = range(20,65)\n",
    "linearRegressResult = map(lambda model: model(gc_range), linearRegressModelSet)"
   ]
  },
  {
   "cell_type": "code",
   "execution_count": 149,
   "metadata": {
    "collapsed": true
   },
   "outputs": [],
   "source": [
    "matplotlib.rcParams.update({'font.size': 20})\n",
    "_alpha = 0.15\n",
    "lineWidth = 2\n",
    "for i in range(16):\n",
    "    plt.plot(df.gc, df.icol(i),'ro',label = 'real data', alpha = _alpha)\n",
    "    plt.plot(gc_range, regressResult[i], lw = lineWidth, label = '2nd degree poly regression')\n",
    "    plt.plot(gc_range, linearRegressResult[i], lw = lineWidth, label = 'linear regression')\n",
    "    plt.title(df.columns[i])\n",
    "    plt.ylim([0,.3])\n",
    "    plt.xlim([10,70])\n",
    "    plt.xlabel('GC')\n",
    "    plt.ylabel('Probability')\n",
    "    plt.legend(fontsize = 13)\n",
    "    plt.savefig(plot_path+df.columns[i],bbox_inches='tight')\n",
    "    plt.close()"
   ]
  },
  {
   "cell_type": "code",
   "execution_count": 150,
   "metadata": {
    "collapsed": true
   },
   "outputs": [],
   "source": [
    "## fit TT legend\n",
    "plt.plot(df.gc, df.TT,'ro',label = 'real data',alpha = _alpha)\n",
    "plt.plot(gc_range, regressResult[i], lw = lineWidth, label = '2nd degree poly regression')\n",
    "plt.plot(gc_range, linearRegressResult[i], lw = lineWidth, label = 'linear regression')\n",
    "plt.title('TT')\n",
    "plt.ylim([0,.3])\n",
    "plt.xlim([10,70])\n",
    "plt.xlabel('GC')\n",
    "plt.ylabel('Probability')\n",
    "plt.legend(fontsize = 8)\n",
    "plt.savefig(plot_path+df.columns[i],bbox_inches='tight')\n",
    "plt.close()"
   ]
  },
  {
   "cell_type": "code",
   "execution_count": 118,
   "metadata": {
    "collapsed": false,
    "scrolled": true
   },
   "outputs": [
    {
     "data": {
      "text/html": [
       "<div>\n",
       "<table border=\"1\" class=\"dataframe\">\n",
       "  <thead>\n",
       "    <tr style=\"text-align: right;\">\n",
       "      <th>X</th>\n",
       "      <th>AA</th>\n",
       "      <th>AC</th>\n",
       "      <th>AG</th>\n",
       "      <th>AT</th>\n",
       "      <th>CA</th>\n",
       "      <th>CC</th>\n",
       "      <th>CG</th>\n",
       "      <th>CT</th>\n",
       "      <th>GA</th>\n",
       "      <th>GC</th>\n",
       "      <th>GG</th>\n",
       "      <th>GT</th>\n",
       "      <th>TA</th>\n",
       "      <th>TC</th>\n",
       "      <th>TG</th>\n",
       "      <th>TT</th>\n",
       "      <th>gc</th>\n",
       "    </tr>\n",
       "  </thead>\n",
       "  <tbody>\n",
       "    <tr>\n",
       "      <th>20</th>\n",
       "      <td>0.174422</td>\n",
       "      <td>0.017435</td>\n",
       "      <td>0.016010</td>\n",
       "      <td>0.161710</td>\n",
       "      <td>0.026140</td>\n",
       "      <td>0.015684</td>\n",
       "      <td>0.019763</td>\n",
       "      <td>0.037430</td>\n",
       "      <td>0.017792</td>\n",
       "      <td>0.016147</td>\n",
       "      <td>0.005900</td>\n",
       "      <td>0.015729</td>\n",
       "      <td>0.151529</td>\n",
       "      <td>0.034310</td>\n",
       "      <td>0.024649</td>\n",
       "      <td>0.265349</td>\n",
       "      <td>20</td>\n",
       "    </tr>\n",
       "    <tr>\n",
       "      <th>21</th>\n",
       "      <td>0.169459</td>\n",
       "      <td>0.020488</td>\n",
       "      <td>0.017158</td>\n",
       "      <td>0.159382</td>\n",
       "      <td>0.028554</td>\n",
       "      <td>0.016385</td>\n",
       "      <td>0.018632</td>\n",
       "      <td>0.039414</td>\n",
       "      <td>0.019987</td>\n",
       "      <td>0.015685</td>\n",
       "      <td>0.006990</td>\n",
       "      <td>0.018104</td>\n",
       "      <td>0.147556</td>\n",
       "      <td>0.036773</td>\n",
       "      <td>0.026992</td>\n",
       "      <td>0.258441</td>\n",
       "      <td>21</td>\n",
       "    </tr>\n",
       "    <tr>\n",
       "      <th>22</th>\n",
       "      <td>0.164570</td>\n",
       "      <td>0.023452</td>\n",
       "      <td>0.018258</td>\n",
       "      <td>0.157034</td>\n",
       "      <td>0.030883</td>\n",
       "      <td>0.017151</td>\n",
       "      <td>0.017631</td>\n",
       "      <td>0.041362</td>\n",
       "      <td>0.022103</td>\n",
       "      <td>0.015350</td>\n",
       "      <td>0.008063</td>\n",
       "      <td>0.020412</td>\n",
       "      <td>0.143632</td>\n",
       "      <td>0.039191</td>\n",
       "      <td>0.029279</td>\n",
       "      <td>0.251630</td>\n",
       "      <td>22</td>\n",
       "    </tr>\n",
       "    <tr>\n",
       "      <th>23</th>\n",
       "      <td>0.159757</td>\n",
       "      <td>0.026328</td>\n",
       "      <td>0.019308</td>\n",
       "      <td>0.154663</td>\n",
       "      <td>0.033128</td>\n",
       "      <td>0.017985</td>\n",
       "      <td>0.016760</td>\n",
       "      <td>0.043274</td>\n",
       "      <td>0.024139</td>\n",
       "      <td>0.015143</td>\n",
       "      <td>0.009118</td>\n",
       "      <td>0.022651</td>\n",
       "      <td>0.139756</td>\n",
       "      <td>0.041563</td>\n",
       "      <td>0.031511</td>\n",
       "      <td>0.244917</td>\n",
       "      <td>23</td>\n",
       "    </tr>\n",
       "    <tr>\n",
       "      <th>24</th>\n",
       "      <td>0.155019</td>\n",
       "      <td>0.029114</td>\n",
       "      <td>0.020310</td>\n",
       "      <td>0.152271</td>\n",
       "      <td>0.035289</td>\n",
       "      <td>0.018885</td>\n",
       "      <td>0.016018</td>\n",
       "      <td>0.045149</td>\n",
       "      <td>0.026096</td>\n",
       "      <td>0.015063</td>\n",
       "      <td>0.010155</td>\n",
       "      <td>0.024824</td>\n",
       "      <td>0.135929</td>\n",
       "      <td>0.043891</td>\n",
       "      <td>0.033686</td>\n",
       "      <td>0.238303</td>\n",
       "      <td>24</td>\n",
       "    </tr>\n",
       "  </tbody>\n",
       "</table>\n",
       "</div>"
      ],
      "text/plain": [
       "X         AA        AC        AG        AT        CA        CC        CG  \\\n",
       "20  0.174422  0.017435  0.016010  0.161710  0.026140  0.015684  0.019763   \n",
       "21  0.169459  0.020488  0.017158  0.159382  0.028554  0.016385  0.018632   \n",
       "22  0.164570  0.023452  0.018258  0.157034  0.030883  0.017151  0.017631   \n",
       "23  0.159757  0.026328  0.019308  0.154663  0.033128  0.017985  0.016760   \n",
       "24  0.155019  0.029114  0.020310  0.152271  0.035289  0.018885  0.016018   \n",
       "\n",
       "X         CT        GA        GC        GG        GT        TA        TC  \\\n",
       "20  0.037430  0.017792  0.016147  0.005900  0.015729  0.151529  0.034310   \n",
       "21  0.039414  0.019987  0.015685  0.006990  0.018104  0.147556  0.036773   \n",
       "22  0.041362  0.022103  0.015350  0.008063  0.020412  0.143632  0.039191   \n",
       "23  0.043274  0.024139  0.015143  0.009118  0.022651  0.139756  0.041563   \n",
       "24  0.045149  0.026096  0.015063  0.010155  0.024824  0.135929  0.043891   \n",
       "\n",
       "X         TG        TT  gc  \n",
       "20  0.024649  0.265349  20  \n",
       "21  0.026992  0.258441  21  \n",
       "22  0.029279  0.251630  22  \n",
       "23  0.031511  0.244917  23  \n",
       "24  0.033686  0.238303  24  "
      ]
     },
     "execution_count": 118,
     "metadata": {},
     "output_type": "execute_result"
    }
   ],
   "source": [
    "###\n",
    "### Build new set of parameters on spacer emisson probability\n",
    "### create table that could to referenced in the future\n",
    "df_poly_regress = pd.concat(map(pd.DataFrame,regressResult), axis = 1)\n",
    "df_poly_regress.index = gc_range\n",
    "df_poly_regress.columns = df.columns\n",
    "df_poly_regress.head()"
   ]
  },
  {
   "cell_type": "code",
   "execution_count": 113,
   "metadata": {
    "collapsed": true
   },
   "outputs": [],
   "source": [
    "df_poly_regress.to_csv(\"../1_DataSmall/heuristic_model_params/spacer_emission.csv\",index = None)"
   ]
  },
  {
   "cell_type": "code",
   "execution_count": 135,
   "metadata": {
    "collapsed": false
   },
   "outputs": [
    {
     "name": "stdout",
     "output_type": "stream",
     "text": [
      "AA 0.174422261889\n",
      "AC 0.0174345791319\n",
      "AG 0.0160103896936\n",
      "AT 0.161709831723\n",
      "CA 0.0261403727325\n",
      "CC 0.0156841942553\n",
      "CG 0.0197628289966\n",
      "CT 0.0374301638046\n",
      "GA 0.0177920235319\n",
      "GC 0.0161473174684\n",
      "GG 0.00589974724796\n",
      "GT 0.0157286780328\n",
      "TA 0.151529098348\n",
      "TC 0.0343104136036\n",
      "TG 0.0246486982826\n",
      "TT 0.265349159571\n"
     ]
    }
   ],
   "source": [
    "for col in df_poly_regress.columns[:-1]:\n",
    "    print col,df_poly_regress.loc[20,col]"
   ]
  },
  {
   "cell_type": "code",
   "execution_count": 137,
   "metadata": {
    "collapsed": false
   },
   "outputs": [],
   "source": [
    "## assembly parameters for model file\n",
    "path  = '../1_DataSmall/heuristic_model_params/spacer_emission/'\n",
    "for gc in gc_range:\n",
    "    base = '$MARKOV_BP_SPACER\\n'\n",
    "    for col in df_poly_regress.columns[:-1]:\n",
    "        base+= \"{} {}\\n\".format(col,df_poly_regress.loc[gc,col])\n",
    "    with open('spacer_emission_{}.txt'.format(gc),'w') as f:\n",
    "        f.write(base)"
   ]
  }
 ],
 "metadata": {
  "kernelspec": {
   "display_name": "Python 2",
   "language": "python",
   "name": "python2"
  },
  "language_info": {
   "codemirror_mode": {
    "name": "ipython",
    "version": 2
   },
   "file_extension": ".py",
   "mimetype": "text/x-python",
   "name": "python",
   "nbconvert_exporter": "python",
   "pygments_lexer": "ipython2",
   "version": "2.7.10"
  }
 },
 "nbformat": 4,
 "nbformat_minor": 0
}
