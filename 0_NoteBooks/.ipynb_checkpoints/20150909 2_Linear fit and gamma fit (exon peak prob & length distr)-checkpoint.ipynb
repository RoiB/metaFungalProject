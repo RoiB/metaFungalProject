{
 "cells": [
  {
   "cell_type": "code",
   "execution_count": 13,
   "metadata": {
    "collapsed": true
   },
   "outputs": [],
   "source": [
    "'''\n",
    "1. Linear approximate exon distribution peak VS intron density \n",
    "2. Fit gamma to exon length distribution\n",
    "refined ES parameter parsing\n",
    "'''\n",
    "## use ipython parallel programming \n",
    "from IPython.parallel import Client\n",
    "rc = Client()\n",
    "dview = rc[:]\n",
    "\n",
    "\n",
    "# import pandas as pd\n",
    "# import numpy as np\n",
    "dview.execute(\"import pandas as pd\")\n",
    "dview.execute(\"import numpy as pd\")\n",
    "import matplotlib.pylab as plt\n",
    "import os\n",
    "%matplotlib inline\n",
    "\n",
    "\n",
    "# The path where all the GeneMark-ES 4th run models located\n",
    "modelFilePath = \"/home/richard/largeDataSet/ES_Run_modfileAug2015/\"\n",
    "modelFileNames = os.listdir(modelFilePath)\n",
    "\n",
    "# full data\n",
    "fulldata = pd.read_csv(\"../1_DataSmall/fullTableInfoGff3GffRNAESwithDensity20150829.csv\")\n",
    "fulldata.index = fulldata['shortName']"
   ]
  },
  {
   "cell_type": "code",
   "execution_count": 28,
   "metadata": {
    "collapsed": true
   },
   "outputs": [],
   "source": [
    "## First of all, find linear relation between \n",
    "class ESParamParse():\n",
    "    \"\"\"Take in 4th run of model file as text and extract info\"\"\"\n",
    "    \n",
    "    global _DISTR_TYPE \n",
    "    _DISTR_TYPE= {\n",
    "        'INITIAL'  :('$INITIAL_DISTR', range(3,10001)),\n",
    "        'EXON'     :('$EXON_DISTR',range(3,10001)),\n",
    "        'TERMINAL' : ('$TERMINAL_DISTR', range(3,10001)),\n",
    "        'SINGLE'   :('$SINGLE_DISTR', range(300,10000)),\n",
    "        'INTRON'   :('$INTRON_DISTR',range(20,3001)),\n",
    "        'BP_ACC'   :('$BP_ACC_DISTR',range(2,41)),\n",
    "        'DON_BP'   :('$DON_BP_DISTR',range(5,3001))\n",
    "    }\n",
    "    \n",
    "    def __init__(self, filename):\n",
    "        self.f = open(filename)\n",
    "        \n",
    "    def maxPosition(self, distrType):\n",
    "        '''\n",
    "        return the position with the highest probability\n",
    "        '''\n",
    "        # decompose the distrbutionType varibable to distribution type/tag and min_max length range\n",
    "        TAG, RANGE = _DISTR_TYPE[distrType]\n",
    "        # accqure the max length signal\n",
    "        LENGTH = RANGE[-1]\n",
    "\n",
    "        # capture length distribution\n",
    "        lengthData = []\n",
    "        switch = False\n",
    "        for line in self.f:\n",
    "            if switch:\n",
    "                lengthData.append(line)\n",
    "            if TAG in line:\n",
    "                switch = True\n",
    "            if switch and \"{}\\t\".format(LENGTH) in line:\n",
    "                switch = False\n",
    "                break\n",
    "        lengthData = map(lambda line: line.rstrip().split(\"\\t\"), lengthData)\n",
    "        positionProbabilityPair = map(lambda (a,b): (int(a), float(b)), lengthData)\n",
    "        df = pd.DataFrame(positionProbabilityPair, columns=['position','probability']) \n",
    "        # return position of peak probability\n",
    "        return df.position[np.argmax(df.probability)]"
   ]
  },
  {
   "cell_type": "code",
   "execution_count": 32,
   "metadata": {
    "collapsed": false
   },
   "outputs": [],
   "source": [
    "dview.push({'ESParamParse':ESParamParse,'modelFilePath':modelFilePath,'modelFileNames':modelFileNames})"
   ]
  },
  {
   "cell_type": "code",
   "execution_count": 33,
   "metadata": {
    "collapsed": false
   },
   "outputs": [],
   "source": [
    "exon_map = dview.map(lambda modelName: ESParamParse(modelFilePath+modelName).maxPosition('EXON'), modelFileNames)"
   ]
  },
  {
   "cell_type": "code",
   "execution_count": 34,
   "metadata": {
    "collapsed": false
   },
   "outputs": [
    {
     "ename": "CompositeError",
     "evalue": "one or more exceptions from call to method: <lambda>\n[0:apply]: NameError: global name '_DISTR_TYPE' is not defined\n[1:apply]: NameError: global name '_DISTR_TYPE' is not defined\n[2:apply]: NameError: global name '_DISTR_TYPE' is not defined\n[3:apply]: NameError: global name '_DISTR_TYPE' is not defined\n.... 4 more exceptions ...",
     "output_type": "error",
     "traceback": [
      "[0:apply]: ",
      "\u001b[1;31m---------------------------------------------------------------------------\u001b[0m\u001b[1;31mNameError\u001b[0m                                 Traceback (most recent call last)\u001b[1;32m<string>\u001b[0m in \u001b[0;36m<module>\u001b[1;34m()\u001b[0m",
      "\u001b[1;32m<ipython-input-33-ba9540cd80d4>\u001b[0m in \u001b[0;36m<lambda>\u001b[1;34m(modelName)\u001b[0m",
      "\u001b[1;32m<ipython-input-28-a53117a92bd3>\u001b[0m in \u001b[0;36mmaxPosition\u001b[1;34m(self, distrType)\u001b[0m",
      "\u001b[1;31mNameError\u001b[0m: global name '_DISTR_TYPE' is not defined",
      "",
      "[1:apply]: ",
      "\u001b[1;31m---------------------------------------------------------------------------\u001b[0m\u001b[1;31mNameError\u001b[0m                                 Traceback (most recent call last)\u001b[1;32m<string>\u001b[0m in \u001b[0;36m<module>\u001b[1;34m()\u001b[0m",
      "\u001b[1;32m<ipython-input-33-ba9540cd80d4>\u001b[0m in \u001b[0;36m<lambda>\u001b[1;34m(modelName)\u001b[0m",
      "\u001b[1;32m<ipython-input-28-a53117a92bd3>\u001b[0m in \u001b[0;36mmaxPosition\u001b[1;34m(self, distrType)\u001b[0m",
      "\u001b[1;31mNameError\u001b[0m: global name '_DISTR_TYPE' is not defined",
      "",
      "[2:apply]: ",
      "\u001b[1;31m---------------------------------------------------------------------------\u001b[0m\u001b[1;31mNameError\u001b[0m                                 Traceback (most recent call last)\u001b[1;32m<string>\u001b[0m in \u001b[0;36m<module>\u001b[1;34m()\u001b[0m",
      "\u001b[1;32m<ipython-input-33-ba9540cd80d4>\u001b[0m in \u001b[0;36m<lambda>\u001b[1;34m(modelName)\u001b[0m",
      "\u001b[1;32m<ipython-input-28-a53117a92bd3>\u001b[0m in \u001b[0;36mmaxPosition\u001b[1;34m(self, distrType)\u001b[0m",
      "\u001b[1;31mNameError\u001b[0m: global name '_DISTR_TYPE' is not defined",
      "",
      "[3:apply]: ",
      "\u001b[1;31m---------------------------------------------------------------------------\u001b[0m\u001b[1;31mNameError\u001b[0m                                 Traceback (most recent call last)\u001b[1;32m<string>\u001b[0m in \u001b[0;36m<module>\u001b[1;34m()\u001b[0m",
      "\u001b[1;32m<ipython-input-33-ba9540cd80d4>\u001b[0m in \u001b[0;36m<lambda>\u001b[1;34m(modelName)\u001b[0m",
      "\u001b[1;32m<ipython-input-28-a53117a92bd3>\u001b[0m in \u001b[0;36mmaxPosition\u001b[1;34m(self, distrType)\u001b[0m",
      "\u001b[1;31mNameError\u001b[0m: global name '_DISTR_TYPE' is not defined",
      "",
      "... 4 more exceptions ..."
     ]
    }
   ],
   "source": [
    "exon_reduce = exon_map.get()"
   ]
  },
  {
   "cell_type": "code",
   "execution_count": null,
   "metadata": {
    "collapsed": true
   },
   "outputs": [],
   "source": []
  }
 ],
 "metadata": {
  "kernelspec": {
   "display_name": "Python 2",
   "language": "python",
   "name": "python2"
  },
  "language_info": {
   "codemirror_mode": {
    "name": "ipython",
    "version": 2
   },
   "file_extension": ".py",
   "mimetype": "text/x-python",
   "name": "python",
   "nbconvert_exporter": "python",
   "pygments_lexer": "ipython2",
   "version": "2.7.10"
  }
 },
 "nbformat": 4,
 "nbformat_minor": 0
}
