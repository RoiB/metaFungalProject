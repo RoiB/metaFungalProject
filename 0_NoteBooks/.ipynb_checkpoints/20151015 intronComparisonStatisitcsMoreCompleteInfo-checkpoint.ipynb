{
 "cells": [
  {
   "cell_type": "code",
   "execution_count": 29,
   "metadata": {
    "collapsed": true
   },
   "outputs": [],
   "source": [
    "import pandas as pd\n",
    "from Bio import SeqIO"
   ]
  },
  {
   "cell_type": "code",
   "execution_count": 30,
   "metadata": {
    "collapsed": true
   },
   "outputs": [],
   "source": [
    "full_info = pd.read_csv('../1_DataSmall/fullTableInfoGff3GffRNAESwithDensity20150829.csv')\n",
    "full_info.index = full_info.shortName\n",
    "\n",
    "basepath = '/storage3/w/richard/meta2015/placeForRNASeq/'"
   ]
  },
  {
   "cell_type": "code",
   "execution_count": 3,
   "metadata": {
    "collapsed": true
   },
   "outputs": [],
   "source": [
    "target = '../5_Tests/Oct15intronCompare/intronComparison.txt'"
   ]
  },
  {
   "cell_type": "code",
   "execution_count": 17,
   "metadata": {
    "collapsed": true
   },
   "outputs": [],
   "source": [
    "lines = []\n",
    "with open(target) as f: \n",
    "    for line in f:\n",
    "        if len(line) > 2:\n",
    "            lines.append(line.rstrip())"
   ]
  },
  {
   "cell_type": "code",
   "execution_count": 18,
   "metadata": {
    "collapsed": false
   },
   "outputs": [],
   "source": [
    "result = zip(lines[::3],lines[1::3],lines[2::3])"
   ]
  },
  {
   "cell_type": "code",
   "execution_count": 22,
   "metadata": {
    "collapsed": false
   },
   "outputs": [],
   "source": [
    "shortName = lines[::3]"
   ]
  },
  {
   "cell_type": "code",
   "execution_count": 23,
   "metadata": {
    "collapsed": true
   },
   "outputs": [],
   "source": [
    "longName  = full_info.longName[shortName]"
   ]
  },
  {
   "cell_type": "code",
   "execution_count": 25,
   "metadata": {
    "collapsed": false
   },
   "outputs": [],
   "source": [
    "gc = full_info.gc[shortName]"
   ]
  },
  {
   "cell_type": "code",
   "execution_count": 27,
   "metadata": {
    "collapsed": false
   },
   "outputs": [],
   "source": [
    "fastaName = map(lambda x: x[:-3], full_info.fastaName[shortName])"
   ]
  },
  {
   "cell_type": "code",
   "execution_count": 54,
   "metadata": {
    "collapsed": false
   },
   "outputs": [],
   "source": [
    "genomesize = map(int,map(lambda x:os.path.getsize(basepath+x+\"/data/\"+full_info.fastaName[x][:-3])/1024./1024., shortName))"
   ]
  },
  {
   "cell_type": "code",
   "execution_count": 64,
   "metadata": {
    "collapsed": false
   },
   "outputs": [],
   "source": [
    "rna_seq_intron = map(lambda x: x.split()[0],lines[1::3])\n",
    "rna_seq_intron_unique = map(lambda x: x.split()[2],lines[1::3])"
   ]
  },
  {
   "cell_type": "code",
   "execution_count": 65,
   "metadata": {
    "collapsed": false
   },
   "outputs": [],
   "source": [
    "ES_intron = map(lambda x: x.split()[0],lines[2::3])\n",
    "ES_intron_unique = map(lambda x: x.split()[2],lines[2::3])"
   ]
  },
  {
   "cell_type": "code",
   "execution_count": 66,
   "metadata": {
    "collapsed": true
   },
   "outputs": [],
   "source": [
    "shared_intron = map(lambda x: x.split()[1], lines[1::3])"
   ]
  },
  {
   "cell_type": "code",
   "execution_count": 70,
   "metadata": {
    "collapsed": true
   },
   "outputs": [],
   "source": [
    "testGenomeRNASeq_ES = pd.DataFrame({\"shortName\":shortName,\n",
    "                                   \"longName\":longName,\n",
    "                                   'gc':gc,\n",
    "                                   'genomesize_Mb':genomesize,\n",
    "                                   'rna_seq_intron':rna_seq_intron,\n",
    "                                   'rna_seq_intron_unique':rna_seq_intron_unique,\n",
    "                                   'ES_intron':ES_intron,\n",
    "                                   'ES_intron_unique':ES_intron_unique,\n",
    "                                   'shared_intron':shared_intron},\n",
    "                                   columns = [\"shortName\",\"longName\",'gc','genomesize_Mb','rna_seq_intron',\n",
    "                                              'rna_seq_intron_unique','ES_intron','ES_intron_unique','shared_intron'])"
   ]
  },
  {
   "cell_type": "code",
   "execution_count": 72,
   "metadata": {
    "collapsed": false
   },
   "outputs": [
    {
     "data": {
      "text/html": [
       "<div>\n",
       "<table border=\"1\" class=\"dataframe\">\n",
       "  <thead>\n",
       "    <tr style=\"text-align: right;\">\n",
       "      <th></th>\n",
       "      <th>shortName</th>\n",
       "      <th>longName</th>\n",
       "      <th>gc</th>\n",
       "      <th>genomesize_Mb</th>\n",
       "      <th>rna_seq_intron</th>\n",
       "      <th>rna_seq_intron_unique</th>\n",
       "      <th>ES_intron</th>\n",
       "      <th>ES_intron_unique</th>\n",
       "      <th>shared_intron</th>\n",
       "    </tr>\n",
       "    <tr>\n",
       "      <th>shortName</th>\n",
       "      <th></th>\n",
       "      <th></th>\n",
       "      <th></th>\n",
       "      <th></th>\n",
       "      <th></th>\n",
       "      <th></th>\n",
       "      <th></th>\n",
       "      <th></th>\n",
       "      <th></th>\n",
       "    </tr>\n",
       "  </thead>\n",
       "  <tbody>\n",
       "    <tr>\n",
       "      <th>Aspoch1</th>\n",
       "      <td>Aspoch1</td>\n",
       "      <td>Aspergillus ochraceoroseus IBT 24754 v1.0</td>\n",
       "      <td>44.2</td>\n",
       "      <td>26</td>\n",
       "      <td>52840</td>\n",
       "      <td>36554</td>\n",
       "      <td>19845</td>\n",
       "      <td>3559</td>\n",
       "      <td>16286</td>\n",
       "    </tr>\n",
       "    <tr>\n",
       "      <th>Cenge3</th>\n",
       "      <td>Cenge3</td>\n",
       "      <td>Cenococcum geophilum 1.58 v2.0</td>\n",
       "      <td>37.5</td>\n",
       "      <td>171</td>\n",
       "      <td>80781</td>\n",
       "      <td>57630</td>\n",
       "      <td>28373</td>\n",
       "      <td>5222</td>\n",
       "      <td>23151</td>\n",
       "    </tr>\n",
       "    <tr>\n",
       "      <th>Conco1</th>\n",
       "      <td>Conco1</td>\n",
       "      <td>Conidiobolus coronatus NRRL28638 v1.0</td>\n",
       "      <td>27.7</td>\n",
       "      <td>38</td>\n",
       "      <td>41143</td>\n",
       "      <td>26361</td>\n",
       "      <td>18881</td>\n",
       "      <td>4099</td>\n",
       "      <td>14782</td>\n",
       "    </tr>\n",
       "    <tr>\n",
       "      <th>Conli1</th>\n",
       "      <td>Conli1</td>\n",
       "      <td>Coniochaeta ligniaria CBS 111746</td>\n",
       "      <td>51.9</td>\n",
       "      <td>42</td>\n",
       "      <td>41572</td>\n",
       "      <td>27217</td>\n",
       "      <td>24418</td>\n",
       "      <td>10063</td>\n",
       "      <td>14355</td>\n",
       "    </tr>\n",
       "    <tr>\n",
       "      <th>Croqu1</th>\n",
       "      <td>Croqu1</td>\n",
       "      <td>Cronartium quercuum f. sp. fusiforme G11 v1.0</td>\n",
       "      <td>41.1</td>\n",
       "      <td>74</td>\n",
       "      <td>83592</td>\n",
       "      <td>64755</td>\n",
       "      <td>24342</td>\n",
       "      <td>5505</td>\n",
       "      <td>18837</td>\n",
       "    </tr>\n",
       "  </tbody>\n",
       "</table>\n",
       "</div>"
      ],
      "text/plain": [
       "          shortName                                       longName    gc  \\\n",
       "shortName                                                                  \n",
       "Aspoch1     Aspoch1      Aspergillus ochraceoroseus IBT 24754 v1.0  44.2   \n",
       "Cenge3       Cenge3                 Cenococcum geophilum 1.58 v2.0  37.5   \n",
       "Conco1       Conco1          Conidiobolus coronatus NRRL28638 v1.0  27.7   \n",
       "Conli1       Conli1               Coniochaeta ligniaria CBS 111746  51.9   \n",
       "Croqu1       Croqu1  Cronartium quercuum f. sp. fusiforme G11 v1.0  41.1   \n",
       "\n",
       "           genomesize_Mb rna_seq_intron rna_seq_intron_unique ES_intron  \\\n",
       "shortName                                                                 \n",
       "Aspoch1               26          52840                 36554     19845   \n",
       "Cenge3               171          80781                 57630     28373   \n",
       "Conco1                38          41143                 26361     18881   \n",
       "Conli1                42          41572                 27217     24418   \n",
       "Croqu1                74          83592                 64755     24342   \n",
       "\n",
       "          ES_intron_unique shared_intron  \n",
       "shortName                                 \n",
       "Aspoch1               3559         16286  \n",
       "Cenge3                5222         23151  \n",
       "Conco1                4099         14782  \n",
       "Conli1               10063         14355  \n",
       "Croqu1                5505         18837  "
      ]
     },
     "execution_count": 72,
     "metadata": {},
     "output_type": "execute_result"
    }
   ],
   "source": [
    "testGenomeRNASeq_ES.head()"
   ]
  },
  {
   "cell_type": "code",
   "execution_count": null,
   "metadata": {
    "collapsed": true
   },
   "outputs": [],
   "source": [
    "####  perform tests on intron with score > 10  ####\n",
    "base_command = '/home/alexl/DISTR/src/pl/compare_cds_exact.pl  -f1'\n",
    "target = '/home/richard/research/5_Tests/Oct15intronCompare/'\n",
    "script = ''\n",
    "for name in shortName:\n",
    "    command = \"{} {} -f2 {} -v -intron >{}\".format(base_command, )"
   ]
  }
 ],
 "metadata": {
  "kernelspec": {
   "display_name": "Python 2",
   "language": "python",
   "name": "python2"
  },
  "language_info": {
   "codemirror_mode": {
    "name": "ipython",
    "version": 2
   },
   "file_extension": ".py",
   "mimetype": "text/x-python",
   "name": "python",
   "nbconvert_exporter": "python",
   "pygments_lexer": "ipython2",
   "version": "2.7.10"
  }
 },
 "nbformat": 4,
 "nbformat_minor": 0
}
