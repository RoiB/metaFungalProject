{
 "cells": [
  {
   "cell_type": "code",
   "execution_count": 3,
   "metadata": {
    "collapsed": true
   },
   "outputs": [],
   "source": [
    "'''\n",
    "Cut Genomes according to 'good' gene filtered by /home/braker/bin/filterGenemark.pl\n",
    "'''\n",
    "import pandas as pd\n",
    "from Bio import SeqIO"
   ]
  },
  {
   "cell_type": "code",
   "execution_count": 9,
   "metadata": {
    "collapsed": false
   },
   "outputs": [
    {
     "data": {
      "text/html": [
       "<div>\n",
       "<table border=\"1\" class=\"dataframe\">\n",
       "  <thead>\n",
       "    <tr style=\"text-align: right;\">\n",
       "      <th></th>\n",
       "      <th>shortName</th>\n",
       "      <th>longName</th>\n",
       "      <th>gc</th>\n",
       "      <th>intronDensityGff</th>\n",
       "      <th>fastaName</th>\n",
       "      <th>gffName</th>\n",
       "      <th>gff3Name</th>\n",
       "    </tr>\n",
       "    <tr>\n",
       "      <th>shortName</th>\n",
       "      <th></th>\n",
       "      <th></th>\n",
       "      <th></th>\n",
       "      <th></th>\n",
       "      <th></th>\n",
       "      <th></th>\n",
       "      <th></th>\n",
       "    </tr>\n",
       "  </thead>\n",
       "  <tbody>\n",
       "    <tr>\n",
       "      <th>Aspoch1</th>\n",
       "      <td>Aspoch1</td>\n",
       "      <td>Aspergillus ochraceoroseus IBT 24754 v1.0</td>\n",
       "      <td>44.2</td>\n",
       "      <td>2.23</td>\n",
       "      <td>Aspoch1_AssemblyScaffolds.fasta.gz</td>\n",
       "      <td>Aspoch1_GeneCatalog_genes_20140127.gff.gz</td>\n",
       "      <td>Aspoch1.filtered_proteins.FilteredModels1.gff3.gz</td>\n",
       "    </tr>\n",
       "    <tr>\n",
       "      <th>Disac1</th>\n",
       "      <td>Disac1</td>\n",
       "      <td>Dissoconium aciculare v1.0</td>\n",
       "      <td>52.7</td>\n",
       "      <td>1.17</td>\n",
       "      <td>Disac1_AssemblyScaffolds.fasta.gz</td>\n",
       "      <td>Disac1_GeneCatalog_genes_20130805.gff.gz</td>\n",
       "      <td>Disac1.filtered_proteins.FilteredModels2.gff3.gz</td>\n",
       "    </tr>\n",
       "    <tr>\n",
       "      <th>Cenge3</th>\n",
       "      <td>Cenge3</td>\n",
       "      <td>Cenococcum geophilum 1.58 v2.0</td>\n",
       "      <td>37.5</td>\n",
       "      <td>1.93</td>\n",
       "      <td>Cenge3_AssemblyScaffolds.fasta.gz</td>\n",
       "      <td>Cenge3_GeneCatalog_genes_20130403.gff.gz</td>\n",
       "      <td>Cenge3.filtered_proteins.FilteredModels1.gff3.gz</td>\n",
       "    </tr>\n",
       "    <tr>\n",
       "      <th>Conli1</th>\n",
       "      <td>Conli1</td>\n",
       "      <td>Coniochaeta ligniaria CBS 111746</td>\n",
       "      <td>51.9</td>\n",
       "      <td>1.98</td>\n",
       "      <td>Conli1_AssemblyScaffolds.fasta.gz</td>\n",
       "      <td>Conli1_GeneCatalog_genes_20130808.gff.gz</td>\n",
       "      <td>Conli1.filtered_proteins.ExternalModels.gff3.gz</td>\n",
       "    </tr>\n",
       "    <tr>\n",
       "      <th>Trias1</th>\n",
       "      <td>Trias1</td>\n",
       "      <td>Trichoderma asperellum CBS 433.97 v1.0</td>\n",
       "      <td>47.3</td>\n",
       "      <td>1.68</td>\n",
       "      <td>Trias1_AssemblyScaffolds.fasta.gz</td>\n",
       "      <td>Trias1_GeneCatalog_genes_20120305.gff.gz</td>\n",
       "      <td>Trias1.filtered_proteins.FilteredModels1.gff3.gz</td>\n",
       "    </tr>\n",
       "  </tbody>\n",
       "</table>\n",
       "</div>"
      ],
      "text/plain": [
       "          shortName                                   longName    gc  \\\n",
       "shortName                                                              \n",
       "Aspoch1     Aspoch1  Aspergillus ochraceoroseus IBT 24754 v1.0  44.2   \n",
       "Disac1       Disac1                 Dissoconium aciculare v1.0  52.7   \n",
       "Cenge3       Cenge3             Cenococcum geophilum 1.58 v2.0  37.5   \n",
       "Conli1       Conli1           Coniochaeta ligniaria CBS 111746  51.9   \n",
       "Trias1       Trias1     Trichoderma asperellum CBS 433.97 v1.0  47.3   \n",
       "\n",
       "           intronDensityGff                           fastaName  \\\n",
       "shortName                                                         \n",
       "Aspoch1                2.23  Aspoch1_AssemblyScaffolds.fasta.gz   \n",
       "Disac1                 1.17   Disac1_AssemblyScaffolds.fasta.gz   \n",
       "Cenge3                 1.93   Cenge3_AssemblyScaffolds.fasta.gz   \n",
       "Conli1                 1.98   Conli1_AssemblyScaffolds.fasta.gz   \n",
       "Trias1                 1.68   Trias1_AssemblyScaffolds.fasta.gz   \n",
       "\n",
       "                                             gffName  \\\n",
       "shortName                                              \n",
       "Aspoch1    Aspoch1_GeneCatalog_genes_20140127.gff.gz   \n",
       "Disac1      Disac1_GeneCatalog_genes_20130805.gff.gz   \n",
       "Cenge3      Cenge3_GeneCatalog_genes_20130403.gff.gz   \n",
       "Conli1      Conli1_GeneCatalog_genes_20130808.gff.gz   \n",
       "Trias1      Trias1_GeneCatalog_genes_20120305.gff.gz   \n",
       "\n",
       "                                                    gff3Name  \n",
       "shortName                                                     \n",
       "Aspoch1    Aspoch1.filtered_proteins.FilteredModels1.gff3.gz  \n",
       "Disac1      Disac1.filtered_proteins.FilteredModels2.gff3.gz  \n",
       "Cenge3      Cenge3.filtered_proteins.FilteredModels1.gff3.gz  \n",
       "Conli1       Conli1.filtered_proteins.ExternalModels.gff3.gz  \n",
       "Trias1      Trias1.filtered_proteins.FilteredModels1.gff3.gz  "
      ]
     },
     "execution_count": 9,
     "metadata": {},
     "output_type": "execute_result"
    }
   ],
   "source": [
    "full_info = pd.read_csv('../1_DataSmall/fullTableInfoGff3GffRNAESwithDensity20150829.csv')\n",
    "full_info.index = full_info.shortName\n",
    "\n",
    "rna_seq_result_path = '/storage3/w/richard/meta2015/placeForRNASeq/'\n",
    "rna_seq_result_shortName = os.listdir(rna_seq_result_path)\n",
    "rna_seq_result_shortName = filter(lambda x: 'Clafu1' not in x, rna_seq_result_shortName)\n",
    "\n",
    "cols = ['shortName','longName','gc','intronDensityGff','fastaName','gffName','gff3Name']\n",
    "supported_set = full_info.loc[rna_seq_result_shortName]  # rna seq data supported set\n",
    "supported_set[cols].head()"
   ]
  },
  {
   "cell_type": "code",
   "execution_count": null,
   "metadata": {
    "collapsed": true
   },
   "outputs": [],
   "source": [
    "def cut_fasta_by_annotation(fastaFile, filteredAnnotation):\n",
    "    '''\n",
    "    20151003\n",
    "    The function take in fasta file and its related filtered annotation\n",
    "    The (multi)fasta file is cut by the CDS of the annotation\n",
    "    '''"
   ]
  },
  {
   "cell_type": "code",
   "execution_count": 15,
   "metadata": {
    "collapsed": false
   },
   "outputs": [],
   "source": [
    "Aspoch1_fasta = SeqIO.parse(\"/storage3/w/richard/meta2015/placeForRNASeq/Aspoch1/data/Aspoch1_AssemblyScaffolds.fasta\",'fasta')"
   ]
  },
  {
   "cell_type": "code",
   "execution_count": 18,
   "metadata": {
    "collapsed": false
   },
   "outputs": [],
   "source": [
    "test = Aspoch1_fasta.next()"
   ]
  },
  {
   "cell_type": "code",
   "execution_count": 21,
   "metadata": {
    "collapsed": false
   },
   "outputs": [
    {
     "name": "stdout",
     "output_type": "stream",
     "text": [
      "ID: scaffold_2\n",
      "Name: scaffold_2\n",
      "Description: scaffold_2\n",
      "Number of features: 0\n",
      "Seq('ACCCTAACCCTAAATTTTTTTCTTAATTAGGAAGTTTATTTACTAATTTAAATT...GTT', SingleLetterAlphabet())\n"
     ]
    }
   ],
   "source": [
    "print test"
   ]
  },
  {
   "cell_type": "code",
   "execution_count": 23,
   "metadata": {
    "collapsed": false
   },
   "outputs": [],
   "source": [
    "test1 = Aspoch1_fasta.next()"
   ]
  },
  {
   "cell_type": "code",
   "execution_count": 24,
   "metadata": {
    "collapsed": false
   },
   "outputs": [
    {
     "name": "stdout",
     "output_type": "stream",
     "text": [
      "ID: scaffold_3\n",
      "Name: scaffold_3\n",
      "Description: scaffold_3\n",
      "Number of features: 0\n",
      "Seq('ACGCGTGATGGAGGCAAAAGAGCGACAAGAGAGTCTGCAGTAAATACAGACCCT...AAT', SingleLetterAlphabet())\n"
     ]
    }
   ],
   "source": [
    "print test1"
   ]
  },
  {
   "cell_type": "code",
   "execution_count": null,
   "metadata": {
    "collapsed": true
   },
   "outputs": [],
   "source": []
  }
 ],
 "metadata": {
  "kernelspec": {
   "display_name": "Python 2",
   "language": "python",
   "name": "python2"
  },
  "language_info": {
   "codemirror_mode": {
    "name": "ipython",
    "version": 2
   },
   "file_extension": ".py",
   "mimetype": "text/x-python",
   "name": "python",
   "nbconvert_exporter": "python",
   "pygments_lexer": "ipython2",
   "version": "2.7.10"
  }
 },
 "nbformat": 4,
 "nbformat_minor": 0
}
