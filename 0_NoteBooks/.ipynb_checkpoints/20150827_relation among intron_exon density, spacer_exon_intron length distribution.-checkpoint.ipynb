{
 "cells": [
  {
   "cell_type": "code",
   "execution_count": 239,
   "metadata": {
    "collapsed": false
   },
   "outputs": [],
   "source": [
    "'''\n",
    "1. Fresh run on all genomes with the lastest GeneMark-ES\n",
    "2. Parse GeneMark-ES output model file in the last run and plot exon/spacer/intron length distribution \n",
    "3. find connect between exon density and the exon/spacer/intron distribution\n",
    "Build class ESModel, to extract information(spacer, exon, intron length distribution)\n",
    "'''\n",
    "import pandas as pd\n",
    "import re\n",
    "import numpy as np\n",
    "import matplotlib.pylab as plt\n",
    "% matplotlib inline\n",
    "fulldata = pd.read_csv(\"../1_DataSmall/fullTableInfoGff3GffRNA.csv\")\n",
    "fulldata.index = fulldata['shortName']\n",
    "# print fulldata.columns\n",
    "\n",
    "# The files under the fastapath were obtained from the script created in 2_Consolidation\n",
    "# buildingMarkovModel part\n",
    "fastaPath =\"/home/richard/largeDataSet/genomeFasta/\" \n",
    "targetConvergePath = \"/home/richard/largeDataSet/ES_Run_Result_Aug27/\"\n",
    "targetPath = \"/scratch/fungi/ES_Run_Aug2015/\""
   ]
  },
  {
   "cell_type": "code",
   "execution_count": 78,
   "metadata": {
    "collapsed": false
   },
   "outputs": [
    {
     "name": "stdout",
     "output_type": "stream",
     "text": [
      "Number of nodes active: 31\n",
      "problem with Neute_matA2\n",
      "problem with Pospl1\n",
      "problem with Crypa2\n",
      "problem with Ustma1\n",
      "problem with Sporo1\n"
     ]
    }
   ],
   "source": [
    "## make scripts to run GeneMark-ES that distribute the work to m machines\n",
    "\n",
    "\n",
    "##########################################################################\n",
    "# first of all, copy fasta files to nodes local drive: scratch\n",
    "# command to check is nodes are good: for((i=10;i<34;i++)); do ssh node0\"$i\" echo \"$i\";done\n",
    "# nodes 007, 031 fails\n",
    "nodeNum = [\"00\"+str(i) for i in range(1,34) if i!=7 and i!=31]; nodeNum = map(lambda x: \"node\"+x[-3:], nodeNum)\n",
    "print \"Number of nodes active:\",len(nodeNum)\n",
    "numNode = len(nodeNum)\n",
    "\n",
    "# split shortName column as a list of 31 sublist\n",
    "shortName = list(fulldata['shortName'])\n",
    "shortNameSublists = [shortName[i::numNode] for i in range(numNode)]\n",
    "\n",
    "# assign each node a sublist of shortName\n",
    "nodeJob = zip(nodeNum,shortNameSublists)\n",
    "\n",
    "# make folder ES_Run_Aug2015 on each node's local drive, /scratch/fungi/ and copy the relavent shortName folder\n",
    "# mkdir to nodes was performed on command line\n",
    "script = \"\"\n",
    "for node,shorNames in nodeJob:\n",
    "    for shortName in shorNames:\n",
    "        script += \"ssh {} cp -r {}{} {}\\n\".format(node,fastaPath,shortName, targetPath)\n",
    "with open(\"/home/richard/tempFile/cp_fasta.sh\",'w') as f: f.write(script)\n",
    "##########################################################################\n",
    "\n",
    "##########################################################################\n",
    "#execute GeneMark-ES on from each node\n",
    "\n",
    "es_command = \"/home/alexl/DISTR/gmes_petap/gmes_petap.pl --ES --fungus --min_contig 10000 --cores 8 --v  --seq \"\n",
    "script = \"\"\n",
    "for node,shorNames in nodeJob:\n",
    "    for shortName in shorNames:\n",
    "        try:\n",
    "            script += 'nohup ssh {} \"cd {}{}; {}{}; cd ..\" &\\n '.format(node,targetPath,shortName,es_command,fulldata.loc[shortName]['fastaName'][:-3])\n",
    "        except:\n",
    "            print \"problem with\",shortName\n",
    "with open(\"/home/richard/tempFile/run_ES_Aug2015.sh\",'w') as f: f.write(script)  \n",
    "\n",
    "# print script\n",
    "##########################################################################\n",
    "## The above script has problem\n",
    "## the correct way to do it is to add nohup the first time it use a new node\n",
    "\n",
    "## copy mod file on the 4th run\n",
    "modfilePath = \"run/ES_C_4/ES_C_4.mod\"\n",
    "targetModPath = \"/home/richard/largeDataSet/ES_Run_modfileAug2015/\"\n",
    "script = \"\"\n",
    "for node,shorNames in nodeJob:\n",
    "    for shortName in shorNames:\n",
    "        script += 'ssh {} cp {}{}/{} {}{}.ES_C_4.mod\\n'.format(node, targetPath, shortName,modfilePath,targetModPath, shortName)\n",
    "with open(\"/home/richard/tempFile/cp_run_ES_mod_Aug2015.sh\",'w') as f: f.write(script)  "
   ]
  },
  {
   "cell_type": "code",
   "execution_count": 220,
   "metadata": {
    "collapsed": false
   },
   "outputs": [
    {
     "name": "stdout",
     "output_type": "stream",
     "text": [
      "There were 71 genomes failed GeneMark-ES run.\n"
     ]
    }
   ],
   "source": [
    "## create an extra column of label to point out if ES is successful\n",
    "## parse from the nohup file to capture ES failure\n",
    "ES_fail_text = \"\"\n",
    "with open(\"/home/richard/research/1_DataSmall/textToBeParsed/ES_output_20150828.txt\") as f: ES_fail_text = f.read()\n",
    "## capture failure by regular expression\n",
    "pattern = \"ES_Run_Aug2015\\/(.*?)\\/run/ES_C_4\"\n",
    "shortNamefailedES = set(re.findall(pattern, ES_fail_text))\n",
    "print \"There were {} genomes failed GeneMark-ES run.\".format(len(shortNamefailedES))\n",
    "\n",
    "# add the column to fulldata set\n",
    "ES = ['pass' for i in range(fulldata.shape[0])]\n",
    "fulldata['ES'] = ES; \n",
    "for shortName in shortNamefailedES: fulldata.loc[shortName,'ES'] = 'fail'\n",
    "noGenomeSpecies = ['Neute_matA2','Pospl1','Crypa2','Ustma1','Sporo1']\n",
    "for shortName in noGenomeSpecies: fulldata.loc[shortName,'ES'] = 'NA'\n",
    "fulldata.to_csv(\"/home/richard/research/1_DataSmall/fullTableInfoGff3GffRNAES_20150828.csv\", index = None)"
   ]
  },
  {
   "cell_type": "code",
   "execution_count": 194,
   "metadata": {
    "collapsed": false
   },
   "outputs": [
    {
     "data": {
      "text/plain": [
       "8"
      ]
     },
     "execution_count": 194,
     "metadata": {},
     "output_type": "execute_result"
    }
   ],
   "source": [
    "############################################\n",
    "spacerData = []\n",
    "switch = False\n",
    "with open(\"/home/richard/largeDataSet/ES_Run_modfileAug2015/Aaoar1.ES_C_4.mod\") as f:\n",
    "    for line in f:\n",
    "        if switch:\n",
    "            spacerData.append(line)\n",
    "        if \"$BP_ACC_DISTR\" in line:\n",
    "            switch = True\n",
    "        if \"40\\t\" in line:\n",
    "            switch = False\n",
    "            break\n",
    "            \n",
    "spacerData = map(lambda line: line.rstrip().split(\"\\t\"), spacerData)\n",
    "spacerDistr = map(lambda (a,b): float(b), spacerData)\n",
    "positionProb = np.array(spacerDistr)\n",
    "# print positionProb\n",
    "range(2,41)[positionProb.argmax()]\n",
    "##############################################"
   ]
  },
  {
   "cell_type": "code",
   "execution_count": 207,
   "metadata": {
    "collapsed": false
   },
   "outputs": [],
   "source": [
    "## Build class ESModel, to extract information(spacer, exon, intron length distribution)\n",
    "class ESModel():\n",
    "    \"\"\"Take in 4th run of model file as text and extract info\"\"\"\n",
    "    def __init__(self, filename):\n",
    "        self.f = open(filename)\n",
    "    \n",
    "    def maxSpacerPosition(self):\n",
    "        '''\n",
    "        return the position with the highest probability\n",
    "        '''\n",
    "        spacerData = []\n",
    "        switch = False\n",
    "        for line in self.f:\n",
    "            if switch:\n",
    "                spacerData.append(line)\n",
    "            if \"$BP_ACC_DISTR\" in line:\n",
    "                switch = True\n",
    "            if \"40\\t\" in line:\n",
    "                switch = False\n",
    "                break\n",
    "\n",
    "        spacerData = map(lambda line: line.rstrip().split(\"\\t\"), spacerData)\n",
    "        spacerDistr = map(lambda (a,b): float(b), spacerData)\n",
    "        positionProb = np.array(spacerDistr)\n",
    "        # print positionProb\n",
    "        return range(2,41)[positionProb.argmax()]\n",
    "    \n",
    "    def closeModel(self):\n",
    "        self.f.close()"
   ]
  },
  {
   "cell_type": "code",
   "execution_count": 263,
   "metadata": {
    "collapsed": false
   },
   "outputs": [],
   "source": [
    "## add columns for exon density according to gff3, if gff3 is not available, use gff\n",
    "fulldata = pd.read_csv(\"../1_DataSmall/fullTableInfoGff3GffRNAES_20150828.csv\")\n",
    "exonDensityGff3 = fulldata['numExonGff3']/fulldata['numGeneGff3']\n",
    "exonDensityGff = fulldata['numExonGff']/fulldata['numGeneGff']\n",
    "fulldata['exonDensityGff3'] = exonDensityGff3\n",
    "fulldata['exonDensityGff'] = exonDensityGff\n",
    "\n",
    "fulldata.index = fulldata['shortName']\n",
    "cols = ['shortName', 'longName', 'fastaName', 'gffName', 'gff3Name', 'gc', 'numGeneGff3', 'numExonGff3', 'exonDensityGff3', 'numIntronGff3', 'intronDensityGff3', 'numGeneGff', 'numExonGff', 'exonDensityGff', 'numIntronGff', 'intronDensityGff', 'rnaSeqCount', 'ES']\n",
    "fulldata = fulldata[cols]\n",
    "fulldata.to_csv(\"/home/richard/research/1_DataSmall/fullTableInfoGff3GffRNAESwithDensity20150829.csv\", index = None)"
   ]
  },
  {
   "cell_type": "code",
   "execution_count": 319,
   "metadata": {
    "collapsed": false,
    "scrolled": true
   },
   "outputs": [
    {
     "data": {
      "text/plain": [
       "<matplotlib.text.Text at 0x7f57c14ad3d0>"
      ]
     },
     "execution_count": 319,
     "metadata": {},
     "output_type": "execute_result"
    },
    {
     "data": {
      "image/png": "[encoded data removed]",
      "text/plain": [
       "<matplotlib.figure.Figure at 0x7f57c1f1b810>"
      ]
     },
     "metadata": {},
     "output_type": "display_data"
    }
   ],
   "source": [
    "## generate plot of spacer length distribution and figure out the relation between exon density\n",
    "## find the exon density VS max position\n",
    "exonDensityExonDistrPair = []\n",
    "modelFilePath = \"/home/richard/largeDataSet/ES_Run_modfileAug2015/\"\n",
    "for shortName in fulldata.index:\n",
    "    if fulldata.loc[shortName,'ES'] == 'pass':\n",
    "        filepath = \"{}{}{}\".format(modelFilePath, shortName,\".ES_C_4.mod\")\n",
    "        model = ESModel(filepath)\n",
    "        ## make a list of 3-tuple, shortName, gc, maxSpacerPosition\n",
    "        exonDensity1 = fulldata.loc[shortName,'exonDensityGff3']\n",
    "        exonDensity2 = fulldata.loc[shortName,'exonDensityGff']\n",
    "        exonDensity = exonDensity1 if pd.isnull(exonDensity1) else exonDensity2\n",
    "        exonDensityExonDistrPair.append((shortName,exonDensity,model.maxSpacerPosition())) # need to pair this with gc\n",
    "#         print filepath\n",
    "data = np.array(exonDensityExonDistrPair)\n",
    "plt.plot(data[:,1], data[:,2], \"o\")\n",
    "plt.xlabel(\"Exon Density\")\n",
    "plt.ylabel(\"Position of Spacer with max probability\")\n",
    "plt.title(\"Max Probability Spacer position VS Exon Density\")"
   ]
  }
 ],
 "metadata": {
  "kernelspec": {
   "display_name": "Python 2",
   "language": "python",
   "name": "python2"
  },
  "language_info": {
   "codemirror_mode": {
    "name": "ipython",
    "version": 2
   },
   "file_extension": ".py",
   "mimetype": "text/x-python",
   "name": "python",
   "nbconvert_exporter": "python",
   "pygments_lexer": "ipython2",
   "version": "2.7.10"
  }
 },
 "nbformat": 4,
 "nbformat_minor": 0
}
