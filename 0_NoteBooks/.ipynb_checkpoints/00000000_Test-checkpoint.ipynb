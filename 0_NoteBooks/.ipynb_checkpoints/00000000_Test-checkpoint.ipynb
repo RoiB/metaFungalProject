{
 "cells": [
  {
   "cell_type": "code",
   "execution_count": 2,
   "metadata": {
    "collapsed": false,
    "scrolled": true
   },
   "outputs": [
    {
     "ename": "KeyError",
     "evalue": "'the label [-f] is not in the [index]'",
     "output_type": "error",
     "traceback": [
      "\u001b[1;31m---------------------------------------------------------------------------\u001b[0m",
      "\u001b[1;31mKeyError\u001b[0m                                  Traceback (most recent call last)",
      "\u001b[1;32m<ipython-input-2-6144b36ca4c1>\u001b[0m in \u001b[0;36m<module>\u001b[1;34m()\u001b[0m\n\u001b[0;32m     68\u001b[0m \u001b[1;33m\u001b[0m\u001b[0m\n\u001b[0;32m     69\u001b[0m \u001b[1;32mif\u001b[0m \u001b[0m__name__\u001b[0m \u001b[1;33m==\u001b[0m \u001b[1;34m'__main__'\u001b[0m\u001b[1;33m:\u001b[0m\u001b[1;33m\u001b[0m\u001b[0m\n\u001b[1;32m---> 70\u001b[1;33m     \u001b[0mmain\u001b[0m\u001b[1;33m(\u001b[0m\u001b[1;33m)\u001b[0m\u001b[1;33m\u001b[0m\u001b[0m\n\u001b[0m",
      "\u001b[1;32m<ipython-input-2-6144b36ca4c1>\u001b[0m in \u001b[0;36mmain\u001b[1;34m()\u001b[0m\n\u001b[0;32m     15\u001b[0m \u001b[1;33m\u001b[0m\u001b[0m\n\u001b[0;32m     16\u001b[0m \u001b[1;33m\u001b[0m\u001b[0m\n\u001b[1;32m---> 17\u001b[1;33m     \u001b[0mfastaName\u001b[0m \u001b[1;33m=\u001b[0m \u001b[0mfullTable\u001b[0m\u001b[1;33m.\u001b[0m\u001b[0mloc\u001b[0m\u001b[1;33m[\u001b[0m\u001b[0mshortName\u001b[0m\u001b[1;33m]\u001b[0m\u001b[1;33m[\u001b[0m\u001b[1;34m'fastaName'\u001b[0m\u001b[1;33m]\u001b[0m\u001b[1;33m\u001b[0m\u001b[0m\n\u001b[0m\u001b[0;32m     18\u001b[0m \u001b[1;33m\u001b[0m\u001b[0m\n\u001b[0;32m     19\u001b[0m     \u001b[0midx\u001b[0m \u001b[1;33m=\u001b[0m \u001b[1;33m(\u001b[0m\u001b[0mRNASeqFileInfo\u001b[0m\u001b[1;33m[\u001b[0m\u001b[1;34m'shortName'\u001b[0m\u001b[1;33m]\u001b[0m \u001b[1;33m==\u001b[0m \u001b[0mshortName\u001b[0m\u001b[1;33m)\u001b[0m\u001b[1;33m;\u001b[0m\u001b[1;33m\u001b[0m\u001b[0m\n",
      "\u001b[1;32m/home/richard/anaconda/lib/python2.7/site-packages/pandas/core/indexing.pyc\u001b[0m in \u001b[0;36m__getitem__\u001b[1;34m(self, key)\u001b[0m\n\u001b[0;32m   1187\u001b[0m             \u001b[1;32mreturn\u001b[0m \u001b[0mself\u001b[0m\u001b[1;33m.\u001b[0m\u001b[0m_getitem_tuple\u001b[0m\u001b[1;33m(\u001b[0m\u001b[0mkey\u001b[0m\u001b[1;33m)\u001b[0m\u001b[1;33m\u001b[0m\u001b[0m\n\u001b[0;32m   1188\u001b[0m         \u001b[1;32melse\u001b[0m\u001b[1;33m:\u001b[0m\u001b[1;33m\u001b[0m\u001b[0m\n\u001b[1;32m-> 1189\u001b[1;33m             \u001b[1;32mreturn\u001b[0m \u001b[0mself\u001b[0m\u001b[1;33m.\u001b[0m\u001b[0m_getitem_axis\u001b[0m\u001b[1;33m(\u001b[0m\u001b[0mkey\u001b[0m\u001b[1;33m,\u001b[0m \u001b[0maxis\u001b[0m\u001b[1;33m=\u001b[0m\u001b[1;36m0\u001b[0m\u001b[1;33m)\u001b[0m\u001b[1;33m\u001b[0m\u001b[0m\n\u001b[0m\u001b[0;32m   1190\u001b[0m \u001b[1;33m\u001b[0m\u001b[0m\n\u001b[0;32m   1191\u001b[0m     \u001b[1;32mdef\u001b[0m \u001b[0m_getitem_axis\u001b[0m\u001b[1;33m(\u001b[0m\u001b[0mself\u001b[0m\u001b[1;33m,\u001b[0m \u001b[0mkey\u001b[0m\u001b[1;33m,\u001b[0m \u001b[0maxis\u001b[0m\u001b[1;33m=\u001b[0m\u001b[1;36m0\u001b[0m\u001b[1;33m)\u001b[0m\u001b[1;33m:\u001b[0m\u001b[1;33m\u001b[0m\u001b[0m\n",
      "\u001b[1;32m/home/richard/anaconda/lib/python2.7/site-packages/pandas/core/indexing.pyc\u001b[0m in \u001b[0;36m_getitem_axis\u001b[1;34m(self, key, axis)\u001b[0m\n\u001b[0;32m   1331\u001b[0m \u001b[1;33m\u001b[0m\u001b[0m\n\u001b[0;32m   1332\u001b[0m         \u001b[1;31m# fall thru to straight lookup\u001b[0m\u001b[1;33m\u001b[0m\u001b[1;33m\u001b[0m\u001b[0m\n\u001b[1;32m-> 1333\u001b[1;33m         \u001b[0mself\u001b[0m\u001b[1;33m.\u001b[0m\u001b[0m_has_valid_type\u001b[0m\u001b[1;33m(\u001b[0m\u001b[0mkey\u001b[0m\u001b[1;33m,\u001b[0m \u001b[0maxis\u001b[0m\u001b[1;33m)\u001b[0m\u001b[1;33m\u001b[0m\u001b[0m\n\u001b[0m\u001b[0;32m   1334\u001b[0m         \u001b[1;32mreturn\u001b[0m \u001b[0mself\u001b[0m\u001b[1;33m.\u001b[0m\u001b[0m_get_label\u001b[0m\u001b[1;33m(\u001b[0m\u001b[0mkey\u001b[0m\u001b[1;33m,\u001b[0m \u001b[0maxis\u001b[0m\u001b[1;33m=\u001b[0m\u001b[0maxis\u001b[0m\u001b[1;33m)\u001b[0m\u001b[1;33m\u001b[0m\u001b[0m\n\u001b[0;32m   1335\u001b[0m \u001b[1;33m\u001b[0m\u001b[0m\n",
      "\u001b[1;32m/home/richard/anaconda/lib/python2.7/site-packages/pandas/core/indexing.pyc\u001b[0m in \u001b[0;36m_has_valid_type\u001b[1;34m(self, key, axis)\u001b[0m\n\u001b[0;32m   1293\u001b[0m                 \u001b[1;32mraise\u001b[0m\u001b[1;33m\u001b[0m\u001b[0m\n\u001b[0;32m   1294\u001b[0m             \u001b[1;32mexcept\u001b[0m\u001b[1;33m:\u001b[0m\u001b[1;33m\u001b[0m\u001b[0m\n\u001b[1;32m-> 1295\u001b[1;33m                 \u001b[0merror\u001b[0m\u001b[1;33m(\u001b[0m\u001b[1;33m)\u001b[0m\u001b[1;33m\u001b[0m\u001b[0m\n\u001b[0m\u001b[0;32m   1296\u001b[0m \u001b[1;33m\u001b[0m\u001b[0m\n\u001b[0;32m   1297\u001b[0m         \u001b[1;32mreturn\u001b[0m \u001b[0mTrue\u001b[0m\u001b[1;33m\u001b[0m\u001b[0m\n",
      "\u001b[1;32m/home/richard/anaconda/lib/python2.7/site-packages/pandas/core/indexing.pyc\u001b[0m in \u001b[0;36merror\u001b[1;34m()\u001b[0m\n\u001b[0;32m   1280\u001b[0m                         \"cannot use label indexing with a null key\")\n\u001b[0;32m   1281\u001b[0m                 raise KeyError(\"the label [%s] is not in the [%s]\" %\n\u001b[1;32m-> 1282\u001b[1;33m                                (key, self.obj._get_axis_name(axis)))\n\u001b[0m\u001b[0;32m   1283\u001b[0m \u001b[1;33m\u001b[0m\u001b[0m\n\u001b[0;32m   1284\u001b[0m             \u001b[1;32mtry\u001b[0m\u001b[1;33m:\u001b[0m\u001b[1;33m\u001b[0m\u001b[0m\n",
      "\u001b[1;31mKeyError\u001b[0m: 'the label [-f] is not in the [index]'"
     ]
    }
   ],
   "source": [
    "import pandas as pd\n",
    "import sys\n",
    "\n",
    "def main():\n",
    "    fullTable = pd.read_csv(\"/home/richard/research/1_DataSmall/fullTableInfoGff3GffRNA.csv\")\n",
    "    fullTable.index = fullTable['shortName']\n",
    "    RNASeqFileInfo = pd.read_csv(\"/home/richard/research/1_DataSmall/rnaSeqFileList.csv\")\n",
    "    dataForRNASeq = '/storage3/w/richard/meta2015/dataForRNASeq/'\n",
    "    placeForRNASeq = '/storage3/w/richard/meta2015/placeForRNASeq/'\n",
    "    dataPath = '/storage3/w/richard/meta2015/fasta_gff_gtf_07302015/'\n",
    "    tempPath = '/storage3/w/richard/tempFile/'\n",
    "    logPath = '/storage3/w/richard/meta2015/logFile/'\n",
    "\n",
    "    shortName = sys.argv[1]\n",
    "\n",
    "\n",
    "    fastaName = fullTable.loc[shortName]['fastaName']\n",
    "\n",
    "    idx = (RNASeqFileInfo['shortName'] == shortName); \n",
    "    rnaSeqFileNames = RNASeqFileInfo['fileName'].loc[idx]\n",
    "    rnaSeqFileURLs = RNASeqFileInfo['URL'].loc[idx]\n",
    "\n",
    "    # make script for the whole process of rna seq, prep -> ran-seq\n",
    "    # create directory\n",
    "    script = 'cd {}\\n'.format(placeForRNASeq)\n",
    "    script += 'mkdir {0}\\ncd {0}\\n'.format(shortName)\n",
    "\n",
    "    # prep folders\n",
    "    script += 'mkdir arx data data/starg star\\n'\n",
    "\n",
    "    # copy genome file and unzip it\n",
    "    script += 'cp {}{}/{} ./data\\n'.format(dataPath, shortName, fastaName)\n",
    "    script += 'gunzip ./data/{}\\n'.format(fastaName)\n",
    "\n",
    "    # get RNA-seq \n",
    "    script += 'cd arx\\n'\n",
    "    for fileName in rnaSeqFileNames:\n",
    "        script += 'cp {}{} .\\n'.format(dataForRNASeq,fileName)\n",
    "        script += '/home/tool/sratoolkit/bin/fastq-dump --split-3 {}\\n'.format(fileName)\n",
    "\n",
    "    # prepare genome for star\n",
    "    script += 'cd ../data/starg\\n'\n",
    "    script += '/home/tool/STAR/source/STAR --runMode genomeGenerate --genomeDir . --genomeFastaFiles ../{} --runThreadN 8\\n'.format(fastaName[:-3])\n",
    "\n",
    "    ## run rna-seq\n",
    "    # generate run_star.sh\n",
    "    script += \"cd ../../star\\n\"\n",
    "\n",
    "    ################################################################################\n",
    "    ################################################################################\n",
    "    #######################  generate seperate file ################################\n",
    "    runStar = \"nohup /home/tool/STAR/source/STAR --genomeDir ../data/starg --runThreadN 8 --readFilesIn \"\n",
    "    group1, group2 = [], []\n",
    "    for fileName in rnaSeqFileNames:\n",
    "        group1.append('../arx/'+fileName[:-4]+'_1.fastq')\n",
    "        group2.append('../arx/'+fileName[:-4]+'_2.fastq')\n",
    "    runStar += ','.join(group1) + ' '\n",
    "    runStar += ','.join(group2) + ' > loginfo &\\n'\n",
    "    with open(tempPath+'run_star_'+shortName+'.sh', 'w') as f: f.write(runStar)\n",
    "    ################################################################################\n",
    "    ################################################################################\n",
    "\n",
    "    # copy and execute run_star.sh\n",
    "    script += 'cp {}run_star_{}.sh .\\n'.format(tempPath,shortName)\n",
    "    script += 'bash run_star_{}.sh &\\n'.format(shortName)\n",
    "\n",
    "    with open(\"{}rnaSeq_{}.sh\".format(logPath,shortName), 'w') as f: f.write(script)\n",
    "        \n",
    "if __name__ == '__main__':\n",
    "    main()"
   ]
  },
  {
   "cell_type": "code",
   "execution_count": 7,
   "metadata": {
    "collapsed": false
   },
   "outputs": [
    {
     "name": "stdout",
     "output_type": "stream",
     "text": [
      "cd /storage3/w/richard/meta2015/dataForRNASeq/\n",
      "wget ftp://ftp-trace.ncbi.nlm.nih.gov/sra/sra-instant/reads/ByRun/sra/SRR/SRR427/SRR427199/SRR427199.sra\n",
      "wget ftp://ftp-trace.ncbi.nlm.nih.gov/sra/sra-instant/reads/ByRun/sra/SRR/SRR427/SRR427198/SRR427198.sra\n",
      "wget ftp://ftp-trace.ncbi.nlm.nih.gov/sra/sra-instant/reads/ByRun/sra/SRR/SRR427/SRR427196/SRR427196.sra\n",
      "wget ftp://ftp-trace.ncbi.nlm.nih.gov/sra/sra-instant/reads/ByRun/sra/SRR/SRR427/SRR427200/SRR427200.sra\n",
      "wget ftp://ftp-trace.ncbi.nlm.nih.gov/sra/sra-instant/reads/ByRun/sra/SRR/SRR427/SRR427197/SRR427197.sra\n",
      "\n",
      "please run bash /storage3/w/richard/meta2015/logFile/getRNASeqData_Croqu1.sh to download rna seq file and wait util it's done\n"
     ]
    }
   ],
   "source": [
    "import pandas as pd\n",
    "import sys\n",
    "def main():\n",
    "    logPath = '/storage3/w/richard/meta2015/logFile/'\n",
    "    RNASeqFileInfo = pd.read_csv(\"/home/richard/research/1_DataSmall/rnaSeqFileList.csv\")\n",
    "    dataForRNASeq = '/storage3/w/richard/meta2015/dataForRNASeq/'\n",
    "\n",
    "    shortName = sys.argv[1]\n",
    "    # make script to download rna seq\n",
    "    script_rna = 'cd {}\\n'.format(dataForRNASeq)\n",
    "    idx = RNASeqFileInfo['shortName'] == shortName;\n",
    "    for URL in RNASeqFileInfo.loc[idx]['URL']:\n",
    "        script_rna+=\"wget {}\\n\".format(URL)\n",
    "    print script_rna\n",
    "    with open(\"{}getRNASeqData_{}.sh\".format(logPath, shortName), 'w') as f: f.write(script_rna)\n",
    "    print \"please run bash {}getRNASeqData_{}.sh to download rna seq file and wait util it's done\".format(logPath,shortName)\n",
    "    \n",
    "\n",
    "if __name__ == '__main__':\n",
    "    main()"
   ]
  }
 ],
 "metadata": {
  "kernelspec": {
   "display_name": "Python 2",
   "language": "python",
   "name": "python2"
  },
  "language_info": {
   "codemirror_mode": {
    "name": "ipython",
    "version": 2
   },
   "file_extension": ".py",
   "mimetype": "text/x-python",
   "name": "python",
   "nbconvert_exporter": "python",
   "pygments_lexer": "ipython2",
   "version": "2.7.10"
  }
 },
 "nbformat": 4,
 "nbformat_minor": 0
}
