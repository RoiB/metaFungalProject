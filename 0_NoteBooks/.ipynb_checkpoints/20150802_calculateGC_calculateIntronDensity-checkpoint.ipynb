{
 "cells": [
  {
   "cell_type": "code",
   "execution_count": 29,
   "metadata": {
    "collapsed": false
   },
   "outputs": [],
   "source": [
    "'''\n",
    "cp fasta file to temp, unzip it, calculate gc and delete the file\n",
    "cp gff3 files to temp, unzip them, calculate intron density and delete all of them\n",
    "'''\n",
    "import pandas as pd\n",
    "from BCBio.GFF import GFFExaminer\n",
    "completeInfo = pd.read_csv(\"../1_Data/2_completeFileInfo.csv\")"
   ]
  },
  {
   "cell_type": "code",
   "execution_count": 31,
   "metadata": {
    "collapsed": true
   },
   "outputs": [],
   "source": [
    "folderPath = \"/home/richard/research/1_Data/fasta_gff_gtf_07302015\" #short names\n",
    "basePath = \"/home/richard/research/tempFile/\" #folder where files are manipulated"
   ]
  },
  {
   "cell_type": "code",
   "execution_count": 32,
   "metadata": {
    "collapsed": false
   },
   "outputs": [],
   "source": [
    "## Calculate genome gc\n",
    "script = \"\"\n",
    "for i in range(completeInfo.shape[0]):\n",
    "    ## copy file\n",
    "    fastaName = completeInfo.loc[i]['fastaName']\n",
    "    script += \"cp {}/{}/{} {}\\n\".format(folderPath, \n",
    "                                        completeInfo.loc[i]['shortName'], \n",
    "                                        fastaName,\n",
    "                                        basePath)\n",
    "    ## unzip\n",
    "    script += \"gunzip {}\\n\".format(fastaName)\n",
    "    ## calculate gc\n",
    "    script += 'probuild --gc --seq {} | grep -o \"\\S\\S\\.\\S\" >> genomeGC.csv\\n'.format(fastaName[:-3])\n",
    "    ## remove file\n",
    "    script += \"rm {}\\n\".format(fastaName[:-3])\n",
    "    ## another empty line\n",
    "    script += \"\\n\"\n",
    "with open(\"../tempFile/genomeGC.sh\",\"w\") as f: f.write(script)\n",
    "    \n",
    "# print script\n",
    "\n",
    "# consolidate genome gc into\n",
    "genomeGC = pd.read_csv(\"../tempFile/genomeGC.csv\",header = None)\n",
    "completeInfo['gc'] = genomeGC"
   ]
  },
  {
   "cell_type": "code",
   "execution_count": null,
   "metadata": {
    "collapsed": false
   },
   "outputs": [
    {
     "name": "stdout",
     "output_type": "stream",
     "text": [
      " intron problem:  Antlo1.filtered_proteins.ExternalModels.gff3.gz\n",
      "intron problem: "
     ]
    }
   ],
   "source": [
    "## prepare for intron density calculate \n",
    "## copy, unzip files and add intron to files\n",
    "script = \"\"\n",
    "for i in range(completeInfo.shape[0]):\n",
    "    gff3Name = completeInfo.loc[i]['gff3Name']\n",
    "    ## copy file\n",
    "    script += \"cp {}/{}/{} {}\\n\".format(folderPath, \n",
    "                                        completeInfo.loc[i]['shortName'], \n",
    "                                        gff3Name,\n",
    "                                        basePath)\n",
    "    ## unzip\n",
    "    script += \"gunzip {}\\n\".format(gff3Name)\n",
    "    ## add intron\n",
    "    script += '/home/tool/gt/bin/gt gff3 -force -addintrons -o {} {}\\n'.format(\"withIntron_\"+gff3Name[:-3], gff3Name[:-3])\n",
    "    ## another empty line\n",
    "    script += \"\\n\"\n",
    "    \n",
    "with open(\"../tempFile/gff3Annotation.sh\",\"w\") as f: f.write(script)\n",
    "# print script"
   ]
  },
  {
   "cell_type": "code",
   "execution_count": null,
   "metadata": {
    "collapsed": true
   },
   "outputs": [],
   "source": [
    "## caluclate intron density (by biopython extra package: GFFExaminer from BCBio.GFF)\n",
    "num_gene = []\n",
    "num_intron = []\n",
    "num_exon = []\n",
    "\n",
    "for i in range(completeInfo.shape[0]):\n",
    "    \n",
    "    gff3Name = completeInfo.loc[i]['gff3Name']\n",
    "    \n",
    "    print \"{}, Working on {}.....\".format(i,gff3Name)\n",
    "    \n",
    "    examiner = GFFExaminer()\n",
    "    in_handle = open(basePath+\"withIntron_\"+gff3Name[:-3])\n",
    "    test = examiner.available_limits(in_handle)\n",
    "    \n",
    "    try:\n",
    "        num_gene.append(test['gff_type'][('gene',)])\n",
    "    except:\n",
    "        print \"gene problem: \", gff3Name \n",
    "        num_gene.append(0)\n",
    "        \n",
    "    try:\n",
    "        num_exon.append(test['gff_type'][('exon',)])\n",
    "    except:\n",
    "        print \"exon problem: \", gff3Name \n",
    "        num_exon.append(0)\n",
    "    \n",
    "    try:\n",
    "        num_intron.append(test['gff_type'][('intron',)])\n",
    "    except:\n",
    "        print \"intron problem: \", gff3Name \n",
    "        num_intron.append(0)\n",
    "\n",
    "    in_handle.close()"
   ]
  }
 ],
 "metadata": {
  "kernelspec": {
   "display_name": "Python 2",
   "language": "python",
   "name": "python2"
  },
  "language_info": {
   "codemirror_mode": {
    "name": "ipython",
    "version": 2
   },
   "file_extension": ".py",
   "mimetype": "text/x-python",
   "name": "python",
   "nbconvert_exporter": "python",
   "pygments_lexer": "ipython2",
   "version": "2.7.10"
  }
 },
 "nbformat": 4,
 "nbformat_minor": 0
}
