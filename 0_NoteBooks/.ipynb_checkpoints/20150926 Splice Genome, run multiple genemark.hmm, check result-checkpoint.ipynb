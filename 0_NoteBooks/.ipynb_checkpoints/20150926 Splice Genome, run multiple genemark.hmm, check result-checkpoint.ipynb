{
 "cells": [
  {
   "cell_type": "code",
   "execution_count": 92,
   "metadata": {
    "collapsed": true
   },
   "outputs": [],
   "source": [
    "'''\n",
    "make program that automatically slice sequence to the length desired\n",
    "the output filenames will have the following:\n",
    "1. shortname\n",
    "2. chromosome name\n",
    "3. start, stop, position, index start with 1(instead of 0)\n",
    "'''\n",
    "from Bio import SeqIO\n",
    "from Bio.SeqRecord import SeqRecord\n",
    "META_SEQ_LENGTH = 10000\n",
    "\n",
    "import subprocess\n",
    "import os"
   ]
  },
  {
   "cell_type": "code",
   "execution_count": 74,
   "metadata": {
    "collapsed": false
   },
   "outputs": [
    {
     "name": "stdout",
     "output_type": "stream",
     "text": [
      "chromosome_1\n",
      "GATCACGTACATCACCTTGTAAGAATTTATCTGCAATAGTCCTTCGGTATTGTACATTGTTCCAAGCATAGTAAACTAACGATATCAAGTTTGCCTTTCTAGCCCATGACCTACAGTCAGAAGTGTAAGCCATATCACTGTCGGCATGTTCAAACTTTGTCAAACCACAAAATAAACAAAGTCCTTGAAATCGAATACGTAGTTTACATTCTCGCAAGTTGTGGTCGGCCTTGCCACATTTATAACAAGTAGATAAGCGTACGGGGCATGCTTTCCCGGTATGAGCACGAATTTCTGTGTCTGGGTTACCAAGAGTGCAACTTAGACATTCATCTTTATACACTCGAAAGAATCGCTCGAGTTGTGCTGAAATGTCAGTTGAGTCTACCCATTGTTTTTTGACGGCTTGCACACGACTTTTATACTCGGCGAAATGAATGGTACGAGAATCAACATCACCATCACCATCACCATCACCAATACCAATACCAATACCAACAATACCACTCATACCTCCAACACTACCATGAACACGATTCATGTCATGGTTGACGCCCTGTTGTACATTGTTCAAATGTTCATCGTATGTGCGTTTATGACCACGACGATGGCTGAGCGACATGTCTTCCAAACCATACTTTAGATTCGTATTAGCATTGCCAAAGCTTTTCTTCCATGTTGGCGATACAGACGAAGGGAACAAAGTGATTTCCGATAATTCCGACAAAGACACTGGCGTAGTACTAGTAGTGTTAGTGTTCATAGCACTCATACCACTGCTATTCCCTGGCTGTGGTGGGGGGGAAGACGAAAACGATGCATTATAACGCGAATGTGTTGCAATGGCTGGTTTCGGTGTTTCTGGCAATGTCGGTTTCACTCCATACATCGTAGACACAGTTGATTCTTCACCAAGTAACGAATCTGAGCATCTTGAGCAGTAAACACAGTTAGCAAACGATGCACAACATACACATTCGCCATCCATTTCACTTGCGAG\n",
      "5579133\n"
     ]
    }
   ],
   "source": [
    "chromosome = SeqIO.parse(\"../5_Tests/Sep26SlicingGenome/Schpo1_chrome1.fasta\",'fasta').next()\n",
    "print(chromosome.id)\n",
    "print(chromosome.seq[:1000])\n",
    "print(len(chrome1))"
   ]
  },
  {
   "cell_type": "code",
   "execution_count": 21,
   "metadata": {
    "collapsed": false
   },
   "outputs": [
    {
     "data": {
      "text/plain": [
       "Seq('GATCACGTACATCACCTTGTAAGAATTTATCTGCAATAGTCCTTCGGTATTGTA...ATC', SingleLetterAlphabet())"
      ]
     },
     "execution_count": 21,
     "metadata": {},
     "output_type": "execute_result"
    }
   ],
   "source": [
    "chrome1.seq[:1000000000000]"
   ]
  },
  {
   "cell_type": "code",
   "execution_count": 22,
   "metadata": {
    "collapsed": true
   },
   "outputs": [],
   "source": [
    "meta_seqs = [chrom1.seq[i:i+META_SEQ_LENGTH] for i in range(0,len(chrom1),META_SEQ_LENGTH)]"
   ]
  },
  {
   "cell_type": "code",
   "execution_count": 44,
   "metadata": {
    "collapsed": false
   },
   "outputs": [
    {
     "data": {
      "text/plain": [
       "558"
      ]
     },
     "execution_count": 44,
     "metadata": {},
     "output_type": "execute_result"
    }
   ],
   "source": [
    "len(meta_seqs)"
   ]
  },
  {
   "cell_type": "code",
   "execution_count": 37,
   "metadata": {
    "collapsed": true
   },
   "outputs": [],
   "source": [
    "shortName = 'Schpo1'\n",
    "piece = 'chromosome_1'\n",
    "position = '1to10000'"
   ]
  },
  {
   "cell_type": "code",
   "execution_count": 41,
   "metadata": {
    "collapsed": false
   },
   "outputs": [],
   "source": [
    "test1 = SeqRecord(meta_seqs[0],id = '{}|{}|{}'.format(shortName,piece,position), description=\"\")"
   ]
  },
  {
   "cell_type": "code",
   "execution_count": 42,
   "metadata": {
    "collapsed": false
   },
   "outputs": [
    {
     "data": {
      "text/plain": [
       "SeqRecord(seq=Seq('GATCACGTACATCACCTTGTAAGAATTTATCTGCAATAGTCCTTCGGTATTGTA...CGG', SingleLetterAlphabet()), id='Schpo1|chromosome_1|1to10000', name='<unknown name>', description='', dbxrefs=[])"
      ]
     },
     "execution_count": 42,
     "metadata": {},
     "output_type": "execute_result"
    }
   ],
   "source": [
    "test1"
   ]
  },
  {
   "cell_type": "code",
   "execution_count": 43,
   "metadata": {
    "collapsed": false
   },
   "outputs": [
    {
     "data": {
      "text/plain": [
       "1"
      ]
     },
     "execution_count": 43,
     "metadata": {},
     "output_type": "execute_result"
    }
   ],
   "source": [
    "SeqIO.write(test1,'../5_Tests/Sep26SlicingGenome/{}_{}_{}.fasta'.format(shortName,piece,position), 'fasta')"
   ]
  },
  {
   "cell_type": "code",
   "execution_count": 105,
   "metadata": {
    "collapsed": true
   },
   "outputs": [],
   "source": [
    "def sliceToPieces(filename, outputPath, shortName, interval = 10000, piece_needed = 50, is_piece_limited = True):\n",
    "    '''\n",
    "    slice chromosome into the pieces with the length required \n",
    "    applicable to only one chromosome per file\n",
    "    '''\n",
    "    chromosome = SeqIO.parse(filename,'fasta').next()\n",
    "    meta_seqs = [((i,i+interval),chromosome.seq[i:i+interval]) for i in range(0,len(chromosome),interval)]\n",
    "    counter = 0\n",
    "    for pair in meta_seqs:\n",
    "        if is_piece_limited and counter == piece_needed:\n",
    "            break\n",
    "        counter+=1\n",
    "        location, meta_piece = pair\n",
    "#         print location\n",
    "        position = \"{}_{}\".format(int(location[0])+1,int(location[1]))\n",
    "#         print position\n",
    "        sub_seq = SeqRecord(meta_piece,id = '{}|{}|{}'.format(shortName,chromosome.id,position), description=\"\")\n",
    "        SeqIO.write(sub_seq,'{}{}_{}_#{}_{}.fasta'.format(outputPath,shortName,chromosome.id,counter,position), 'fasta')"
   ]
  },
  {
   "cell_type": "code",
   "execution_count": 107,
   "metadata": {
    "collapsed": false
   },
   "outputs": [],
   "source": [
    "filename = '../5_Tests/Sep26SlicingGenome/Schpo1_chrome1.fasta'\n",
    "outputPath = '../5_Tests/Sep26SlicingGenome/SlicedSchpo1/'\n",
    "shortName = \"Schpo1\"\n",
    "sliceToPieces(filename, outputPath, shortName, is_piece_limited=False)"
   ]
  },
  {
   "cell_type": "code",
   "execution_count": 124,
   "metadata": {
    "collapsed": false
   },
   "outputs": [],
   "source": [
    "## generate scripts that run genemark.hmm with given model file\n",
    "# modelFilePath = '/home/richard/research/5_Tests/Sep5modelWithLengthDistribution/modelDIY/'\n",
    "# modelFileName = 'GC36IntronSpacerDonorToBPSingleInternalInitialTerminal.txt'\n",
    "\n",
    "modelFilePath = '/home/richard/research/5_Tests/Sep5modelWithLengthDistribution/'\n",
    "modelFileName = 'Schpo1.ES_C_4.mod'\n",
    "\n",
    "fastaFilePath = '/home/richard/research/5_Tests/Sep26SlicingGenome/SlicedSchpo1/'\n",
    "fastaFileNames = filter(lambda x: 'fasta' in x, os.listdir(fastaFilePath))\n",
    "outputPath = '/home/richard/research/5_Tests/Sep26SlicingGenome/es_result_Schpo1/'\n",
    "\n",
    "\n",
    "## need to run under node001 to node036\n",
    "def genemarkHMM_script(modelFilePath,modelFileName,fastaFilePath,fastaFileNames,outputPath):\n",
    "    script = ''\n",
    "    base = \"/scratch/bin/essuite/gmhmme3 \"\n",
    "    model = '-m {}{} '.format(modelFilePath,modelFileName)\n",
    "    for fastaFile in fastaFileNames:   \n",
    "        fasta = \"{}{} \".format(fastaFilePath,fastaFile)\n",
    "        output = \"-o {}{}{}.es_output\".format(outputPath,fastaFile[:-5],modelFileName[:-4])\n",
    "        script += base + model + fasta + output+\"\\n\"\n",
    "#     print script\n",
    "#     subprocess.call(script,shell = True)\n",
    "#     print script\n",
    "    return script\n",
    "# genemarkHMM_script(modelFilePath,modelFileName,fastaFilePath,fastaFileNames,outputPath)\n",
    "script = genemarkHMM_script(modelFilePath,modelFileName,fastaFilePath,fastaFileNames,outputPath)\n",
    "# print script\n",
    "with open(\"/home/richard/research/5_Tests/Sep26SlicingGenome/ESFullModMetaScript.sh\",'w') as f: f.write(script)"
   ]
  },
  {
   "cell_type": "code",
   "execution_count": 125,
   "metadata": {
    "collapsed": true
   },
   "outputs": [],
   "source": [
    "## assemble prediction"
   ]
  },
  {
   "cell_type": "code",
   "execution_count": 126,
   "metadata": {
    "collapsed": true
   },
   "outputs": [],
   "source": [
    "## compare with annotation"
   ]
  }
 ],
 "metadata": {
  "kernelspec": {
   "display_name": "Python 2",
   "language": "python",
   "name": "python2"
  },
  "language_info": {
   "codemirror_mode": {
    "name": "ipython",
    "version": 2
   },
   "file_extension": ".py",
   "mimetype": "text/x-python",
   "name": "python",
   "nbconvert_exporter": "python",
   "pygments_lexer": "ipython2",
   "version": "2.7.10"
  }
 },
 "nbformat": 4,
 "nbformat_minor": 0
}
