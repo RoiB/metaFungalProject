{
 "cells": [
  {
   "cell_type": "code",
   "execution_count": 28,
   "metadata": {
    "collapsed": true
   },
   "outputs": [],
   "source": [
    "import pandas as pd\n",
    "import subprocess"
   ]
  },
  {
   "cell_type": "code",
   "execution_count": 11,
   "metadata": {
    "collapsed": false
   },
   "outputs": [],
   "source": [
    "full_info = pd.read_csv('../1_DataSmall/fullTableInfoGff3GffRNAESwithDensity20150829.csv')\n",
    "full_info.index = full_info.shortName\n",
    "\n",
    "rna_seq_result_path = '/storage3/w/richard/meta2015/placeForRNASeq/'\n",
    "rna_seq_result_shortName = os.listdir(rna_seq_result_path)\n",
    "rna_seq_result_shortName = filter(lambda x: 'Clafu1' not in x, rna_seq_result_shortName)\n",
    "rna_seq_result_shortName = filter(lambda x: 'Spofi1' not in x, rna_seq_result_shortName)\n",
    "\n",
    "cols = ['shortName','longName','gc','intronDensityGff','fastaName','gffName','gff3Name']\n",
    "supported_set = full_info.loc[rna_seq_result_shortName]  # rna seq data supported set"
   ]
  },
  {
   "cell_type": "code",
   "execution_count": 31,
   "metadata": {
    "collapsed": false
   },
   "outputs": [],
   "source": [
    "# read in all filenames and cut\n",
    "for shortName in rna_seq_result_shortName:\n",
    "    fastaName = supported_set.loc[shortName].fastaName[:-3]\n",
    "    fastaFile = '{}{}/data/{}'.format(rna_seq_result_path,shortName,fastaName)\n",
    "    \n",
    "    fastaOutputPath = '/storage3/w/richard/meta2015/finalTestSet20151002/fastaCutByGoodAnnotation/fasta/'\n",
    "    fastaFileFiltered = '{}{}'.format(fastaOutputPath,fastaName[:-5]+\"filtered.fasta\")\n",
    "\n",
    "    \n",
    "    \n",
    "    annotationPath = '/storage3/w/richard/meta2015/finalTestSet20151002/gtf_converted_from_gff/'\n",
    "    annotationName = supported_set.loc[shortName].gffName[:-6]\n",
    "    goodAnnotationFile = '{}{}{}'.format(annotationPath,annotationName,'f.good.gtf')\n",
    "    annotationOutputPath = '/storage3/w/richard/meta2015/finalTestSet20151002/fastaCutByGoodAnnotation/annotation/'\n",
    "    annotationFileUpdated = '{}{}{}'.format(annotationOutputPath,annotationName[:-9],'f.good.updated.gtf')\n",
    "    \n",
    "    command = 'python /home/richard/research/4_Tools/cut_fasta_by_annotation.py {} {} {} {}'.format(fastaFile,goodAnnotationFile,fastaFileFiltered,annotationFileUpdated)\n",
    "    try:\n",
    "        subprocess.check_call(command,shell = True)\n",
    "    except:\n",
    "        print \"problem seq:\",shortName\n"
   ]
  },
  {
   "cell_type": "code",
   "execution_count": null,
   "metadata": {
    "collapsed": true
   },
   "outputs": [],
   "source": [
    "###################################\n",
    "###################################\n",
    "## start testing the "
   ]
  }
 ],
 "metadata": {
  "kernelspec": {
   "display_name": "Python 2",
   "language": "python",
   "name": "python2"
  },
  "language_info": {
   "codemirror_mode": {
    "name": "ipython",
    "version": 2
   },
   "file_extension": ".py",
   "mimetype": "text/x-python",
   "name": "python",
   "nbconvert_exporter": "python",
   "pygments_lexer": "ipython2",
   "version": "2.7.10"
  }
 },
 "nbformat": 4,
 "nbformat_minor": 0
}
