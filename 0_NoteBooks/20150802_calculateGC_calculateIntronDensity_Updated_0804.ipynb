{
 "cells": [
  {
   "cell_type": "code",
   "execution_count": 8,
   "metadata": {
    "collapsed": false
   },
   "outputs": [],
   "source": [
    "'''\n",
    "cp fasta file to temp, unzip it, calculate gc and delete the file\n",
    "cp gff3 files to temp, unzip them, calculate intron density and delete all of them\n",
    "\n",
    "updated Aug 4, use new table with 517 entry to complete gc content, intron density calculation\n",
    "'''\n",
    "import pandas as pd\n",
    "from BCBio.GFF import GFFExaminer\n",
    "# completeInfo = pd.read_csv(\"../1_Data/2_completeFileInfo.csv\")\n",
    "folderPath = \"/home/richard/1_DataLarge/fasta_gff_gtf_07302015/\" #short names\n",
    "basePath = \"/home/richard/tempFile/\" #folder where files are manipulated"
   ]
  },
  {
   "cell_type": "code",
   "execution_count": 8,
   "metadata": {
    "collapsed": false
   },
   "outputs": [],
   "source": [
    "## Calculate genome gc\n",
    "script = \"\"\n",
    "for i in range(completeInfo.shape[0]):\n",
    "    ## copy file\n",
    "    fastaName = completeInfo.loc[i]['fastaName']\n",
    "    script += \"cp {}/{}/{} {}\\n\".format(folderPath, \n",
    "                                        completeInfo.loc[i]['shortName'], \n",
    "                                        fastaName,\n",
    "                                        basePath)\n",
    "    ## unzip\n",
    "    script += \"gunzip {}\\n\".format(fastaName)\n",
    "    ## calculate gc\n",
    "    script += 'probuild --gc --seq {} | grep -o \"\\S\\S\\.\\S\" >> genomeGC.csv\\n'.format(fastaName[:-3])\n",
    "    ## remove file\n",
    "    script += \"rm {}\\n\".format(fastaName[:-3])\n",
    "    ## another empty line\n",
    "    script += \"\\n\"\n",
    "with open(\"../tempFile/genomeGC.sh\",\"w\") as f: f.write(script)\n",
    "    \n",
    "# print script\n",
    "\n",
    "# consolidate genome gc into\n",
    "genomeGC = pd.read_csv(\"../tempFile/genomeGC.csv\",header = None)\n",
    "completeInfo['gc'] = genomeGC"
   ]
  },
  {
   "cell_type": "code",
   "execution_count": 9,
   "metadata": {
    "collapsed": false
   },
   "outputs": [],
   "source": [
    "## prepare for intron density calculate \n",
    "## copy, unzip files and add intron to files\n",
    "script = \"\"\n",
    "for i in range(completeInfo.shape[0]):\n",
    "    gff3Name = completeInfo.loc[i]['gff3Name']\n",
    "    ## copy file\n",
    "    script += \"cp {}/{}/{} {}\\n\".format(folderPath, \n",
    "                                        completeInfo.loc[i]['shortName'], \n",
    "                                        gff3Name,\n",
    "                                        basePath)\n",
    "    ## unzip\n",
    "    script += \"gunzip {}\\n\".format(gff3Name)\n",
    "    ## add intron\n",
    "    script += '/home/tool/gt/bin/gt gff3 -force -addintrons -o {} {}\\n'.format(\"withIntron_\"+gff3Name[:-3], gff3Name[:-3])\n",
    "    ## another empty line\n",
    "    script += \"\\n\"\n",
    "    \n",
    "with open(\"../tempFile/gff3Annotation.sh\",\"w\") as f: f.write(script)\n",
    "# print script"
   ]
  },
  {
   "cell_type": "code",
   "execution_count": 1,
   "metadata": {
    "collapsed": false,
    "scrolled": false
   },
   "outputs": [],
   "source": [
    "## warning: this block has huge amount of calculation\n",
    "## caluclate intron density (by biopython extra package: GFFExaminer from BCBio.GFF)\n",
    "# num_gene = []\n",
    "# num_intron = []\n",
    "# num_exon = []\n",
    "\n",
    "# for i in range(completeInfo.shape[0]):\n",
    "    \n",
    "#     gff3Name = completeInfo.loc[i]['gff3Name']\n",
    "    \n",
    "#     print \"{}, Working on {}.....\".format(i,gff3Name)\n",
    "    \n",
    "#     examiner = GFFExaminer()\n",
    "#     in_handle = open(basePath+\"withIntron_\"+gff3Name[:-3])\n",
    "#     test = examiner.available_limits(in_handle)\n",
    "    \n",
    "#     try:\n",
    "#         num_gene.append(test['gff_type'][('gene',)])\n",
    "#     except:\n",
    "#         print \"gene problem: \", gff3Name \n",
    "#         num_gene.append(0)\n",
    "        \n",
    "#     try:\n",
    "#         num_exon.append(test['gff_type'][('exon',)])\n",
    "#     except:\n",
    "#         print \"exon problem: \", gff3Name \n",
    "#         num_exon.append(0)\n",
    "    \n",
    "#     try:\n",
    "#         num_intron.append(test['gff_type'][('intron',)])\n",
    "#     except:\n",
    "#         print \"intron problem: \", gff3Name \n",
    "#         num_intron.append(0)\n",
    "\n",
    "#     in_handle.close()"
   ]
  },
  {
   "cell_type": "code",
   "execution_count": 15,
   "metadata": {
    "collapsed": false
   },
   "outputs": [],
   "source": [
    "## consolidate gene, exon, intron into completeInfo\n",
    "completeInfo['numGene'] = num_gene\n",
    "completeInfo['numExon'] = num_exon\n",
    "completeInfo['numIntron'] = num_intron\n",
    "completeInfo['intronDensity'] = completeInfo['numIntron']/completeInfo['numGene']\n",
    "completeInfo.to_csv(\"../1_Data/3_completeFileInfoWithStatistics.csv\", index = False)"
   ]
  },
  {
   "cell_type": "code",
   "execution_count": 6,
   "metadata": {
    "collapsed": false
   },
   "outputs": [],
   "source": [
    "#################################################################################################\n",
    "## updated Aug 4, use new table with 517 entry to complete gc content, intron density calculation\n",
    "#################################################################################################\n",
    "fullTable = pd.read_csv(\"/home/richard/research/1_DataSmall/2_completeFileInfo/fullTableInfo.csv\")"
   ]
  },
  {
   "cell_type": "code",
   "execution_count": 16,
   "metadata": {
    "collapsed": false,
    "scrolled": false
   },
   "outputs": [],
   "source": [
    "## Calculate genome gc fullTable\n",
    "script = \"\"\n",
    "for i in range(fullTable.shape[0]):\n",
    "    ## copy file\n",
    "    fastaName = fullTable.loc[i]['fastaName']\n",
    "    if type(fastaName) != float:\n",
    "        script += \"cp {}/{}/{} {}\\n\".format(folderPath, \n",
    "                                            fullTable.loc[i]['shortName'], \n",
    "                                            fastaName,\n",
    "                                            basePath)\n",
    "        ## unzip\n",
    "        script += \"gunzip {}{}\\n\".format(basePath,fastaName)\n",
    "        ## calculate gc\n",
    "        script += 'probuild --gc --seq {} | grep -o \"\\S\\S\\.\\S\" >> genomeGC.csv\\n'.format(fastaName[:-3])\n",
    "        ## remove file\n",
    "        script += \"rm {}{}\\n\".format(basePath, fastaName[:-3])\n",
    "    else:\n",
    "        script += 'echo NA >> genomeGC.csv\\n'\n",
    "        \n",
    "    ## another empty line\n",
    "    script += \"\\n\"\n",
    "    \n",
    "# with open(\"/home/richard/tempFile/genomeGC.sh\",\"w\") as f: f.write(script)\n",
    "# print script\n",
    "\n",
    "# consolidate genome gc\n",
    "genomeGC = pd.read_csv(\"/home/richard/tempFile/genomeGC.csv\",header = None)\n",
    "fullTable['gc'] = genomeGC"
   ]
  },
  {
   "cell_type": "code",
   "execution_count": 27,
   "metadata": {
    "collapsed": false,
    "scrolled": false
   },
   "outputs": [],
   "source": [
    "## prepare for intron density calculation with gff3 files\n",
    "## copy, unzip files and add intron to files\n",
    "folderPath = \"/storage3/w/richard/meta2015/fasta_gff_gtf_07302015/\"\n",
    "basePath = \"/storage3/w/richard/tempFile/\"\n",
    "\n",
    "\n",
    "counter = 0\n",
    "num = 0\n",
    "script = \"\"\n",
    "for i in range(fullTable.shape[0]):\n",
    "    try:\n",
    "        gff3Name = fullTable.loc[i]['gff3Name']\n",
    "        ## copy file\n",
    "        script += \"cp {}/{}/{} {}\\n\".format(folderPath, \n",
    "                                            fullTable.loc[i]['shortName'], \n",
    "                                            gff3Name,\n",
    "                                            basePath)\n",
    "        ## unzip\n",
    "        script += \"gunzip {}{}\\n\".format(basePath, gff3Name)\n",
    "        ## add intron\n",
    "        script += '/home/tool/gt/bin/gt gff3 -force -addintrons -o {} {}\\n'.format(\"withIntron_\"+gff3Name[:-3], gff3Name[:-3])\n",
    "        ## another empty line\n",
    "        script += \"\\n\"\n",
    "        \n",
    "        num += 1\n",
    "    except:\n",
    "        counter += 1\n",
    "#         print counter, fullTable.loc[i]['shortName'], \"does not have gff3 file\"\n",
    "    \n",
    "# with open(basePath+\"gff3Annotation.sh\",\"w\") as f: f.write(script)\n",
    "# print script"
   ]
  },
  {
   "cell_type": "code",
   "execution_count": 30,
   "metadata": {
    "collapsed": false,
    "scrolled": false
   },
   "outputs": [],
   "source": [
    "## warning: this block has huge amount of calculation\n",
    "## caluclate intron density (by biopython extra package: GFFExaminer from BCBio.GFF)\n",
    "# num_gene = []\n",
    "# num_intron = []\n",
    "# num_exon = []\n",
    "\n",
    "# for i in range(fullTable.shape[0]):\n",
    "    \n",
    "#     try:\n",
    "#         gff3Name = fullTable.loc[i]['gff3Name']\n",
    "#         print \"{}, Working on {}.....\".format(i,gff3Name)\n",
    "    \n",
    "    \n",
    "#         examiner = GFFExaminer()\n",
    "#         in_handle = open(basePath+\"withIntron_\"+gff3Name[:-3])\n",
    "#         test = examiner.available_limits(in_handle)\n",
    "    \n",
    "#         try:\n",
    "#             gene = test['gff_type'][('gene',)]\n",
    "#         except:\n",
    "#             print \"gene problem: \", gff3Name \n",
    "#             gene = \"NA\"\n",
    "        \n",
    "#         try:\n",
    "#             exon = test['gff_type'][('exon',)]\n",
    "#         except:\n",
    "#             print \"exon problem: \", gff3Name \n",
    "#             exon = \"NA\"\n",
    "    \n",
    "#         try:\n",
    "#             intron = test['gff_type'][('intron',)]\n",
    "#         except:\n",
    "#             print \"intron problem: \", gff3Name \n",
    "#             intron = \"NA\"\n",
    "        \n",
    "#         num_gene.append(gene)\n",
    "#         num_exon.append(exon)\n",
    "#         num_intron.append(intron)\n",
    "        \n",
    "#     except:\n",
    "#         num_gene.append(\"NA\")\n",
    "#         num_exon.append(\"NA\")\n",
    "#         num_intron.append(\"NA\")\n",
    "\n",
    "#     in_handle.close()"
   ]
  },
  {
   "cell_type": "code",
   "execution_count": 37,
   "metadata": {
    "collapsed": false
   },
   "outputs": [],
   "source": [
    "## consolidate gene, exon, intron into completeInfo\n",
    "fullTable['numGene'] = num_gene\n",
    "fullTable['numExon'] = num_exon\n",
    "fullTable['numIntron'] = num_intron\n",
    "\n",
    "intronDensity = []\n",
    "for i in range(fullTable.shape[0]):\n",
    "    try:\n",
    "        density = round(1.*fullTable['numIntron'][i]/fullTable['numGene'][i], 2)\n",
    "    except:\n",
    "        density = \"NA\"\n",
    "    intronDensity.append(density)\n",
    "fullTable['intronDensity'] = intronDensity\n",
    "\n",
    "fullTable.to_csv(\"../1_DataSmall/fullTableInfoGff3.csv\", index = False)"
   ]
  },
  {
   "cell_type": "code",
   "execution_count": 51,
   "metadata": {
    "collapsed": false
   },
   "outputs": [],
   "source": [
    "## prepare for intron density calculation with gff files\n",
    "import sys\n",
    "import re\n",
    "def countGeneExon(filename):\n",
    "    '''\n",
    "    args: gff annotation file name\n",
    "    return: (number of gene, number of exon)\n",
    "    '''\n",
    "    geneSet = set()\n",
    "    exonCount = 0\n",
    "    with open(filename) as f:\n",
    "        for line in f:\n",
    "            if len(line)> 1:\n",
    "                data = line.split()\n",
    "            \n",
    "                gene = data[9]\n",
    "                pattern = '\\\".*?\\\"'\n",
    "                obj = re.match(pattern, gene)\n",
    "                gene = obj.group(0)\n",
    "                geneSet.add(gene)\n",
    "            \n",
    "                if data[2] == 'exon':\n",
    "                    exonCount += 1\n",
    "    return len(geneSet), exonCount\n",
    "\n",
    "\n",
    "\n",
    "## copy, unzip files\n",
    "script = \"\"\n",
    "for i in range(fullTable.shape[0]):\n",
    "    try:\n",
    "        gffName = fullTable.loc[i]['gffName']\n",
    "        ## copy file\n",
    "        script += \"cp {}{}/{} {}\\n\".format(folderPath, \n",
    "                                            fullTable.loc[i]['shortName'], \n",
    "                                            gffName,\n",
    "                                            basePath)\n",
    "        ## unzip\n",
    "        script += \"gunzip {}{}\\n\".format(basePath, gffName)\n",
    "        ## another empty line\n",
    "        script += \"\\n\"\n",
    "        \n",
    "    except:\n",
    "        pass\n",
    "with open(basePath+\"gffAnnotation.sh\",\"w\") as f: f.write(script)\n",
    "# print script"
   ]
  },
  {
   "cell_type": "code",
   "execution_count": 56,
   "metadata": {
    "collapsed": false,
    "scrolled": false
   },
   "outputs": [],
   "source": [
    "## warning: this block has huge amount of calculation\n",
    "## caluclate intron density from GeneCatalog gff file (by countGeneExon from 4_SelfMadeTool/parse gff file.ipynb)\n",
    "# num_gene = []\n",
    "# num_exon = []\n",
    "\n",
    "# for i in range(fullTable.shape[0]):\n",
    "    \n",
    "#     try:\n",
    "#         gffName = fullTable.loc[i]['gffName']\n",
    "#         print \"{}, Working on {}.....\".format(i,gffName[:-3])\n",
    "#         try:\n",
    "#             gene, exon = countGeneExon(basePath+gffName[:-3])\n",
    "#         except:\n",
    "#             print \"problem with: \",gffName[:-3]\n",
    "#         num_gene.append(gene)\n",
    "#         num_exon.append(exon)\n",
    "#     except:\n",
    "#         num_gene.append(\"NA\")\n",
    "#         num_exon.append(\"NA\")"
   ]
  },
  {
   "cell_type": "code",
   "execution_count": 73,
   "metadata": {
    "collapsed": false
   },
   "outputs": [],
   "source": [
    "## consolidate gene, exon, intron into fullTable\n",
    "num_intron = []\n",
    "for x,y in zip(num_gene, num_exon):\n",
    "    try:\n",
    "        intron = y - x\n",
    "    except:\n",
    "        intron = \"NA\"\n",
    "    num_intron.append(intron)\n",
    "\n",
    "fullTable['numGeneGff'] = num_gene\n",
    "fullTable['numExonGff'] = num_exon\n",
    "fullTable['numIntronGff'] = num_intron\n",
    "\n",
    "\n",
    "\n",
    "\n",
    "intronDensity = []\n",
    "for i in range(fullTable.shape[0]):\n",
    "    try:\n",
    "        density = round(1.*fullTable['numIntronGff'][i]/fullTable['numGeneGff'][i], 2)\n",
    "    except:\n",
    "        density = \"NA\"\n",
    "    intronDensity.append(density)\n",
    "fullTable['intronDensityGff'] = intronDensity\n",
    "\n",
    "colName = list(fullTable.columns)\n",
    "colName[6] = 'numGeneGff3'\n",
    "colName[7] = 'numExonGff3'\n",
    "colName[8] = 'numIntronGff3'\n",
    "colName[9] = 'intronDensityGff3'\n",
    "fullTable.columns = colName\n",
    "fullTable.to_csv(\"../1_DataSmall/fullTableInfoGff3Gff.csv\", index = False)"
   ]
  },
  {
   "cell_type": "code",
   "execution_count": 76,
   "metadata": {
    "collapsed": false
   },
   "outputs": [
    {
     "data": {
      "text/plain": [
       "shortName                                              Orpsp1_1\n",
       "LongName                                        Orpinomyces sp.\n",
       "fastaName                   Orpsp1_1_AssemblyScaffolds.fasta.gz\n",
       "gffName              Orpsp1_1_GeneCatalog_genes_20140826.gff.gz\n",
       "gff3Name                                                    NaN\n",
       "gc                                                           17\n",
       "numGeneGff3                                                  NA\n",
       "numExonGff3                                                  NA\n",
       "numIntronGff3                                                NA\n",
       "intronDensityGff3                                            NA\n",
       "numGeneGff                                                18936\n",
       "numExonGff                                                56378\n",
       "numIntronGff                                              37442\n",
       "intronDensityGff                                           1.98\n",
       "Name: 301, dtype: object"
      ]
     },
     "execution_count": 76,
     "metadata": {},
     "output_type": "execute_result"
    }
   ],
   "source": [
    "fullTable.loc[301]"
   ]
  }
 ],
 "metadata": {
  "kernelspec": {
   "display_name": "Python 2",
   "language": "python",
   "name": "python2"
  },
  "language_info": {
   "codemirror_mode": {
    "name": "ipython",
    "version": 2
   },
   "file_extension": ".py",
   "mimetype": "text/x-python",
   "name": "python",
   "nbconvert_exporter": "python",
   "pygments_lexer": "ipython2",
   "version": "2.7.10"
  }
 },
 "nbformat": 4,
 "nbformat_minor": 0
}
