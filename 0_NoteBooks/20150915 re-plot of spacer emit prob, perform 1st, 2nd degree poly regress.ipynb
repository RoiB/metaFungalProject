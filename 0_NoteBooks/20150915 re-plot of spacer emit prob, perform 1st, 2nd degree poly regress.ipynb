{
 "cells": [
  {
   "cell_type": "code",
   "execution_count": 26,
   "metadata": {
    "collapsed": false
   },
   "outputs": [
    {
     "data": {
      "text/plain": [
       "<AsyncResult: finished>"
      ]
     },
     "execution_count": 26,
     "metadata": {},
     "output_type": "execute_result"
    }
   ],
   "source": [
    "'''\n",
    "The note book deal with spacer emission probability to get a better understanding of emission prob distribution\n",
    "\n",
    "1. plot all emission probability on the same scale\n",
    "2. compare linear and poly regression on emission probability \n",
    "3. build new set of parameters on spacer emission probability\n",
    "'''\n",
    "\n",
    "## use ipython parallel programming \n",
    "from IPython.parallel import Client\n",
    "rc = Client()\n",
    "dview = rc[:]\n",
    "\n",
    "\n",
    "import pandas as pd; dview.execute(\"import pandas as pd\")\n",
    "\n",
    "import numpy as np\n",
    "\n",
    "import matplotlib.pylab as plt\n",
    "%matplotlib inline\n",
    "import matplotlib\n",
    "\n",
    "\n",
    "import os\n",
    "# The path where all the GeneMark-ES 4th run models located\n",
    "modelFilePath = \"/home/richard/largeDataSet/ES_Run_modfileAug2015/\" \n",
    "modelFileNames = os.listdir(modelFilePath)\n",
    "\n",
    "# full data\n",
    "fulldata = pd.read_csv(\"../1_DataSmall/fullTableInfoGff3GffRNAESwithDensity20150829.csv\")\n",
    "fulldata.index = fulldata['shortName']\n",
    "\n",
    "\n",
    "dview.push({'modelFilePath':modelFilePath,'modelFileNames':modelFileNames})"
   ]
  },
  {
   "cell_type": "code",
   "execution_count": 2,
   "metadata": {
    "collapsed": false
   },
   "outputs": [
    {
     "data": {
      "text/plain": [
       "<AsyncResult: finished>"
      ]
     },
     "execution_count": 2,
     "metadata": {},
     "output_type": "execute_result"
    }
   ],
   "source": [
    "class ESModelSpacer():\n",
    "    _GC_PARAM = { # each param is paired with an ending signal\n",
    "        '$MARKOV_BP_SPACER':'TT'\n",
    "    }\n",
    "    \n",
    "    def __init__(self, filename):\n",
    "        self.f = open(filename)\n",
    "\n",
    "    def close(self):\n",
    "        '''close file connection'''\n",
    "        self.f.close()\n",
    "        \n",
    "    def extract_to_table(self, param, cols = ['X','Y']):\n",
    "        '''\n",
    "        Capture data below parameter and output an dataframe\n",
    "        Right now, only been tested on spacer\n",
    "        \n",
    "        '''\n",
    "        data = []\n",
    "        switch = False\n",
    "        for line in self.f:\n",
    "            if switch:\n",
    "                data.append(line)\n",
    "#                 print line\n",
    "            if param in line:\n",
    "                switch = True\n",
    "            if switch and \"{}\".format(self._GC_PARAM[param]) in line:\n",
    "                switch = False\n",
    "                break\n",
    "        data = map(lambda line: line.rstrip().split(), data)\n",
    "#         pairs = map(lambda (a,b): (int(a), float(b)), data)\n",
    "        \n",
    "        return pd.DataFrame(data, columns= cols) \n",
    "    \n",
    "dview.push({'ESModelSpacer':ESModelSpacer})"
   ]
  },
  {
   "cell_type": "code",
   "execution_count": 3,
   "metadata": {
    "collapsed": false
   },
   "outputs": [],
   "source": [
    "test1 = ESModelSpacer(modelFilePath+modelFileNames[0]).extract_to_table(\"$MARKOV_BP_SPACER\")"
   ]
  },
  {
   "cell_type": "code",
   "execution_count": 4,
   "metadata": {
    "collapsed": false
   },
   "outputs": [],
   "source": [
    "cols = test1.X #assign column names as dinucleotides"
   ]
  },
  {
   "cell_type": "code",
   "execution_count": 5,
   "metadata": {
    "collapsed": true
   },
   "outputs": [],
   "source": [
    "spacer_prob_map = dview.map(lambda filename: ESModelSpacer(modelFilePath+filename).extract_to_table(\"$MARKOV_BP_SPACER\"), modelFileNames)"
   ]
  },
  {
   "cell_type": "code",
   "execution_count": 6,
   "metadata": {
    "collapsed": false
   },
   "outputs": [],
   "source": [
    "spacer_probs = spacer_prob_map.get()"
   ]
  },
  {
   "cell_type": "code",
   "execution_count": 7,
   "metadata": {
    "collapsed": false
   },
   "outputs": [],
   "source": [
    "df = pd.DataFrame(map(lambda df: df.Y, spacer_probs),dtype=float)"
   ]
  },
  {
   "cell_type": "code",
   "execution_count": 8,
   "metadata": {
    "collapsed": true
   },
   "outputs": [],
   "source": [
    "df.columns = cols"
   ]
  },
  {
   "cell_type": "code",
   "execution_count": 9,
   "metadata": {
    "collapsed": false
   },
   "outputs": [],
   "source": [
    "## get GC\n",
    "gc = map(lambda filename: fulldata.loc[filename[:-11]].gc, modelFileNames)"
   ]
  },
  {
   "cell_type": "code",
   "execution_count": 10,
   "metadata": {
    "collapsed": true
   },
   "outputs": [],
   "source": [
    "df['gc'] = gc"
   ]
  },
  {
   "cell_type": "code",
   "execution_count": 17,
   "metadata": {
    "collapsed": true
   },
   "outputs": [],
   "source": [
    "# adjust font size\n",
    "matplotlib.rcParams.update({'font.size': 20})"
   ]
  },
  {
   "cell_type": "code",
   "execution_count": 18,
   "metadata": {
    "collapsed": false
   },
   "outputs": [
    {
     "data": {
      "text/plain": [
       "<matplotlib.text.Text at 0x7f981f6ca310>"
      ]
     },
     "execution_count": 18,
     "metadata": {},
     "output_type": "execute_result"
    },
    {
     "data": {
      "image/png": "[encoded data removed]",
      "text/plain": [
       "<matplotlib.figure.Figure at 0x7f981f77d190>"
      ]
     },
     "metadata": {},
     "output_type": "display_data"
    }
   ],
   "source": [
    "plt.plot(df.gc, df.icol(0),'ro')\n",
    "plt.title(df.columns[0])\n",
    "plt.ylim([0,.5])\n",
    "plt.xlim([10,70])\n",
    "plt.xlabel('GC')\n",
    "plt.ylabel('Probability')"
   ]
  },
  {
   "cell_type": "code",
   "execution_count": 19,
   "metadata": {
    "collapsed": false
   },
   "outputs": [],
   "source": [
    "df.to_csv('../1_DataSmall/SpacerEmissionProbTable.csv',index=None)"
   ]
  },
  {
   "cell_type": "code",
   "execution_count": 20,
   "metadata": {
    "collapsed": true
   },
   "outputs": [],
   "source": [
    "# plot path \n",
    "plot_path = \"/home/richard/research/1_DataSmall/Plots/spacer_emission/\""
   ]
  },
  {
   "cell_type": "code",
   "execution_count": 23,
   "metadata": {
    "collapsed": true
   },
   "outputs": [],
   "source": [
    "for i in range(16):\n",
    "    plt.plot(df.gc, df.icol(i),'ro')\n",
    "    plt.title(df.columns[i])\n",
    "    plt.ylim([0,.3])\n",
    "    plt.xlim([10,70])\n",
    "    plt.xlabel('GC')\n",
    "    plt.ylabel('Probability')\n",
    "    plt.savefig(plot_path+df.columns[i],bbox_inches='tight')\n",
    "    plt.close()"
   ]
  },
  {
   "cell_type": "code",
   "execution_count": null,
   "metadata": {
    "collapsed": true
   },
   "outputs": [],
   "source": [
    "### start poly regression "
   ]
  },
  {
   "cell_type": "code",
   "execution_count": 47,
   "metadata": {
    "collapsed": true
   },
   "outputs": [],
   "source": [
    "# regression set with 1d wrapper, just plug in gc and will output probability\n",
    "regressModelSet = map(lambda XY: np.poly1d(np.polyfit(df.gc, df[XY],deg = 2)), df.columns)"
   ]
  },
  {
   "cell_type": "code",
   "execution_count": 71,
   "metadata": {
    "collapsed": true
   },
   "outputs": [],
   "source": [
    "gc_range = range(20,65)"
   ]
  },
  {
   "cell_type": "code",
   "execution_count": 72,
   "metadata": {
    "collapsed": false
   },
   "outputs": [],
   "source": [
    "regressResult = map(lambda model: model(gc_range), regressModelSet)"
   ]
  },
  {
   "cell_type": "code",
   "execution_count": 83,
   "metadata": {
    "collapsed": false
   },
   "outputs": [],
   "source": [
    "AA = np.polyfit(df.gc, df.AA, 2)\n",
    "linearAA = np.polyfit(df.gc, df.AA, 1)"
   ]
  },
  {
   "cell_type": "code",
   "execution_count": 84,
   "metadata": {
    "collapsed": false
   },
   "outputs": [],
   "source": [
    "p = np.poly1d(AA)\n",
    "linearp = np.poly1d(linearAA)"
   ]
  },
  {
   "cell_type": "code",
   "execution_count": 86,
   "metadata": {
    "collapsed": false
   },
   "outputs": [
    {
     "data": {
      "text/plain": [
       "<matplotlib.legend.Legend at 0x7f981c77a6d0>"
      ]
     },
     "execution_count": 86,
     "metadata": {},
     "output_type": "execute_result"
    },
    {
     "data": {
      "image/png": "[encoded data removed]",
      "text/plain": [
       "<matplotlib.figure.Figure at 0x7f981ed648d0>"
      ]
     },
     "metadata": {},
     "output_type": "display_data"
    }
   ],
   "source": [
    "plt.plot(range(10,70),p(range(10,70)), lw = 4, label = '2nd degree poly regression')\n",
    "plt.plot(range(10,70),linearp(range(10,70)), lw = 4, label = 'linear regression')\n",
    "plt.plot(df.gc, df.icol(0),'ro',label = 'real data')\n",
    "plt.legend()"
   ]
  },
  {
   "cell_type": "code",
   "execution_count": 76,
   "metadata": {
    "collapsed": true
   },
   "outputs": [],
   "source": [
    "# plot path \n",
    "plot_path = \"/home/richard/research/1_DataSmall/Plots/spacer_emission_regression/\""
   ]
  },
  {
   "cell_type": "code",
   "execution_count": 80,
   "metadata": {
    "collapsed": false,
    "scrolled": false
   },
   "outputs": [],
   "source": [
    "for i in range(16):\n",
    "    plt.plot(df.gc, df.icol(i),'ro',label = 'real data')\n",
    "    plt.plot(gc_range, regressResult[i], lw = 4, label = '2nd degree poly regression')\n",
    "    plt.title(df.columns[i])\n",
    "    plt.ylim([0,.3])\n",
    "    plt.xlim([10,70])\n",
    "    plt.xlabel('GC')\n",
    "    plt.ylabel('Probability')\n",
    "    plt.legend()\n",
    "    plt.savefig(plot_path+df.columns[i],bbox_inches='tight')\n",
    "    plt.close()"
   ]
  },
  {
   "cell_type": "code",
   "execution_count": 88,
   "metadata": {
    "collapsed": true
   },
   "outputs": [],
   "source": [
    "## add comparison linear regression\n",
    "linearRegressModelSet = map(lambda XY: np.poly1d(np.polyfit(df.gc, df[XY],deg = 1)), df.columns)\n",
    "gc_range = range(20,65)\n",
    "linearRegressResult = map(lambda model: model(gc_range), linearRegressModelSet)"
   ]
  },
  {
   "cell_type": "code",
   "execution_count": 89,
   "metadata": {
    "collapsed": true
   },
   "outputs": [],
   "source": [
    "for i in range(16):\n",
    "    plt.plot(df.gc, df.icol(i),'ro',label = 'real data')\n",
    "    plt.plot(gc_range, regressResult[i], lw = 4, label = '2nd degree poly regression')\n",
    "    plt.plot(gc_range, linearRegressResult[i], lw = 4, label = 'linear regression')\n",
    "    plt.title(df.columns[i])\n",
    "    plt.ylim([0,.3])\n",
    "    plt.xlim([10,70])\n",
    "    plt.xlabel('GC')\n",
    "    plt.ylabel('Probability')\n",
    "    plt.legend()\n",
    "    plt.savefig(plot_path+df.columns[i],bbox_inches='tight')\n",
    "    plt.close()"
   ]
  },
  {
   "cell_type": "code",
   "execution_count": null,
   "metadata": {
    "collapsed": true
   },
   "outputs": [],
   "source": []
  }
 ],
 "metadata": {
  "kernelspec": {
   "display_name": "Python 2",
   "language": "python",
   "name": "python2"
  },
  "language_info": {
   "codemirror_mode": {
    "name": "ipython",
    "version": 2
   },
   "file_extension": ".py",
   "mimetype": "text/x-python",
   "name": "python",
   "nbconvert_exporter": "python",
   "pygments_lexer": "ipython2",
   "version": "2.7.10"
  }
 },
 "nbformat": 4,
 "nbformat_minor": 0
}
