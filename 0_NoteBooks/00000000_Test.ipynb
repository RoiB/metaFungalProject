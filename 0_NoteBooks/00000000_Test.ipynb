{
 "cells": [
  {
   "cell_type": "code",
   "execution_count": 50,
   "metadata": {
    "collapsed": false
   },
   "outputs": [
    {
     "data": {
      "text/plain": [
       "'201508070054'"
      ]
     },
     "execution_count": 50,
     "metadata": {},
     "output_type": "execute_result"
    }
   ],
   "source": [
    "\n",
    "# obj = obj.timetuple()\n",
    "# obj.tm_year,obj.tm_mon,obj.tm_mday,obj.tm_hour,obj.tm_min"
   ]
  },
  {
   "cell_type": "code",
   "execution_count": 59,
   "metadata": {
    "collapsed": false
   },
   "outputs": [
    {
     "name": "stdout",
     "output_type": "stream",
     "text": [
      "cd /storage3/w/richard/meta2015/dataForRNASeq/\n",
      "wget ftp://ftp-trace.ncbi.nih.gov/sra/sra-instant/reads/ByRun/sra/SRR/SRR180/SRR1801222/SRR1801222.sra\n",
      "\n",
      "Please wait util the download is done\n"
     ]
    }
   ],
   "source": [
    "import pandas as pd\n",
    "import sys\n",
    "import datetime\n",
    "\n",
    "def fill(num): \n",
    "        if len(num) == 1:\n",
    "            return \"0\"+num\n",
    "        else:\n",
    "            return num\n",
    "\n",
    "def addTimeStamp():\n",
    "    obj = datetime.datetime.now()\n",
    "    timeStamp = \"\".join(map(fill,map(str,[obj.year, obj.month, obj.day, obj.hour, obj.minute])))\n",
    "    return timeStamp\n",
    "\n",
    "logPath = '/storage3/w/richard/meta2015/logFile/'\n",
    "RNASeqFileInfo = pd.read_csv(\"/home/richard/research/1_DataSmall/rnaSeqFileList.csv\")\n",
    "RNASeqFileInfo.to_csv(\"/home/richard/research/1_DataSmall/rnaSeqFileInfoBackup/rnaSeqFileList{}.csv\".format(addTimeStamp()), index = None)\n",
    "dataForRNASeq = '/storage3/w/richard/meta2015/dataForRNASeq/'\n",
    "\n",
    "shortName = \"Veren1\"\n",
    "# make script to download rna seq\n",
    "script_rna = 'cd {}\\n'.format(dataForRNASeq)\n",
    "idx = RNASeqFileInfo['shortName'] == shortName;\n",
    "\n",
    "for filename in RNASeqFileInfo.loc[idx]['fileName']:\n",
    "    if filename[-3:] == \"sra\":\n",
    "        runName = filename[:-4]\n",
    "    else:\n",
    "        runName = filename\n",
    "    runNameURL = \"{}/{}/{}/{}.sra\".format(runName[:3],runName[:6],runName,runName)\n",
    "    #print runNameURL\n",
    "    base = \"ftp://ftp-trace.ncbi.nih.gov/sra/sra-instant/reads/ByRun/sra/\"\n",
    "    URL = base + runNameURL\n",
    "    script_rna+=\"wget {}\\n\".format(URL)\n",
    "\n",
    "    RNASeqFileInfo.loc[idx,'fileName'] = runName+\".sra\"\n",
    "    RNASeqFileInfo.loc[idx,'URL'] = URL\n",
    "\n",
    "print script_rna\n",
    "\n",
    "RNASeqFileInfo.to_csv(\"/home/richard/research/1_DataSmall/rnaSeqFileList.csv\", index = None)\n",
    "with open(\"{}getRNASeqData_{}.sh\".format(logPath, shortName), 'w') as f: f.write(script_rna)\n",
    "print \"Please wait util the download is done.\".format(logPath,shortName)\n",
    "# RNASeqFileInfo\n"
   ]
  },
  {
   "cell_type": "code",
   "execution_count": 13,
   "metadata": {
    "collapsed": true
   },
   "outputs": [],
   "source": [
    "test = range(23)"
   ]
  },
  {
   "cell_type": "code",
   "execution_count": 11,
   "metadata": {
    "collapsed": true
   },
   "outputs": [],
   "source": [
    "import itertools"
   ]
  },
  {
   "cell_type": "code",
   "execution_count": 12,
   "metadata": {
    "collapsed": false
   },
   "outputs": [
    {
     "data": {
      "text/plain": [
       "[[0, 3, 6, 9, 12, 15, 18], [1, 4, 7, 10, 13, 16, 19], [2, 5, 8, 11, 14, 17]]"
      ]
     },
     "execution_count": 12,
     "metadata": {},
     "output_type": "execute_result"
    }
   ],
   "source": [
    "[test[i::3] for i in range(3)]"
   ]
  },
  {
   "cell_type": "code",
   "execution_count": 15,
   "metadata": {
    "collapsed": false
   },
   "outputs": [
    {
     "data": {
      "text/plain": [
       "[[0, 5, 10, 15, 20],\n",
       " [1, 6, 11, 16, 21],\n",
       " [2, 7, 12, 17, 22],\n",
       " [3, 8, 13, 18],\n",
       " [4, 9, 14, 19]]"
      ]
     },
     "execution_count": 15,
     "metadata": {},
     "output_type": "execute_result"
    }
   ],
   "source": [
    "[test[i::5] for i in range(5)]"
   ]
  },
  {
   "cell_type": "code",
   "execution_count": null,
   "metadata": {
    "collapsed": true
   },
   "outputs": [],
   "source": []
  }
 ],
 "metadata": {
  "kernelspec": {
   "display_name": "Python 2",
   "language": "python",
   "name": "python2"
  },
  "language_info": {
   "codemirror_mode": {
    "name": "ipython",
    "version": 2
   },
   "file_extension": ".py",
   "mimetype": "text/x-python",
   "name": "python",
   "nbconvert_exporter": "python",
   "pygments_lexer": "ipython2",
   "version": "2.7.10"
  }
 },
 "nbformat": 4,
 "nbformat_minor": 0
}
