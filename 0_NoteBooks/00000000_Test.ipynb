{
 "cells": [
  {
   "cell_type": "code",
   "execution_count": 17,
   "metadata": {
    "collapsed": true
   },
   "outputs": [],
   "source": [
    "import pandas as pd\n",
    "import re\n",
    "from BCBio.GFF import GFFExamine"
   ]
  },
  {
   "cell_type": "code",
   "execution_count": 8,
   "metadata": {
    "collapsed": true
   },
   "outputs": [],
   "source": [
    "examiner = GFFExaminer()\n",
    "in_handle = open(\"/storage3/w/richard/tempFiles/Pneji1_GeneCatalog_genes_20130607.gff\")\n",
    "test = examiner.available_limits(in_handle)\n",
    "in_handle.close()"
   ]
  },
  {
   "cell_type": "code",
   "execution_count": 31,
   "metadata": {
    "collapsed": false
   },
   "outputs": [
    {
     "name": "stdout",
     "output_type": "stream",
     "text": [
      "3520\n",
      "20191\n"
     ]
    }
   ],
   "source": [
    "geneSet = set()\n",
    "exonCount = 0\n",
    "with open(\"/storage3/w/richard/tempFiles/Pneji1_GeneCatalog_genes_20130607.gff\") as f:\n",
    "#     for i in range(200):\n",
    "#         line = f.readline()\n",
    "    for line in f:\n",
    "        if len(line)> 1:\n",
    "            data = line.split()\n",
    "            \n",
    "            gene = data[9]\n",
    "            pattern = '\\\".*?\\\"'\n",
    "            obj = re.match(pattern, gene)\n",
    "            gene = obj.group(0)\n",
    "            geneSet.add(gene)\n",
    "            \n",
    "            if data[2] == 'exon':\n",
    "                exonCount += 1\n",
    "                \n",
    "print len(geneSet)\n",
    "print exonCount"
   ]
  },
  {
   "cell_type": "code",
   "execution_count": null,
   "metadata": {
    "collapsed": true
   },
   "outputs": [],
   "source": []
  }
 ],
 "metadata": {
  "kernelspec": {
   "display_name": "Python 2",
   "language": "python",
   "name": "python2"
  },
  "language_info": {
   "codemirror_mode": {
    "name": "ipython",
    "version": 2
   },
   "file_extension": ".py",
   "mimetype": "text/x-python",
   "name": "python",
   "nbconvert_exporter": "python",
   "pygments_lexer": "ipython2",
   "version": "2.7.10"
  }
 },
 "nbformat": 4,
 "nbformat_minor": 0
}
