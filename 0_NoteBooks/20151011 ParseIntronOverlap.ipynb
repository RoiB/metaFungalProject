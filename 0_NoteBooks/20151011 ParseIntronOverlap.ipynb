{
 "cells": [
  {
   "cell_type": "code",
   "execution_count": 61,
   "metadata": {
    "collapsed": true
   },
   "outputs": [],
   "source": [
    "import pandas as pd\n",
    "import re"
   ]
  },
  {
   "cell_type": "code",
   "execution_count": 62,
   "metadata": {
    "collapsed": false,
    "scrolled": false
   },
   "outputs": [
    {
     "name": "stdout",
     "output_type": "stream",
     "text": [
      "Help on function finditer in module re:\n",
      "\n",
      "finditer(pattern, string, flags=0)\n",
      "    Return an iterator over all non-overlapping matches in the\n",
      "    string.  For each match, the iterator returns a match object.\n",
      "    \n",
      "    Empty matches are included in the result.\n",
      "\n"
     ]
    }
   ],
   "source": [
    "help(re.finditer)"
   ]
  },
  {
   "cell_type": "code",
   "execution_count": 65,
   "metadata": {
    "collapsed": false
   },
   "outputs": [
    {
     "data": {
      "text/plain": [
       "['Neopa1', 'intronOverlap']"
      ]
     },
     "execution_count": 65,
     "metadata": {},
     "output_type": "execute_result"
    }
   ],
   "source": [
    "re.findall('(\\S+?)\\.','Neopa1.intronOverlap.txt')[0]"
   ]
  },
  {
   "cell_type": "code",
   "execution_count": null,
   "metadata": {
    "collapsed": true
   },
   "outputs": [],
   "source": [
    "cols = ['rna_seq','ES','overlap','overlap_portion_in_rna_seq','overlap_portion_in_ES']\n",
    "filePath = '/home/richard/research/5_Tests/Oct9CompareIntron/'; filenames = os.listdir(filePath)"
   ]
  },
  {
   "cell_type": "code",
   "execution_count": 12,
   "metadata": {
    "collapsed": true
   },
   "outputs": [],
   "source": [
    "fileSC = sc.parallelize(filenames)"
   ]
  },
  {
   "cell_type": "code",
   "execution_count": 54,
   "metadata": {
    "collapsed": true
   },
   "outputs": [],
   "source": [
    "def extractIntronOverlapInfo(filePath,filename):\n",
    "    try:\n",
    "        with open(filePath+filename) as f:\n",
    "            for line in f:\n",
    "                items = line.split()\n",
    "                print items\n",
    "                if 'star_introns' in line:\n",
    "                    rna_seq, overlap, _, overlap_portion_in_rna_seq = map(lambda x: int(float(x)), items[:4])\n",
    "                else:\n",
    "                    ES,_,_,overlap_portion_in_ES = map(lambda x: int(float(x)), items[:4])\n",
    "                    print ES\n",
    "        return [rna_seq,ES,overlap,overlap_portion_in_rna_seq,overlap_portion_in_ES]\n",
    "    except:\n",
    "        return 'ERROR: {}'.format(filename)"
   ]
  },
  {
   "cell_type": "code",
   "execution_count": 69,
   "metadata": {
    "collapsed": false,
    "scrolled": false
   },
   "outputs": [
    {
     "data": {
      "text/plain": [
       "[('Neopa1', [27, 22392, 0, 0, 0]),\n",
       " ('Aspoch1', [22375, 19845, 14680, 65, 73]),\n",
       " ('Cenge3', [32091, 28373, 20822, 64, 73]),\n",
       " ('Pneji1', [4078, 16671, 2866, 70, 17]),\n",
       " ('Sphst1', [524, 129250, 473, 90, 0]),\n",
       " ('Conco1', [17943, 18881, 14036, 78, 74]),\n",
       " ('SerlaS7_9_2', [71106, 60425, 47350, 66, 78]),\n",
       " ('Veren1', [1846, 25242, 1, 0, 0]),\n",
       " ('Spofi1', [8, 18300, 0, 0, 0]),\n",
       " ('HypEC38_1', [1, 22740, 0, 0, 0]),\n",
       " ('Obbri1', [75017, 66273, 54608, 72, 82]),\n",
       " ('Hebcy2', [55835, 65105, 46385, 83, 71]),\n",
       " ('Phchr2', [78597, 59898, 51642, 65, 86]),\n",
       " ('Disac1', [13379, 12003, 9088, 67, 75]),\n",
       " ('Trias1', [19822, 6569, 5124, 25, 78]),\n",
       " ('Conli1', [17179, 24418, 12156, 70, 49]),\n",
       " ('Ophdi1', [22312, 25526, 16811, 75, 65]),\n",
       " ('Gloin1', [82147, 986, 594, 0, 60]),\n",
       " ('Croqu1', [39748, 24342, 16163, 40, 66])]"
      ]
     },
     "execution_count": 69,
     "metadata": {},
     "output_type": "execute_result"
    }
   ],
   "source": [
    "(text.map(lambda x: (x,extractIntronOverlapInfo(filePath, x))) # extract information\n",
    "     .map(lambda x: (re.findall('(\\S+?)\\.',x[0])[0], x[1]))    # filter filename to shortName\n",
    "     .filter(lambda x: 'ERROR' not in x[1])                    # filter out failed run\n",
    "     .collect())"
   ]
  }
 ],
 "metadata": {
  "kernelspec": {
   "display_name": "Python 2",
   "language": "python",
   "name": "python2"
  },
  "language_info": {
   "codemirror_mode": {
    "name": "ipython",
    "version": 2
   },
   "file_extension": ".py",
   "mimetype": "text/x-python",
   "name": "python",
   "nbconvert_exporter": "python",
   "pygments_lexer": "ipython2",
   "version": "2.7.10"
  }
 },
 "nbformat": 4,
 "nbformat_minor": 0
}
