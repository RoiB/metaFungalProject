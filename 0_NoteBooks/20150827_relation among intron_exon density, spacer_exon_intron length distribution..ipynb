{
 "cells": [
  {
   "cell_type": "code",
   "execution_count": 39,
   "metadata": {
    "collapsed": true
   },
   "outputs": [],
   "source": [
    "'''\n",
    "1. Fresh run on all genomes with the lastest GeneMark-ES\n",
    "2. Parse GeneMark-ES output model file in the last run and plot exon/spacer/intron length distribution \n",
    "3. find connect between exon density and the exon/spacer/intron distribution\n",
    "'''\n",
    "import pandas as pd\n",
    "fulldata = pd.read_csv(\"../1_DataSmall/fullTableInfoGff3GffRNA.csv\")\n",
    "fulldata.index = fulldata['shortName']\n",
    "\n",
    "# The files under the fastapath were obtained from the script created in 2_Consolidation\n",
    "# buildingMarkovModel part\n",
    "fastaPath =\"/home/richard/largeDataSet/genomeFasta/\" \n",
    "targetConvergePath = \"/home/richard/largeDataSet/ES_Run_Result_Aug27/\"\n",
    "targetPath = \"/scratch/fungi/ES_Run_Aug2015/\""
   ]
  },
  {
   "cell_type": "code",
   "execution_count": 78,
   "metadata": {
    "collapsed": false
   },
   "outputs": [
    {
     "name": "stdout",
     "output_type": "stream",
     "text": [
      "Number of nodes active: 31\n",
      "problem with Neute_matA2\n",
      "problem with Pospl1\n",
      "problem with Crypa2\n",
      "problem with Ustma1\n",
      "problem with Sporo1\n"
     ]
    }
   ],
   "source": [
    "## make scripts to run GeneMark-ES that distribute the work to m machines\n",
    "\n",
    "\n",
    "##########################################################################\n",
    "# first of all, copy fasta files to nodes local drive: scratch\n",
    "# command to check is nodes are good: for((i=10;i<34;i++)); do ssh node0\"$i\" echo \"$i\";done\n",
    "# nodes 007, 031 fails\n",
    "nodeNum = [\"00\"+str(i) for i in range(1,34) if i!=7 and i!=31]; nodeNum = map(lambda x: \"node\"+x[-3:], nodeNum)\n",
    "print \"Number of nodes active:\",len(nodeNum)\n",
    "numNode = len(nodeNum)\n",
    "\n",
    "# split shortName column as a list of 31 sublist\n",
    "shortName = list(fulldata['shortName'])\n",
    "shortNameSublists = [shortName[i::numNode] for i in range(numNode)]\n",
    "\n",
    "# assign each node a sublist of shortName\n",
    "nodeJob = zip(nodeNum,shortNameSublists)\n",
    "\n",
    "# make folder ES_Run_Aug2015 on each node's local drive, /scratch/fungi/ and copy the relavent shortName folder\n",
    "# mkdir to nodes was performed on command line\n",
    "script = \"\"\n",
    "for node,shorNames in nodeJob:\n",
    "    for shortName in shorNames:\n",
    "        script += \"ssh {} cp -r {}{} {}\\n\".format(node,fastaPath,shortName, targetPath)\n",
    "with open(\"/home/richard/tempFile/cp_fasta.sh\",'w') as f: f.write(script)\n",
    "##########################################################################\n",
    "\n",
    "##########################################################################\n",
    "#execute GeneMark-ES on from each node\n",
    "\n",
    "es_command = \"/home/alexl/DISTR/gmes_petap/gmes_petap.pl --ES --fungus --min_contig 10000 --cores 8 --v  --seq \"\n",
    "script = \"\"\n",
    "for node,shorNames in nodeJob:\n",
    "    for shortName in shorNames:\n",
    "        try:\n",
    "            script += 'nohup ssh {} \"cd {}{}; {}{}; cd ..\" &\\n '.format(node,targetPath,shortName,es_command,fulldata.loc[shortName]['fastaName'][:-3])\n",
    "        except:\n",
    "            print \"problem with\",shortName\n",
    "with open(\"/home/richard/tempFile/run_ES_Aug2015.sh\",'w') as f: f.write(script)  \n",
    "\n",
    "# print script\n",
    "##########################################################################\n",
    "## The above script has problem\n",
    "## the correct way to do it is to add nohup the first time it use a new node\n",
    "\n",
    "## copy mod file on the 4th run\n",
    "modfilePath = \"run/ES_C_4/ES_C_4.mod\"\n",
    "targetModPath = \"/home/richard/largeDataSet/ES_Run_modfileAug2015/\"\n",
    "script = \"\"\n",
    "for node,shorNames in nodeJob:\n",
    "    for shortName in shorNames:\n",
    "        script += 'ssh {} cp {}{}/{} {}{}.ES_C_4.mod\\n'.format(node, targetPath, shortName,modfilePath,targetModPath, shortName)\n",
    "with open(\"/home/richard/tempFile/cp_run_ES_mod_Aug2015.sh\",'w') as f: f.write(script)  "
   ]
  },
  {
   "cell_type": "code",
   "execution_count": null,
   "metadata": {
    "collapsed": true
   },
   "outputs": [],
   "source": [
    "## create an extra column to label if ES is successful"
   ]
  }
 ],
 "metadata": {
  "kernelspec": {
   "display_name": "Python 2",
   "language": "python",
   "name": "python2"
  },
  "language_info": {
   "codemirror_mode": {
    "name": "ipython",
    "version": 2
   },
   "file_extension": ".py",
   "mimetype": "text/x-python",
   "name": "python",
   "nbconvert_exporter": "python",
   "pygments_lexer": "ipython2",
   "version": "2.7.10"
  }
 },
 "nbformat": 4,
 "nbformat_minor": 0
}
