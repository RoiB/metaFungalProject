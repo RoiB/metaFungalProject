{
 "cells": [
  {
   "cell_type": "code",
   "execution_count": 3,
   "metadata": {
    "collapsed": false
   },
   "outputs": [],
   "source": [
    "'''\n",
    "1. Visualize intron, exon length distrbution.\n",
    "    1) Exon: initial, internal, terminal\n",
    "    2) intron: general intron, donor to branch point, branch point to acceptor\n",
    "\n",
    "2. Fit Gamma distribution to exon \n",
    "'''\n",
    "import pandas as pd\n",
    "import numpy as np\n",
    "import matplotlib.pylab as plt\n",
    "%matplotlib inline\n",
    "\n",
    "import os\n",
    "# The path where all the GeneMark-ES 4th run models located\n",
    "modelFilePath = \"/home/richard/largeDataSet/ES_Run_modfileAug2015/\" \n",
    "modelFileNames = os.listdir(modelFilePath)\n",
    "\n",
    "# full data\n",
    "fulldata = pd.read_csv(\"../1_DataSmall/fullTableInfoGff3GffRNAESwithDensity20150829.csv\")\n",
    "fulldata.index = fulldata['shortName']"
   ]
  },
  {
   "cell_type": "code",
   "execution_count": 4,
   "metadata": {
    "collapsed": false
   },
   "outputs": [],
   "source": [
    "class ESModelDistribution():\n",
    "    \"\"\"Take in 4th run of model file as text and extract distribution info\"\"\"\n",
    "    _DISTR_TYPE= {\n",
    "        'INITIAL'  :('$INITIAL_DISTR', range(3,10001)),\n",
    "        'EXON'     :('$EXON_DISTR',range(3,10001)),\n",
    "        'TERMINAL' : ('$TERMINAL_DISTR', range(3,10001)),\n",
    "        'SINGLE'   :('$SINGLE_DISTR', range(300,10000)),\n",
    "        'INTRON'   :('$INTRON_DISTR',range(20,3001)),\n",
    "        'BP_ACC'   :('$BP_ACC_DISTR',range(2,41)),\n",
    "        'DON_BP'   :('$DON_BP_DISTR',range(5,3001))\n",
    "    }\n",
    "    \n",
    "    def __init__(self, filename):\n",
    "        self.f = open(filename)\n",
    "    \n",
    "    def close(self):\n",
    "        '''close file connection'''\n",
    "        self.f.close()\n",
    "    \n",
    "    def getLengthDistribution(self, probAcc = 0.95, distrType = 'EXON'):\n",
    "        \n",
    "        '''\n",
    "        input: Optional\n",
    "        probAcc, probability accumulation, default = 0.9\n",
    "        distrType, one of the six length distribution type\n",
    "        \n",
    "        return: dataframe with probability and their position(as two columns) that take up 0.95 probability(default)\n",
    "           \n",
    "        '''\n",
    "        # decompose the distrbutionType varibable to distribution type/tag and min_max length range\n",
    "        TAG, RANGE = self._DISTR_TYPE[distrType]\n",
    "        # accqure the max length signal\n",
    "        LENGTH = RANGE[-1]\n",
    "\n",
    "        # capture length distribution\n",
    "        lengthData = []\n",
    "        switch = False\n",
    "        for line in self.f:\n",
    "            if switch:\n",
    "                lengthData.append(line)\n",
    "            if TAG in line:\n",
    "                switch = True\n",
    "            if switch and \"{}\\t\".format(LENGTH) in line:\n",
    "                switch = False\n",
    "                break\n",
    "        lengthData = map(lambda line: line.rstrip().split(\"\\t\"), lengthData)\n",
    "        positionProbabilityPair = map(lambda (a,b): (int(a), float(b)), lengthData)\n",
    "        \n",
    "        df = pd.DataFrame(positionProbabilityPair, columns=['position','probability']) \n",
    "        \n",
    "        #sort probability in reverse order, capture distribution that take up to probAcc\n",
    "        df.sort_index(axis = 0, ascending = False, by = ['probability'], inplace = True)\n",
    "        df['accProb'] = df.probability.cumsum()\n",
    "        idx  = df.accProb < probAcc\n",
    "        df_sub = df[idx].copy()\n",
    "        #sort index to original order, output data frame\n",
    "        df_sub.sort_index(axis = 0, by = ['position'], inplace = True)\n",
    "        return df_sub[['position','probability']]\n",
    "\n",
    "    def plotLengthDistrbution(self, df, longName = '', lengthType = '',  path = None, x_lim = None, y_lim = None, showPlot = True, gc=None, intronDensity=None, saveName = None):\n",
    "        fig = plt.figure()\n",
    "        ax = fig.add_subplot(1,1,1)\n",
    "        ax.plot(df.position, df.probability, 'r.',markersize=6)\n",
    "        ax.set_title('{} Length Distribution\\nOrganism: {}\\nGC: {},  Intron Density: {}'.format(lengthType,longName,gc,intronDensity))\n",
    "        ax.set_xlabel('{} Length'.format(lengthType))\n",
    "        ax.set_ylabel('Probability')\n",
    "        ax.set_xlim(x_lim)\n",
    "        ax.set_ylim(y_lim)\n",
    "        if path and saveName:\n",
    "            plt.savefig(\"{}{}\".format(path, saveName), bbox_inches='tight')\n",
    "        if not showPlot:\n",
    "            plt.close(fig)"
   ]
  },
  {
   "cell_type": "code",
   "execution_count": 5,
   "metadata": {
    "collapsed": true
   },
   "outputs": [],
   "source": [
    "def batchPlot(probAcc,x_lim,y_lim, targetPath, lengthType, distrType, testPlot = False, sampleSize = 10):\n",
    "    if testPlot:\n",
    "        max_range = sampleSize\n",
    "    else:\n",
    "        max_range = len(modelFileNames)\n",
    "        \n",
    "        \n",
    "    for modelFileName in modelFileNames[0:max_range]:\n",
    "        shortName = modelFileName.split('.ES_C_4.mod')[0]\n",
    "        longName = fulldata.loc[shortName]['longName']\n",
    "        longName = \" \".join(longName.split()[:2])\n",
    "\n",
    "        gc = fulldata.loc[shortName]['gc']\n",
    "        if pd.isnull(fulldata.loc[shortName]['intronDensityGff3']):\n",
    "            intronDensity = fulldata.loc[shortName]['intronDensityGff']\n",
    "        else:\n",
    "            intronDensity = fulldata.loc[shortName]['intronDensityGff3']\n",
    "        saveName = '{}_{}.png'.format(distrType, shortName)\n",
    "\n",
    "        model = ESModelDistribution('{}{}'.format(modelFilePath,modelFileName))\n",
    "        df = model.getLengthDistribution(probAcc, distrType)\n",
    "        model.plotLengthDistrbution(df,longName,lengthType,targetPath,x_lim,y_lim,testPlot,gc,intronDensity,saveName)\n",
    "        model.close()    "
   ]
  },
  {
   "cell_type": "code",
   "execution_count": 6,
   "metadata": {
    "collapsed": true
   },
   "outputs": [],
   "source": [
    "# exon specific x, y limit\n",
    "x_lim = [0,1501]\n",
    "y_lim = [0,0.005]\n",
    "\n",
    "probAcc = 0.95 # how much probability do we want to capture"
   ]
  },
  {
   "cell_type": "code",
   "execution_count": 8,
   "metadata": {
    "collapsed": false,
    "scrolled": false
   },
   "outputs": [],
   "source": [
    "## plot internal exon length distribution\n",
    "targetPath = '/home/richard/research/1_DataSmall/Plots/lengthDistribution/internalExon/'\n",
    "lengthType = 'Internal Exon'\n",
    "distrType = 'EXON'\n",
    "\n",
    "# turn testPlot = True to test plotting\n",
    "batchPlot(probAcc,x_lim,y_lim, targetPath, lengthType, distrType, testPlot = False, sampleSize = 5)"
   ]
  },
  {
   "cell_type": "code",
   "execution_count": 6,
   "metadata": {
    "collapsed": false,
    "scrolled": false
   },
   "outputs": [],
   "source": [
    "## plot initial exon length distribution\n",
    "targetPath = '/home/richard/research/1_DataSmall/Plots/lengthDistribution/initialExon/'\n",
    "lengthType = 'Initial Exon'\n",
    "distrType = 'INITIAL'\n",
    "batchPlot(probAcc,x_lim,y_lim, targetPath, lengthType, distrType, testPlot = False, sampleSize = 20)"
   ]
  },
  {
   "cell_type": "code",
   "execution_count": 7,
   "metadata": {
    "collapsed": true
   },
   "outputs": [],
   "source": [
    "## plot terminal exon length distribution\n",
    "targetPath = '/home/richard/research/1_DataSmall/Plots/lengthDistribution/terminalExon/'\n",
    "lengthType = 'Terminal Exon'\n",
    "distrType = 'TERMINAL'\n",
    "batchPlot(probAcc,x_lim,y_lim, targetPath, lengthType, distrType, testPlot = False, sampleSize = 20)"
   ]
  },
  {
   "cell_type": "code",
   "execution_count": 8,
   "metadata": {
    "collapsed": true
   },
   "outputs": [],
   "source": [
    "# intron specific x, y limit\n",
    "x_lim = [0,150]\n",
    "y_lim = [0,0.15]\n",
    "probAcc = 0.99 # how much probability do we want to capture"
   ]
  },
  {
   "cell_type": "code",
   "execution_count": 9,
   "metadata": {
    "collapsed": false,
    "scrolled": false
   },
   "outputs": [],
   "source": [
    "## plot intron length distribution\n",
    "targetPath = '/home/richard/research/1_DataSmall/Plots/lengthDistribution/intron/'\n",
    "lengthType = 'Intron'\n",
    "distrType = 'INTRON'\n",
    "batchPlot(probAcc,x_lim,y_lim, targetPath, lengthType, distrType, testPlot = False, sampleSize = 20)"
   ]
  },
  {
   "cell_type": "code",
   "execution_count": 10,
   "metadata": {
    "collapsed": false,
    "scrolled": false
   },
   "outputs": [],
   "source": [
    "## plot Spacer length distribution\n",
    "targetPath = '/home/richard/research/1_DataSmall/Plots/lengthDistribution/bp_to_acc/'\n",
    "lengthType = 'Spacer'\n",
    "distrType = 'BP_ACC'\n",
    "batchPlot(probAcc,x_lim,y_lim, targetPath, lengthType, distrType, testPlot = False, sampleSize = 20)"
   ]
  },
  {
   "cell_type": "code",
   "execution_count": 11,
   "metadata": {
    "collapsed": false,
    "scrolled": false
   },
   "outputs": [],
   "source": [
    "## plot intron length distribution\n",
    "targetPath = '/home/richard/research/1_DataSmall/Plots/lengthDistribution/don_to_bp/'\n",
    "lengthType = 'Donor To Branch Point'\n",
    "distrType = 'DON_BP'\n",
    "batchPlot(probAcc,x_lim,y_lim, targetPath, lengthType, distrType, testPlot = False, sampleSize = 20)"
   ]
  }
 ],
 "metadata": {
  "kernelspec": {
   "display_name": "Python 2",
   "language": "python",
   "name": "python2"
  },
  "language_info": {
   "codemirror_mode": {
    "name": "ipython",
    "version": 2
   },
   "file_extension": ".py",
   "mimetype": "text/x-python",
   "name": "python",
   "nbconvert_exporter": "python",
   "pygments_lexer": "ipython2",
   "version": "2.7.10"
  }
 },
 "nbformat": 4,
 "nbformat_minor": 0
}
