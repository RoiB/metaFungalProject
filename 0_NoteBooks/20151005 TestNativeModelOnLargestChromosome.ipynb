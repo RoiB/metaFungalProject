{
 "cells": [
  {
   "cell_type": "code",
   "execution_count": 39,
   "metadata": {
    "collapsed": true
   },
   "outputs": [],
   "source": [
    "'''\n",
    "1. choose the largeset contig/chromosome of each species\n",
    "2. filter annotation according to the contig\n",
    "3. run genemark.hmm on the contig\n",
    "4. convert genemark prediction to gtf\n",
    "5. Compare gtf result with annotation\n",
    "'''\n",
    "import pandas as pd\n",
    "from Bio import SeqIO\n",
    "import numpy as np\n",
    "import subprocess"
   ]
  },
  {
   "cell_type": "code",
   "execution_count": 3,
   "metadata": {
    "collapsed": false
   },
   "outputs": [
    {
     "data": {
      "text/html": [
       "<div>\n",
       "<table border=\"1\" class=\"dataframe\">\n",
       "  <thead>\n",
       "    <tr style=\"text-align: right;\">\n",
       "      <th></th>\n",
       "      <th>shortName</th>\n",
       "      <th>longName</th>\n",
       "      <th>gc</th>\n",
       "      <th>intronDensityGff</th>\n",
       "      <th>fastaName</th>\n",
       "      <th>gffName</th>\n",
       "      <th>gff3Name</th>\n",
       "    </tr>\n",
       "    <tr>\n",
       "      <th>shortName</th>\n",
       "      <th></th>\n",
       "      <th></th>\n",
       "      <th></th>\n",
       "      <th></th>\n",
       "      <th></th>\n",
       "      <th></th>\n",
       "      <th></th>\n",
       "    </tr>\n",
       "  </thead>\n",
       "  <tbody>\n",
       "    <tr>\n",
       "      <th>Aspoch1</th>\n",
       "      <td>Aspoch1</td>\n",
       "      <td>Aspergillus ochraceoroseus IBT 24754 v1.0</td>\n",
       "      <td>44.2</td>\n",
       "      <td>2.23</td>\n",
       "      <td>Aspoch1_AssemblyScaffolds.fasta.gz</td>\n",
       "      <td>Aspoch1_GeneCatalog_genes_20140127.gff.gz</td>\n",
       "      <td>Aspoch1.filtered_proteins.FilteredModels1.gff3.gz</td>\n",
       "    </tr>\n",
       "    <tr>\n",
       "      <th>Disac1</th>\n",
       "      <td>Disac1</td>\n",
       "      <td>Dissoconium aciculare v1.0</td>\n",
       "      <td>52.7</td>\n",
       "      <td>1.17</td>\n",
       "      <td>Disac1_AssemblyScaffolds.fasta.gz</td>\n",
       "      <td>Disac1_GeneCatalog_genes_20130805.gff.gz</td>\n",
       "      <td>Disac1.filtered_proteins.FilteredModels2.gff3.gz</td>\n",
       "    </tr>\n",
       "    <tr>\n",
       "      <th>Cenge3</th>\n",
       "      <td>Cenge3</td>\n",
       "      <td>Cenococcum geophilum 1.58 v2.0</td>\n",
       "      <td>37.5</td>\n",
       "      <td>1.93</td>\n",
       "      <td>Cenge3_AssemblyScaffolds.fasta.gz</td>\n",
       "      <td>Cenge3_GeneCatalog_genes_20130403.gff.gz</td>\n",
       "      <td>Cenge3.filtered_proteins.FilteredModels1.gff3.gz</td>\n",
       "    </tr>\n",
       "    <tr>\n",
       "      <th>Conli1</th>\n",
       "      <td>Conli1</td>\n",
       "      <td>Coniochaeta ligniaria CBS 111746</td>\n",
       "      <td>51.9</td>\n",
       "      <td>1.98</td>\n",
       "      <td>Conli1_AssemblyScaffolds.fasta.gz</td>\n",
       "      <td>Conli1_GeneCatalog_genes_20130808.gff.gz</td>\n",
       "      <td>Conli1.filtered_proteins.ExternalModels.gff3.gz</td>\n",
       "    </tr>\n",
       "  </tbody>\n",
       "</table>\n",
       "</div>"
      ],
      "text/plain": [
       "          shortName                                   longName    gc  \\\n",
       "shortName                                                              \n",
       "Aspoch1     Aspoch1  Aspergillus ochraceoroseus IBT 24754 v1.0  44.2   \n",
       "Disac1       Disac1                 Dissoconium aciculare v1.0  52.7   \n",
       "Cenge3       Cenge3             Cenococcum geophilum 1.58 v2.0  37.5   \n",
       "Conli1       Conli1           Coniochaeta ligniaria CBS 111746  51.9   \n",
       "\n",
       "           intronDensityGff                           fastaName  \\\n",
       "shortName                                                         \n",
       "Aspoch1                2.23  Aspoch1_AssemblyScaffolds.fasta.gz   \n",
       "Disac1                 1.17   Disac1_AssemblyScaffolds.fasta.gz   \n",
       "Cenge3                 1.93   Cenge3_AssemblyScaffolds.fasta.gz   \n",
       "Conli1                 1.98   Conli1_AssemblyScaffolds.fasta.gz   \n",
       "\n",
       "                                             gffName  \\\n",
       "shortName                                              \n",
       "Aspoch1    Aspoch1_GeneCatalog_genes_20140127.gff.gz   \n",
       "Disac1      Disac1_GeneCatalog_genes_20130805.gff.gz   \n",
       "Cenge3      Cenge3_GeneCatalog_genes_20130403.gff.gz   \n",
       "Conli1      Conli1_GeneCatalog_genes_20130808.gff.gz   \n",
       "\n",
       "                                                    gff3Name  \n",
       "shortName                                                     \n",
       "Aspoch1    Aspoch1.filtered_proteins.FilteredModels1.gff3.gz  \n",
       "Disac1      Disac1.filtered_proteins.FilteredModels2.gff3.gz  \n",
       "Cenge3      Cenge3.filtered_proteins.FilteredModels1.gff3.gz  \n",
       "Conli1       Conli1.filtered_proteins.ExternalModels.gff3.gz  "
      ]
     },
     "execution_count": 3,
     "metadata": {},
     "output_type": "execute_result"
    }
   ],
   "source": [
    "full_info = pd.read_csv('../1_DataSmall/fullTableInfoGff3GffRNAESwithDensity20150829.csv')\n",
    "full_info.index = full_info.shortName\n",
    "\n",
    "rna_seq_result_path = '/storage3/w/richard/meta2015/placeForRNASeq/'\n",
    "rna_seq_result_shortName = os.listdir(rna_seq_result_path)\n",
    "rna_seq_result_shortName = filter(lambda x: 'Clafu1' not in x, rna_seq_result_shortName)\n",
    "\n",
    "cols = ['shortName','longName','gc','intronDensityGff','fastaName','gffName','gff3Name']\n",
    "supported_set = full_info.loc[rna_seq_result_shortName]  # rna seq data supported set\n",
    "supported_set[cols].head(4)"
   ]
  },
  {
   "cell_type": "code",
   "execution_count": 12,
   "metadata": {
    "collapsed": false
   },
   "outputs": [],
   "source": [
    "# 1. choose the largeset contig/chromosome of each species\n",
    "# 1.1 read in all genomes\n",
    "genomes = []\n",
    "for shortName in rna_seq_result_shortName:\n",
    "    fastaName = supported_set.loc[shortName].fastaName[:-3]\n",
    "    filename = '{}{}/data/{}'.format(rna_seq_result_path,shortName,fastaName)\n",
    "    genomes.append(list(SeqIO.parse(filename,'fasta')))"
   ]
  },
  {
   "cell_type": "code",
   "execution_count": 18,
   "metadata": {
    "collapsed": false
   },
   "outputs": [],
   "source": [
    "# 1.2 calculate length of each contig in each genome and find the argmax for each genome\n",
    "genome_contig_lengths = [map(len,contigs) for contigs in genomes]\n",
    "genome_argmax_contig_length = map(np.argmax,genome_contig_lengths)"
   ]
  },
  {
   "cell_type": "code",
   "execution_count": 25,
   "metadata": {
    "collapsed": false,
    "scrolled": true
   },
   "outputs": [],
   "source": [
    "# 1.3 extract contig with longest sequence\n",
    "genomes_maxlength_contigs = map(lambda i: genomes[i][genome_argmax_contig_length[i]], range(len(genome_argmax_contig_length)))\n",
    "## get contigs name\n",
    "name_maxlength_contigs = map(lambda x: x.id, genomes_maxlength_contigs)"
   ]
  },
  {
   "cell_type": "code",
   "execution_count": 121,
   "metadata": {
    "collapsed": false
   },
   "outputs": [],
   "source": [
    "# 1.4 write extracted contig with longest sequence\n",
    "outputPath = '/storage3/w/richard/meta2015/finalTestSet20151002/longestContigs/'\n",
    "for i in range(len(genome_argmax_contig_length)):\n",
    "    shortName = rna_seq_result_shortName[i]\n",
    "    contigName = name_maxlength_contigs[i]\n",
    "    filePath = \"{}{}_{}.fasta\".format(outputPath,shortName,contigName)\n",
    "    SeqIO.write(genomes_maxlength_contigs[i],filePath,'fasta')"
   ]
  },
  {
   "cell_type": "code",
   "execution_count": 41,
   "metadata": {
    "collapsed": false
   },
   "outputs": [],
   "source": [
    "##############################\n",
    "# 2. filter annotation according to the contig\n",
    "annotationPath = \"/storage3/w/richard/meta2015/finalTestSet20151002/gtf_converted_from_gff/\"\n",
    "annotationNames = [gffName[:-7]+\".gtf\" for gffName in supported_set.gffName]\n",
    "\n",
    "outputPath = '/storage3/w/richard/meta2015/finalTestSet20151002/longestContigsAnnotation/'\n",
    "for i in range(len(annotationNames)):\n",
    "    shortName = rna_seq_result_shortName[i]\n",
    "    contigName = name_maxlength_contigs[i]\n",
    "    outputName = '{}{}_{}.gtf'.format(outputPath,shortName,contigName)\n",
    "    inputName = annotationPath+annotationNames[i]\n",
    "    command = 'python /home/richard/research/4_Tools/filter_annotation.py'\n",
    "    subprocess.check_call('{} {} {} {}'.format(command, inputName, outputName, contigName),shell=True)"
   ]
  },
  {
   "cell_type": "code",
   "execution_count": 58,
   "metadata": {
    "collapsed": false
   },
   "outputs": [],
   "source": [
    "##############################\n",
    "# 3. run genemark.hmm on the contigs\n",
    "fastaPath = \"/storage3/w/richard/meta2015/finalTestSet20151002/longestContigs/\"\n",
    "fastaNames = [\"{}_{}.fasta\".format(rna_seq_result_shortName[i], name_maxlength_contigs[i]) for i in range(len(annotationNames))]\n",
    "\n",
    "\n",
    "modelPath = '/home/richard/largeDataSet/ES_Run_modfileAug2015/'\n",
    "modelNames = ['{}.ES_C_4.mod'.format(shortName) for shortName in rna_seq_result_shortName]\n",
    "\n",
    "outputPath = '/storage3/w/richard/meta2015/finalTestSet20151002/longestContigsGenemarkhmm/'\n",
    "outputNames = map(lambda x: x[:-6]+'.gmhmme3', fastaNames)\n",
    "\n",
    "base = '/home/richard/research/4_Tools/essuite/gmhmme3 -m '\n",
    "script = ''\n",
    "for i in range(len(annotationNames)):\n",
    "    script += base + modelPath+modelNames[i]+ \" \"+ fastaPath+fastaNames[i]+\" -o \"+ outputPath+outputNames[i]+\"\\n\"\n",
    "\n",
    "with open(\"/home/richard/tempFile/gmhmmContigs.sh\",'w') as f: f.write(script)"
   ]
  },
  {
   "cell_type": "code",
   "execution_count": 84,
   "metadata": {
    "collapsed": false
   },
   "outputs": [],
   "source": [
    "# print script"
   ]
  },
  {
   "cell_type": "code",
   "execution_count": 85,
   "metadata": {
    "collapsed": false
   },
   "outputs": [],
   "source": [
    "# gmhmm3Names"
   ]
  },
  {
   "cell_type": "code",
   "execution_count": 125,
   "metadata": {
    "collapsed": false
   },
   "outputs": [
    {
     "name": "stdout",
     "output_type": "stream",
     "text": [
      "python /home/richard/research/4_Tools/gmhmme3_to_gtf.py  /storage3/w/richard/meta2015/finalTestSet20151002/longestContigsGenemarkhmm/Aspoch1_scaffold_1.gmhmme3 /storage3/w/richard/meta2015/finalTestSet20151002/longestContigsGenemarkhmmToGTF/Aspoch1_scaffold_1.gmhmme3.gtf scaffold_1\n",
      "python /home/richard/research/4_Tools/gmhmme3_to_gtf.py  /storage3/w/richard/meta2015/finalTestSet20151002/longestContigsGenemarkhmm/Disac1_scaffold_1.gmhmme3 /storage3/w/richard/meta2015/finalTestSet20151002/longestContigsGenemarkhmmToGTF/Disac1_scaffold_1.gmhmme3.gtf scaffold_1\n",
      "python /home/richard/research/4_Tools/gmhmme3_to_gtf.py  /storage3/w/richard/meta2015/finalTestSet20151002/longestContigsGenemarkhmm/Cenge3_scaffold_1.gmhmme3 /storage3/w/richard/meta2015/finalTestSet20151002/longestContigsGenemarkhmmToGTF/Cenge3_scaffold_1.gmhmme3.gtf scaffold_1\n",
      "python /home/richard/research/4_Tools/gmhmme3_to_gtf.py  /storage3/w/richard/meta2015/finalTestSet20151002/longestContigsGenemarkhmm/Conli1_NODE_1580.gmhmme3 /storage3/w/richard/meta2015/finalTestSet20151002/longestContigsGenemarkhmmToGTF/Conli1_NODE_1580.gmhmme3.gtf NODE_1580\n",
      "python /home/richard/research/4_Tools/gmhmme3_to_gtf.py  /storage3/w/richard/meta2015/finalTestSet20151002/longestContigsGenemarkhmm/Trias1_scaffold_1.gmhmme3 /storage3/w/richard/meta2015/finalTestSet20151002/longestContigsGenemarkhmmToGTF/Trias1_scaffold_1.gmhmme3.gtf scaffold_1\n",
      "python /home/richard/research/4_Tools/gmhmme3_to_gtf.py  /storage3/w/richard/meta2015/finalTestSet20151002/longestContigsGenemarkhmm/Pneji1_contig_281.gmhmme3 /storage3/w/richard/meta2015/finalTestSet20151002/longestContigsGenemarkhmmToGTF/Pneji1_contig_281.gmhmme3.gtf contig_281\n",
      "python /home/richard/research/4_Tools/gmhmme3_to_gtf.py  /storage3/w/richard/meta2015/finalTestSet20151002/longestContigsGenemarkhmm/Ophdi1_scaffold_1.gmhmme3 /storage3/w/richard/meta2015/finalTestSet20151002/longestContigsGenemarkhmmToGTF/Ophdi1_scaffold_1.gmhmme3.gtf scaffold_1\n",
      "python /home/richard/research/4_Tools/gmhmme3_to_gtf.py  /storage3/w/richard/meta2015/finalTestSet20151002/longestContigsGenemarkhmm/HypEC38_1_scaffold_1.gmhmme3 /storage3/w/richard/meta2015/finalTestSet20151002/longestContigsGenemarkhmmToGTF/HypEC38_1_scaffold_1.gmhmme3.gtf scaffold_1\n",
      "python /home/richard/research/4_Tools/gmhmme3_to_gtf.py  /storage3/w/richard/meta2015/finalTestSet20151002/longestContigsGenemarkhmm/Hebcy2_scaffold_1.gmhmme3 /storage3/w/richard/meta2015/finalTestSet20151002/longestContigsGenemarkhmmToGTF/Hebcy2_scaffold_1.gmhmme3.gtf scaffold_1\n",
      "python /home/richard/research/4_Tools/gmhmme3_to_gtf.py  /storage3/w/richard/meta2015/finalTestSet20151002/longestContigsGenemarkhmm/Aurvu1_scaffold_1.gmhmme3 /storage3/w/richard/meta2015/finalTestSet20151002/longestContigsGenemarkhmmToGTF/Aurvu1_scaffold_1.gmhmme3.gtf scaffold_1\n",
      "python /home/richard/research/4_Tools/gmhmme3_to_gtf.py  /storage3/w/richard/meta2015/finalTestSet20151002/longestContigsGenemarkhmm/SerlaS7_9_2_scaffold_1.gmhmme3 /storage3/w/richard/meta2015/finalTestSet20151002/longestContigsGenemarkhmmToGTF/SerlaS7_9_2_scaffold_1.gmhmme3.gtf scaffold_1\n",
      "python /home/richard/research/4_Tools/gmhmme3_to_gtf.py  /storage3/w/richard/meta2015/finalTestSet20151002/longestContigsGenemarkhmm/Veren1_scaffold_1.gmhmme3 /storage3/w/richard/meta2015/finalTestSet20151002/longestContigsGenemarkhmmToGTF/Veren1_scaffold_1.gmhmme3.gtf scaffold_1\n",
      "python /home/richard/research/4_Tools/gmhmme3_to_gtf.py  /storage3/w/richard/meta2015/finalTestSet20151002/longestContigsGenemarkhmm/Gloin1_scaffold_523.gmhmme3 /storage3/w/richard/meta2015/finalTestSet20151002/longestContigsGenemarkhmmToGTF/Gloin1_scaffold_523.gmhmme3.gtf scaffold_523\n",
      "python /home/richard/research/4_Tools/gmhmme3_to_gtf.py  /storage3/w/richard/meta2015/finalTestSet20151002/longestContigsGenemarkhmm/Obbri1_scaffold_1.gmhmme3 /storage3/w/richard/meta2015/finalTestSet20151002/longestContigsGenemarkhmmToGTF/Obbri1_scaffold_1.gmhmme3.gtf scaffold_1\n",
      "python /home/richard/research/4_Tools/gmhmme3_to_gtf.py  /storage3/w/richard/meta2015/finalTestSet20151002/longestContigsGenemarkhmm/Tilan2_scaffold_1.gmhmme3 /storage3/w/richard/meta2015/finalTestSet20151002/longestContigsGenemarkhmmToGTF/Tilan2_scaffold_1.gmhmme3.gtf scaffold_1\n",
      "python /home/richard/research/4_Tools/gmhmme3_to_gtf.py  /storage3/w/richard/meta2015/finalTestSet20151002/longestContigsGenemarkhmm/Phchr2_scaffold_1.gmhmme3 /storage3/w/richard/meta2015/finalTestSet20151002/longestContigsGenemarkhmmToGTF/Phchr2_scaffold_1.gmhmme3.gtf scaffold_1\n",
      "python /home/richard/research/4_Tools/gmhmme3_to_gtf.py  /storage3/w/richard/meta2015/finalTestSet20151002/longestContigsGenemarkhmm/Sphst1_scaffold_1.gmhmme3 /storage3/w/richard/meta2015/finalTestSet20151002/longestContigsGenemarkhmmToGTF/Sphst1_scaffold_1.gmhmme3.gtf scaffold_1\n",
      "python /home/richard/research/4_Tools/gmhmme3_to_gtf.py  /storage3/w/richard/meta2015/finalTestSet20151002/longestContigsGenemarkhmm/Conco1_scaffold_1.gmhmme3 /storage3/w/richard/meta2015/finalTestSet20151002/longestContigsGenemarkhmmToGTF/Conco1_scaffold_1.gmhmme3.gtf scaffold_1\n",
      "python /home/richard/research/4_Tools/gmhmme3_to_gtf.py  /storage3/w/richard/meta2015/finalTestSet20151002/longestContigsGenemarkhmm/Neopa1_scaffold_148.gmhmme3 /storage3/w/richard/meta2015/finalTestSet20151002/longestContigsGenemarkhmmToGTF/Neopa1_scaffold_148.gmhmme3.gtf scaffold_148\n",
      "python /home/richard/research/4_Tools/gmhmme3_to_gtf.py  /storage3/w/richard/meta2015/finalTestSet20151002/longestContigsGenemarkhmm/Croqu1_scaffold_1.gmhmme3 /storage3/w/richard/meta2015/finalTestSet20151002/longestContigsGenemarkhmmToGTF/Croqu1_scaffold_1.gmhmme3.gtf scaffold_1\n",
      "python /home/richard/research/4_Tools/gmhmme3_to_gtf.py  /storage3/w/richard/meta2015/finalTestSet20151002/longestContigsGenemarkhmm/Spofi1_scaffold_1.gmhmme3 /storage3/w/richard/meta2015/finalTestSet20151002/longestContigsGenemarkhmmToGTF/Spofi1_scaffold_1.gmhmme3.gtf scaffold_1\n"
     ]
    }
   ],
   "source": [
    "##############################\n",
    "## 4. convert genemark prediction to gtf\n",
    "gmhmm3Path = '/storage3/w/richard/meta2015/finalTestSet20151002/longestContigsGenemarkhmm/'\n",
    "gmhmm3Names = map(lambda x: x[:-6]+'.gmhmme3', fastaNames)\n",
    "\n",
    "outputPath = '/storage3/w/richard/meta2015/finalTestSet20151002/longestContigsGenemarkhmmToGTF/'\n",
    "outputNames = map(lambda x: x+\".gtf\",gmhmm3Names)\n",
    "\n",
    "base = \"python /home/richard/research/4_Tools/gmhmme3_to_gtf.py \"\n",
    "for i in range(len(gmhmm3Names)):\n",
    "    contigName = name_maxlength_contigs[i]\n",
    "    try:\n",
    "        command = \"{} {}{} {}{} {}\".format(base,gmhmm3Path,gmhmm3Names[i],outputPath,outputNames[i],contigName)\n",
    "        print command\n",
    "        subprocess.check_call(command,shell = True)\n",
    "    except:\n",
    "        print 'Model file does not exists:',gmhmm3Names[i]\n",
    "#     try:\n",
    "# #     subprocess.check_call(\"{} {}{} {}{}\".format(base,gmhmm3Path,gmhmm3Names[i],outputPath,outputNames[i])\",shell = \"True\")\n",
    "#         print \"{} {}{} {}{}\".format(base,gmhmm3Path,gmhmm3Names[i],outputPath,outputNames[i])\n",
    "#     except:\n",
    "#         print i"
   ]
  },
  {
   "cell_type": "code",
   "execution_count": 126,
   "metadata": {
    "collapsed": false
   },
   "outputs": [],
   "source": [
    "## 5. Compare gtf result with annotation\n",
    "outputPath = \"/storage3/w/richard/meta2015/finalTestSet20151002/longestContigsEval\"\n",
    "referenceAnnotationPath = '/storage3/w/richard/meta2015/finalTestSet20151002/longestContigsAnnotation/'\n",
    "referenceAnnotationNames = [\"{}_{}.gtf\".format(rna_seq_result_shortName[i], name_maxlength_contigs[i]) for i in range(len(annotationNames))]\n",
    "\n",
    "gtf_from_gmhmme3_path = '/storage3/w/richard/meta2015/finalTestSet20151002/longestContigsGenemarkhmmToGTF/'\n",
    "gtf_from_gmhmme3_names = [\"{}_{}.gmhmme3.gtf\".format(rna_seq_result_shortName[i], name_maxlength_contigs[i]) for i in range(len(annotationNames))]\n",
    "\n",
    "\n",
    "outputPath = '/storage3/w/richard/meta2015/finalTestSet20151002/longestContigsEval/'\n",
    "base = \"perl evaluate_gtf.pl \"\n",
    "script = ''\n",
    "for i in range(len(gmhmm3Names)):\n",
    "    script += base+referenceAnnotationPath+referenceAnnotationNames[i]+\" \"+gtf_from_gmhmme3_path+gtf_from_gmhmme3_names[i]+\" >\"+outputPath+referenceAnnotationNames[i][:-3]+\"eval\\n\"\n",
    "\n",
    "with open(\"/home/richard/tempFile/largestContigsEval.sh\",'w') as f: f.write(script)"
   ]
  },
  {
   "cell_type": "code",
   "execution_count": 128,
   "metadata": {
    "collapsed": false
   },
   "outputs": [],
   "source": [
    "# print script"
   ]
  }
 ],
 "metadata": {
  "kernelspec": {
   "display_name": "Python 2",
   "language": "python",
   "name": "python2"
  },
  "language_info": {
   "codemirror_mode": {
    "name": "ipython",
    "version": 2
   },
   "file_extension": ".py",
   "mimetype": "text/x-python",
   "name": "python",
   "nbconvert_exporter": "python",
   "pygments_lexer": "ipython2",
   "version": "2.7.10"
  }
 },
 "nbformat": 4,
 "nbformat_minor": 0
}
