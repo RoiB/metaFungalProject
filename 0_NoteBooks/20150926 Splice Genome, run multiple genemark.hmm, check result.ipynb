{
 "cells": [
  {
   "cell_type": "code",
   "execution_count": 13,
   "metadata": {
    "collapsed": true
   },
   "outputs": [],
   "source": [
    "'''\n",
    "make program that automatically slice sequence to the length desired\n",
    "the output filenames will have the following:\n",
    "1. shortname\n",
    "2. chromosome name\n",
    "3. start, stop, position, index start with 1(instead of 0)\n",
    "'''\n",
    "from Bio import SeqIO\n",
    "from Bio.SeqRecord import SeqRecord\n",
    "META_SEQ_LENGTH = 10000\n",
    "\n",
    "import subprocess\n",
    "import os\n",
    "import re"
   ]
  },
  {
   "cell_type": "code",
   "execution_count": 14,
   "metadata": {
    "collapsed": false
   },
   "outputs": [
    {
     "name": "stdout",
     "output_type": "stream",
     "text": [
      "chromosome_1\n",
      "GATCACGTACATCACCTTGTAAGAATTTATCTGCAATAGTCCTTCGGTATTGTACATTGTTCCAAGCATAGTAAACTAACGATATCAAGTTTGCCTTTCTAGCCCATGACCTACAGTCAGAAGTGTAAGCCATATCACTGTCGGCATGTTCAAACTTTGTCAAACCACAAAATAAACAAAGTCCTTGAAATCGAATACGTAGTTTACATTCTCGCAAGTTGTGGTCGGCCTTGCCACATTTATAACAAGTAGATAAGCGTACGGGGCATGCTTTCCCGGTATGAGCACGAATTTCTGTGTCTGGGTTACCAAGAGTGCAACTTAGACATTCATCTTTATACACTCGAAAGAATCGCTCGAGTTGTGCTGAAATGTCAGTTGAGTCTACCCATTGTTTTTTGACGGCTTGCACACGACTTTTATACTCGGCGAAATGAATGGTACGAGAATCAACATCACCATCACCATCACCATCACCAATACCAATACCAATACCAACAATACCACTCATACCTCCAACACTACCATGAACACGATTCATGTCATGGTTGACGCCCTGTTGTACATTGTTCAAATGTTCATCGTATGTGCGTTTATGACCACGACGATGGCTGAGCGACATGTCTTCCAAACCATACTTTAGATTCGTATTAGCATTGCCAAAGCTTTTCTTCCATGTTGGCGATACAGACGAAGGGAACAAAGTGATTTCCGATAATTCCGACAAAGACACTGGCGTAGTACTAGTAGTGTTAGTGTTCATAGCACTCATACCACTGCTATTCCCTGGCTGTGGTGGGGGGGAAGACGAAAACGATGCATTATAACGCGAATGTGTTGCAATGGCTGGTTTCGGTGTTTCTGGCAATGTCGGTTTCACTCCATACATCGTAGACACAGTTGATTCTTCACCAAGTAACGAATCTGAGCATCTTGAGCAGTAAACACAGTTAGCAAACGATGCACAACATACACATTCGCCATCCATTTCACTTGCGAG\n"
     ]
    },
    {
     "ename": "NameError",
     "evalue": "name 'chrome1' is not defined",
     "output_type": "error",
     "traceback": [
      "\u001b[1;31m---------------------------------------------------------------------------\u001b[0m",
      "\u001b[1;31mNameError\u001b[0m                                 Traceback (most recent call last)",
      "\u001b[1;32m<ipython-input-14-364975d94461>\u001b[0m in \u001b[0;36m<module>\u001b[1;34m()\u001b[0m\n\u001b[0;32m      2\u001b[0m \u001b[1;32mprint\u001b[0m\u001b[1;33m(\u001b[0m\u001b[0mchromosome\u001b[0m\u001b[1;33m.\u001b[0m\u001b[0mid\u001b[0m\u001b[1;33m)\u001b[0m\u001b[1;33m\u001b[0m\u001b[0m\n\u001b[0;32m      3\u001b[0m \u001b[1;32mprint\u001b[0m\u001b[1;33m(\u001b[0m\u001b[0mchromosome\u001b[0m\u001b[1;33m.\u001b[0m\u001b[0mseq\u001b[0m\u001b[1;33m[\u001b[0m\u001b[1;33m:\u001b[0m\u001b[1;36m1000\u001b[0m\u001b[1;33m]\u001b[0m\u001b[1;33m)\u001b[0m\u001b[1;33m\u001b[0m\u001b[0m\n\u001b[1;32m----> 4\u001b[1;33m \u001b[1;32mprint\u001b[0m\u001b[1;33m(\u001b[0m\u001b[0mlen\u001b[0m\u001b[1;33m(\u001b[0m\u001b[0mchrome1\u001b[0m\u001b[1;33m)\u001b[0m\u001b[1;33m)\u001b[0m\u001b[1;33m\u001b[0m\u001b[0m\n\u001b[0m",
      "\u001b[1;31mNameError\u001b[0m: name 'chrome1' is not defined"
     ]
    }
   ],
   "source": [
    "chromosome = SeqIO.parse(\"../5_Tests/Sep26SlicingGenome/Schpo1_chrome1.fasta\",'fasta').next()\n",
    "print(chromosome.id)\n",
    "print(chromosome.seq[:1000])\n",
    "print(len(chrome1))"
   ]
  },
  {
   "cell_type": "code",
   "execution_count": 15,
   "metadata": {
    "collapsed": false
   },
   "outputs": [
    {
     "ename": "NameError",
     "evalue": "name 'chrome1' is not defined",
     "output_type": "error",
     "traceback": [
      "\u001b[1;31m---------------------------------------------------------------------------\u001b[0m",
      "\u001b[1;31mNameError\u001b[0m                                 Traceback (most recent call last)",
      "\u001b[1;32m<ipython-input-15-e1f40fd05bb5>\u001b[0m in \u001b[0;36m<module>\u001b[1;34m()\u001b[0m\n\u001b[1;32m----> 1\u001b[1;33m \u001b[0mchrome1\u001b[0m\u001b[1;33m.\u001b[0m\u001b[0mseq\u001b[0m\u001b[1;33m[\u001b[0m\u001b[1;33m:\u001b[0m\u001b[1;36m1000000000000\u001b[0m\u001b[1;33m]\u001b[0m\u001b[1;33m\u001b[0m\u001b[0m\n\u001b[0m",
      "\u001b[1;31mNameError\u001b[0m: name 'chrome1' is not defined"
     ]
    }
   ],
   "source": [
    "chrome1.seq[:1000000000000]"
   ]
  },
  {
   "cell_type": "code",
   "execution_count": 16,
   "metadata": {
    "collapsed": false
   },
   "outputs": [
    {
     "ename": "NameError",
     "evalue": "name 'chrom1' is not defined",
     "output_type": "error",
     "traceback": [
      "\u001b[1;31m---------------------------------------------------------------------------\u001b[0m",
      "\u001b[1;31mNameError\u001b[0m                                 Traceback (most recent call last)",
      "\u001b[1;32m<ipython-input-16-0c4a1965968e>\u001b[0m in \u001b[0;36m<module>\u001b[1;34m()\u001b[0m\n\u001b[1;32m----> 1\u001b[1;33m \u001b[0mmeta_seqs\u001b[0m \u001b[1;33m=\u001b[0m \u001b[1;33m[\u001b[0m\u001b[0mchrom1\u001b[0m\u001b[1;33m.\u001b[0m\u001b[0mseq\u001b[0m\u001b[1;33m[\u001b[0m\u001b[0mi\u001b[0m\u001b[1;33m:\u001b[0m\u001b[0mi\u001b[0m\u001b[1;33m+\u001b[0m\u001b[0mMETA_SEQ_LENGTH\u001b[0m\u001b[1;33m]\u001b[0m \u001b[1;32mfor\u001b[0m \u001b[0mi\u001b[0m \u001b[1;32min\u001b[0m \u001b[0mrange\u001b[0m\u001b[1;33m(\u001b[0m\u001b[1;36m0\u001b[0m\u001b[1;33m,\u001b[0m\u001b[0mlen\u001b[0m\u001b[1;33m(\u001b[0m\u001b[0mchrom1\u001b[0m\u001b[1;33m)\u001b[0m\u001b[1;33m,\u001b[0m\u001b[0mMETA_SEQ_LENGTH\u001b[0m\u001b[1;33m)\u001b[0m\u001b[1;33m]\u001b[0m\u001b[1;33m\u001b[0m\u001b[0m\n\u001b[0m",
      "\u001b[1;31mNameError\u001b[0m: name 'chrom1' is not defined"
     ]
    }
   ],
   "source": [
    "meta_seqs = [chrom1.seq[i:i+META_SEQ_LENGTH] for i in range(0,len(chrom1),META_SEQ_LENGTH)]"
   ]
  },
  {
   "cell_type": "code",
   "execution_count": 17,
   "metadata": {
    "collapsed": false
   },
   "outputs": [
    {
     "ename": "NameError",
     "evalue": "name 'meta_seqs' is not defined",
     "output_type": "error",
     "traceback": [
      "\u001b[1;31m---------------------------------------------------------------------------\u001b[0m",
      "\u001b[1;31mNameError\u001b[0m                                 Traceback (most recent call last)",
      "\u001b[1;32m<ipython-input-17-b2fa8763a000>\u001b[0m in \u001b[0;36m<module>\u001b[1;34m()\u001b[0m\n\u001b[1;32m----> 1\u001b[1;33m \u001b[0mlen\u001b[0m\u001b[1;33m(\u001b[0m\u001b[0mmeta_seqs\u001b[0m\u001b[1;33m)\u001b[0m\u001b[1;33m\u001b[0m\u001b[0m\n\u001b[0m",
      "\u001b[1;31mNameError\u001b[0m: name 'meta_seqs' is not defined"
     ]
    }
   ],
   "source": [
    "len(meta_seqs)"
   ]
  },
  {
   "cell_type": "code",
   "execution_count": 18,
   "metadata": {
    "collapsed": true
   },
   "outputs": [],
   "source": [
    "shortName = 'Schpo1'\n",
    "piece = 'chromosome_1'\n",
    "position = '1to10000'"
   ]
  },
  {
   "cell_type": "code",
   "execution_count": 19,
   "metadata": {
    "collapsed": false
   },
   "outputs": [
    {
     "ename": "NameError",
     "evalue": "name 'meta_seqs' is not defined",
     "output_type": "error",
     "traceback": [
      "\u001b[1;31m---------------------------------------------------------------------------\u001b[0m",
      "\u001b[1;31mNameError\u001b[0m                                 Traceback (most recent call last)",
      "\u001b[1;32m<ipython-input-19-941beaaab1e9>\u001b[0m in \u001b[0;36m<module>\u001b[1;34m()\u001b[0m\n\u001b[1;32m----> 1\u001b[1;33m \u001b[0mtest1\u001b[0m \u001b[1;33m=\u001b[0m \u001b[0mSeqRecord\u001b[0m\u001b[1;33m(\u001b[0m\u001b[0mmeta_seqs\u001b[0m\u001b[1;33m[\u001b[0m\u001b[1;36m0\u001b[0m\u001b[1;33m]\u001b[0m\u001b[1;33m,\u001b[0m\u001b[0mid\u001b[0m \u001b[1;33m=\u001b[0m \u001b[1;34m'{}|{}|{}'\u001b[0m\u001b[1;33m.\u001b[0m\u001b[0mformat\u001b[0m\u001b[1;33m(\u001b[0m\u001b[0mshortName\u001b[0m\u001b[1;33m,\u001b[0m\u001b[0mpiece\u001b[0m\u001b[1;33m,\u001b[0m\u001b[0mposition\u001b[0m\u001b[1;33m)\u001b[0m\u001b[1;33m,\u001b[0m \u001b[0mdescription\u001b[0m\u001b[1;33m=\u001b[0m\u001b[1;34m\"\"\u001b[0m\u001b[1;33m)\u001b[0m\u001b[1;33m\u001b[0m\u001b[0m\n\u001b[0m",
      "\u001b[1;31mNameError\u001b[0m: name 'meta_seqs' is not defined"
     ]
    }
   ],
   "source": [
    "test1 = SeqRecord(meta_seqs[0],id = '{}|{}|{}'.format(shortName,piece,position), description=\"\")"
   ]
  },
  {
   "cell_type": "code",
   "execution_count": 20,
   "metadata": {
    "collapsed": false
   },
   "outputs": [
    {
     "ename": "NameError",
     "evalue": "name 'test1' is not defined",
     "output_type": "error",
     "traceback": [
      "\u001b[1;31m---------------------------------------------------------------------------\u001b[0m",
      "\u001b[1;31mNameError\u001b[0m                                 Traceback (most recent call last)",
      "\u001b[1;32m<ipython-input-20-3e7705498e8b>\u001b[0m in \u001b[0;36m<module>\u001b[1;34m()\u001b[0m\n\u001b[1;32m----> 1\u001b[1;33m \u001b[0mtest1\u001b[0m\u001b[1;33m\u001b[0m\u001b[0m\n\u001b[0m",
      "\u001b[1;31mNameError\u001b[0m: name 'test1' is not defined"
     ]
    }
   ],
   "source": [
    "test1"
   ]
  },
  {
   "cell_type": "code",
   "execution_count": 21,
   "metadata": {
    "collapsed": false
   },
   "outputs": [
    {
     "ename": "NameError",
     "evalue": "name 'test1' is not defined",
     "output_type": "error",
     "traceback": [
      "\u001b[1;31m---------------------------------------------------------------------------\u001b[0m",
      "\u001b[1;31mNameError\u001b[0m                                 Traceback (most recent call last)",
      "\u001b[1;32m<ipython-input-21-bc8962183a64>\u001b[0m in \u001b[0;36m<module>\u001b[1;34m()\u001b[0m\n\u001b[1;32m----> 1\u001b[1;33m \u001b[0mSeqIO\u001b[0m\u001b[1;33m.\u001b[0m\u001b[0mwrite\u001b[0m\u001b[1;33m(\u001b[0m\u001b[0mtest1\u001b[0m\u001b[1;33m,\u001b[0m\u001b[1;34m'../5_Tests/Sep26SlicingGenome/{}_{}_{}.fasta'\u001b[0m\u001b[1;33m.\u001b[0m\u001b[0mformat\u001b[0m\u001b[1;33m(\u001b[0m\u001b[0mshortName\u001b[0m\u001b[1;33m,\u001b[0m\u001b[0mpiece\u001b[0m\u001b[1;33m,\u001b[0m\u001b[0mposition\u001b[0m\u001b[1;33m)\u001b[0m\u001b[1;33m,\u001b[0m \u001b[1;34m'fasta'\u001b[0m\u001b[1;33m)\u001b[0m\u001b[1;33m\u001b[0m\u001b[0m\n\u001b[0m",
      "\u001b[1;31mNameError\u001b[0m: name 'test1' is not defined"
     ]
    }
   ],
   "source": [
    "SeqIO.write(test1,'../5_Tests/Sep26SlicingGenome/{}_{}_{}.fasta'.format(shortName,piece,position), 'fasta')"
   ]
  },
  {
   "cell_type": "code",
   "execution_count": 22,
   "metadata": {
    "collapsed": true
   },
   "outputs": [],
   "source": [
    "def sliceToPieces(filename, outputPath, shortName, interval = 10000, piece_needed = 50, is_piece_limited = True):\n",
    "    '''\n",
    "    slice chromosome into the pieces with the length required \n",
    "    applicable to only one chromosome per file\n",
    "    '''\n",
    "    chromosome = SeqIO.parse(filename,'fasta').next()\n",
    "    meta_seqs = [((i,i+interval),chromosome.seq[i:i+interval]) for i in range(0,len(chromosome),interval)]\n",
    "    counter = 0\n",
    "    for pair in meta_seqs:\n",
    "        if is_piece_limited and counter == piece_needed:\n",
    "            break\n",
    "        counter+=1\n",
    "        location, meta_piece = pair\n",
    "#         print location\n",
    "        position = \"{}_{}\".format(int(location[0])+1,int(location[1]))\n",
    "#         print position\n",
    "        sub_seq = SeqRecord(meta_piece,id = '{}|{}|{}'.format(shortName,chromosome.id,position), description=\"\")\n",
    "        SeqIO.write(sub_seq,'{}{}_{}_#{}_{}.fasta'.format(outputPath,shortName,chromosome.id,counter,position), 'fasta')"
   ]
  },
  {
   "cell_type": "code",
   "execution_count": 23,
   "metadata": {
    "collapsed": false
   },
   "outputs": [],
   "source": [
    "filename = '../5_Tests/Sep26SlicingGenome/Schpo1_chrome1.fasta'\n",
    "outputPath = '../5_Tests/Sep26SlicingGenome/SlicedSchpo1/'\n",
    "shortName = \"Schpo1\"\n",
    "sliceToPieces(filename, outputPath, shortName, is_piece_limited=False)"
   ]
  },
  {
   "cell_type": "code",
   "execution_count": 24,
   "metadata": {
    "collapsed": false
   },
   "outputs": [],
   "source": [
    "filename = '../5_Tests/Sep7modelWithLengthDistributionNCrassa/Neucr2_Supercontig_1.fasta'\n",
    "outputPath = '../5_Tests/Sep28ComparisonProkaryote/SlicedNeucr2/'\n",
    "shortName = \"Neucr2\"\n",
    "sliceToPieces(filename, outputPath, shortName, is_piece_limited=False)"
   ]
  },
  {
   "cell_type": "code",
   "execution_count": 25,
   "metadata": {
    "collapsed": false
   },
   "outputs": [],
   "source": [
    "## generate scripts that run genemark.hmm with given model file\n",
    "# modelFilePath = '/home/richard/research/5_Tests/Sep5modelWithLengthDistribution/modelDIY/'\n",
    "# modelFileName = 'GC36IntronSpacerDonorToBPSingleInternalInitialTerminal.txt'\n",
    "\n",
    "modelFilePath = '/home/richard/research/5_Tests/Sep5modelWithLengthDistribution/'\n",
    "modelFileName = 'Schpo1.ES_C_4.mod'\n",
    "\n",
    "fastaFilePath = '/home/richard/research/5_Tests/Sep26SlicingGenome/SlicedSchpo1/'\n",
    "fastaFileNames = filter(lambda x: 'fasta' in x, os.listdir(fastaFilePath))\n",
    "outputPath = '/home/richard/research/5_Tests/Sep26SlicingGenome/es_result_Schpo1/'\n",
    "\n",
    "\n",
    "## need to run under node001 to node036\n",
    "def genemarkHMM_script(modelFilePath,modelFileName,fastaFilePath,fastaFileNames,outputPath):\n",
    "    script = ''\n",
    "    base = \"/scratch/bin/essuite/gmhmme3 \"\n",
    "    model = '-m {}{} '.format(modelFilePath,modelFileName)\n",
    "    for fastaFile in fastaFileNames:   \n",
    "        fasta = \"{}{} \".format(fastaFilePath,fastaFile)\n",
    "        output = \"-o {}{}{}.es_output\".format(outputPath,fastaFile[:-5],modelFileName[:-4])\n",
    "        script += base + model + fasta + output+\"\\n\"\n",
    "#     print script\n",
    "#     subprocess.call(script,shell = True)\n",
    "#     print script\n",
    "    return script\n",
    "# genemarkHMM_script(modelFilePath,modelFileName,fastaFilePath,fastaFileNames,outputPath)\n",
    "script = genemarkHMM_script(modelFilePath,modelFileName,fastaFilePath,fastaFileNames,outputPath)\n",
    "# print script\n",
    "with open(\"/home/richard/research/5_Tests/Sep26SlicingGenome/ESFullModMetaScript.sh\",'w') as f: f.write(script)"
   ]
  },
  {
   "cell_type": "code",
   "execution_count": 26,
   "metadata": {
    "collapsed": false,
    "scrolled": false
   },
   "outputs": [
    {
     "name": "stdout",
     "output_type": "stream",
     "text": [
      "Eukariotyc GeneMark.hmm version 3.48\n",
      "Sequence name: /home/richard/research/5_Tests/Sep26SlicingGenome/SlicedSchpo1/Schpo1_chromosome_1_#87_860001_870000.fasta\n",
      "FASTA defline: >Schpo1|chromosome_1|860001_870000\n",
      "Sequence length: 10000 bp\n",
      "G+C content: 35.71%\n",
      "Matrices file: /home/richard/research/5_Tests/Sep5modelWithLengthDistribution/Schpo1.ES_C_4.mod\n",
      "Sun Sep 27 00:52:18 2015\n",
      "\n",
      "\n",
      "Predicted genes/exons\n",
      "\n",
      "Gene Exon Strand Exon           Exon Range         Exon      Start/End\n",
      "  #    #         Type                             Length       Frame\n",
      "1 1 - Initial 11 5662 5652 3 1 - -\n",
      "2 1 - Single 5726 6331 606 3 1 - -\n",
      "3 1 + Initial 7579 7749 171 1 3 - -\n",
      "3 2 + Internal 7791 8002 212 1 2 - -\n",
      "3 3 + Terminal 8053 9274 1222 3 3 - -\n",
      "\n",
      "4 1 + Single 12158 12994 837 1 3 - -\n",
      "5 1 + Single 15855 16226 372 1 3 - -\n",
      "6 1 + Initial 17469 17572 104 1 2 - -\n",
      "6 2 + Terminal 17686 18043 358 3 3 - -\n",
      "7 1 + Single 18117 18557 441 1 3 - -\n",
      "\n",
      "8 1 + Initial 20827 20932 106 1 1 - -\n",
      "8 2 + Internal 21552 22076 525 2 1 - -\n",
      "8 3 + Termi\n"
     ]
    }
   ],
   "source": [
    "## assemble prediction\n",
    "predictionPath = '/home/richard/research/5_Tests/Sep26SlicingGenome/es_result_Schpo1/'\n",
    "predictionNames = filter(lambda x: 'es_output' in x, os.listdir(predictionPath))\n",
    "\n",
    "pattern = '\\#(\\d*)\\_' #main pattern to get rid of over head\n",
    "pattern_interval = '\\#\\d*_(\\d*)_(\\d*)\\.'\n",
    "substitute_pattern = \"\\d+?\"\n",
    "prediction_pattern = '(\\d+?)\\s+?\\d\\s+?[+|-]\\s+?[^-+]'\n",
    "\n",
    "# a,b = re.findall(pattern_interval,predictionNames[0])[0]\n",
    "# print int(b)-int(a)+1\n",
    "\n",
    "def find_idx(predictionName): return int(re.findall(pattern,predictionName)[0]) # find index of the output file\n",
    "def find_gene_number(line): \n",
    "    try:\n",
    "        return int(re.findall(substitute_pattern,line)[0])\n",
    "    except:\n",
    "        print \"problem with line: \", line\n",
    "def substitute_gene_number(line, number, gene_count): \n",
    "#     print number+gene_count\n",
    "#     print line\n",
    "    return  re.sub(substitute_pattern,str(number+gene_count),line, count = 1)\n",
    "def substitute_exon_range(line, i, interval): \n",
    "    line_elem = line.split()\n",
    "    line_elem[4], line_elem[5] = str(int(line_elem[4])+interval*i), str(int(line_elem[5])+interval*i)\n",
    "    return ' '.join(line_elem)\n",
    "\n",
    "def assemble_annotation(predictionPath, predictionNames):\n",
    "    idx_file_pair = {find_idx(predictionName):predictionName for predictionName in predictionNames}\n",
    "    \n",
    "    ##locate seperate line and overhead\n",
    "    with open(predictionPath+predictionNames[0]) as f:\n",
    "        sep_line = ''\n",
    "        with open(predictionPath+predictionNames[0]) as f1:\n",
    "            for line in f1:\n",
    "                if '#' in line and 'Type' in line:\n",
    "                    sep_line = line     #sep\n",
    "                    break\n",
    "        text = f.read()\n",
    "        parts = text.split(sep_line)\n",
    "        base = parts[0] + sep_line      #overhead for annotation\n",
    "\n",
    "        gene_counter = 0 # for all the predictions\n",
    "\n",
    "        for idx in idx_file_pair:\n",
    "            number = find_idx(idx_file_pair[idx]) #locate the rank number of the prediction file \n",
    "            a,b = re.findall(pattern_interval,predictionNames[0])[0]\n",
    "            interval = int(b)-int(a)+1\n",
    "            \n",
    "#             print idx_file_pair[idx]\n",
    "            with open(predictionPath+idx_file_pair[idx]) as f:\n",
    "                all_line = filter(lambda x: len(x) > 10,f.read().split(sep_line)[1].split('\\n')) #get rid of empty line\n",
    "#                 print all_line\n",
    "                if len(all_line) == 0: break #it's possible that there is no gene in a file, so no prediction\n",
    "        \n",
    "                \n",
    "                gene_numbers = map(find_gene_number, all_line) # find gene number for each line\n",
    "                \n",
    "                #first modi\n",
    "                modified_all_line = [substitute_gene_number(all_line[i], gene_numbers[i], gene_counter) \\\n",
    "                                     for i in range(len(all_line))]\n",
    "                #idx-1 is the number of interval so far\n",
    "                modified_all_line = [substitute_exon_range(modified_all_line[i], int(idx)-1, interval) \n",
    "                                     for i in range(len(all_line))]\n",
    "                modified_all_line += '\\n'\n",
    "                gene_counter += len(set(gene_numbers))\n",
    "            base+='\\n'.join(modified_all_line)\n",
    "    return base\n",
    "\n",
    "# print find_gene_number('  2   1   -  Single            5726       6331        606          3 1 - -')\n",
    "# print int(re.findall(substitute_pattern,'  2   1   -  Single            5726       6331        606          3 1 - -')[0])\n",
    "# substitute_gene_number('  2   1   -  Single            5726       6331        606          3 1 - -', 20, 0)\n",
    "res = assemble_annotation(predictionPath, predictionNames)  \n",
    "print res[:1000]"
   ]
  },
  {
   "cell_type": "code",
   "execution_count": 27,
   "metadata": {
    "collapsed": false
   },
   "outputs": [],
   "source": [
    "with open(\"../5_Tests/Sep27AssembleAnnotation/ESFullAssembledAnnotation.es_output\",'w') as f: f.write(res)"
   ]
  },
  {
   "cell_type": "code",
   "execution_count": 28,
   "metadata": {
    "collapsed": true
   },
   "outputs": [],
   "source": [
    "## compare with annotation\n",
    "## filter out the annotation that is cut\n",
    "## for those intervals that were cut, filter them out\n",
    "with open(\"../5_Tests/Sep27AssembleAnnotation/Schpo1_converted_fixed.gtf\") as f:\n",
    "    test_anno = [line for line in f]"
   ]
  },
  {
   "cell_type": "code",
   "execution_count": 29,
   "metadata": {
    "collapsed": false
   },
   "outputs": [],
   "source": [
    "test = test_anno[0]\n",
    "test_list = test.split()\n",
    "a,b = int(test_list[3]), int(test_list[4])\n",
    "\n",
    "num_boundary = len(fastaFileNames)\n",
    "interval = 10000\n",
    "boundaries = [i*interval for i in range(1,num_boundary)]\n",
    "\n",
    "def check_boundary(start, end, boundaries):\n",
    "    return sum(map(lambda x: x>start and x<end, boundaries))\n",
    "\n",
    "def filter_annotation(anno_path, anno_name, num_boundary, interval):\n",
    "    boundaries = [i*interval for i in range(1,num_boundary)]\n",
    "#     print boundaries\n",
    "    res = ''\n",
    "    with open(anno_path+anno_name) as f:\n",
    "        for line in f:\n",
    "            elems = line.split()\n",
    "            a,b = int(elems[3]), int(elems[4])\n",
    "            if check_boundary(a,b,boundaries) != 1:\n",
    "                res+=line\n",
    "#             else:\n",
    "#                 print line\n",
    "    return res  \n",
    "\n",
    "anno_path = '../5_Tests/Sep27AssembleAnnotation/'\n",
    "anno_name = 'Schpo1_converted_fixed.gtf'\n",
    "res = filter_annotation(anno_path, anno_name, num_boundary, interval)"
   ]
  },
  {
   "cell_type": "code",
   "execution_count": 30,
   "metadata": {
    "collapsed": false,
    "scrolled": false
   },
   "outputs": [],
   "source": [
    "with open(\"../5_Tests/Sep27AssembleAnnotation/Schpo1_converted_fixed_filtered.gtf\",'w') as f:\n",
    "    f.write(res)"
   ]
  },
  {
   "cell_type": "code",
   "execution_count": 31,
   "metadata": {
    "collapsed": true
   },
   "outputs": [],
   "source": [
    "## repeat experiment with heuristic model\n",
    "\n",
    "modelFilePath = '/home/richard/research/5_Tests/Sep5modelWithLengthDistribution/modelDIY/'\n",
    "modelFileName = 'GC36IntronSpacerDonorToBPSingleInternalInitialTerminal.txt'\n",
    "\n",
    "fastaFilePath = '/home/richard/research/5_Tests/Sep26SlicingGenome/SlicedSchpo1/'\n",
    "fastaFileNames = filter(lambda x: 'fasta' in x, os.listdir(fastaFilePath))\n",
    "outputPath = '/home/richard/research/5_Tests/Sep27AssembleAnnotation/es_result_Schpo1_heuristic/'\n",
    "\n",
    "script = genemarkHMM_script(modelFilePath,modelFileName,fastaFilePath,fastaFileNames,outputPath)\n",
    "# print script\n",
    "with open(\"/home/richard/research/5_Tests/Sep27AssembleAnnotation/HeuristicModelMetaScript.sh\",'w') as f: f.write(script)\n",
    "\n",
    "predictionPath = '/home/richard/research/5_Tests/Sep27AssembleAnnotation/es_result_Schpo1_heuristic/'\n",
    "predictionNames = filter(lambda x: 'es_output' in x, os.listdir(predictionPath))\n",
    "res = assemble_annotation(predictionPath, predictionNames) \n",
    "with open(\"../5_Tests/Sep27AssembleAnnotation/HeuristicAssembledAnnotation.es_output\",'w') as f: f.write(res)"
   ]
  },
  {
   "cell_type": "code",
   "execution_count": 33,
   "metadata": {
    "collapsed": false
   },
   "outputs": [],
   "source": [
    "## repeat experiment with N. Crassa\n",
    "## ES Model\n",
    "modelFilePath = '/home/richard/research/5_Tests/Sep7modelWithLengthDistributionNCrassa/ModelDIY/'\n",
    "modelFileName = 'Neucr2.ES_C_4.mod'\n",
    "\n",
    "fastaFilePath = '/home/richard/research/5_Tests/Sep28ComparisonProkaryote/SlicedNeucr2/'\n",
    "fastaFileNames = filter(lambda x: 'fasta' in x, os.listdir(fastaFilePath))\n",
    "outputPath = '/home/richard/research/5_Tests/Sep28ComparisonProkaryote/gmhmmResultESmodel/'\n",
    "\n",
    "script = genemarkHMM_script(modelFilePath,modelFileName,fastaFilePath,fastaFileNames,outputPath)\n",
    "# print script\n",
    "with open(\"/home/richard/research/5_Tests/Sep28ComparisonProkaryote/HeuristicModelMetaScriptNeucr2.sh\",'w') as f: f.write(script)\n",
    "# execute the command and wait for it to finish, then proceed to the next step    "
   ]
  },
  {
   "cell_type": "code",
   "execution_count": 36,
   "metadata": {
    "collapsed": true
   },
   "outputs": [],
   "source": [
    "# continue from last part\n",
    "predictionPath = '/home/richard/research/5_Tests/Sep28ComparisonProkaryote/gmhmmResultESmodel/'\n",
    "predictionNames = filter(lambda x: 'es_output' in x, os.listdir(predictionPath))\n",
    "res = assemble_annotation(predictionPath, predictionNames) \n",
    "with open(\"../5_Tests/Sep28ComparisonProkaryote/gmhmmResultESmodel.gmhmm\",'w') as f: f.write(res) "
   ]
  },
  {
   "cell_type": "code",
   "execution_count": 35,
   "metadata": {
    "collapsed": true
   },
   "outputs": [],
   "source": [
    "## repeat experiment with N. Crassa\n",
    "## Heuristic\n",
    "modelFilePath = '/home/richard/research/5_Tests/Sep17PolyAndGamma/'\n",
    "modelFileName = 'GC49IntronSpacerDonorToBpSingleInitialInternalTerminal.txt'\n",
    "\n",
    "fastaFilePath = '/home/richard/research/5_Tests/Sep28ComparisonProkaryote/SlicedNeucr2/'\n",
    "fastaFileNames = filter(lambda x: 'fasta' in x, os.listdir(fastaFilePath))\n",
    "outputPath = '/home/richard/research/5_Tests/Sep28ComparisonProkaryote/gmhmmResultHeuristicModel/'\n",
    "\n",
    "script = genemarkHMM_script(modelFilePath,modelFileName,fastaFilePath,fastaFileNames,outputPath)\n",
    "# print script\n",
    "with open(\"/home/richard/research/5_Tests/Sep28ComparisonProkaryote/HeuristicModelMetaScriptNeucr2Heuristic.sh\",'w') as f: f.write(script)\n",
    "# execute the command and wait for it to finish, then proceed to the next step    "
   ]
  },
  {
   "cell_type": "code",
   "execution_count": 37,
   "metadata": {
    "collapsed": true
   },
   "outputs": [],
   "source": [
    "# continue from last part\n",
    "predictionPath = '/home/richard/research/5_Tests/Sep28ComparisonProkaryote/gmhmmResultHeuristicModel/'\n",
    "predictionNames = filter(lambda x: 'es_output' in x, os.listdir(predictionPath))\n",
    "res = assemble_annotation(predictionPath, predictionNames) \n",
    "with open(\"../5_Tests/Sep28ComparisonProkaryote/gmhmmResultHeuristicModel.gmhmm\",'w') as f: f.write(res) "
   ]
  },
  {
   "cell_type": "code",
   "execution_count": 38,
   "metadata": {
    "collapsed": true
   },
   "outputs": [],
   "source": [
    "## repeat experiment with N. Crassa, GC49only\n",
    "## Heuristic\n",
    "modelFilePath = '/home/richard/research/5_Tests/Sep7modelWithLengthDistributionNCrassa/ModelDIY/'\n",
    "modelFileName = 'GC49only.txt'\n",
    "\n",
    "fastaFilePath = '/home/richard/research/5_Tests/Sep28ComparisonProkaryote/SlicedNeucr2/'\n",
    "fastaFileNames = filter(lambda x: 'fasta' in x, os.listdir(fastaFilePath))\n",
    "outputPath = '/home/richard/research/5_Tests/Sep28ComparisonProkaryote/gmhmmResultGC49only/'\n",
    "\n",
    "script = genemarkHMM_script(modelFilePath,modelFileName,fastaFilePath,fastaFileNames,outputPath)\n",
    "# print script\n",
    "with open(\"/home/richard/research/5_Tests/Sep28ComparisonProkaryote/GC49onlyMetaScriptNeucr2Heuristic.sh\",'w') as f: f.write(script)\n",
    "# execute the command and wait for it to finish, then proceed to the next step "
   ]
  },
  {
   "cell_type": "code",
   "execution_count": 39,
   "metadata": {
    "collapsed": true
   },
   "outputs": [],
   "source": [
    "## repeat experiment with S.pombe, GC36only\n",
    "## Heuristic\n",
    "modelFilePath = '/home/richard/research/5_Tests/Sep5modelWithLengthDistribution/modelDIY/'\n",
    "modelFileName = 'GC36only.txt'\n",
    "\n",
    "fastaFilePath = '/home/richard/research/5_Tests/Sep26SlicingGenome/SlicedSchpo1/'\n",
    "fastaFileNames = filter(lambda x: 'fasta' in x, os.listdir(fastaFilePath))\n",
    "outputPath = '/home/richard/research/5_Tests/Sep28ComparisonProkaryote/gmhmmResultGC36only/'\n",
    "\n",
    "script = genemarkHMM_script(modelFilePath,modelFileName,fastaFilePath,fastaFileNames,outputPath)\n",
    "# print script\n",
    "with open(\"/home/richard/research/5_Tests/Sep28ComparisonProkaryote/GC36onlyMetaScriptNeucr2Heuristic.sh\",'w') as f: f.write(script)\n",
    "# execute the command and wait for it to finish, then proceed to the next step "
   ]
  },
  {
   "cell_type": "code",
   "execution_count": 40,
   "metadata": {
    "collapsed": true
   },
   "outputs": [],
   "source": [
    "## repeat experiment with S.pombe, GC36 H99\n",
    "## Heuristic\n",
    "modelFilePath = '/home/richard/research/5_Tests/Sep29H99EukTest/'\n",
    "modelFileName = 'heu_05_gcode_1_gc_36.mod'\n",
    "\n",
    "fastaFilePath = '/home/richard/research/5_Tests/Sep26SlicingGenome/SlicedSchpo1/'\n",
    "fastaFileNames = filter(lambda x: 'fasta' in x, os.listdir(fastaFilePath))\n",
    "outputPath = '/home/richard/research/5_Tests/Sep29H99EukTest/gmhmmResultGC36H99only/'\n",
    "\n",
    "script = genemarkHMM_script(modelFilePath,modelFileName,fastaFilePath,fastaFileNames,outputPath)\n",
    "# print script\n",
    "with open(\"/home/richard/research/5_Tests/Sep29H99EukTest/GC36H99MetaScriptNeucr2Heuristic.sh\",'w') as f: f.write(script)\n",
    "# execute the command and wait for it to finish, then proceed to the next step "
   ]
  },
  {
   "cell_type": "code",
   "execution_count": 41,
   "metadata": {
    "collapsed": true
   },
   "outputs": [],
   "source": [
    "## repeat experiment with N. Crassa, GC49H99only\n",
    "## Heuristic\n",
    "modelFilePath = '/home/richard/research/5_Tests/Sep29H99EukTest/'\n",
    "modelFileName = 'heu_05_gcode_1_gc_49.mod'\n",
    "\n",
    "fastaFilePath = '/home/richard/research/5_Tests/Sep28ComparisonProkaryote/SlicedNeucr2/'\n",
    "fastaFileNames = filter(lambda x: 'fasta' in x, os.listdir(fastaFilePath))\n",
    "outputPath = '/home/richard/research/5_Tests/Sep29H99EukTest/gmhmmResultGC49H99only/'\n",
    "\n",
    "script = genemarkHMM_script(modelFilePath,modelFileName,fastaFilePath,fastaFileNames,outputPath)\n",
    "# print script\n",
    "with open(\"/home/richard/research/5_Tests/Sep29H99EukTest/GC49H99MetaScriptNeucr2Heuristic.sh\",'w') as f: f.write(script)\n",
    "# execute the command and wait for it to finish, then proceed to the next step "
   ]
  },
  {
   "cell_type": "code",
   "execution_count": null,
   "metadata": {
    "collapsed": true
   },
   "outputs": [],
   "source": [
    "##################### testing ##################################"
   ]
  },
  {
   "cell_type": "code",
   "execution_count": 212,
   "metadata": {
    "collapsed": false
   },
   "outputs": [
    {
     "data": {
      "text/plain": [
       "['1', '1', '-', 'Initial', '11', '5662', '5652', '3', '1', '-', '-']"
      ]
     },
     "execution_count": 212,
     "metadata": {},
     "output_type": "execute_result"
    }
   ],
   "source": [
    "string.split()"
   ]
  },
  {
   "cell_type": "code",
   "execution_count": 198,
   "metadata": {
    "collapsed": false
   },
   "outputs": [
    {
     "data": {
      "text/plain": [
       "['1']"
      ]
     },
     "execution_count": 198,
     "metadata": {},
     "output_type": "execute_result"
    }
   ],
   "source": [
    "# prediction_pattern = '(\\d+?)\\s+?\\d\\s+?[+|-]\\s+?[^-+]'\n",
    "substitute_pattern = \"\\d+?\"\n",
    "string = \"\"\"  1   1   -  Initial             11       5662       5652          3 1 - -\"\"\"\n",
    "\n",
    "re.findall(prediction_pattern,string)\n",
    "\n",
    "#replace the gene count in an accumulated fashion\n",
    "# re.sub(substitute_pattern,'abc',string, count = 1)\n"
   ]
  },
  {
   "cell_type": "code",
   "execution_count": 126,
   "metadata": {
    "collapsed": true
   },
   "outputs": [],
   "source": []
  }
 ],
 "metadata": {
  "kernelspec": {
   "display_name": "Python 2",
   "language": "python",
   "name": "python2"
  },
  "language_info": {
   "codemirror_mode": {
    "name": "ipython",
    "version": 2
   },
   "file_extension": ".py",
   "mimetype": "text/x-python",
   "name": "python",
   "nbconvert_exporter": "python",
   "pygments_lexer": "ipython2",
   "version": "2.7.10"
  }
 },
 "nbformat": 4,
 "nbformat_minor": 0
}
