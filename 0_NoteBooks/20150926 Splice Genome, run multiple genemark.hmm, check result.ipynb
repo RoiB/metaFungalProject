{
 "cells": [
  {
   "cell_type": "code",
   "execution_count": 128,
   "metadata": {
    "collapsed": true
   },
   "outputs": [],
   "source": [
    "'''\n",
    "make program that automatically slice sequence to the length desired\n",
    "the output filenames will have the following:\n",
    "1. shortname\n",
    "2. chromosome name\n",
    "3. start, stop, position, index start with 1(instead of 0)\n",
    "'''\n",
    "from Bio import SeqIO\n",
    "from Bio.SeqRecord import SeqRecord\n",
    "META_SEQ_LENGTH = 10000\n",
    "\n",
    "import subprocess\n",
    "import os\n",
    "import re"
   ]
  },
  {
   "cell_type": "code",
   "execution_count": 74,
   "metadata": {
    "collapsed": false
   },
   "outputs": [
    {
     "name": "stdout",
     "output_type": "stream",
     "text": [
      "chromosome_1\n",
      "GATCACGTACATCACCTTGTAAGAATTTATCTGCAATAGTCCTTCGGTATTGTACATTGTTCCAAGCATAGTAAACTAACGATATCAAGTTTGCCTTTCTAGCCCATGACCTACAGTCAGAAGTGTAAGCCATATCACTGTCGGCATGTTCAAACTTTGTCAAACCACAAAATAAACAAAGTCCTTGAAATCGAATACGTAGTTTACATTCTCGCAAGTTGTGGTCGGCCTTGCCACATTTATAACAAGTAGATAAGCGTACGGGGCATGCTTTCCCGGTATGAGCACGAATTTCTGTGTCTGGGTTACCAAGAGTGCAACTTAGACATTCATCTTTATACACTCGAAAGAATCGCTCGAGTTGTGCTGAAATGTCAGTTGAGTCTACCCATTGTTTTTTGACGGCTTGCACACGACTTTTATACTCGGCGAAATGAATGGTACGAGAATCAACATCACCATCACCATCACCATCACCAATACCAATACCAATACCAACAATACCACTCATACCTCCAACACTACCATGAACACGATTCATGTCATGGTTGACGCCCTGTTGTACATTGTTCAAATGTTCATCGTATGTGCGTTTATGACCACGACGATGGCTGAGCGACATGTCTTCCAAACCATACTTTAGATTCGTATTAGCATTGCCAAAGCTTTTCTTCCATGTTGGCGATACAGACGAAGGGAACAAAGTGATTTCCGATAATTCCGACAAAGACACTGGCGTAGTACTAGTAGTGTTAGTGTTCATAGCACTCATACCACTGCTATTCCCTGGCTGTGGTGGGGGGGAAGACGAAAACGATGCATTATAACGCGAATGTGTTGCAATGGCTGGTTTCGGTGTTTCTGGCAATGTCGGTTTCACTCCATACATCGTAGACACAGTTGATTCTTCACCAAGTAACGAATCTGAGCATCTTGAGCAGTAAACACAGTTAGCAAACGATGCACAACATACACATTCGCCATCCATTTCACTTGCGAG\n",
      "5579133\n"
     ]
    }
   ],
   "source": [
    "chromosome = SeqIO.parse(\"../5_Tests/Sep26SlicingGenome/Schpo1_chrome1.fasta\",'fasta').next()\n",
    "print(chromosome.id)\n",
    "print(chromosome.seq[:1000])\n",
    "print(len(chrome1))"
   ]
  },
  {
   "cell_type": "code",
   "execution_count": 21,
   "metadata": {
    "collapsed": false
   },
   "outputs": [
    {
     "data": {
      "text/plain": [
       "Seq('GATCACGTACATCACCTTGTAAGAATTTATCTGCAATAGTCCTTCGGTATTGTA...ATC', SingleLetterAlphabet())"
      ]
     },
     "execution_count": 21,
     "metadata": {},
     "output_type": "execute_result"
    }
   ],
   "source": [
    "chrome1.seq[:1000000000000]"
   ]
  },
  {
   "cell_type": "code",
   "execution_count": 22,
   "metadata": {
    "collapsed": true
   },
   "outputs": [],
   "source": [
    "meta_seqs = [chrom1.seq[i:i+META_SEQ_LENGTH] for i in range(0,len(chrom1),META_SEQ_LENGTH)]"
   ]
  },
  {
   "cell_type": "code",
   "execution_count": 44,
   "metadata": {
    "collapsed": false
   },
   "outputs": [
    {
     "data": {
      "text/plain": [
       "558"
      ]
     },
     "execution_count": 44,
     "metadata": {},
     "output_type": "execute_result"
    }
   ],
   "source": [
    "len(meta_seqs)"
   ]
  },
  {
   "cell_type": "code",
   "execution_count": 37,
   "metadata": {
    "collapsed": true
   },
   "outputs": [],
   "source": [
    "shortName = 'Schpo1'\n",
    "piece = 'chromosome_1'\n",
    "position = '1to10000'"
   ]
  },
  {
   "cell_type": "code",
   "execution_count": 41,
   "metadata": {
    "collapsed": false
   },
   "outputs": [],
   "source": [
    "test1 = SeqRecord(meta_seqs[0],id = '{}|{}|{}'.format(shortName,piece,position), description=\"\")"
   ]
  },
  {
   "cell_type": "code",
   "execution_count": 42,
   "metadata": {
    "collapsed": false
   },
   "outputs": [
    {
     "data": {
      "text/plain": [
       "SeqRecord(seq=Seq('GATCACGTACATCACCTTGTAAGAATTTATCTGCAATAGTCCTTCGGTATTGTA...CGG', SingleLetterAlphabet()), id='Schpo1|chromosome_1|1to10000', name='<unknown name>', description='', dbxrefs=[])"
      ]
     },
     "execution_count": 42,
     "metadata": {},
     "output_type": "execute_result"
    }
   ],
   "source": [
    "test1"
   ]
  },
  {
   "cell_type": "code",
   "execution_count": 43,
   "metadata": {
    "collapsed": false
   },
   "outputs": [
    {
     "data": {
      "text/plain": [
       "1"
      ]
     },
     "execution_count": 43,
     "metadata": {},
     "output_type": "execute_result"
    }
   ],
   "source": [
    "SeqIO.write(test1,'../5_Tests/Sep26SlicingGenome/{}_{}_{}.fasta'.format(shortName,piece,position), 'fasta')"
   ]
  },
  {
   "cell_type": "code",
   "execution_count": 105,
   "metadata": {
    "collapsed": true
   },
   "outputs": [],
   "source": [
    "def sliceToPieces(filename, outputPath, shortName, interval = 10000, piece_needed = 50, is_piece_limited = True):\n",
    "    '''\n",
    "    slice chromosome into the pieces with the length required \n",
    "    applicable to only one chromosome per file\n",
    "    '''\n",
    "    chromosome = SeqIO.parse(filename,'fasta').next()\n",
    "    meta_seqs = [((i,i+interval),chromosome.seq[i:i+interval]) for i in range(0,len(chromosome),interval)]\n",
    "    counter = 0\n",
    "    for pair in meta_seqs:\n",
    "        if is_piece_limited and counter == piece_needed:\n",
    "            break\n",
    "        counter+=1\n",
    "        location, meta_piece = pair\n",
    "#         print location\n",
    "        position = \"{}_{}\".format(int(location[0])+1,int(location[1]))\n",
    "#         print position\n",
    "        sub_seq = SeqRecord(meta_piece,id = '{}|{}|{}'.format(shortName,chromosome.id,position), description=\"\")\n",
    "        SeqIO.write(sub_seq,'{}{}_{}_#{}_{}.fasta'.format(outputPath,shortName,chromosome.id,counter,position), 'fasta')"
   ]
  },
  {
   "cell_type": "code",
   "execution_count": 107,
   "metadata": {
    "collapsed": false
   },
   "outputs": [],
   "source": [
    "filename = '../5_Tests/Sep26SlicingGenome/Schpo1_chrome1.fasta'\n",
    "outputPath = '../5_Tests/Sep26SlicingGenome/SlicedSchpo1/'\n",
    "shortName = \"Schpo1\"\n",
    "sliceToPieces(filename, outputPath, shortName, is_piece_limited=False)"
   ]
  },
  {
   "cell_type": "code",
   "execution_count": 124,
   "metadata": {
    "collapsed": false
   },
   "outputs": [],
   "source": [
    "## generate scripts that run genemark.hmm with given model file\n",
    "# modelFilePath = '/home/richard/research/5_Tests/Sep5modelWithLengthDistribution/modelDIY/'\n",
    "# modelFileName = 'GC36IntronSpacerDonorToBPSingleInternalInitialTerminal.txt'\n",
    "\n",
    "modelFilePath = '/home/richard/research/5_Tests/Sep5modelWithLengthDistribution/'\n",
    "modelFileName = 'Schpo1.ES_C_4.mod'\n",
    "\n",
    "fastaFilePath = '/home/richard/research/5_Tests/Sep26SlicingGenome/SlicedSchpo1/'\n",
    "fastaFileNames = filter(lambda x: 'fasta' in x, os.listdir(fastaFilePath))\n",
    "outputPath = '/home/richard/research/5_Tests/Sep26SlicingGenome/es_result_Schpo1/'\n",
    "\n",
    "\n",
    "## need to run under node001 to node036\n",
    "def genemarkHMM_script(modelFilePath,modelFileName,fastaFilePath,fastaFileNames,outputPath):\n",
    "    script = ''\n",
    "    base = \"/scratch/bin/essuite/gmhmme3 \"\n",
    "    model = '-m {}{} '.format(modelFilePath,modelFileName)\n",
    "    for fastaFile in fastaFileNames:   \n",
    "        fasta = \"{}{} \".format(fastaFilePath,fastaFile)\n",
    "        output = \"-o {}{}{}.es_output\".format(outputPath,fastaFile[:-5],modelFileName[:-4])\n",
    "        script += base + model + fasta + output+\"\\n\"\n",
    "#     print script\n",
    "#     subprocess.call(script,shell = True)\n",
    "#     print script\n",
    "    return script\n",
    "# genemarkHMM_script(modelFilePath,modelFileName,fastaFilePath,fastaFileNames,outputPath)\n",
    "script = genemarkHMM_script(modelFilePath,modelFileName,fastaFilePath,fastaFileNames,outputPath)\n",
    "# print script\n",
    "with open(\"/home/richard/research/5_Tests/Sep26SlicingGenome/ESFullModMetaScript.sh\",'w') as f: f.write(script)"
   ]
  },
  {
   "cell_type": "code",
   "execution_count": 221,
   "metadata": {
    "collapsed": false,
    "scrolled": false
   },
   "outputs": [
    {
     "name": "stdout",
     "output_type": "stream",
     "text": [
      "Eukariotyc GeneMark.hmm version 3.48\n",
      "Sequence name: /home/richard/research/5_Tests/Sep26SlicingGenome/SlicedSchpo1/Schpo1_chromosome_1_#87_860001_870000.fasta\n",
      "FASTA defline: >Schpo1|chromosome_1|860001_870000\n",
      "Sequence length: 10000 bp\n",
      "G+C content: 35.71%\n",
      "Matrices file: /home/richard/research/5_Tests/Sep5modelWithLengthDistribution/Schpo1.ES_C_4.mod\n",
      "Sun Sep 27 00:52:18 2015\n",
      "\n",
      "\n",
      "Predicted genes/exons\n",
      "\n",
      "Gene Exon Strand Exon           Exon Range         Exon      Start/End\n",
      "  #    #         Type                             Length       Frame\n",
      "1 1 - Initial 11 5662 5652 3 1 - -\n",
      "2 1 - Single 5726 6331 606 3 1 - -\n",
      "3 1 + Initial 7579 7749 171 1 3 - -\n",
      "3 2 + Internal 7791 8002 212 1 2 - -\n",
      "3 3 + Terminal 8053 9274 1222 3 3 - -\n",
      "\n",
      "4 1 + Single 12158 12994 837 1 3 - -\n",
      "5 1 + Single 15855 16226 372 1 3 - -\n",
      "6 1 + Initial 17469 17572 104 1 2 - -\n",
      "6 2 + Terminal 17686 18043 358 3 3 - -\n",
      "7 1 + Single 18117 18557 441 1 3 - -\n",
      "\n",
      "8 1 + Initial 20827 20932 106 1 1 - -\n",
      "8 2 + Internal 21552 22076 525 2 1 - -\n",
      "8 3 + Terminal 22132 22508 377 2 3 - -\n",
      "9 1 - Single 23589 23978 390 3 1 - -\n",
      "10 3 - Terminal 26342 26344 3 3 1 - -\n",
      "10 2 - Internal 27251 27352 102 3 1 - -\n",
      "10 1 - Initial 27404 27763 360 3 1 - -\n",
      "11 1 + Initial 28738 29227 490 1 1 - -\n",
      "11 2 + Terminal 29286 29638 353 2 3 - -\n",
      "12 1 + Initial 29886 29981 96 1 3 - -\n",
      "\n",
      "13 4 - Internal 31339 31557 219 3 1 - -\n",
      "13 3 - Internal 31768 31838 71 3 2 - -\n",
      "13 2 - Internal 31900 31913 14 1 3 - -\n",
      "13 1 - Initial 32163 32236 74 2 1 - -\n",
      "14 1 + Single 33835 34272 438 1 3 - -\n",
      "15 1 + Single 34349 34816 468 1 3 - -\n",
      "16 1 - Single 35768 36382 615 3 1 - -\n",
      "17 1 + Initial 39431 39848 418 1 1 - -\n",
      "17 2 + Internal 39899 39981 83 2 3 - -\n",
      "\n",
      "18 1 - Initial 40016 40125 110 2 1 - -\n",
      "19 1 - Single 42057 43307 1251 3 1 - -\n",
      "20 1 + Single 44704 45414 711 1 3 - -\n",
      "21 2 - Terminal 46075 46143 69 3 1 - -\n",
      "21 1 - Initial 46208 48160 1953 3 1 - -\n",
      "\n",
      "22 1 + Initial 52117 52240 124 1 1 - -\n",
      "22 2 + Terminal 52318 53600 1283 2 3 - -\n",
      "23 1 + Single 55304 56209 906 1 3 - -\n",
      "24 1 + Single 56618 57562 945 1 3 - -\n"
     ]
    }
   ],
   "source": [
    "## assemble prediction\n",
    "predictionPath = '/home/richard/research/5_Tests/Sep26SlicingGenome/es_result_Schpo1/'\n",
    "predictionNames = filter(lambda x: 'es_output' in x, os.listdir(predictionPath))\n",
    "\n",
    "pattern = '\\#(\\d*)\\_' #main pattern to get rid of over head\n",
    "pattern_interval = '\\#\\d*_(\\d*)_(\\d*)\\.'\n",
    "substitute_pattern = \"\\d+?\"\n",
    "prediction_pattern = '(\\d+?)\\s+?\\d\\s+?[+|-]\\s+?[^-+]'\n",
    "\n",
    "# a,b = re.findall(pattern_interval,predictionNames[0])[0]\n",
    "# print int(b)-int(a)+1\n",
    "\n",
    "def find_idx(predictionName): return int(re.findall(pattern,predictionName)[0]) # find index of the output file\n",
    "def find_gene_number(line): \n",
    "    try:\n",
    "        return int(re.findall(substitute_pattern,line)[0])\n",
    "    except:\n",
    "        print \"problem with line: \", line\n",
    "def substitute_gene_number(line, number, gene_count): \n",
    "#     print number+gene_count\n",
    "#     print line\n",
    "    return  re.sub(substitute_pattern,str(number+gene_count),line, count = 1)\n",
    "def substitute_exon_range(line, i, interval): \n",
    "    line_elem = line.split()\n",
    "    line_elem[4], line_elem[5] = str(int(line_elem[4])+interval*i), str(int(line_elem[5])+interval*i)\n",
    "    return ' '.join(line_elem)\n",
    "\n",
    "def assemble_annotation(predictionPath, predictionNames):\n",
    "    idx_file_pair = {find_idx(predictionName):predictionName for predictionName in predictionNames}\n",
    "    \n",
    "    ##locate seperate line and overhead\n",
    "    with open(predictionPath+predictionNames[0]) as f:\n",
    "        sep_line = ''\n",
    "        with open(predictionPath+predictionNames[0]) as f1:\n",
    "            for line in f1:\n",
    "                if '#' in line and 'Type' in line:\n",
    "                    sep_line = line     #sep\n",
    "                    break\n",
    "        text = f.read()\n",
    "        parts = text.split(sep_line)\n",
    "        base = parts[0] + sep_line      #overhead for annotation\n",
    "\n",
    "        gene_counter = 0 # for all the predictions\n",
    "\n",
    "        for idx in idx_file_pair:\n",
    "            number = find_idx(idx_file_pair[idx]) #locate the rank number of the prediction file \n",
    "            a,b = re.findall(pattern_interval,predictionNames[0])[0]\n",
    "            interval = int(b)-int(a)+1\n",
    "            \n",
    "#             print idx_file_pair[idx]\n",
    "            with open(predictionPath+idx_file_pair[idx]) as f:\n",
    "                all_line = filter(lambda x: len(x) > 10,f.read().split(sep_line)[1].split('\\n')) #get rid of empty line\n",
    "#                 print all_line\n",
    "                if len(all_line) == 0: break #it's possible that there is no gene in a file, so no prediction\n",
    "        \n",
    "                \n",
    "                gene_numbers = map(find_gene_number, all_line) # find gene number for each line\n",
    "                \n",
    "                #first modi\n",
    "                modified_all_line = [substitute_gene_number(all_line[i], gene_numbers[i], gene_counter) \\\n",
    "                                     for i in range(len(all_line))]\n",
    "                #idx-1 is the number of interval so far\n",
    "                modified_all_line = [substitute_exon_range(modified_all_line[i], int(idx)-1, interval) \n",
    "                                     for i in range(len(all_line))]\n",
    "                modified_all_line += '\\n'\n",
    "                gene_counter += len(set(gene_numbers))\n",
    "            base+='\\n'.join(modified_all_line)\n",
    "    return base\n",
    "\n",
    "# print find_gene_number('  2   1   -  Single            5726       6331        606          3 1 - -')\n",
    "# print int(re.findall(substitute_pattern,'  2   1   -  Single            5726       6331        606          3 1 - -')[0])\n",
    "# substitute_gene_number('  2   1   -  Single            5726       6331        606          3 1 - -', 20, 0)\n",
    "res = assemble_annotation(predictionPath, predictionNames)  \n",
    "print res[:2000]"
   ]
  },
  {
   "cell_type": "code",
   "execution_count": 215,
   "metadata": {
    "collapsed": false
   },
   "outputs": [],
   "source": [
    "with open(\"../5_Tests/Sep27AssembleAnnotation/ESFullAssembledAnnotation.es_output\",'w') as f: f.write(res)"
   ]
  },
  {
   "cell_type": "code",
   "execution_count": null,
   "metadata": {
    "collapsed": true
   },
   "outputs": [],
   "source": [
    "## compare with annotation\n",
    "## filter out the annotation that is cut\n"
   ]
  },
  {
   "cell_type": "code",
   "execution_count": null,
   "metadata": {
    "collapsed": true
   },
   "outputs": [],
   "source": [
    "##################### testing ##################################"
   ]
  },
  {
   "cell_type": "code",
   "execution_count": 212,
   "metadata": {
    "collapsed": false
   },
   "outputs": [
    {
     "data": {
      "text/plain": [
       "['1', '1', '-', 'Initial', '11', '5662', '5652', '3', '1', '-', '-']"
      ]
     },
     "execution_count": 212,
     "metadata": {},
     "output_type": "execute_result"
    }
   ],
   "source": [
    "string.split()"
   ]
  },
  {
   "cell_type": "code",
   "execution_count": 198,
   "metadata": {
    "collapsed": false
   },
   "outputs": [
    {
     "data": {
      "text/plain": [
       "['1']"
      ]
     },
     "execution_count": 198,
     "metadata": {},
     "output_type": "execute_result"
    }
   ],
   "source": [
    "# prediction_pattern = '(\\d+?)\\s+?\\d\\s+?[+|-]\\s+?[^-+]'\n",
    "substitute_pattern = \"\\d+?\"\n",
    "string = \"\"\"  1   1   -  Initial             11       5662       5652          3 1 - -\"\"\"\n",
    "\n",
    "re.findall(prediction_pattern,string)\n",
    "\n",
    "#replace the gene count in an accumulated fashion\n",
    "# re.sub(substitute_pattern,'abc',string, count = 1)\n"
   ]
  },
  {
   "cell_type": "code",
   "execution_count": 126,
   "metadata": {
    "collapsed": true
   },
   "outputs": [],
   "source": []
  }
 ],
 "metadata": {
  "kernelspec": {
   "display_name": "Python 2",
   "language": "python",
   "name": "python2"
  },
  "language_info": {
   "codemirror_mode": {
    "name": "ipython",
    "version": 2
   },
   "file_extension": ".py",
   "mimetype": "text/x-python",
   "name": "python",
   "nbconvert_exporter": "python",
   "pygments_lexer": "ipython2",
   "version": "2.7.10"
  }
 },
 "nbformat": 4,
 "nbformat_minor": 0
}
