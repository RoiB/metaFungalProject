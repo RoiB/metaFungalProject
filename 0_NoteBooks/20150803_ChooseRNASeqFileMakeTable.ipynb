{
 "cells": [
  {
   "cell_type": "code",
   "execution_count": 18,
   "metadata": {
    "collapsed": false
   },
   "outputs": [],
   "source": [
    "'''\n",
    "1. set up temp repo for rna seq data: /storage2/meta/rnaSeqData\n",
    "\n",
    "2. write code to make rna-seq script automatically given the name of the downlaoded rna-seq file\n",
    "\n",
    "3. make table in the format shortName, RNASeqFileName, downloadURL\n",
    "\n",
    "4. the intronDensity VS gc plot is divided in to 3x3 blocks\n",
    "\n",
    "'''\n",
    "import pandas as pd\n",
    "info = pd.read_csv(\"/home/richard/research/1_DataSmall/2_completeFileInfo/completeInfoStatsRNASeqFiltered.csv\")\n",
    "rnaSeqSource = '/storage3/w/richard/meta2015'"
   ]
  },
  {
   "cell_type": "code",
   "execution_count": 19,
   "metadata": {
    "collapsed": false
   },
   "outputs": [],
   "source": [
    "# tupleFormat: shortName, filename, URL\n",
    "RNASeqFileInfo = []"
   ]
  },
  {
   "cell_type": "code",
   "execution_count": 38,
   "metadata": {
    "collapsed": false,
    "scrolled": true
   },
   "outputs": [],
   "source": [
    "## (1,1) low gc, high intron density\n",
    "# print info.loc[139]\n",
    "\n",
    "target = info.loc[139]\n",
    "shortName = target['shortName']\n",
    "fastaName = target['fastaName']\n",
    "\n",
    "URL = \"ftp://ftp-trace.ncbi.nlm.nih.gov/sra/sra-instant/reads/ByRun/sra/ERR/ERR135/ERR135878/ERR135878.sra\"\n",
    "fileName = 'ERR135878.sra'\n",
    "RNASeqFileInfo.append((shortName, fileName, URL))\n",
    "\n",
    "# make script for the whole process of rna seq, prep -> ran-seq\n",
    "# create directory\n",
    "script = 'cd {}/rnaSeqPlace\\n'.format(rnaSeqSource)\n",
    "script += 'mkdir {0}\\ncd {0}\\n'.format(shortName)\n",
    "\n",
    "# prep folders\n",
    "script += 'mkdir arx data data/starg star\\n'\n",
    "\n",
    "# copy genome file and unzip it\n",
    "script += 'cp /home/richard/1_DataLarge/fasta_gff_gtf_07302015/{}/{} ./data\\n'.format(shortName, fastaName)\n",
    "script += 'gunzip ./data/{}\\n'.format(fastaName)\n",
    "\n",
    "# get RNA-seq \n",
    "script += 'cd arx\\n'\n",
    "script += 'cp {}/rnaSeqData/{} .\\n'.format(rnaSeqSource,fileName)\n",
    "script += '/home/tool/sratoolkit/bin/fastq-dump --split-3 {}\\n'.format(fileName)\n",
    "\n",
    "\n",
    "# prepare genome for star\n",
    "script += 'cd ../data/starg\\n'\n",
    "script += '/home/tool/STAR/source/STAR --runMode genomeGenerate --genomeDir . --genomeFastaFiles ../{} --runThreadN 8\\n'.format(fastaName[:-3])\n",
    "\n",
    "## run rna-seq\n",
    "# execute aux program and generate run_star\n",
    "script += \"cd ../../star\\n\"\n",
    "script += 'python {} .\\n'.format(\"/home/richard/research/4_SelfMadeTool/generateRunStar.py\")\n",
    "# execute run_star.sh\n",
    "script += 'bash run_star.sh &\\n'\n",
    "\n",
    "with open(\"/home/richard/research/tempFile/rnaSeq_{}.sh\".format(shortName), 'w') as f: f.write(script)"
   ]
  },
  {
   "cell_type": "code",
   "execution_count": 39,
   "metadata": {
    "collapsed": false,
    "scrolled": true
   },
   "outputs": [
    {
     "name": "stdout",
     "output_type": "stream",
     "text": [
      "cd /storage3/w/richard/meta2015/rnaSeqPlace\n",
      "mkdir Pneji1\n",
      "cd Pneji1\n",
      "mkdir arx data data/starg star\n",
      "cp /home/richard/1_DataLarge/fasta_gff_gtf_07302015/Pneji1/Pneji1_AssemblyScaffolds.fasta.gz ./data\n",
      "gunzip ./data/Pneji1_AssemblyScaffolds.fasta.gz\n",
      "cd arx\n",
      "cp /storage3/w/richard/meta2015/rnaSeqData/ERR135878.sra .\n",
      "/home/tool/sratoolkit/bin/fastq-dump --split-3 ERR135878.sra\n",
      "cd ../data/starg\n",
      "/home/tool/STAR/source/STAR --runMode genomeGenerate --genomeDir . --genomeFastaFiles ../Pneji1_AssemblyScaffolds.fasta --runThreadN 8\n",
      "cd ../../star\n",
      "python /home/richard/research/4_SelfMadeTool/generateRunStar.py .\n",
      "bash run_star.sh &\n",
      "\n"
     ]
    }
   ],
   "source": [
    "print script"
   ]
  },
  {
   "cell_type": "code",
   "execution_count": null,
   "metadata": {
    "collapsed": true
   },
   "outputs": [],
   "source": []
  }
 ],
 "metadata": {
  "kernelspec": {
   "display_name": "Python 2",
   "language": "python",
   "name": "python2"
  },
  "language_info": {
   "codemirror_mode": {
    "name": "ipython",
    "version": 2
   },
   "file_extension": ".py",
   "mimetype": "text/x-python",
   "name": "python",
   "nbconvert_exporter": "python",
   "pygments_lexer": "ipython2",
   "version": "2.7.10"
  }
 },
 "nbformat": 4,
 "nbformat_minor": 0
}
