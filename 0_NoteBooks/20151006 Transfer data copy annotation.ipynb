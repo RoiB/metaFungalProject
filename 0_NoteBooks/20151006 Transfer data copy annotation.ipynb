{
 "cells": [
  {
   "cell_type": "code",
   "execution_count": 3,
   "metadata": {
    "collapsed": true
   },
   "outputs": [],
   "source": [
    "import subprocess"
   ]
  },
  {
   "cell_type": "code",
   "execution_count": 5,
   "metadata": {
    "collapsed": true
   },
   "outputs": [],
   "source": [
    "# transfer annotation to placeForRnaSeq\n",
    "source = '/storage3/w/richard/meta2015/finalTestSet20151002/gff/'\n",
    "shortNames = os.listdir(\"/storage3/w/richard/meta2015/placeForRNASeq/\")\n",
    "\n",
    "target = '/storage3/w/richard/meta2015/placeForRNASeq/'"
   ]
  },
  {
   "cell_type": "code",
   "execution_count": 12,
   "metadata": {
    "collapsed": false
   },
   "outputs": [],
   "source": [
    "for shortName in shortNames:\n",
    "#     print \"cp {}{}*.gff {}{}/data/\".format(source,shortName, target,shortName)\n",
    "    try:\n",
    "        subprocess.check_call(\"cp {}{}*.gff {}{}/data/\".format(source,shortName, target,shortName),shell = True)\n",
    "    except:\n",
    "        print \"error:\",shortName"
   ]
  },
  {
   "cell_type": "code",
   "execution_count": null,
   "metadata": {
    "collapsed": true
   },
   "outputs": [],
   "source": []
  }
 ],
 "metadata": {
  "kernelspec": {
   "display_name": "Python 2",
   "language": "python",
   "name": "python2"
  },
  "language_info": {
   "codemirror_mode": {
    "name": "ipython",
    "version": 2
   },
   "file_extension": ".py",
   "mimetype": "text/x-python",
   "name": "python",
   "nbconvert_exporter": "python",
   "pygments_lexer": "ipython2",
   "version": "2.7.10"
  }
 },
 "nbformat": 4,
 "nbformat_minor": 0
}
