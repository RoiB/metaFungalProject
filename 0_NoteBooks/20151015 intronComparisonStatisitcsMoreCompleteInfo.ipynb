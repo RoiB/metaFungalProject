{
 "cells": [
  {
   "cell_type": "code",
   "execution_count": 127,
   "metadata": {
    "collapsed": true
   },
   "outputs": [],
   "source": [
    "import pandas as pd\n",
    "from Bio import SeqIO\n",
    "import subprocess"
   ]
  },
  {
   "cell_type": "code",
   "execution_count": 30,
   "metadata": {
    "collapsed": true
   },
   "outputs": [],
   "source": [
    "full_info = pd.read_csv('../1_DataSmall/fullTableInfoGff3GffRNAESwithDensity20150829.csv')\n",
    "full_info.index = full_info.shortName\n",
    "\n",
    "basepath = '/storage3/w/richard/meta2015/placeForRNASeq/'"
   ]
  },
  {
   "cell_type": "code",
   "execution_count": 215,
   "metadata": {
    "collapsed": false
   },
   "outputs": [
    {
     "name": "stdout",
     "output_type": "stream",
     "text": [
      "4.24\n",
      "5.02\n"
     ]
    }
   ],
   "source": [
    "print full_info.ix['Hebcy2'].intronDensityGff \n",
    "print full_info.ix['Obbri1'].intronDensityGff "
   ]
  },
  {
   "cell_type": "code",
   "execution_count": 3,
   "metadata": {
    "collapsed": true
   },
   "outputs": [],
   "source": [
    "target = '../5_Tests/Oct15intronCompare/intronComparison.txt'"
   ]
  },
  {
   "cell_type": "code",
   "execution_count": 17,
   "metadata": {
    "collapsed": true
   },
   "outputs": [],
   "source": [
    "lines = []\n",
    "with open(target) as f: \n",
    "    for line in f:\n",
    "        if len(line) > 2:\n",
    "            lines.append(line.rstrip())"
   ]
  },
  {
   "cell_type": "code",
   "execution_count": 18,
   "metadata": {
    "collapsed": false
   },
   "outputs": [],
   "source": [
    "result = zip(lines[::3],lines[1::3],lines[2::3])"
   ]
  },
  {
   "cell_type": "code",
   "execution_count": 22,
   "metadata": {
    "collapsed": false
   },
   "outputs": [],
   "source": [
    "shortName = lines[::3]"
   ]
  },
  {
   "cell_type": "code",
   "execution_count": 23,
   "metadata": {
    "collapsed": true
   },
   "outputs": [],
   "source": [
    "longName  = full_info.longName[shortName]"
   ]
  },
  {
   "cell_type": "code",
   "execution_count": 25,
   "metadata": {
    "collapsed": false
   },
   "outputs": [],
   "source": [
    "gc = full_info.gc[shortName]"
   ]
  },
  {
   "cell_type": "code",
   "execution_count": 27,
   "metadata": {
    "collapsed": false
   },
   "outputs": [],
   "source": [
    "fastaName = map(lambda x: x[:-3], full_info.fastaName[shortName])"
   ]
  },
  {
   "cell_type": "code",
   "execution_count": 54,
   "metadata": {
    "collapsed": false
   },
   "outputs": [],
   "source": [
    "genomesize = map(int,map(lambda x:os.path.getsize(basepath+x+\"/data/\"+full_info.fastaName[x][:-3])/1024./1024., shortName))"
   ]
  },
  {
   "cell_type": "code",
   "execution_count": 64,
   "metadata": {
    "collapsed": false
   },
   "outputs": [],
   "source": [
    "rna_seq_intron = map(lambda x: x.split()[0],lines[1::3])\n",
    "rna_seq_intron_unique = map(lambda x: x.split()[2],lines[1::3])"
   ]
  },
  {
   "cell_type": "code",
   "execution_count": 65,
   "metadata": {
    "collapsed": false
   },
   "outputs": [],
   "source": [
    "ES_intron = map(lambda x: x.split()[0],lines[2::3])\n",
    "ES_intron_unique = map(lambda x: x.split()[2],lines[2::3])"
   ]
  },
  {
   "cell_type": "code",
   "execution_count": 66,
   "metadata": {
    "collapsed": true
   },
   "outputs": [],
   "source": [
    "shared_intron = map(lambda x: x.split()[1], lines[1::3])\n",
    "shared_intron_rna = map(lambda x: x.split()[1], lines[1::3])"
   ]
  },
  {
   "cell_type": "code",
   "execution_count": 70,
   "metadata": {
    "collapsed": true
   },
   "outputs": [],
   "source": [
    "testGenomeRNASeq_ES = pd.DataFrame({\"shortName\":shortName,\n",
    "                                   \"longName\":longName,\n",
    "                                   'gc':gc,\n",
    "                                   'genomesize_Mb':genomesize,\n",
    "                                   'rna_seq_intron':rna_seq_intron,\n",
    "                                   'rna_seq_intron_unique':rna_seq_intron_unique,\n",
    "                                   'ES_intron':ES_intron,\n",
    "                                   'ES_intron_unique':ES_intron_unique,\n",
    "                                   'shared_intron':shared_intron},\n",
    "                                   columns = [\"shortName\",\"longName\",'gc','genomesize_Mb','rna_seq_intron',\n",
    "                                              'rna_seq_intron_unique','ES_intron','ES_intron_unique','shared_intron'])"
   ]
  },
  {
   "cell_type": "code",
   "execution_count": 72,
   "metadata": {
    "collapsed": false
   },
   "outputs": [
    {
     "data": {
      "text/html": [
       "<div>\n",
       "<table border=\"1\" class=\"dataframe\">\n",
       "  <thead>\n",
       "    <tr style=\"text-align: right;\">\n",
       "      <th></th>\n",
       "      <th>shortName</th>\n",
       "      <th>longName</th>\n",
       "      <th>gc</th>\n",
       "      <th>genomesize_Mb</th>\n",
       "      <th>rna_seq_intron</th>\n",
       "      <th>rna_seq_intron_unique</th>\n",
       "      <th>ES_intron</th>\n",
       "      <th>ES_intron_unique</th>\n",
       "      <th>shared_intron</th>\n",
       "    </tr>\n",
       "    <tr>\n",
       "      <th>shortName</th>\n",
       "      <th></th>\n",
       "      <th></th>\n",
       "      <th></th>\n",
       "      <th></th>\n",
       "      <th></th>\n",
       "      <th></th>\n",
       "      <th></th>\n",
       "      <th></th>\n",
       "      <th></th>\n",
       "    </tr>\n",
       "  </thead>\n",
       "  <tbody>\n",
       "    <tr>\n",
       "      <th>Aspoch1</th>\n",
       "      <td>Aspoch1</td>\n",
       "      <td>Aspergillus ochraceoroseus IBT 24754 v1.0</td>\n",
       "      <td>44.2</td>\n",
       "      <td>26</td>\n",
       "      <td>52840</td>\n",
       "      <td>36554</td>\n",
       "      <td>19845</td>\n",
       "      <td>3559</td>\n",
       "      <td>16286</td>\n",
       "    </tr>\n",
       "    <tr>\n",
       "      <th>Cenge3</th>\n",
       "      <td>Cenge3</td>\n",
       "      <td>Cenococcum geophilum 1.58 v2.0</td>\n",
       "      <td>37.5</td>\n",
       "      <td>171</td>\n",
       "      <td>80781</td>\n",
       "      <td>57630</td>\n",
       "      <td>28373</td>\n",
       "      <td>5222</td>\n",
       "      <td>23151</td>\n",
       "    </tr>\n",
       "    <tr>\n",
       "      <th>Conco1</th>\n",
       "      <td>Conco1</td>\n",
       "      <td>Conidiobolus coronatus NRRL28638 v1.0</td>\n",
       "      <td>27.7</td>\n",
       "      <td>38</td>\n",
       "      <td>41143</td>\n",
       "      <td>26361</td>\n",
       "      <td>18881</td>\n",
       "      <td>4099</td>\n",
       "      <td>14782</td>\n",
       "    </tr>\n",
       "    <tr>\n",
       "      <th>Conli1</th>\n",
       "      <td>Conli1</td>\n",
       "      <td>Coniochaeta ligniaria CBS 111746</td>\n",
       "      <td>51.9</td>\n",
       "      <td>42</td>\n",
       "      <td>41572</td>\n",
       "      <td>27217</td>\n",
       "      <td>24418</td>\n",
       "      <td>10063</td>\n",
       "      <td>14355</td>\n",
       "    </tr>\n",
       "    <tr>\n",
       "      <th>Croqu1</th>\n",
       "      <td>Croqu1</td>\n",
       "      <td>Cronartium quercuum f. sp. fusiforme G11 v1.0</td>\n",
       "      <td>41.1</td>\n",
       "      <td>74</td>\n",
       "      <td>83592</td>\n",
       "      <td>64755</td>\n",
       "      <td>24342</td>\n",
       "      <td>5505</td>\n",
       "      <td>18837</td>\n",
       "    </tr>\n",
       "  </tbody>\n",
       "</table>\n",
       "</div>"
      ],
      "text/plain": [
       "          shortName                                       longName    gc  \\\n",
       "shortName                                                                  \n",
       "Aspoch1     Aspoch1      Aspergillus ochraceoroseus IBT 24754 v1.0  44.2   \n",
       "Cenge3       Cenge3                 Cenococcum geophilum 1.58 v2.0  37.5   \n",
       "Conco1       Conco1          Conidiobolus coronatus NRRL28638 v1.0  27.7   \n",
       "Conli1       Conli1               Coniochaeta ligniaria CBS 111746  51.9   \n",
       "Croqu1       Croqu1  Cronartium quercuum f. sp. fusiforme G11 v1.0  41.1   \n",
       "\n",
       "           genomesize_Mb rna_seq_intron rna_seq_intron_unique ES_intron  \\\n",
       "shortName                                                                 \n",
       "Aspoch1               26          52840                 36554     19845   \n",
       "Cenge3               171          80781                 57630     28373   \n",
       "Conco1                38          41143                 26361     18881   \n",
       "Conli1                42          41572                 27217     24418   \n",
       "Croqu1                74          83592                 64755     24342   \n",
       "\n",
       "          ES_intron_unique shared_intron  \n",
       "shortName                                 \n",
       "Aspoch1               3559         16286  \n",
       "Cenge3                5222         23151  \n",
       "Conco1                4099         14782  \n",
       "Conli1               10063         14355  \n",
       "Croqu1                5505         18837  "
      ]
     },
     "execution_count": 72,
     "metadata": {},
     "output_type": "execute_result"
    }
   ],
   "source": [
    "testGenomeRNASeq_ES.head()"
   ]
  },
  {
   "cell_type": "code",
   "execution_count": 88,
   "metadata": {
    "collapsed": true
   },
   "outputs": [],
   "source": [
    "########################################################################\n",
    "########################################################################"
   ]
  },
  {
   "cell_type": "code",
   "execution_count": 85,
   "metadata": {
    "collapsed": false
   },
   "outputs": [],
   "source": [
    "####  perform tests on intron with score > 10  ####\n",
    "base_command = 'perl /home/alexl/DISTR/src/pl/compare_cds_exact.pl -f1'\n",
    "source = '/storage3/w/richard/meta2015/placeForRNASeq/'\n",
    "target = '/home/richard/research/5_Tests/Oct15intronCompare/'\n",
    "script = ''\n",
    "for name in shortName:\n",
    "    command = \"{} {}{}/star/star_introns_GT_AG_10.gff -f2 {}{}/star/introns.gff -v -intron >{}{}.score10.txt\\n\".format(base_command, source,name,source, name,target,name)\n",
    "    script+=command\n",
    "    \n",
    "with open(target+'get_intron_overlap_score_10.sh','w') as f: f.write(script)"
   ]
  },
  {
   "cell_type": "code",
   "execution_count": 89,
   "metadata": {
    "collapsed": true
   },
   "outputs": [],
   "source": [
    "source = \"/home/richard/research/5_Tests/Oct15intronCompare/\"\n",
    "filenames = filter(lambda x: 'score10' in x, os.listdir(source))"
   ]
  },
  {
   "cell_type": "code",
   "execution_count": 93,
   "metadata": {
    "collapsed": false
   },
   "outputs": [],
   "source": [
    "result_score_10 = []\n",
    "for name in shortName:\n",
    "    res = [name]\n",
    "    with open(source+name+'.score10.txt') as f:\n",
    "        for line in f: res.append(line.rstrip())\n",
    "    result_score_10.append(res)"
   ]
  },
  {
   "cell_type": "code",
   "execution_count": 95,
   "metadata": {
    "collapsed": true
   },
   "outputs": [],
   "source": [
    "def get_score10(alist):\n",
    "    if len(alist) != 3:\n",
    "        return [alist[0],'0 0 0 0','0 0 0 0']\n",
    "    else:\n",
    "        return alist"
   ]
  },
  {
   "cell_type": "code",
   "execution_count": 97,
   "metadata": {
    "collapsed": false
   },
   "outputs": [],
   "source": [
    "result_score_10 = map(get_score10,result_score_10)"
   ]
  },
  {
   "cell_type": "code",
   "execution_count": 186,
   "metadata": {
    "collapsed": false,
    "scrolled": false
   },
   "outputs": [
    {
     "data": {
      "text/plain": [
       "[['Aspoch1',\n",
       "  '22375 14680 7695 65.61 /storage3/w/richard/meta2015/placeForRNASeq/Aspoch1/star/star_introns_GT_AG_10.gff',\n",
       "  '19845 14680 5165 73.97 /storage3/w/richard/meta2015/placeForRNASeq/Aspoch1/star/introns.gff'],\n",
       " ['Cenge3',\n",
       "  '32091 20822 11269 64.88 /storage3/w/richard/meta2015/placeForRNASeq/Cenge3/star/star_introns_GT_AG_10.gff',\n",
       "  '28373 20822 7551 73.39 /storage3/w/richard/meta2015/placeForRNASeq/Cenge3/star/introns.gff'],\n",
       " ['Conco1',\n",
       "  '17943 14036 3907 78.23 /storage3/w/richard/meta2015/placeForRNASeq/Conco1/star/star_introns_GT_AG_10.gff',\n",
       "  '18881 14036 4845 74.34 /storage3/w/richard/meta2015/placeForRNASeq/Conco1/star/introns.gff'],\n",
       " ['Conli1',\n",
       "  '17179 12156 5023 70.76 /storage3/w/richard/meta2015/placeForRNASeq/Conli1/star/star_introns_GT_AG_10.gff',\n",
       "  '24418 12156 12262 49.78 /storage3/w/richard/meta2015/placeForRNASeq/Conli1/star/introns.gff'],\n",
       " ['Croqu1',\n",
       "  '39748 16163 23585 40.66 /storage3/w/richard/meta2015/placeForRNASeq/Croqu1/star/star_introns_GT_AG_10.gff',\n",
       "  '24342 16163 8179 66.40 /storage3/w/richard/meta2015/placeForRNASeq/Croqu1/star/introns.gff'],\n",
       " ['Disac1',\n",
       "  '13379 9088 4291 67.93 /storage3/w/richard/meta2015/placeForRNASeq/Disac1/star/star_introns_GT_AG_10.gff',\n",
       "  '12003 9088 2915 75.71 /storage3/w/richard/meta2015/placeForRNASeq/Disac1/star/introns.gff'],\n",
       " ['Gloin1',\n",
       "  '82147 594 81553 0.72 /storage3/w/richard/meta2015/placeForRNASeq/Gloin1/star/star_introns_GT_AG_10.gff',\n",
       "  '986 594 392 60.24 /storage3/w/richard/meta2015/placeForRNASeq/Gloin1/star/introns.gff'],\n",
       " ['Hebcy2',\n",
       "  '55835 46385 9450 83.08 /storage3/w/richard/meta2015/placeForRNASeq/Hebcy2/star/star_introns_GT_AG_10.gff',\n",
       "  '65105 46385 18720 71.25 /storage3/w/richard/meta2015/placeForRNASeq/Hebcy2/star/introns.gff'],\n",
       " ['HypEC38_1',\n",
       "  '1 0 1 0.00 /storage3/w/richard/meta2015/placeForRNASeq/HypEC38_1/star/star_introns_GT_AG_10.gff',\n",
       "  '22740 0 22740 0.00 /storage3/w/richard/meta2015/placeForRNASeq/HypEC38_1/star/introns.gff'],\n",
       " ['Neopa1',\n",
       "  '27 0 27 0.00 /storage3/w/richard/meta2015/placeForRNASeq/Neopa1/star/star_introns_GT_AG_10.gff',\n",
       "  '22392 0 22392 0.00 /storage3/w/richard/meta2015/placeForRNASeq/Neopa1/star/introns.gff'],\n",
       " ['Obbri1',\n",
       "  '75017 54608 20409 72.79 /storage3/w/richard/meta2015/placeForRNASeq/Obbri1/star/star_introns_GT_AG_10.gff',\n",
       "  '66273 54608 11665 82.40 /storage3/w/richard/meta2015/placeForRNASeq/Obbri1/star/introns.gff'],\n",
       " ['Ophdi1',\n",
       "  '22312 16811 5501 75.35 /storage3/w/richard/meta2015/placeForRNASeq/Ophdi1/star/star_introns_GT_AG_10.gff',\n",
       "  '25526 16811 8715 65.86 /storage3/w/richard/meta2015/placeForRNASeq/Ophdi1/star/introns.gff'],\n",
       " ['Phchr2',\n",
       "  '78597 51642 26955 65.70 /storage3/w/richard/meta2015/placeForRNASeq/Phchr2/star/star_introns_GT_AG_10.gff',\n",
       "  '59898 51642 8256 86.22 /storage3/w/richard/meta2015/placeForRNASeq/Phchr2/star/introns.gff'],\n",
       " ['Pneji1',\n",
       "  '4078 2866 1212 70.28 /storage3/w/richard/meta2015/placeForRNASeq/Pneji1/star/star_introns_GT_AG_10.gff',\n",
       "  '16671 2866 13805 17.19 /storage3/w/richard/meta2015/placeForRNASeq/Pneji1/star/introns.gff'],\n",
       " ['SerlaS7_9_2',\n",
       "  '71106 47350 23756 66.59 /storage3/w/richard/meta2015/placeForRNASeq/SerlaS7_9_2/star/star_introns_GT_AG_10.gff',\n",
       "  '60425 47350 13075 78.36 /storage3/w/richard/meta2015/placeForRNASeq/SerlaS7_9_2/star/introns.gff'],\n",
       " ['Sphst1',\n",
       "  '524 473 51 90.27 /storage3/w/richard/meta2015/placeForRNASeq/Sphst1/star/star_introns_GT_AG_10.gff',\n",
       "  '129250 473 128777 0.37 /storage3/w/richard/meta2015/placeForRNASeq/Sphst1/star/introns.gff'],\n",
       " ['Spofi1',\n",
       "  '8 0 8 0.00 /storage3/w/richard/meta2015/placeForRNASeq/Spofi1/star/star_introns_GT_AG_10.gff',\n",
       "  '18300 0 18300 0.00 /storage3/w/richard/meta2015/placeForRNASeq/Spofi1/star/introns.gff'],\n",
       " ['Tilan2', '0 0 0 0', '0 0 0 0'],\n",
       " ['Trias1',\n",
       "  '19822 5124 14698 25.85 /storage3/w/richard/meta2015/placeForRNASeq/Trias1/star/star_introns_GT_AG_10.gff',\n",
       "  '6569 5124 1445 78.00 /storage3/w/richard/meta2015/placeForRNASeq/Trias1/star/introns.gff'],\n",
       " ['Veren1',\n",
       "  '1846 1 1845 0.05 /storage3/w/richard/meta2015/placeForRNASeq/Veren1/star/star_introns_GT_AG_10.gff',\n",
       "  '25242 1 25241 0.00 /storage3/w/richard/meta2015/placeForRNASeq/Veren1/star/introns.gff'],\n",
       " ['Aspoch1',\n",
       "  '22375 14680 7695 65.61 /storage3/w/richard/meta2015/placeForRNASeq/Aspoch1/star/star_introns_GT_AG_10.gff',\n",
       "  '19845 14680 5165 73.97 /storage3/w/richard/meta2015/placeForRNASeq/Aspoch1/star/annotation.introns.gff'],\n",
       " ['Cenge3',\n",
       "  '32091 20822 11269 64.88 /storage3/w/richard/meta2015/placeForRNASeq/Cenge3/star/star_introns_GT_AG_10.gff',\n",
       "  '28373 20822 7551 73.39 /storage3/w/richard/meta2015/placeForRNASeq/Cenge3/star/annotation.introns.gff'],\n",
       " ['Conco1',\n",
       "  '17943 14036 3907 78.23 /storage3/w/richard/meta2015/placeForRNASeq/Conco1/star/star_introns_GT_AG_10.gff',\n",
       "  '18881 14036 4845 74.34 /storage3/w/richard/meta2015/placeForRNASeq/Conco1/star/annotation.introns.gff'],\n",
       " ['Conli1',\n",
       "  '17179 12156 5023 70.76 /storage3/w/richard/meta2015/placeForRNASeq/Conli1/star/star_introns_GT_AG_10.gff',\n",
       "  '24418 12156 12262 49.78 /storage3/w/richard/meta2015/placeForRNASeq/Conli1/star/annotation.introns.gff'],\n",
       " ['Croqu1',\n",
       "  '39748 16163 23585 40.66 /storage3/w/richard/meta2015/placeForRNASeq/Croqu1/star/star_introns_GT_AG_10.gff',\n",
       "  '24342 16163 8179 66.40 /storage3/w/richard/meta2015/placeForRNASeq/Croqu1/star/annotation.introns.gff'],\n",
       " ['Disac1',\n",
       "  '13379 9088 4291 67.93 /storage3/w/richard/meta2015/placeForRNASeq/Disac1/star/star_introns_GT_AG_10.gff',\n",
       "  '12003 9088 2915 75.71 /storage3/w/richard/meta2015/placeForRNASeq/Disac1/star/annotation.introns.gff'],\n",
       " ['Gloin1',\n",
       "  '82147 594 81553 0.72 /storage3/w/richard/meta2015/placeForRNASeq/Gloin1/star/star_introns_GT_AG_10.gff',\n",
       "  '986 594 392 60.24 /storage3/w/richard/meta2015/placeForRNASeq/Gloin1/star/annotation.introns.gff'],\n",
       " ['Hebcy2',\n",
       "  '55835 46385 9450 83.08 /storage3/w/richard/meta2015/placeForRNASeq/Hebcy2/star/star_introns_GT_AG_10.gff',\n",
       "  '65105 46385 18720 71.25 /storage3/w/richard/meta2015/placeForRNASeq/Hebcy2/star/annotation.introns.gff'],\n",
       " ['HypEC38_1',\n",
       "  '1 0 1 0.00 /storage3/w/richard/meta2015/placeForRNASeq/HypEC38_1/star/star_introns_GT_AG_10.gff',\n",
       "  '22740 0 22740 0.00 /storage3/w/richard/meta2015/placeForRNASeq/HypEC38_1/star/annotation.introns.gff'],\n",
       " ['Neopa1',\n",
       "  '27 0 27 0.00 /storage3/w/richard/meta2015/placeForRNASeq/Neopa1/star/star_introns_GT_AG_10.gff',\n",
       "  '22392 0 22392 0.00 /storage3/w/richard/meta2015/placeForRNASeq/Neopa1/star/annotation.introns.gff'],\n",
       " ['Obbri1',\n",
       "  '75017 54608 20409 72.79 /storage3/w/richard/meta2015/placeForRNASeq/Obbri1/star/star_introns_GT_AG_10.gff',\n",
       "  '66273 54608 11665 82.40 /storage3/w/richard/meta2015/placeForRNASeq/Obbri1/star/annotation.introns.gff'],\n",
       " ['Ophdi1',\n",
       "  '22312 16811 5501 75.35 /storage3/w/richard/meta2015/placeForRNASeq/Ophdi1/star/star_introns_GT_AG_10.gff',\n",
       "  '25526 16811 8715 65.86 /storage3/w/richard/meta2015/placeForRNASeq/Ophdi1/star/annotation.introns.gff'],\n",
       " ['Phchr2',\n",
       "  '78597 51642 26955 65.70 /storage3/w/richard/meta2015/placeForRNASeq/Phchr2/star/star_introns_GT_AG_10.gff',\n",
       "  '59898 51642 8256 86.22 /storage3/w/richard/meta2015/placeForRNASeq/Phchr2/star/annotation.introns.gff'],\n",
       " ['Pneji1',\n",
       "  '4078 2866 1212 70.28 /storage3/w/richard/meta2015/placeForRNASeq/Pneji1/star/star_introns_GT_AG_10.gff',\n",
       "  '16671 2866 13805 17.19 /storage3/w/richard/meta2015/placeForRNASeq/Pneji1/star/annotation.introns.gff'],\n",
       " ['SerlaS7_9_2',\n",
       "  '71106 47350 23756 66.59 /storage3/w/richard/meta2015/placeForRNASeq/SerlaS7_9_2/star/star_introns_GT_AG_10.gff',\n",
       "  '60425 47350 13075 78.36 /storage3/w/richard/meta2015/placeForRNASeq/SerlaS7_9_2/star/annotation.introns.gff'],\n",
       " ['Sphst1',\n",
       "  '524 473 51 90.27 /storage3/w/richard/meta2015/placeForRNASeq/Sphst1/star/star_introns_GT_AG_10.gff',\n",
       "  '129250 473 128777 0.37 /storage3/w/richard/meta2015/placeForRNASeq/Sphst1/star/annotation.introns.gff'],\n",
       " ['Spofi1',\n",
       "  '8 0 8 0.00 /storage3/w/richard/meta2015/placeForRNASeq/Spofi1/star/star_introns_GT_AG_10.gff',\n",
       "  '18300 0 18300 0.00 /storage3/w/richard/meta2015/placeForRNASeq/Spofi1/star/annotation.introns.gff'],\n",
       " ['Tilan2'],\n",
       " ['Trias1',\n",
       "  '19822 5124 14698 25.85 /storage3/w/richard/meta2015/placeForRNASeq/Trias1/star/star_introns_GT_AG_10.gff',\n",
       "  '6569 5124 1445 78.00 /storage3/w/richard/meta2015/placeForRNASeq/Trias1/star/annotation.introns.gff'],\n",
       " ['Veren1',\n",
       "  '1846 1 1845 0.05 /storage3/w/richard/meta2015/placeForRNASeq/Veren1/star/star_introns_GT_AG_10.gff',\n",
       "  '25242 1 25241 0.00 /storage3/w/richard/meta2015/placeForRNASeq/Veren1/star/annotation.introns.gff'],\n",
       " ['Aspoch1',\n",
       "  '22375 14680 7695 65.61 /storage3/w/richard/meta2015/placeForRNASeq/Aspoch1/star/star_introns_GT_AG_10.gff',\n",
       "  '19845 14680 5165 73.97 /storage3/w/richard/meta2015/placeForRNASeq/Aspoch1/star/annotation.introns.gff'],\n",
       " ['Cenge3',\n",
       "  '32091 20822 11269 64.88 /storage3/w/richard/meta2015/placeForRNASeq/Cenge3/star/star_introns_GT_AG_10.gff',\n",
       "  '28373 20822 7551 73.39 /storage3/w/richard/meta2015/placeForRNASeq/Cenge3/star/annotation.introns.gff'],\n",
       " ['Conco1',\n",
       "  '17943 14036 3907 78.23 /storage3/w/richard/meta2015/placeForRNASeq/Conco1/star/star_introns_GT_AG_10.gff',\n",
       "  '18881 14036 4845 74.34 /storage3/w/richard/meta2015/placeForRNASeq/Conco1/star/annotation.introns.gff'],\n",
       " ['Conli1',\n",
       "  '17179 12156 5023 70.76 /storage3/w/richard/meta2015/placeForRNASeq/Conli1/star/star_introns_GT_AG_10.gff',\n",
       "  '24418 12156 12262 49.78 /storage3/w/richard/meta2015/placeForRNASeq/Conli1/star/annotation.introns.gff'],\n",
       " ['Croqu1',\n",
       "  '39748 16163 23585 40.66 /storage3/w/richard/meta2015/placeForRNASeq/Croqu1/star/star_introns_GT_AG_10.gff',\n",
       "  '24342 16163 8179 66.40 /storage3/w/richard/meta2015/placeForRNASeq/Croqu1/star/annotation.introns.gff'],\n",
       " ['Disac1',\n",
       "  '13379 9088 4291 67.93 /storage3/w/richard/meta2015/placeForRNASeq/Disac1/star/star_introns_GT_AG_10.gff',\n",
       "  '12003 9088 2915 75.71 /storage3/w/richard/meta2015/placeForRNASeq/Disac1/star/annotation.introns.gff'],\n",
       " ['Gloin1',\n",
       "  '82147 594 81553 0.72 /storage3/w/richard/meta2015/placeForRNASeq/Gloin1/star/star_introns_GT_AG_10.gff',\n",
       "  '986 594 392 60.24 /storage3/w/richard/meta2015/placeForRNASeq/Gloin1/star/annotation.introns.gff'],\n",
       " ['Hebcy2',\n",
       "  '55835 46385 9450 83.08 /storage3/w/richard/meta2015/placeForRNASeq/Hebcy2/star/star_introns_GT_AG_10.gff',\n",
       "  '65105 46385 18720 71.25 /storage3/w/richard/meta2015/placeForRNASeq/Hebcy2/star/annotation.introns.gff'],\n",
       " ['HypEC38_1',\n",
       "  '1 0 1 0.00 /storage3/w/richard/meta2015/placeForRNASeq/HypEC38_1/star/star_introns_GT_AG_10.gff',\n",
       "  '22740 0 22740 0.00 /storage3/w/richard/meta2015/placeForRNASeq/HypEC38_1/star/annotation.introns.gff'],\n",
       " ['Neopa1',\n",
       "  '27 0 27 0.00 /storage3/w/richard/meta2015/placeForRNASeq/Neopa1/star/star_introns_GT_AG_10.gff',\n",
       "  '22392 0 22392 0.00 /storage3/w/richard/meta2015/placeForRNASeq/Neopa1/star/annotation.introns.gff'],\n",
       " ['Obbri1',\n",
       "  '75017 54608 20409 72.79 /storage3/w/richard/meta2015/placeForRNASeq/Obbri1/star/star_introns_GT_AG_10.gff',\n",
       "  '66273 54608 11665 82.40 /storage3/w/richard/meta2015/placeForRNASeq/Obbri1/star/annotation.introns.gff'],\n",
       " ['Ophdi1',\n",
       "  '22312 16811 5501 75.35 /storage3/w/richard/meta2015/placeForRNASeq/Ophdi1/star/star_introns_GT_AG_10.gff',\n",
       "  '25526 16811 8715 65.86 /storage3/w/richard/meta2015/placeForRNASeq/Ophdi1/star/annotation.introns.gff'],\n",
       " ['Phchr2',\n",
       "  '78597 51642 26955 65.70 /storage3/w/richard/meta2015/placeForRNASeq/Phchr2/star/star_introns_GT_AG_10.gff',\n",
       "  '59898 51642 8256 86.22 /storage3/w/richard/meta2015/placeForRNASeq/Phchr2/star/annotation.introns.gff'],\n",
       " ['Pneji1',\n",
       "  '4078 2866 1212 70.28 /storage3/w/richard/meta2015/placeForRNASeq/Pneji1/star/star_introns_GT_AG_10.gff',\n",
       "  '16671 2866 13805 17.19 /storage3/w/richard/meta2015/placeForRNASeq/Pneji1/star/annotation.introns.gff'],\n",
       " ['SerlaS7_9_2',\n",
       "  '71106 47350 23756 66.59 /storage3/w/richard/meta2015/placeForRNASeq/SerlaS7_9_2/star/star_introns_GT_AG_10.gff',\n",
       "  '60425 47350 13075 78.36 /storage3/w/richard/meta2015/placeForRNASeq/SerlaS7_9_2/star/annotation.introns.gff'],\n",
       " ['Sphst1',\n",
       "  '524 473 51 90.27 /storage3/w/richard/meta2015/placeForRNASeq/Sphst1/star/star_introns_GT_AG_10.gff',\n",
       "  '129250 473 128777 0.37 /storage3/w/richard/meta2015/placeForRNASeq/Sphst1/star/annotation.introns.gff'],\n",
       " ['Spofi1',\n",
       "  '8 0 8 0.00 /storage3/w/richard/meta2015/placeForRNASeq/Spofi1/star/star_introns_GT_AG_10.gff',\n",
       "  '18300 0 18300 0.00 /storage3/w/richard/meta2015/placeForRNASeq/Spofi1/star/annotation.introns.gff'],\n",
       " ['Tilan2'],\n",
       " ['Trias1',\n",
       "  '19822 5124 14698 25.85 /storage3/w/richard/meta2015/placeForRNASeq/Trias1/star/star_introns_GT_AG_10.gff',\n",
       "  '6569 5124 1445 78.00 /storage3/w/richard/meta2015/placeForRNASeq/Trias1/star/annotation.introns.gff'],\n",
       " ['Veren1',\n",
       "  '1846 1 1845 0.05 /storage3/w/richard/meta2015/placeForRNASeq/Veren1/star/star_introns_GT_AG_10.gff',\n",
       "  '25242 1 25241 0.00 /storage3/w/richard/meta2015/placeForRNASeq/Veren1/star/annotation.introns.gff'],\n",
       " ['Aspoch1',\n",
       "  '22375 14680 7695 65.61 /storage3/w/richard/meta2015/placeForRNASeq/Aspoch1/star/star_introns_GT_AG_10.gff',\n",
       "  '19845 14680 5165 73.97 /storage3/w/richard/meta2015/placeForRNASeq/Aspoch1/star/annotation.introns.gff'],\n",
       " ['Cenge3',\n",
       "  '32091 20822 11269 64.88 /storage3/w/richard/meta2015/placeForRNASeq/Cenge3/star/star_introns_GT_AG_10.gff',\n",
       "  '28373 20822 7551 73.39 /storage3/w/richard/meta2015/placeForRNASeq/Cenge3/star/annotation.introns.gff'],\n",
       " ['Conco1',\n",
       "  '17943 14036 3907 78.23 /storage3/w/richard/meta2015/placeForRNASeq/Conco1/star/star_introns_GT_AG_10.gff',\n",
       "  '18881 14036 4845 74.34 /storage3/w/richard/meta2015/placeForRNASeq/Conco1/star/annotation.introns.gff'],\n",
       " ['Conli1',\n",
       "  '17179 12156 5023 70.76 /storage3/w/richard/meta2015/placeForRNASeq/Conli1/star/star_introns_GT_AG_10.gff',\n",
       "  '24418 12156 12262 49.78 /storage3/w/richard/meta2015/placeForRNASeq/Conli1/star/annotation.introns.gff'],\n",
       " ['Croqu1',\n",
       "  '39748 16163 23585 40.66 /storage3/w/richard/meta2015/placeForRNASeq/Croqu1/star/star_introns_GT_AG_10.gff',\n",
       "  '24342 16163 8179 66.40 /storage3/w/richard/meta2015/placeForRNASeq/Croqu1/star/annotation.introns.gff'],\n",
       " ['Disac1',\n",
       "  '13379 9088 4291 67.93 /storage3/w/richard/meta2015/placeForRNASeq/Disac1/star/star_introns_GT_AG_10.gff',\n",
       "  '12003 9088 2915 75.71 /storage3/w/richard/meta2015/placeForRNASeq/Disac1/star/annotation.introns.gff'],\n",
       " ['Gloin1',\n",
       "  '82147 594 81553 0.72 /storage3/w/richard/meta2015/placeForRNASeq/Gloin1/star/star_introns_GT_AG_10.gff',\n",
       "  '986 594 392 60.24 /storage3/w/richard/meta2015/placeForRNASeq/Gloin1/star/annotation.introns.gff'],\n",
       " ['Hebcy2',\n",
       "  '55835 46385 9450 83.08 /storage3/w/richard/meta2015/placeForRNASeq/Hebcy2/star/star_introns_GT_AG_10.gff',\n",
       "  '65105 46385 18720 71.25 /storage3/w/richard/meta2015/placeForRNASeq/Hebcy2/star/annotation.introns.gff'],\n",
       " ['HypEC38_1',\n",
       "  '1 0 1 0.00 /storage3/w/richard/meta2015/placeForRNASeq/HypEC38_1/star/star_introns_GT_AG_10.gff',\n",
       "  '22740 0 22740 0.00 /storage3/w/richard/meta2015/placeForRNASeq/HypEC38_1/star/annotation.introns.gff'],\n",
       " ['Neopa1',\n",
       "  '27 0 27 0.00 /storage3/w/richard/meta2015/placeForRNASeq/Neopa1/star/star_introns_GT_AG_10.gff',\n",
       "  '22392 0 22392 0.00 /storage3/w/richard/meta2015/placeForRNASeq/Neopa1/star/annotation.introns.gff'],\n",
       " ['Obbri1',\n",
       "  '75017 54608 20409 72.79 /storage3/w/richard/meta2015/placeForRNASeq/Obbri1/star/star_introns_GT_AG_10.gff',\n",
       "  '66273 54608 11665 82.40 /storage3/w/richard/meta2015/placeForRNASeq/Obbri1/star/annotation.introns.gff'],\n",
       " ['Ophdi1',\n",
       "  '22312 16811 5501 75.35 /storage3/w/richard/meta2015/placeForRNASeq/Ophdi1/star/star_introns_GT_AG_10.gff',\n",
       "  '25526 16811 8715 65.86 /storage3/w/richard/meta2015/placeForRNASeq/Ophdi1/star/annotation.introns.gff'],\n",
       " ['Phchr2',\n",
       "  '78597 51642 26955 65.70 /storage3/w/richard/meta2015/placeForRNASeq/Phchr2/star/star_introns_GT_AG_10.gff',\n",
       "  '59898 51642 8256 86.22 /storage3/w/richard/meta2015/placeForRNASeq/Phchr2/star/annotation.introns.gff'],\n",
       " ['Pneji1',\n",
       "  '4078 2866 1212 70.28 /storage3/w/richard/meta2015/placeForRNASeq/Pneji1/star/star_introns_GT_AG_10.gff',\n",
       "  '16671 2866 13805 17.19 /storage3/w/richard/meta2015/placeForRNASeq/Pneji1/star/annotation.introns.gff'],\n",
       " ['SerlaS7_9_2',\n",
       "  '71106 47350 23756 66.59 /storage3/w/richard/meta2015/placeForRNASeq/SerlaS7_9_2/star/star_introns_GT_AG_10.gff',\n",
       "  '60425 47350 13075 78.36 /storage3/w/richard/meta2015/placeForRNASeq/SerlaS7_9_2/star/annotation.introns.gff'],\n",
       " ['Sphst1',\n",
       "  '524 473 51 90.27 /storage3/w/richard/meta2015/placeForRNASeq/Sphst1/star/star_introns_GT_AG_10.gff',\n",
       "  '129250 473 128777 0.37 /storage3/w/richard/meta2015/placeForRNASeq/Sphst1/star/annotation.introns.gff'],\n",
       " ['Spofi1',\n",
       "  '8 0 8 0.00 /storage3/w/richard/meta2015/placeForRNASeq/Spofi1/star/star_introns_GT_AG_10.gff',\n",
       "  '18300 0 18300 0.00 /storage3/w/richard/meta2015/placeForRNASeq/Spofi1/star/annotation.introns.gff'],\n",
       " ['Tilan2'],\n",
       " ['Trias1',\n",
       "  '19822 5124 14698 25.85 /storage3/w/richard/meta2015/placeForRNASeq/Trias1/star/star_introns_GT_AG_10.gff',\n",
       "  '6569 5124 1445 78.00 /storage3/w/richard/meta2015/placeForRNASeq/Trias1/star/annotation.introns.gff'],\n",
       " ['Veren1',\n",
       "  '1846 1 1845 0.05 /storage3/w/richard/meta2015/placeForRNASeq/Veren1/star/star_introns_GT_AG_10.gff',\n",
       "  '25242 1 25241 0.00 /storage3/w/richard/meta2015/placeForRNASeq/Veren1/star/annotation.introns.gff'],\n",
       " ['Aspoch1',\n",
       "  '22375 14680 7695 65.61 /storage3/w/richard/meta2015/placeForRNASeq/Aspoch1/star/star_introns_GT_AG_10.gff',\n",
       "  '19845 14680 5165 73.97 /storage3/w/richard/meta2015/placeForRNASeq/Aspoch1/star/annotation.introns.gff'],\n",
       " ['Cenge3',\n",
       "  '32091 20822 11269 64.88 /storage3/w/richard/meta2015/placeForRNASeq/Cenge3/star/star_introns_GT_AG_10.gff',\n",
       "  '28373 20822 7551 73.39 /storage3/w/richard/meta2015/placeForRNASeq/Cenge3/star/annotation.introns.gff'],\n",
       " ['Conco1',\n",
       "  '17943 14036 3907 78.23 /storage3/w/richard/meta2015/placeForRNASeq/Conco1/star/star_introns_GT_AG_10.gff',\n",
       "  '18881 14036 4845 74.34 /storage3/w/richard/meta2015/placeForRNASeq/Conco1/star/annotation.introns.gff'],\n",
       " ['Conli1',\n",
       "  '17179 12156 5023 70.76 /storage3/w/richard/meta2015/placeForRNASeq/Conli1/star/star_introns_GT_AG_10.gff',\n",
       "  '24418 12156 12262 49.78 /storage3/w/richard/meta2015/placeForRNASeq/Conli1/star/annotation.introns.gff'],\n",
       " ['Croqu1',\n",
       "  '39748 16163 23585 40.66 /storage3/w/richard/meta2015/placeForRNASeq/Croqu1/star/star_introns_GT_AG_10.gff',\n",
       "  '24342 16163 8179 66.40 /storage3/w/richard/meta2015/placeForRNASeq/Croqu1/star/annotation.introns.gff'],\n",
       " ['Disac1',\n",
       "  '13379 9088 4291 67.93 /storage3/w/richard/meta2015/placeForRNASeq/Disac1/star/star_introns_GT_AG_10.gff',\n",
       "  '12003 9088 2915 75.71 /storage3/w/richard/meta2015/placeForRNASeq/Disac1/star/annotation.introns.gff'],\n",
       " ['Gloin1',\n",
       "  '82147 594 81553 0.72 /storage3/w/richard/meta2015/placeForRNASeq/Gloin1/star/star_introns_GT_AG_10.gff',\n",
       "  '986 594 392 60.24 /storage3/w/richard/meta2015/placeForRNASeq/Gloin1/star/annotation.introns.gff'],\n",
       " ['Hebcy2',\n",
       "  '55835 46385 9450 83.08 /storage3/w/richard/meta2015/placeForRNASeq/Hebcy2/star/star_introns_GT_AG_10.gff',\n",
       "  '65105 46385 18720 71.25 /storage3/w/richard/meta2015/placeForRNASeq/Hebcy2/star/annotation.introns.gff'],\n",
       " ['HypEC38_1',\n",
       "  '1 0 1 0.00 /storage3/w/richard/meta2015/placeForRNASeq/HypEC38_1/star/star_introns_GT_AG_10.gff',\n",
       "  '22740 0 22740 0.00 /storage3/w/richard/meta2015/placeForRNASeq/HypEC38_1/star/annotation.introns.gff'],\n",
       " ['Neopa1',\n",
       "  '27 0 27 0.00 /storage3/w/richard/meta2015/placeForRNASeq/Neopa1/star/star_introns_GT_AG_10.gff',\n",
       "  '22392 0 22392 0.00 /storage3/w/richard/meta2015/placeForRNASeq/Neopa1/star/annotation.introns.gff'],\n",
       " ['Obbri1',\n",
       "  '75017 54608 20409 72.79 /storage3/w/richard/meta2015/placeForRNASeq/Obbri1/star/star_introns_GT_AG_10.gff',\n",
       "  '66273 54608 11665 82.40 /storage3/w/richard/meta2015/placeForRNASeq/Obbri1/star/annotation.introns.gff'],\n",
       " ['Ophdi1',\n",
       "  '22312 16811 5501 75.35 /storage3/w/richard/meta2015/placeForRNASeq/Ophdi1/star/star_introns_GT_AG_10.gff',\n",
       "  '25526 16811 8715 65.86 /storage3/w/richard/meta2015/placeForRNASeq/Ophdi1/star/annotation.introns.gff'],\n",
       " ['Phchr2',\n",
       "  '78597 51642 26955 65.70 /storage3/w/richard/meta2015/placeForRNASeq/Phchr2/star/star_introns_GT_AG_10.gff',\n",
       "  '59898 51642 8256 86.22 /storage3/w/richard/meta2015/placeForRNASeq/Phchr2/star/annotation.introns.gff'],\n",
       " ['Pneji1',\n",
       "  '4078 2866 1212 70.28 /storage3/w/richard/meta2015/placeForRNASeq/Pneji1/star/star_introns_GT_AG_10.gff',\n",
       "  '16671 2866 13805 17.19 /storage3/w/richard/meta2015/placeForRNASeq/Pneji1/star/annotation.introns.gff'],\n",
       " ['SerlaS7_9_2',\n",
       "  '71106 47350 23756 66.59 /storage3/w/richard/meta2015/placeForRNASeq/SerlaS7_9_2/star/star_introns_GT_AG_10.gff',\n",
       "  '60425 47350 13075 78.36 /storage3/w/richard/meta2015/placeForRNASeq/SerlaS7_9_2/star/annotation.introns.gff'],\n",
       " ['Sphst1',\n",
       "  '524 473 51 90.27 /storage3/w/richard/meta2015/placeForRNASeq/Sphst1/star/star_introns_GT_AG_10.gff',\n",
       "  '129250 473 128777 0.37 /storage3/w/richard/meta2015/placeForRNASeq/Sphst1/star/annotation.introns.gff'],\n",
       " ['Spofi1',\n",
       "  '8 0 8 0.00 /storage3/w/richard/meta2015/placeForRNASeq/Spofi1/star/star_introns_GT_AG_10.gff',\n",
       "  '18300 0 18300 0.00 /storage3/w/richard/meta2015/placeForRNASeq/Spofi1/star/annotation.introns.gff'],\n",
       " ['Tilan2'],\n",
       " ['Trias1',\n",
       "  '19822 5124 14698 25.85 /storage3/w/richard/meta2015/placeForRNASeq/Trias1/star/star_introns_GT_AG_10.gff',\n",
       "  '6569 5124 1445 78.00 /storage3/w/richard/meta2015/placeForRNASeq/Trias1/star/annotation.introns.gff'],\n",
       " ['Veren1',\n",
       "  '1846 1 1845 0.05 /storage3/w/richard/meta2015/placeForRNASeq/Veren1/star/star_introns_GT_AG_10.gff',\n",
       "  '25242 1 25241 0.00 /storage3/w/richard/meta2015/placeForRNASeq/Veren1/star/annotation.introns.gff']]"
      ]
     },
     "execution_count": 186,
     "metadata": {},
     "output_type": "execute_result"
    }
   ],
   "source": [
    "result_score_10"
   ]
  },
  {
   "cell_type": "code",
   "execution_count": 101,
   "metadata": {
    "collapsed": true
   },
   "outputs": [],
   "source": [
    "rna_seq_intron_score10 = map(lambda x: x.split()[0],map(lambda x: x[1],result_score_10))\n",
    "rna_seq_intron_score10_unqiue = map(lambda x: x.split()[2],map(lambda x: x[1],result_score_10))"
   ]
  },
  {
   "cell_type": "code",
   "execution_count": 102,
   "metadata": {
    "collapsed": true
   },
   "outputs": [],
   "source": [
    "shared_intron_score10 = map(lambda x: x.split()[1], map(lambda x: x[1],result_score_10))"
   ]
  },
  {
   "cell_type": "code",
   "execution_count": 105,
   "metadata": {
    "collapsed": true
   },
   "outputs": [],
   "source": [
    "testGenomeRNASeq_ES['rna_seq_intron_score10'] = rna_seq_intron_score10\n",
    "testGenomeRNASeq_ES['rna_seq_intron_score10_unqiue'] = rna_seq_intron_score10_unqiue\n",
    "testGenomeRNASeq_ES['shared_intron_score10'] = shared_intron_score10"
   ]
  },
  {
   "cell_type": "code",
   "execution_count": 107,
   "metadata": {
    "collapsed": false
   },
   "outputs": [],
   "source": [
    "testGenomeRNASeq = pd.DataFrame({\"shortName\":shortName,\n",
    "                                   \"longName\":longName,\n",
    "                                   'gc':gc,\n",
    "                                   'genomesize_Mb':genomesize,\n",
    "                                   'rna_seq_intron':rna_seq_intron,\n",
    "                                   'rna_seq_intron_unique':rna_seq_intron_unique,\n",
    "                                   'ES_intron':ES_intron,\n",
    "                                   'ES_intron_unique':ES_intron_unique,\n",
    "                                   'shared_intron':shared_intron,\n",
    "                                   'rna_seq_intron_score10':rna_seq_intron_score10,\n",
    "                                   'rna_seq_intron_score10_unqiue':rna_seq_intron_score10_unqiue,\n",
    "                                   'shared_intron_score10':shared_intron_score10},\n",
    "                                   columns = [\"shortName\",\"longName\",'gc','genomesize_Mb','rna_seq_intron',\n",
    "                                              'rna_seq_intron_unique','ES_intron','ES_intron_unique','shared_intron',\n",
    "                                             'rna_seq_intron_score10','rna_seq_intron_score10_unqiue','shared_intron_score10'])"
   ]
  },
  {
   "cell_type": "code",
   "execution_count": 110,
   "metadata": {
    "collapsed": false
   },
   "outputs": [
    {
     "data": {
      "text/html": [
       "<div>\n",
       "<table border=\"1\" class=\"dataframe\">\n",
       "  <thead>\n",
       "    <tr style=\"text-align: right;\">\n",
       "      <th></th>\n",
       "      <th>shortName</th>\n",
       "      <th>longName</th>\n",
       "      <th>gc</th>\n",
       "      <th>genomesize_Mb</th>\n",
       "      <th>rna_seq_intron</th>\n",
       "      <th>rna_seq_intron_unique</th>\n",
       "      <th>ES_intron</th>\n",
       "      <th>ES_intron_unique</th>\n",
       "      <th>shared_intron</th>\n",
       "      <th>rna_seq_intron_score10</th>\n",
       "      <th>rna_seq_intron_score10_unqiue</th>\n",
       "      <th>shared_intron_score10</th>\n",
       "    </tr>\n",
       "    <tr>\n",
       "      <th>shortName</th>\n",
       "      <th></th>\n",
       "      <th></th>\n",
       "      <th></th>\n",
       "      <th></th>\n",
       "      <th></th>\n",
       "      <th></th>\n",
       "      <th></th>\n",
       "      <th></th>\n",
       "      <th></th>\n",
       "      <th></th>\n",
       "      <th></th>\n",
       "      <th></th>\n",
       "    </tr>\n",
       "  </thead>\n",
       "  <tbody>\n",
       "    <tr>\n",
       "      <th>Aspoch1</th>\n",
       "      <td>Aspoch1</td>\n",
       "      <td>Aspergillus ochraceoroseus IBT 24754 v1.0</td>\n",
       "      <td>44.2</td>\n",
       "      <td>26</td>\n",
       "      <td>52840</td>\n",
       "      <td>36554</td>\n",
       "      <td>19845</td>\n",
       "      <td>3559</td>\n",
       "      <td>16286</td>\n",
       "      <td>22375</td>\n",
       "      <td>7695</td>\n",
       "      <td>14680</td>\n",
       "    </tr>\n",
       "    <tr>\n",
       "      <th>Cenge3</th>\n",
       "      <td>Cenge3</td>\n",
       "      <td>Cenococcum geophilum 1.58 v2.0</td>\n",
       "      <td>37.5</td>\n",
       "      <td>171</td>\n",
       "      <td>80781</td>\n",
       "      <td>57630</td>\n",
       "      <td>28373</td>\n",
       "      <td>5222</td>\n",
       "      <td>23151</td>\n",
       "      <td>32091</td>\n",
       "      <td>11269</td>\n",
       "      <td>20822</td>\n",
       "    </tr>\n",
       "    <tr>\n",
       "      <th>Conco1</th>\n",
       "      <td>Conco1</td>\n",
       "      <td>Conidiobolus coronatus NRRL28638 v1.0</td>\n",
       "      <td>27.7</td>\n",
       "      <td>38</td>\n",
       "      <td>41143</td>\n",
       "      <td>26361</td>\n",
       "      <td>18881</td>\n",
       "      <td>4099</td>\n",
       "      <td>14782</td>\n",
       "      <td>17943</td>\n",
       "      <td>3907</td>\n",
       "      <td>14036</td>\n",
       "    </tr>\n",
       "    <tr>\n",
       "      <th>Conli1</th>\n",
       "      <td>Conli1</td>\n",
       "      <td>Coniochaeta ligniaria CBS 111746</td>\n",
       "      <td>51.9</td>\n",
       "      <td>42</td>\n",
       "      <td>41572</td>\n",
       "      <td>27217</td>\n",
       "      <td>24418</td>\n",
       "      <td>10063</td>\n",
       "      <td>14355</td>\n",
       "      <td>17179</td>\n",
       "      <td>5023</td>\n",
       "      <td>12156</td>\n",
       "    </tr>\n",
       "    <tr>\n",
       "      <th>Croqu1</th>\n",
       "      <td>Croqu1</td>\n",
       "      <td>Cronartium quercuum f. sp. fusiforme G11 v1.0</td>\n",
       "      <td>41.1</td>\n",
       "      <td>74</td>\n",
       "      <td>83592</td>\n",
       "      <td>64755</td>\n",
       "      <td>24342</td>\n",
       "      <td>5505</td>\n",
       "      <td>18837</td>\n",
       "      <td>39748</td>\n",
       "      <td>23585</td>\n",
       "      <td>16163</td>\n",
       "    </tr>\n",
       "  </tbody>\n",
       "</table>\n",
       "</div>"
      ],
      "text/plain": [
       "          shortName                                       longName    gc  \\\n",
       "shortName                                                                  \n",
       "Aspoch1     Aspoch1      Aspergillus ochraceoroseus IBT 24754 v1.0  44.2   \n",
       "Cenge3       Cenge3                 Cenococcum geophilum 1.58 v2.0  37.5   \n",
       "Conco1       Conco1          Conidiobolus coronatus NRRL28638 v1.0  27.7   \n",
       "Conli1       Conli1               Coniochaeta ligniaria CBS 111746  51.9   \n",
       "Croqu1       Croqu1  Cronartium quercuum f. sp. fusiforme G11 v1.0  41.1   \n",
       "\n",
       "           genomesize_Mb rna_seq_intron rna_seq_intron_unique ES_intron  \\\n",
       "shortName                                                                 \n",
       "Aspoch1               26          52840                 36554     19845   \n",
       "Cenge3               171          80781                 57630     28373   \n",
       "Conco1                38          41143                 26361     18881   \n",
       "Conli1                42          41572                 27217     24418   \n",
       "Croqu1                74          83592                 64755     24342   \n",
       "\n",
       "          ES_intron_unique shared_intron rna_seq_intron_score10  \\\n",
       "shortName                                                         \n",
       "Aspoch1               3559         16286                  22375   \n",
       "Cenge3                5222         23151                  32091   \n",
       "Conco1                4099         14782                  17943   \n",
       "Conli1               10063         14355                  17179   \n",
       "Croqu1                5505         18837                  39748   \n",
       "\n",
       "          rna_seq_intron_score10_unqiue shared_intron_score10  \n",
       "shortName                                                      \n",
       "Aspoch1                            7695                 14680  \n",
       "Cenge3                            11269                 20822  \n",
       "Conco1                             3907                 14036  \n",
       "Conli1                             5023                 12156  \n",
       "Croqu1                            23585                 16163  "
      ]
     },
     "execution_count": 110,
     "metadata": {},
     "output_type": "execute_result"
    }
   ],
   "source": [
    "testGenomeRNASeq.head()"
   ]
  },
  {
   "cell_type": "code",
   "execution_count": 122,
   "metadata": {
    "collapsed": true
   },
   "outputs": [],
   "source": [
    "################# ########################\n",
    "##########################################\n",
    "########## Deal with annotation ##########\n",
    "source = '/storage3/w/richard/meta2015/finalTestSet20151002/gff3/'\n",
    "targetGff3 = '/storage3/w/richard/meta2015/finalTestSet20151002/gff3_intron_added/'\n",
    "targetIntron = '/storage3/w/richard/meta2015/finalTestSet20151002/intron_from_gff3/'"
   ]
  },
  {
   "cell_type": "code",
   "execution_count": 125,
   "metadata": {
    "collapsed": false
   },
   "outputs": [],
   "source": [
    "## add intron to gff3 files\n",
    "base_command = '/home/tool/gt/bin/gt gff3 -force -addintrons -o'\n",
    "script = ''\n",
    "\n",
    "for name in shortName:\n",
    "    script += '{}  {}{}.withIntron.gff3 {}{}*.gff3\\n'.format(base_command,targetGff3,name,source,name)"
   ]
  },
  {
   "cell_type": "code",
   "execution_count": 128,
   "metadata": {
    "collapsed": false
   },
   "outputs": [
    {
     "data": {
      "text/plain": [
       "0"
      ]
     },
     "execution_count": 128,
     "metadata": {},
     "output_type": "execute_result"
    }
   ],
   "source": [
    "subprocess.check_call(script,shell = True)"
   ]
  },
  {
   "cell_type": "code",
   "execution_count": 138,
   "metadata": {
    "collapsed": true
   },
   "outputs": [],
   "source": [
    "## extract intron from annotation gff3 files\n",
    "script = ''\n",
    "for name in shortName:\n",
    "    script += \"grep -P \\'\\\\tintron\\\\t\\' {}{}.withIntron.gff3 > {}{}.introns.gff\\n\".format(targetGff3,name,targetIntron,name)"
   ]
  },
  {
   "cell_type": "code",
   "execution_count": 141,
   "metadata": {
    "collapsed": false
   },
   "outputs": [
    {
     "data": {
      "text/plain": [
       "0"
      ]
     },
     "execution_count": 141,
     "metadata": {},
     "output_type": "execute_result"
    }
   ],
   "source": [
    "subprocess.check_call(script,shell = True)"
   ]
  },
  {
   "cell_type": "code",
   "execution_count": 142,
   "metadata": {
    "collapsed": true
   },
   "outputs": [],
   "source": [
    "## copy annotation intron to their respective folder under placeForRNA"
   ]
  },
  {
   "cell_type": "code",
   "execution_count": 148,
   "metadata": {
    "collapsed": false
   },
   "outputs": [],
   "source": [
    "target = '/storage3/w/richard/meta2015/placeForRNASeq/'\n",
    "script = ''\n",
    "for name in shortName:\n",
    "    script += 'cp {}{}.introns.gff {}{}/star/annotation.introns.gff\\n'.format(targetIntron, name, target, name)"
   ]
  },
  {
   "cell_type": "code",
   "execution_count": 150,
   "metadata": {
    "collapsed": false
   },
   "outputs": [
    {
     "data": {
      "text/plain": [
       "0"
      ]
     },
     "execution_count": 150,
     "metadata": {},
     "output_type": "execute_result"
    }
   ],
   "source": [
    "subprocess.check_call(script,shell = True)"
   ]
  },
  {
   "cell_type": "code",
   "execution_count": 151,
   "metadata": {
    "collapsed": true
   },
   "outputs": [],
   "source": [
    "####  perform tests on rna-seq intron with annotation  ####\n",
    "base_command = 'perl /home/alexl/DISTR/src/pl/compare_cds_exact.pl -f1'\n",
    "source = '/storage3/w/richard/meta2015/placeForRNASeq/'\n",
    "target = '/home/richard/research/5_Tests/Oct15intronCompare/intron_annotation_score10_compare/'\n",
    "script = ''\n",
    "for name in shortName:\n",
    "    command = \"{} {}{}/star/star_introns_GT_AG_10.gff -f2 {}{}/star/annotation.introns.gff -v -intron >{}{}.annotation.score10.txt\\n\".format(base_command, source,name,source, name,target,name)\n",
    "    script+=command\n",
    "    \n",
    "with open(target+'get_intron_overlap_annotation_score_10.sh','w') as f: f.write(script)"
   ]
  },
  {
   "cell_type": "code",
   "execution_count": 171,
   "metadata": {
    "collapsed": false
   },
   "outputs": [],
   "source": [
    "source = \"/home/richard/research/5_Tests/Oct15intronCompare/intron_annotation_score10_compare/\"\n",
    "filenames = filter(lambda x: 'score10' in x, os.listdir(source))\n",
    "\n",
    "result_annotation_score_10 = []\n",
    "for name in shortName:\n",
    "    res = [name]\n",
    "    with open(source+name+'.annotation.score10.txt') as f:\n",
    "        for line in f: res.append(line.rstrip())\n",
    "    result_annotation_score_10.append(res)\n",
    "\n",
    "result_annotation_score_10 = map(get_score10,result_annotation_score_10)"
   ]
  },
  {
   "cell_type": "code",
   "execution_count": 185,
   "metadata": {
    "collapsed": false
   },
   "outputs": [
    {
     "data": {
      "text/plain": [
       "[['Aspoch1',\n",
       "  '22375 14680 7695 65.61 /storage3/w/richard/meta2015/placeForRNASeq/Aspoch1/star/star_introns_GT_AG_10.gff',\n",
       "  '19845 14680 5165 73.97 /storage3/w/richard/meta2015/placeForRNASeq/Aspoch1/star/annotation.introns.gff'],\n",
       " ['Cenge3',\n",
       "  '32091 20822 11269 64.88 /storage3/w/richard/meta2015/placeForRNASeq/Cenge3/star/star_introns_GT_AG_10.gff',\n",
       "  '28373 20822 7551 73.39 /storage3/w/richard/meta2015/placeForRNASeq/Cenge3/star/annotation.introns.gff'],\n",
       " ['Conco1',\n",
       "  '17943 14036 3907 78.23 /storage3/w/richard/meta2015/placeForRNASeq/Conco1/star/star_introns_GT_AG_10.gff',\n",
       "  '18881 14036 4845 74.34 /storage3/w/richard/meta2015/placeForRNASeq/Conco1/star/annotation.introns.gff'],\n",
       " ['Conli1',\n",
       "  '17179 12156 5023 70.76 /storage3/w/richard/meta2015/placeForRNASeq/Conli1/star/star_introns_GT_AG_10.gff',\n",
       "  '24418 12156 12262 49.78 /storage3/w/richard/meta2015/placeForRNASeq/Conli1/star/annotation.introns.gff'],\n",
       " ['Croqu1',\n",
       "  '39748 16163 23585 40.66 /storage3/w/richard/meta2015/placeForRNASeq/Croqu1/star/star_introns_GT_AG_10.gff',\n",
       "  '24342 16163 8179 66.40 /storage3/w/richard/meta2015/placeForRNASeq/Croqu1/star/annotation.introns.gff'],\n",
       " ['Disac1',\n",
       "  '13379 9088 4291 67.93 /storage3/w/richard/meta2015/placeForRNASeq/Disac1/star/star_introns_GT_AG_10.gff',\n",
       "  '12003 9088 2915 75.71 /storage3/w/richard/meta2015/placeForRNASeq/Disac1/star/annotation.introns.gff'],\n",
       " ['Gloin1',\n",
       "  '82147 594 81553 0.72 /storage3/w/richard/meta2015/placeForRNASeq/Gloin1/star/star_introns_GT_AG_10.gff',\n",
       "  '986 594 392 60.24 /storage3/w/richard/meta2015/placeForRNASeq/Gloin1/star/annotation.introns.gff'],\n",
       " ['Hebcy2',\n",
       "  '55835 46385 9450 83.08 /storage3/w/richard/meta2015/placeForRNASeq/Hebcy2/star/star_introns_GT_AG_10.gff',\n",
       "  '65105 46385 18720 71.25 /storage3/w/richard/meta2015/placeForRNASeq/Hebcy2/star/annotation.introns.gff'],\n",
       " ['HypEC38_1',\n",
       "  '1 0 1 0.00 /storage3/w/richard/meta2015/placeForRNASeq/HypEC38_1/star/star_introns_GT_AG_10.gff',\n",
       "  '22740 0 22740 0.00 /storage3/w/richard/meta2015/placeForRNASeq/HypEC38_1/star/annotation.introns.gff'],\n",
       " ['Neopa1',\n",
       "  '27 0 27 0.00 /storage3/w/richard/meta2015/placeForRNASeq/Neopa1/star/star_introns_GT_AG_10.gff',\n",
       "  '22392 0 22392 0.00 /storage3/w/richard/meta2015/placeForRNASeq/Neopa1/star/annotation.introns.gff'],\n",
       " ['Obbri1',\n",
       "  '75017 54608 20409 72.79 /storage3/w/richard/meta2015/placeForRNASeq/Obbri1/star/star_introns_GT_AG_10.gff',\n",
       "  '66273 54608 11665 82.40 /storage3/w/richard/meta2015/placeForRNASeq/Obbri1/star/annotation.introns.gff'],\n",
       " ['Ophdi1',\n",
       "  '22312 16811 5501 75.35 /storage3/w/richard/meta2015/placeForRNASeq/Ophdi1/star/star_introns_GT_AG_10.gff',\n",
       "  '25526 16811 8715 65.86 /storage3/w/richard/meta2015/placeForRNASeq/Ophdi1/star/annotation.introns.gff'],\n",
       " ['Phchr2',\n",
       "  '78597 51642 26955 65.70 /storage3/w/richard/meta2015/placeForRNASeq/Phchr2/star/star_introns_GT_AG_10.gff',\n",
       "  '59898 51642 8256 86.22 /storage3/w/richard/meta2015/placeForRNASeq/Phchr2/star/annotation.introns.gff'],\n",
       " ['Pneji1',\n",
       "  '4078 2866 1212 70.28 /storage3/w/richard/meta2015/placeForRNASeq/Pneji1/star/star_introns_GT_AG_10.gff',\n",
       "  '16671 2866 13805 17.19 /storage3/w/richard/meta2015/placeForRNASeq/Pneji1/star/annotation.introns.gff'],\n",
       " ['SerlaS7_9_2',\n",
       "  '71106 47350 23756 66.59 /storage3/w/richard/meta2015/placeForRNASeq/SerlaS7_9_2/star/star_introns_GT_AG_10.gff',\n",
       "  '60425 47350 13075 78.36 /storage3/w/richard/meta2015/placeForRNASeq/SerlaS7_9_2/star/annotation.introns.gff'],\n",
       " ['Sphst1',\n",
       "  '524 473 51 90.27 /storage3/w/richard/meta2015/placeForRNASeq/Sphst1/star/star_introns_GT_AG_10.gff',\n",
       "  '129250 473 128777 0.37 /storage3/w/richard/meta2015/placeForRNASeq/Sphst1/star/annotation.introns.gff'],\n",
       " ['Spofi1',\n",
       "  '8 0 8 0.00 /storage3/w/richard/meta2015/placeForRNASeq/Spofi1/star/star_introns_GT_AG_10.gff',\n",
       "  '18300 0 18300 0.00 /storage3/w/richard/meta2015/placeForRNASeq/Spofi1/star/annotation.introns.gff'],\n",
       " ['Tilan2', '0 0 0 0', '0 0 0 0'],\n",
       " ['Trias1',\n",
       "  '19822 5124 14698 25.85 /storage3/w/richard/meta2015/placeForRNASeq/Trias1/star/star_introns_GT_AG_10.gff',\n",
       "  '6569 5124 1445 78.00 /storage3/w/richard/meta2015/placeForRNASeq/Trias1/star/annotation.introns.gff'],\n",
       " ['Veren1',\n",
       "  '1846 1 1845 0.05 /storage3/w/richard/meta2015/placeForRNASeq/Veren1/star/star_introns_GT_AG_10.gff',\n",
       "  '25242 1 25241 0.00 /storage3/w/richard/meta2015/placeForRNASeq/Veren1/star/annotation.introns.gff']]"
      ]
     },
     "execution_count": 185,
     "metadata": {},
     "output_type": "execute_result"
    }
   ],
   "source": [
    "result_annotation_score_10"
   ]
  },
  {
   "cell_type": "code",
   "execution_count": 179,
   "metadata": {
    "collapsed": true
   },
   "outputs": [],
   "source": [
    "rna_seq_annotation_intron_score10 = map(lambda x: x.split()[0],map(lambda x: x[1],result_annotation_score_10))\n",
    "rna_seq_annotation_intron_score10_unique = map(lambda x: x.split()[2],map(lambda x: x[1],result_annotation_score_10))"
   ]
  },
  {
   "cell_type": "code",
   "execution_count": 174,
   "metadata": {
    "collapsed": false
   },
   "outputs": [],
   "source": [
    "shared_annotation_intron_score10 = map(lambda x: x.split()[1], map(lambda x: x[1],result_annotation_score_10))"
   ]
  },
  {
   "cell_type": "code",
   "execution_count": 182,
   "metadata": {
    "collapsed": false
   },
   "outputs": [],
   "source": [
    "testGenomeRNASeq = pd.DataFrame({\"shortName\":shortName,\n",
    "                                   \"longName\":longName,\n",
    "                                   'gc':gc,\n",
    "                                   'genomesize_Mb':genomesize,\n",
    "                                   'rna_seq_intron':rna_seq_intron,\n",
    "                                   'rna_seq_intron_unique':rna_seq_intron_unique,\n",
    "                                   'ES_intron':ES_intron,\n",
    "                                   'ES_intron_unique':ES_intron_unique,\n",
    "                                   'shared_intron':shared_intron,\n",
    "                                   'rna_seq_intron_score10':rna_seq_intron_score10,\n",
    "                                   'rna_seq_intron_score10_unqiue':rna_seq_intron_score10_unqiue,\n",
    "                                   'shared_intron_score10':shared_intron_score10,\n",
    "                                    'rna_seq_annotation_intron_score10':rna_seq_annotation_intron_score10,\n",
    "                                    'rna_seq_annotation_intron_score10_unique':rna_seq_annotation_intron_score10_unique,\n",
    "                                    'shared_annotation_intron_score10':shared_annotation_intron_score10},\n",
    "                                   columns = [\"shortName\",\"longName\",'gc','genomesize_Mb','rna_seq_intron',\n",
    "                                              'rna_seq_intron_unique','ES_intron','ES_intron_unique','shared_intron',\n",
    "                                             'rna_seq_intron_score10','rna_seq_intron_score10_unqiue','shared_intron_score10',\n",
    "                                             'rna_seq_annotation_intron_score10',\n",
    "                                             'rna_seq_annotation_intron_score10_unique',\n",
    "                                             'shared_annotation_intron_score10'])"
   ]
  },
  {
   "cell_type": "code",
   "execution_count": 184,
   "metadata": {
    "collapsed": false
   },
   "outputs": [],
   "source": [
    "testGenomeRNASeq.to_csv(\"../5_Tests/Oct15intronCompare/intronCompareInfo.csv\")"
   ]
  },
  {
   "cell_type": "code",
   "execution_count": 206,
   "metadata": {
    "collapsed": false
   },
   "outputs": [],
   "source": [
    "## I realize that the ES prediction was actually annotation\n",
    "## right now I should cp all the genemark.gtf to folder \n",
    "target = '/storage3/w/richard/meta2015/genemark_prediction/'\n",
    "script = ''\n",
    "for i in range(1,10):\n",
    "    node = 'node00{}'.format(i)\n",
    "    filenames = subprocess.Popen('ssh {} ls /scratch/fungi/ES_Run_Aug2015/'.format(node),stdout=subprocess.PIPE,shell = True).communicate()[0].split()\n",
    "    for filename in filenames:\n",
    "        command = 'ssh {} cp /scratch/fungi/ES_Run_Aug2015/{}/genemark.gtf {}filename.genemark.gtf\\n'.format(node,filename,target)\n",
    "        script+=command"
   ]
  },
  {
   "cell_type": "code",
   "execution_count": 209,
   "metadata": {
    "collapsed": false
   },
   "outputs": [],
   "source": [
    "with open('/home/richard/tempFile/cpGenemark.sh','w') as f: f.write(script)"
   ]
  },
  {
   "cell_type": "code",
   "execution_count": null,
   "metadata": {
    "collapsed": true
   },
   "outputs": [],
   "source": []
  }
 ],
 "metadata": {
  "kernelspec": {
   "display_name": "Python 2",
   "language": "python",
   "name": "python2"
  },
  "language_info": {
   "codemirror_mode": {
    "name": "ipython",
    "version": 2
   },
   "file_extension": ".py",
   "mimetype": "text/x-python",
   "name": "python",
   "nbconvert_exporter": "python",
   "pygments_lexer": "ipython2",
   "version": "2.7.10"
  }
 },
 "nbformat": 4,
 "nbformat_minor": 0
}
