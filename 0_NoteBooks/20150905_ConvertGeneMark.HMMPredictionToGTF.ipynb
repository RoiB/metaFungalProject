{
 "cells": [
  {
   "cell_type": "code",
   "execution_count": 5,
   "metadata": {
    "collapsed": false
   },
   "outputs": [],
   "source": [
    "'''The file convert GeneMark.HMM output stye'''\n",
    "seqname = \"chromosome_1\"\n",
    "source = \"GeneMark\"\n",
    "score ='.'"
   ]
  },
  {
   "cell_type": "code",
   "execution_count": 6,
   "metadata": {
    "collapsed": false
   },
   "outputs": [],
   "source": [
    "def get_pos(pos, shift): return str(int(pos)+shift)\n",
    "\n",
    "def change_plus_single(temp,result, strand):\n",
    "\n",
    "    number = temp[0]\n",
    "    start = temp[4]; \n",
    "    stop = temp[5]\n",
    "#     frame = str(int(temp[7])-1)\n",
    "    frame = '.'\n",
    "    \n",
    "    part2 = 'gene_id \"{}\"; transcript_id \"{}\";'.format(\"x\"+number,\"x\"+number+\".a\")\n",
    "    \n",
    "    ## add start\n",
    "    start1 = \"\\t\".join([seqname, source, \"start_codon\", start, get_pos(start, 2), \".\", strand, frame])\n",
    "    result += start1+\"\\t\"+part2+\"\\n\"\n",
    "    ## add CDS region\n",
    "    part1 = \"\\t\".join([seqname, source, \"CDS\", start, get_pos(stop,-3), \".\", strand, frame])\n",
    "    result+= part1+\"\\t\"+part2+\"\\n\"\n",
    "    ## add stop region\n",
    "    stop1 = \"\\t\".join([seqname, source, \"stop_codon\", get_pos(stop,-2), stop, \".\", strand, frame])\n",
    "    result+= stop1+\"\\t\"+part2+\"\\n\"\n",
    "#     print result\n",
    "    return result\n",
    "\n",
    "def change_minus_single(temp,result, strand):\n",
    "\n",
    "    number = temp[0]\n",
    "    stop = temp[4]; \n",
    "    start = temp[5]\n",
    "    #     frame = str(int(temp[7])-1)\n",
    "    frame = '.'\n",
    "    \n",
    "    part2 = 'gene_id \"{}\"; transcript_id \"{}\";'.format(\"x\"+number,\"x\"+number+\".a\")\n",
    "    \n",
    "    ## add start\n",
    "    start1 = \"\\t\".join([seqname, source, \"start_codon\", get_pos(start, -2), start, \".\", strand, frame])\n",
    "    result += start1+\"\\t\"+part2+\"\\n\"\n",
    "    ## add CDS region\n",
    "    part1 = \"\\t\".join([seqname, source, \"CDS\", get_pos(stop,3), start, \".\", strand, frame])\n",
    "    result+= part1+\"\\t\"+part2+\"\\n\"\n",
    "    ## add stop region\n",
    "    stop1 = \"\\t\".join([seqname, source, \"stop_codon\", stop,get_pos(stop,+2),  \".\", strand, frame])\n",
    "    result+= stop1+\"\\t\"+part2+\"\\n\"\n",
    "#     print result\n",
    "    return result\n",
    "\n",
    "def change_plus_terminal(temp,result, strand):\n",
    "    number = temp[0]\n",
    "    start = temp[4]; \n",
    "    stop = temp[5]\n",
    "    #     frame = str(int(temp[7])-1)\n",
    "    frame = '.'\n",
    "    \n",
    "    part2 = 'gene_id \"{}\"; transcript_id \"{}\";'.format(\"x\"+number,\"x\"+number+\".a\")\n",
    "    \n",
    "    ## add CDS region\n",
    "    part1 = \"\\t\".join([seqname, source, \"CDS\", start, get_pos(stop,-3), \".\", strand, frame])\n",
    "    result+= part1+\"\\t\"+part2+\"\\n\"\n",
    "    ## add stop region\n",
    "    stop1 = \"\\t\".join([seqname, source, \"stop_codon\", get_pos(stop,-2), stop, \".\", strand, frame])\n",
    "    result+= stop1+\"\\t\"+part2+\"\\n\"\n",
    "    return result\n",
    "\n",
    "def change_minus_terminal(temp,result, strand):\n",
    "    number = temp[0]\n",
    "    stop = temp[4]; \n",
    "    start = temp[5]\n",
    "    #     frame = str(int(temp[7])-1)\n",
    "    frame = '.'\n",
    "    \n",
    "    part2 = 'gene_id \"{}\"; transcript_id \"{}\";'.format(\"x\"+number,\"x\"+number+\".a\")\n",
    "    \n",
    "    ## add CDS region\n",
    "    part1 = \"\\t\".join([seqname, source, \"CDS\", get_pos(stop,3),start, \".\", strand, frame])\n",
    "    result+= part1+\"\\t\"+part2+\"\\n\"\n",
    "    ## add stop region\n",
    "    stop1 = \"\\t\".join([seqname, source, \"stop_codon\", stop, get_pos(stop,2), \".\", strand, frame])\n",
    "    result+= stop1+\"\\t\"+part2+\"\\n\"\n",
    "    return result\n",
    "\n",
    "def change_plus_initial(temp,result, strand):\n",
    "    number = temp[0]\n",
    "    start = temp[4]; \n",
    "    stop = temp[5]\n",
    "    #     frame = str(int(temp[7])-1)\n",
    "    frame = '.'\n",
    "    \n",
    "    part2 = 'gene_id \"{}\"; transcript_id \"{}\";'.format(\"x\"+number,\"x\"+number+\".a\")\n",
    "    \n",
    "    ## add start\n",
    "    start1 = \"\\t\".join([seqname, source, \"start_codon\", start, get_pos(start, 2), \".\", strand, frame])\n",
    "    result += start1+\"\\t\"+part2+\"\\n\"\n",
    "    ## add CDS region\n",
    "    part1 = \"\\t\".join([seqname, source, \"CDS\", start, stop, \".\", strand, frame])\n",
    "    result+= part1+\"\\t\"+part2+\"\\n\"\n",
    "    return result\n",
    "\n",
    "def change_minus_initial(temp,result, strand):\n",
    "    number = temp[0]\n",
    "    stop = temp[4]; \n",
    "    start = temp[5]\n",
    "    #     frame = str(int(temp[7])-1)\n",
    "    frame = '.'\n",
    "    \n",
    "    part2 = 'gene_id \"{}\"; transcript_id \"{}\";'.format(\"x\"+number,\"x\"+number+\".a\")\n",
    "    \n",
    "    ## add start\n",
    "    start1 = \"\\t\".join([seqname, source, \"start_codon\", get_pos(start, -2), start, \".\", strand, frame])\n",
    "    result += start1+\"\\t\"+part2+\"\\n\"\n",
    "    ## add CDS region\n",
    "    part1 = \"\\t\".join([seqname, source, \"CDS\", stop, start, \".\", strand, frame])\n",
    "    result+= part1+\"\\t\"+part2+\"\\n\"\n",
    "    return result\n",
    "\n",
    "def add_plus_internal(temp,result, strand):\n",
    "\n",
    "    number = temp[0]\n",
    "    start = temp[4]; \n",
    "    stop = temp[5]\n",
    "    #     frame = str(int(temp[7])-1)\n",
    "    frame = '.'\n",
    "    \n",
    "    part2 = 'gene_id \"{}\"; transcript_id \"{}\";'.format(\"x\"+number,\"x\"+number+\".a\")\n",
    "    ## add CDS region\n",
    "    part1 = \"\\t\".join([seqname, source, \"CDS\", start, stop, \".\", strand, frame])\n",
    "    result+= part1+\"\\t\"+part2+\"\\n\"\n",
    "    \n",
    "    return result\n",
    "\n",
    "def add_minus_internal(temp,result, strand):\n",
    "\n",
    "    number = temp[0]\n",
    "    start = temp[4]; \n",
    "    stop = temp[5]\n",
    "    #     frame = str(int(temp[7])-1)\n",
    "    frame = '.'\n",
    "    \n",
    "    part2 = 'gene_id \"{}\"; transcript_id \"{}\";'.format(\"x\"+number,\"x\"+number+\".a\")\n",
    "    ## add CDS region\n",
    "    part1 = \"\\t\".join([seqname, source, \"CDS\", start, stop, \".\", strand, frame])\n",
    "    result+= part1+\"\\t\"+part2+\"\\n\"\n",
    "    \n",
    "    return result\n",
    "\n",
    "\n",
    "def convert(filename1, output_path1):\n",
    "    source = \"GeneMark\"\n",
    "    score ='.'\n",
    "\n",
    "    inside = False\n",
    "    result1 = \"\"\n",
    "    with open(filename1) as handle:\n",
    "        container = []\n",
    "        for line in handle:\n",
    "            temp = line.split()\n",
    "\n",
    "            if len(temp)==11:\n",
    "\n",
    "                strand = temp[2]\n",
    "                \n",
    "\n",
    "                if strand == '+':\n",
    "                    if temp[3] == \"Single\":\n",
    "                        result1 = change_plus_single(temp,result1, strand)\n",
    "\n",
    "                    elif temp[3] == \"Internal\":\n",
    "                        result1 = add_plus_internal(temp,result1, strand)\n",
    "\n",
    "                    elif temp[3] == \"Initial\":\n",
    "                        result1 = change_plus_initial(temp,result1, strand)\n",
    "\n",
    "                    elif temp[3] == \"Terminal\":\n",
    "                        result1 = change_plus_terminal(temp,result1, strand)\n",
    "\n",
    "                else: # strand is negative\n",
    "                    container.append(temp)\n",
    "        strand = \"-\"\n",
    "        while len(container)!=0:\n",
    "            temp = container.pop()\n",
    "            if temp[3] == \"Single\":\n",
    "                result1 = change_minus_single(temp,result1, strand)\n",
    "            elif temp[3] == \"Internal\":\n",
    "                result1 = add_minus_internal(temp,result1, strand)\n",
    "            elif temp[3] == \"Initial\":\n",
    "                result1 = change_minus_initial(temp,result1, strand)\n",
    "            elif temp[3] == \"Terminal\":\n",
    "                result1 = change_minus_terminal(temp,result1, strand)\n",
    "\n",
    "\n",
    "    with open(output_path1,'w') as handle: handle.write(result1)"
   ]
  },
  {
   "cell_type": "code",
   "execution_count": 11,
   "metadata": {
    "collapsed": true
   },
   "outputs": [],
   "source": [
    "## process GC36 model file specific for S. Pombe"
   ]
  },
  {
   "cell_type": "code",
   "execution_count": 7,
   "metadata": {
    "collapsed": false
   },
   "outputs": [],
   "source": [
    "sourcePath = \"../5_Tests/Sep5modelWithLengthDistribution/modelDIY/resGC36only.txt\"\n",
    "targetPath = \"../5_Tests/Sep5modelWithLengthDistribution/modelDIY/resGC36only.gtf\"\n",
    "convert(sourcePath, targetPath)"
   ]
  },
  {
   "cell_type": "code",
   "execution_count": 8,
   "metadata": {
    "collapsed": true
   },
   "outputs": [],
   "source": [
    "sourcePath = \"../5_Tests/Sep5modelWithLengthDistribution/modelDIY/resGC36Intron.txt\"\n",
    "targetPath = \"../5_Tests/Sep5modelWithLengthDistribution/modelDIY/resGC36Intron.gtf\"\n",
    "convert(sourcePath, targetPath)"
   ]
  },
  {
   "cell_type": "code",
   "execution_count": 9,
   "metadata": {
    "collapsed": true
   },
   "outputs": [],
   "source": [
    "sourcePath = \"../5_Tests/Sep5modelWithLengthDistribution/modelDIY/resGC36IntronSpacer.txt\"\n",
    "targetPath = \"../5_Tests/Sep5modelWithLengthDistribution/modelDIY/resGC36IntronSpacer.gtf\"\n",
    "convert(sourcePath, targetPath)"
   ]
  },
  {
   "cell_type": "code",
   "execution_count": 10,
   "metadata": {
    "collapsed": true
   },
   "outputs": [],
   "source": [
    "sourcePath = \"../5_Tests/Sep5modelWithLengthDistribution/modelDIY/resGC36IntronSpacerDonorToBP.txt\"\n",
    "targetPath = \"../5_Tests/Sep5modelWithLengthDistribution/modelDIY/resGC36IntronSpacerDonorToBP.gtf\"\n",
    "convert(sourcePath, targetPath)"
   ]
  },
  {
   "cell_type": "code",
   "execution_count": 12,
   "metadata": {
    "collapsed": true
   },
   "outputs": [],
   "source": [
    "sourcePath = \"../5_Tests/Sep5modelWithLengthDistribution/modelDIY/resGC36IntronSpacerDonorToBPSingle.txt\"\n",
    "targetPath = \"../5_Tests/Sep5modelWithLengthDistribution/modelDIY/resGC36IntronSpacerDonorToBPSingle.gtf\"\n",
    "convert(sourcePath, targetPath)"
   ]
  },
  {
   "cell_type": "code",
   "execution_count": 13,
   "metadata": {
    "collapsed": true
   },
   "outputs": [],
   "source": [
    "sourcePath = \"../5_Tests/Sep5modelWithLengthDistribution/modelDIY/resGC36IntronSpacerDonorToBPSingleInternal.txt\"\n",
    "targetPath = \"../5_Tests/Sep5modelWithLengthDistribution/modelDIY/resGC36IntronSpacerDonorToBPSingleInternal.gtf\"\n",
    "convert(sourcePath, targetPath)"
   ]
  },
  {
   "cell_type": "code",
   "execution_count": 14,
   "metadata": {
    "collapsed": true
   },
   "outputs": [],
   "source": [
    "sourcePath = \"../5_Tests/Sep5modelWithLengthDistribution/modelDIY/resGC36IntronSpacerDonorToBPSingleInternalInitial.txt\"\n",
    "targetPath = \"../5_Tests/Sep5modelWithLengthDistribution/modelDIY/resGC36IntronSpacerDonorToBPSingleInternalInitial.gtf\"\n",
    "convert(sourcePath, targetPath)"
   ]
  },
  {
   "cell_type": "code",
   "execution_count": 15,
   "metadata": {
    "collapsed": true
   },
   "outputs": [],
   "source": [
    "sourcePath = \"../5_Tests/Sep5modelWithLengthDistribution/modelDIY/resGC36IntronSpacerDonorToBPSingleInternalInitialTerminal.txt\"\n",
    "targetPath = \"../5_Tests/Sep5modelWithLengthDistribution/modelDIY/resGC36IntronSpacerDonorToBPSingleInternalInitialTerminal.gtf\"\n",
    "convert(sourcePath, targetPath)"
   ]
  },
  {
   "cell_type": "code",
   "execution_count": 16,
   "metadata": {
    "collapsed": true
   },
   "outputs": [],
   "source": [
    "## process GC36 model file with N Crass Lenght distribution"
   ]
  },
  {
   "cell_type": "code",
   "execution_count": 17,
   "metadata": {
    "collapsed": true
   },
   "outputs": [],
   "source": [
    "sourcePath = \"../5_Tests/Sep5modelWithLengthDistribution/modelDIY/resGC36NCrassaIntron.txt\"\n",
    "targetPath = \"../5_Tests/Sep5modelWithLengthDistribution/modelDIY/resGC36NCrassaIntron.gtf\"\n",
    "convert(sourcePath, targetPath)"
   ]
  },
  {
   "cell_type": "code",
   "execution_count": 18,
   "metadata": {
    "collapsed": true
   },
   "outputs": [],
   "source": [
    "sourcePath = \"../5_Tests/Sep5modelWithLengthDistribution/modelDIY/resGC36NCrassaIntronSpacer.txt\"\n",
    "targetPath = \"../5_Tests/Sep5modelWithLengthDistribution/modelDIY/resGC36NCrassaIntronSpacer.gtf\"\n",
    "convert(sourcePath, targetPath)"
   ]
  },
  {
   "cell_type": "code",
   "execution_count": 19,
   "metadata": {
    "collapsed": true
   },
   "outputs": [],
   "source": [
    "sourcePath = \"../5_Tests/Sep5modelWithLengthDistribution/modelDIY/resGC36NCrassaIntronSpacerDonorToBP.txt\"\n",
    "targetPath = \"../5_Tests/Sep5modelWithLengthDistribution/modelDIY/resGC36NCrassaIntronSpacerDonorToBP.gtf\"\n",
    "convert(sourcePath, targetPath)"
   ]
  },
  {
   "cell_type": "code",
   "execution_count": 20,
   "metadata": {
    "collapsed": true
   },
   "outputs": [],
   "source": [
    "sourcePath = \"../5_Tests/Sep5modelWithLengthDistribution/modelDIY/resGC36NCrassaIntronSpacerDonorToBPSingle.txt\"\n",
    "targetPath = \"../5_Tests/Sep5modelWithLengthDistribution/modelDIY/resGC36NCrassaIntronSpacerDonorToBPSingle.gtf\"\n",
    "convert(sourcePath, targetPath)"
   ]
  },
  {
   "cell_type": "code",
   "execution_count": 21,
   "metadata": {
    "collapsed": true
   },
   "outputs": [],
   "source": [
    "sourcePath = \"../5_Tests/Sep5modelWithLengthDistribution/modelDIY/resGC36NCrassaIntronSpacerDonorToBPSingleInternal.txt\"\n",
    "targetPath = \"../5_Tests/Sep5modelWithLengthDistribution/modelDIY/resGC36NCrassaIntronSpacerDonorToBPSingleInternal.gtf\"\n",
    "convert(sourcePath, targetPath)"
   ]
  },
  {
   "cell_type": "code",
   "execution_count": 22,
   "metadata": {
    "collapsed": true
   },
   "outputs": [],
   "source": [
    "sourcePath = \"../5_Tests/Sep5modelWithLengthDistribution/modelDIY/resGC36NCrassaIntronSpacerDonorToBPSingleInternalInitial.txt\"\n",
    "targetPath = \"../5_Tests/Sep5modelWithLengthDistribution/modelDIY/resGC36NCrassaIntronSpacerDonorToBPSingleInternalInitial.gtf\"\n",
    "convert(sourcePath, targetPath)"
   ]
  },
  {
   "cell_type": "code",
   "execution_count": 23,
   "metadata": {
    "collapsed": true
   },
   "outputs": [],
   "source": [
    "sourcePath = \"../5_Tests/Sep5modelWithLengthDistribution/modelDIY/resGC36NCrassaIntronSpacerDonorToBPSingleInternalInitialTerminal.txt\"\n",
    "targetPath = \"../5_Tests/Sep5modelWithLengthDistribution/modelDIY/resGC36NCrassaIntronSpacerDonorToBPSingleInternalInitialTerminal.gtf\"\n",
    "convert(sourcePath, targetPath)"
   ]
  },
  {
   "cell_type": "code",
   "execution_count": null,
   "metadata": {
    "collapsed": true
   },
   "outputs": [],
   "source": []
  }
 ],
 "metadata": {
  "kernelspec": {
   "display_name": "Python 2",
   "language": "python",
   "name": "python2"
  },
  "language_info": {
   "codemirror_mode": {
    "name": "ipython",
    "version": 2
   },
   "file_extension": ".py",
   "mimetype": "text/x-python",
   "name": "python",
   "nbconvert_exporter": "python",
   "pygments_lexer": "ipython2",
   "version": "2.7.10"
  }
 },
 "nbformat": 4,
 "nbformat_minor": 0
}
