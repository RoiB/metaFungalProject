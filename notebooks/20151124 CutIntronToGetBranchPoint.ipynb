{
 "cells": [
  {
   "cell_type": "code",
   "execution_count": 92,
   "metadata": {
    "collapsed": true
   },
   "outputs": [],
   "source": [
    "import pandas as pd\n",
    "from Bio import SeqIO\n",
    "import subprocess\n",
    "import matplotlib.pylab as plt\n",
    "%matplotlib inline\n",
    "from scipy import stats"
   ]
  },
  {
   "cell_type": "code",
   "execution_count": 125,
   "metadata": {
    "collapsed": false
   },
   "outputs": [],
   "source": [
    "info = pd.read_csv('/home/richard/research/tests/Nov24BranchPoint/speciesInfo.csv')\n",
    "info.index = info.shortName\n",
    "info.loc['TrireRUTC30_1','longName'] = 'Trichoderma reesei or Trire2'"
   ]
  },
  {
   "cell_type": "code",
   "execution_count": null,
   "metadata": {
    "collapsed": true
   },
   "outputs": [],
   "source": [
    "info.lo"
   ]
  },
  {
   "cell_type": "code",
   "execution_count": 16,
   "metadata": {
    "collapsed": false
   },
   "outputs": [],
   "source": [
    "seqs = list(SeqIO.parse('/storage3/w/richard/meta2015/placeForRNASeq/Aspoch1/data/Aspoch1_AssemblyScaffolds.fasta','fasta'))\n",
    "seqs = {seq.id:seq for seq in seqs}"
   ]
  },
  {
   "cell_type": "code",
   "execution_count": 9,
   "metadata": {
    "collapsed": false
   },
   "outputs": [
    {
     "data": {
      "text/plain": [
       "SeqRecord(seq=Seq('ATGCAGCGGTTCCAGGCCGGCCAGACCCAGGTCATCAGTGCCACCAGTGCATTA...TAA', SingleLetterAlphabet()), id='<unknown id>', name='<unknown name>', description='<unknown description>', dbxrefs=[])"
      ]
     },
     "execution_count": 9,
     "metadata": {},
     "output_type": "execute_result"
    }
   ],
   "source": [
    "seqs[0][2168:2903].reverse_complement()"
   ]
  },
  {
   "cell_type": "code",
   "execution_count": 40,
   "metadata": {
    "collapsed": false,
    "scrolled": false
   },
   "outputs": [],
   "source": [
    "intron_info = []\n",
    "with open('/storage3/w/alexl/Fa/Spapa3/annot/introns_cds.gff') as f:\n",
    "    for line in f:\n",
    "        elems = line.split()\n",
    "        contig = elems[0]\n",
    "        a,b = int(elems[3]), int(elems[4])\n",
    "        is_negative = '-' in elems[6]\n",
    "        if a<b:\n",
    "            intron_info.append((contig, a,b, is_negative))"
   ]
  },
  {
   "cell_type": "code",
   "execution_count": 41,
   "metadata": {
    "collapsed": true
   },
   "outputs": [],
   "source": [
    "seqs = list(SeqIO.parse('/storage3/w/alexl/Fa/Spapa3/data/genome.fasta','fasta'))\n",
    "seqs = {seq.id:seq for seq in seqs}"
   ]
  },
  {
   "cell_type": "code",
   "execution_count": 42,
   "metadata": {
    "collapsed": true
   },
   "outputs": [],
   "source": [
    "introns = []\n",
    "for contig, a, b, is_negative in intron_info:\n",
    "    intron = seqs[contig][a-1:b]\n",
    "    \n",
    "    if is_negative:\n",
    "        intron = intron.reverse_complement()\n",
    "        intron.description = ''\n",
    "        intron.id = '{}_{}_{}'.format(contig,a,b)\n",
    "        introns.append(intron)\n",
    "    else:\n",
    "        intron.description = ''\n",
    "        intron.id = '{}_{}_{}'.format(contig,a,b)\n",
    "        introns.append(intron)"
   ]
  },
  {
   "cell_type": "code",
   "execution_count": 44,
   "metadata": {
    "collapsed": false
   },
   "outputs": [
    {
     "data": {
      "text/plain": [
       "1053"
      ]
     },
     "execution_count": 44,
     "metadata": {},
     "output_type": "execute_result"
    }
   ],
   "source": [
    "SeqIO.write(introns,'/home/richard/research/tests/Nov24BranchPoint/test/test.fasta','fasta')"
   ]
  },
  {
   "cell_type": "code",
   "execution_count": 48,
   "metadata": {
    "collapsed": false
   },
   "outputs": [],
   "source": [
    "# for shortName in info.shortName:\n",
    "#     command = 'mkdir /home/richard/research/tests/Nov24BranchPoint/introns/{}'.format(shortName)\n",
    "#     subprocess.check_call(command, shell = True)"
   ]
  },
  {
   "cell_type": "code",
   "execution_count": 51,
   "metadata": {
    "collapsed": true
   },
   "outputs": [],
   "source": [
    "## start batch processing\n",
    "for shortName in info.shortName:\n",
    "    intron_info = []\n",
    "    with open('/storage3/w/alexl/Fa/{}/annot/introns_cds.gff'.format(shortName)) as f:\n",
    "        for line in f:\n",
    "            elems = line.split()\n",
    "            contig = elems[0]\n",
    "            a,b = int(elems[3]), int(elems[4])\n",
    "            is_negative = '-' in elems[6]\n",
    "            if a<b:\n",
    "                intron_info.append((contig, a,b, is_negative))\n",
    "                \n",
    "#     seqs = list(SeqIO.parse('/storage3/w/alexl/Fa/{}/data/genome.fasta'.format(shortName),'fasta'))\n",
    "#     seqs = {seq.id:seq for seq in seqs}\n",
    "    \n",
    "#     introns = []\n",
    "#     for contig, a, b, is_negative in intron_info:\n",
    "#         intron = seqs[contig][a-1:b]\n",
    "\n",
    "#         if is_negative:\n",
    "#             intron = intron.reverse_complement()\n",
    "#             intron.description = ''\n",
    "#             intron.id = '{}_{}_{}'.format(contig,a,b)\n",
    "#             introns.append(intron)\n",
    "#         else:\n",
    "#             intron.description = ''\n",
    "#             intron.id = '{}_{}_{}'.format(contig,a,b)\n",
    "#             introns.append(intron)\n",
    "    \n",
    "#     SeqIO.write(introns,'/home/richard/research/tests/Nov24BranchPoint/introns/{}_intron.fasta'.format(shortName),'fasta')"
   ]
  },
  {
   "cell_type": "code",
   "execution_count": 66,
   "metadata": {
    "collapsed": true
   },
   "outputs": [],
   "source": [
    "## 50 nuc upstream\n",
    "for shortName in info.shortName:\n",
    "    intron_info = []\n",
    "    with open('/storage3/w/alexl/Fa/{}/annot/introns_cds.gff'.format(shortName)) as f:\n",
    "        for line in f:\n",
    "            elems = line.split()\n",
    "            contig = elems[0]\n",
    "            a,b = int(elems[3]), int(elems[4])\n",
    "            is_negative = '-' in elems[6]\n",
    "            if b-a > 50:\n",
    "                intron_info.append((contig, a,b, is_negative))\n",
    "                \n",
    "    seqs = list(SeqIO.parse('/storage3/w/alexl/Fa/{}/data/genome.fasta'.format(shortName),'fasta'))\n",
    "    seqs = {seq.id:seq for seq in seqs}\n",
    "    \n",
    "    introns = []\n",
    "    for contig, a, b, is_negative in intron_info:\n",
    "        intron = seqs[contig][b-50:b-5]\n",
    "\n",
    "        if is_negative:\n",
    "            intron = intron.reverse_complement()\n",
    "            intron.description = ''\n",
    "            intron.id = '{}_{}_{}'.format(contig,a,b)\n",
    "            introns.append(intron)\n",
    "        else:\n",
    "            intron.description = ''\n",
    "            intron.id = '{}_{}_{}'.format(contig,a,b)\n",
    "            introns.append(intron)\n",
    "    \n",
    "    SeqIO.write(introns,'/home/richard/research/tests/Nov24BranchPoint/introns/{}_intron.fasta'.format(shortName),'fasta')"
   ]
  },
  {
   "cell_type": "code",
   "execution_count": 140,
   "metadata": {
    "collapsed": false
   },
   "outputs": [],
   "source": [
    "## to address the signal issue, choose a subset of motif\n",
    "for shortName in info.shortName:\n",
    "    intron_info = []\n",
    "    with open('/storage3/w/alexl/Fa/{}/annot/introns_cds.gff'.format(shortName)) as f:\n",
    "        for line in f:\n",
    "            elems = line.split()\n",
    "            contig = elems[0]\n",
    "            a,b = int(elems[3]), int(elems[4])\n",
    "            is_negative = '-' in elems[6]\n",
    "            if b-a > 50:\n",
    "                intron_info.append((contig, a,b, is_negative))\n",
    "                \n",
    "    seqs = list(SeqIO.parse('/storage3/w/alexl/Fa/{}/data/genome.fasta'.format(shortName),'fasta'))\n",
    "    seqs = {seq.id:seq for seq in seqs}\n",
    "    \n",
    "    introns = []\n",
    "    for contig, a, b, is_negative in intron_info:\n",
    "        intron = seqs[contig][a-1:b]\n",
    "\n",
    "        if is_negative:\n",
    "            intron = intron.reverse_complement()\n",
    "            intron.description = ''\n",
    "            intron.id = '{}_{}_{}'.format(contig,a,b)\n",
    "            introns.append(intron)\n",
    "        else:\n",
    "            intron.description = ''\n",
    "            intron.id = '{}_{}_{}'.format(contig,a,b)\n",
    "            introns.append(intron)\n",
    "    \n",
    "    SeqIO.write(introns,'/home/richard/research/tests/Nov24BranchPoint/intron_long/{}_intron.fasta'.format(shortName),'fasta')"
   ]
  },
  {
   "cell_type": "code",
   "execution_count": 143,
   "metadata": {
    "collapsed": false
   },
   "outputs": [
    {
     "name": "stdout",
     "output_type": "stream",
     "text": [
      "Spapa3 39\n",
      "Picst3 90\n",
      "Canta1 89\n",
      "Debha1 6\n",
      "Hypbu1 95\n",
      "Cante1 34\n",
      "Metbi1 137\n",
      "Babin1 192\n",
      "Canar1 196\n",
      "Hanpo2 29\n",
      "Picme2 129\n",
      "Dekbr2 265\n",
      "Picpa1 6\n",
      "Pacta1_2 68\n",
      "Klula1 44\n",
      "Ashgo1_1 2\n",
      "Sacce1 21\n",
      "Hanva1_1 166\n",
      "Wican1 100\n",
      "Cybja1 124\n",
      "Ascru1 267\n",
      "Nadfu1 143\n",
      "Yarli1 180\n",
      "Canca1 47\n",
      "Lipst1_1 82\n",
      "Neucr2 275\n",
      "TrireRUTC30_1 342\n",
      "Aspnid1 162\n",
      "Tubme1 185\n",
      "Schpo1 18\n",
      "Pneji1 123\n",
      "Tapde1_1 60\n",
      "Saico1 68\n",
      "Cryne_H99_1 93\n",
      "Schco3 524\n",
      "Rhior3 74\n",
      "Batde5 620\n"
     ]
    }
   ],
   "source": [
    "## 50 nuc upstream, corrected version\n",
    "for shortName in info.shortName:\n",
    "    intron_info = []\n",
    "    with open('/storage3/w/alexl/Fa/{}/annot/introns_cds.gff'.format(shortName)) as f:\n",
    "        for line in f:\n",
    "            elems = line.split()\n",
    "            contig = elems[0]\n",
    "            a,b = int(elems[3]), int(elems[4])\n",
    "            is_negative = '-' in elems[6]\n",
    "            if b-a > 500:\n",
    "                intron_info.append((contig, a,b, is_negative))\n",
    "    print shortName, len(intron_info)\n",
    "                \n",
    "    seqs = list(SeqIO.parse('/storage3/w/alexl/Fa/{}/data/genome.fasta'.format(shortName),'fasta'))\n",
    "    seqs = {seq.id:seq for seq in seqs}\n",
    "    \n",
    "    introns = []\n",
    "    for contig, a, b, is_negative in intron_info:\n",
    "        intron = seqs[contig][b-80:b-5]\n",
    "\n",
    "        if is_negative:\n",
    "            intron = intron.reverse_complement()\n",
    "            intron.description = ''\n",
    "            intron.id = '{}_{}_{}'.format(contig,a,b)\n",
    "            introns.append(intron)\n",
    "        else:\n",
    "            intron.description = ''\n",
    "            intron.id = '{}_{}_{}'.format(contig,a,b)\n",
    "            introns.append(intron)\n",
    "    \n",
    "    SeqIO.write(introns,'/home/richard/research/tests/Nov24BranchPoint/introns_weak/{}_intron.fasta'.format(shortName),'fasta')"
   ]
  },
  {
   "cell_type": "code",
   "execution_count": null,
   "metadata": {
    "collapsed": true
   },
   "outputs": [],
   "source": [
    "## 80 nuc upstream, corrected version\n",
    "for shortName in info.shortName:\n",
    "    intron_info = []\n",
    "    with open('/storage3/w/alexl/Fa/{}/annot/introns_cds.gff'.format(shortName)) as f:\n",
    "        for line in f:\n",
    "            elems = line.split()\n",
    "            contig = elems[0]\n",
    "            a,b = int(elems[3]), int(elems[4])\n",
    "            is_negative = '-' in elems[6]\n",
    "            if b-a > 500:\n",
    "                intron_info.append((contig, a,b, is_negative))\n",
    "    print shortName, len(intron_info)\n",
    "                \n",
    "    seqs = list(SeqIO.parse('/storage3/w/alexl/Fa/{}/data/genome.fasta'.format(shortName),'fasta'))\n",
    "    seqs = {seq.id:seq for seq in seqs}\n",
    "    \n",
    "    introns = []\n",
    "    for contig, a, b, is_negative in intron_info:\n",
    "        intron = seqs[contig][b-50:b-5]\n",
    "\n",
    "        if is_negative:\n",
    "            intron = intron.reverse_complement()\n",
    "            intron.description = ''\n",
    "            intron.id = '{}_{}_{}'.format(contig,a,b)\n",
    "            introns.append(intron)\n",
    "        else:\n",
    "            intron.description = ''\n",
    "            intron.id = '{}_{}_{}'.format(contig,a,b)\n",
    "            introns.append(intron)\n",
    "    \n",
    "    SeqIO.write(introns,'/home/richard/research/tests/Nov24BranchPoint/introns/{}_intron.fasta'.format(shortName),'fasta')"
   ]
  },
  {
   "cell_type": "code",
   "execution_count": 145,
   "metadata": {
    "collapsed": false
   },
   "outputs": [
    {
     "name": "stdout",
     "output_type": "stream",
     "text": [
      "Spapa3 451\n",
      "Picst3 931\n",
      "Canta1 661\n",
      "Debha1 197\n",
      "Hypbu1 626\n",
      "Cante1 452\n",
      "Metbi1 778\n",
      "Babin1 734\n",
      "Canar1 1045\n",
      "Hanpo2 280\n",
      "Picme2 770\n",
      "Dekbr2 1157\n",
      "Picpa1 181\n",
      "Pacta1_2 1106\n",
      "Klula1 150\n",
      "Ashgo1_1 83\n",
      "Sacce1 222\n",
      "Hanva1_1 502\n",
      "Wican1 689\n",
      "Cybja1 662\n",
      "Ascru1 1627\n",
      "Nadfu1 1657\n",
      "Yarli1 757\n",
      "Canca1 377\n",
      "Lipst1_1 1230\n",
      "Neucr2 6446\n",
      "TrireRUTC30_1 6556\n",
      "Aspnid1 4523\n",
      "Tubme1 4187\n",
      "Schpo1 1229\n",
      "Pneji1 1242\n",
      "Tapde1_1 266\n",
      "Saico1 713\n",
      "Cryne_H99_1 3809\n",
      "Schco3 7885\n",
      "Rhior3 8990\n",
      "Batde5 15527\n"
     ]
    }
   ],
   "source": [
    "## 80 nuc upstream, unfiltered\n",
    "for shortName in info.shortName:\n",
    "    intron_info = []\n",
    "    with open('/storage3/w/alexl/Fa/{}/annot/introns_cds.gff'.format(shortName)) as f:\n",
    "        for line in f:\n",
    "            elems = line.split()\n",
    "            contig = elems[0]\n",
    "            a,b = int(elems[3]), int(elems[4])\n",
    "            is_negative = '-' in elems[6]\n",
    "            if b-a > 85:\n",
    "                intron_info.append((contig, a,b, is_negative))\n",
    "    print shortName, len(intron_info)\n",
    "                \n",
    "    seqs = list(SeqIO.parse('/storage3/w/alexl/Fa/{}/data/genome.fasta'.format(shortName),'fasta'))\n",
    "    seqs = {seq.id:seq for seq in seqs}\n",
    "    \n",
    "    introns = []\n",
    "    for contig, a, b, is_negative in intron_info:\n",
    "        intron = seqs[contig][b-85:b-5]\n",
    "\n",
    "        if is_negative:\n",
    "            intron = intron.reverse_complement()\n",
    "            intron.description = ''\n",
    "            intron.id = '{}_{}_{}'.format(contig,a,b)\n",
    "            introns.append(intron)\n",
    "        else:\n",
    "            intron.description = ''\n",
    "            intron.id = '{}_{}_{}'.format(contig,a,b)\n",
    "            introns.append(intron)\n",
    "    \n",
    "    SeqIO.write(introns,'/home/richard/research/tests/Nov24BranchPoint/introns_long_unfiltered/{}_intron.fasta'.format(shortName),'fasta')"
   ]
  },
  {
   "cell_type": "code",
   "execution_count": 72,
   "metadata": {
    "collapsed": true
   },
   "outputs": [],
   "source": [
    "## get intron length distribution\n",
    "intron_info = {}\n",
    "for shortName in info.shortName:\n",
    "    intron_info[shortName] = []\n",
    "    with open('/storage3/w/alexl/Fa/{}/annot/introns_cds.gff'.format(shortName)) as f:\n",
    "        for line in f:\n",
    "            elems = line.split()\n",
    "            contig = elems[0]\n",
    "            a,b = int(elems[3]), int(elems[4])\n",
    "            is_negative = '-' in elems[6]\n",
    "            if a<b:\n",
    "                intron_info[shortName].append(b-a+1)"
   ]
  },
  {
   "cell_type": "code",
   "execution_count": 118,
   "metadata": {
    "collapsed": true
   },
   "outputs": [],
   "source": [
    "target = '/home/richard/research/tests/Nov24BranchPoint/intron_length_distr/'"
   ]
  },
  {
   "cell_type": "code",
   "execution_count": 134,
   "metadata": {
    "collapsed": false
   },
   "outputs": [],
   "source": [
    "n = 300\n",
    "for shortName in info.shortName:\n",
    "    lengths = {i:0 for i in range(3001)} \n",
    "    for number in intron_info[shortName]:\n",
    "        if number < 3000:\n",
    "            lengths[number]+=1\n",
    "    total = sum(lengths.values())\n",
    "    for i in range(3001):\n",
    "        lengths[i] = 1.*lengths[i]/total\n",
    "    \n",
    "    plt.figure()\n",
    "    plt.plot(range(n), [lengths[i] for i in range(n)])\n",
    "    plt.title('Intron length distribution\\n{}, shortName: {}\\n GC: {}, Intron Density: {}'.format(info.ix[shortName]['longName'], shortName, info.ix[shortName]['gc'], info.ix[shortName]['inron density']))\n",
    "    plt.xlabel('Intron Length')\n",
    "    plt.ylabel('Probability')\n",
    "    plt.ylim(0,0.1)\n",
    "    plt.savefig(target+shortName, bbox_inches='tight')\n",
    "    plt.close()"
   ]
  },
  {
   "cell_type": "code",
   "execution_count": 107,
   "metadata": {
    "collapsed": true
   },
   "outputs": [],
   "source": [
    "###################  test codes ############################"
   ]
  },
  {
   "cell_type": "code",
   "execution_count": 73,
   "metadata": {
    "collapsed": false,
    "scrolled": true
   },
   "outputs": [
    {
     "name": "stdout",
     "output_type": "stream",
     "text": [
      "['Spapa3', 'Picst3', 'Canta1', 'Debha1', 'Hypbu1', 'Cante1', 'Metbi1', 'Babin1', 'Canar1', 'Hanpo2', 'Picme2', 'Dekbr2', 'Picpa1', 'Pacta1_2', 'Klula1', 'Ashgo1_1', 'Sacce1', 'Hanva1_1', 'Wican1', 'Cybja1', 'Ascru1', 'Nadfu1', 'Yarli1', 'Canca1', 'Lipst1_1', 'Neucr2', 'TrireRUTC30_1', 'Aspnid1', 'Tubme1', 'Schpo1', 'Pneji1', 'Tapde1_1', 'Saico1', 'Cryne_H99_1', 'Schco3', 'Rhior3', 'Batde5']\n"
     ]
    }
   ],
   "source": [
    "print list(info.shortName)"
   ]
  },
  {
   "cell_type": "code",
   "execution_count": 78,
   "metadata": {
    "collapsed": false
   },
   "outputs": [],
   "source": [
    "test = {i:0 for i in range(3001)}    "
   ]
  },
  {
   "cell_type": "code",
   "execution_count": 88,
   "metadata": {
    "collapsed": false
   },
   "outputs": [],
   "source": [
    "for number in intron_info['Spapa3']:\n",
    "    if number < 3000:\n",
    "        test[number]+=1\n",
    "total = sum(test.values())\n",
    "for i in range(3001):\n",
    "    test[i] = 1.*test[i]/total"
   ]
  },
  {
   "cell_type": "code",
   "execution_count": 101,
   "metadata": {
    "collapsed": false
   },
   "outputs": [
    {
     "data": {
      "text/plain": [
       "<matplotlib.text.Text at 0x7f1dec89c550>"
      ]
     },
     "execution_count": 101,
     "metadata": {},
     "output_type": "execute_result"
    },
    {
     "data": {
      "image/png": "[encoded data removed]",
      "text/plain": [
       "<matplotlib.figure.Figure at 0x7f1dec8b85d0>"
      ]
     },
     "metadata": {},
     "output_type": "display_data"
    }
   ],
   "source": [
    "plt.plot(range(1001), [test[i] for i in range(1001)])\n",
    "plt.title('Intron length distribution')\n",
    "p"
   ]
  },
  {
   "cell_type": "code",
   "execution_count": 97,
   "metadata": {
    "collapsed": true
   },
   "outputs": [],
   "source": [
    "## tried gamma fitting, but not very good"
   ]
  },
  {
   "cell_type": "code",
   "execution_count": 93,
   "metadata": {
    "collapsed": false
   },
   "outputs": [
    {
     "name": "stdout",
     "output_type": "stream",
     "text": [
      "shape = 0.147611698585, scale = 533.261437891\n"
     ]
    }
   ],
   "source": [
    "shape,loc,scale = stats.gamma.fit(intron_info['Spapa3'])\n",
    "print \"shape = {}, scale = {}\".format(shape,scale)"
   ]
  },
  {
   "cell_type": "code",
   "execution_count": 96,
   "metadata": {
    "collapsed": false
   },
   "outputs": [
    {
     "data": {
      "text/plain": [
       "[<matplotlib.lines.Line2D at 0x7f1ded2164d0>]"
      ]
     },
     "execution_count": 96,
     "metadata": {},
     "output_type": "execute_result"
    },
    {
     "data": {
      "image/png": "[encoded data removed]",
      "text/plain": [
       "<matplotlib.figure.Figure at 0x7f1dedc72190>"
      ]
     },
     "metadata": {},
     "output_type": "display_data"
    }
   ],
   "source": [
    "n =100\n",
    "plt.plot(range(n),stats.gamma.pdf(range(n),shape,loc,scale), 'r',label = 'Gamma Fitting')"
   ]
  }
 ],
 "metadata": {
  "kernelspec": {
   "display_name": "Python 2",
   "language": "python",
   "name": "python2"
  },
  "language_info": {
   "codemirror_mode": {
    "name": "ipython",
    "version": 2
   },
   "file_extension": ".py",
   "mimetype": "text/x-python",
   "name": "python",
   "nbconvert_exporter": "python",
   "pygments_lexer": "ipython2",
   "version": "2.7.10"
  }
 },
 "nbformat": 4,
 "nbformat_minor": 0
}
