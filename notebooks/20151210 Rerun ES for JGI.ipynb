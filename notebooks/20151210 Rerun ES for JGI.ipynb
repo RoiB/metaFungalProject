{
 "cells": [
  {
   "cell_type": "code",
   "execution_count": 45,
   "metadata": {
    "collapsed": true
   },
   "outputs": [],
   "source": [
    "'''\n",
    "Spent some time on correctly submit the job across all computers\n",
    "'''\n",
    "import pandas as pd\n",
    "import subprocess"
   ]
  },
  {
   "cell_type": "code",
   "execution_count": 2,
   "metadata": {
    "collapsed": true
   },
   "outputs": [],
   "source": [
    "info = pd.read_csv('/home/richard/research/tests/Dec10JGI_Genome_ES/speciesInfo.csv')"
   ]
  },
  {
   "cell_type": "code",
   "execution_count": 7,
   "metadata": {
    "collapsed": false
   },
   "outputs": [],
   "source": [
    "## mkdir in new folder \n",
    "for shortName in info.shortName:\n",
    "    command = 'mkdir /storage3/w/richard/meta2016/JGI38/{}'.format(shortName)\n",
    "#     ÷print commad\n",
    "    subprocess.check_call(command, shell = True)"
   ]
  },
  {
   "cell_type": "code",
   "execution_count": 9,
   "metadata": {
    "collapsed": false
   },
   "outputs": [],
   "source": [
    "## cp genome file\n",
    "for shortName in info.shortName:\n",
    "    command = 'cp /storage3/w/alexl/Fa/{0}/data/genome.fasta /storage3/w/richard/meta2016/JGI38/{0}/'.format(shortName)\n",
    "    subprocess.check_call(command, shell = True)"
   ]
  },
  {
   "cell_type": "code",
   "execution_count": 48,
   "metadata": {
    "collapsed": false
   },
   "outputs": [
    {
     "data": {
      "text/plain": [
       "0            Spapa3\n",
       "1            Picst3\n",
       "2            Canta1\n",
       "3            Debha1\n",
       "4            Hypbu1\n",
       "5            Cante1\n",
       "6            Metbi1\n",
       "7            Babin1\n",
       "8            Canar1\n",
       "9            Hanpo2\n",
       "10           Picme2\n",
       "11           Dekbr2\n",
       "12           Picpa1\n",
       "13         Pacta1_2\n",
       "14           Klula1\n",
       "15         Ashgo1_1\n",
       "16           Sacce1\n",
       "17         Hanva1_1\n",
       "18           Wican1\n",
       "19           Cybja1\n",
       "20           Ascru1\n",
       "21           Nadfu1\n",
       "22           Yarli1\n",
       "23           Canca1\n",
       "24         Lipst1_1\n",
       "25           Neucr2\n",
       "26    TrireRUTC30_1\n",
       "27          Aspnid1\n",
       "28           Tubme1\n",
       "29           Schpo1\n",
       "30           Pneji1\n",
       "31         Tapde1_1\n",
       "32           Saico1\n",
       "33      Cryne_H99_1\n",
       "34           Schco3\n",
       "35           Rhior3\n",
       "36           Batde5\n",
       "Name: shortName, dtype: object"
      ]
     },
     "execution_count": 48,
     "metadata": {},
     "output_type": "execute_result"
    }
   ],
   "source": [
    "info.shortName"
   ]
  },
  {
   "cell_type": "code",
   "execution_count": 52,
   "metadata": {
    "collapsed": true
   },
   "outputs": [],
   "source": [
    "## working node index\n",
    "node_idx1 = range(1,10); node_idx1.remove(7)\n",
    "node_idx2 = range(10,37); node_idx2.remove(19); node_idx2.remove(31); node_idx2.remove(35)\n",
    "node_idx3 = [0,7, 19,31,35]"
   ]
  },
  {
   "cell_type": "code",
   "execution_count": 55,
   "metadata": {
    "collapsed": false
   },
   "outputs": [
    {
     "name": "stdout",
     "output_type": "stream",
     "text": [
      "nohup ssh node001 \"cd /storage3/w/richard/meta2016/JGI38/Picst3; /home/tool/gmes/gmes_petap.pl --ES --fungus  --min_contig 10000 --cores 8 --v  --seq genome.fasta\" &\n",
      "nohup ssh node002 \"cd /storage3/w/richard/meta2016/JGI38/Canta1; /home/tool/gmes/gmes_petap.pl --ES --fungus  --min_contig 10000 --cores 8 --v  --seq genome.fasta\" &\n",
      "nohup ssh node003 \"cd /storage3/w/richard/meta2016/JGI38/Debha1; /home/tool/gmes/gmes_petap.pl --ES --fungus  --min_contig 10000 --cores 8 --v  --seq genome.fasta\" &\n",
      "nohup ssh node004 \"cd /storage3/w/richard/meta2016/JGI38/Hypbu1; /home/tool/gmes/gmes_petap.pl --ES --fungus  --min_contig 10000 --cores 8 --v  --seq genome.fasta\" &\n",
      "nohup ssh node005 \"cd /storage3/w/richard/meta2016/JGI38/Cante1; /home/tool/gmes/gmes_petap.pl --ES --fungus  --min_contig 10000 --cores 8 --v  --seq genome.fasta\" &\n",
      "nohup ssh node006 \"cd /storage3/w/richard/meta2016/JGI38/Metbi1; /home/tool/gmes/gmes_petap.pl --ES --fungus  --min_contig 10000 --cores 8 --v  --seq genome.fasta\" &\n",
      "nohup ssh node008 \"cd /storage3/w/richard/meta2016/JGI38/Canar1; /home/tool/gmes/gmes_petap.pl --ES --fungus  --min_contig 10000 --cores 8 --v  --seq genome.fasta\" &\n",
      "nohup ssh node009 \"cd /storage3/w/richard/meta2016/JGI38/Hanpo2; /home/tool/gmes/gmes_petap.pl --ES --fungus  --min_contig 10000 --cores 8 --v  --seq genome.fasta\" &\n",
      "\n"
     ]
    }
   ],
   "source": [
    "## run partI\n",
    "script = ''\n",
    "for idx in node_idx1:\n",
    "    path = 'cd /storage3/w/richard/meta2016/JGI38/{}'.format(info.shortName[idx])\n",
    "#     command = 'ssh node00{} \"nohup /home/tool/gmes/gmes_petap.pl --ES --fungus  --min_contig 10000 --cores 8 --v  --seq /storage3/w/richard/meta2016/JGI38/{}/genome.fasta &\" \\n'.format(idx,info.shortName[idx])\n",
    "    command = 'nohup ssh node00{} \"{}; /home/tool/gmes/gmes_petap.pl --ES --fungus  --min_contig 10000 --cores 8 --v  --seq genome.fasta\" &\\n'.format(idx,path)\n",
    "    script += command\n",
    "print script\n",
    "with open(\"/home/richard/research/tests/Dec10JGI_Genome_ES/script1.sh\",'w') as f: f.write(script)"
   ]
  },
  {
   "cell_type": "code",
   "execution_count": 54,
   "metadata": {
    "collapsed": false
   },
   "outputs": [
    {
     "name": "stdout",
     "output_type": "stream",
     "text": [
      "nohup ssh node010 \"cd /storage3/w/richard/meta2016/JGI38/Picme2; /home/tool/gmes/gmes_petap.pl --ES --fungus  --min_contig 10000 --cores 8 --v  --seq genome.fasta \" &\n",
      "nohup ssh node011 \"cd /storage3/w/richard/meta2016/JGI38/Dekbr2; /home/tool/gmes/gmes_petap.pl --ES --fungus  --min_contig 10000 --cores 8 --v  --seq genome.fasta \" &\n",
      "nohup ssh node012 \"cd /storage3/w/richard/meta2016/JGI38/Picpa1; /home/tool/gmes/gmes_petap.pl --ES --fungus  --min_contig 10000 --cores 8 --v  --seq genome.fasta \" &\n",
      "nohup ssh node013 \"cd /storage3/w/richard/meta2016/JGI38/Pacta1_2; /home/tool/gmes/gmes_petap.pl --ES --fungus  --min_contig 10000 --cores 8 --v  --seq genome.fasta \" &\n",
      "nohup ssh node014 \"cd /storage3/w/richard/meta2016/JGI38/Klula1; /home/tool/gmes/gmes_petap.pl --ES --fungus  --min_contig 10000 --cores 8 --v  --seq genome.fasta \" &\n",
      "nohup ssh node015 \"cd /storage3/w/richard/meta2016/JGI38/Ashgo1_1; /home/tool/gmes/gmes_petap.pl --ES --fungus  --min_contig 10000 --cores 8 --v  --seq genome.fasta \" &\n",
      "nohup ssh node016 \"cd /storage3/w/richard/meta2016/JGI38/Sacce1; /home/tool/gmes/gmes_petap.pl --ES --fungus  --min_contig 10000 --cores 8 --v  --seq genome.fasta \" &\n",
      "nohup ssh node017 \"cd /storage3/w/richard/meta2016/JGI38/Hanva1_1; /home/tool/gmes/gmes_petap.pl --ES --fungus  --min_contig 10000 --cores 8 --v  --seq genome.fasta \" &\n",
      "nohup ssh node018 \"cd /storage3/w/richard/meta2016/JGI38/Wican1; /home/tool/gmes/gmes_petap.pl --ES --fungus  --min_contig 10000 --cores 8 --v  --seq genome.fasta \" &\n",
      "nohup ssh node020 \"cd /storage3/w/richard/meta2016/JGI38/Ascru1; /home/tool/gmes/gmes_petap.pl --ES --fungus  --min_contig 10000 --cores 8 --v  --seq genome.fasta \" &\n",
      "nohup ssh node021 \"cd /storage3/w/richard/meta2016/JGI38/Nadfu1; /home/tool/gmes/gmes_petap.pl --ES --fungus  --min_contig 10000 --cores 8 --v  --seq genome.fasta \" &\n",
      "nohup ssh node022 \"cd /storage3/w/richard/meta2016/JGI38/Yarli1; /home/tool/gmes/gmes_petap.pl --ES --fungus  --min_contig 10000 --cores 8 --v  --seq genome.fasta \" &\n",
      "nohup ssh node023 \"cd /storage3/w/richard/meta2016/JGI38/Canca1; /home/tool/gmes/gmes_petap.pl --ES --fungus  --min_contig 10000 --cores 8 --v  --seq genome.fasta \" &\n",
      "nohup ssh node024 \"cd /storage3/w/richard/meta2016/JGI38/Lipst1_1; /home/tool/gmes/gmes_petap.pl --ES --fungus  --min_contig 10000 --cores 8 --v  --seq genome.fasta \" &\n",
      "nohup ssh node025 \"cd /storage3/w/richard/meta2016/JGI38/Neucr2; /home/tool/gmes/gmes_petap.pl --ES --fungus  --min_contig 10000 --cores 8 --v  --seq genome.fasta \" &\n",
      "nohup ssh node026 \"cd /storage3/w/richard/meta2016/JGI38/TrireRUTC30_1; /home/tool/gmes/gmes_petap.pl --ES --fungus  --min_contig 10000 --cores 8 --v  --seq genome.fasta \" &\n",
      "nohup ssh node027 \"cd /storage3/w/richard/meta2016/JGI38/Aspnid1; /home/tool/gmes/gmes_petap.pl --ES --fungus  --min_contig 10000 --cores 8 --v  --seq genome.fasta \" &\n",
      "nohup ssh node028 \"cd /storage3/w/richard/meta2016/JGI38/Tubme1; /home/tool/gmes/gmes_petap.pl --ES --fungus  --min_contig 10000 --cores 8 --v  --seq genome.fasta \" &\n",
      "nohup ssh node029 \"cd /storage3/w/richard/meta2016/JGI38/Schpo1; /home/tool/gmes/gmes_petap.pl --ES --fungus  --min_contig 10000 --cores 8 --v  --seq genome.fasta \" &\n",
      "nohup ssh node030 \"cd /storage3/w/richard/meta2016/JGI38/Pneji1; /home/tool/gmes/gmes_petap.pl --ES --fungus  --min_contig 10000 --cores 8 --v  --seq genome.fasta \" &\n",
      "nohup ssh node032 \"cd /storage3/w/richard/meta2016/JGI38/Saico1; /home/tool/gmes/gmes_petap.pl --ES --fungus  --min_contig 10000 --cores 8 --v  --seq genome.fasta \" &\n",
      "nohup ssh node033 \"cd /storage3/w/richard/meta2016/JGI38/Cryne_H99_1; /home/tool/gmes/gmes_petap.pl --ES --fungus  --min_contig 10000 --cores 8 --v  --seq genome.fasta \" &\n",
      "nohup ssh node034 \"cd /storage3/w/richard/meta2016/JGI38/Schco3; /home/tool/gmes/gmes_petap.pl --ES --fungus  --min_contig 10000 --cores 8 --v  --seq genome.fasta \" &\n",
      "nohup ssh node036 \"cd /storage3/w/richard/meta2016/JGI38/Batde5; /home/tool/gmes/gmes_petap.pl --ES --fungus  --min_contig 10000 --cores 8 --v  --seq genome.fasta \" &\n",
      "\n"
     ]
    }
   ],
   "source": [
    "## run partII\n",
    "script = ''\n",
    "for idx in node_idx2:\n",
    "    path = 'cd /storage3/w/richard/meta2016/JGI38/{}'.format(info.shortName[idx])\n",
    "#     command = 'ssh node00{} \"nohup /home/tool/gmes/gmes_petap.pl --ES --fungus  --min_contig 10000 --cores 8 --v  --seq /storage3/w/richard/meta2016/JGI38/{}/genome.fasta &\" \\n'.format(idx,info.shortName[idx])\n",
    "    command = 'nohup ssh node0{} \"{}; /home/tool/gmes/gmes_petap.pl --ES --fungus  --min_contig 10000 --cores 8 --v  --seq genome.fasta \" &\\n'.format(idx,path)\n",
    "    script += command\n",
    "print script\n",
    "with open(\"/home/richard/research/tests/Dec10JGI_Genome_ES/script2.sh\",'w') as f: f.write(script)"
   ]
  },
  {
   "cell_type": "code",
   "execution_count": 53,
   "metadata": {
    "collapsed": false,
    "scrolled": true
   },
   "outputs": [
    {
     "name": "stdout",
     "output_type": "stream",
     "text": [
      "cd /storage3/w/richard/meta2016/JGI38/Spapa3\n",
      "nohup /home/tool/gmes/gmes_petap.pl --ES --fungus  --min_contig 10000 --cores 8 --v  --seq genome.fasta & \n",
      "cd /storage3/w/richard/meta2016/JGI38/Babin1\n",
      "nohup /home/tool/gmes/gmes_petap.pl --ES --fungus  --min_contig 10000 --cores 8 --v  --seq genome.fasta & \n",
      "cd /storage3/w/richard/meta2016/JGI38/Cybja1\n",
      "nohup /home/tool/gmes/gmes_petap.pl --ES --fungus  --min_contig 10000 --cores 8 --v  --seq genome.fasta & \n",
      "cd /storage3/w/richard/meta2016/JGI38/Tapde1_1\n",
      "nohup /home/tool/gmes/gmes_petap.pl --ES --fungus  --min_contig 10000 --cores 8 --v  --seq genome.fasta & \n",
      "cd /storage3/w/richard/meta2016/JGI38/Rhior3\n",
      "nohup /home/tool/gmes/gmes_petap.pl --ES --fungus  --min_contig 10000 --cores 8 --v  --seq genome.fasta & \n",
      "\n"
     ]
    }
   ],
   "source": [
    "## run partIII\n",
    "script = ''\n",
    "for idx in node_idx3:\n",
    "    script += 'cd /storage3/w/richard/meta2016/JGI38/{}\\n'.format(info.shortName[idx])\n",
    "    command = 'nohup /home/tool/gmes/gmes_petap.pl --ES --fungus  --min_contig 10000 --cores 8 --v  --seq genome.fasta & \\n'.format(idx)\n",
    "    script += command\n",
    "print script\n",
    "with open(\"/home/richard/research/tests/Dec10JGI_Genome_ES/script3.sh\",'w') as f: f.write(script)"
   ]
  },
  {
   "cell_type": "code",
   "execution_count": 57,
   "metadata": {
    "collapsed": false
   },
   "outputs": [],
   "source": []
  },
  {
   "cell_type": "code",
   "execution_count": 63,
   "metadata": {
    "collapsed": true
   },
   "outputs": [],
   "source": [
    "## make matrix, make matrix for donor, accpetor, branch point from ES run\n",
    "shortNames = list(info.shortName); shortNames.append('Ustilago_maydis')\n",
    "base = '/home/tool/gmes/make_nt_freq_mat.pl'\n",
    "source = '/storage3/w/richard/meta2016/JGI38/'"
   ]
  },
  {
   "cell_type": "code",
   "execution_count": 66,
   "metadata": {
    "collapsed": false
   },
   "outputs": [
    {
     "name": "stdout",
     "output_type": "stream",
     "text": [
      "/home/tool/gmes/make_nt_freq_mat.pl --in /storage3/w/richard/meta2016/JGI38/Spapa3/run/ES_C_4/don.seq  --order 0  --out /home/richard/research/tests/Dec10JGI_Genome_ES/matrices/donor/Spapa3.don.txt\n",
      "/home/tool/gmes/make_nt_freq_mat.pl --in /storage3/w/richard/meta2016/JGI38/Picst3/run/ES_C_4/don.seq  --order 0  --out /home/richard/research/tests/Dec10JGI_Genome_ES/matrices/donor/Picst3.don.txt\n",
      "/home/tool/gmes/make_nt_freq_mat.pl --in /storage3/w/richard/meta2016/JGI38/Canta1/run/ES_C_4/don.seq  --order 0  --out /home/richard/research/tests/Dec10JGI_Genome_ES/matrices/donor/Canta1.don.txt\n",
      "/home/tool/gmes/make_nt_freq_mat.pl --in /storage3/w/richard/meta2016/JGI38/Debha1/run/ES_C_4/don.seq  --order 0  --out /home/richard/research/tests/Dec10JGI_Genome_ES/matrices/donor/Debha1.don.txt\n",
      "/home/tool/gmes/make_nt_freq_mat.pl --in /storage3/w/richard/meta2016/JGI38/Hypbu1/run/ES_C_4/don.seq  --order 0  --out /home/richard/research/tests/Dec10JGI_Genome_ES/matrices/donor/Hypbu1.don.txt\n",
      "/home/tool/gmes/make_nt_freq_mat.pl --in /storage3/w/richard/meta2016/JGI38/Cante1/run/ES_C_4/don.seq  --order 0  --out /home/richard/research/tests/Dec10JGI_Genome_ES/matrices/donor/Cante1.don.txt\n",
      "/home/tool/gmes/make_nt_freq_mat.pl --in /storage3/w/richard/meta2016/JGI38/Metbi1/run/ES_C_4/don.seq  --order 0  --out /home/richard/research/tests/Dec10JGI_Genome_ES/matrices/donor/Metbi1.don.txt\n",
      "/home/tool/gmes/make_nt_freq_mat.pl --in /storage3/w/richard/meta2016/JGI38/Babin1/run/ES_C_4/don.seq  --order 0  --out /home/richard/research/tests/Dec10JGI_Genome_ES/matrices/donor/Babin1.don.txt\n",
      "/home/tool/gmes/make_nt_freq_mat.pl --in /storage3/w/richard/meta2016/JGI38/Canar1/run/ES_C_4/don.seq  --order 0  --out /home/richard/research/tests/Dec10JGI_Genome_ES/matrices/donor/Canar1.don.txt\n",
      "/home/tool/gmes/make_nt_freq_mat.pl --in /storage3/w/richard/meta2016/JGI38/Hanpo2/run/ES_C_4/don.seq  --order 0  --out /home/richard/research/tests/Dec10JGI_Genome_ES/matrices/donor/Hanpo2.don.txt\n",
      "/home/tool/gmes/make_nt_freq_mat.pl --in /storage3/w/richard/meta2016/JGI38/Picme2/run/ES_C_4/don.seq  --order 0  --out /home/richard/research/tests/Dec10JGI_Genome_ES/matrices/donor/Picme2.don.txt\n",
      "/home/tool/gmes/make_nt_freq_mat.pl --in /storage3/w/richard/meta2016/JGI38/Dekbr2/run/ES_C_4/don.seq  --order 0  --out /home/richard/research/tests/Dec10JGI_Genome_ES/matrices/donor/Dekbr2.don.txt\n",
      "/home/tool/gmes/make_nt_freq_mat.pl --in /storage3/w/richard/meta2016/JGI38/Picpa1/run/ES_C_4/don.seq  --order 0  --out /home/richard/research/tests/Dec10JGI_Genome_ES/matrices/donor/Picpa1.don.txt\n",
      "/home/tool/gmes/make_nt_freq_mat.pl --in /storage3/w/richard/meta2016/JGI38/Pacta1_2/run/ES_C_4/don.seq  --order 0  --out /home/richard/research/tests/Dec10JGI_Genome_ES/matrices/donor/Pacta1_2.don.txt\n",
      "/home/tool/gmes/make_nt_freq_mat.pl --in /storage3/w/richard/meta2016/JGI38/Klula1/run/ES_C_4/don.seq  --order 0  --out /home/richard/research/tests/Dec10JGI_Genome_ES/matrices/donor/Klula1.don.txt\n",
      "/home/tool/gmes/make_nt_freq_mat.pl --in /storage3/w/richard/meta2016/JGI38/Ashgo1_1/run/ES_C_4/don.seq  --order 0  --out /home/richard/research/tests/Dec10JGI_Genome_ES/matrices/donor/Ashgo1_1.don.txt\n",
      "/home/tool/gmes/make_nt_freq_mat.pl --in /storage3/w/richard/meta2016/JGI38/Sacce1/run/ES_C_4/don.seq  --order 0  --out /home/richard/research/tests/Dec10JGI_Genome_ES/matrices/donor/Sacce1.don.txt\n",
      "/home/tool/gmes/make_nt_freq_mat.pl --in /storage3/w/richard/meta2016/JGI38/Hanva1_1/run/ES_C_4/don.seq  --order 0  --out /home/richard/research/tests/Dec10JGI_Genome_ES/matrices/donor/Hanva1_1.don.txt\n",
      "/home/tool/gmes/make_nt_freq_mat.pl --in /storage3/w/richard/meta2016/JGI38/Wican1/run/ES_C_4/don.seq  --order 0  --out /home/richard/research/tests/Dec10JGI_Genome_ES/matrices/donor/Wican1.don.txt\n",
      "/home/tool/gmes/make_nt_freq_mat.pl --in /storage3/w/richard/meta2016/JGI38/Cybja1/run/ES_C_4/don.seq  --order 0  --out /home/richard/research/tests/Dec10JGI_Genome_ES/matrices/donor/Cybja1.don.txt\n",
      "/home/tool/gmes/make_nt_freq_mat.pl --in /storage3/w/richard/meta2016/JGI38/Ascru1/run/ES_C_4/don.seq  --order 0  --out /home/richard/research/tests/Dec10JGI_Genome_ES/matrices/donor/Ascru1.don.txt\n",
      "/home/tool/gmes/make_nt_freq_mat.pl --in /storage3/w/richard/meta2016/JGI38/Nadfu1/run/ES_C_4/don.seq  --order 0  --out /home/richard/research/tests/Dec10JGI_Genome_ES/matrices/donor/Nadfu1.don.txt\n",
      "/home/tool/gmes/make_nt_freq_mat.pl --in /storage3/w/richard/meta2016/JGI38/Yarli1/run/ES_C_4/don.seq  --order 0  --out /home/richard/research/tests/Dec10JGI_Genome_ES/matrices/donor/Yarli1.don.txt\n",
      "/home/tool/gmes/make_nt_freq_mat.pl --in /storage3/w/richard/meta2016/JGI38/Canca1/run/ES_C_4/don.seq  --order 0  --out /home/richard/research/tests/Dec10JGI_Genome_ES/matrices/donor/Canca1.don.txt\n",
      "/home/tool/gmes/make_nt_freq_mat.pl --in /storage3/w/richard/meta2016/JGI38/Lipst1_1/run/ES_C_4/don.seq  --order 0  --out /home/richard/research/tests/Dec10JGI_Genome_ES/matrices/donor/Lipst1_1.don.txt\n",
      "/home/tool/gmes/make_nt_freq_mat.pl --in /storage3/w/richard/meta2016/JGI38/Neucr2/run/ES_C_4/don.seq  --order 0  --out /home/richard/research/tests/Dec10JGI_Genome_ES/matrices/donor/Neucr2.don.txt\n",
      "/home/tool/gmes/make_nt_freq_mat.pl --in /storage3/w/richard/meta2016/JGI38/TrireRUTC30_1/run/ES_C_4/don.seq  --order 0  --out /home/richard/research/tests/Dec10JGI_Genome_ES/matrices/donor/TrireRUTC30_1.don.txt\n",
      "/home/tool/gmes/make_nt_freq_mat.pl --in /storage3/w/richard/meta2016/JGI38/Aspnid1/run/ES_C_4/don.seq  --order 0  --out /home/richard/research/tests/Dec10JGI_Genome_ES/matrices/donor/Aspnid1.don.txt\n",
      "/home/tool/gmes/make_nt_freq_mat.pl --in /storage3/w/richard/meta2016/JGI38/Tubme1/run/ES_C_4/don.seq  --order 0  --out /home/richard/research/tests/Dec10JGI_Genome_ES/matrices/donor/Tubme1.don.txt\n",
      "/home/tool/gmes/make_nt_freq_mat.pl --in /storage3/w/richard/meta2016/JGI38/Schpo1/run/ES_C_4/don.seq  --order 0  --out /home/richard/research/tests/Dec10JGI_Genome_ES/matrices/donor/Schpo1.don.txt\n",
      "/home/tool/gmes/make_nt_freq_mat.pl --in /storage3/w/richard/meta2016/JGI38/Pneji1/run/ES_C_4/don.seq  --order 0  --out /home/richard/research/tests/Dec10JGI_Genome_ES/matrices/donor/Pneji1.don.txt\n",
      "/home/tool/gmes/make_nt_freq_mat.pl --in /storage3/w/richard/meta2016/JGI38/Tapde1_1/run/ES_C_4/don.seq  --order 0  --out /home/richard/research/tests/Dec10JGI_Genome_ES/matrices/donor/Tapde1_1.don.txt\n",
      "/home/tool/gmes/make_nt_freq_mat.pl --in /storage3/w/richard/meta2016/JGI38/Saico1/run/ES_C_4/don.seq  --order 0  --out /home/richard/research/tests/Dec10JGI_Genome_ES/matrices/donor/Saico1.don.txt\n",
      "/home/tool/gmes/make_nt_freq_mat.pl --in /storage3/w/richard/meta2016/JGI38/Cryne_H99_1/run/ES_C_4/don.seq  --order 0  --out /home/richard/research/tests/Dec10JGI_Genome_ES/matrices/donor/Cryne_H99_1.don.txt\n",
      "/home/tool/gmes/make_nt_freq_mat.pl --in /storage3/w/richard/meta2016/JGI38/Schco3/run/ES_C_4/don.seq  --order 0  --out /home/richard/research/tests/Dec10JGI_Genome_ES/matrices/donor/Schco3.don.txt\n",
      "/home/tool/gmes/make_nt_freq_mat.pl --in /storage3/w/richard/meta2016/JGI38/Rhior3/run/ES_C_4/don.seq  --order 0  --out /home/richard/research/tests/Dec10JGI_Genome_ES/matrices/donor/Rhior3.don.txt\n",
      "/home/tool/gmes/make_nt_freq_mat.pl --in /storage3/w/richard/meta2016/JGI38/Batde5/run/ES_C_4/don.seq  --order 0  --out /home/richard/research/tests/Dec10JGI_Genome_ES/matrices/donor/Batde5.don.txt\n",
      "/home/tool/gmes/make_nt_freq_mat.pl --in /storage3/w/richard/meta2016/JGI38/Ustilago_maydis/run/ES_C_4/don.seq  --order 0  --out /home/richard/research/tests/Dec10JGI_Genome_ES/matrices/donor/Ustilago_maydis.don.txt\n"
     ]
    }
   ],
   "source": [
    "## donor matrix\n",
    "target = '/home/richard/research/tests/Dec10JGI_Genome_ES/matrices/donor/'\n",
    "\n",
    "for shortName in shortNames:\n",
    "    aux = '--in {}{}/run/ES_C_4/don.seq  --order 0  --out'.format(source,shortName,)\n",
    "    command = '{} {} {}{}.don.txt'.format(base , aux, target, shortName)\n",
    "    print command\n",
    "    subprocess.check_call(command, shell = True)"
   ]
  },
  {
   "cell_type": "code",
   "execution_count": 67,
   "metadata": {
    "collapsed": false
   },
   "outputs": [
    {
     "name": "stdout",
     "output_type": "stream",
     "text": [
      "/home/tool/gmes/make_nt_freq_mat.pl --in /storage3/w/richard/meta2016/JGI38/Spapa3/run/ES_C_4/acc_short.seq --order 0  --out /home/richard/research/tests/Dec10JGI_Genome_ES/matrices/acceptor/Spapa3.acc.txt\n",
      "/home/tool/gmes/make_nt_freq_mat.pl --in /storage3/w/richard/meta2016/JGI38/Picst3/run/ES_C_4/acc_short.seq --order 0  --out /home/richard/research/tests/Dec10JGI_Genome_ES/matrices/acceptor/Picst3.acc.txt\n",
      "/home/tool/gmes/make_nt_freq_mat.pl --in /storage3/w/richard/meta2016/JGI38/Canta1/run/ES_C_4/acc_short.seq --order 0  --out /home/richard/research/tests/Dec10JGI_Genome_ES/matrices/acceptor/Canta1.acc.txt\n",
      "/home/tool/gmes/make_nt_freq_mat.pl --in /storage3/w/richard/meta2016/JGI38/Debha1/run/ES_C_4/acc_short.seq --order 0  --out /home/richard/research/tests/Dec10JGI_Genome_ES/matrices/acceptor/Debha1.acc.txt\n",
      "/home/tool/gmes/make_nt_freq_mat.pl --in /storage3/w/richard/meta2016/JGI38/Hypbu1/run/ES_C_4/acc_short.seq --order 0  --out /home/richard/research/tests/Dec10JGI_Genome_ES/matrices/acceptor/Hypbu1.acc.txt\n",
      "/home/tool/gmes/make_nt_freq_mat.pl --in /storage3/w/richard/meta2016/JGI38/Cante1/run/ES_C_4/acc_short.seq --order 0  --out /home/richard/research/tests/Dec10JGI_Genome_ES/matrices/acceptor/Cante1.acc.txt\n",
      "/home/tool/gmes/make_nt_freq_mat.pl --in /storage3/w/richard/meta2016/JGI38/Metbi1/run/ES_C_4/acc_short.seq --order 0  --out /home/richard/research/tests/Dec10JGI_Genome_ES/matrices/acceptor/Metbi1.acc.txt\n",
      "/home/tool/gmes/make_nt_freq_mat.pl --in /storage3/w/richard/meta2016/JGI38/Babin1/run/ES_C_4/acc_short.seq --order 0  --out /home/richard/research/tests/Dec10JGI_Genome_ES/matrices/acceptor/Babin1.acc.txt\n",
      "/home/tool/gmes/make_nt_freq_mat.pl --in /storage3/w/richard/meta2016/JGI38/Canar1/run/ES_C_4/acc_short.seq --order 0  --out /home/richard/research/tests/Dec10JGI_Genome_ES/matrices/acceptor/Canar1.acc.txt\n",
      "/home/tool/gmes/make_nt_freq_mat.pl --in /storage3/w/richard/meta2016/JGI38/Hanpo2/run/ES_C_4/acc_short.seq --order 0  --out /home/richard/research/tests/Dec10JGI_Genome_ES/matrices/acceptor/Hanpo2.acc.txt\n",
      "/home/tool/gmes/make_nt_freq_mat.pl --in /storage3/w/richard/meta2016/JGI38/Picme2/run/ES_C_4/acc_short.seq --order 0  --out /home/richard/research/tests/Dec10JGI_Genome_ES/matrices/acceptor/Picme2.acc.txt\n",
      "/home/tool/gmes/make_nt_freq_mat.pl --in /storage3/w/richard/meta2016/JGI38/Dekbr2/run/ES_C_4/acc_short.seq --order 0  --out /home/richard/research/tests/Dec10JGI_Genome_ES/matrices/acceptor/Dekbr2.acc.txt\n",
      "/home/tool/gmes/make_nt_freq_mat.pl --in /storage3/w/richard/meta2016/JGI38/Picpa1/run/ES_C_4/acc_short.seq --order 0  --out /home/richard/research/tests/Dec10JGI_Genome_ES/matrices/acceptor/Picpa1.acc.txt\n",
      "/home/tool/gmes/make_nt_freq_mat.pl --in /storage3/w/richard/meta2016/JGI38/Pacta1_2/run/ES_C_4/acc_short.seq --order 0  --out /home/richard/research/tests/Dec10JGI_Genome_ES/matrices/acceptor/Pacta1_2.acc.txt\n",
      "/home/tool/gmes/make_nt_freq_mat.pl --in /storage3/w/richard/meta2016/JGI38/Klula1/run/ES_C_4/acc_short.seq --order 0  --out /home/richard/research/tests/Dec10JGI_Genome_ES/matrices/acceptor/Klula1.acc.txt\n",
      "/home/tool/gmes/make_nt_freq_mat.pl --in /storage3/w/richard/meta2016/JGI38/Ashgo1_1/run/ES_C_4/acc_short.seq --order 0  --out /home/richard/research/tests/Dec10JGI_Genome_ES/matrices/acceptor/Ashgo1_1.acc.txt\n",
      "/home/tool/gmes/make_nt_freq_mat.pl --in /storage3/w/richard/meta2016/JGI38/Sacce1/run/ES_C_4/acc_short.seq --order 0  --out /home/richard/research/tests/Dec10JGI_Genome_ES/matrices/acceptor/Sacce1.acc.txt\n",
      "/home/tool/gmes/make_nt_freq_mat.pl --in /storage3/w/richard/meta2016/JGI38/Hanva1_1/run/ES_C_4/acc_short.seq --order 0  --out /home/richard/research/tests/Dec10JGI_Genome_ES/matrices/acceptor/Hanva1_1.acc.txt\n",
      "/home/tool/gmes/make_nt_freq_mat.pl --in /storage3/w/richard/meta2016/JGI38/Wican1/run/ES_C_4/acc_short.seq --order 0  --out /home/richard/research/tests/Dec10JGI_Genome_ES/matrices/acceptor/Wican1.acc.txt\n",
      "/home/tool/gmes/make_nt_freq_mat.pl --in /storage3/w/richard/meta2016/JGI38/Cybja1/run/ES_C_4/acc_short.seq --order 0  --out /home/richard/research/tests/Dec10JGI_Genome_ES/matrices/acceptor/Cybja1.acc.txt\n",
      "/home/tool/gmes/make_nt_freq_mat.pl --in /storage3/w/richard/meta2016/JGI38/Ascru1/run/ES_C_4/acc_short.seq --order 0  --out /home/richard/research/tests/Dec10JGI_Genome_ES/matrices/acceptor/Ascru1.acc.txt\n",
      "/home/tool/gmes/make_nt_freq_mat.pl --in /storage3/w/richard/meta2016/JGI38/Nadfu1/run/ES_C_4/acc_short.seq --order 0  --out /home/richard/research/tests/Dec10JGI_Genome_ES/matrices/acceptor/Nadfu1.acc.txt\n",
      "/home/tool/gmes/make_nt_freq_mat.pl --in /storage3/w/richard/meta2016/JGI38/Yarli1/run/ES_C_4/acc_short.seq --order 0  --out /home/richard/research/tests/Dec10JGI_Genome_ES/matrices/acceptor/Yarli1.acc.txt\n",
      "/home/tool/gmes/make_nt_freq_mat.pl --in /storage3/w/richard/meta2016/JGI38/Canca1/run/ES_C_4/acc_short.seq --order 0  --out /home/richard/research/tests/Dec10JGI_Genome_ES/matrices/acceptor/Canca1.acc.txt\n",
      "/home/tool/gmes/make_nt_freq_mat.pl --in /storage3/w/richard/meta2016/JGI38/Lipst1_1/run/ES_C_4/acc_short.seq --order 0  --out /home/richard/research/tests/Dec10JGI_Genome_ES/matrices/acceptor/Lipst1_1.acc.txt\n",
      "/home/tool/gmes/make_nt_freq_mat.pl --in /storage3/w/richard/meta2016/JGI38/Neucr2/run/ES_C_4/acc_short.seq --order 0  --out /home/richard/research/tests/Dec10JGI_Genome_ES/matrices/acceptor/Neucr2.acc.txt\n",
      "/home/tool/gmes/make_nt_freq_mat.pl --in /storage3/w/richard/meta2016/JGI38/TrireRUTC30_1/run/ES_C_4/acc_short.seq --order 0  --out /home/richard/research/tests/Dec10JGI_Genome_ES/matrices/acceptor/TrireRUTC30_1.acc.txt\n",
      "/home/tool/gmes/make_nt_freq_mat.pl --in /storage3/w/richard/meta2016/JGI38/Aspnid1/run/ES_C_4/acc_short.seq --order 0  --out /home/richard/research/tests/Dec10JGI_Genome_ES/matrices/acceptor/Aspnid1.acc.txt\n",
      "/home/tool/gmes/make_nt_freq_mat.pl --in /storage3/w/richard/meta2016/JGI38/Tubme1/run/ES_C_4/acc_short.seq --order 0  --out /home/richard/research/tests/Dec10JGI_Genome_ES/matrices/acceptor/Tubme1.acc.txt\n",
      "/home/tool/gmes/make_nt_freq_mat.pl --in /storage3/w/richard/meta2016/JGI38/Schpo1/run/ES_C_4/acc_short.seq --order 0  --out /home/richard/research/tests/Dec10JGI_Genome_ES/matrices/acceptor/Schpo1.acc.txt\n",
      "/home/tool/gmes/make_nt_freq_mat.pl --in /storage3/w/richard/meta2016/JGI38/Pneji1/run/ES_C_4/acc_short.seq --order 0  --out /home/richard/research/tests/Dec10JGI_Genome_ES/matrices/acceptor/Pneji1.acc.txt\n",
      "/home/tool/gmes/make_nt_freq_mat.pl --in /storage3/w/richard/meta2016/JGI38/Tapde1_1/run/ES_C_4/acc_short.seq --order 0  --out /home/richard/research/tests/Dec10JGI_Genome_ES/matrices/acceptor/Tapde1_1.acc.txt\n",
      "/home/tool/gmes/make_nt_freq_mat.pl --in /storage3/w/richard/meta2016/JGI38/Saico1/run/ES_C_4/acc_short.seq --order 0  --out /home/richard/research/tests/Dec10JGI_Genome_ES/matrices/acceptor/Saico1.acc.txt\n",
      "/home/tool/gmes/make_nt_freq_mat.pl --in /storage3/w/richard/meta2016/JGI38/Cryne_H99_1/run/ES_C_4/acc_short.seq --order 0  --out /home/richard/research/tests/Dec10JGI_Genome_ES/matrices/acceptor/Cryne_H99_1.acc.txt\n",
      "/home/tool/gmes/make_nt_freq_mat.pl --in /storage3/w/richard/meta2016/JGI38/Schco3/run/ES_C_4/acc_short.seq --order 0  --out /home/richard/research/tests/Dec10JGI_Genome_ES/matrices/acceptor/Schco3.acc.txt\n",
      "/home/tool/gmes/make_nt_freq_mat.pl --in /storage3/w/richard/meta2016/JGI38/Rhior3/run/ES_C_4/acc_short.seq --order 0  --out /home/richard/research/tests/Dec10JGI_Genome_ES/matrices/acceptor/Rhior3.acc.txt\n",
      "/home/tool/gmes/make_nt_freq_mat.pl --in /storage3/w/richard/meta2016/JGI38/Batde5/run/ES_C_4/acc_short.seq --order 0  --out /home/richard/research/tests/Dec10JGI_Genome_ES/matrices/acceptor/Batde5.acc.txt\n",
      "/home/tool/gmes/make_nt_freq_mat.pl --in /storage3/w/richard/meta2016/JGI38/Ustilago_maydis/run/ES_C_4/acc_short.seq --order 0  --out /home/richard/research/tests/Dec10JGI_Genome_ES/matrices/acceptor/Ustilago_maydis.acc.txt\n"
     ]
    }
   ],
   "source": [
    "## acceptor matrix\n",
    "target = '/home/richard/research/tests/Dec10JGI_Genome_ES/matrices/acceptor/'\n",
    "\n",
    "for shortName in shortNames:\n",
    "    aux = '--in {}{}/run/ES_C_4/acc_short.seq --order 0  --out'.format(source,shortName,)\n",
    "    command = '{} {} {}{}.acc.txt'.format(base , aux, target, shortName)\n",
    "    print command\n",
    "    subprocess.check_call(command, shell = True)"
   ]
  },
  {
   "cell_type": "code",
   "execution_count": 68,
   "metadata": {
    "collapsed": false
   },
   "outputs": [
    {
     "name": "stdout",
     "output_type": "stream",
     "text": [
      "/home/tool/gmes/make_nt_freq_mat.pl --in /storage3/w/richard/meta2016/JGI38/Spapa3/run/ES_C_4/bp.seq --order 0  --out /home/richard/research/tests/Dec10JGI_Genome_ES/matrices/bp/Spapa3.bp.txt\n",
      "/home/tool/gmes/make_nt_freq_mat.pl --in /storage3/w/richard/meta2016/JGI38/Picst3/run/ES_C_4/bp.seq --order 0  --out /home/richard/research/tests/Dec10JGI_Genome_ES/matrices/bp/Picst3.bp.txt\n",
      "/home/tool/gmes/make_nt_freq_mat.pl --in /storage3/w/richard/meta2016/JGI38/Canta1/run/ES_C_4/bp.seq --order 0  --out /home/richard/research/tests/Dec10JGI_Genome_ES/matrices/bp/Canta1.bp.txt\n",
      "/home/tool/gmes/make_nt_freq_mat.pl --in /storage3/w/richard/meta2016/JGI38/Debha1/run/ES_C_4/bp.seq --order 0  --out /home/richard/research/tests/Dec10JGI_Genome_ES/matrices/bp/Debha1.bp.txt\n",
      "/home/tool/gmes/make_nt_freq_mat.pl --in /storage3/w/richard/meta2016/JGI38/Hypbu1/run/ES_C_4/bp.seq --order 0  --out /home/richard/research/tests/Dec10JGI_Genome_ES/matrices/bp/Hypbu1.bp.txt\n",
      "/home/tool/gmes/make_nt_freq_mat.pl --in /storage3/w/richard/meta2016/JGI38/Cante1/run/ES_C_4/bp.seq --order 0  --out /home/richard/research/tests/Dec10JGI_Genome_ES/matrices/bp/Cante1.bp.txt\n",
      "/home/tool/gmes/make_nt_freq_mat.pl --in /storage3/w/richard/meta2016/JGI38/Metbi1/run/ES_C_4/bp.seq --order 0  --out /home/richard/research/tests/Dec10JGI_Genome_ES/matrices/bp/Metbi1.bp.txt\n",
      "/home/tool/gmes/make_nt_freq_mat.pl --in /storage3/w/richard/meta2016/JGI38/Babin1/run/ES_C_4/bp.seq --order 0  --out /home/richard/research/tests/Dec10JGI_Genome_ES/matrices/bp/Babin1.bp.txt\n",
      "/home/tool/gmes/make_nt_freq_mat.pl --in /storage3/w/richard/meta2016/JGI38/Canar1/run/ES_C_4/bp.seq --order 0  --out /home/richard/research/tests/Dec10JGI_Genome_ES/matrices/bp/Canar1.bp.txt\n",
      "/home/tool/gmes/make_nt_freq_mat.pl --in /storage3/w/richard/meta2016/JGI38/Hanpo2/run/ES_C_4/bp.seq --order 0  --out /home/richard/research/tests/Dec10JGI_Genome_ES/matrices/bp/Hanpo2.bp.txt\n",
      "/home/tool/gmes/make_nt_freq_mat.pl --in /storage3/w/richard/meta2016/JGI38/Picme2/run/ES_C_4/bp.seq --order 0  --out /home/richard/research/tests/Dec10JGI_Genome_ES/matrices/bp/Picme2.bp.txt\n",
      "/home/tool/gmes/make_nt_freq_mat.pl --in /storage3/w/richard/meta2016/JGI38/Dekbr2/run/ES_C_4/bp.seq --order 0  --out /home/richard/research/tests/Dec10JGI_Genome_ES/matrices/bp/Dekbr2.bp.txt\n",
      "/home/tool/gmes/make_nt_freq_mat.pl --in /storage3/w/richard/meta2016/JGI38/Picpa1/run/ES_C_4/bp.seq --order 0  --out /home/richard/research/tests/Dec10JGI_Genome_ES/matrices/bp/Picpa1.bp.txt\n",
      "/home/tool/gmes/make_nt_freq_mat.pl --in /storage3/w/richard/meta2016/JGI38/Pacta1_2/run/ES_C_4/bp.seq --order 0  --out /home/richard/research/tests/Dec10JGI_Genome_ES/matrices/bp/Pacta1_2.bp.txt\n",
      "/home/tool/gmes/make_nt_freq_mat.pl --in /storage3/w/richard/meta2016/JGI38/Klula1/run/ES_C_4/bp.seq --order 0  --out /home/richard/research/tests/Dec10JGI_Genome_ES/matrices/bp/Klula1.bp.txt\n",
      "/home/tool/gmes/make_nt_freq_mat.pl --in /storage3/w/richard/meta2016/JGI38/Ashgo1_1/run/ES_C_4/bp.seq --order 0  --out /home/richard/research/tests/Dec10JGI_Genome_ES/matrices/bp/Ashgo1_1.bp.txt\n",
      "/home/tool/gmes/make_nt_freq_mat.pl --in /storage3/w/richard/meta2016/JGI38/Sacce1/run/ES_C_4/bp.seq --order 0  --out /home/richard/research/tests/Dec10JGI_Genome_ES/matrices/bp/Sacce1.bp.txt\n",
      "/home/tool/gmes/make_nt_freq_mat.pl --in /storage3/w/richard/meta2016/JGI38/Hanva1_1/run/ES_C_4/bp.seq --order 0  --out /home/richard/research/tests/Dec10JGI_Genome_ES/matrices/bp/Hanva1_1.bp.txt\n",
      "/home/tool/gmes/make_nt_freq_mat.pl --in /storage3/w/richard/meta2016/JGI38/Wican1/run/ES_C_4/bp.seq --order 0  --out /home/richard/research/tests/Dec10JGI_Genome_ES/matrices/bp/Wican1.bp.txt\n",
      "/home/tool/gmes/make_nt_freq_mat.pl --in /storage3/w/richard/meta2016/JGI38/Cybja1/run/ES_C_4/bp.seq --order 0  --out /home/richard/research/tests/Dec10JGI_Genome_ES/matrices/bp/Cybja1.bp.txt\n",
      "/home/tool/gmes/make_nt_freq_mat.pl --in /storage3/w/richard/meta2016/JGI38/Ascru1/run/ES_C_4/bp.seq --order 0  --out /home/richard/research/tests/Dec10JGI_Genome_ES/matrices/bp/Ascru1.bp.txt\n",
      "/home/tool/gmes/make_nt_freq_mat.pl --in /storage3/w/richard/meta2016/JGI38/Nadfu1/run/ES_C_4/bp.seq --order 0  --out /home/richard/research/tests/Dec10JGI_Genome_ES/matrices/bp/Nadfu1.bp.txt\n",
      "/home/tool/gmes/make_nt_freq_mat.pl --in /storage3/w/richard/meta2016/JGI38/Yarli1/run/ES_C_4/bp.seq --order 0  --out /home/richard/research/tests/Dec10JGI_Genome_ES/matrices/bp/Yarli1.bp.txt\n",
      "/home/tool/gmes/make_nt_freq_mat.pl --in /storage3/w/richard/meta2016/JGI38/Canca1/run/ES_C_4/bp.seq --order 0  --out /home/richard/research/tests/Dec10JGI_Genome_ES/matrices/bp/Canca1.bp.txt\n",
      "/home/tool/gmes/make_nt_freq_mat.pl --in /storage3/w/richard/meta2016/JGI38/Lipst1_1/run/ES_C_4/bp.seq --order 0  --out /home/richard/research/tests/Dec10JGI_Genome_ES/matrices/bp/Lipst1_1.bp.txt\n",
      "/home/tool/gmes/make_nt_freq_mat.pl --in /storage3/w/richard/meta2016/JGI38/Neucr2/run/ES_C_4/bp.seq --order 0  --out /home/richard/research/tests/Dec10JGI_Genome_ES/matrices/bp/Neucr2.bp.txt\n",
      "/home/tool/gmes/make_nt_freq_mat.pl --in /storage3/w/richard/meta2016/JGI38/TrireRUTC30_1/run/ES_C_4/bp.seq --order 0  --out /home/richard/research/tests/Dec10JGI_Genome_ES/matrices/bp/TrireRUTC30_1.bp.txt\n",
      "/home/tool/gmes/make_nt_freq_mat.pl --in /storage3/w/richard/meta2016/JGI38/Aspnid1/run/ES_C_4/bp.seq --order 0  --out /home/richard/research/tests/Dec10JGI_Genome_ES/matrices/bp/Aspnid1.bp.txt\n",
      "/home/tool/gmes/make_nt_freq_mat.pl --in /storage3/w/richard/meta2016/JGI38/Tubme1/run/ES_C_4/bp.seq --order 0  --out /home/richard/research/tests/Dec10JGI_Genome_ES/matrices/bp/Tubme1.bp.txt\n",
      "/home/tool/gmes/make_nt_freq_mat.pl --in /storage3/w/richard/meta2016/JGI38/Schpo1/run/ES_C_4/bp.seq --order 0  --out /home/richard/research/tests/Dec10JGI_Genome_ES/matrices/bp/Schpo1.bp.txt\n",
      "/home/tool/gmes/make_nt_freq_mat.pl --in /storage3/w/richard/meta2016/JGI38/Pneji1/run/ES_C_4/bp.seq --order 0  --out /home/richard/research/tests/Dec10JGI_Genome_ES/matrices/bp/Pneji1.bp.txt\n",
      "/home/tool/gmes/make_nt_freq_mat.pl --in /storage3/w/richard/meta2016/JGI38/Tapde1_1/run/ES_C_4/bp.seq --order 0  --out /home/richard/research/tests/Dec10JGI_Genome_ES/matrices/bp/Tapde1_1.bp.txt\n",
      "/home/tool/gmes/make_nt_freq_mat.pl --in /storage3/w/richard/meta2016/JGI38/Saico1/run/ES_C_4/bp.seq --order 0  --out /home/richard/research/tests/Dec10JGI_Genome_ES/matrices/bp/Saico1.bp.txt\n",
      "/home/tool/gmes/make_nt_freq_mat.pl --in /storage3/w/richard/meta2016/JGI38/Cryne_H99_1/run/ES_C_4/bp.seq --order 0  --out /home/richard/research/tests/Dec10JGI_Genome_ES/matrices/bp/Cryne_H99_1.bp.txt\n",
      "/home/tool/gmes/make_nt_freq_mat.pl --in /storage3/w/richard/meta2016/JGI38/Schco3/run/ES_C_4/bp.seq --order 0  --out /home/richard/research/tests/Dec10JGI_Genome_ES/matrices/bp/Schco3.bp.txt\n",
      "/home/tool/gmes/make_nt_freq_mat.pl --in /storage3/w/richard/meta2016/JGI38/Rhior3/run/ES_C_4/bp.seq --order 0  --out /home/richard/research/tests/Dec10JGI_Genome_ES/matrices/bp/Rhior3.bp.txt\n",
      "/home/tool/gmes/make_nt_freq_mat.pl --in /storage3/w/richard/meta2016/JGI38/Batde5/run/ES_C_4/bp.seq --order 0  --out /home/richard/research/tests/Dec10JGI_Genome_ES/matrices/bp/Batde5.bp.txt\n",
      "/home/tool/gmes/make_nt_freq_mat.pl --in /storage3/w/richard/meta2016/JGI38/Ustilago_maydis/run/ES_C_4/bp.seq --order 0  --out /home/richard/research/tests/Dec10JGI_Genome_ES/matrices/bp/Ustilago_maydis.bp.txt\n"
     ]
    }
   ],
   "source": [
    "## bp matrix\n",
    "target = '/home/richard/research/tests/Dec10JGI_Genome_ES/matrices/bp/'\n",
    "\n",
    "for shortName in shortNames:\n",
    "    aux = '--in {}{}/run/ES_C_4/bp.seq --order 0  --out'.format(source,shortName,)\n",
    "    command = '{} {} {}{}.bp.txt'.format(base , aux, target, shortName)\n",
    "    print command\n",
    "    subprocess.check_call(command, shell = True)"
   ]
  },
  {
   "cell_type": "code",
   "execution_count": 69,
   "metadata": {
    "collapsed": false
   },
   "outputs": [
    {
     "name": "stdout",
     "output_type": "stream",
     "text": [
      "['Spapa3', 'Picst3', 'Canta1', 'Debha1', 'Hypbu1', 'Cante1', 'Metbi1', 'Babin1', 'Canar1', 'Hanpo2', 'Picme2', 'Dekbr2', 'Picpa1', 'Pacta1_2', 'Klula1', 'Ashgo1_1', 'Sacce1', 'Hanva1_1', 'Wican1', 'Cybja1', 'Ascru1', 'Nadfu1', 'Yarli1', 'Canca1', 'Lipst1_1', 'Neucr2', 'TrireRUTC30_1', 'Aspnid1', 'Tubme1', 'Schpo1', 'Pneji1', 'Tapde1_1', 'Saico1', 'Cryne_H99_1', 'Schco3', 'Rhior3', 'Batde5', 'Ustilago_maydis']\n"
     ]
    }
   ],
   "source": [
    "print shortNames"
   ]
  },
  {
   "cell_type": "code",
   "execution_count": 81,
   "metadata": {
    "collapsed": false
   },
   "outputs": [],
   "source": [
    "## adjust Ustilago_maydis's annotation for eval\n",
    "with open(\"/home/richard/research/tests/Dec10JGI_Genome_ES/Ustilago_maydis/Ustilago_maydis.genemark.gtf\") as f:\n",
    "    with open(\"/home/richard/research/tests/Dec10JGI_Genome_ES/Ustilago_maydis/Ustilago_maydis_cleaned.genemark.gtf\", 'w') as f1:\n",
    "        for line in f:\n",
    "            elems = line.split(', whole genome shotgun sequence')\n",
    "            target = elems[0].split('Ustilago maydis 521 ')[1]\n",
    "            name = ''.join(target.split())\n",
    "            f1.write(name+elems[1])"
   ]
  },
  {
   "cell_type": "code",
   "execution_count": null,
   "metadata": {
    "collapsed": true
   },
   "outputs": [],
   "source": []
  }
 ],
 "metadata": {
  "kernelspec": {
   "display_name": "Python 2",
   "language": "python",
   "name": "python2"
  },
  "language_info": {
   "codemirror_mode": {
    "name": "ipython",
    "version": 2
   },
   "file_extension": ".py",
   "mimetype": "text/x-python",
   "name": "python",
   "nbconvert_exporter": "python",
   "pygments_lexer": "ipython2",
   "version": "2.7.10"
  }
 },
 "nbformat": 4,
 "nbformat_minor": 0
}
