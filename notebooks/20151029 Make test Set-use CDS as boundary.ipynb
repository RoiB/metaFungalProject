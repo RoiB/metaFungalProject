{
 "cells": [
  {
   "cell_type": "code",
   "execution_count": 2,
   "metadata": {
    "collapsed": true
   },
   "outputs": [],
   "source": [
    "### ignore wrong start and stop with different choice of choosing the boudary\n",
    "### use the leftmost or rightmost as boudary and not neccessarily start or stop"
   ]
  },
  {
   "cell_type": "code",
   "execution_count": 3,
   "metadata": {
    "collapsed": false
   },
   "outputs": [],
   "source": [
    "import sys; sys.path.append(\"/home/richard/research/tools/\")\n",
    "import GenerateTestSetModuleV1\n",
    "\n",
    "import subprocess"
   ]
  },
  {
   "cell_type": "markdown",
   "metadata": {},
   "source": [
    "## Officially start to build test set"
   ]
  },
  {
   "cell_type": "code",
   "execution_count": 4,
   "metadata": {
    "collapsed": false
   },
   "outputs": [],
   "source": [
    "GtfSource = '/storage3/w/richard/meta2015/finalTestSet20151002/gtf_converted_from_gff/'\n",
    "mixAnnotationFiles = os.listdir(GtfSource)\n",
    "good_annotation = filter(lambda x: 'good' in x, mixAnnotationFiles)\n",
    "shortNames = map(lambda x: x.split('_GeneCatalog')[0], good_annotation)\n",
    "multiGtfTarget = '/home/richard/research/tests/Oct28TestSet/goodMultiExonGtf/'\n",
    "multiGtfNames = []"
   ]
  },
  {
   "cell_type": "code",
   "execution_count": 5,
   "metadata": {
    "collapsed": false
   },
   "outputs": [],
   "source": [
    "fastaSource = '/storage3/w/richard/meta2015/placeForRNASeq/'\n",
    "fastafiles = [filter(lambda x: '.fasta' in x and '.gz' not in x, os.listdir(fastaSource+shortName+'/data')) for shortName in shortNames]\n",
    "fastafiles = [item[0] for item in fastafiles]"
   ]
  },
  {
   "cell_type": "code",
   "execution_count": 6,
   "metadata": {
    "collapsed": true
   },
   "outputs": [],
   "source": [
    "targetFastaLocation = '/home/richard/research/tests/Oct30NewTestSet/TestSetCutFastaFixedCDS/'\n",
    "targetGtfLocation = '/home/richard/research/tests/Oct30NewTestSet/TestSetMultiExonGtfFixedCDS/'"
   ]
  },
  {
   "cell_type": "markdown",
   "metadata": {},
   "source": [
    "1) pick multi-gene"
   ]
  },
  {
   "cell_type": "code",
   "execution_count": 7,
   "metadata": {
    "collapsed": false
   },
   "outputs": [
    {
     "name": "stdout",
     "output_type": "stream",
     "text": [
      "python /home/richard/research/tools/pickMultiGene.py /storage3/w/richard/meta2015/finalTestSet20151002/gtf_converted_from_gff/Ophdi1_GeneCatalog_genes_20140614.f.good.gtf /home/richard/research/tests/Oct28TestSet/goodMultiExonGtf/Ophdi1_GeneCatalog_genes_20140614.f.good.multiExon.gtf\n",
      "python /home/richard/research/tools/pickMultiGene.py /storage3/w/richard/meta2015/finalTestSet20151002/gtf_converted_from_gff/Spofi1_GeneCatalog_genes_20130818.f.good.gtf /home/richard/research/tests/Oct28TestSet/goodMultiExonGtf/Spofi1_GeneCatalog_genes_20130818.f.good.multiExon.gtf\n",
      "python /home/richard/research/tools/pickMultiGene.py /storage3/w/richard/meta2015/finalTestSet20151002/gtf_converted_from_gff/Gloin1_GeneCatalog_genes_20120510.f.good.gtf /home/richard/research/tests/Oct28TestSet/goodMultiExonGtf/Gloin1_GeneCatalog_genes_20120510.f.good.multiExon.gtf\n",
      "python /home/richard/research/tools/pickMultiGene.py /storage3/w/richard/meta2015/finalTestSet20151002/gtf_converted_from_gff/Trias1_GeneCatalog_genes_20120305.f.good.gtf /home/richard/research/tests/Oct28TestSet/goodMultiExonGtf/Trias1_GeneCatalog_genes_20120305.f.good.multiExon.gtf\n",
      "python /home/richard/research/tools/pickMultiGene.py /storage3/w/richard/meta2015/finalTestSet20151002/gtf_converted_from_gff/Cenge3_GeneCatalog_genes_20130403.f.good.gtf /home/richard/research/tests/Oct28TestSet/goodMultiExonGtf/Cenge3_GeneCatalog_genes_20130403.f.good.multiExon.gtf\n",
      "python /home/richard/research/tools/pickMultiGene.py /storage3/w/richard/meta2015/finalTestSet20151002/gtf_converted_from_gff/Sphst1_GeneCatalog_genes_20120430.f.good.gtf /home/richard/research/tests/Oct28TestSet/goodMultiExonGtf/Sphst1_GeneCatalog_genes_20120430.f.good.multiExon.gtf\n",
      "python /home/richard/research/tools/pickMultiGene.py /storage3/w/richard/meta2015/finalTestSet20151002/gtf_converted_from_gff/Phchr2_GeneCatalog_genes_20131210.f.good.gtf /home/richard/research/tests/Oct28TestSet/goodMultiExonGtf/Phchr2_GeneCatalog_genes_20131210.f.good.multiExon.gtf\n",
      "python /home/richard/research/tools/pickMultiGene.py /storage3/w/richard/meta2015/finalTestSet20151002/gtf_converted_from_gff/HypEC38_1_GeneCatalog_genes_20120308.f.good.gtf /home/richard/research/tests/Oct28TestSet/goodMultiExonGtf/HypEC38_1_GeneCatalog_genes_20120308.f.good.multiExon.gtf\n",
      "python /home/richard/research/tools/pickMultiGene.py /storage3/w/richard/meta2015/finalTestSet20151002/gtf_converted_from_gff/Conco1_GeneCatalog_genes_20120213.f.good.gtf /home/richard/research/tests/Oct28TestSet/goodMultiExonGtf/Conco1_GeneCatalog_genes_20120213.f.good.multiExon.gtf\n",
      "python /home/richard/research/tools/pickMultiGene.py /storage3/w/richard/meta2015/finalTestSet20151002/gtf_converted_from_gff/Croqu1_GeneCatalog_genes_20120612.f.good.gtf /home/richard/research/tests/Oct28TestSet/goodMultiExonGtf/Croqu1_GeneCatalog_genes_20120612.f.good.multiExon.gtf\n",
      "python /home/richard/research/tools/pickMultiGene.py /storage3/w/richard/meta2015/finalTestSet20151002/gtf_converted_from_gff/Obbri1_GeneCatalog_genes_20140615.f.good.gtf /home/richard/research/tests/Oct28TestSet/goodMultiExonGtf/Obbri1_GeneCatalog_genes_20140615.f.good.multiExon.gtf\n",
      "python /home/richard/research/tools/pickMultiGene.py /storage3/w/richard/meta2015/finalTestSet20151002/gtf_converted_from_gff/Aspoch1_GeneCatalog_genes_20140127.f.good.gtf /home/richard/research/tests/Oct28TestSet/goodMultiExonGtf/Aspoch1_GeneCatalog_genes_20140127.f.good.multiExon.gtf\n",
      "python /home/richard/research/tools/pickMultiGene.py /storage3/w/richard/meta2015/finalTestSet20151002/gtf_converted_from_gff/Aurvu1_GeneCatalog_genes_20140723.f.good.gtf /home/richard/research/tests/Oct28TestSet/goodMultiExonGtf/Aurvu1_GeneCatalog_genes_20140723.f.good.multiExon.gtf\n",
      "python /home/richard/research/tools/pickMultiGene.py /storage3/w/richard/meta2015/finalTestSet20151002/gtf_converted_from_gff/Pneji1_GeneCatalog_genes_20130607.f.good.gtf /home/richard/research/tests/Oct28TestSet/goodMultiExonGtf/Pneji1_GeneCatalog_genes_20130607.f.good.multiExon.gtf\n",
      "python /home/richard/research/tools/pickMultiGene.py /storage3/w/richard/meta2015/finalTestSet20151002/gtf_converted_from_gff/Disac1_GeneCatalog_genes_20130805.f.good.gtf /home/richard/research/tests/Oct28TestSet/goodMultiExonGtf/Disac1_GeneCatalog_genes_20130805.f.good.multiExon.gtf\n",
      "python /home/richard/research/tools/pickMultiGene.py /storage3/w/richard/meta2015/finalTestSet20151002/gtf_converted_from_gff/Neopa1_GeneCatalog_genes_20130909.f.good.gtf /home/richard/research/tests/Oct28TestSet/goodMultiExonGtf/Neopa1_GeneCatalog_genes_20130909.f.good.multiExon.gtf\n",
      "python /home/richard/research/tools/pickMultiGene.py /storage3/w/richard/meta2015/finalTestSet20151002/gtf_converted_from_gff/Veren1_GeneCatalog_genes_20140626.f.good.gtf /home/richard/research/tests/Oct28TestSet/goodMultiExonGtf/Veren1_GeneCatalog_genes_20140626.f.good.multiExon.gtf\n",
      "python /home/richard/research/tools/pickMultiGene.py /storage3/w/richard/meta2015/finalTestSet20151002/gtf_converted_from_gff/SerlaS7_9_2_GeneCatalog_genes_20120319.f.good.gtf /home/richard/research/tests/Oct28TestSet/goodMultiExonGtf/SerlaS7_9_2_GeneCatalog_genes_20120319.f.good.multiExon.gtf\n",
      "python /home/richard/research/tools/pickMultiGene.py /storage3/w/richard/meta2015/finalTestSet20151002/gtf_converted_from_gff/Hebcy2_GeneCatalog_genes_20120913.f.good.gtf /home/richard/research/tests/Oct28TestSet/goodMultiExonGtf/Hebcy2_GeneCatalog_genes_20120913.f.good.multiExon.gtf\n",
      "python /home/richard/research/tools/pickMultiGene.py /storage3/w/richard/meta2015/finalTestSet20151002/gtf_converted_from_gff/Conli1_GeneCatalog_genes_20130808.f.good.gtf /home/richard/research/tests/Oct28TestSet/goodMultiExonGtf/Conli1_GeneCatalog_genes_20130808.f.good.multiExon.gtf\n",
      "python /home/richard/research/tools/pickMultiGene.py /storage3/w/richard/meta2015/finalTestSet20151002/gtf_converted_from_gff/Tilan2_GeneCatalog_genes_20140224.f.good.gtf /home/richard/research/tests/Oct28TestSet/goodMultiExonGtf/Tilan2_GeneCatalog_genes_20140224.f.good.multiExon.gtf\n"
     ]
    }
   ],
   "source": [
    "for filename in good_annotation:\n",
    "    command = ('python /home/richard/research/tools/pickMultiGene.py {}{} {}{}.multiExon.gtf'\n",
    "               .format(GtfSource, filename, multiGtfTarget, filename[:-4]))\n",
    "    multiGtfNames.append(filename[:-4]+'.multiExon.gtf')\n",
    "    print command\n",
    "#     subprocess.check_call(command, shell=True)"
   ]
  },
  {
   "cell_type": "markdown",
   "metadata": {},
   "source": [
    "2) update annotation and cut fasta: shortName, good_annotation and fastafiles have the same order"
   ]
  },
  {
   "cell_type": "code",
   "execution_count": 8,
   "metadata": {
    "collapsed": false,
    "scrolled": false
   },
   "outputs": [
    {
     "name": "stdout",
     "output_type": "stream",
     "text": [
      "Ophdi1 Ophdi1_GeneCatalog_genes_20140614.f.good.multiExon.gtf Ophdi1_AssemblyScaffolds.fasta\n",
      "\t/storage3/w/richard/meta2015/placeForRNASeq/Ophdi1/data/Ophdi1_AssemblyScaffolds.fasta\n",
      "\t/home/richard/research/tests/Oct28TestSet/goodMultiExonGtf/Ophdi1_GeneCatalog_genes_20140614.f.good.multiExon.gtf\n",
      "\t/home/richard/research/tests/Oct30NewTestSet/TestSetCutFastaFixedCDS/Ophdi1_AssemblyScaffolds.cut.fasta\n",
      "\t/home/richard/research/tests/Oct30NewTestSet/TestSetMultiExonGtfFixedCDS/Ophdi1_GeneCatalog_genes_20140614.f.good.multiExon.updated.gtf\n",
      "\n",
      "\n",
      "multi-fasta file is saved at: /home/richard/research/tests/Oct30NewTestSet/TestSetCutFastaFixedCDS/Ophdi1_AssemblyScaffolds.cut.fasta\n",
      "updated annotation is saved at: /home/richard/research/tests/Oct30NewTestSet/TestSetMultiExonGtfFixedCDS/Ophdi1_GeneCatalog_genes_20140614.f.good.multiExon.updated.gtf\n",
      "Spofi1 Spofi1_GeneCatalog_genes_20130818.f.good.multiExon.gtf Spofi1.draft.mito.scaffolds.fasta\n",
      "\t/storage3/w/richard/meta2015/placeForRNASeq/Spofi1/data/Spofi1.draft.mito.scaffolds.fasta\n",
      "\t/home/richard/research/tests/Oct28TestSet/goodMultiExonGtf/Spofi1_GeneCatalog_genes_20130818.f.good.multiExon.gtf\n",
      "\t/home/richard/research/tests/Oct30NewTestSet/TestSetCutFastaFixedCDS/Spofi1.draft.mito.scaffolds.cut.fasta\n",
      "\t/home/richard/research/tests/Oct30NewTestSet/TestSetMultiExonGtfFixedCDS/Spofi1_GeneCatalog_genes_20130818.f.good.multiExon.updated.gtf\n",
      "\n",
      "\n"
     ]
    },
    {
     "ename": "KeyError",
     "evalue": "'scaffold_26'",
     "output_type": "error",
     "traceback": [
      "\u001b[1;31m---------------------------------------------------------------------------\u001b[0m",
      "\u001b[1;31mKeyError\u001b[0m                                  Traceback (most recent call last)",
      "\u001b[1;32m<ipython-input-8-c2a07ae83c72>\u001b[0m in \u001b[0;36m<module>\u001b[1;34m()\u001b[0m\n\u001b[0;32m     17\u001b[0m     \u001b[1;32mprint\u001b[0m\u001b[1;33m\u001b[0m\u001b[0m\n\u001b[0;32m     18\u001b[0m     \u001b[1;32mprint\u001b[0m\u001b[1;33m\u001b[0m\u001b[0m\n\u001b[1;32m---> 19\u001b[1;33m     \u001b[0mGenerateTestSetModuleV1\u001b[0m\u001b[1;33m.\u001b[0m\u001b[0mmakeTestSet\u001b[0m\u001b[1;33m(\u001b[0m\u001b[0mshortName\u001b[0m\u001b[1;33m,\u001b[0m \u001b[0mintergenic_length\u001b[0m\u001b[1;33m,\u001b[0m \u001b[0msourceGtf\u001b[0m\u001b[1;33m,\u001b[0m \u001b[0msourceFasta\u001b[0m\u001b[1;33m,\u001b[0m \u001b[0mtargetGtf\u001b[0m\u001b[1;33m,\u001b[0m \u001b[0mtargetFasta\u001b[0m\u001b[1;33m)\u001b[0m\u001b[1;33m\u001b[0m\u001b[0m\n\u001b[0m",
      "\u001b[1;32m/home/richard/research/tools/GenerateTestSetModuleV1.pyc\u001b[0m in \u001b[0;36mmakeTestSet\u001b[1;34m(shortName, intergenic_length, sourceGtf, sourceFasta, targetGtf, targetFasta)\u001b[0m\n\u001b[0;32m     10\u001b[0m     \u001b[1;31m#gene_locations = get_gene_locationV1Choice2(sourceGtf)\u001b[0m\u001b[1;33m\u001b[0m\u001b[1;33m\u001b[0m\u001b[0m\n\u001b[0;32m     11\u001b[0m     \u001b[0mgene_locations\u001b[0m \u001b[1;33m=\u001b[0m \u001b[0mget_gene_locationV2\u001b[0m\u001b[1;33m(\u001b[0m\u001b[0msourceGtf\u001b[0m\u001b[1;33m)\u001b[0m\u001b[1;33m\u001b[0m\u001b[0m\n\u001b[1;32m---> 12\u001b[1;33m     \u001b[0mcutFasta\u001b[0m\u001b[1;33m(\u001b[0m\u001b[0mshortName\u001b[0m\u001b[1;33m,\u001b[0m\u001b[0mintergenic_length\u001b[0m\u001b[1;33m,\u001b[0m \u001b[0mgene_locations\u001b[0m\u001b[1;33m,\u001b[0m \u001b[0msourceFasta\u001b[0m\u001b[1;33m,\u001b[0m \u001b[0mtargetFasta\u001b[0m\u001b[1;33m)\u001b[0m\u001b[1;33m\u001b[0m\u001b[0m\n\u001b[0m\u001b[0;32m     13\u001b[0m     \u001b[0mupdateGtf\u001b[0m\u001b[1;33m(\u001b[0m\u001b[0mshortName\u001b[0m\u001b[1;33m,\u001b[0m\u001b[0mintergenic_length\u001b[0m\u001b[1;33m,\u001b[0m \u001b[0mgene_locations\u001b[0m\u001b[1;33m,\u001b[0m \u001b[0msourceGtf\u001b[0m\u001b[1;33m,\u001b[0m \u001b[0mtargetGtf\u001b[0m\u001b[1;33m)\u001b[0m\u001b[1;33m\u001b[0m\u001b[0m\n\u001b[0;32m     14\u001b[0m \u001b[1;33m\u001b[0m\u001b[0m\n",
      "\u001b[1;32m/home/richard/research/tools/GenerateTestSetModuleV1.pyc\u001b[0m in \u001b[0;36mcutFasta\u001b[1;34m(shortName, intergenic_length, gene_locations, sourceFasta, targetFasta)\u001b[0m\n\u001b[0;32m     20\u001b[0m     genes = (map(lambda ((contig,_),(a,b)): ('{}__{}__{}__{}'.format(shortName,contig,a,b), \n\u001b[0;32m     21\u001b[0m                                          cut_geneV1(SeqRecordsPairs[contig], a, b, intergenic_length))\n\u001b[1;32m---> 22\u001b[1;33m                  ,gene_locations))\n\u001b[0m\u001b[0;32m     23\u001b[0m \u001b[1;33m\u001b[0m\u001b[0m\n\u001b[0;32m     24\u001b[0m     \u001b[0mgenes\u001b[0m \u001b[1;33m=\u001b[0m \u001b[0mmap\u001b[0m\u001b[1;33m(\u001b[0m\u001b[1;32mlambda\u001b[0m \u001b[1;33m(\u001b[0m\u001b[0mkey\u001b[0m\u001b[1;33m,\u001b[0m\u001b[0mval\u001b[0m\u001b[1;33m)\u001b[0m\u001b[1;33m:\u001b[0m \u001b[0mSeqRecord\u001b[0m\u001b[1;33m(\u001b[0m\u001b[0mval\u001b[0m\u001b[1;33m.\u001b[0m\u001b[0mseq\u001b[0m\u001b[1;33m,\u001b[0m \u001b[0mid\u001b[0m\u001b[1;33m=\u001b[0m\u001b[0mkey\u001b[0m\u001b[1;33m,\u001b[0m \u001b[0mdescription\u001b[0m\u001b[1;33m=\u001b[0m\u001b[1;34m''\u001b[0m\u001b[1;33m)\u001b[0m\u001b[1;33m,\u001b[0m \u001b[0mgenes\u001b[0m\u001b[1;33m)\u001b[0m\u001b[1;33m\u001b[0m\u001b[0m\n",
      "\u001b[1;32m/home/richard/research/tools/GenerateTestSetModuleV1.pyc\u001b[0m in \u001b[0;36m<lambda>\u001b[1;34m(((contig, _), (a, b)))\u001b[0m\n\u001b[0;32m     19\u001b[0m \u001b[1;33m\u001b[0m\u001b[0m\n\u001b[0;32m     20\u001b[0m     genes = (map(lambda ((contig,_),(a,b)): ('{}__{}__{}__{}'.format(shortName,contig,a,b), \n\u001b[1;32m---> 21\u001b[1;33m                                          cut_geneV1(SeqRecordsPairs[contig], a, b, intergenic_length))\n\u001b[0m\u001b[0;32m     22\u001b[0m                  ,gene_locations))\n\u001b[0;32m     23\u001b[0m \u001b[1;33m\u001b[0m\u001b[0m\n",
      "\u001b[1;31mKeyError\u001b[0m: 'scaffold_26'"
     ]
    }
   ],
   "source": [
    "for i in range(len(shortNames)):\n",
    "    print shortNames[i],multiGtfNames[i],fastafiles[i]\n",
    "    assert shortNames[i] in multiGtfNames[i]\n",
    "    assert shortNames[i] in fastafiles[i]\n",
    "    \n",
    "    shortName = shortNames[i].lower()\n",
    "    intergenic_length = 200\n",
    "    \n",
    "    sourceFasta = '{}{}/data/{}'.format(fastaSource,shortNames[i],fastafiles[i])\n",
    "    print \"\\t\",sourceFasta\n",
    "    sourceGtf = multiGtfTarget + multiGtfNames[i]\n",
    "    print \"\\t\",sourceGtf\n",
    "    targetFasta = targetFastaLocation + fastafiles[i][:-5]+'cut'+'.fasta'\n",
    "    print \"\\t\",targetFasta\n",
    "    targetGtf = targetGtfLocation + multiGtfNames[i][:-3]+'updated.gtf'\n",
    "    print \"\\t\",targetGtf\n",
    "    print\n",
    "    print\n",
    "    GenerateTestSetModuleV1.makeTestSet(shortName, intergenic_length, sourceGtf, sourceFasta, targetGtf, targetFasta)"
   ]
  },
  {
   "cell_type": "code",
   "execution_count": null,
   "metadata": {
    "collapsed": true
   },
   "outputs": [],
   "source": []
  }
 ],
 "metadata": {
  "kernelspec": {
   "display_name": "Python 2",
   "language": "python",
   "name": "python2"
  },
  "language_info": {
   "codemirror_mode": {
    "name": "ipython",
    "version": 2
   },
   "file_extension": ".py",
   "mimetype": "text/x-python",
   "name": "python",
   "nbconvert_exporter": "python",
   "pygments_lexer": "ipython2",
   "version": "2.7.10"
  }
 },
 "nbformat": 4,
 "nbformat_minor": 0
}
