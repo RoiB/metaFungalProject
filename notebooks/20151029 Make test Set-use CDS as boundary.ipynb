{
 "cells": [
  {
   "cell_type": "code",
   "execution_count": 15,
   "metadata": {
    "collapsed": true
   },
   "outputs": [],
   "source": [
    "### ignore wrong start and stop with different choice of choosing the boudary\n",
    "### use the leftmost or rightmost as boudary and not neccessarily start or stop"
   ]
  },
  {
   "cell_type": "code",
   "execution_count": 16,
   "metadata": {
    "collapsed": false
   },
   "outputs": [
    {
     "name": "stdout",
     "output_type": "stream",
     "text": [
      "\n"
     ]
    }
   ],
   "source": [
    "import sys; sys.path.append(\"/home/richard/research/tools/\")\n",
    "import GenerateTestSetModuleV1\n",
    "\n",
    "import subprocess"
   ]
  },
  {
   "cell_type": "markdown",
   "metadata": {},
   "source": [
    "## Officially start to build test set"
   ]
  },
  {
   "cell_type": "code",
   "execution_count": 17,
   "metadata": {
    "collapsed": false
   },
   "outputs": [],
   "source": [
    "GtfSource = '/storage3/w/richard/meta2015/finalTestSet20151002/gtf_converted_from_gff/'\n",
    "mixAnnotationFiles = os.listdir(GtfSource)\n",
    "good_annotation = filter(lambda x: 'good' in x, mixAnnotationFiles)\n",
    "shortNames = map(lambda x: x.split('_GeneCatalog')[0], good_annotation)\n",
    "multiGtfTarget = '/home/richard/research/tests/Oct28TestSet/goodMultiExonGtf/'\n",
    "multiGtfNames = []"
   ]
  },
  {
   "cell_type": "code",
   "execution_count": 18,
   "metadata": {
    "collapsed": false
   },
   "outputs": [],
   "source": [
    "fastaSource = '/storage3/w/richard/meta2015/placeForRNASeq/'\n",
    "fastafiles = [filter(lambda x: '.fasta' in x and '.gz' not in x, os.listdir(fastaSource+shortName+'/data')) for shortName in shortNames]\n",
    "fastafiles = [item[0] for item in fastafiles]"
   ]
  },
  {
   "cell_type": "code",
   "execution_count": 19,
   "metadata": {
    "collapsed": true
   },
   "outputs": [],
   "source": [
    "targetFastaLocation = '/home/richard/research/tests/Oct30NewTestSet/TestSetCutFastaFixedCDS/'\n",
    "targetGtfLocation = '/home/richard/research/tests/Oct30NewTestSet/TestSetMultiExonGtfFixedCDS/'"
   ]
  },
  {
   "cell_type": "markdown",
   "metadata": {},
   "source": [
    "1) pick multi-gene"
   ]
  },
  {
   "cell_type": "code",
   "execution_count": 21,
   "metadata": {
    "collapsed": false
   },
   "outputs": [
    {
     "name": "stdout",
     "output_type": "stream",
     "text": [
      "python /home/richard/research/tools/pickMultiGene.py /storage3/w/richard/meta2015/finalTestSet20151002/gtf_converted_from_gff/Ophdi1_GeneCatalog_genes_20140614.f.good.gtf /home/richard/research/tests/Oct28TestSet/goodMultiExonGtf/Ophdi1_GeneCatalog_genes_20140614.f.good.multiExon.gtf\n",
      "python /home/richard/research/tools/pickMultiGene.py /storage3/w/richard/meta2015/finalTestSet20151002/gtf_converted_from_gff/Spofi1_GeneCatalog_genes_20130818.f.good.gtf /home/richard/research/tests/Oct28TestSet/goodMultiExonGtf/Spofi1_GeneCatalog_genes_20130818.f.good.multiExon.gtf\n",
      "python /home/richard/research/tools/pickMultiGene.py /storage3/w/richard/meta2015/finalTestSet20151002/gtf_converted_from_gff/Gloin1_GeneCatalog_genes_20120510.f.good.gtf /home/richard/research/tests/Oct28TestSet/goodMultiExonGtf/Gloin1_GeneCatalog_genes_20120510.f.good.multiExon.gtf\n",
      "python /home/richard/research/tools/pickMultiGene.py /storage3/w/richard/meta2015/finalTestSet20151002/gtf_converted_from_gff/Trias1_GeneCatalog_genes_20120305.f.good.gtf /home/richard/research/tests/Oct28TestSet/goodMultiExonGtf/Trias1_GeneCatalog_genes_20120305.f.good.multiExon.gtf\n",
      "python /home/richard/research/tools/pickMultiGene.py /storage3/w/richard/meta2015/finalTestSet20151002/gtf_converted_from_gff/Cenge3_GeneCatalog_genes_20130403.f.good.gtf /home/richard/research/tests/Oct28TestSet/goodMultiExonGtf/Cenge3_GeneCatalog_genes_20130403.f.good.multiExon.gtf\n",
      "python /home/richard/research/tools/pickMultiGene.py /storage3/w/richard/meta2015/finalTestSet20151002/gtf_converted_from_gff/Sphst1_GeneCatalog_genes_20120430.f.good.gtf /home/richard/research/tests/Oct28TestSet/goodMultiExonGtf/Sphst1_GeneCatalog_genes_20120430.f.good.multiExon.gtf\n",
      "python /home/richard/research/tools/pickMultiGene.py /storage3/w/richard/meta2015/finalTestSet20151002/gtf_converted_from_gff/Phchr2_GeneCatalog_genes_20131210.f.good.gtf /home/richard/research/tests/Oct28TestSet/goodMultiExonGtf/Phchr2_GeneCatalog_genes_20131210.f.good.multiExon.gtf\n",
      "python /home/richard/research/tools/pickMultiGene.py /storage3/w/richard/meta2015/finalTestSet20151002/gtf_converted_from_gff/HypEC38_1_GeneCatalog_genes_20120308.f.good.gtf /home/richard/research/tests/Oct28TestSet/goodMultiExonGtf/HypEC38_1_GeneCatalog_genes_20120308.f.good.multiExon.gtf\n",
      "python /home/richard/research/tools/pickMultiGene.py /storage3/w/richard/meta2015/finalTestSet20151002/gtf_converted_from_gff/Conco1_GeneCatalog_genes_20120213.f.good.gtf /home/richard/research/tests/Oct28TestSet/goodMultiExonGtf/Conco1_GeneCatalog_genes_20120213.f.good.multiExon.gtf\n",
      "python /home/richard/research/tools/pickMultiGene.py /storage3/w/richard/meta2015/finalTestSet20151002/gtf_converted_from_gff/Croqu1_GeneCatalog_genes_20120612.f.good.gtf /home/richard/research/tests/Oct28TestSet/goodMultiExonGtf/Croqu1_GeneCatalog_genes_20120612.f.good.multiExon.gtf\n",
      "python /home/richard/research/tools/pickMultiGene.py /storage3/w/richard/meta2015/finalTestSet20151002/gtf_converted_from_gff/Obbri1_GeneCatalog_genes_20140615.f.good.gtf /home/richard/research/tests/Oct28TestSet/goodMultiExonGtf/Obbri1_GeneCatalog_genes_20140615.f.good.multiExon.gtf\n",
      "python /home/richard/research/tools/pickMultiGene.py /storage3/w/richard/meta2015/finalTestSet20151002/gtf_converted_from_gff/Aspoch1_GeneCatalog_genes_20140127.f.good.gtf /home/richard/research/tests/Oct28TestSet/goodMultiExonGtf/Aspoch1_GeneCatalog_genes_20140127.f.good.multiExon.gtf\n",
      "python /home/richard/research/tools/pickMultiGene.py /storage3/w/richard/meta2015/finalTestSet20151002/gtf_converted_from_gff/Aurvu1_GeneCatalog_genes_20140723.f.good.gtf /home/richard/research/tests/Oct28TestSet/goodMultiExonGtf/Aurvu1_GeneCatalog_genes_20140723.f.good.multiExon.gtf\n",
      "python /home/richard/research/tools/pickMultiGene.py /storage3/w/richard/meta2015/finalTestSet20151002/gtf_converted_from_gff/Pneji1_GeneCatalog_genes_20130607.f.good.gtf /home/richard/research/tests/Oct28TestSet/goodMultiExonGtf/Pneji1_GeneCatalog_genes_20130607.f.good.multiExon.gtf\n",
      "python /home/richard/research/tools/pickMultiGene.py /storage3/w/richard/meta2015/finalTestSet20151002/gtf_converted_from_gff/Disac1_GeneCatalog_genes_20130805.f.good.gtf /home/richard/research/tests/Oct28TestSet/goodMultiExonGtf/Disac1_GeneCatalog_genes_20130805.f.good.multiExon.gtf\n",
      "python /home/richard/research/tools/pickMultiGene.py /storage3/w/richard/meta2015/finalTestSet20151002/gtf_converted_from_gff/Neopa1_GeneCatalog_genes_20130909.f.good.gtf /home/richard/research/tests/Oct28TestSet/goodMultiExonGtf/Neopa1_GeneCatalog_genes_20130909.f.good.multiExon.gtf\n",
      "python /home/richard/research/tools/pickMultiGene.py /storage3/w/richard/meta2015/finalTestSet20151002/gtf_converted_from_gff/Veren1_GeneCatalog_genes_20140626.f.good.gtf /home/richard/research/tests/Oct28TestSet/goodMultiExonGtf/Veren1_GeneCatalog_genes_20140626.f.good.multiExon.gtf\n",
      "python /home/richard/research/tools/pickMultiGene.py /storage3/w/richard/meta2015/finalTestSet20151002/gtf_converted_from_gff/SerlaS7_9_2_GeneCatalog_genes_20120319.f.good.gtf /home/richard/research/tests/Oct28TestSet/goodMultiExonGtf/SerlaS7_9_2_GeneCatalog_genes_20120319.f.good.multiExon.gtf\n",
      "python /home/richard/research/tools/pickMultiGene.py /storage3/w/richard/meta2015/finalTestSet20151002/gtf_converted_from_gff/Hebcy2_GeneCatalog_genes_20120913.f.good.gtf /home/richard/research/tests/Oct28TestSet/goodMultiExonGtf/Hebcy2_GeneCatalog_genes_20120913.f.good.multiExon.gtf\n",
      "python /home/richard/research/tools/pickMultiGene.py /storage3/w/richard/meta2015/finalTestSet20151002/gtf_converted_from_gff/Conli1_GeneCatalog_genes_20130808.f.good.gtf /home/richard/research/tests/Oct28TestSet/goodMultiExonGtf/Conli1_GeneCatalog_genes_20130808.f.good.multiExon.gtf\n",
      "python /home/richard/research/tools/pickMultiGene.py /storage3/w/richard/meta2015/finalTestSet20151002/gtf_converted_from_gff/Tilan2_GeneCatalog_genes_20140224.f.good.gtf /home/richard/research/tests/Oct28TestSet/goodMultiExonGtf/Tilan2_GeneCatalog_genes_20140224.f.good.multiExon.gtf\n"
     ]
    }
   ],
   "source": [
    "for filename in good_annotation:\n",
    "    command = ('python /home/richard/research/tools/pickMultiGene.py {}{} {}{}.multiExon.gtf'\n",
    "               .format(GtfSource, filename, multiGtfTarget, filename[:-4]))\n",
    "    multiGtfNames.append(filename[:-4]+'.multiExon.gtf')\n",
    "    print command\n",
    "#     subprocess.check_call(command, shell=True)"
   ]
  },
  {
   "cell_type": "markdown",
   "metadata": {},
   "source": [
    "2) update annotation and cut fasta: shortName, good_annotation and fastafiles have the same order"
   ]
  },
  {
   "cell_type": "code",
   "execution_count": 22,
   "metadata": {
    "collapsed": false,
    "scrolled": false
   },
   "outputs": [
    {
     "name": "stdout",
     "output_type": "stream",
     "text": [
      "Ophdi1 Ophdi1_GeneCatalog_genes_20140614.f.good.multiExon.gtf Ophdi1_AssemblyScaffolds.fasta\n",
      "\t/storage3/w/richard/meta2015/placeForRNASeq/Ophdi1/data/Ophdi1_AssemblyScaffolds.fasta\n",
      "\t/home/richard/research/tests/Oct28TestSet/goodMultiExonGtf/Ophdi1_GeneCatalog_genes_20140614.f.good.multiExon.gtf\n",
      "\t/home/richard/research/tests/Oct30NewTestSet/TestSetCutFastaFixedCDS/Ophdi1_AssemblyScaffolds.cut.fasta\n",
      "\t/home/richard/research/tests/Oct30NewTestSet/TestSetMultiExonGtfFixedCDS/Ophdi1_GeneCatalog_genes_20140614.f.good.multiExon.updated.gtf\n",
      "\n",
      "\n",
      "multi-fasta file is saved at: /home/richard/research/tests/Oct30NewTestSet/TestSetCutFastaFixedCDS/Ophdi1_AssemblyScaffolds.cut.fasta\n",
      "updated annotation is saved at: /home/richard/research/tests/Oct30NewTestSet/TestSetMultiExonGtfFixedCDS/Ophdi1_GeneCatalog_genes_20140614.f.good.multiExon.updated.gtf\n",
      "Spofi1 Spofi1_GeneCatalog_genes_20130818.f.good.multiExon.gtf Spofi1.draft.mito.scaffolds.fasta\n",
      "\t/storage3/w/richard/meta2015/placeForRNASeq/Spofi1/data/Spofi1.draft.mito.scaffolds.fasta\n",
      "\t/home/richard/research/tests/Oct28TestSet/goodMultiExonGtf/Spofi1_GeneCatalog_genes_20130818.f.good.multiExon.gtf\n",
      "\t/home/richard/research/tests/Oct30NewTestSet/TestSetCutFastaFixedCDS/Spofi1.draft.mito.scaffolds.cut.fasta\n",
      "\t/home/richard/research/tests/Oct30NewTestSet/TestSetMultiExonGtfFixedCDS/Spofi1_GeneCatalog_genes_20130818.f.good.multiExon.updated.gtf\n",
      "\n",
      "\n",
      "multi-fasta file is saved at: /home/richard/research/tests/Oct30NewTestSet/TestSetCutFastaFixedCDS/Spofi1.draft.mito.scaffolds.cut.fasta\n",
      "updated annotation is saved at: /home/richard/research/tests/Oct30NewTestSet/TestSetMultiExonGtfFixedCDS/Spofi1_GeneCatalog_genes_20130818.f.good.multiExon.updated.gtf\n",
      "Gloin1 Gloin1_GeneCatalog_genes_20120510.f.good.multiExon.gtf Gloin1_AssemblyScaffolds.fasta\n",
      "\t/storage3/w/richard/meta2015/placeForRNASeq/Gloin1/data/Gloin1_AssemblyScaffolds.fasta\n",
      "\t/home/richard/research/tests/Oct28TestSet/goodMultiExonGtf/Gloin1_GeneCatalog_genes_20120510.f.good.multiExon.gtf\n",
      "\t/home/richard/research/tests/Oct30NewTestSet/TestSetCutFastaFixedCDS/Gloin1_AssemblyScaffolds.cut.fasta\n",
      "\t/home/richard/research/tests/Oct30NewTestSet/TestSetMultiExonGtfFixedCDS/Gloin1_GeneCatalog_genes_20120510.f.good.multiExon.updated.gtf\n",
      "\n",
      "\n",
      "multi-fasta file is saved at: /home/richard/research/tests/Oct30NewTestSet/TestSetCutFastaFixedCDS/Gloin1_AssemblyScaffolds.cut.fasta\n",
      "updated annotation is saved at: /home/richard/research/tests/Oct30NewTestSet/TestSetMultiExonGtfFixedCDS/Gloin1_GeneCatalog_genes_20120510.f.good.multiExon.updated.gtf\n",
      "Trias1 Trias1_GeneCatalog_genes_20120305.f.good.multiExon.gtf Trias1_AssemblyScaffolds.fasta\n",
      "\t/storage3/w/richard/meta2015/placeForRNASeq/Trias1/data/Trias1_AssemblyScaffolds.fasta\n",
      "\t/home/richard/research/tests/Oct28TestSet/goodMultiExonGtf/Trias1_GeneCatalog_genes_20120305.f.good.multiExon.gtf\n",
      "\t/home/richard/research/tests/Oct30NewTestSet/TestSetCutFastaFixedCDS/Trias1_AssemblyScaffolds.cut.fasta\n",
      "\t/home/richard/research/tests/Oct30NewTestSet/TestSetMultiExonGtfFixedCDS/Trias1_GeneCatalog_genes_20120305.f.good.multiExon.updated.gtf\n",
      "\n",
      "\n",
      "multi-fasta file is saved at: /home/richard/research/tests/Oct30NewTestSet/TestSetCutFastaFixedCDS/Trias1_AssemblyScaffolds.cut.fasta\n",
      "updated annotation is saved at: /home/richard/research/tests/Oct30NewTestSet/TestSetMultiExonGtfFixedCDS/Trias1_GeneCatalog_genes_20120305.f.good.multiExon.updated.gtf\n",
      "Cenge3 Cenge3_GeneCatalog_genes_20130403.f.good.multiExon.gtf Cenge3_AssemblyScaffolds.fasta\n",
      "\t/storage3/w/richard/meta2015/placeForRNASeq/Cenge3/data/Cenge3_AssemblyScaffolds.fasta\n",
      "\t/home/richard/research/tests/Oct28TestSet/goodMultiExonGtf/Cenge3_GeneCatalog_genes_20130403.f.good.multiExon.gtf\n",
      "\t/home/richard/research/tests/Oct30NewTestSet/TestSetCutFastaFixedCDS/Cenge3_AssemblyScaffolds.cut.fasta\n",
      "\t/home/richard/research/tests/Oct30NewTestSet/TestSetMultiExonGtfFixedCDS/Cenge3_GeneCatalog_genes_20130403.f.good.multiExon.updated.gtf\n",
      "\n",
      "\n",
      "multi-fasta file is saved at: /home/richard/research/tests/Oct30NewTestSet/TestSetCutFastaFixedCDS/Cenge3_AssemblyScaffolds.cut.fasta\n",
      "updated annotation is saved at: /home/richard/research/tests/Oct30NewTestSet/TestSetMultiExonGtfFixedCDS/Cenge3_GeneCatalog_genes_20130403.f.good.multiExon.updated.gtf\n",
      "Sphst1 Sphst1_GeneCatalog_genes_20120430.f.good.multiExon.gtf Sphst1_AssemblyScaffolds.fasta\n",
      "\t/storage3/w/richard/meta2015/placeForRNASeq/Sphst1/data/Sphst1_AssemblyScaffolds.fasta\n",
      "\t/home/richard/research/tests/Oct28TestSet/goodMultiExonGtf/Sphst1_GeneCatalog_genes_20120430.f.good.multiExon.gtf\n",
      "\t/home/richard/research/tests/Oct30NewTestSet/TestSetCutFastaFixedCDS/Sphst1_AssemblyScaffolds.cut.fasta\n",
      "\t/home/richard/research/tests/Oct30NewTestSet/TestSetMultiExonGtfFixedCDS/Sphst1_GeneCatalog_genes_20120430.f.good.multiExon.updated.gtf\n",
      "\n",
      "\n",
      "multi-fasta file is saved at: /home/richard/research/tests/Oct30NewTestSet/TestSetCutFastaFixedCDS/Sphst1_AssemblyScaffolds.cut.fasta\n",
      "updated annotation is saved at: /home/richard/research/tests/Oct30NewTestSet/TestSetMultiExonGtfFixedCDS/Sphst1_GeneCatalog_genes_20120430.f.good.multiExon.updated.gtf\n",
      "Phchr2 Phchr2_GeneCatalog_genes_20131210.f.good.multiExon.gtf Phchr2_AssemblyScaffolds.fasta\n",
      "\t/storage3/w/richard/meta2015/placeForRNASeq/Phchr2/data/Phchr2_AssemblyScaffolds.fasta\n",
      "\t/home/richard/research/tests/Oct28TestSet/goodMultiExonGtf/Phchr2_GeneCatalog_genes_20131210.f.good.multiExon.gtf\n",
      "\t/home/richard/research/tests/Oct30NewTestSet/TestSetCutFastaFixedCDS/Phchr2_AssemblyScaffolds.cut.fasta\n",
      "\t/home/richard/research/tests/Oct30NewTestSet/TestSetMultiExonGtfFixedCDS/Phchr2_GeneCatalog_genes_20131210.f.good.multiExon.updated.gtf\n",
      "\n",
      "\n",
      "multi-fasta file is saved at: /home/richard/research/tests/Oct30NewTestSet/TestSetCutFastaFixedCDS/Phchr2_AssemblyScaffolds.cut.fasta\n",
      "updated annotation is saved at: /home/richard/research/tests/Oct30NewTestSet/TestSetMultiExonGtfFixedCDS/Phchr2_GeneCatalog_genes_20131210.f.good.multiExon.updated.gtf\n",
      "HypEC38_1 HypEC38_1_GeneCatalog_genes_20120308.f.good.multiExon.gtf HypEC38_1_AssemblyScaffolds.fasta\n",
      "\t/storage3/w/richard/meta2015/placeForRNASeq/HypEC38_1/data/HypEC38_1_AssemblyScaffolds.fasta\n",
      "\t/home/richard/research/tests/Oct28TestSet/goodMultiExonGtf/HypEC38_1_GeneCatalog_genes_20120308.f.good.multiExon.gtf\n",
      "\t/home/richard/research/tests/Oct30NewTestSet/TestSetCutFastaFixedCDS/HypEC38_1_AssemblyScaffolds.cut.fasta\n",
      "\t/home/richard/research/tests/Oct30NewTestSet/TestSetMultiExonGtfFixedCDS/HypEC38_1_GeneCatalog_genes_20120308.f.good.multiExon.updated.gtf\n",
      "\n",
      "\n",
      "multi-fasta file is saved at: /home/richard/research/tests/Oct30NewTestSet/TestSetCutFastaFixedCDS/HypEC38_1_AssemblyScaffolds.cut.fasta\n",
      "updated annotation is saved at: /home/richard/research/tests/Oct30NewTestSet/TestSetMultiExonGtfFixedCDS/HypEC38_1_GeneCatalog_genes_20120308.f.good.multiExon.updated.gtf\n",
      "Conco1 Conco1_GeneCatalog_genes_20120213.f.good.multiExon.gtf Conco1_AssemblyScaffolds.fasta\n",
      "\t/storage3/w/richard/meta2015/placeForRNASeq/Conco1/data/Conco1_AssemblyScaffolds.fasta\n",
      "\t/home/richard/research/tests/Oct28TestSet/goodMultiExonGtf/Conco1_GeneCatalog_genes_20120213.f.good.multiExon.gtf\n",
      "\t/home/richard/research/tests/Oct30NewTestSet/TestSetCutFastaFixedCDS/Conco1_AssemblyScaffolds.cut.fasta\n",
      "\t/home/richard/research/tests/Oct30NewTestSet/TestSetMultiExonGtfFixedCDS/Conco1_GeneCatalog_genes_20120213.f.good.multiExon.updated.gtf\n",
      "\n",
      "\n",
      "multi-fasta file is saved at: /home/richard/research/tests/Oct30NewTestSet/TestSetCutFastaFixedCDS/Conco1_AssemblyScaffolds.cut.fasta\n",
      "updated annotation is saved at: /home/richard/research/tests/Oct30NewTestSet/TestSetMultiExonGtfFixedCDS/Conco1_GeneCatalog_genes_20120213.f.good.multiExon.updated.gtf\n",
      "Croqu1 Croqu1_GeneCatalog_genes_20120612.f.good.multiExon.gtf Croqu1_AssemblyScaffolds.fasta\n",
      "\t/storage3/w/richard/meta2015/placeForRNASeq/Croqu1/data/Croqu1_AssemblyScaffolds.fasta\n",
      "\t/home/richard/research/tests/Oct28TestSet/goodMultiExonGtf/Croqu1_GeneCatalog_genes_20120612.f.good.multiExon.gtf\n",
      "\t/home/richard/research/tests/Oct30NewTestSet/TestSetCutFastaFixedCDS/Croqu1_AssemblyScaffolds.cut.fasta\n",
      "\t/home/richard/research/tests/Oct30NewTestSet/TestSetMultiExonGtfFixedCDS/Croqu1_GeneCatalog_genes_20120612.f.good.multiExon.updated.gtf\n",
      "\n",
      "\n",
      "multi-fasta file is saved at: /home/richard/research/tests/Oct30NewTestSet/TestSetCutFastaFixedCDS/Croqu1_AssemblyScaffolds.cut.fasta\n",
      "updated annotation is saved at: /home/richard/research/tests/Oct30NewTestSet/TestSetMultiExonGtfFixedCDS/Croqu1_GeneCatalog_genes_20120612.f.good.multiExon.updated.gtf\n",
      "Obbri1 Obbri1_GeneCatalog_genes_20140615.f.good.multiExon.gtf Obbri1_AssemblyScaffolds.fasta\n",
      "\t/storage3/w/richard/meta2015/placeForRNASeq/Obbri1/data/Obbri1_AssemblyScaffolds.fasta\n",
      "\t/home/richard/research/tests/Oct28TestSet/goodMultiExonGtf/Obbri1_GeneCatalog_genes_20140615.f.good.multiExon.gtf\n",
      "\t/home/richard/research/tests/Oct30NewTestSet/TestSetCutFastaFixedCDS/Obbri1_AssemblyScaffolds.cut.fasta\n",
      "\t/home/richard/research/tests/Oct30NewTestSet/TestSetMultiExonGtfFixedCDS/Obbri1_GeneCatalog_genes_20140615.f.good.multiExon.updated.gtf\n",
      "\n",
      "\n",
      "multi-fasta file is saved at: /home/richard/research/tests/Oct30NewTestSet/TestSetCutFastaFixedCDS/Obbri1_AssemblyScaffolds.cut.fasta\n",
      "updated annotation is saved at: /home/richard/research/tests/Oct30NewTestSet/TestSetMultiExonGtfFixedCDS/Obbri1_GeneCatalog_genes_20140615.f.good.multiExon.updated.gtf\n",
      "Aspoch1 Aspoch1_GeneCatalog_genes_20140127.f.good.multiExon.gtf Aspoch1_AssemblyScaffolds.fasta\n",
      "\t/storage3/w/richard/meta2015/placeForRNASeq/Aspoch1/data/Aspoch1_AssemblyScaffolds.fasta\n",
      "\t/home/richard/research/tests/Oct28TestSet/goodMultiExonGtf/Aspoch1_GeneCatalog_genes_20140127.f.good.multiExon.gtf\n",
      "\t/home/richard/research/tests/Oct30NewTestSet/TestSetCutFastaFixedCDS/Aspoch1_AssemblyScaffolds.cut.fasta\n",
      "\t/home/richard/research/tests/Oct30NewTestSet/TestSetMultiExonGtfFixedCDS/Aspoch1_GeneCatalog_genes_20140127.f.good.multiExon.updated.gtf\n",
      "\n",
      "\n",
      "multi-fasta file is saved at: /home/richard/research/tests/Oct30NewTestSet/TestSetCutFastaFixedCDS/Aspoch1_AssemblyScaffolds.cut.fasta\n",
      "updated annotation is saved at: /home/richard/research/tests/Oct30NewTestSet/TestSetMultiExonGtfFixedCDS/Aspoch1_GeneCatalog_genes_20140127.f.good.multiExon.updated.gtf\n",
      "Aurvu1 Aurvu1_GeneCatalog_genes_20140723.f.good.multiExon.gtf Aurvu1_AssemblyScaffolds.fasta\n",
      "\t/storage3/w/richard/meta2015/placeForRNASeq/Aurvu1/data/Aurvu1_AssemblyScaffolds.fasta\n",
      "\t/home/richard/research/tests/Oct28TestSet/goodMultiExonGtf/Aurvu1_GeneCatalog_genes_20140723.f.good.multiExon.gtf\n",
      "\t/home/richard/research/tests/Oct30NewTestSet/TestSetCutFastaFixedCDS/Aurvu1_AssemblyScaffolds.cut.fasta\n",
      "\t/home/richard/research/tests/Oct30NewTestSet/TestSetMultiExonGtfFixedCDS/Aurvu1_GeneCatalog_genes_20140723.f.good.multiExon.updated.gtf\n",
      "\n",
      "\n",
      "multi-fasta file is saved at: /home/richard/research/tests/Oct30NewTestSet/TestSetCutFastaFixedCDS/Aurvu1_AssemblyScaffolds.cut.fasta\n",
      "updated annotation is saved at: /home/richard/research/tests/Oct30NewTestSet/TestSetMultiExonGtfFixedCDS/Aurvu1_GeneCatalog_genes_20140723.f.good.multiExon.updated.gtf\n",
      "Pneji1 Pneji1_GeneCatalog_genes_20130607.f.good.multiExon.gtf Pneji1_AssemblyScaffolds.fasta\n",
      "\t/storage3/w/richard/meta2015/placeForRNASeq/Pneji1/data/Pneji1_AssemblyScaffolds.fasta\n",
      "\t/home/richard/research/tests/Oct28TestSet/goodMultiExonGtf/Pneji1_GeneCatalog_genes_20130607.f.good.multiExon.gtf\n",
      "\t/home/richard/research/tests/Oct30NewTestSet/TestSetCutFastaFixedCDS/Pneji1_AssemblyScaffolds.cut.fasta\n",
      "\t/home/richard/research/tests/Oct30NewTestSet/TestSetMultiExonGtfFixedCDS/Pneji1_GeneCatalog_genes_20130607.f.good.multiExon.updated.gtf\n",
      "\n",
      "\n",
      "multi-fasta file is saved at: /home/richard/research/tests/Oct30NewTestSet/TestSetCutFastaFixedCDS/Pneji1_AssemblyScaffolds.cut.fasta\n",
      "updated annotation is saved at: /home/richard/research/tests/Oct30NewTestSet/TestSetMultiExonGtfFixedCDS/Pneji1_GeneCatalog_genes_20130607.f.good.multiExon.updated.gtf\n",
      "Disac1 Disac1_GeneCatalog_genes_20130805.f.good.multiExon.gtf Disac1_AssemblyScaffolds.fasta\n",
      "\t/storage3/w/richard/meta2015/placeForRNASeq/Disac1/data/Disac1_AssemblyScaffolds.fasta\n",
      "\t/home/richard/research/tests/Oct28TestSet/goodMultiExonGtf/Disac1_GeneCatalog_genes_20130805.f.good.multiExon.gtf\n",
      "\t/home/richard/research/tests/Oct30NewTestSet/TestSetCutFastaFixedCDS/Disac1_AssemblyScaffolds.cut.fasta\n",
      "\t/home/richard/research/tests/Oct30NewTestSet/TestSetMultiExonGtfFixedCDS/Disac1_GeneCatalog_genes_20130805.f.good.multiExon.updated.gtf\n",
      "\n",
      "\n",
      "multi-fasta file is saved at: /home/richard/research/tests/Oct30NewTestSet/TestSetCutFastaFixedCDS/Disac1_AssemblyScaffolds.cut.fasta\n",
      "updated annotation is saved at: /home/richard/research/tests/Oct30NewTestSet/TestSetMultiExonGtfFixedCDS/Disac1_GeneCatalog_genes_20130805.f.good.multiExon.updated.gtf\n",
      "Neopa1 Neopa1_GeneCatalog_genes_20130909.f.good.multiExon.gtf Neopa1_AssemblyScaffolds.fasta\n",
      "\t/storage3/w/richard/meta2015/placeForRNASeq/Neopa1/data/Neopa1_AssemblyScaffolds.fasta\n",
      "\t/home/richard/research/tests/Oct28TestSet/goodMultiExonGtf/Neopa1_GeneCatalog_genes_20130909.f.good.multiExon.gtf\n",
      "\t/home/richard/research/tests/Oct30NewTestSet/TestSetCutFastaFixedCDS/Neopa1_AssemblyScaffolds.cut.fasta\n",
      "\t/home/richard/research/tests/Oct30NewTestSet/TestSetMultiExonGtfFixedCDS/Neopa1_GeneCatalog_genes_20130909.f.good.multiExon.updated.gtf\n",
      "\n",
      "\n",
      "multi-fasta file is saved at: /home/richard/research/tests/Oct30NewTestSet/TestSetCutFastaFixedCDS/Neopa1_AssemblyScaffolds.cut.fasta\n",
      "updated annotation is saved at: /home/richard/research/tests/Oct30NewTestSet/TestSetMultiExonGtfFixedCDS/Neopa1_GeneCatalog_genes_20130909.f.good.multiExon.updated.gtf\n",
      "Veren1 Veren1_GeneCatalog_genes_20140626.f.good.multiExon.gtf Veren1_AssemblyScaffolds.fasta\n",
      "\t/storage3/w/richard/meta2015/placeForRNASeq/Veren1/data/Veren1_AssemblyScaffolds.fasta\n",
      "\t/home/richard/research/tests/Oct28TestSet/goodMultiExonGtf/Veren1_GeneCatalog_genes_20140626.f.good.multiExon.gtf\n",
      "\t/home/richard/research/tests/Oct30NewTestSet/TestSetCutFastaFixedCDS/Veren1_AssemblyScaffolds.cut.fasta\n",
      "\t/home/richard/research/tests/Oct30NewTestSet/TestSetMultiExonGtfFixedCDS/Veren1_GeneCatalog_genes_20140626.f.good.multiExon.updated.gtf\n",
      "\n",
      "\n",
      "multi-fasta file is saved at: /home/richard/research/tests/Oct30NewTestSet/TestSetCutFastaFixedCDS/Veren1_AssemblyScaffolds.cut.fasta\n",
      "updated annotation is saved at: /home/richard/research/tests/Oct30NewTestSet/TestSetMultiExonGtfFixedCDS/Veren1_GeneCatalog_genes_20140626.f.good.multiExon.updated.gtf\n",
      "SerlaS7_9_2 SerlaS7_9_2_GeneCatalog_genes_20120319.f.good.multiExon.gtf SerlaS7_9_2_AssemblyScaffolds.fasta\n",
      "\t/storage3/w/richard/meta2015/placeForRNASeq/SerlaS7_9_2/data/SerlaS7_9_2_AssemblyScaffolds.fasta\n",
      "\t/home/richard/research/tests/Oct28TestSet/goodMultiExonGtf/SerlaS7_9_2_GeneCatalog_genes_20120319.f.good.multiExon.gtf\n",
      "\t/home/richard/research/tests/Oct30NewTestSet/TestSetCutFastaFixedCDS/SerlaS7_9_2_AssemblyScaffolds.cut.fasta\n",
      "\t/home/richard/research/tests/Oct30NewTestSet/TestSetMultiExonGtfFixedCDS/SerlaS7_9_2_GeneCatalog_genes_20120319.f.good.multiExon.updated.gtf\n",
      "\n",
      "\n",
      "multi-fasta file is saved at: /home/richard/research/tests/Oct30NewTestSet/TestSetCutFastaFixedCDS/SerlaS7_9_2_AssemblyScaffolds.cut.fasta\n",
      "updated annotation is saved at: /home/richard/research/tests/Oct30NewTestSet/TestSetMultiExonGtfFixedCDS/SerlaS7_9_2_GeneCatalog_genes_20120319.f.good.multiExon.updated.gtf\n",
      "Hebcy2 Hebcy2_GeneCatalog_genes_20120913.f.good.multiExon.gtf Hebcy2_AssemblyScaffolds.fasta\n",
      "\t/storage3/w/richard/meta2015/placeForRNASeq/Hebcy2/data/Hebcy2_AssemblyScaffolds.fasta\n",
      "\t/home/richard/research/tests/Oct28TestSet/goodMultiExonGtf/Hebcy2_GeneCatalog_genes_20120913.f.good.multiExon.gtf\n",
      "\t/home/richard/research/tests/Oct30NewTestSet/TestSetCutFastaFixedCDS/Hebcy2_AssemblyScaffolds.cut.fasta\n",
      "\t/home/richard/research/tests/Oct30NewTestSet/TestSetMultiExonGtfFixedCDS/Hebcy2_GeneCatalog_genes_20120913.f.good.multiExon.updated.gtf\n",
      "\n",
      "\n",
      "multi-fasta file is saved at: /home/richard/research/tests/Oct30NewTestSet/TestSetCutFastaFixedCDS/Hebcy2_AssemblyScaffolds.cut.fasta\n",
      "updated annotation is saved at: /home/richard/research/tests/Oct30NewTestSet/TestSetMultiExonGtfFixedCDS/Hebcy2_GeneCatalog_genes_20120913.f.good.multiExon.updated.gtf\n",
      "Conli1 Conli1_GeneCatalog_genes_20130808.f.good.multiExon.gtf Conli1_AssemblyScaffolds.fasta\n",
      "\t/storage3/w/richard/meta2015/placeForRNASeq/Conli1/data/Conli1_AssemblyScaffolds.fasta\n",
      "\t/home/richard/research/tests/Oct28TestSet/goodMultiExonGtf/Conli1_GeneCatalog_genes_20130808.f.good.multiExon.gtf\n",
      "\t/home/richard/research/tests/Oct30NewTestSet/TestSetCutFastaFixedCDS/Conli1_AssemblyScaffolds.cut.fasta\n",
      "\t/home/richard/research/tests/Oct30NewTestSet/TestSetMultiExonGtfFixedCDS/Conli1_GeneCatalog_genes_20130808.f.good.multiExon.updated.gtf\n",
      "\n",
      "\n",
      "multi-fasta file is saved at: /home/richard/research/tests/Oct30NewTestSet/TestSetCutFastaFixedCDS/Conli1_AssemblyScaffolds.cut.fasta\n",
      "updated annotation is saved at: /home/richard/research/tests/Oct30NewTestSet/TestSetMultiExonGtfFixedCDS/Conli1_GeneCatalog_genes_20130808.f.good.multiExon.updated.gtf\n",
      "Tilan2 Tilan2_GeneCatalog_genes_20140224.f.good.multiExon.gtf Tilan2_AssemblyScaffolds.fasta\n",
      "\t/storage3/w/richard/meta2015/placeForRNASeq/Tilan2/data/Tilan2_AssemblyScaffolds.fasta\n",
      "\t/home/richard/research/tests/Oct28TestSet/goodMultiExonGtf/Tilan2_GeneCatalog_genes_20140224.f.good.multiExon.gtf\n",
      "\t/home/richard/research/tests/Oct30NewTestSet/TestSetCutFastaFixedCDS/Tilan2_AssemblyScaffolds.cut.fasta\n",
      "\t/home/richard/research/tests/Oct30NewTestSet/TestSetMultiExonGtfFixedCDS/Tilan2_GeneCatalog_genes_20140224.f.good.multiExon.updated.gtf\n",
      "\n",
      "\n",
      "multi-fasta file is saved at: /home/richard/research/tests/Oct30NewTestSet/TestSetCutFastaFixedCDS/Tilan2_AssemblyScaffolds.cut.fasta\n",
      "updated annotation is saved at: /home/richard/research/tests/Oct30NewTestSet/TestSetMultiExonGtfFixedCDS/Tilan2_GeneCatalog_genes_20140224.f.good.multiExon.updated.gtf\n"
     ]
    }
   ],
   "source": [
    "for i in range(len(shortNames)):\n",
    "    print shortNames[i],multiGtfNames[i],fastafiles[i]\n",
    "    assert shortNames[i] in multiGtfNames[i]\n",
    "    assert shortNames[i] in fastafiles[i]\n",
    "    \n",
    "    shortName = shortNames[i].lower()\n",
    "    intergenic_length = 200\n",
    "    \n",
    "    sourceFasta = '{}{}/data/{}'.format(fastaSource,shortNames[i],fastafiles[i])\n",
    "    print \"\\t\",sourceFasta\n",
    "    sourceGtf = multiGtfTarget + multiGtfNames[i]\n",
    "    print \"\\t\",sourceGtf\n",
    "    targetFasta = targetFastaLocation + fastafiles[i][:-5]+'cut'+'.fasta'\n",
    "    print \"\\t\",targetFasta\n",
    "    targetGtf = targetGtfLocation + multiGtfNames[i][:-3]+'updated.gtf'\n",
    "    print \"\\t\",targetGtf\n",
    "    print\n",
    "    print\n",
    "    GenerateTestSetModule.makeTestSet(shortName, intergenic_length, sourceGtf, sourceFasta, targetGtf, targetFasta)"
   ]
  },
  {
   "cell_type": "code",
   "execution_count": null,
   "metadata": {
    "collapsed": true
   },
   "outputs": [],
   "source": []
  }
 ],
 "metadata": {
  "kernelspec": {
   "display_name": "Python 2",
   "language": "python",
   "name": "python2"
  },
  "language_info": {
   "codemirror_mode": {
    "name": "ipython",
    "version": 2
   },
   "file_extension": ".py",
   "mimetype": "text/x-python",
   "name": "python",
   "nbconvert_exporter": "python",
   "pygments_lexer": "ipython2",
   "version": "2.7.10"
  }
 },
 "nbformat": 4,
 "nbformat_minor": 0
}
