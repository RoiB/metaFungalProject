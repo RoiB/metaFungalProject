{
 "cells": [
  {
   "cell_type": "code",
   "execution_count": 2,
   "metadata": {
    "collapsed": true
   },
   "outputs": [],
   "source": [
    "## instead of using single GC model file across all sequences, we use heuristic model with sequence gc\n",
    "\n",
    "from Bio import SeqIO\n",
    "from Bio.SeqUtils import GC\n",
    "import subprocess\n",
    "import sys"
   ]
  },
  {
   "cell_type": "code",
   "execution_count": 4,
   "metadata": {
    "collapsed": true
   },
   "outputs": [],
   "source": [
    "modelFilePathLow = '/home/richard/research/tests/Oct29AssembleModel/modelSetMid/'\n",
    "modelFilePathHigh = '/home/richard/research/tests/Nov13ModelWithNewIntronDensity/modelSetHigh/'\n",
    "multiFastaFile = '/home/richard/research/tests/Nov17TestSelectHigherProbability/test_Pneji1/Pneji1_3_genes.fasta'\n",
    "shortName = 'Pneji1'"
   ]
  },
  {
   "cell_type": "code",
   "execution_count": 44,
   "metadata": {
    "collapsed": true
   },
   "outputs": [],
   "source": [
    "def gmhmmMultiFasta(modelFilePathLow, modelFilePathHigh, multiFastaFile, shortName):\n",
    "    '''\n",
    "    assume short name has Assembly inside\n",
    "    model files must follow format: MetaFungal_model_30_mid.txt\n",
    "    '''\n",
    "    subprocess.check_call('mkdir {}'.format(shortName), shell = True)\n",
    "    subprocess.check_call('mkdir {}/{}'.format(shortName,'fastaPieces'), shell = True)\n",
    "    subprocess.check_call('mkdir {}/{}'.format(shortName,'predictions'), shell = True)\n",
    "    fastaPieceLocation = '{}/{}/'.format(shortName,'fastaPieces')\n",
    "    predictionLocation = '{}/{}/'.format(shortName,'predictions')\n",
    "    fastaPieceFiles = []\n",
    "    predictionFiles = []\n",
    "    consolidatedPrediction = '{}/{}_fullPrediction.gtf'.format(shortName,shortName)\n",
    "    \n",
    "    ## split fasta file\n",
    "    SeqRecords = SeqIO.parse(multiFastaFile,'fasta')\n",
    "    id_gc_pair = {}\n",
    "    for SeqRecord in SeqRecords:\n",
    "        ## add info to id_gc_pair\n",
    "        gc = max(30, int(round(GC(SeqRecord.seq))))\n",
    "        gc = min(gc, 60)\n",
    "        id_gc_pair[SeqRecord.id] = gc\n",
    "        ## process fasta file\n",
    "        filename = '{}{}.fasta'.format(fastaPieceLocation,SeqRecord.id)\n",
    "        SeqIO.write(SeqRecord, filename,'fasta')\n",
    "        fastaPieceFiles.append('{}.fasta'.format(SeqRecord.id))\n",
    "\n",
    "    \n",
    "    ## perform gmhmm on each piece\n",
    "    script = ''\n",
    "    base_command1 = '/home/alexl/DISTR/src/gmhmme3/gmhmme3 -m {}/{}'#.format(modelFile)\n",
    "    base_command2 = 'python /home/richard/research/tools/gmhmme3_to_gtfV4.py'\n",
    "\n",
    "    counter = 0\n",
    "    for fastaPiece in fastaPieceFiles:\n",
    "        counter += 1\n",
    "        #gmhmm prediction\n",
    "        tempName = fastaPiece[:-5]+'tmp'\n",
    "        ## add model file name\n",
    "        fastaName = fastaPiece[:-6]\n",
    "        command0_low = ('{} {}{} -o {}{} -r\\n'\n",
    "                    .format(base_command1.format(modelFilePathLow,'MetaFungal_model_'+str(id_gc_pair[fastaName])+'_*'), \n",
    "                            fastaPieceLocation,fastaPiece,predictionLocation,tempName+'.low'))\n",
    "        command0_high = ('{} {}{} -o {}{} -r \\n'\n",
    "                    .format(base_command1.format(modelFilePathHigh,'MetaFungal_model_'+str(id_gc_pair[fastaName])+'_*'), \n",
    "                            fastaPieceLocation,fastaPiece,predictionLocation,tempName+'.high'))\n",
    "        \n",
    "#         print command0_low\n",
    "#         print command0_high\n",
    "#         subprocess.check_call(command0,shell = True) ## change to Popen\n",
    "        p_low = float(subprocess.Popen(command0_low, shell = True, stdout=subprocess.PIPE).stdout.read().split()[-1])\n",
    "        p_high = float(subprocess.Popen(command0_high, shell = True, stdout=subprocess.PIPE).stdout.read().split()[-1])\n",
    "        if p_low > p_high:\n",
    "            command = 'mv {}/{} {}/{}'.format(predictionLocation, tempName+'.low', predictionLocation,tempName)\n",
    "            message =  'with low intron density'\n",
    "        else:\n",
    "            command = 'mv {}/{} {}/{}'.format(predictionLocation, tempName+'.high', predictionLocation,tempName)\n",
    "            message = 'with high intron density'\n",
    "        subprocess.check_call(command, shell = True)\n",
    "        \n",
    "        \n",
    "        #convert prediciton\n",
    "        outputName = tempName[:-3]+'prediction.gtf'\n",
    "    #     print outputName\n",
    "        predictionFiles.append(outputName)\n",
    "\n",
    "        command1 = '{} {}{} {}{}\\n'.format(base_command2, predictionLocation, tempName, predictionLocation, outputName)\n",
    "        subprocess.check_call(command1,shell = True)\n",
    "        command2 = 'rm {}{}\\n'.format(predictionLocation, tempName)\n",
    "        subprocess.check_call(command2,shell = True)\n",
    "        command3 = 'echo \"#{} prediction of {} is done! ---- Model used: GC {} {}\"\\n'.format(counter, fastaPiece, id_gc_pair[fastaName], message)\n",
    "        subprocess.check_call(command3,shell = True)\n",
    "        \n",
    "    # consolidate predicitons\n",
    "    with open(consolidatedPrediction, 'w') as f:\n",
    "        for predictionFile in predictionFiles:\n",
    "            with open(predictionLocation+predictionFile) as f0:\n",
    "                for line in f0:\n",
    "                    f.write(line)"
   ]
  },
  {
   "cell_type": "code",
   "execution_count": 41,
   "metadata": {
    "collapsed": false,
    "scrolled": true
   },
   "outputs": [
    {
     "name": "stdout",
     "output_type": "stream",
     "text": [
      "choose high intron density model\n",
      "choose high intron density model\n",
      "choose low intron density model\n",
      "choose high intron density model\n",
      "choose high intron density model\n",
      "choose low intron density model\n",
      "choose low intron density model\n",
      "choose low intron density model\n",
      "choose low intron density model\n",
      "choose low intron density model\n",
      "choose high intron density model\n",
      "choose high intron density model\n",
      "choose low intron density model\n",
      "choose high intron density model\n",
      "choose high intron density model\n",
      "choose high intron density model\n",
      "choose high intron density model\n",
      "choose high intron density model\n",
      "choose high intron density model\n",
      "choose high intron density model\n",
      "choose high intron density model\n",
      "choose high intron density model\n",
      "choose high intron density model\n",
      "choose high intron density model\n",
      "choose high intron density model\n",
      "choose high intron density model\n",
      "choose high intron density model\n",
      "choose high intron density model\n",
      "choose high intron density model\n",
      "choose low intron density model\n",
      "choose high intron density model\n",
      "choose low intron density model\n",
      "choose low intron density model\n",
      "choose high intron density model\n",
      "choose high intron density model\n",
      "choose high intron density model\n",
      "choose high intron density model\n",
      "choose high intron density model\n",
      "choose high intron density model\n",
      "choose high intron density model\n",
      "choose high intron density model\n",
      "choose high intron density model\n",
      "choose high intron density model\n",
      "choose high intron density model\n",
      "choose high intron density model\n",
      "choose high intron density model\n",
      "choose low intron density model\n",
      "choose high intron density model\n",
      "choose high intron density model\n",
      "choose high intron density model\n",
      "choose high intron density model\n",
      "choose low intron density model\n",
      "choose high intron density model\n",
      "choose high intron density model\n",
      "choose high intron density model\n",
      "choose high intron density model\n",
      "choose high intron density model\n",
      "choose high intron density model\n",
      "choose high intron density model\n",
      "choose high intron density model\n",
      "choose high intron density model\n",
      "choose high intron density model\n",
      "choose high intron density model\n",
      "choose high intron density model\n",
      "choose high intron density model\n",
      "choose low intron density model\n",
      "choose high intron density model\n",
      "choose high intron density model\n",
      "choose high intron density model\n",
      "choose high intron density model\n",
      "choose high intron density model\n",
      "choose high intron density model\n",
      "choose high intron density model\n",
      "choose high intron density model\n",
      "choose high intron density model\n",
      "choose high intron density model\n",
      "choose high intron density model\n",
      "choose high intron density model\n",
      "choose high intron density model\n",
      "choose low intron density model\n",
      "choose high intron density model\n",
      "choose high intron density model\n",
      "choose high intron density model\n",
      "choose high intron density model\n",
      "choose low intron density model\n",
      "choose high intron density model\n",
      "choose high intron density model\n",
      "choose high intron density model\n",
      "choose low intron density model\n",
      "choose high intron density model\n",
      "choose high intron density model\n",
      "choose high intron density model\n",
      "choose high intron density model\n",
      "choose high intron density model\n",
      "choose low intron density model\n",
      "choose high intron density model\n",
      "choose high intron density model\n",
      "choose high intron density model\n",
      "choose high intron density model\n",
      "choose low intron density model\n"
     ]
    }
   ],
   "source": [
    "gmhmmMultiFasta(modelFilePathLow, modelFilePathHigh, multiFastaFile, shortName)"
   ]
  },
  {
   "cell_type": "code",
   "execution_count": 42,
   "metadata": {
    "collapsed": false,
    "scrolled": true
   },
   "outputs": [
    {
     "data": {
      "text/plain": [
       "0"
      ]
     },
     "execution_count": 42,
     "metadata": {},
     "output_type": "execute_result"
    }
   ],
   "source": [
    "subprocess.check_call('rm -r Pneji1', shell = True)"
   ]
  },
  {
   "cell_type": "code",
   "execution_count": 8,
   "metadata": {
    "collapsed": true
   },
   "outputs": [],
   "source": [
    "test_script = '/home/alexl/DISTR/src/gmhmme3/gmhmme3 -m /home/richard/research/tests/Oct29AssembleModel/modelSetMid/MetaFungal_model_30_mid.txt /home/richard/research/tests/Nov17TestSelectHigherProbability/test_Pneji1/Pneji1_3_genes.fasta -o Pneji1_3_genes.gmhmme3 -r'"
   ]
  },
  {
   "cell_type": "code",
   "execution_count": 11,
   "metadata": {
    "collapsed": false
   },
   "outputs": [],
   "source": [
    "p = subprocess.Popen(test_script, shell = True, stdout=subprocess.PIPE)\n",
    "text = p.stdout.read()"
   ]
  },
  {
   "cell_type": "code",
   "execution_count": 33,
   "metadata": {
    "collapsed": false
   },
   "outputs": [
    {
     "data": {
      "text/plain": [
       "-5257.71634"
      ]
     },
     "execution_count": 33,
     "metadata": {},
     "output_type": "execute_result"
    }
   ],
   "source": [
    "float(subprocess.Popen(test_script, shell = True, stdout=subprocess.PIPE).stdout.read().split()[-1])"
   ]
  },
  {
   "cell_type": "code",
   "execution_count": 16,
   "metadata": {
    "collapsed": false
   },
   "outputs": [
    {
     "data": {
      "text/plain": [
       "-5257.71634"
      ]
     },
     "execution_count": 16,
     "metadata": {},
     "output_type": "execute_result"
    }
   ],
   "source": [
    "float(text.split()[-1])"
   ]
  }
 ],
 "metadata": {
  "kernelspec": {
   "display_name": "Python 2",
   "language": "python",
   "name": "python2"
  },
  "language_info": {
   "codemirror_mode": {
    "name": "ipython",
    "version": 2
   },
   "file_extension": ".py",
   "mimetype": "text/x-python",
   "name": "python",
   "nbconvert_exporter": "python",
   "pygments_lexer": "ipython2",
   "version": "2.7.10"
  }
 },
 "nbformat": 4,
 "nbformat_minor": 0
}
