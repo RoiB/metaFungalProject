{
 "cells": [
  {
   "cell_type": "code",
   "execution_count": 19,
   "metadata": {
    "collapsed": true
   },
   "outputs": [],
   "source": [
    "import sys\n",
    "\n",
    "from Bio import SeqIO\n",
    "from operator import add\n",
    "\n",
    "def cut_gene(seq_record, a, b, intergenic_length):\n",
    "    '''\n",
    "    helper function\n",
    "    input: SeqRecord; start and stop location (a,b) on annotation(index starts from 1)\n",
    "    output: SeqRecord with the desired region and an intergenic region at front\n",
    "    '''\n",
    "    gene = seq_record[a-1:b]\n",
    "    \n",
    "    if a-1-intergenic_length > 0:\n",
    "        intergenic_region_front = seq_record[a-1-intergenic_length:a-1]\n",
    "    else:\n",
    "        intergenic_region_front = seq_record[b:b+intergenic_length]\n",
    "        \n",
    "    return intergenic_region_front+gene\n",
    "\n",
    "def cut_genes(seq_record, gene_location, intergenic_length):\n",
    "    '''\n",
    "    seq_record should be a single genome\n",
    "    batch cut\n",
    "    '''\n",
    "    gene_location = [atuple for (key, atuple) in gene_location]\n",
    "    genes = map(lambda (a,b): cut_gene(seq_record, a, b, intergenic_length), gene_location)\n",
    "    return reduce(add, genes)+genes[0][:intergenic_length]\n",
    "\n",
    "def cut_single_fasta(fastaFile, fastaFileCut, gene_location, intergenic_length):\n",
    "    fasta = SeqIO.parse(fastaFile,'fasta')\n",
    "    seq_record = list(fasta)[0]\n",
    "    \n",
    "    seq_record_cut = cut_genes(seq_record, gene_location, intergenic_length)\n",
    "    SeqIO.write(seq_record_cut, fastaFileCut, 'fasta')\n",
    "    print 'The cut fasta file is saved at', fastaFileCut\n",
    "\n",
    "\n",
    "def get_gene_location(inputFile):\n",
    "    '''\n",
    "    helper function for 'update_annotation'\n",
    "    input: annotation file\n",
    "    output: tuple, (genename, range)\n",
    "    '''\n",
    "    pairs = {} # put start, stop location to a list associated with \n",
    "    with open(inputFile) as f:\n",
    "        for line in f:\n",
    "            if 'start_codon' in line or 'stop_codon' in line:\n",
    "                alist = line.split()\n",
    "                a,b = map(int,[alist[3], alist[4]])\n",
    "                key = alist[9]\n",
    "                if 'gw1.1.2018.1' in key:\n",
    "                    print key\n",
    "                if key not in pairs:\n",
    "                    pairs[key] = [a,b]\n",
    "                else:\n",
    "                    pairs[key].append(a); pairs[key].append(b)\n",
    "                    \n",
    "    for key in pairs:\n",
    "        pairs[key] = sorted(pairs[key])\n",
    "        \n",
    "    gene_locs = map(lambda (key, alist): (key, (min(alist), max(alist))), pairs.items())\n",
    "    return sorted(gene_locs, key = lambda x: x[1])\n",
    "\n",
    "def rearrange_location(gene_locs, intergenic_length):\n",
    "    '''\n",
    "    helper function for 'update_annotation'\n",
    "    '''\n",
    "    acc = 0\n",
    "    shift = {}\n",
    "    for pairs in gene_locs:\n",
    "        acc += intergenic_length\n",
    "        key,[a,b] = pairs\n",
    "        shift[key] = acc-a+1\n",
    "        gene_length = b-a+1\n",
    "        acc+=gene_length\n",
    "    \n",
    "    for key in shift:\n",
    "        if 'gw1.1.2018.1' in key:\n",
    "            print shift[key]\n",
    "    return shift\n",
    "\n",
    "\n",
    "def update_annotation(inputFile, outputFile, gene_locs, intergenic_length):\n",
    "    shift = rearrange_location(gene_locs, intergenic_length)\n",
    "    \n",
    "#     print shift\n",
    "    \n",
    "    with open(inputFile) as f:\n",
    "        with open(outputFile,'w') as f1:\n",
    "            for line in f:\n",
    "                alist1 = line.split()\n",
    "                key = alist1[9]\n",
    "                alist2 = line.split('\\t')\n",
    "                start = shift[key]+int(alist1[3]); stop = shift[key]+int(alist1[4])\n",
    "                if start < 0: continue\n",
    "                alist2[3] = str(start); alist2[4] = str(stop)\n",
    "                f1.write('\\t'.join(alist2))\n",
    "\n",
    "    print 'The updated annotation file is saved at:',outputFile\n",
    "    \n",
    "    \n",
    "def update_annotation_cut_fasta(intergenic_length, inputFile, outputFile, fastaFile, fastaFileCut):\n",
    "    gene_locs = get_gene_location(inputFile)\n",
    "    \n",
    "    update_annotation(inputFile, outputFile, gene_locs, intergenic_length)\n",
    "    \n",
    "    cut_single_fasta(fastaFile, fastaFileCut, gene_locs, intergenic_length)\n",
    "    \n",
    "    \n",
    "# if __name__ == '__main__':\n",
    "#     if len(sys.argv) != 6:\n",
    "#         print \"please provide intergenic_length, inputFile, outputFile, fastaFile, fastaFileCut\"\n",
    "#     else:\n",
    "#         update_annotation_cut_fasta(int(sys.argv[1]), sys.argv[2],sys.argv[3], sys.argv[4], sys.argv[5])"
   ]
  },
  {
   "cell_type": "code",
   "execution_count": 20,
   "metadata": {
    "collapsed": true
   },
   "outputs": [],
   "source": [
    "intergenic_length = 200\n",
    "inputGtf = '/home/richard/research/tests/Oct25FilterOutSingleAnnotation/Disac1/Disac1_scaffold_1.original.gtf'\n",
    "outputGtf = '/home/richard/research/tests/Oct25FilterOutSingleAnnotation/Disac1/Disac1_scaffold_1.original.updated.gtf'\n",
    "inputFasta = '/home/richard/research/tests/Oct25FilterOutSingleAnnotation/Disac1/Disac1_scaffold_1.fasta'\n",
    "outputFasta = '/home/richard/research/tests/Oct25FilterOutSingleAnnotation/Disac1/Disac1_scaffold_1.original.cut.fasta'"
   ]
  },
  {
   "cell_type": "code",
   "execution_count": 21,
   "metadata": {
    "collapsed": false,
    "scrolled": false
   },
   "outputs": [
    {
     "ename": "KeyError",
     "evalue": "'\"gw1.1.2018.1\";'",
     "output_type": "error",
     "traceback": [
      "\u001b[1;31m---------------------------------------------------------------------------\u001b[0m",
      "\u001b[1;31mKeyError\u001b[0m                                  Traceback (most recent call last)",
      "\u001b[1;32m<ipython-input-21-b578df506619>\u001b[0m in \u001b[0;36m<module>\u001b[1;34m()\u001b[0m\n\u001b[1;32m----> 1\u001b[1;33m \u001b[0mupdate_annotation_cut_fasta\u001b[0m\u001b[1;33m(\u001b[0m\u001b[0mintergenic_length\u001b[0m\u001b[1;33m,\u001b[0m \u001b[0minputGtf\u001b[0m\u001b[1;33m,\u001b[0m \u001b[0moutputGtf\u001b[0m\u001b[1;33m,\u001b[0m \u001b[0minputFasta\u001b[0m\u001b[1;33m,\u001b[0m \u001b[0moutputFasta\u001b[0m\u001b[1;33m)\u001b[0m\u001b[1;33m\u001b[0m\u001b[0m\n\u001b[0m",
      "\u001b[1;32m<ipython-input-19-f9f0650d6e21>\u001b[0m in \u001b[0;36mupdate_annotation_cut_fasta\u001b[1;34m(intergenic_length, inputFile, outputFile, fastaFile, fastaFileCut)\u001b[0m\n\u001b[0;32m    104\u001b[0m     \u001b[0mgene_locs\u001b[0m \u001b[1;33m=\u001b[0m \u001b[0mget_gene_location\u001b[0m\u001b[1;33m(\u001b[0m\u001b[0minputFile\u001b[0m\u001b[1;33m)\u001b[0m\u001b[1;33m\u001b[0m\u001b[0m\n\u001b[0;32m    105\u001b[0m \u001b[1;33m\u001b[0m\u001b[0m\n\u001b[1;32m--> 106\u001b[1;33m     \u001b[0mupdate_annotation\u001b[0m\u001b[1;33m(\u001b[0m\u001b[0minputFile\u001b[0m\u001b[1;33m,\u001b[0m \u001b[0moutputFile\u001b[0m\u001b[1;33m,\u001b[0m \u001b[0mgene_locs\u001b[0m\u001b[1;33m,\u001b[0m \u001b[0mintergenic_length\u001b[0m\u001b[1;33m)\u001b[0m\u001b[1;33m\u001b[0m\u001b[0m\n\u001b[0m\u001b[0;32m    107\u001b[0m \u001b[1;33m\u001b[0m\u001b[0m\n\u001b[0;32m    108\u001b[0m     \u001b[0mcut_single_fasta\u001b[0m\u001b[1;33m(\u001b[0m\u001b[0mfastaFile\u001b[0m\u001b[1;33m,\u001b[0m \u001b[0mfastaFileCut\u001b[0m\u001b[1;33m,\u001b[0m \u001b[0mgene_locs\u001b[0m\u001b[1;33m,\u001b[0m \u001b[0mintergenic_length\u001b[0m\u001b[1;33m)\u001b[0m\u001b[1;33m\u001b[0m\u001b[0m\n",
      "\u001b[1;32m<ipython-input-19-f9f0650d6e21>\u001b[0m in \u001b[0;36mupdate_annotation\u001b[1;34m(inputFile, outputFile, gene_locs, intergenic_length)\u001b[0m\n\u001b[0;32m     93\u001b[0m                 \u001b[0mkey\u001b[0m \u001b[1;33m=\u001b[0m \u001b[0malist1\u001b[0m\u001b[1;33m[\u001b[0m\u001b[1;36m9\u001b[0m\u001b[1;33m]\u001b[0m\u001b[1;33m\u001b[0m\u001b[0m\n\u001b[0;32m     94\u001b[0m                 \u001b[0malist2\u001b[0m \u001b[1;33m=\u001b[0m \u001b[0mline\u001b[0m\u001b[1;33m.\u001b[0m\u001b[0msplit\u001b[0m\u001b[1;33m(\u001b[0m\u001b[1;34m'\\t'\u001b[0m\u001b[1;33m)\u001b[0m\u001b[1;33m\u001b[0m\u001b[0m\n\u001b[1;32m---> 95\u001b[1;33m                 \u001b[0mstart\u001b[0m \u001b[1;33m=\u001b[0m \u001b[0mshift\u001b[0m\u001b[1;33m[\u001b[0m\u001b[0mkey\u001b[0m\u001b[1;33m]\u001b[0m\u001b[1;33m+\u001b[0m\u001b[0mint\u001b[0m\u001b[1;33m(\u001b[0m\u001b[0malist1\u001b[0m\u001b[1;33m[\u001b[0m\u001b[1;36m3\u001b[0m\u001b[1;33m]\u001b[0m\u001b[1;33m)\u001b[0m\u001b[1;33m;\u001b[0m \u001b[0mstop\u001b[0m \u001b[1;33m=\u001b[0m \u001b[0mshift\u001b[0m\u001b[1;33m[\u001b[0m\u001b[0mkey\u001b[0m\u001b[1;33m]\u001b[0m\u001b[1;33m+\u001b[0m\u001b[0mint\u001b[0m\u001b[1;33m(\u001b[0m\u001b[0malist1\u001b[0m\u001b[1;33m[\u001b[0m\u001b[1;36m4\u001b[0m\u001b[1;33m]\u001b[0m\u001b[1;33m)\u001b[0m\u001b[1;33m\u001b[0m\u001b[0m\n\u001b[0m\u001b[0;32m     96\u001b[0m                 \u001b[1;32mif\u001b[0m \u001b[0mstart\u001b[0m \u001b[1;33m<\u001b[0m \u001b[1;36m0\u001b[0m\u001b[1;33m:\u001b[0m \u001b[1;32mcontinue\u001b[0m\u001b[1;33m\u001b[0m\u001b[0m\n\u001b[0;32m     97\u001b[0m                 \u001b[0malist2\u001b[0m\u001b[1;33m[\u001b[0m\u001b[1;36m3\u001b[0m\u001b[1;33m]\u001b[0m \u001b[1;33m=\u001b[0m \u001b[0mstr\u001b[0m\u001b[1;33m(\u001b[0m\u001b[0mstart\u001b[0m\u001b[1;33m)\u001b[0m\u001b[1;33m;\u001b[0m \u001b[0malist2\u001b[0m\u001b[1;33m[\u001b[0m\u001b[1;36m4\u001b[0m\u001b[1;33m]\u001b[0m \u001b[1;33m=\u001b[0m \u001b[0mstr\u001b[0m\u001b[1;33m(\u001b[0m\u001b[0mstop\u001b[0m\u001b[1;33m)\u001b[0m\u001b[1;33m\u001b[0m\u001b[0m\n",
      "\u001b[1;31mKeyError\u001b[0m: '\"gw1.1.2018.1\";'"
     ]
    }
   ],
   "source": [
    "update_annotation_cut_fasta(intergenic_length, inputGtf, outputGtf, inputFasta, outputFasta)"
   ]
  },
  {
   "cell_type": "code",
   "execution_count": null,
   "metadata": {
    "collapsed": true
   },
   "outputs": [],
   "source": []
  }
 ],
 "metadata": {
  "kernelspec": {
   "display_name": "Python 2",
   "language": "python",
   "name": "python2"
  },
  "language_info": {
   "codemirror_mode": {
    "name": "ipython",
    "version": 2
   },
   "file_extension": ".py",
   "mimetype": "text/x-python",
   "name": "python",
   "nbconvert_exporter": "python",
   "pygments_lexer": "ipython2",
   "version": "2.7.10"
  }
 },
 "nbformat": 4,
 "nbformat_minor": 0
}
