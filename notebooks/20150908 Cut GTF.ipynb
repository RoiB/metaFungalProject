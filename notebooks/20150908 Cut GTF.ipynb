{
 "cells": [
  {
   "cell_type": "code",
   "execution_count": 1,
   "metadata": {
    "collapsed": true
   },
   "outputs": [],
   "source": [
    "with open(\"../5_Tests/Sep9Pneji/Pneji1_GeneCatalog_genes_20130607.gtf\") as f:\n",
    "    with open(\"../5_Tests/Sep9Pneji/Pneji1_GeneCatalog_genes_20130607_contig_1.gtf\",'w') as f0:\n",
    "        for line in f:\n",
    "            if \"contig_1\" in line:\n",
    "                f0.write(line)"
   ]
  },
  {
   "cell_type": "code",
   "execution_count": 2,
   "metadata": {
    "collapsed": true
   },
   "outputs": [],
   "source": [
    "with open(\"../5_Tests/Sep9Pneji/Pneji1_GeneCatalog_genes_20130607.gtf\") as f:\n",
    "    with open(\"../5_Tests/Sep9Pneji/Pneji1_GeneCatalog_genes_20130607_contig_281.gtf\",'w') as f0:\n",
    "        for line in f:\n",
    "            if \"contig_281\" in line:\n",
    "                f0.write(line)"
   ]
  },
  {
   "cell_type": "code",
   "execution_count": null,
   "metadata": {
    "collapsed": true
   },
   "outputs": [],
   "source": []
  }
 ],
 "metadata": {
  "kernelspec": {
   "display_name": "Python 2",
   "language": "python",
   "name": "python2"
  },
  "language_info": {
   "codemirror_mode": {
    "name": "ipython",
    "version": 2
   },
   "file_extension": ".py",
   "mimetype": "text/x-python",
   "name": "python",
   "nbconvert_exporter": "python",
   "pygments_lexer": "ipython2",
   "version": "2.7.10"
  }
 },
 "nbformat": 4,
 "nbformat_minor": 0
}
