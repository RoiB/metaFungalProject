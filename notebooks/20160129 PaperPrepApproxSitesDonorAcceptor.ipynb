{
 "cells": [
  {
   "cell_type": "code",
   "execution_count": 57,
   "metadata": {
    "collapsed": true
   },
   "outputs": [],
   "source": [
    "import pandas as pd\n",
    "import numpy as np\n",
    "import subprocess"
   ]
  },
  {
   "cell_type": "code",
   "execution_count": 28,
   "metadata": {
    "collapsed": true
   },
   "outputs": [],
   "source": [
    "def non_negative(number):\n",
    "    '''helper function, prevent negative regression result'''\n",
    "    if number < 0: return 0\n",
    "    else         : return number"
   ]
  },
  {
   "cell_type": "code",
   "execution_count": 29,
   "metadata": {
    "collapsed": false
   },
   "outputs": [],
   "source": [
    "def read_table(shortName, site_type): \n",
    "    if site_type == 'don':\n",
    "        return pd.read_csv(don_path.format(shortName), sep = ' ', header=None)\n",
    "    if site_type == 'acc':\n",
    "        return pd.read_csv(acc_path.format(shortName), sep = ' ', header=None)"
   ]
  },
  {
   "cell_type": "code",
   "execution_count": 69,
   "metadata": {
    "collapsed": true
   },
   "outputs": [],
   "source": [
    "species = pd.read_csv('/home/richard/research/tests/20160102RegressionFromAlexData/191species.csv', header = None)[0]"
   ]
  },
  {
   "cell_type": "code",
   "execution_count": 70,
   "metadata": {
    "collapsed": true
   },
   "outputs": [],
   "source": [
    "info = pd.read_csv('/home/richard/research/tests/20160102RegressionFromAlexData/freq_table_real_frame1.csv')\n",
    "info.index = info.shortName"
   ]
  },
  {
   "cell_type": "code",
   "execution_count": 71,
   "metadata": {
    "collapsed": false
   },
   "outputs": [],
   "source": [
    "info = info.ix[species] #pick the species according to the filtered list"
   ]
  },
  {
   "cell_type": "code",
   "execution_count": 72,
   "metadata": {
    "collapsed": true
   },
   "outputs": [],
   "source": [
    "don_path = '/storage3/w/alexl/Fa/{}/annot/don.mat'\n",
    "acc_path = '/storage3/w/alexl/Fa/{}/annot/acc.mat'"
   ]
  },
  {
   "cell_type": "code",
   "execution_count": 34,
   "metadata": {
    "collapsed": false,
    "scrolled": true
   },
   "outputs": [
    {
     "name": "stdout",
     "output_type": "stream",
     "text": [
      "   0       1       2       3  4  5       6       7       8       9\n",
      "0  T  0.1970  0.2415  0.1973  0  1  0.0710  0.2190  0.0638  0.5297\n",
      "1  C  0.2442  0.2131  0.1292  0  0  0.0739  0.1880  0.0446  0.2119\n",
      "2  A  0.3358  0.3737  0.1631  0  0  0.6194  0.4825  0.0902  0.1542\n",
      "3  G  0.2230  0.1717  0.5104  1  0  0.2357  0.1105  0.8014  0.1043\n"
     ]
    }
   ],
   "source": [
    "don_sample_table = read_table('Aciri1_iso', 'don'); print don_sample_table"
   ]
  },
  {
   "cell_type": "code",
   "execution_count": 35,
   "metadata": {
    "collapsed": false
   },
   "outputs": [
    {
     "name": "stdout",
     "output_type": "stream",
     "text": [
      "   0       1       2       3       4       5  6  7       8\n",
      "0  T  0.3224  0.3170  0.3613  0.2059  0.3486  0  0  0.1740\n",
      "1  C  0.2374  0.2399  0.2515  0.2073  0.5008  0  0  0.1956\n",
      "2  A  0.2318  0.2351  0.2127  0.3226  0.1193  1  0  0.2660\n",
      "3  G  0.2084  0.2081  0.1745  0.2642  0.0313  0  1  0.3645\n"
     ]
    }
   ],
   "source": [
    "acc_sample_table = read_table('Aciri1_iso', 'acc'); print acc_sample_table"
   ]
  },
  {
   "cell_type": "code",
   "execution_count": 36,
   "metadata": {
    "collapsed": true
   },
   "outputs": [],
   "source": [
    "# collect tables"
   ]
  },
  {
   "cell_type": "code",
   "execution_count": 37,
   "metadata": {
    "collapsed": false
   },
   "outputs": [
    {
     "name": "stdout",
     "output_type": "stream",
     "text": [
      "problem with Antlo1\n",
      "problem with Entbi1\n"
     ]
    }
   ],
   "source": [
    "don_tables = []\n",
    "for shortName in info.shortName:\n",
    "    try:\n",
    "        don_tables.append((shortName,read_table(shortName, 'don')))\n",
    "    except:\n",
    "        print \"problem with\",shortName"
   ]
  },
  {
   "cell_type": "code",
   "execution_count": 40,
   "metadata": {
    "collapsed": false
   },
   "outputs": [
    {
     "name": "stdout",
     "output_type": "stream",
     "text": [
      "problem with Antlo1\n",
      "problem with Entbi1\n"
     ]
    }
   ],
   "source": [
    "acc_tables = []\n",
    "for shortName in info.shortName:\n",
    "    try:\n",
    "        acc_tables.append((shortName,read_table(shortName, 'acc')))\n",
    "    except:\n",
    "        print \"problem with\",shortName"
   ]
  },
  {
   "cell_type": "code",
   "execution_count": 43,
   "metadata": {
    "collapsed": false
   },
   "outputs": [],
   "source": [
    "# train_model donor\n",
    "num_rows = 4\n",
    "num_cols = don_tables[0][1].shape[1]-1\n",
    "\n",
    "don_model = [[None for j in range(num_cols)] for i in range(num_rows)]\n",
    "cds_gc = info.cds_gc[map(lambda x: x[0], don_tables)]\n",
    "for i in range(num_rows):\n",
    "    for j in range(num_cols):\n",
    "        don_model[i][j] = np.poly1d(np.polyfit(cds_gc, map(lambda x: x[1].iloc[i,j+1], don_tables), 1))\n",
    "#         print sample_table.iloc[i,j+1],\n",
    "#     print"
   ]
  },
  {
   "cell_type": "code",
   "execution_count": 44,
   "metadata": {
    "collapsed": true
   },
   "outputs": [],
   "source": [
    "# train_model acceptor\n",
    "num_rows = 4\n",
    "num_cols = acc_tables[0][1].shape[1]-1\n",
    "\n",
    "acc_model = [[None for j in range(num_cols)] for i in range(num_rows)]\n",
    "cds_gc = info.cds_gc[map(lambda x: x[0], acc_tables)]\n",
    "for i in range(num_rows):\n",
    "    for j in range(num_cols):\n",
    "        acc_model[i][j] = np.poly1d(np.polyfit(cds_gc, map(lambda x: x[1].iloc[i,j+1], acc_tables), 1))\n",
    "#         print sample_table.iloc[i,j+1],\n",
    "#     print"
   ]
  },
  {
   "cell_type": "code",
   "execution_count": 84,
   "metadata": {
    "collapsed": true
   },
   "outputs": [],
   "source": [
    "# table path\n",
    "donor_path = '/home/richard/research/tests/20160129ApproxSiteDonorAcceptor/donors/'\n",
    "donor_path_approx = '/home/richard/research/tests/20160129ApproxSiteDonorAcceptor/approx_donors/'\n",
    "acceptor_path = '/home/richard/research/tests/20160129ApproxSiteDonorAcceptor/acceptors/'\n",
    "acceptor_path_approx = '/home/richard/research/tests/20160129ApproxSiteDonorAcceptor/approx_acceptors//'"
   ]
  },
  {
   "cell_type": "code",
   "execution_count": 60,
   "metadata": {
    "collapsed": false
   },
   "outputs": [],
   "source": [
    "#create table according to donor model\n",
    "num_rows = 4\n",
    "num_cols = don_tables[0][1].shape[1]-1\n",
    "\n",
    "don_template = don_sample_table.copy()\n",
    "for gc in range(25,76):\n",
    "    for i in range(num_rows):\n",
    "        for j in range(num_cols):\n",
    "            don_template.loc[i,j+1] = non_negative(don_model[i][j](gc))\n",
    "            don_template.to_csv('{}{}{}.txt'.format(donor_path_approx, 'don_',gc), sep=\" \",index = False, header = None)"
   ]
  },
  {
   "cell_type": "code",
   "execution_count": 61,
   "metadata": {
    "collapsed": true
   },
   "outputs": [],
   "source": [
    "#create table according acceptor model\n",
    "num_rows = 4\n",
    "num_cols = acc_tables[0][1].shape[1]-1\n",
    "\n",
    "acc_template = acc_sample_table.copy()\n",
    "for gc in range(25,76):\n",
    "    for i in range(num_rows):\n",
    "        for j in range(num_cols):\n",
    "            acc_template.loc[i,j+1] = non_negative(acc_model[i][j](gc))\n",
    "            acc_template.to_csv('{}{}{}.txt'.format(acceptor_path_approx, 'acc_',gc), sep=\" \",index = False, header = None)"
   ]
  },
  {
   "cell_type": "code",
   "execution_count": 74,
   "metadata": {
    "collapsed": false
   },
   "outputs": [
    {
     "name": "stdout",
     "output_type": "stream",
     "text": [
      "problem with Antlo1\n",
      "problem with Entbi1\n"
     ]
    }
   ],
   "source": [
    "## copy original donor, acc matrix to folder\n",
    "# donor\n",
    "for name in info.shortName:\n",
    "    try:\n",
    "        command = 'cp {} {}{}_don_{}.txt'.format(don_path.format(name), donor_path, name, int(round(info.ix[name].genome_gc, 0)))\n",
    "        subprocess.check_call(command, shell = True)\n",
    "    except:\n",
    "        print 'problem with', name"
   ]
  },
  {
   "cell_type": "code",
   "execution_count": 87,
   "metadata": {
    "collapsed": false,
    "scrolled": true
   },
   "outputs": [
    {
     "name": "stdout",
     "output_type": "stream",
     "text": [
      "problem with Antlo1\n",
      "problem with Entbi1\n"
     ]
    }
   ],
   "source": [
    "## copy original acceptor, acc matrix to folder\n",
    "# donor\n",
    "for name in info.shortName:\n",
    "    try:\n",
    "        command = 'cp {} {}{}_acc_{}.txt'.format(acc_path.format(name), acceptor_path, name, int(round(info.ix[name].genome_gc, 0)))\n",
    "#         print command\n",
    "        subprocess.check_call(command, shell = True)\n",
    "    except:\n",
    "        print 'problem with', name\n"
   ]
  }
 ],
 "metadata": {
  "kernelspec": {
   "display_name": "Python 2",
   "language": "python",
   "name": "python2"
  },
  "language_info": {
   "codemirror_mode": {
    "name": "ipython",
    "version": 2
   },
   "file_extension": ".py",
   "mimetype": "text/x-python",
   "name": "python",
   "nbconvert_exporter": "python",
   "pygments_lexer": "ipython2",
   "version": "2.7.10"
  }
 },
 "nbformat": 4,
 "nbformat_minor": 0
}
