{
 "cells": [
  {
   "cell_type": "code",
   "execution_count": 2,
   "metadata": {
    "collapsed": true
   },
   "outputs": [],
   "source": [
    "testSetLocation = '/home/richard/research/tests/Nov7RandomSeq/random_seq_set/'\n",
    "filenames = os.listdir(testSetLocation)"
   ]
  },
  {
   "cell_type": "code",
   "execution_count": 7,
   "metadata": {
    "collapsed": false
   },
   "outputs": [],
   "source": [
    "### run gmhmme3 multi-fasta version, low intron density\n",
    "modelLowLoc = '/home/richard/research/tests/Oct29AssembleModel/modelSetLow/'\n",
    "script = ''\n",
    "for i in range(30,61):\n",
    "    command = ('python /home/richard/research/tools/gmhmme3MultiFastaBySeqGC.py {} {}random_seq_gc_{}.fasta random_seq_gc_{}\\n'\n",
    "               .format(modelLowLoc,testSetLocation,i,i))\n",
    "#     print command\n",
    "    script += command\n",
    "#     print command\n",
    "with open('/home/richard/research/tests/Nov7RandomSeq/testRandomSeqLow/run_test.sh','w') as f: f.write(script)"
   ]
  },
  {
   "cell_type": "code",
   "execution_count": 8,
   "metadata": {
    "collapsed": true
   },
   "outputs": [],
   "source": [
    "### run gmhmme3 multi-fasta version, mid intron density\n",
    "modelLowLoc = '/home/richard/research/tests/Oct29AssembleModel/modelSetMid/'\n",
    "script = ''\n",
    "for i in range(30,61):\n",
    "    command = ('python /home/richard/research/tools/gmhmme3MultiFastaBySeqGC.py {} {}random_seq_gc_{}.fasta random_seq_gc_{}\\n'\n",
    "               .format(modelLowLoc,testSetLocation,i,i))\n",
    "#     print command\n",
    "    script += command\n",
    "#     print command\n",
    "with open('/home/richard/research/tests/Nov7RandomSeq/testRandomSeqMid/run_test.sh','w') as f: f.write(script)"
   ]
  },
  {
   "cell_type": "code",
   "execution_count": 9,
   "metadata": {
    "collapsed": true
   },
   "outputs": [],
   "source": [
    "### run gmhmme3 multi-fasta version, high intron density\n",
    "modelLowLoc = '/home/richard/research/tests/Oct29AssembleModel/modelSetHigh/'\n",
    "script = ''\n",
    "for i in range(30,61):\n",
    "    command = ('python /home/richard/research/tools/gmhmme3MultiFastaBySeqGC.py {} {}random_seq_gc_{}.fasta random_seq_gc_{}\\n'\n",
    "               .format(modelLowLoc,testSetLocation,i,i))\n",
    "#     print command\n",
    "    script += command\n",
    "#     print command\n",
    "with open('/home/richard/research/tests/Nov7RandomSeq/testRandomSeqHigh/run_test.sh','w') as f: f.write(script)"
   ]
  },
  {
   "cell_type": "code",
   "execution_count": null,
   "metadata": {
    "collapsed": true
   },
   "outputs": [],
   "source": [
    "### eval "
   ]
  },
  {
   "cell_type": "code",
   "execution_count": 16,
   "metadata": {
    "collapsed": false
   },
   "outputs": [],
   "source": [
    "##### eval out put result\n",
    "location = '/home/richard/research/tests/Nov7RandomSeq/testRandomSeqLow/'\n",
    "folders = os.listdir(location)\n",
    "outputLocationLow = '/home/richard/research/tests/Nov7RandomSeq/evalRandomLow/'\n",
    "\n",
    "script = ''\n",
    "for i in range(30,61):\n",
    "    filename = '{}random_seq_gc_{}/random_seq_gc_{}_fullPrediction.gtf'.format(location, i,i)\n",
    "    command = ('perl evaluate_gtf.pl {} {}> {}random_seq_gc_{}.eval.txt\\n'\n",
    "               .format(filename, filename, outputLocationLow,i))\n",
    "#     print command\n",
    "    script += command\n",
    "with open('/home/richard/research/tests/Nov7RandomSeq/eval_lite/eval_ByGCLow.sh','w') as f: f.write(script)"
   ]
  },
  {
   "cell_type": "code",
   "execution_count": 17,
   "metadata": {
    "collapsed": true
   },
   "outputs": [],
   "source": [
    "##### eval out put result\n",
    "location = '/home/richard/research/tests/Nov7RandomSeq/testRandomSeqMid/'\n",
    "folders = os.listdir(location)\n",
    "outputLocationLow = '/home/richard/research/tests/Nov7RandomSeq/evalRandomMid/'\n",
    "\n",
    "script = ''\n",
    "for i in range(30,61):\n",
    "    filename = '{}random_seq_gc_{}/random_seq_gc_{}_fullPrediction.gtf'.format(location, i,i)\n",
    "    command = ('perl evaluate_gtf.pl {} {}> {}random_seq_gc_{}.eval.txt\\n'\n",
    "               .format(filename, filename, outputLocationLow,i))\n",
    "#     print command\n",
    "    script += command\n",
    "with open('/home/richard/research/tests/Nov7RandomSeq/eval_lite/eval_ByGCMid.sh','w') as f: f.write(script)"
   ]
  },
  {
   "cell_type": "code",
   "execution_count": 18,
   "metadata": {
    "collapsed": true
   },
   "outputs": [],
   "source": [
    "##### eval out put result\n",
    "location = '/home/richard/research/tests/Nov7RandomSeq/testRandomSeqHigh/'\n",
    "folders = os.listdir(location)\n",
    "outputLocationLow = '/home/richard/research/tests/Nov7RandomSeq/evalRandomHigh/'\n",
    "\n",
    "script = ''\n",
    "for i in range(30,61):\n",
    "    filename = '{}random_seq_gc_{}/random_seq_gc_{}_fullPrediction.gtf'.format(location, i,i)\n",
    "    command = ('perl evaluate_gtf.pl {} {}> {}random_seq_gc_{}.eval.txt\\n'\n",
    "               .format(filename, filename, outputLocationLow,i))\n",
    "#     print command\n",
    "    script += command\n",
    "with open('/home/richard/research/tests/Nov7RandomSeq/eval_lite/eval_ByGCHigh.sh','w') as f: f.write(script)"
   ]
  }
 ],
 "metadata": {
  "kernelspec": {
   "display_name": "Python 2",
   "language": "python",
   "name": "python2"
  },
  "language_info": {
   "codemirror_mode": {
    "name": "ipython",
    "version": 2
   },
   "file_extension": ".py",
   "mimetype": "text/x-python",
   "name": "python",
   "nbconvert_exporter": "python",
   "pygments_lexer": "ipython2",
   "version": "2.7.10"
  }
 },
 "nbformat": 4,
 "nbformat_minor": 0
}
