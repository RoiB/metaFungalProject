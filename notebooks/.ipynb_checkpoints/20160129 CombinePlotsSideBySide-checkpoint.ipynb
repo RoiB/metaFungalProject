{
 "cells": [
  {
   "cell_type": "code",
   "execution_count": 4,
   "metadata": {
    "collapsed": false
   },
   "outputs": [],
   "source": [
    "from PIL import Image"
   ]
  },
  {
   "cell_type": "code",
   "execution_count": 20,
   "metadata": {
    "collapsed": false
   },
   "outputs": [],
   "source": [
    "im = Image.open(\"/home/richard/research/tests/20160129ApproxSiteDonorAcceptor/plots/acceptors_plot/Aaoar1_acc_50.tiff\")"
   ]
  },
  {
   "cell_type": "code",
   "execution_count": 21,
   "metadata": {
    "collapsed": false
   },
   "outputs": [],
   "source": [
    "new_im = Image.new('RGB', (960,480))"
   ]
  },
  {
   "cell_type": "code",
   "execution_count": 25,
   "metadata": {
    "collapsed": false
   },
   "outputs": [],
   "source": [
    "new_im.paste(im, (0,0))\n",
    "new_im.paste(im, (480,0))"
   ]
  },
  {
   "cell_type": "code",
   "execution_count": 28,
   "metadata": {
    "collapsed": true
   },
   "outputs": [],
   "source": [
    "## learn the image package and start paste donor image\n",
    "donor_files = os.listdir('/home/richard/research/tests/20160129ApproxSiteDonorAcceptor/plots/donors_plot/')"
   ]
  },
  {
   "cell_type": "code",
   "execution_count": 48,
   "metadata": {
    "collapsed": false
   },
   "outputs": [
    {
     "name": "stdout",
     "output_type": "stream",
     "text": [
      "Rhoto1_don_62\n",
      "Mycgr3_don_52\n",
      "Pycsa1_don_57\n",
      "Colgr1_don_49\n",
      "Gloci1_don_52\n",
      "Gloin1_don_28\n",
      "Themi1_don_51\n",
      "Encro1_don_40\n",
      "Neucr2_don_48\n",
      "Trias1_don_47\n",
      "Picpa1_don_41\n",
      "Torde1_don_42\n",
      "Yarli1_don_49\n",
      "Rhodsp1_don_56\n",
      "Coere1_don_45\n",
      "Melti1_don_50\n",
      "Conli1_don_52\n",
      "Rhimi1_1_don_38\n",
      "Aspni7_don_50\n",
      "Cepal1_1_don_35\n",
      "Triver1_don_48\n",
      "Mucci2_don_42\n",
      "Mictr1_don_56\n",
      "Aurvu1_don_57\n",
      "Exigl1_don_57\n",
      "Triol1_don_61\n",
      "Wilmi1_don_46\n",
      "ThoPMI491_1_don_54\n",
      "Pyrco1_don_48\n",
      "Pneji1_don_28\n",
      "Fibra1_don_51\n",
      "Tilan2_don_56\n",
      "Nadfu1_don_39\n",
      "Picme2_don_45\n",
      "Rozal1_1_don_35\n",
      "Ompol1_don_47\n",
      "Umbra1_don_43\n",
      "Xerba1_don_51\n",
      "Melva1_don_48\n",
      "Gymci1_1_don_52\n",
      "Acain1_don_57\n",
      "Cormi1_don_51\n",
      "Veren1_don_41\n",
      "Aspoch1_don_44\n",
      "Tilwa1_don_68\n",
      "Lenti6_1_don_56\n",
      "Schja1_don_44\n",
      "Botbo1_don_52\n",
      "Copci1_don_52\n",
      "Cryvi1_don_53\n",
      "Batde5_don_39\n",
      "Basun1_don_58\n",
      "Neopa1_don_57\n",
      "Canar1_don_35\n",
      "Atrsp2_don_49\n",
      "Babin1_don_48\n",
      "Lorju1_don_46\n",
      "Cryne_JEC21_1_don_49\n",
      "Exova1_don_44\n",
      "Dekbr2_don_40\n",
      "Lacam1_don_47\n",
      "Lipst1_1_don_47\n",
      "Ascni1_don_52\n",
      "Saico1_don_53\n",
      "Aciri1_meta_don_50\n",
      "Hydpi2_don_51\n"
     ]
    },
    {
     "ename": "IOError",
     "evalue": "[Errno 2] No such file or directory: '/home/richard/research/tests/20160129ApproxSiteDonorAcceptor/plots/approx_donors_plots/don_17.tiff'",
     "output_type": "error",
     "traceback": [
      "\u001b[1;31m---------------------------------------------------------------------------\u001b[0m",
      "\u001b[1;31mIOError\u001b[0m                                   Traceback (most recent call last)",
      "\u001b[1;32m<ipython-input-48-bcfcfabe44b2>\u001b[0m in \u001b[0;36m<module>\u001b[1;34m()\u001b[0m\n\u001b[0;32m      7\u001b[0m     \u001b[1;31m#paste approx\u001b[0m\u001b[1;33m\u001b[0m\u001b[1;33m\u001b[0m\u001b[0m\n\u001b[0;32m      8\u001b[0m     \u001b[0mgc\u001b[0m \u001b[1;33m=\u001b[0m \u001b[0mname\u001b[0m\u001b[1;33m.\u001b[0m\u001b[0msplit\u001b[0m\u001b[1;33m(\u001b[0m\u001b[1;34m'_'\u001b[0m\u001b[1;33m)\u001b[0m\u001b[1;33m[\u001b[0m\u001b[1;33m-\u001b[0m\u001b[1;36m1\u001b[0m\u001b[1;33m]\u001b[0m\u001b[1;33m\u001b[0m\u001b[0m\n\u001b[1;32m----> 9\u001b[1;33m     \u001b[0mim2\u001b[0m \u001b[1;33m=\u001b[0m \u001b[0mImage\u001b[0m\u001b[1;33m.\u001b[0m\u001b[0mopen\u001b[0m\u001b[1;33m(\u001b[0m\u001b[1;34m'/home/richard/research/tests/20160129ApproxSiteDonorAcceptor/plots/approx_donors_plots/don_{}'\u001b[0m\u001b[1;33m.\u001b[0m\u001b[0mformat\u001b[0m\u001b[1;33m(\u001b[0m\u001b[0mgc\u001b[0m\u001b[1;33m)\u001b[0m\u001b[1;33m)\u001b[0m\u001b[1;33m\u001b[0m\u001b[0m\n\u001b[0m\u001b[0;32m     10\u001b[0m     \u001b[0mnew_im\u001b[0m\u001b[1;33m.\u001b[0m\u001b[0mpaste\u001b[0m\u001b[1;33m(\u001b[0m\u001b[0mim2\u001b[0m\u001b[1;33m,\u001b[0m\u001b[1;33m(\u001b[0m\u001b[1;36m480\u001b[0m\u001b[1;33m,\u001b[0m\u001b[1;36m0\u001b[0m\u001b[1;33m)\u001b[0m\u001b[1;33m)\u001b[0m\u001b[1;33m\u001b[0m\u001b[0m\n\u001b[0;32m     11\u001b[0m \u001b[1;33m\u001b[0m\u001b[0m\n",
      "\u001b[1;32m/home/richard/anaconda/lib/python2.7/site-packages/PIL/Image.pyc\u001b[0m in \u001b[0;36mopen\u001b[1;34m(fp, mode)\u001b[0m\n\u001b[0;32m   2246\u001b[0m     \u001b[1;32mif\u001b[0m \u001b[0misPath\u001b[0m\u001b[1;33m(\u001b[0m\u001b[0mfp\u001b[0m\u001b[1;33m)\u001b[0m\u001b[1;33m:\u001b[0m\u001b[1;33m\u001b[0m\u001b[0m\n\u001b[0;32m   2247\u001b[0m         \u001b[0mfilename\u001b[0m \u001b[1;33m=\u001b[0m \u001b[0mfp\u001b[0m\u001b[1;33m\u001b[0m\u001b[0m\n\u001b[1;32m-> 2248\u001b[1;33m         \u001b[0mfp\u001b[0m \u001b[1;33m=\u001b[0m \u001b[0mbuiltins\u001b[0m\u001b[1;33m.\u001b[0m\u001b[0mopen\u001b[0m\u001b[1;33m(\u001b[0m\u001b[0mfp\u001b[0m\u001b[1;33m,\u001b[0m \u001b[1;34m\"rb\"\u001b[0m\u001b[1;33m)\u001b[0m\u001b[1;33m\u001b[0m\u001b[0m\n\u001b[0m\u001b[0;32m   2249\u001b[0m     \u001b[1;32melse\u001b[0m\u001b[1;33m:\u001b[0m\u001b[1;33m\u001b[0m\u001b[0m\n\u001b[0;32m   2250\u001b[0m         \u001b[0mfilename\u001b[0m \u001b[1;33m=\u001b[0m \u001b[1;34m\"\"\u001b[0m\u001b[1;33m\u001b[0m\u001b[0m\n",
      "\u001b[1;31mIOError\u001b[0m: [Errno 2] No such file or directory: '/home/richard/research/tests/20160129ApproxSiteDonorAcceptor/plots/approx_donors_plots/don_17.tiff'"
     ]
    }
   ],
   "source": [
    "for name in donor_files:\n",
    "    new_im = Image.new('RGB', (960,480))\n",
    "    #paste original\n",
    "    im1 = Image.open('/home/richard/research/tests/20160129ApproxSiteDonorAcceptor/plots/donors_plot/{}'.format(name))\n",
    "    new_im.paste(im1,(0,0))\n",
    "    \n",
    "    #paste approx\n",
    "    gc = name.split('_')[-1]\n",
    "    im2 = Image.open('/home/richard/research/tests/20160129ApproxSiteDonorAcceptor/plots/approx_donors_plots/don_{}'.format(gc))\n",
    "    new_im.paste(im2,(480,0))\n",
    "    \n",
    "    path = '/home/richard/research/tests/20160129ApproxSiteDonorAcceptor/plots/donor_combined/'\n",
    "    new_im.save(path + name[:-5]+'_combined.png')"
   ]
  },
  {
   "cell_type": "code",
   "execution_count": 45,
   "metadata": {
    "collapsed": false
   },
   "outputs": [],
   "source": [
    "new_im.save('/home/richard/research/tests/20160129ApproxSiteDonorAcceptor/plots/test/test.png')"
   ]
  },
  {
   "cell_type": "code",
   "execution_count": null,
   "metadata": {
    "collapsed": true
   },
   "outputs": [],
   "source": []
  }
 ],
 "metadata": {
  "kernelspec": {
   "display_name": "Python 2",
   "language": "python",
   "name": "python2"
  },
  "language_info": {
   "codemirror_mode": {
    "name": "ipython",
    "version": 2
   },
   "file_extension": ".py",
   "mimetype": "text/x-python",
   "name": "python",
   "nbconvert_exporter": "python",
   "pygments_lexer": "ipython2",
   "version": "2.7.10"
  }
 },
 "nbformat": 4,
 "nbformat_minor": 0
}
