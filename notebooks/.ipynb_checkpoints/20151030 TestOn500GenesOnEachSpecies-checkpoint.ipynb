{
 "cells": [
  {
   "cell_type": "code",
   "execution_count": 21,
   "metadata": {
    "collapsed": true
   },
   "outputs": [],
   "source": [
    "from Bio import SeqIO\n",
    "import subprocess\n",
    "import pandas as pd"
   ]
  },
  {
   "cell_type": "code",
   "execution_count": 20,
   "metadata": {
    "collapsed": false
   },
   "outputs": [],
   "source": [
    "# ### pick fasta by number, 500 for this test\n",
    "# testSetLocation = '/home/richard/research/tests/Oct30NewTestSet/testSet500/'\n",
    "# fastaSource = '/home/richard/research/tests/Oct30NewTestSet/TestSetCutFastaFixedCDS/'\n",
    "# gtfSource = '/home/richard/research/tests/Oct30NewTestSet/TestSetMultiExonGtfFixedCDS/'\n",
    "\n",
    "# shortNames = map(lambda x: x.split('_Assem')[0], os.listdir(fastaSource))\n",
    "# shortNames = filter(lambda x: x not in ['HypEC38_1', 'Neopa1', 'Veren1','Spofi1.draft.mito.scaffolds.cut.fasta'],shortNames)\n",
    "\n",
    "# for shortName in shortNames:\n",
    "#     command = ('python /home/richard/research/tools/pickFastaByNumber.py {}{} {}{} {}{} {}{} {}'\n",
    "#                .format(fastaSource,shortName+'*.fasta', gtfSource, shortName+'*.gtf', \n",
    "#                        testSetLocation,shortName+'_500genes.fasta', testSetLocation, shortName+'_500genes.gtf', 500))\n",
    "#     subprocess.check_call(command, shell = True)\n",
    "#     print shortName,'done'"
   ]
  },
  {
   "cell_type": "code",
   "execution_count": 19,
   "metadata": {
    "collapsed": false,
    "scrolled": true
   },
   "outputs": [
    {
     "name": "stdout",
     "output_type": "stream",
     "text": [
      "Disac1 done\n",
      "Tilan2 done\n",
      "Trias1 done\n",
      "Hebcy2 done\n",
      "Croqu1 done\n",
      "Gloin1 done\n",
      "Aurvu1 done\n",
      "Conli1 done\n",
      "Conco1 done\n",
      "Aspoch1 done\n",
      "Sphst1 done\n",
      "SerlaS7_9_2 done\n",
      "Phchr2 done\n",
      "Obbri1 done\n",
      "Pneji1 done\n",
      "Ophdi1 done\n",
      "Cenge3 done\n"
     ]
    }
   ],
   "source": [
    "### pick fasta by number, 100 for this test\n",
    "testSetLocation = '/home/richard/research/tests/Oct30NewTestSet/testSet100/'\n",
    "fastaSource = '/home/richard/research/tests/Oct30NewTestSet/TestSetCutFastaFixedCDS/'\n",
    "gtfSource = '/home/richard/research/tests/Oct30NewTestSet/TestSetMultiExonGtfFixedCDS/'\n",
    "\n",
    "shortNames = map(lambda x: x.split('_Assem')[0], os.listdir(fastaSource))\n",
    "shortNames = filter(lambda x: x not in ['HypEC38_1', 'Neopa1', 'Veren1','Spofi1.draft.mito.scaffolds.cut.fasta'],shortNames)\n",
    "\n",
    "for shortName in shortNames:\n",
    "    command = ('python /home/richard/research/tools/pickFastaByNumber.py {}{} {}{} {}{} {}{} {}'\n",
    "               .format(fastaSource,shortName+'*.fasta', gtfSource, shortName+'*.gtf', \n",
    "                       testSetLocation,shortName+'_100genes.fasta', testSetLocation, shortName+'_100genes.gtf', 100))\n",
    "    subprocess.check_call(command, shell = True)\n",
    "    print shortName,'done'"
   ]
  },
  {
   "cell_type": "code",
   "execution_count": 23,
   "metadata": {
    "collapsed": true
   },
   "outputs": [],
   "source": [
    "info = pd.read_csv('/home/richard/research/tests/Oct30NewTestSet/testSetStatistics.csv')\n",
    "info.index = info.shortName"
   ]
  },
  {
   "cell_type": "code",
   "execution_count": 55,
   "metadata": {
    "collapsed": false
   },
   "outputs": [],
   "source": [
    "# info.ix[shortNames]"
   ]
  },
  {
   "cell_type": "code",
   "execution_count": 37,
   "metadata": {
    "collapsed": false
   },
   "outputs": [],
   "source": [
    "gc = {shortName:int(round(info.gc[shortName])) for shortName in shortNames}"
   ]
  },
  {
   "cell_type": "code",
   "execution_count": 75,
   "metadata": {
    "collapsed": false
   },
   "outputs": [],
   "source": [
    "# ### run gmhmme3 multi-fasta version, low intron density\n",
    "# modelLowLoc = '/home/richard/largeDataSet/ES_Run_modfileAug2015/'\n",
    "# script = ''\n",
    "# for shortName in shortNames:\n",
    "#     command = ('python /home/richard/research/tools/gmhmme3MultiFastaV1.py {}{}.ES_C_4.mod {}{}_100genes.fasta {}_ES\\n'\n",
    "#                .format(modelLowLoc,shortName, testSetLocation, shortName, shortName))\n",
    "#     script += command\n",
    "#     print command\n",
    "# with open('/home/richard/research/tests/Oct30NewTestSet/test100outputES/run_test.sh','w') as f: f.write(script)"
   ]
  },
  {
   "cell_type": "code",
   "execution_count": 49,
   "metadata": {
    "collapsed": false
   },
   "outputs": [],
   "source": [
    "# ### run gmhmme3 multi-fasta version, low intron density\n",
    "# modelLowLoc = '/home/richard/research/tests/Oct29AssembleModel/modelSetLow/'\n",
    "# script = ''\n",
    "# for shortName in shortNames:\n",
    "#     command = ('python /home/richard/research/tools/gmhmme3MultiFastaV1.py {}MetaFungal_model_{}_low.txt {}{}_100genes.fasta {}_100.gtf\\n'\n",
    "#                .format(modelLowLoc, max(30, gc[shortName]),testSetLocation, shortName, shortName))\n",
    "#     script += command\n",
    "#     print command\n",
    "# with open('/home/richard/research/tests/Oct30NewTestSet/test100outputLow/run_test.sh','w') as f: f.write(script)"
   ]
  },
  {
   "cell_type": "code",
   "execution_count": 51,
   "metadata": {
    "collapsed": false
   },
   "outputs": [],
   "source": [
    "# ### run gmhmme3 multi-fasta version, mid intron density\n",
    "# modelLowLoc = '/home/richard/research/tests/Oct29AssembleModel/modelSetMid/'\n",
    "# script = ''\n",
    "# for shortName in shortNames:\n",
    "#     command = ('python /home/richard/research/tools/gmhmme3MultiFastaV1.py {}MetaFungal_model_{}_mid.txt {}{}_100genes.fasta {}_100.gtf\\n'\n",
    "#                .format(modelLowLoc, max(30, gc[shortName]),testSetLocation, shortName, shortName))\n",
    "#     script += command\n",
    "#     print command\n",
    "# with open('/home/richard/research/tests/Oct30NewTestSet/test100outputMid/run_test.sh','w') as f: f.write(script)"
   ]
  },
  {
   "cell_type": "code",
   "execution_count": 53,
   "metadata": {
    "collapsed": false
   },
   "outputs": [],
   "source": [
    "# ### run gmhmme3 multi-fasta version, high intron density\n",
    "# modelLowLoc = '/home/richard/research/tests/Oct29AssembleModel/modelSetHigh/'\n",
    "# script = ''\n",
    "# for shortName in shortNames:\n",
    "#     command = ('python /home/richard/research/tools/gmhmme3MultiFastaV1.py {}MetaFungal_model_{}_high.txt {}{}_100genes.fasta {}_100.gtf\\n'\n",
    "#                .format(modelLowLoc, max(30, gc[shortName]),testSetLocation, shortName, shortName))\n",
    "#     script += command\n",
    "#     print command\n",
    "# with open('/home/richard/research/tests/Oct30NewTestSet/test100outputHigh/run_test.sh','w') as f: f.write(script)"
   ]
  },
  {
   "cell_type": "code",
   "execution_count": 77,
   "metadata": {
    "collapsed": true
   },
   "outputs": [],
   "source": [
    "##### eval out put result\n",
    "location = '/home/richard/research/tests/Oct30NewTestSet/test100outputES/'\n",
    "folders = os.listdir(location)\n",
    "outputLocationLow = '/home/richard/research/tests/Oct30NewTestSet/evalresultES/'\n",
    "\n",
    "script = ''\n",
    "for shortName in shortNames:\n",
    "    command = ('perl evaluate_gtf.pl {}{}_100genes.gtf {}{}_ES/{}_ES_fullPrediction.gtf > {}{}.eval.txt\\n'\n",
    "               .format(testSetLocation, shortName, location, shortName, shortName, outputLocationLow,shortName))\n",
    "#     print command\n",
    "    script += command\n",
    "with open('/home/richard/research/tests/Oct30NewTestSet/eval_lite/eval_ES.sh','w') as f: f.write(script)"
   ]
  },
  {
   "cell_type": "code",
   "execution_count": 70,
   "metadata": {
    "collapsed": false
   },
   "outputs": [],
   "source": [
    "# ##### eval out put result\n",
    "# location = '/home/richard/research/tests/Oct30NewTestSet/test100outputLow/'\n",
    "# folders = os.listdir(location)\n",
    "# outputLocationLow = '/home/richard/research/tests/Oct30NewTestSet/evalresultLow/'\n",
    "\n",
    "# script = ''\n",
    "# for shortName in shortNames:\n",
    "#     command = ('perl evaluate_gtf.pl {}{}_100genes.gtf {}{}_100.gtf/{}_100.gtf_fullPrediction.gtf > {}{}.eval.txt\\n'\n",
    "#                .format(testSetLocation, shortName, location, shortName, shortName, outputLocationLow,shortName))\n",
    "# #     print command\n",
    "#     script += command\n",
    "# with open('/home/richard/research/tests/Oct30NewTestSet/eval_lite/eval_low.sh','w') as f: f.write(script)"
   ]
  },
  {
   "cell_type": "code",
   "execution_count": 69,
   "metadata": {
    "collapsed": false
   },
   "outputs": [],
   "source": [
    "# ##### eval out put result\n",
    "# location = '/home/richard/research/tests/Oct30NewTestSet/test100outputMid/'\n",
    "# folders = os.listdir(location)\n",
    "# outputLocationLow = '/home/richard/research/tests/Oct30NewTestSet/evalresultMid/'\n",
    "\n",
    "# script = ''\n",
    "# for shortName in shortNames:\n",
    "#     command = ('perl evaluate_gtf.pl {}{}_100genes.gtf {}{}_100.gtf/{}_100.gtf_fullPrediction.gtf > {}{}.eval.txt\\n'\n",
    "#                .format(testSetLocation, shortName, location, shortName, shortName, outputLocationLow,shortName))\n",
    "#     print command\n",
    "#     script += command\n",
    "# with open('/home/richard/research/tests/Oct30NewTestSet/eval_lite/eval_mid.sh','w') as f: f.write(script)"
   ]
  },
  {
   "cell_type": "code",
   "execution_count": 71,
   "metadata": {
    "collapsed": false
   },
   "outputs": [],
   "source": [
    "# ##### eval out put result\n",
    "# location = '/home/richard/research/tests/Oct30NewTestSet/test100outputHigh/'\n",
    "# folders = os.listdir(location)\n",
    "# outputLocationLow = '/home/richard/research/tests/Oct30NewTestSet/evalresultHigh/'\n",
    "\n",
    "# script = ''\n",
    "# for shortName in shortNames:\n",
    "#     command = ('perl evaluate_gtf.pl {}{}_100genes.gtf {}{}_100.gtf/{}_100.gtf_fullPrediction.gtf > {}{}.eval.txt\\n'\n",
    "#                .format(testSetLocation, shortName, location, shortName, shortName, outputLocationLow,shortName))\n",
    "#     print command\n",
    "#     script += command\n",
    "# with open('/home/richard/research/tests/Oct30NewTestSet/eval_lite/eval_high.sh','w') as f: f.write(script)"
   ]
  }
 ],
 "metadata": {
  "kernelspec": {
   "display_name": "Python 2",
   "language": "python",
   "name": "python2"
  },
  "language_info": {
   "codemirror_mode": {
    "name": "ipython",
    "version": 2
   },
   "file_extension": ".py",
   "mimetype": "text/x-python",
   "name": "python",
   "nbconvert_exporter": "python",
   "pygments_lexer": "ipython2",
   "version": "2.7.10"
  }
 },
 "nbformat": 4,
 "nbformat_minor": 0
}
