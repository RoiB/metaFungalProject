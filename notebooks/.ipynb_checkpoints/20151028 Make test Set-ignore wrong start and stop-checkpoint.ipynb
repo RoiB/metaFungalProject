{
 "cells": [
  {
   "cell_type": "code",
   "execution_count": 3,
   "metadata": {
    "collapsed": true
   },
   "outputs": [],
   "source": [
    "### ignore wrong start and stop with different choice of choosing the boudary\n",
    "### use the leftmost or rightmost as boudary and not neccessarily start or stop"
   ]
  },
  {
   "cell_type": "code",
   "execution_count": 4,
   "metadata": {
    "collapsed": false
   },
   "outputs": [],
   "source": [
    "import sys; sys.path.append(\"/home/richard/research/tools/\")\n",
    "import GenerateTestSetModule\n",
    "\n",
    "import subprocess"
   ]
  },
  {
   "cell_type": "markdown",
   "metadata": {},
   "source": [
    "## Officially start to build test set"
   ]
  },
  {
   "cell_type": "code",
   "execution_count": 5,
   "metadata": {
    "collapsed": false
   },
   "outputs": [],
   "source": [
    "GtfSource = '/storage3/w/richard/meta2015/finalTestSet20151002/gtf_converted_from_gff/'\n",
    "mixAnnotationFiles = os.listdir(GtfSource)\n",
    "good_annotation = filter(lambda x: 'good' in x, mixAnnotationFiles)\n",
    "shortNames = map(lambda x: x.split('_GeneCatalog')[0], good_annotation)\n",
    "multiGtfTarget = '/home/richard/research/tests/Oct28TestSet/goodMultiExonGtf/'\n",
    "multiGtfNames = []"
   ]
  },
  {
   "cell_type": "code",
   "execution_count": 6,
   "metadata": {
    "collapsed": false
   },
   "outputs": [],
   "source": [
    "fastaSource = '/storage3/w/richard/meta2015/placeForRNASeq/'\n",
    "fastafiles = [filter(lambda x: '.fasta' in x and '.gz' not in x, os.listdir(fastaSource+shortName+'/data')) for shortName in shortNames]\n",
    "fastafiles = [item[0] for item in fastafiles]"
   ]
  },
  {
   "cell_type": "code",
   "execution_count": 9,
   "metadata": {
    "collapsed": true
   },
   "outputs": [],
   "source": [
    "targetFastaLocation = '/home/richard/research/tests/Oct28TestSet/TestSetCutFastaFixed/'\n",
    "targetGtfLocation = '/home/richard/research/tests/Oct28TestSet/TestSetMultiExonGtfFixed/'"
   ]
  },
  {
   "cell_type": "markdown",
   "metadata": {},
   "source": [
    "1) pick multi-gene"
   ]
  },
  {
   "cell_type": "code",
   "execution_count": 10,
   "metadata": {
    "collapsed": false
   },
   "outputs": [],
   "source": [
    "# for filename in good_annotation:\n",
    "#     command = ('python /home/richard/research/tools/pickMultiGene.py {}{} {}{}.multiExon.gtf'\n",
    "#                .format(GtfSource, filename, multiGtfTarget, filename[:-4]))\n",
    "#     multiGtfNames.append(filename[:-4]+'.multiExon.gtf')\n",
    "#     print command\n",
    "# #     subprocess.check_call(command, shell=True)"
   ]
  },
  {
   "cell_type": "markdown",
   "metadata": {},
   "source": [
    "2) update annotation and cut fasta: shortName, good_annotation and fastafiles have the same order"
   ]
  },
  {
   "cell_type": "code",
   "execution_count": 11,
   "metadata": {
    "collapsed": false,
    "scrolled": false
   },
   "outputs": [
    {
     "name": "stdout",
     "output_type": "stream",
     "text": [
      "Ophdi1 Ophdi1_GeneCatalog_genes_20140614.f.good.multiExon.gtf Ophdi1_AssemblyScaffolds.fasta\n",
      "\t/storage3/w/richard/meta2015/placeForRNASeq/Ophdi1/data/Ophdi1_AssemblyScaffolds.fasta\n",
      "\t/home/richard/research/tests/Oct28TestSet/goodMultiExonGtf/Ophdi1_GeneCatalog_genes_20140614.f.good.multiExon.gtf\n",
      "\t/home/richard/research/tests/Oct28TestSet/TestSetCutFastaFixed/Ophdi1_AssemblyScaffolds.cut.fasta\n",
      "\t/home/richard/research/tests/Oct28TestSet/TestSetMultiExonGtfFixed/Ophdi1_GeneCatalog_genes_20140614.f.good.multiExon.updated.gtf\n",
      "\n",
      "\n",
      "multi-fasta file is saved at: /home/richard/research/tests/Oct28TestSet/TestSetCutFastaFixed/Ophdi1_AssemblyScaffolds.cut.fasta\n",
      "updated annotation is saved at: /home/richard/research/tests/Oct28TestSet/TestSetMultiExonGtfFixed/Ophdi1_GeneCatalog_genes_20140614.f.good.multiExon.updated.gtf\n",
      "Spofi1 Spofi1_GeneCatalog_genes_20130818.f.good.multiExon.gtf Spofi1.draft.mito.scaffolds.fasta\n",
      "\t/storage3/w/richard/meta2015/placeForRNASeq/Spofi1/data/Spofi1.draft.mito.scaffolds.fasta\n",
      "\t/home/richard/research/tests/Oct28TestSet/goodMultiExonGtf/Spofi1_GeneCatalog_genes_20130818.f.good.multiExon.gtf\n",
      "\t/home/richard/research/tests/Oct28TestSet/TestSetCutFastaFixed/Spofi1.draft.mito.scaffolds.cut.fasta\n",
      "\t/home/richard/research/tests/Oct28TestSet/TestSetMultiExonGtfFixed/Spofi1_GeneCatalog_genes_20130818.f.good.multiExon.updated.gtf\n",
      "\n",
      "\n",
      "multi-fasta file is saved at: /home/richard/research/tests/Oct28TestSet/TestSetCutFastaFixed/Spofi1.draft.mito.scaffolds.cut.fasta\n",
      "updated annotation is saved at: /home/richard/research/tests/Oct28TestSet/TestSetMultiExonGtfFixed/Spofi1_GeneCatalog_genes_20130818.f.good.multiExon.updated.gtf\n",
      "Gloin1 Gloin1_GeneCatalog_genes_20120510.f.good.multiExon.gtf Gloin1_AssemblyScaffolds.fasta\n",
      "\t/storage3/w/richard/meta2015/placeForRNASeq/Gloin1/data/Gloin1_AssemblyScaffolds.fasta\n",
      "\t/home/richard/research/tests/Oct28TestSet/goodMultiExonGtf/Gloin1_GeneCatalog_genes_20120510.f.good.multiExon.gtf\n",
      "\t/home/richard/research/tests/Oct28TestSet/TestSetCutFastaFixed/Gloin1_AssemblyScaffolds.cut.fasta\n",
      "\t/home/richard/research/tests/Oct28TestSet/TestSetMultiExonGtfFixed/Gloin1_GeneCatalog_genes_20120510.f.good.multiExon.updated.gtf\n",
      "\n",
      "\n",
      "multi-fasta file is saved at: /home/richard/research/tests/Oct28TestSet/TestSetCutFastaFixed/Gloin1_AssemblyScaffolds.cut.fasta\n",
      "updated annotation is saved at: /home/richard/research/tests/Oct28TestSet/TestSetMultiExonGtfFixed/Gloin1_GeneCatalog_genes_20120510.f.good.multiExon.updated.gtf\n",
      "Trias1 Trias1_GeneCatalog_genes_20120305.f.good.multiExon.gtf Trias1_AssemblyScaffolds.fasta\n",
      "\t/storage3/w/richard/meta2015/placeForRNASeq/Trias1/data/Trias1_AssemblyScaffolds.fasta\n",
      "\t/home/richard/research/tests/Oct28TestSet/goodMultiExonGtf/Trias1_GeneCatalog_genes_20120305.f.good.multiExon.gtf\n",
      "\t/home/richard/research/tests/Oct28TestSet/TestSetCutFastaFixed/Trias1_AssemblyScaffolds.cut.fasta\n",
      "\t/home/richard/research/tests/Oct28TestSet/TestSetMultiExonGtfFixed/Trias1_GeneCatalog_genes_20120305.f.good.multiExon.updated.gtf\n",
      "\n",
      "\n",
      "multi-fasta file is saved at: /home/richard/research/tests/Oct28TestSet/TestSetCutFastaFixed/Trias1_AssemblyScaffolds.cut.fasta\n",
      "updated annotation is saved at: /home/richard/research/tests/Oct28TestSet/TestSetMultiExonGtfFixed/Trias1_GeneCatalog_genes_20120305.f.good.multiExon.updated.gtf\n",
      "Cenge3 Cenge3_GeneCatalog_genes_20130403.f.good.multiExon.gtf Cenge3_AssemblyScaffolds.fasta\n",
      "\t/storage3/w/richard/meta2015/placeForRNASeq/Cenge3/data/Cenge3_AssemblyScaffolds.fasta\n",
      "\t/home/richard/research/tests/Oct28TestSet/goodMultiExonGtf/Cenge3_GeneCatalog_genes_20130403.f.good.multiExon.gtf\n",
      "\t/home/richard/research/tests/Oct28TestSet/TestSetCutFastaFixed/Cenge3_AssemblyScaffolds.cut.fasta\n",
      "\t/home/richard/research/tests/Oct28TestSet/TestSetMultiExonGtfFixed/Cenge3_GeneCatalog_genes_20130403.f.good.multiExon.updated.gtf\n",
      "\n",
      "\n",
      "multi-fasta file is saved at: /home/richard/research/tests/Oct28TestSet/TestSetCutFastaFixed/Cenge3_AssemblyScaffolds.cut.fasta\n",
      "updated annotation is saved at: /home/richard/research/tests/Oct28TestSet/TestSetMultiExonGtfFixed/Cenge3_GeneCatalog_genes_20130403.f.good.multiExon.updated.gtf\n",
      "Sphst1 Sphst1_GeneCatalog_genes_20120430.f.good.multiExon.gtf Sphst1_AssemblyScaffolds.fasta\n",
      "\t/storage3/w/richard/meta2015/placeForRNASeq/Sphst1/data/Sphst1_AssemblyScaffolds.fasta\n",
      "\t/home/richard/research/tests/Oct28TestSet/goodMultiExonGtf/Sphst1_GeneCatalog_genes_20120430.f.good.multiExon.gtf\n",
      "\t/home/richard/research/tests/Oct28TestSet/TestSetCutFastaFixed/Sphst1_AssemblyScaffolds.cut.fasta\n",
      "\t/home/richard/research/tests/Oct28TestSet/TestSetMultiExonGtfFixed/Sphst1_GeneCatalog_genes_20120430.f.good.multiExon.updated.gtf\n",
      "\n",
      "\n",
      "multi-fasta file is saved at: /home/richard/research/tests/Oct28TestSet/TestSetCutFastaFixed/Sphst1_AssemblyScaffolds.cut.fasta\n",
      "updated annotation is saved at: /home/richard/research/tests/Oct28TestSet/TestSetMultiExonGtfFixed/Sphst1_GeneCatalog_genes_20120430.f.good.multiExon.updated.gtf\n",
      "Phchr2 Phchr2_GeneCatalog_genes_20131210.f.good.multiExon.gtf Phchr2_AssemblyScaffolds.fasta\n",
      "\t/storage3/w/richard/meta2015/placeForRNASeq/Phchr2/data/Phchr2_AssemblyScaffolds.fasta\n",
      "\t/home/richard/research/tests/Oct28TestSet/goodMultiExonGtf/Phchr2_GeneCatalog_genes_20131210.f.good.multiExon.gtf\n",
      "\t/home/richard/research/tests/Oct28TestSet/TestSetCutFastaFixed/Phchr2_AssemblyScaffolds.cut.fasta\n",
      "\t/home/richard/research/tests/Oct28TestSet/TestSetMultiExonGtfFixed/Phchr2_GeneCatalog_genes_20131210.f.good.multiExon.updated.gtf\n",
      "\n",
      "\n",
      "multi-fasta file is saved at: /home/richard/research/tests/Oct28TestSet/TestSetCutFastaFixed/Phchr2_AssemblyScaffolds.cut.fasta\n",
      "updated annotation is saved at: /home/richard/research/tests/Oct28TestSet/TestSetMultiExonGtfFixed/Phchr2_GeneCatalog_genes_20131210.f.good.multiExon.updated.gtf\n",
      "HypEC38_1 HypEC38_1_GeneCatalog_genes_20120308.f.good.multiExon.gtf HypEC38_1_AssemblyScaffolds.fasta\n",
      "\t/storage3/w/richard/meta2015/placeForRNASeq/HypEC38_1/data/HypEC38_1_AssemblyScaffolds.fasta\n",
      "\t/home/richard/research/tests/Oct28TestSet/goodMultiExonGtf/HypEC38_1_GeneCatalog_genes_20120308.f.good.multiExon.gtf\n",
      "\t/home/richard/research/tests/Oct28TestSet/TestSetCutFastaFixed/HypEC38_1_AssemblyScaffolds.cut.fasta\n",
      "\t/home/richard/research/tests/Oct28TestSet/TestSetMultiExonGtfFixed/HypEC38_1_GeneCatalog_genes_20120308.f.good.multiExon.updated.gtf\n",
      "\n",
      "\n",
      "multi-fasta file is saved at: /home/richard/research/tests/Oct28TestSet/TestSetCutFastaFixed/HypEC38_1_AssemblyScaffolds.cut.fasta\n",
      "updated annotation is saved at: /home/richard/research/tests/Oct28TestSet/TestSetMultiExonGtfFixed/HypEC38_1_GeneCatalog_genes_20120308.f.good.multiExon.updated.gtf\n",
      "Conco1 Conco1_GeneCatalog_genes_20120213.f.good.multiExon.gtf Conco1_AssemblyScaffolds.fasta\n",
      "\t/storage3/w/richard/meta2015/placeForRNASeq/Conco1/data/Conco1_AssemblyScaffolds.fasta\n",
      "\t/home/richard/research/tests/Oct28TestSet/goodMultiExonGtf/Conco1_GeneCatalog_genes_20120213.f.good.multiExon.gtf\n",
      "\t/home/richard/research/tests/Oct28TestSet/TestSetCutFastaFixed/Conco1_AssemblyScaffolds.cut.fasta\n",
      "\t/home/richard/research/tests/Oct28TestSet/TestSetMultiExonGtfFixed/Conco1_GeneCatalog_genes_20120213.f.good.multiExon.updated.gtf\n",
      "\n",
      "\n",
      "multi-fasta file is saved at: /home/richard/research/tests/Oct28TestSet/TestSetCutFastaFixed/Conco1_AssemblyScaffolds.cut.fasta\n",
      "updated annotation is saved at: /home/richard/research/tests/Oct28TestSet/TestSetMultiExonGtfFixed/Conco1_GeneCatalog_genes_20120213.f.good.multiExon.updated.gtf\n",
      "Croqu1 Croqu1_GeneCatalog_genes_20120612.f.good.multiExon.gtf Croqu1_AssemblyScaffolds.fasta\n",
      "\t/storage3/w/richard/meta2015/placeForRNASeq/Croqu1/data/Croqu1_AssemblyScaffolds.fasta\n",
      "\t/home/richard/research/tests/Oct28TestSet/goodMultiExonGtf/Croqu1_GeneCatalog_genes_20120612.f.good.multiExon.gtf\n",
      "\t/home/richard/research/tests/Oct28TestSet/TestSetCutFastaFixed/Croqu1_AssemblyScaffolds.cut.fasta\n",
      "\t/home/richard/research/tests/Oct28TestSet/TestSetMultiExonGtfFixed/Croqu1_GeneCatalog_genes_20120612.f.good.multiExon.updated.gtf\n",
      "\n",
      "\n",
      "multi-fasta file is saved at: /home/richard/research/tests/Oct28TestSet/TestSetCutFastaFixed/Croqu1_AssemblyScaffolds.cut.fasta\n",
      "updated annotation is saved at: /home/richard/research/tests/Oct28TestSet/TestSetMultiExonGtfFixed/Croqu1_GeneCatalog_genes_20120612.f.good.multiExon.updated.gtf\n",
      "Obbri1 Obbri1_GeneCatalog_genes_20140615.f.good.multiExon.gtf Obbri1_AssemblyScaffolds.fasta\n",
      "\t/storage3/w/richard/meta2015/placeForRNASeq/Obbri1/data/Obbri1_AssemblyScaffolds.fasta\n",
      "\t/home/richard/research/tests/Oct28TestSet/goodMultiExonGtf/Obbri1_GeneCatalog_genes_20140615.f.good.multiExon.gtf\n",
      "\t/home/richard/research/tests/Oct28TestSet/TestSetCutFastaFixed/Obbri1_AssemblyScaffolds.cut.fasta\n",
      "\t/home/richard/research/tests/Oct28TestSet/TestSetMultiExonGtfFixed/Obbri1_GeneCatalog_genes_20140615.f.good.multiExon.updated.gtf\n",
      "\n",
      "\n",
      "multi-fasta file is saved at: /home/richard/research/tests/Oct28TestSet/TestSetCutFastaFixed/Obbri1_AssemblyScaffolds.cut.fasta\n",
      "updated annotation is saved at: /home/richard/research/tests/Oct28TestSet/TestSetMultiExonGtfFixed/Obbri1_GeneCatalog_genes_20140615.f.good.multiExon.updated.gtf\n",
      "Aspoch1 Aspoch1_GeneCatalog_genes_20140127.f.good.multiExon.gtf Aspoch1_AssemblyScaffolds.fasta\n",
      "\t/storage3/w/richard/meta2015/placeForRNASeq/Aspoch1/data/Aspoch1_AssemblyScaffolds.fasta\n",
      "\t/home/richard/research/tests/Oct28TestSet/goodMultiExonGtf/Aspoch1_GeneCatalog_genes_20140127.f.good.multiExon.gtf\n",
      "\t/home/richard/research/tests/Oct28TestSet/TestSetCutFastaFixed/Aspoch1_AssemblyScaffolds.cut.fasta\n",
      "\t/home/richard/research/tests/Oct28TestSet/TestSetMultiExonGtfFixed/Aspoch1_GeneCatalog_genes_20140127.f.good.multiExon.updated.gtf\n",
      "\n",
      "\n",
      "multi-fasta file is saved at: /home/richard/research/tests/Oct28TestSet/TestSetCutFastaFixed/Aspoch1_AssemblyScaffolds.cut.fasta\n",
      "updated annotation is saved at: /home/richard/research/tests/Oct28TestSet/TestSetMultiExonGtfFixed/Aspoch1_GeneCatalog_genes_20140127.f.good.multiExon.updated.gtf\n",
      "Aurvu1 Aurvu1_GeneCatalog_genes_20140723.f.good.multiExon.gtf Aurvu1_AssemblyScaffolds.fasta\n",
      "\t/storage3/w/richard/meta2015/placeForRNASeq/Aurvu1/data/Aurvu1_AssemblyScaffolds.fasta\n",
      "\t/home/richard/research/tests/Oct28TestSet/goodMultiExonGtf/Aurvu1_GeneCatalog_genes_20140723.f.good.multiExon.gtf\n",
      "\t/home/richard/research/tests/Oct28TestSet/TestSetCutFastaFixed/Aurvu1_AssemblyScaffolds.cut.fasta\n",
      "\t/home/richard/research/tests/Oct28TestSet/TestSetMultiExonGtfFixed/Aurvu1_GeneCatalog_genes_20140723.f.good.multiExon.updated.gtf\n",
      "\n",
      "\n",
      "multi-fasta file is saved at: /home/richard/research/tests/Oct28TestSet/TestSetCutFastaFixed/Aurvu1_AssemblyScaffolds.cut.fasta\n",
      "updated annotation is saved at: /home/richard/research/tests/Oct28TestSet/TestSetMultiExonGtfFixed/Aurvu1_GeneCatalog_genes_20140723.f.good.multiExon.updated.gtf\n",
      "Pneji1 Pneji1_GeneCatalog_genes_20130607.f.good.multiExon.gtf Pneji1_AssemblyScaffolds.fasta\n",
      "\t/storage3/w/richard/meta2015/placeForRNASeq/Pneji1/data/Pneji1_AssemblyScaffolds.fasta\n",
      "\t/home/richard/research/tests/Oct28TestSet/goodMultiExonGtf/Pneji1_GeneCatalog_genes_20130607.f.good.multiExon.gtf\n",
      "\t/home/richard/research/tests/Oct28TestSet/TestSetCutFastaFixed/Pneji1_AssemblyScaffolds.cut.fasta\n",
      "\t/home/richard/research/tests/Oct28TestSet/TestSetMultiExonGtfFixed/Pneji1_GeneCatalog_genes_20130607.f.good.multiExon.updated.gtf\n",
      "\n",
      "\n",
      "multi-fasta file is saved at: /home/richard/research/tests/Oct28TestSet/TestSetCutFastaFixed/Pneji1_AssemblyScaffolds.cut.fasta\n",
      "updated annotation is saved at: /home/richard/research/tests/Oct28TestSet/TestSetMultiExonGtfFixed/Pneji1_GeneCatalog_genes_20130607.f.good.multiExon.updated.gtf\n",
      "Disac1 Disac1_GeneCatalog_genes_20130805.f.good.multiExon.gtf Disac1_AssemblyScaffolds.fasta\n",
      "\t/storage3/w/richard/meta2015/placeForRNASeq/Disac1/data/Disac1_AssemblyScaffolds.fasta\n",
      "\t/home/richard/research/tests/Oct28TestSet/goodMultiExonGtf/Disac1_GeneCatalog_genes_20130805.f.good.multiExon.gtf\n",
      "\t/home/richard/research/tests/Oct28TestSet/TestSetCutFastaFixed/Disac1_AssemblyScaffolds.cut.fasta\n",
      "\t/home/richard/research/tests/Oct28TestSet/TestSetMultiExonGtfFixed/Disac1_GeneCatalog_genes_20130805.f.good.multiExon.updated.gtf\n",
      "\n",
      "\n",
      "multi-fasta file is saved at: /home/richard/research/tests/Oct28TestSet/TestSetCutFastaFixed/Disac1_AssemblyScaffolds.cut.fasta\n",
      "updated annotation is saved at: /home/richard/research/tests/Oct28TestSet/TestSetMultiExonGtfFixed/Disac1_GeneCatalog_genes_20130805.f.good.multiExon.updated.gtf\n",
      "Neopa1 Neopa1_GeneCatalog_genes_20130909.f.good.multiExon.gtf Neopa1_AssemblyScaffolds.fasta\n",
      "\t/storage3/w/richard/meta2015/placeForRNASeq/Neopa1/data/Neopa1_AssemblyScaffolds.fasta\n",
      "\t/home/richard/research/tests/Oct28TestSet/goodMultiExonGtf/Neopa1_GeneCatalog_genes_20130909.f.good.multiExon.gtf\n",
      "\t/home/richard/research/tests/Oct28TestSet/TestSetCutFastaFixed/Neopa1_AssemblyScaffolds.cut.fasta\n",
      "\t/home/richard/research/tests/Oct28TestSet/TestSetMultiExonGtfFixed/Neopa1_GeneCatalog_genes_20130909.f.good.multiExon.updated.gtf\n",
      "\n",
      "\n",
      "multi-fasta file is saved at: /home/richard/research/tests/Oct28TestSet/TestSetCutFastaFixed/Neopa1_AssemblyScaffolds.cut.fasta\n",
      "updated annotation is saved at: /home/richard/research/tests/Oct28TestSet/TestSetMultiExonGtfFixed/Neopa1_GeneCatalog_genes_20130909.f.good.multiExon.updated.gtf\n",
      "Veren1 Veren1_GeneCatalog_genes_20140626.f.good.multiExon.gtf Veren1_AssemblyScaffolds.fasta\n",
      "\t/storage3/w/richard/meta2015/placeForRNASeq/Veren1/data/Veren1_AssemblyScaffolds.fasta\n",
      "\t/home/richard/research/tests/Oct28TestSet/goodMultiExonGtf/Veren1_GeneCatalog_genes_20140626.f.good.multiExon.gtf\n",
      "\t/home/richard/research/tests/Oct28TestSet/TestSetCutFastaFixed/Veren1_AssemblyScaffolds.cut.fasta\n",
      "\t/home/richard/research/tests/Oct28TestSet/TestSetMultiExonGtfFixed/Veren1_GeneCatalog_genes_20140626.f.good.multiExon.updated.gtf\n",
      "\n",
      "\n",
      "multi-fasta file is saved at: /home/richard/research/tests/Oct28TestSet/TestSetCutFastaFixed/Veren1_AssemblyScaffolds.cut.fasta\n",
      "updated annotation is saved at: /home/richard/research/tests/Oct28TestSet/TestSetMultiExonGtfFixed/Veren1_GeneCatalog_genes_20140626.f.good.multiExon.updated.gtf\n",
      "SerlaS7_9_2 SerlaS7_9_2_GeneCatalog_genes_20120319.f.good.multiExon.gtf SerlaS7_9_2_AssemblyScaffolds.fasta\n",
      "\t/storage3/w/richard/meta2015/placeForRNASeq/SerlaS7_9_2/data/SerlaS7_9_2_AssemblyScaffolds.fasta\n",
      "\t/home/richard/research/tests/Oct28TestSet/goodMultiExonGtf/SerlaS7_9_2_GeneCatalog_genes_20120319.f.good.multiExon.gtf\n",
      "\t/home/richard/research/tests/Oct28TestSet/TestSetCutFastaFixed/SerlaS7_9_2_AssemblyScaffolds.cut.fasta\n",
      "\t/home/richard/research/tests/Oct28TestSet/TestSetMultiExonGtfFixed/SerlaS7_9_2_GeneCatalog_genes_20120319.f.good.multiExon.updated.gtf\n",
      "\n",
      "\n",
      "multi-fasta file is saved at: /home/richard/research/tests/Oct28TestSet/TestSetCutFastaFixed/SerlaS7_9_2_AssemblyScaffolds.cut.fasta\n",
      "updated annotation is saved at: /home/richard/research/tests/Oct28TestSet/TestSetMultiExonGtfFixed/SerlaS7_9_2_GeneCatalog_genes_20120319.f.good.multiExon.updated.gtf\n",
      "Hebcy2 Hebcy2_GeneCatalog_genes_20120913.f.good.multiExon.gtf Hebcy2_AssemblyScaffolds.fasta\n",
      "\t/storage3/w/richard/meta2015/placeForRNASeq/Hebcy2/data/Hebcy2_AssemblyScaffolds.fasta\n",
      "\t/home/richard/research/tests/Oct28TestSet/goodMultiExonGtf/Hebcy2_GeneCatalog_genes_20120913.f.good.multiExon.gtf\n",
      "\t/home/richard/research/tests/Oct28TestSet/TestSetCutFastaFixed/Hebcy2_AssemblyScaffolds.cut.fasta\n",
      "\t/home/richard/research/tests/Oct28TestSet/TestSetMultiExonGtfFixed/Hebcy2_GeneCatalog_genes_20120913.f.good.multiExon.updated.gtf\n",
      "\n",
      "\n",
      "multi-fasta file is saved at: /home/richard/research/tests/Oct28TestSet/TestSetCutFastaFixed/Hebcy2_AssemblyScaffolds.cut.fasta\n",
      "updated annotation is saved at: /home/richard/research/tests/Oct28TestSet/TestSetMultiExonGtfFixed/Hebcy2_GeneCatalog_genes_20120913.f.good.multiExon.updated.gtf\n",
      "Conli1 Conli1_GeneCatalog_genes_20130808.f.good.multiExon.gtf Conli1_AssemblyScaffolds.fasta\n",
      "\t/storage3/w/richard/meta2015/placeForRNASeq/Conli1/data/Conli1_AssemblyScaffolds.fasta\n",
      "\t/home/richard/research/tests/Oct28TestSet/goodMultiExonGtf/Conli1_GeneCatalog_genes_20130808.f.good.multiExon.gtf\n",
      "\t/home/richard/research/tests/Oct28TestSet/TestSetCutFastaFixed/Conli1_AssemblyScaffolds.cut.fasta\n",
      "\t/home/richard/research/tests/Oct28TestSet/TestSetMultiExonGtfFixed/Conli1_GeneCatalog_genes_20130808.f.good.multiExon.updated.gtf\n",
      "\n",
      "\n",
      "multi-fasta file is saved at: /home/richard/research/tests/Oct28TestSet/TestSetCutFastaFixed/Conli1_AssemblyScaffolds.cut.fasta\n",
      "updated annotation is saved at: /home/richard/research/tests/Oct28TestSet/TestSetMultiExonGtfFixed/Conli1_GeneCatalog_genes_20130808.f.good.multiExon.updated.gtf\n",
      "Tilan2 Tilan2_GeneCatalog_genes_20140224.f.good.multiExon.gtf Tilan2_AssemblyScaffolds.fasta\n",
      "\t/storage3/w/richard/meta2015/placeForRNASeq/Tilan2/data/Tilan2_AssemblyScaffolds.fasta\n",
      "\t/home/richard/research/tests/Oct28TestSet/goodMultiExonGtf/Tilan2_GeneCatalog_genes_20140224.f.good.multiExon.gtf\n",
      "\t/home/richard/research/tests/Oct28TestSet/TestSetCutFastaFixed/Tilan2_AssemblyScaffolds.cut.fasta\n",
      "\t/home/richard/research/tests/Oct28TestSet/TestSetMultiExonGtfFixed/Tilan2_GeneCatalog_genes_20140224.f.good.multiExon.updated.gtf\n",
      "\n",
      "\n",
      "multi-fasta file is saved at: /home/richard/research/tests/Oct28TestSet/TestSetCutFastaFixed/Tilan2_AssemblyScaffolds.cut.fasta\n",
      "updated annotation is saved at: /home/richard/research/tests/Oct28TestSet/TestSetMultiExonGtfFixed/Tilan2_GeneCatalog_genes_20140224.f.good.multiExon.updated.gtf\n"
     ]
    }
   ],
   "source": [
    "for i in range(len(shortNames)):\n",
    "    print shortNames[i],multiGtfNames[i],fastafiles[i]\n",
    "    assert shortNames[i] in multiGtfNames[i]\n",
    "    assert shortNames[i] in fastafiles[i]\n",
    "    \n",
    "    shortName = shortNames[i].lower()\n",
    "    intergenic_length = 200\n",
    "    \n",
    "    sourceFasta = '{}{}/data/{}'.format(fastaSource,shortNames[i],fastafiles[i])\n",
    "    print \"\\t\",sourceFasta\n",
    "    sourceGtf = multiGtfTarget + multiGtfNames[i]\n",
    "    print \"\\t\",sourceGtf\n",
    "    targetFasta = targetFastaLocation + fastafiles[i][:-5]+'cut'+'.fasta'\n",
    "    print \"\\t\",targetFasta\n",
    "    targetGtf = targetGtfLocation + multiGtfNames[i][:-3]+'updated.gtf'\n",
    "    print \"\\t\",targetGtf\n",
    "    print\n",
    "    print\n",
    "    GenerateTestSetModule.makeTestSet(shortName, intergenic_length, sourceGtf, sourceFasta, targetGtf, targetFasta)"
   ]
  }
 ],
 "metadata": {
  "kernelspec": {
   "display_name": "Python 2",
   "language": "python",
   "name": "python2"
  },
  "language_info": {
   "codemirror_mode": {
    "name": "ipython",
    "version": 2
   },
   "file_extension": ".py",
   "mimetype": "text/x-python",
   "name": "python",
   "nbconvert_exporter": "python",
   "pygments_lexer": "ipython2",
   "version": "2.7.10"
  }
 },
 "nbformat": 4,
 "nbformat_minor": 0
}
