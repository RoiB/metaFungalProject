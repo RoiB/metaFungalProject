{
 "cells": [
  {
   "cell_type": "code",
   "execution_count": 4,
   "metadata": {
    "collapsed": false
   },
   "outputs": [],
   "source": [
    "'''The notebook make script to filter annotation with rna-seq support'''\n",
    "import pandas as pd\n",
    "import subprocess"
   ]
  },
  {
   "cell_type": "code",
   "execution_count": 5,
   "metadata": {
    "collapsed": false
   },
   "outputs": [
    {
     "data": {
      "text/html": [
       "<div>\n",
       "<table border=\"1\" class=\"dataframe\">\n",
       "  <thead>\n",
       "    <tr style=\"text-align: right;\">\n",
       "      <th></th>\n",
       "      <th>shortName</th>\n",
       "      <th>longName</th>\n",
       "      <th>fastaName</th>\n",
       "      <th>gffName</th>\n",
       "      <th>gff3Name</th>\n",
       "      <th>gc</th>\n",
       "      <th>numGeneGff3</th>\n",
       "      <th>numExonGff3</th>\n",
       "      <th>exonDensityGff3</th>\n",
       "      <th>numIntronGff3</th>\n",
       "      <th>intronDensityGff3</th>\n",
       "      <th>numGeneGff</th>\n",
       "      <th>numExonGff</th>\n",
       "      <th>exonDensityGff</th>\n",
       "      <th>numIntronGff</th>\n",
       "      <th>intronDensityGff</th>\n",
       "      <th>rnaSeqCount</th>\n",
       "      <th>ES</th>\n",
       "    </tr>\n",
       "    <tr>\n",
       "      <th>shortName</th>\n",
       "      <th></th>\n",
       "      <th></th>\n",
       "      <th></th>\n",
       "      <th></th>\n",
       "      <th></th>\n",
       "      <th></th>\n",
       "      <th></th>\n",
       "      <th></th>\n",
       "      <th></th>\n",
       "      <th></th>\n",
       "      <th></th>\n",
       "      <th></th>\n",
       "      <th></th>\n",
       "      <th></th>\n",
       "      <th></th>\n",
       "      <th></th>\n",
       "      <th></th>\n",
       "      <th></th>\n",
       "    </tr>\n",
       "  </thead>\n",
       "  <tbody>\n",
       "    <tr>\n",
       "      <th>Aaoar1</th>\n",
       "      <td>Aaoar1</td>\n",
       "      <td>Aaosphaeria arxii CBS 175.79 v1.0</td>\n",
       "      <td>Aaoar1_AssemblyScaffolds.fasta.gz</td>\n",
       "      <td>Aaoar1_GeneCatalog_genes_20140429.gff.gz</td>\n",
       "      <td>Aaoar1.filtered_proteins.FilteredModels1.gff3.gz</td>\n",
       "      <td>49.9</td>\n",
       "      <td>14203</td>\n",
       "      <td>39261</td>\n",
       "      <td>2.764275</td>\n",
       "      <td>25058</td>\n",
       "      <td>1.76</td>\n",
       "      <td>14203</td>\n",
       "      <td>39261</td>\n",
       "      <td>2.764275</td>\n",
       "      <td>25058</td>\n",
       "      <td>1.76</td>\n",
       "      <td>1</td>\n",
       "      <td>pass</td>\n",
       "    </tr>\n",
       "    <tr>\n",
       "      <th>Acain1</th>\n",
       "      <td>Acain1</td>\n",
       "      <td>Acaromyces ingoldii MCA 4198 v1.0</td>\n",
       "      <td>Acain1_AssemblyScaffolds.fasta.gz</td>\n",
       "      <td>Acain1_GeneCatalog_genes_20150309.gff.gz</td>\n",
       "      <td>NaN</td>\n",
       "      <td>57.4</td>\n",
       "      <td>NaN</td>\n",
       "      <td>NaN</td>\n",
       "      <td>NaN</td>\n",
       "      <td>NaN</td>\n",
       "      <td>NaN</td>\n",
       "      <td>8025</td>\n",
       "      <td>24322</td>\n",
       "      <td>3.030779</td>\n",
       "      <td>16297</td>\n",
       "      <td>2.03</td>\n",
       "      <td>0</td>\n",
       "      <td>pass</td>\n",
       "    </tr>\n",
       "    <tr>\n",
       "      <th>Acema1</th>\n",
       "      <td>Acema1</td>\n",
       "      <td>Acephala macrosclerotiorum EW76-UTF0540 v1.0</td>\n",
       "      <td>Acema1_AssemblyScaffolds.fasta.gz</td>\n",
       "      <td>Acema1_GeneCatalog_genes_20150224.gff.gz</td>\n",
       "      <td>NaN</td>\n",
       "      <td>38.2</td>\n",
       "      <td>NaN</td>\n",
       "      <td>NaN</td>\n",
       "      <td>NaN</td>\n",
       "      <td>NaN</td>\n",
       "      <td>NaN</td>\n",
       "      <td>21024</td>\n",
       "      <td>63616</td>\n",
       "      <td>3.025875</td>\n",
       "      <td>42592</td>\n",
       "      <td>2.03</td>\n",
       "      <td>0</td>\n",
       "      <td>pass</td>\n",
       "    </tr>\n",
       "    <tr>\n",
       "      <th>Aciri1_iso</th>\n",
       "      <td>Aciri1_iso</td>\n",
       "      <td>Acidomyces richmondensis BFW</td>\n",
       "      <td>Aciri1_iso_AssemblyScaffolds.fasta.gz</td>\n",
       "      <td>Aciri1_iso_GeneCatalog_genes_20111207.gff.gz</td>\n",
       "      <td>Aciri1_iso.filtered_proteins.FilteredModels1.g...</td>\n",
       "      <td>49.3</td>\n",
       "      <td>11202</td>\n",
       "      <td>25568</td>\n",
       "      <td>2.282450</td>\n",
       "      <td>14355</td>\n",
       "      <td>1.28</td>\n",
       "      <td>11202</td>\n",
       "      <td>25568</td>\n",
       "      <td>2.282450</td>\n",
       "      <td>14366</td>\n",
       "      <td>1.28</td>\n",
       "      <td>12</td>\n",
       "      <td>pass</td>\n",
       "    </tr>\n",
       "    <tr>\n",
       "      <th>Aciri1_meta</th>\n",
       "      <td>Aciri1_meta</td>\n",
       "      <td>Acidomyces richmondensis BFW</td>\n",
       "      <td>Aciri1_meta_AssemblyScaffolds.fasta.gz</td>\n",
       "      <td>Aciri1_meta_GeneCatalog_genes_20111216.gff.gz</td>\n",
       "      <td>Aciri1_meta.filtered_proteins.FilteredModels1....</td>\n",
       "      <td>49.7</td>\n",
       "      <td>10352</td>\n",
       "      <td>23763</td>\n",
       "      <td>2.295498</td>\n",
       "      <td>13408</td>\n",
       "      <td>1.30</td>\n",
       "      <td>10352</td>\n",
       "      <td>23763</td>\n",
       "      <td>2.295498</td>\n",
       "      <td>13411</td>\n",
       "      <td>1.30</td>\n",
       "      <td>12</td>\n",
       "      <td>pass</td>\n",
       "    </tr>\n",
       "  </tbody>\n",
       "</table>\n",
       "</div>"
      ],
      "text/plain": [
       "               shortName                                      longName  \\\n",
       "shortName                                                                \n",
       "Aaoar1            Aaoar1             Aaosphaeria arxii CBS 175.79 v1.0   \n",
       "Acain1            Acain1             Acaromyces ingoldii MCA 4198 v1.0   \n",
       "Acema1            Acema1  Acephala macrosclerotiorum EW76-UTF0540 v1.0   \n",
       "Aciri1_iso    Aciri1_iso                  Acidomyces richmondensis BFW   \n",
       "Aciri1_meta  Aciri1_meta                  Acidomyces richmondensis BFW   \n",
       "\n",
       "                                          fastaName  \\\n",
       "shortName                                             \n",
       "Aaoar1            Aaoar1_AssemblyScaffolds.fasta.gz   \n",
       "Acain1            Acain1_AssemblyScaffolds.fasta.gz   \n",
       "Acema1            Acema1_AssemblyScaffolds.fasta.gz   \n",
       "Aciri1_iso    Aciri1_iso_AssemblyScaffolds.fasta.gz   \n",
       "Aciri1_meta  Aciri1_meta_AssemblyScaffolds.fasta.gz   \n",
       "\n",
       "                                                   gffName  \\\n",
       "shortName                                                    \n",
       "Aaoar1            Aaoar1_GeneCatalog_genes_20140429.gff.gz   \n",
       "Acain1            Acain1_GeneCatalog_genes_20150309.gff.gz   \n",
       "Acema1            Acema1_GeneCatalog_genes_20150224.gff.gz   \n",
       "Aciri1_iso    Aciri1_iso_GeneCatalog_genes_20111207.gff.gz   \n",
       "Aciri1_meta  Aciri1_meta_GeneCatalog_genes_20111216.gff.gz   \n",
       "\n",
       "                                                      gff3Name    gc  \\\n",
       "shortName                                                              \n",
       "Aaoar1        Aaoar1.filtered_proteins.FilteredModels1.gff3.gz  49.9   \n",
       "Acain1                                                     NaN  57.4   \n",
       "Acema1                                                     NaN  38.2   \n",
       "Aciri1_iso   Aciri1_iso.filtered_proteins.FilteredModels1.g...  49.3   \n",
       "Aciri1_meta  Aciri1_meta.filtered_proteins.FilteredModels1....  49.7   \n",
       "\n",
       "             numGeneGff3  numExonGff3  exonDensityGff3  numIntronGff3  \\\n",
       "shortName                                                               \n",
       "Aaoar1             14203        39261         2.764275          25058   \n",
       "Acain1               NaN          NaN              NaN            NaN   \n",
       "Acema1               NaN          NaN              NaN            NaN   \n",
       "Aciri1_iso         11202        25568         2.282450          14355   \n",
       "Aciri1_meta        10352        23763         2.295498          13408   \n",
       "\n",
       "             intronDensityGff3  numGeneGff  numExonGff  exonDensityGff  \\\n",
       "shortName                                                                \n",
       "Aaoar1                    1.76       14203       39261        2.764275   \n",
       "Acain1                     NaN        8025       24322        3.030779   \n",
       "Acema1                     NaN       21024       63616        3.025875   \n",
       "Aciri1_iso                1.28       11202       25568        2.282450   \n",
       "Aciri1_meta               1.30       10352       23763        2.295498   \n",
       "\n",
       "             numIntronGff  intronDensityGff  rnaSeqCount    ES  \n",
       "shortName                                                       \n",
       "Aaoar1              25058              1.76            1  pass  \n",
       "Acain1              16297              2.03            0  pass  \n",
       "Acema1              42592              2.03            0  pass  \n",
       "Aciri1_iso          14366              1.28           12  pass  \n",
       "Aciri1_meta         13411              1.30           12  pass  "
      ]
     },
     "execution_count": 5,
     "metadata": {},
     "output_type": "execute_result"
    }
   ],
   "source": [
    "# there is problem with the csv file on 20150909\n",
    "full_info = pd.read_csv('/home/richard/research/data_small/fullTableInfoGff3GffRNAESwithDensity20150829.csv')\n",
    "full_info.index = full_info.shortName\n",
    "full_info.head()"
   ]
  },
  {
   "cell_type": "code",
   "execution_count": 12,
   "metadata": {
    "collapsed": true
   },
   "outputs": [],
   "source": [
    "# RNA seq alignments result location\n",
    "rna_seq_result_path = '/storage3/w/richard/meta2015/placeForRNASeq/'\n",
    "rna_seq_result_shortName = os.listdir(rna_seq_result_path)\n",
    "rna_seq_result_shortName = filter(lambda x: 'get_introns_jgi.sh' not in x, rna_seq_result_shortName)\n",
    "rna_seq_result_shortName = filter(lambda x: 'Clafu1' not in x, rna_seq_result_shortName)"
   ]
  },
  {
   "cell_type": "code",
   "execution_count": 14,
   "metadata": {
    "collapsed": false
   },
   "outputs": [
    {
     "name": "stdout",
     "output_type": "stream",
     "text": [
      "21 ['Aspoch1', 'Disac1', 'Cenge3', 'Conli1', 'Trias1', 'Pneji1', 'Ophdi1', 'HypEC38_1', 'Hebcy2', 'Aurvu1', 'SerlaS7_9_2', 'Veren1', 'Gloin1', 'Obbri1', 'Tilan2', 'Phchr2', 'Sphst1', 'Conco1', 'Neopa1', 'Croqu1', 'Spofi1']\n"
     ]
    }
   ],
   "source": [
    "print len(rna_seq_result_shortName),rna_seq_result_shortName"
   ]
  },
  {
   "cell_type": "code",
   "execution_count": 15,
   "metadata": {
    "collapsed": false
   },
   "outputs": [
    {
     "data": {
      "text/html": [
       "<div>\n",
       "<table border=\"1\" class=\"dataframe\">\n",
       "  <thead>\n",
       "    <tr style=\"text-align: right;\">\n",
       "      <th></th>\n",
       "      <th>shortName</th>\n",
       "      <th>longName</th>\n",
       "      <th>gc</th>\n",
       "      <th>intronDensityGff</th>\n",
       "      <th>gffName</th>\n",
       "      <th>gff3Name</th>\n",
       "    </tr>\n",
       "    <tr>\n",
       "      <th>shortName</th>\n",
       "      <th></th>\n",
       "      <th></th>\n",
       "      <th></th>\n",
       "      <th></th>\n",
       "      <th></th>\n",
       "      <th></th>\n",
       "    </tr>\n",
       "  </thead>\n",
       "  <tbody>\n",
       "    <tr>\n",
       "      <th>Aspoch1</th>\n",
       "      <td>Aspoch1</td>\n",
       "      <td>Aspergillus ochraceoroseus IBT 24754 v1.0</td>\n",
       "      <td>44.2</td>\n",
       "      <td>2.23</td>\n",
       "      <td>Aspoch1_GeneCatalog_genes_20140127.gff.gz</td>\n",
       "      <td>Aspoch1.filtered_proteins.FilteredModels1.gff3.gz</td>\n",
       "    </tr>\n",
       "    <tr>\n",
       "      <th>Disac1</th>\n",
       "      <td>Disac1</td>\n",
       "      <td>Dissoconium aciculare v1.0</td>\n",
       "      <td>52.7</td>\n",
       "      <td>1.17</td>\n",
       "      <td>Disac1_GeneCatalog_genes_20130805.gff.gz</td>\n",
       "      <td>Disac1.filtered_proteins.FilteredModels2.gff3.gz</td>\n",
       "    </tr>\n",
       "    <tr>\n",
       "      <th>Cenge3</th>\n",
       "      <td>Cenge3</td>\n",
       "      <td>Cenococcum geophilum 1.58 v2.0</td>\n",
       "      <td>37.5</td>\n",
       "      <td>1.93</td>\n",
       "      <td>Cenge3_GeneCatalog_genes_20130403.gff.gz</td>\n",
       "      <td>Cenge3.filtered_proteins.FilteredModels1.gff3.gz</td>\n",
       "    </tr>\n",
       "    <tr>\n",
       "      <th>Conli1</th>\n",
       "      <td>Conli1</td>\n",
       "      <td>Coniochaeta ligniaria CBS 111746</td>\n",
       "      <td>51.9</td>\n",
       "      <td>1.98</td>\n",
       "      <td>Conli1_GeneCatalog_genes_20130808.gff.gz</td>\n",
       "      <td>Conli1.filtered_proteins.ExternalModels.gff3.gz</td>\n",
       "    </tr>\n",
       "    <tr>\n",
       "      <th>Trias1</th>\n",
       "      <td>Trias1</td>\n",
       "      <td>Trichoderma asperellum CBS 433.97 v1.0</td>\n",
       "      <td>47.3</td>\n",
       "      <td>1.68</td>\n",
       "      <td>Trias1_GeneCatalog_genes_20120305.gff.gz</td>\n",
       "      <td>Trias1.filtered_proteins.FilteredModels1.gff3.gz</td>\n",
       "    </tr>\n",
       "  </tbody>\n",
       "</table>\n",
       "</div>"
      ],
      "text/plain": [
       "          shortName                                   longName    gc  \\\n",
       "shortName                                                              \n",
       "Aspoch1     Aspoch1  Aspergillus ochraceoroseus IBT 24754 v1.0  44.2   \n",
       "Disac1       Disac1                 Dissoconium aciculare v1.0  52.7   \n",
       "Cenge3       Cenge3             Cenococcum geophilum 1.58 v2.0  37.5   \n",
       "Conli1       Conli1           Coniochaeta ligniaria CBS 111746  51.9   \n",
       "Trias1       Trias1     Trichoderma asperellum CBS 433.97 v1.0  47.3   \n",
       "\n",
       "           intronDensityGff                                    gffName  \\\n",
       "shortName                                                                \n",
       "Aspoch1                2.23  Aspoch1_GeneCatalog_genes_20140127.gff.gz   \n",
       "Disac1                 1.17   Disac1_GeneCatalog_genes_20130805.gff.gz   \n",
       "Cenge3                 1.93   Cenge3_GeneCatalog_genes_20130403.gff.gz   \n",
       "Conli1                 1.98   Conli1_GeneCatalog_genes_20130808.gff.gz   \n",
       "Trias1                 1.68   Trias1_GeneCatalog_genes_20120305.gff.gz   \n",
       "\n",
       "                                                    gff3Name  \n",
       "shortName                                                     \n",
       "Aspoch1    Aspoch1.filtered_proteins.FilteredModels1.gff3.gz  \n",
       "Disac1      Disac1.filtered_proteins.FilteredModels2.gff3.gz  \n",
       "Cenge3      Cenge3.filtered_proteins.FilteredModels1.gff3.gz  \n",
       "Conli1       Conli1.filtered_proteins.ExternalModels.gff3.gz  \n",
       "Trias1      Trias1.filtered_proteins.FilteredModels1.gff3.gz  "
      ]
     },
     "execution_count": 15,
     "metadata": {},
     "output_type": "execute_result"
    }
   ],
   "source": [
    "# make a table with test sets detailed information:\n",
    "# shortName, longName, gc, intron Density, fastaFile name, gff file annotation name\n",
    "# it turns out that the file: fullTableInfoGff3GffRNAESwithDensity20150829.csv has all the info\n",
    "# of the selected, code:\n",
    "# map(lambda x: x in full_info.index, rna_seq_result_shortName)\n",
    "cols = ['shortName','longName','gc','intronDensityGff','gffName','gff3Name']\n",
    "supported_set = full_info.loc[rna_seq_result_shortName]  # rna seq data supported set\n",
    "supported_set[cols].head()"
   ]
  },
  {
   "cell_type": "code",
   "execution_count": 45,
   "metadata": {
    "collapsed": true
   },
   "outputs": [],
   "source": [
    "## make a copy of gff annotation\n",
    "sourcePath = '/storage3/w/richard/meta2015/fasta_gff_gtf_07302015/'\n",
    "targetPath = '/storage3/w/richard/meta2015/finalTestSet20151002/gff/'\n",
    "script = ''\n",
    "for shortName in supported_set.shortName:\n",
    "    script += 'cp {}{}/{} {}\\n'.format(sourcePath,shortName,supported_set.gffName[shortName],targetPath)"
   ]
  },
  {
   "cell_type": "code",
   "execution_count": 52,
   "metadata": {
    "collapsed": true
   },
   "outputs": [],
   "source": [
    "## make a copy of gff3 annotation\n",
    "sourcePath = '/storage3/w/richard/meta2015/fasta_gff_gtf_07302015/'\n",
    "targetPath = '/storage3/w/richard/meta2015/finalTestSet20151002/gff3/'\n",
    "script = ''\n",
    "for shortName in supported_set.shortName:\n",
    "    script += 'cp {}{}/{} {}\\n'.format(sourcePath,shortName,supported_set.gff3Name[shortName],targetPath)"
   ]
  },
  {
   "cell_type": "code",
   "execution_count": 54,
   "metadata": {
    "collapsed": false
   },
   "outputs": [
    {
     "data": {
      "text/plain": [
       "0"
      ]
     },
     "execution_count": 54,
     "metadata": {},
     "output_type": "execute_result"
    }
   ],
   "source": [
    "subprocess.check_call(script,shell=True) #execute script with success"
   ]
  },
  {
   "cell_type": "code",
   "execution_count": 15,
   "metadata": {
    "collapsed": false
   },
   "outputs": [],
   "source": [
    "## Only use gff file for now, basicly, gff and gff3 are the same\n",
    "## convert gff JGI annotation to gtf, with selfmade tool JGIgff_to_gtf.py under /home/richard/research/4_Tools/\n",
    "sourcePath = '/storage3/w/richard/meta2015/finalTestSet20151002/gff/'\n",
    "targetPath = '/storage3/w/richard/meta2015/finalTestSet20151002/gtf_converted_from_gff/'\n",
    "for gffName in os.listdir(sourcePath):\n",
    "    subprocess.check_call('python /home/richard/research/4_Tools/JGIgff_to_gtf.py {} {}' \\\n",
    "                          .format(sourcePath+gffName,targetPath+gffName[:-3]+\"gtf\"),shell=True)"
   ]
  },
  {
   "cell_type": "code",
   "execution_count": 16,
   "metadata": {
    "collapsed": true
   },
   "outputs": [],
   "source": [
    "## filter converted gtf with rna-seq support data(aligned intron)\n",
    "script = ''\n",
    "\n",
    "base = \"/home/braker/bin/filterGenemark.pl \" \n",
    "resultPath = '/storage3/w/richard/meta2015/finalTestSet20151002/filtered_gtf/'\n",
    "for shortName in supported_set.index:\n",
    "    gffname = supported_set.gffName[shortName][:-3]\n",
    "    gtfPath = '/storage3/w/richard/meta2015/finalTestSet20151002/gtf_converted_from_gff/{} '.format(gffname[:-3]+'gtf')\n",
    "    star_intron_path = '/storage3/w/richard/meta2015/placeForRNASeq/{}/star/star_introns.gff '.format(shortName)\n",
    "    output_result = '>{}{}.filter_result\\n'.format(resultPath,shortName)\n",
    "    script += base + gtfPath + star_intron_path + output_result\n",
    "# Aspoch1_GeneCatalog_genes_20140127.gtf  > Aspoch1.filter_result"
   ]
  },
  {
   "cell_type": "code",
   "execution_count": 17,
   "metadata": {
    "collapsed": false
   },
   "outputs": [
    {
     "data": {
      "text/plain": [
       "0"
      ]
     },
     "execution_count": 17,
     "metadata": {},
     "output_type": "execute_result"
    }
   ],
   "source": [
    "subprocess.check_call(script,shell=True)"
   ]
  },
  {
   "cell_type": "code",
   "execution_count": 16,
   "metadata": {
    "collapsed": true
   },
   "outputs": [],
   "source": [
    "####### updated part #####\n",
    "## use alex fixed species##"
   ]
  },
  {
   "cell_type": "code",
   "execution_count": 19,
   "metadata": {
    "collapsed": true
   },
   "outputs": [],
   "source": [
    "## filter converted gtf with rna-seq support data(aligned intron)\n",
    "script = ''\n",
    "\n",
    "base = \"/home/braker/bin/filterGenemark.pl \" \n",
    "resultPath = '/storage3/w/richard/meta2015/finalTestSet20151002/filtered_gtf/'\n",
    "for shortName in ['HypEC38_1','Spofi1','Tilan2','Veren1']:\n",
    "    gffname = supported_set.gffName[shortName][:-3]\n",
    "    gtfPath = '/storage3/w/richard/meta2015/finalTestSet20151002/gtf_converted_from_gff/{} '.format(gffname[:-3]+'gtf')\n",
    "    star_intron_path = '/storage3/w/richard/meta2015/placeForRNASeq/{}/star/star_introns.gff '.format(shortName)\n",
    "    output_result = '>{}{}.filter_result\\n'.format(resultPath,shortName)\n",
    "    script += base + gtfPath + star_intron_path + output_result"
   ]
  },
  {
   "cell_type": "code",
   "execution_count": 20,
   "metadata": {
    "collapsed": false
   },
   "outputs": [
    {
     "data": {
      "text/plain": [
       "0"
      ]
     },
     "execution_count": 20,
     "metadata": {},
     "output_type": "execute_result"
    }
   ],
   "source": [
    "subprocess.check_call(script,shell=True)"
   ]
  },
  {
   "cell_type": "code",
   "execution_count": null,
   "metadata": {
    "collapsed": true
   },
   "outputs": [],
   "source": []
  }
 ],
 "metadata": {
  "kernelspec": {
   "display_name": "Python 2",
   "language": "python",
   "name": "python2"
  },
  "language_info": {
   "codemirror_mode": {
    "name": "ipython",
    "version": 2
   },
   "file_extension": ".py",
   "mimetype": "text/x-python",
   "name": "python",
   "nbconvert_exporter": "python",
   "pygments_lexer": "ipython2",
   "version": "2.7.10"
  }
 },
 "nbformat": 4,
 "nbformat_minor": 0
}
