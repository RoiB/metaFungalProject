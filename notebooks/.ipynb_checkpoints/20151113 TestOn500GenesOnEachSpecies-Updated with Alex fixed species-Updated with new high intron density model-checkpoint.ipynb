{
 "cells": [
  {
   "cell_type": "code",
   "execution_count": 1,
   "metadata": {
    "collapsed": true
   },
   "outputs": [],
   "source": [
    "from Bio import SeqIO\n",
    "import subprocess\n",
    "import pandas as pd"
   ]
  },
  {
   "cell_type": "code",
   "execution_count": null,
   "metadata": {
    "collapsed": true
   },
   "outputs": [],
   "source": [
    "### run gmhmme3 multi-fasta version, high intron density\n",
    "modelLowLoc = '/home/richard/research/tests/Nov13ModelWithNewIntronDensity/modelSetHigh/'\n",
    "script = ''\n",
    "for shortName in shortNames:\n",
    "    command = ('python /home/richard/research/tools/gmhmme3MultiFastaV1.py {}MetaFungal_model_{}_high.txt {}{}_100genes.fasta {}_100.gtf\\n'\n",
    "               .format(modelLowLoc, max(30, gc[shortName]),testSetLocation, shortName, shortName))\n",
    "    script += command\n",
    "    print command\n",
    "with open('/home/richard/research/tests/Oct30NewTestSet/test100outputHigh/run_test.sh','w') as f: f.write(script)"
   ]
  },
  {
   "cell_type": "code",
   "execution_count": null,
   "metadata": {
    "collapsed": true
   },
   "outputs": [],
   "source": [
    "# ##### eval out put result\n",
    "# location = '/home/richard/research/tests/Oct30NewTestSet/test100outputHigh/'\n",
    "# folders = os.listdir(location)\n",
    "# outputLocationLow = '/home/richard/research/tests/Oct30NewTestSet/evalresultHigh/'\n",
    "\n",
    "# script = ''\n",
    "# for shortName in shortNames:\n",
    "#     command = ('perl evaluate_gtf.pl {}{}_100genes.gtf {}{}_100.gtf/{}_100.gtf_fullPrediction.gtf > {}{}.eval.txt\\n'\n",
    "#                .format(testSetLocation, shortName, location, shortName, shortName, outputLocationLow,shortName))\n",
    "#     print command\n",
    "#     script += command\n",
    "# with open('/home/richard/research/tests/Oct30NewTestSet/eval_lite/eval_high.sh','w') as f: f.write(script)"
   ]
  }
 ],
 "metadata": {
  "kernelspec": {
   "display_name": "Python 2",
   "language": "python",
   "name": "python2"
  },
  "language_info": {
   "codemirror_mode": {
    "name": "ipython",
    "version": 2
   },
   "file_extension": ".py",
   "mimetype": "text/x-python",
   "name": "python",
   "nbconvert_exporter": "python",
   "pygments_lexer": "ipython2",
   "version": "2.7.10"
  }
 },
 "nbformat": 4,
 "nbformat_minor": 0
}
