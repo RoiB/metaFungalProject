{
 "cells": [
  {
   "cell_type": "code",
   "execution_count": 1,
   "metadata": {
    "collapsed": true
   },
   "outputs": [],
   "source": [
    "import pandas as pd\n",
    "import matplotlib.pylab as plt\n",
    "%matplotlib inline\n",
    "import numpy as np\n",
    "from scipy import stats"
   ]
  },
  {
   "cell_type": "code",
   "execution_count": 16,
   "metadata": {
    "collapsed": false
   },
   "outputs": [
    {
     "name": "stdout",
     "output_type": "stream",
     "text": [
      "shape = 1.9495866784, scale = 72.2200920514\n"
     ]
    },
    {
     "data": {
      "image/png": "[encoded data removed]",
      "text/plain": [
       "<matplotlib.figure.Figure at 0x7efd75a4b450>"
      ]
     },
     "metadata": {},
     "output_type": "display_data"
    }
   ],
   "source": [
    "# sourceLow = '/home/richard/largeDataSet/ES_Run_modfileAug2015/Phchr2.ES_C_4.mod'\n",
    "sourceLow = '/home/richard/largeDataSet/ES_Run_modfileAug2015/Obbri1.ES_C_4.mod'\n",
    "with open(sourceLow) as f:\n",
    "    text = f.read()\n",
    "    internal_distr = text.split('$EXON_DISTR')[1].split('$TERMINAL_DISTR')[0].rstrip().lstrip().split('\\n')\n",
    "    internal_distr = map(lambda x: x.split(), internal_distr)\n",
    "    internal_distr = map(lambda x: (int(x[0]), float(x[1])), internal_distr)\n",
    "## get length distibution\n",
    "table = pd.DataFrame(internal_distr, columns=['position','probability'])\n",
    "table.sort_index(axis = 0, ascending = False, by = ['probability'], inplace = True)\n",
    "\n",
    "probabilityAccumulation = 0.85\n",
    "table['accProb'] = table.probability.cumsum()\n",
    "idx  = table.accProb < probabilityAccumulation\n",
    "\n",
    "table_sub = table[idx].copy()\n",
    "table_sub.sort_index(axis = 0, by = ['position'], inplace = True)\n",
    "\n",
    "## generate sample length for gamma to fit\n",
    "size = 100000\n",
    "counts = map(lambda n: int(round(n)),table_sub.probability*size)\n",
    "table_sub['counts'] = counts\n",
    "\n",
    "lengths = sc.parallelize(table_sub[['position','counts']].values).flatMap(lambda (a,b):[a]*b).collect()\n",
    "\n",
    "## fit gamma distribution\n",
    "shape,loc,scale = stats.gamma.fit(lengths)\n",
    "print \"shape = {}, scale = {}\".format(shape,scale)\n",
    "\n",
    "n = 1000\n",
    "\n",
    "high_x = table_sub.position[:n]\n",
    "high_y = table_sub.probability[:n]\n",
    "\n",
    "\n",
    "####################################\n",
    "sourceLow = '/home/richard/largeDataSet/ES_Run_modfileAug2015/Neucr2.ES_C_4.mod'\n",
    "with open(sourceLow) as f:\n",
    "    text = f.read()\n",
    "    internal_distr = text.split('$EXON_DISTR')[1].split('$TERMINAL_DISTR')[0].rstrip().lstrip().split('\\n')\n",
    "    internal_distr = map(lambda x: x.split(), internal_distr)\n",
    "    internal_distr = map(lambda x: (int(x[0]), float(x[1])), internal_distr)\n",
    "## get length distibution\n",
    "table = pd.DataFrame(internal_distr, columns=['position','probability'])\n",
    "table.sort_index(axis = 0, ascending = False, by = ['probability'], inplace = True)\n",
    "\n",
    "probabilityAccumulation = 0.85\n",
    "table['accProb'] = table.probability.cumsum()\n",
    "idx  = table.accProb < probabilityAccumulation\n",
    "\n",
    "table_sub = table[idx].copy()\n",
    "table_sub.sort_index(axis = 0, by = ['position'], inplace = True)\n",
    "\n",
    "## generate sample length for gamma to fit\n",
    "size = 100000\n",
    "counts = map(lambda n: int(round(n)),table_sub.probability*size)\n",
    "table_sub['counts'] = counts\n",
    "\n",
    "lengths = sc.parallelize(table_sub[['position','counts']].values).flatMap(lambda (a,b):[a]*b).collect()\n",
    "\n",
    "####################################\n",
    "plt.plot(table_sub.position[:n],table_sub.probability[:n], label = 'Low Intron Density')\n",
    "plt.plot(high_x,high_y, label = 'High Intron Density')\n",
    "# plt.plot(range(n),stats.gamma.pdf(range(n),shape,loc,scale), 'r',label = 'Gamma Fitting')\n",
    "plt.title('Internal Exon Length Distribution')\n",
    "plt.xlabel('Length(nt)')\n",
    "plt.ylabel('Probability')\n",
    "plt.legend()\n",
    "plt.show()"
   ]
  },
  {
   "cell_type": "code",
   "execution_count": null,
   "metadata": {
    "collapsed": true
   },
   "outputs": [],
   "source": []
  }
 ],
 "metadata": {
  "kernelspec": {
   "display_name": "Python 2",
   "language": "python",
   "name": "python2"
  },
  "language_info": {
   "codemirror_mode": {
    "name": "ipython",
    "version": 2
   },
   "file_extension": ".py",
   "mimetype": "text/x-python",
   "name": "python",
   "nbconvert_exporter": "python",
   "pygments_lexer": "ipython2",
   "version": "2.7.10"
  }
 },
 "nbformat": 4,
 "nbformat_minor": 0
}
