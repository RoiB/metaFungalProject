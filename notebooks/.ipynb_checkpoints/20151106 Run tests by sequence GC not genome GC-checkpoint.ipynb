{
 "cells": [
  {
   "cell_type": "code",
   "execution_count": 1,
   "metadata": {
    "collapsed": true
   },
   "outputs": [],
   "source": [
    "from Bio import SeqIO"
   ]
  },
  {
   "cell_type": "code",
   "execution_count": 4,
   "metadata": {
    "collapsed": true
   },
   "outputs": [],
   "source": [
    "testSetLocation = '/home/richard/research/tests/Oct30NewTestSet/testSet100/'"
   ]
  },
  {
   "cell_type": "code",
   "execution_count": 5,
   "metadata": {
    "collapsed": true
   },
   "outputs": [],
   "source": [
    "modelPathMid = '/home/richard/research/tests/Oct29AssembleModel/modelSetMid/' # MetaFungal_model_30_mid.txt\n",
    "outputPathMid = '/home/richard/research/tests/Nov6TestbySequenceGC/test100outputBySeqGCMid/'"
   ]
  },
  {
   "cell_type": "code",
   "execution_count": null,
   "metadata": {
    "collapsed": true
   },
   "outputs": [],
   "source": [
    "### run gmhmme3 multi-fasta version, low intron density\n",
    "modelLowLoc = '/home/richard/research/tests/Oct29AssembleModel/modelSetLow/'\n",
    "script = ''\n",
    "for shortName in shortNames:\n",
    "    command = ('python /home/richard/research/tools/gmhmme3MultiFastaBySeqGC.py {} {}{}_100genes.fasta {}\\n'\n",
    "               .format(modelLowLoc,testSetLocation, shortName, shortName))\n",
    "    script += command\n",
    "    print command\n",
    "with open('/home/richard/research/tests/Oct30NewTestSet/test100outputLow/run_test.sh','w') as f: f.write(script)"
   ]
  },
  {
   "cell_type": "code",
   "execution_count": 23,
   "metadata": {
    "collapsed": true
   },
   "outputs": [],
   "source": [
    "# from Bio import SeqIO\n",
    "# from Bio.SeqUtils import GC\n",
    "# import subprocess\n",
    "# import sys\n",
    "\n",
    "# def gmhmmMultiFasta(modelFilePath, multiFastaFile, shortName):\n",
    "#     '''\n",
    "#     assume short name has Assembly inside\n",
    "#     model files must follow format: MetaFungal_model_30_mid.txt\n",
    "#     '''\n",
    "#     subprocess.check_call('mkdir {}'.format(shortName), shell = True)\n",
    "#     subprocess.check_call('mkdir {}/{}'.format(shortName,'fastaPieces'), shell = True)\n",
    "#     subprocess.check_call('mkdir {}/{}'.format(shortName,'predictions'), shell = True)\n",
    "#     fastaPieceLocation = '{}/{}/'.format(shortName,'fastaPieces')\n",
    "#     predictionLocation = '{}/{}/'.format(shortName,'predictions')\n",
    "#     fastaPieceFiles = []\n",
    "#     predictionFiles = []\n",
    "#     consolidatedPrediction = '{}/{}_fullPrediction.gtf'.format(shortName,shortName)\n",
    "    \n",
    "#     ## split fasta file\n",
    "#     SeqRecords = SeqIO.parse(multiFastaFile,'fasta')\n",
    "\n",
    "#     for SeqRecord in SeqRecords:\n",
    "#         ## add info to id_gc_pair\n",
    "#         gc = max(30, int(round(GC(SeqRecord.seq))))\n",
    "#         gc = min(gc, 60)\n",
    "#         id_gc_pair[SeqRecord.id] = gc\n",
    "#         ## process fasta file\n",
    "#         filename = '{}{}.fasta'.format(fastaPieceLocation,SeqRecord.id)\n",
    "#         SeqIO.write(SeqRecord, filename,'fasta')\n",
    "#         fastaPieceFiles.append('{}.fasta'.format(SeqRecord.id))\n",
    "\n",
    "    \n",
    "#     ## perform gmhmm on each piece\n",
    "#     script = ''\n",
    "#     base_command1 = '/home/tool/gmes/gmhmme3 -m {}'#.format(modelFile)\n",
    "#     base_command2 = 'python /home/richard/research/tools/gmhmme3_to_gtfV4.py'\n",
    "\n",
    "#     counter = 0\n",
    "#     for fastaPiece in fastaPieceFiles:\n",
    "#         counter += 1\n",
    "#         #gmhmm prediction\n",
    "#         tempName = fastaPiece[:-5]+'tmp'\n",
    "#         ## add model file name\n",
    "#         fastaName = fastaPiece[:-5]\n",
    "#         command0 = ('{} {}{} -o {}{}\\n'\n",
    "#                     .format(base_command1.format('MetaFungal_model_'+str(id_gc_pair[fastaName])+'_*'), \n",
    "#                             fastaPieceLocation,fastaPiece,predictionLocation,tempName))\n",
    "#         subprocess.check_call(command0,shell = True)\n",
    "#         #convert prediciton\n",
    "#         outputName = tempName[:-3]+'prediction.gtf'\n",
    "#     #     print outputName\n",
    "#         predictionFiles.append(outputName)\n",
    "\n",
    "#         command1 = '{} {}{} {}{}\\n'.format(base_command2, predictionLocation, tempName, predictionLocation, outputName)\n",
    "#         subprocess.check_call(command1,shell = True)\n",
    "#         command2 = 'rm {}{}\\n'.format(predictionLocation, tempName)\n",
    "#         subprocess.check_call(command2,shell = True)\n",
    "#         command3 = 'echo \"#{} prediction of {} is done! Model used: GC {}\"\\n'.format(counter, fastaPiece, id_gc_pair[fastaName])\n",
    "#         subprocess.check_call(command3,shell = True)\n",
    "    \n",
    "#     ## consolidate predicitons\n",
    "#     with open(consolidatedPrediction, 'w') as f:\n",
    "#         for predictionFile in predictionFiles:\n",
    "#             with open(predictionLocation+predictionFile) as f0:\n",
    "#                 for line in f0:\n",
    "#                     f.write(line)"
   ]
  },
  {
   "cell_type": "code",
   "execution_count": null,
   "metadata": {
    "collapsed": true
   },
   "outputs": [],
   "source": []
  },
  {
   "cell_type": "code",
   "execution_count": null,
   "metadata": {
    "collapsed": true
   },
   "outputs": [],
   "source": []
  },
  {
   "cell_type": "code",
   "execution_count": null,
   "metadata": {
    "collapsed": true
   },
   "outputs": [],
   "source": []
  }
 ],
 "metadata": {
  "kernelspec": {
   "display_name": "Python 2",
   "language": "python",
   "name": "python2"
  },
  "language_info": {
   "codemirror_mode": {
    "name": "ipython",
    "version": 2
   },
   "file_extension": ".py",
   "mimetype": "text/x-python",
   "name": "python",
   "nbconvert_exporter": "python",
   "pygments_lexer": "ipython2",
   "version": "2.7.10"
  }
 },
 "nbformat": 4,
 "nbformat_minor": 0
}
