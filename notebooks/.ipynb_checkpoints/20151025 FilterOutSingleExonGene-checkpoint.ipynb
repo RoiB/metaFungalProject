{
 "cells": [
  {
   "cell_type": "code",
   "execution_count": 1,
   "metadata": {
    "collapsed": false
   },
   "outputs": [
    {
     "data": {
      "text/plain": [
       "'Cut out single exon genes and only retain the muti-exon gene'"
      ]
     },
     "execution_count": 1,
     "metadata": {},
     "output_type": "execute_result"
    }
   ],
   "source": [
    "'''Cut out single exon genes and only retain the muti-exon gene'''\n"
   ]
  },
  {
   "cell_type": "code",
   "execution_count": null,
   "metadata": {
    "collapsed": true
   },
   "outputs": [],
   "source": [
    "def get_gene_location(inputFile):\n",
    "    '''\n",
    "    helper function for 'update_annotation'\n",
    "    input: annotation file\n",
    "    output: tuple, (genename, range)\n",
    "    '''\n",
    "    pairs = {} # put start, stop location to a list associated with \n",
    "    with open(inputFile) as f:\n",
    "        for line in f:\n",
    "            if 'start_codon' in line or 'stop_codon' in line:\n",
    "                alist = line.split()\n",
    "                a,b = map(int,[alist[3], alist[4]])\n",
    "                key = alist[9]\n",
    "                if key not in pairs:\n",
    "                    pairs[key] = [a,b]\n",
    "                else:\n",
    "                    pairs[key].append(a); pairs[key].append(b)\n",
    "                    \n",
    "    for key in pairs:\n",
    "        pairs[key] = sorted(pairs[key])\n",
    "        \n",
    "    gene_locs = map(lambda (key, alist): (key, (min(alist), max(alist))), pairs.items())\n",
    "    return sorted(gene_locs, key = lambda x: x[1])"
   ]
  },
  {
   "cell_type": "code",
   "execution_count": 16,
   "metadata": {
    "collapsed": true
   },
   "outputs": [],
   "source": [
    "def filter_out_single_gene(inputFile,outputFile):\n",
    "    gene_counter = {}\n",
    "    annotation_container = {}\n",
    "    with open(inputFile) as f:\n",
    "        for line in f:\n",
    "            elems = line.split()\n",
    "            key = elems[9]\n",
    "            gene_counter[key] = [0,0] #[exon number, CDS number]\n",
    "            annotation_container[key] = []\n",
    "    with open(inputFile) as f:\n",
    "        for line in f:\n",
    "            elems = line.split()\n",
    "            key = elems[9]\n",
    "            annotation_container[key].append(line)\n",
    "            if 'exon' in elems[2]:\n",
    "                gene_counter[key][0] += 1\n",
    "            if 'CDS' in elems[2]:\n",
    "                gene_counter[key][1] += 1\n",
    "\n",
    "    with open(outputFile,'w') as f1:\n",
    "        for key in gene_counter:\n",
    "            if gene_counter[key][0] > 1 or gene_counter[key][1] > 1:\n",
    "                for line in annotation_container[key]:\n",
    "                    f1.write(line)"
   ]
  },
  {
   "cell_type": "code",
   "execution_count": 17,
   "metadata": {
    "collapsed": false
   },
   "outputs": [],
   "source": [
    "inputFile = '/home/richard/research/tests/Oct25FilterOutSingleAnnotation/Schpo1FiveGenes.gtf'\n",
    "outputFile = '/home/richard/research/tests/Oct25FilterOutSingleAnnotation/Schpo1FiveGenes.multiGene.gtf'"
   ]
  },
  {
   "cell_type": "code",
   "execution_count": null,
   "metadata": {
    "collapsed": true
   },
   "outputs": [],
   "source": []
  }
 ],
 "metadata": {
  "kernelspec": {
   "display_name": "Python 2",
   "language": "python",
   "name": "python2"
  },
  "language_info": {
   "codemirror_mode": {
    "name": "ipython",
    "version": 2
   },
   "file_extension": ".py",
   "mimetype": "text/x-python",
   "name": "python",
   "nbconvert_exporter": "python",
   "pygments_lexer": "ipython2",
   "version": "2.7.10"
  }
 },
 "nbformat": 4,
 "nbformat_minor": 0
}
