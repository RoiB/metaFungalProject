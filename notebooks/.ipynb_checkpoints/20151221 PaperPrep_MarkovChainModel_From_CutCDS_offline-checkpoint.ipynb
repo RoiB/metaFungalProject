{
 "cells": [
  {
   "cell_type": "code",
   "execution_count": 1,
   "metadata": {
    "collapsed": true
   },
   "outputs": [],
   "source": [
    "'''memory on server is full, divert to local'''\n",
    "import pandas as pd\n",
    "import subprocess\n",
    "from Bio import SeqIO\n",
    "import itertools\n",
    "from operator import add\n",
    "import time\n",
    "import numpy as np\n",
    "import matplotlib.pylab as plt"
   ]
  },
  {
   "cell_type": "code",
   "execution_count": 2,
   "metadata": {
    "collapsed": false
   },
   "outputs": [],
   "source": [
    "CODONS = map(lambda x: ''.join(x), list(itertools.product(['A','T','G','C'],['A','T','G','C'],['A','T','G','C'])))"
   ]
  },
  {
   "cell_type": "code",
   "execution_count": 3,
   "metadata": {
    "collapsed": true
   },
   "outputs": [],
   "source": [
    "STOP_CODONS = ['TAA', 'TGA', 'TAG']"
   ]
  },
  {
   "cell_type": "code",
   "execution_count": 4,
   "metadata": {
    "collapsed": false
   },
   "outputs": [],
   "source": [
    "info = pd.read_csv('/Users/richard/Desktop/Bioinfo_Research_Place/fullTableInfoGff3GffRNAESwithDensity20151109.csv')\n",
    "info.index = info.shortName"
   ]
  },
  {
   "cell_type": "code",
   "execution_count": 5,
   "metadata": {
    "collapsed": false,
    "scrolled": false
   },
   "outputs": [],
   "source": [
    "target = '/Users/richard/Desktop/Bioinfo_Research_Place/CDS_cut_Dec21/'"
   ]
  },
  {
   "cell_type": "code",
   "execution_count": 6,
   "metadata": {
    "collapsed": true
   },
   "outputs": [],
   "source": [
    "## convert seq to capital letters\n",
    "## filter out alternative splicing\n",
    "def filter1(seq): return len(seq)%3 == 0\n",
    "def filter2(seq): return seq[:3] == 'ATG'\n",
    "def filter3(seq): return seq[-3:] in STOP_CODONS\n",
    "def filter4(seq): return 'N' not in seq"
   ]
  },
  {
   "cell_type": "code",
   "execution_count": 7,
   "metadata": {
    "collapsed": true
   },
   "outputs": [],
   "source": [
    "def process_CDS_spark(filename):\n",
    "    '''\n",
    "    input: filename with path\n",
    "    output: sequence contained in list\n",
    "    '''\n",
    "    recs = sc.parallelize(list(SeqIO.parse(filename,'fasta')))\n",
    "    seqs = recs.map(lambda x: str(x.seq))\n",
    "    seqs = seqs.filter(lambda x: filter1(x) and filter2(x) and filter3(x) and filter4(x))\n",
    "    seqs = seqs.map(lambda x: x[3:-3].upper())\n",
    "    return seqs.reduce(lambda a,b: a+b)"
   ]
  },
  {
   "cell_type": "code",
   "execution_count": 8,
   "metadata": {
    "collapsed": true
   },
   "outputs": [],
   "source": [
    "def get_condon_freqs_spark(seq):\n",
    "    table = {codon:0 for codon in CODONS}\n",
    "    counts = sc.parallelize(xrange(0,len(seq),3)).map(lambda i: (seq[i:i+3],1)).reduceByKey(add).collect()\n",
    "    for (key,count) in counts: table[key] = count\n",
    "    total = 1.*sum(table.values())\n",
    "    for key in table: table[key] /= total\n",
    "    return table"
   ]
  },
  {
   "cell_type": "code",
   "execution_count": 9,
   "metadata": {
    "collapsed": false,
    "scrolled": false
   },
   "outputs": [
    {
     "name": "stdout",
     "output_type": "stream",
     "text": [
      "0 Aaoar1 time spent so far: 4.53664016724\n",
      "1 Acain1 time spent so far: 6.48990106583\n",
      "2 Acema1 time spent so far: 11.9513840675\n",
      "3 Aciri1_iso time spent so far: 14.38402915\n",
      "4 Aciri1_meta time spent so far: 16.7811620235\n",
      "5 Acral2 time spent so far: 19.0870499611\n",
      "6 Acrst1 time spent so far: 22.6667020321\n",
      "7 Agabi_varbisH97_2 time spent so far: 25.3175370693\n",
      "8 Agabi_varbur_1 time spent so far: 28.0251300335\n",
      "9 Agahy1 time spent so far: 29.6735541821\n",
      "10 Altal1 time spent so far: 33.3910541534\n",
      "11 Altbr1 time spent so far: 35.9695961475\n",
      "12 Amamu1 time spent so far: 39.6023840904\n",
      "13 Amath1 time spent so far: 42.1930861473\n",
      "14 Amnli1 time spent so far: 46.642291069\n",
      "15 Amore1 time spent so far: 50.505325079\n",
      "16 Antav1 time spent so far: 54.7019581795\n",
      "17 Antlo1 time spent so far: 55.175219059\n",
      "18 Antsi1 time spent so far: 58.0907580853\n",
      "19 Apimo1 time spent so far: 62.9112520218\n",
      "20 Aplpr1 time spent so far: 66.0141820908\n",
      "21 Armga1 time spent so far: 73.3742740154\n",
      "22 Armme1_1 time spent so far: 76.5064020157\n",
      "23 Artbe1 time spent so far: 78.4960370064\n",
      "24 Artel1 time spent so far: 81.7724039555\n",
      "25 Artol1 time spent so far: 85.3417780399\n",
      "26 Arxad1 time spent so far: 86.9169511795\n",
      "27 Ascim1 time spent so far: 92.1515591145\n",
      "28 Ascni1 time spent so far: 94.5951070786\n",
      "29 Ascru1 time spent so far: 96.0370771885\n",
      "30 Ascsa1 time spent so far: 99.520938158\n",
      "31 Ashgo1 time spent so far: 100.474014997\n",
      "32 Ashgo1_1 time spent so far: 101.643467188\n",
      "33 Aspac1 time spent so far: 104.842689037\n",
      "34 Aspbr1 time spent so far: 108.700569153\n",
      "35 Aspca3 time spent so far: 112.295775175\n",
      "36 Aspcam1 time spent so far: 115.308302164\n",
      "37 Aspcl1 time spent so far: 118.380917072\n",
      "38 Aspfl1 time spent so far: 122.316934109\n",
      "39 Aspfo1 time spent so far: 126.493221998\n",
      "40 Aspfu1 time spent so far: 129.77017808\n",
      "41 Aspfu_A1163_1 time spent so far: 132.925243139\n",
      "42 Aspgl1 time spent so far: 135.859657049\n",
      "43 Aspka1_1 time spent so far: 139.404592991\n",
      "44 Aspni7 time spent so far: 142.944566011\n",
      "45 Aspni_DSM_1 time spent so far: 146.628170013\n",
      "46 Aspni_NRRL3_1 time spent so far: 150.299489021\n",
      "47 Aspni_bvT_1 time spent so far: 153.895074129\n",
      "48 Aspnid1 time spent so far: 157.141371012\n",
      "49 Aspnov1 time spent so far: 160.252458096\n",
      "50 Aspoch1 time spent so far: 162.697661161\n",
      "51 Aspor1 time spent so far: 165.98894906\n",
      "52 Aspph1 time spent so far: 169.555844069\n",
      "53 Aspste1 time spent so far: 173.241554976\n",
      "54 Aspsy1 time spent so far: 177.038930178\n",
      "55 Aspte1 time spent so far: 180.31312418\n",
      "56 Asptu1 time spent so far: 183.91031599\n",
      "57 Aspve1 time spent so far: 187.784471035\n",
      "58 Aspwe1 time spent so far: 191.190291166\n",
      "59 Aspzo1 time spent so far: 194.438630104\n",
      "60 Atrsp2 time spent so far: 198.525736094\n",
      "61 Aulhe2 time spent so far: 201.540188074\n",
      "62 Aurde3_1 time spent so far: 208.65707016\n",
      "63 Aurpu_var_mel1 time spent so far: 211.310928106\n",
      "64 Aurpu_var_nam1 time spent so far: 213.888725042\n",
      "65 Aurpu_var_pul1 time spent so far: 217.017480135\n",
      "66 Aurpu_var_sub1 time spent so far: 219.960558176\n",
      "67 Aurvu1 time spent so far: 223.861845016\n",
      "68 Babin1 time spent so far: 225.193926096\n",
      "69 Bacci1 time spent so far: 229.221063137\n",
      "70 Basun1 time spent so far: 230.118394136\n",
      "71 Batde5 time spent so far: 232.231486082\n",
      "72 Bauco1 time spent so far: 234.781147003\n",
      "73 Beaba1 time spent so far: 238.115839958\n",
      "74 Bimnz1 time spent so far: 241.842036009\n",
      "75 Bjead1_1 time spent so far: 245.49882412\n",
      "76 Blugr1 time spent so far: 247.082478046\n",
      "77 Boled1 time spent so far: 250.42210412\n",
      "78 Botbo1 time spent so far: 254.117159128\n",
      "problem with Botci1\n",
      "80 Botdo1_1 time spent so far: 259.612449169\n",
      "81 Bysci1 time spent so far: 263.565438986\n",
      "82 Cadsp1 time spent so far: 270.12967515\n",
      "83 Calco1 time spent so far: 273.211889982\n",
      "84 Calvi1 time spent so far: 276.207463026\n",
      "85 Canar1 time spent so far: 277.462340117\n",
      "86 Canca1 time spent so far: 278.408311129\n",
      "87 Canta1 time spent so far: 279.706341982\n",
      "88 Cante1 time spent so far: 280.944350958\n",
      "89 Catan1 time spent so far: 284.290860176\n",
      "90 Cenge3 time spent so far: 287.368721962\n",
      "91 Cepal1_1 time spent so far: 288.682981014\n",
      "92 Cepfr1_1 time spent so far: 289.944741011\n",
      "93 CerAGI time spent so far: 294.826265097\n",
      "94 Cersp1 time spent so far: 296.713934183\n",
      "95 Cersu1 time spent so far: 299.753508091\n",
      "96 Cerun2 time spent so far: 302.898947001\n",
      "97 Cerzm1 time spent so far: 305.809298992\n",
      "problem with Chagl_1\n",
      "99 Chalo1 time spent so far: 312.572069168\n",
      "100 Chiap1 time spent so far: 314.808503151\n",
      "101 Chove1 time spent so far: 318.190433979\n",
      "102 ClaPMI390 time spent so far: 321.635766029\n",
      "103 Clael1 time spent so far: 325.065651178\n",
      "104 Clafu1 time spent so far: 328.967128992\n",
      "105 Clagr3 time spent so far: 332.222831964\n",
      "106 Clapy1 time spent so far: 335.889569998\n",
      "107 Cloro1 time spent so far: 342.141471148\n",
      "108 Cocca1 time spent so far: 345.404572964\n",
      "109 CocheC4_1 time spent so far: 348.770876169\n",
      "110 CocheC5_3 time spent so far: 352.210916042\n",
      "111 Cocim1 time spent so far: 355.004822016\n",
      "112 Coclu2 time spent so far: 358.13036108\n",
      "113 Cocmi1 time spent so far: 361.347571135\n",
      "114 Cocsa1 time spent so far: 364.668473959\n",
      "115 Cocvi1 time spent so far: 368.031738997\n",
      "116 Coere1 time spent so far: 369.471873045\n",
      "117 Colca1 time spent so far: 373.129755974\n",
      "118 Coler1 time spent so far: 377.146358013\n",
      "119 Colfa1 time spent so far: 380.918876171\n",
      "120 Colgr1 time spent so far: 384.469156981\n",
      "121 Colhi1 time spent so far: 387.027276039\n",
      "122 Colso1 time spent so far: 390.861660004\n",
      "123 Colsu1 time spent so far: 394.755862951\n",
      "124 Colzo1 time spent so far: 398.754202127\n",
      "125 ConPMI546 time spent so far: 402.103829145\n",
      "126 Conco1 time spent so far: 404.119181156\n",
      "127 Conli1 time spent so far: 407.529334068\n",
      "128 Conlig1 time spent so far: 411.172322989\n",
      "129 Conpu1 time spent so far: 414.723271132\n",
      "130 Conth1 time spent so far: 416.54264617\n",
      "problem with Copci1\n",
      "132 Copci_AmutBmut1 time spent so far: 420.791506052\n",
      "133 Corca1 time spent so far: 425.723898172\n",
      "134 Corgl3 time spent so far: 430.281986952\n",
      "135 Corma2 time spent so far: 433.510138035\n",
      "136 Cormi1 time spent so far: 436.813379049\n",
      "137 Croqu1 time spent so far: 439.423442125\n",
      "problem with Cryne_H99_1\n",
      "139 Cryne_JEC21_1 time spent so far: 441.514395952\n",
      "140 Crypa2 time spent so far: 444.231872082\n",
      "141 Cryvi1 time spent so far: 445.930334091\n",
      "142 Cucbe1 time spent so far: 449.478253126\n",
      "143 Cybja1 time spent so far: 450.743944168\n",
      "144 Cylto1 time spent so far: 454.23090601\n",
      "145 Dacsp1 time spent so far: 456.815737009\n",
      "146 Daequ1 time spent so far: 459.794214964\n",
      "147 DalEC12_1 time spent so far: 463.026560068\n",
      "148 Debha1 time spent so far: 464.514089108\n",
      "149 Decga1 time spent so far: 467.723548174\n",
      "150 Dekbr2 time spent so far: 468.802231073\n",
      "151 Delco1 time spent so far: 471.647541046\n",
      "152 Denbi1 time spent so far: 481.467293024\n",
      "153 Dicsq1 time spent so far: 484.399971962\n",
      "154 Didex1 time spent so far: 487.593080044\n",
      "155 Diocr1 time spent so far: 491.799030066\n",
      "156 Disac1 time spent so far: 494.584691048\n",
      "157 Dotse1 time spent so far: 497.651662111\n",
      "158 Dotsy1 time spent so far: 501.059091091\n",
      "159 Elmca1 time spent so far: 505.027297974\n",
      "160 Enccu1 time spent so far: 505.516808033\n",
      "161 Enche1 time spent so far: 505.980934143\n",
      "162 Encin1 time spent so far: 506.467164993\n",
      "163 Encro1 time spent so far: 506.935470104\n",
      "164 Entbi1 time spent so far: 507.545041084\n",
      "165 Erebi1 time spent so far: 510.278406143\n",
      "166 Eryha1 time spent so far: 512.929630995\n",
      "167 Eurhe1 time spent so far: 515.84428215\n",
      "168 Eutla1 time spent so far: 519.010053158\n",
      "169 Exigl1 time spent so far: 526.886727095\n",
      "170 Exova1 time spent so far: 528.637722969\n",
      "171 Fibra1 time spent so far: 531.642302036\n",
      "172 Fibsp1 time spent so far: 540.545663118\n",
      "173 Fishe1 time spent so far: 543.104617119\n",
      "174 Fomme1 time spent so far: 546.169061184\n",
      "175 Fompi3 time spent so far: 549.405888081\n",
      "176 Fusfu1 time spent so far: 554.176429033\n",
      "problem with Fusgr1\n",
      "problem with Fusox1\n",
      "179 Fusox2 time spent so far: 557.313347101\n",
      "180 Fusve1 time spent so far: 561.059513092\n",
      "181 Fusve2 time spent so far: 562.31490612\n",
      "182 Galma1 time spent so far: 568.118909121\n",
      "183 Ganpr1 time spent so far: 571.69614315\n",
      "184 Gansp1 time spent so far: 575.270769119\n",
      "185 Glalo1 time spent so far: 579.488761187\n",
      "186 Gloac1 time spent so far: 583.935135126\n",
      "187 Gloci1 time spent so far: 590.153028011\n",
      "188 Gloin1 time spent so far: 595.457836151\n",
      "189 Glost2 time spent so far: 598.992892027\n",
      "190 Glotr1_1 time spent so far: 602.114473104\n",
      "191 Grocl1 time spent so far: 604.562824011\n",
      "192 Guyne1 time spent so far: 608.016379118\n",
      "193 Gyman1 time spent so far: 616.221642971\n",
      "194 Gymau1 time spent so far: 619.054767132\n",
      "195 Gymch1 time spent so far: 624.305181026\n",
      "196 Gymci1_1 time spent so far: 627.043673992\n",
      "197 Gymlu1 time spent so far: 632.959107161\n",
      "198 Gyrli1 time spent so far: 635.908066034\n",
      "199 Hanpo2 time spent so far: 637.034950018\n",
      "200 Hanva1_1 time spent so far: 638.102444172\n",
      "201 Hebcy2 time spent so far: 641.9317801\n",
      "202 Hesve2finisherSC time spent so far: 644.804131985\n",
      "203 Hetan2 time spent so far: 647.82674408\n",
      "204 Hetpy1 time spent so far: 649.660727978\n",
      "205 Hisca1 time spent so far: 652.379312038\n",
      "206 Hyabl1 time spent so far: 654.079540968\n",
      "207 Hydpi2 time spent so far: 657.366502047\n",
      "208 Hydru2 time spent so far: 661.655730963\n",
      "209 HypCI4A_1 time spent so far: 665.102332115\n",
      "210 HypCO275_1 time spent so far: 668.725821972\n",
      "211 HypEC38_1 time spent so far: 672.30638814\n",
      "212 Hypbu1 time spent so far: 673.844727039\n",
      "213 Hypsu1 time spent so far: 678.528090954\n",
      "214 Hyspu1_1 time spent so far: 682.673519135\n",
      "215 Ilysp1 time spent so far: 689.979709148\n",
      "216 Jaaar1 time spent so far: 694.169250011\n",
      "217 Jamsp1 time spent so far: 696.085760117\n",
      "218 Karrh1 time spent so far: 700.325347185\n",
      "219 Kazaf1 time spent so far: 701.726664066\n",
      "220 Klula1 time spent so far: 703.025084972\n",
      "221 Lacam1 time spent so far: 707.645740032\n",
      "222 Lacbi2 time spent so far: 713.689314127\n",
      "223 Laesu1 time spent so far: 717.174703121\n",
      "224 Leisp1 time spent so far: 720.820090055\n",
      "225 Lenfl1 time spent so far: 725.494038105\n",
      "226 Lenti6_1 time spent so far: 729.62603116\n",
      "227 Lenti7_1 time spent so far: 733.865818977\n",
      "228 Lepmu1 time spent so far: 737.403958082\n",
      "229 Leppa1 time spent so far: 741.005398035\n",
      "230 Leugo1_1 time spent so far: 742.000699043\n",
      "231 Leumo1 time spent so far: 745.764341116\n",
      "232 Lichy1 time spent so far: 748.934869051\n",
      "233 Linin1 time spent so far: 753.485965014\n",
      "234 Linth1 time spent so far: 755.468888998\n",
      "235 Lipst1_1 time spent so far: 757.272732019\n",
      "236 Lizem1 time spent so far: 760.679079056\n",
      "237 Lolmi1 time spent so far: 764.065412998\n",
      "238 Lopma1 time spent so far: 768.827536106\n",
      "239 Lopmy1 time spent so far: 773.158486128\n",
      "240 Lopni1 time spent so far: 779.650449038\n",
      "241 Lorju1 time spent so far: 783.668769121\n",
      "242 Macan1 time spent so far: 787.171236992\n",
      "243 Macfu1 time spent so far: 790.856148005\n",
      "244 Macph1 time spent so far: 794.757682085\n",
      "problem with Maggr1\n",
      "problem with Magpo1\n",
      "247 Malgl1 time spent so far: 796.618035078\n",
      "248 Malsy1_1 time spent so far: 797.450158119\n",
      "249 Marbr1 time spent so far: 800.814143181\n",
      "250 Marfi1 time spent so far: 805.216853142\n",
      "251 Marpt1 time spent so far: 806.909939051\n",
      "252 Maseb1 time spent so far: 810.622254133\n",
      "253 Meimi1 time spent so far: 812.528406143\n",
      "254 Melbi2 time spent so far: 818.508700132\n",
      "255 Melli1 time spent so far: 821.734622955\n",
      "256 Mellp1 time spent so far: 825.963356972\n",
      "257 Melpu1 time spent so far: 830.354032993\n",
      "258 Melsp1 time spent so far: 835.143375158\n",
      "259 Melti1 time spent so far: 837.573347092\n",
      "260 Melva1 time spent so far: 844.613924026\n",
      "261 Metac1 time spent so far: 848.138591051\n",
      "262 Metan1 time spent so far: 851.762897968\n",
      "263 Metbi1 time spent so far: 853.067690134\n",
      "264 Micca1 time spent so far: 855.880489111\n",
      "265 Mictr1 time spent so far: 859.552256107\n",
      "266 Mixos1 time spent so far: 861.42516017\n",
      "267 Monha1 time spent so far: 865.352869987\n",
      "268 Monpe1_1 time spent so far: 866.500774145\n",
      "269 Monpu1 time spent so far: 869.099277973\n",
      "270 Monru1 time spent so far: 871.970479965\n",
      "271 Morco1 time spent so far: 874.941879034\n",
      "272 Morel1 time spent so far: 879.310259104\n",
      "273 Mucci2 time spent so far: 881.979038954\n",
      "274 Mutel1 time spent so far: 885.453505993\n",
      "275 Mycfi2 time spent so far: 888.838063955\n",
      "276 Mycgr3 time spent so far: 891.698127985\n",
      "277 Myche1 time spent so far: 894.976935148\n",
      "278 Myrdu1 time spent so far: 898.162634134\n",
      "279 Myrin1 time spent so far: 902.27366209\n",
      "280 Mytre1 time spent so far: 907.050047159\n",
      "281 Nadfu1 time spent so far: 908.447355986\n",
      "282 Naifl1 time spent so far: 911.852784157\n",
      "283 Necha2 time spent so far: 916.939124107\n",
      "284 Nempa1 time spent so far: 917.599666119\n",
      "285 Neofi1 time spent so far: 921.283712149\n",
      "286 Neole1 time spent so far: 924.630522013\n",
      "287 Neopa1 time spent so far: 927.852936029\n",
      "288 Neucr2 time spent so far: 931.927445173\n",
      "289 Neucr_trp3_1 time spent so far: 935.429761171\n",
      "290 Neudi1 time spent so far: 938.633636951\n",
      "291 Neute_matA2 time spent so far: 942.01385498\n",
      "292 Neute_mat_a1 time spent so far: 945.318391085\n",
      "293 Nieex1 time spent so far: 949.825836182\n",
      "294 Nosce1 time spent so far: 950.418977022\n",
      "295 Obbri1 time spent so far: 954.08596611\n",
      "296 Oidma1 time spent so far: 959.137804031\n",
      "297 Ompol1 time spent so far: 961.32774806\n",
      "298 Onnsc1 time spent so far: 964.584455967\n",
      "299 Ophdi1 time spent so far: 969.320311069\n",
      "300 Ophpc1 time spent so far: 972.630371094\n",
      "301 Orpsp1_1 time spent so far: 974.387925148\n",
      "302 Pacta1_2 time spent so far: 975.683638096\n",
      "303 Panru1 time spent so far: 979.367962122\n",
      "304 Panst_KUC8834_1_1 time spent so far: 983.154352188\n",
      "305 Parbr1 time spent so far: 985.000697136\n",
      "306 Parsp1 time spent so far: 989.24319911\n",
      "307 Patat1 time spent so far: 992.244079113\n",
      "308 Paxam1 time spent so far: 995.684077978\n",
      "309 Paxin1 time spent so far: 999.870936155\n",
      "310 Paxru1 time spent so far: 1003.73619604\n",
      "311 Penac1 time spent so far: 1008.36697602\n",
      "312 Penbi1 time spent so far: 1012.62954712\n",
      "313 Penbr2 time spent so far: 1016.57756615\n",
      "314 PenbrAgRF18_1 time spent so far: 1020.599015\n",
      "315 Penca1 time spent so far: 1024.70959115\n",
      "316 Pench1 time spent so far: 1028.60356498\n",
      "317 PenchWisc1_1 time spent so far: 1032.75409007\n",
      "318 Pendi1 time spent so far: 1035.80283403\n",
      "319 Penex1 time spent so far: 1039.79882216\n",
      "320 Penfe1 time spent so far: 1043.75443411\n",
      "321 Pengl1 time spent so far: 1047.83829498\n",
      "322 Penja1 time spent so far: 1051.80513716\n",
      "323 Penla1 time spent so far: 1055.49853396\n",
      "324 Penox1 time spent so far: 1058.87336707\n",
      "325 Penra1 time spent so far: 1062.8005631\n",
      "326 Perma1 time spent so far: 1068.71076798\n",
      "327 Phaal1 time spent so far: 1071.34728503\n",
      "328 Phaca1 time spent so far: 1074.88851905\n",
      "329 Phchr2 time spent so far: 1078.69797015\n",
      "330 Phisc1 time spent so far: 1085.43753314\n",
      "331 Phlbr1 time spent so far: 1089.73741698\n",
      "332 Phlgi1 time spent so far: 1093.12888718\n",
      "333 Photr1 time spent so far: 1097.268471\n",
      "334 Phybl2 time spent so far: 1101.04822898\n",
      "335 Phycit1 time spent so far: 1104.42609215\n",
      "336 Picme2 time spent so far: 1105.88610411\n",
      "337 Picpa1 time spent so far: 1107.21235418\n",
      "problem with Picst3\n",
      "339 Pieho1_1 time spent so far: 1108.9775331\n",
      "340 Pilcr1 time spent so far: 1114.56961799\n",
      "341 PirE2_1 time spent so far: 1117.55934095\n",
      "342 Pirin1 time spent so far: 1121.14971113\n",
      "343 Pismi1 time spent so far: 1125.20311809\n",
      "344 Pisti1 time spent so far: 1130.05041099\n",
      "345 Plecu1 time spent so far: 1134.52120113\n",
      "346 PleosPC15_2 time spent so far: 1138.03619099\n",
      "347 PleosPC9_1 time spent so far: 1141.24676204\n",
      "348 Plesi1 time spent so far: 1145.31706214\n",
      "349 Plicr1 time spent so far: 1149.37031603\n",
      "350 Pneji1 time spent so far: 1150.22947001\n",
      "351 Podan2 time spent so far: 1154.31605816\n",
      "352 Polar1 time spent so far: 1159.78654599\n",
      "353 Polbr1 time spent so far: 1165.73521113\n",
      "354 Polci1 time spent so far: 1169.09160304\n",
      "355 Polfu1 time spent so far: 1173.7165091\n",
      "problem with Pospl1\n",
      "357 PosplRSB12_1 time spent so far: 1177.49651504\n",
      "358 Psean1_1 time spent so far: 1179.76221609\n",
      "359 Psehu1 time spent so far: 1182.19514704\n",
      "360 Psehy1 time spent so far: 1185.96578598\n",
      "problem with Pucgr1\n",
      "362 Pucst1 time spent so far: 1190.502316\n",
      "363 Punst1 time spent so far: 1194.01262116\n",
      "364 Pycci1 time spent so far: 1197.58952498\n",
      "365 Pycco1 time spent so far: 1201.44740415\n",
      "366 Pycco1662_1 time spent so far: 1205.3314991\n",
      "367 Pycsa1 time spent so far: 1209.28003311\n",
      "368 Pyrco1 time spent so far: 1212.89420605\n",
      "369 Pyrsp1 time spent so far: 1217.87585115\n",
      "problem with Pyrtr1\n",
      "371 Pyrtt1 time spent so far: 1222.41925311\n",
      "372 Ramac1 time spent so far: 1227.54160619\n",
      "373 Rambr1 time spent so far: 1230.06473398\n",
      "374 Rhich1 time spent so far: 1236.19213796\n",
      "375 Rhier1 time spent so far: 1241.53670907\n",
      "376 Rhili1 time spent so far: 1245.66410899\n",
      "377 Rhimi1_1 time spent so far: 1248.5806911\n",
      "378 Rhimi_ATCC11559_1 time spent so far: 1251.51370811\n",
      "379 Rhimi_ATCC52814_1 time spent so far: 1254.40440607\n",
      "380 Rhior3 time spent so far: 1259.51446509\n",
      "381 Rhisa1 time spent so far: 1264.00729203\n",
      "382 Rhiso1 time spent so far: 1269.24153709\n",
      "383 Rhivi1 time spent so far: 1272.88356709\n",
      "384 Rhoba1_1 time spent so far: 1274.91206217\n",
      "385 Rhodsp1 time spent so far: 1276.95928001\n",
      "386 Rhomi1 time spent so far: 1279.22908401\n",
      "387 Rhosp1 time spent so far: 1281.06658816\n",
      "388 Rhoto1 time spent so far: 1283.64091301\n",
      "389 Rhyru1_1 time spent so far: 1288.01631618\n",
      "390 Ricme1 time spent so far: 1294.73879313\n",
      "391 Rozal1_1 time spent so far: 1296.17242908\n",
      "392 Rutfi1 time spent so far: 1300.50125408\n",
      "393 Sacce1 time spent so far: 1302.40881896\n",
      "394 SacceM3707_1 time spent so far: 1304.04032302\n",
      "395 SacceM3836_1 time spent so far: 1305.66699004\n",
      "396 SacceM3837_1 time spent so far: 1307.28285098\n",
      "397 SacceM3838_1 time spent so far: 1308.88403606\n",
      "398 SacceM3839_1 time spent so far: 1310.4798491\n",
      "399 SacceYB210_1 time spent so far: 1311.90495801\n",
      "400 Sacpr1 time spent so far: 1314.78464198\n",
      "401 Saico1 time spent so far: 1316.48129106\n",
      "402 Sarco1 time spent so far: 1320.438205\n",
      "403 Schco3 time spent so far: 1325.46592498\n",
      "404 Schco_LoeD_1 time spent so far: 1329.61511803\n",
      "405 Schco_TatD_1 time spent so far: 1334.10830617\n",
      "406 Schcy1 time spent so far: 1335.53815007\n",
      "407 Schja1 time spent so far: 1336.90478897\n",
      "408 Schoc1 time spent so far: 1338.23676515\n",
      "409 Schpa1 time spent so far: 1343.50521708\n",
      "410 Schpo1 time spent so far: 1344.97095704\n",
      "411 Sclci1 time spent so far: 1349.67417097\n",
      "problem with Sclsc1\n",
      "413 Sebve1 time spent so far: 1354.63811398\n",
      "414 Sepmu1 time spent so far: 1358.00756407\n",
      "415 Seppo1 time spent so far: 1361.12307405\n",
      "416 Sepsp1 time spent so far: 1364.41039109\n",
      "417 SerlaS7_3_2 time spent so far: 1367.53537703\n",
      "418 SerlaS7_9_2 time spent so far: 1370.81472611\n",
      "419 Serla_varsha1 time spent so far: 1372.57331204\n",
      "420 Setho1 time spent so far: 1377.01662707\n",
      "421 Settu1 time spent so far: 1380.93580818\n",
      "422 Sisbr1 time spent so far: 1385.75913\n",
      "423 Sisni1 time spent so far: 1389.75585413\n",
      "424 Sissu1 time spent so far: 1393.93017101\n",
      "425 Sodal1 time spent so far: 1397.21601295\n",
      "426 Spapa3 time spent so far: 1398.71567512\n",
      "427 Sphst1 time spent so far: 1409.30177116\n",
      "428 Spofi1 time spent so far: 1412.86122417\n",
      "429 Spoli1 time spent so far: 1415.80683398\n",
      "430 Spore1 time spent so far: 1418.06130099\n",
      "problem with Sporo1\n",
      "432 Spoth2 time spent so far: 1421.14974308\n",
      "433 Stagr1 time spent so far: 1425.01631713\n",
      "434 Stano2 time spent so far: 1429.00494504\n",
      "435 Stasp1 time spent so far: 1433.82097411\n",
      "436 Stehi1 time spent so far: 1438.39107919\n",
      "437 Suibr1 time spent so far: 1443.75281096\n",
      "438 Suigr1 time spent so far: 1447.89594412\n",
      "439 Suihi1 time spent so far: 1452.66656709\n",
      "440 Suilu1 time spent so far: 1457.38419604\n",
      "441 Symat1 time spent so far: 1459.04706216\n",
      "442 Symko1 time spent so far: 1462.59451914\n",
      "443 Talma1_2 time spent so far: 1466.62672806\n",
      "444 Talst1_2 time spent so far: 1471.459167\n",
      "445 Tapde1_1 time spent so far: 1472.71980596\n",
      "446 Terbo2 time spent so far: 1475.95859313\n",
      "447 Ternu1 time spent so far: 1479.34069705\n",
      "448 Tescy1 time spent so far: 1481.47776699\n",
      "449 Theau1 time spent so far: 1484.22304201\n",
      "450 Thega1 time spent so far: 1487.61527705\n",
      "451 Themi1 time spent so far: 1490.67414117\n",
      "452 Thian1 time spent so far: 1493.76042414\n",
      "453 Thiap1 time spent so far: 1497.39886403\n",
      "454 Thiar1 time spent so far: 1501.19756413\n",
      "455 Thihy1 time spent so far: 1504.74631405\n",
      "456 Thite2 time spent so far: 1508.14087796\n",
      "457 ThoPMI491_1 time spent so far: 1516.788589\n",
      "458 Tilan2 time spent so far: 1518.81424999\n",
      "459 Tilwa1 time spent so far: 1520.87167406\n",
      "460 Torde1 time spent so far: 1522.33340216\n",
      "461 Torra1 time spent so far: 1525.77647996\n",
      "462 Totfu1 time spent so far: 1529.96089005\n",
      "463 Trace1 time spent so far: 1533.72986603\n",
      "464 Traci1 time spent so far: 1537.97729897\n",
      "465 Tralj1 time spent so far: 1541.95584702\n",
      "466 Trave1 time spent so far: 1546.26276803\n",
      "467 Treme1 time spent so far: 1548.51395798\n",
      "468 Trepe1 time spent so far: 1554.87877417\n",
      "469 Triab1_1 time spent so far: 1559.18295503\n",
      "470 Trias1 time spent so far: 1563.2863431\n",
      "471 Triat2 time spent so far: 1566.85236096\n",
      "472 Tribi1 time spent so far: 1569.96396399\n",
      "473 Trich1 time spent so far: 1572.21365309\n",
      "474 Trici4 time spent so far: 1575.59291816\n",
      "475 Trigu1 time spent so far: 1577.84001398\n",
      "476 Triha1 time spent so far: 1582.514395\n",
      "477 Trilo3 time spent so far: 1585.93895411\n",
      "478 Trima3 time spent so far: 1590.31157517\n",
      "479 Triol1 time spent so far: 1592.58930802\n",
      "480 Tripe1 time spent so far: 1594.26813006\n",
      "problem with Trire2\n",
      "482 TrireRUTC30_1 time spent so far: 1597.57954717\n",
      "483 Triru1 time spent so far: 1600.25819612\n",
      "484 Trisp1 time spent so far: 1602.22327518\n",
      "485 Triver1 time spent so far: 1604.46181607\n",
      "486 TriviGv29_8_2 time spent so far: 1608.10209513\n",
      "487 Tryvi1 time spent so far: 1612.0487721\n",
      "488 Tubme1 time spent so far: 1614.05858803\n",
      "489 Tulca1 time spent so far: 1618.930233\n",
      "490 Umbra1 time spent so far: 1622.07583213\n",
      "491 Uncre1 time spent so far: 1624.28650904\n",
      "problem with Ustma1\n",
      "493 Ustsp1 time spent so far: 1626.71635699\n",
      "494 Valla1 time spent so far: 1629.06607008\n",
      "495 Venin1 time spent so far: 1633.49453712\n",
      "496 Venpi1 time spent so far: 1637.68139815\n",
      "497 Veral1 time spent so far: 1641.05906105\n",
      "498 Verda1 time spent so far: 1641.94283104\n",
      "499 Veren1 time spent so far: 1646.10341215\n",
      "500 Volvo1 time spent so far: 1649.36881804\n",
      "501 Walic1 time spent so far: 1650.79117608\n",
      "502 Walse1 time spent so far: 1652.17420602\n",
      "503 Wesor1 time spent so far: 1655.62484097\n",
      "504 Wican1 time spent so far: 1657.15746808\n",
      "505 Wilmi1 time spent so far: 1660.84489703\n",
      "506 Wolco1 time spent so far: 1664.516083\n",
      "507 Xanpa2 time spent so far: 1667.95597816\n",
      "508 Xerba1 time spent so far: 1671.84293199\n",
      "509 Xylhe1 time spent so far: 1674.26871014\n",
      "510 Yarli1 time spent so far: 1676.13718915\n",
      "511 Zasce1 time spent so far: 1681.60640311\n",
      "512 Zoprh1 time spent so far: 1688.02336001\n",
      "513 Zygro1 time spent so far: 1689.50823712\n",
      "514 Zymar1 time spent so far: 1693.44113898\n",
      "515 Zymps1 time spent so far: 1697.49042201\n"
     ]
    }
   ],
   "source": [
    "codon_freqs = [] #container for gc, condon freq pairs\n",
    "problem_species = []\n",
    "start = time.time()\n",
    "for i,shortName in enumerate(info.index):\n",
    "    try:\n",
    "        filename = \"{}{}/nuc_seq.fna\".format(target,shortName)\n",
    "        seqs = process_CDS_spark(filename)\n",
    "        codon_freqs.append(get_condon_freqs_spark(seqs))\n",
    "        print i, shortName, 'time spent so far:', time.time()-start \n",
    "    except:\n",
    "        print 'problem with {}'.format(shortName)\n",
    "        problem_species.append(shortName)"
   ]
  },
  {
   "cell_type": "code",
   "execution_count": 10,
   "metadata": {
    "collapsed": true
   },
   "outputs": [],
   "source": [
    "#filter shortNames\n",
    "shortNames = list(info.index)\n",
    "for shortName in problem_species:\n",
    "    shortNames.remove(shortName)"
   ]
  },
  {
   "cell_type": "code",
   "execution_count": 16,
   "metadata": {
    "collapsed": true
   },
   "outputs": [],
   "source": [
    "#point out problem species\n",
    "pd.DataFrame(problem_species).to_csv('problem_species.csv',index=False, header = None)"
   ]
  },
  {
   "cell_type": "code",
   "execution_count": 11,
   "metadata": {
    "collapsed": false
   },
   "outputs": [],
   "source": [
    "## make table\n",
    "## shortName, gc, codon vector\n",
    "table_entry = []\n",
    "for i,shortName in enumerate(shortNames):\n",
    "    condon_vec = [codon_freqs[i][condon] for condon in CODONS]\n",
    "    condon_vec.insert(0,info.ix[shortName].gc)\n",
    "    condon_vec.insert(0,shortName)\n",
    "    table_entry.append(condon_vec)\n",
    "    \n",
    "cols = CODONS[:]; cols.insert(0, 'gc'); cols.insert(0,'shortName')\n",
    "\n",
    "condon_freq_table = pd.DataFrame(table_entry, columns=cols)"
   ]
  },
  {
   "cell_type": "code",
   "execution_count": 12,
   "metadata": {
    "collapsed": true
   },
   "outputs": [],
   "source": [
    "## save table for future use to avoid intensive calculation\n",
    "condon_freq_table.to_csv('condon_freq_table.csv',index = False)"
   ]
  },
  {
   "cell_type": "code",
   "execution_count": null,
   "metadata": {
    "collapsed": true
   },
   "outputs": [],
   "source": []
  },
  {
   "cell_type": "code",
   "execution_count": null,
   "metadata": {
    "collapsed": true
   },
   "outputs": [],
   "source": [
    "##################\n",
    "\n",
    "## to do \n",
    "\n",
    "\n",
    "\n",
    "##################"
   ]
  },
  {
   "cell_type": "code",
   "execution_count": 28,
   "metadata": {
    "collapsed": false
   },
   "outputs": [
    {
     "ename": "LinAlgError",
     "evalue": "SVD did not converge in Linear Least Squares",
     "output_type": "error",
     "traceback": [
      "\u001b[0;31m---------------------------------------------------------------------------\u001b[0m",
      "\u001b[0;31mLinAlgError\u001b[0m                               Traceback (most recent call last)",
      "\u001b[0;32m<ipython-input-28-804e8e8a697e>\u001b[0m in \u001b[0;36m<module>\u001b[0;34m()\u001b[0m\n\u001b[1;32m      1\u001b[0m \u001b[0;31m## build regression model from table\u001b[0m\u001b[0;34m\u001b[0m\u001b[0;34m\u001b[0m\u001b[0m\n\u001b[0;32m----> 2\u001b[0;31m \u001b[0mregression_models\u001b[0m \u001b[0;34m=\u001b[0m \u001b[0;34m[\u001b[0m\u001b[0mnp\u001b[0m\u001b[0;34m.\u001b[0m\u001b[0mpoly1d\u001b[0m\u001b[0;34m(\u001b[0m\u001b[0mnp\u001b[0m\u001b[0;34m.\u001b[0m\u001b[0mpolyfit\u001b[0m\u001b[0;34m(\u001b[0m\u001b[0mcondon_freq_table\u001b[0m\u001b[0;34m.\u001b[0m\u001b[0mgc\u001b[0m\u001b[0;34m,\u001b[0m \u001b[0mcondon_freq_table\u001b[0m\u001b[0;34m[\u001b[0m\u001b[0mcodon\u001b[0m\u001b[0;34m]\u001b[0m\u001b[0;34m,\u001b[0m \u001b[0;36m3\u001b[0m\u001b[0;34m)\u001b[0m\u001b[0;34m)\u001b[0m \u001b[0;32mfor\u001b[0m \u001b[0mcodon\u001b[0m \u001b[0;32min\u001b[0m \u001b[0mCODONS\u001b[0m\u001b[0;34m]\u001b[0m\u001b[0;34m\u001b[0m\u001b[0m\n\u001b[0m",
      "\u001b[0;32m/Users/richard/anaconda/lib/python2.7/site-packages/numpy/lib/polynomial.pyc\u001b[0m in \u001b[0;36mpolyfit\u001b[0;34m(x, y, deg, rcond, full, w, cov)\u001b[0m\n\u001b[1;32m    586\u001b[0m     \u001b[0mscale\u001b[0m \u001b[0;34m=\u001b[0m \u001b[0mNX\u001b[0m\u001b[0;34m.\u001b[0m\u001b[0msqrt\u001b[0m\u001b[0;34m(\u001b[0m\u001b[0;34m(\u001b[0m\u001b[0mlhs\u001b[0m\u001b[0;34m*\u001b[0m\u001b[0mlhs\u001b[0m\u001b[0;34m)\u001b[0m\u001b[0;34m.\u001b[0m\u001b[0msum\u001b[0m\u001b[0;34m(\u001b[0m\u001b[0maxis\u001b[0m\u001b[0;34m=\u001b[0m\u001b[0;36m0\u001b[0m\u001b[0;34m)\u001b[0m\u001b[0;34m)\u001b[0m\u001b[0;34m\u001b[0m\u001b[0m\n\u001b[1;32m    587\u001b[0m     \u001b[0mlhs\u001b[0m \u001b[0;34m/=\u001b[0m \u001b[0mscale\u001b[0m\u001b[0;34m\u001b[0m\u001b[0m\n\u001b[0;32m--> 588\u001b[0;31m     \u001b[0mc\u001b[0m\u001b[0;34m,\u001b[0m \u001b[0mresids\u001b[0m\u001b[0;34m,\u001b[0m \u001b[0mrank\u001b[0m\u001b[0;34m,\u001b[0m \u001b[0ms\u001b[0m \u001b[0;34m=\u001b[0m \u001b[0mlstsq\u001b[0m\u001b[0;34m(\u001b[0m\u001b[0mlhs\u001b[0m\u001b[0;34m,\u001b[0m \u001b[0mrhs\u001b[0m\u001b[0;34m,\u001b[0m \u001b[0mrcond\u001b[0m\u001b[0;34m)\u001b[0m\u001b[0;34m\u001b[0m\u001b[0m\n\u001b[0m\u001b[1;32m    589\u001b[0m     \u001b[0mc\u001b[0m \u001b[0;34m=\u001b[0m \u001b[0;34m(\u001b[0m\u001b[0mc\u001b[0m\u001b[0;34m.\u001b[0m\u001b[0mT\u001b[0m\u001b[0;34m/\u001b[0m\u001b[0mscale\u001b[0m\u001b[0;34m)\u001b[0m\u001b[0;34m.\u001b[0m\u001b[0mT\u001b[0m  \u001b[0;31m# broadcast scale coefficients\u001b[0m\u001b[0;34m\u001b[0m\u001b[0m\n\u001b[1;32m    590\u001b[0m \u001b[0;34m\u001b[0m\u001b[0m\n",
      "\u001b[0;32m/Users/richard/anaconda/lib/python2.7/site-packages/numpy/linalg/linalg.pyc\u001b[0m in \u001b[0;36mlstsq\u001b[0;34m(a, b, rcond)\u001b[0m\n\u001b[1;32m   1919\u001b[0m                                  0, work, lwork, iwork, 0)\n\u001b[1;32m   1920\u001b[0m     \u001b[0;32mif\u001b[0m \u001b[0mresults\u001b[0m\u001b[0;34m[\u001b[0m\u001b[0;34m'info'\u001b[0m\u001b[0;34m]\u001b[0m \u001b[0;34m>\u001b[0m \u001b[0;36m0\u001b[0m\u001b[0;34m:\u001b[0m\u001b[0;34m\u001b[0m\u001b[0m\n\u001b[0;32m-> 1921\u001b[0;31m         \u001b[0;32mraise\u001b[0m \u001b[0mLinAlgError\u001b[0m\u001b[0;34m(\u001b[0m\u001b[0;34m'SVD did not converge in Linear Least Squares'\u001b[0m\u001b[0;34m)\u001b[0m\u001b[0;34m\u001b[0m\u001b[0m\n\u001b[0m\u001b[1;32m   1922\u001b[0m     \u001b[0mresids\u001b[0m \u001b[0;34m=\u001b[0m \u001b[0marray\u001b[0m\u001b[0;34m(\u001b[0m\u001b[0;34m[\u001b[0m\u001b[0;34m]\u001b[0m\u001b[0;34m,\u001b[0m \u001b[0mresult_real_t\u001b[0m\u001b[0;34m)\u001b[0m\u001b[0;34m\u001b[0m\u001b[0m\n\u001b[1;32m   1923\u001b[0m     \u001b[0;32mif\u001b[0m \u001b[0mis_1d\u001b[0m\u001b[0;34m:\u001b[0m\u001b[0;34m\u001b[0m\u001b[0m\n",
      "\u001b[0;31mLinAlgError\u001b[0m: SVD did not converge in Linear Least Squares"
     ]
    }
   ],
   "source": [
    "## build regression model from table\n",
    "regression_models = [np.poly1d(np.polyfit(condon_freq_table.gc, condon_freq_table[codon], 3)) for codon in CODONS]"
   ]
  },
  {
   "cell_type": "code",
   "execution_count": null,
   "metadata": {
    "collapsed": true
   },
   "outputs": [],
   "source": [
    "# make table with regression model predicted codon frequency\n",
    "vecs = []\n",
    "for gc in range(25,71):\n",
    "    vec = map(lambda model: model(gc), regression_models)\n",
    "    vec.insert(0,gc)\n",
    "    vecs.append(vec)"
   ]
  },
  {
   "cell_type": "code",
   "execution_count": null,
   "metadata": {
    "collapsed": true
   },
   "outputs": [],
   "source": [
    "###### test script ############"
   ]
  },
  {
   "cell_type": "code",
   "execution_count": 13,
   "metadata": {
    "collapsed": false
   },
   "outputs": [
    {
     "ename": "NameError",
     "evalue": "global name 'sc' is not defined",
     "output_type": "error",
     "traceback": [
      "\u001b[0;31m---------------------------------------------------------------------------\u001b[0m",
      "\u001b[0;31mNameError\u001b[0m                                 Traceback (most recent call last)",
      "\u001b[0;32m<ipython-input-13-4bb624641c93>\u001b[0m in \u001b[0;36m<module>\u001b[0;34m()\u001b[0m\n\u001b[1;32m      1\u001b[0m \u001b[0mfilename\u001b[0m \u001b[0;34m=\u001b[0m \u001b[0;34m\"{}{}/nuc_seq.fna\"\u001b[0m\u001b[0;34m.\u001b[0m\u001b[0mformat\u001b[0m\u001b[0;34m(\u001b[0m\u001b[0mtarget\u001b[0m\u001b[0;34m,\u001b[0m\u001b[0minfo\u001b[0m\u001b[0;34m.\u001b[0m\u001b[0mindex\u001b[0m\u001b[0;34m[\u001b[0m\u001b[0;36m0\u001b[0m\u001b[0;34m]\u001b[0m\u001b[0;34m)\u001b[0m\u001b[0;34m\u001b[0m\u001b[0m\n\u001b[0;32m----> 2\u001b[0;31m \u001b[0mprocess_CDS_spark\u001b[0m\u001b[0;34m(\u001b[0m\u001b[0mfilename\u001b[0m\u001b[0;34m)\u001b[0m\u001b[0;34m\u001b[0m\u001b[0m\n\u001b[0m",
      "\u001b[0;32m<ipython-input-10-988918d4df8f>\u001b[0m in \u001b[0;36mprocess_CDS_spark\u001b[0;34m(filename)\u001b[0m\n\u001b[1;32m      4\u001b[0m     \u001b[0moutput\u001b[0m\u001b[0;34m:\u001b[0m \u001b[0msequence\u001b[0m \u001b[0mcontained\u001b[0m \u001b[0;32min\u001b[0m \u001b[0mlist\u001b[0m\u001b[0;34m\u001b[0m\u001b[0m\n\u001b[1;32m      5\u001b[0m     '''\n\u001b[0;32m----> 6\u001b[0;31m     \u001b[0mrecs\u001b[0m \u001b[0;34m=\u001b[0m \u001b[0msc\u001b[0m\u001b[0;34m.\u001b[0m\u001b[0mparallelize\u001b[0m\u001b[0;34m(\u001b[0m\u001b[0mlist\u001b[0m\u001b[0;34m(\u001b[0m\u001b[0mSeqIO\u001b[0m\u001b[0;34m.\u001b[0m\u001b[0mparse\u001b[0m\u001b[0;34m(\u001b[0m\u001b[0mfilename\u001b[0m\u001b[0;34m,\u001b[0m\u001b[0;34m'fasta'\u001b[0m\u001b[0;34m)\u001b[0m\u001b[0;34m)\u001b[0m\u001b[0;34m)\u001b[0m\u001b[0;34m\u001b[0m\u001b[0m\n\u001b[0m\u001b[1;32m      7\u001b[0m \u001b[0;31m#     seqs = recs.map(lambda x: ''.join(str(x.seq).split('N')))\u001b[0m\u001b[0;34m\u001b[0m\u001b[0;34m\u001b[0m\u001b[0m\n\u001b[1;32m      8\u001b[0m     \u001b[0mseqs\u001b[0m \u001b[0;34m=\u001b[0m \u001b[0mrecs\u001b[0m\u001b[0;34m.\u001b[0m\u001b[0mmap\u001b[0m\u001b[0;34m(\u001b[0m\u001b[0;32mlambda\u001b[0m \u001b[0mx\u001b[0m\u001b[0;34m:\u001b[0m \u001b[0mstr\u001b[0m\u001b[0;34m(\u001b[0m\u001b[0mx\u001b[0m\u001b[0;34m.\u001b[0m\u001b[0mseq\u001b[0m\u001b[0;34m)\u001b[0m\u001b[0;34m)\u001b[0m\u001b[0;34m\u001b[0m\u001b[0m\n",
      "\u001b[0;31mNameError\u001b[0m: global name 'sc' is not defined"
     ]
    }
   ],
   "source": [
    "filename = \"{}{}/nuc_seq.fna\".format(target,info.index[0])\n",
    "process_CDS_spark(filename)"
   ]
  },
  {
   "cell_type": "code",
   "execution_count": 66,
   "metadata": {
    "collapsed": false
   },
   "outputs": [
    {
     "name": "stdout",
     "output_type": "stream",
     "text": [
      "0 Botci1\n",
      "1 Chagl_1\n",
      "2 Copci1\n",
      "3 Cryne_H99_1\n",
      "4 Fusgr1\n",
      "5 Fusox1\n",
      "6 Maggr1\n",
      "7 Magpo1\n",
      "1 problem with Picst3 [Errno 2] No such file or directory: '/Users/richard/Desktop/Bioinfo_Research_Place/CDS_cut_Dec21/Picst3/nuc_seq.fna'\n",
      "2 problem with Pospl1 [Errno 2] No such file or directory: '/Users/richard/Desktop/Bioinfo_Research_Place/CDS_cut_Dec21/Pospl1/nuc_seq.fna'\n",
      "10 Pucgr1\n",
      "11 Pyrtr1\n",
      "12 Sclsc1\n",
      "3 problem with Sporo1 [Errno 2] No such file or directory: '/Users/richard/Desktop/Bioinfo_Research_Place/CDS_cut_Dec21/Sporo1/nuc_seq.fna'\n",
      "4 problem with Trire2 [Errno 2] No such file or directory: '/Users/richard/Desktop/Bioinfo_Research_Place/CDS_cut_Dec21/Trire2/nuc_seq.fna'\n",
      "5 problem with Ustma1 [Errno 2] No such file or directory: '/Users/richard/Desktop/Bioinfo_Research_Place/CDS_cut_Dec21/Ustma1/nuc_seq.fna'\n"
     ]
    }
   ],
   "source": [
    "count = 1\n",
    "for i,shortName in enumerate(problem_speices):\n",
    "    try:\n",
    "        filename = \"{}{}/nuc_seq.fna\".format(target,shortName)\n",
    "        recs = sc.parallelize(list(SeqIO.parse(filename,'fasta')))\n",
    "        seqs = recs.map(lambda x: ''.join(str(x.seq).split('N')))\n",
    "#         seqs = seqs.map(filter4)#.reduce(lambda a,b: a+b)\n",
    "#         seqs = process_CDS_spark(filename)\n",
    "#         codon_freqs.append(get_condon_freqs_spark(seqs))\n",
    "        print i, shortName\n",
    "    except Exception as e:\n",
    "        print count,'problem with {}'.format(shortName), e\n",
    "        count+=1\n",
    "#         problem_species.append(shortName)"
   ]
  },
  {
   "cell_type": "code",
   "execution_count": 63,
   "metadata": {
    "collapsed": false
   },
   "outputs": [
    {
     "name": "stdout",
     "output_type": "stream",
     "text": [
      "16447\n",
      "11124\n",
      "13393\n",
      "6967\n",
      "13322\n",
      "17708\n",
      "11054\n",
      "12335\n"
     ]
    },
    {
     "ename": "IOError",
     "evalue": "[Errno 2] No such file or directory: '/Users/richard/Desktop/Bioinfo_Research_Place/CDS_cut_Dec21/Picst3/nuc_seq.fna'",
     "output_type": "error",
     "traceback": [
      "\u001b[0;31m---------------------------------------------------------------------------\u001b[0m",
      "\u001b[0;31mIOError\u001b[0m                                   Traceback (most recent call last)",
      "\u001b[0;32m<ipython-input-63-b28ff89d29f1>\u001b[0m in \u001b[0;36m<module>\u001b[0;34m()\u001b[0m\n\u001b[1;32m     17\u001b[0m \u001b[0;32mfor\u001b[0m \u001b[0mi\u001b[0m \u001b[0;32min\u001b[0m \u001b[0mrange\u001b[0m\u001b[0;34m(\u001b[0m\u001b[0;36m16\u001b[0m\u001b[0;34m)\u001b[0m\u001b[0;34m:\u001b[0m\u001b[0;34m\u001b[0m\u001b[0m\n\u001b[1;32m     18\u001b[0m     \u001b[0mfilename\u001b[0m \u001b[0;34m=\u001b[0m \u001b[0;34m\"{}{}/nuc_seq.fna\"\u001b[0m\u001b[0;34m.\u001b[0m\u001b[0mformat\u001b[0m\u001b[0;34m(\u001b[0m\u001b[0mtarget\u001b[0m\u001b[0;34m,\u001b[0m\u001b[0mproblem_speices\u001b[0m\u001b[0;34m[\u001b[0m\u001b[0mi\u001b[0m\u001b[0;34m]\u001b[0m\u001b[0;34m)\u001b[0m\u001b[0;34m\u001b[0m\u001b[0m\n\u001b[0;32m---> 19\u001b[0;31m     \u001b[0mrecs\u001b[0m \u001b[0;34m=\u001b[0m \u001b[0msc\u001b[0m\u001b[0;34m.\u001b[0m\u001b[0mparallelize\u001b[0m\u001b[0;34m(\u001b[0m\u001b[0mlist\u001b[0m\u001b[0;34m(\u001b[0m\u001b[0mSeqIO\u001b[0m\u001b[0;34m.\u001b[0m\u001b[0mparse\u001b[0m\u001b[0;34m(\u001b[0m\u001b[0mfilename\u001b[0m\u001b[0;34m,\u001b[0m\u001b[0;34m'fasta'\u001b[0m\u001b[0;34m)\u001b[0m\u001b[0;34m)\u001b[0m\u001b[0;34m)\u001b[0m\u001b[0;34m\u001b[0m\u001b[0m\n\u001b[0m\u001b[1;32m     20\u001b[0m     \u001b[0mseqs\u001b[0m \u001b[0;34m=\u001b[0m \u001b[0mrecs\u001b[0m\u001b[0;34m.\u001b[0m\u001b[0mmap\u001b[0m\u001b[0;34m(\u001b[0m\u001b[0;32mlambda\u001b[0m \u001b[0mx\u001b[0m\u001b[0;34m:\u001b[0m \u001b[0;34m''\u001b[0m\u001b[0;34m.\u001b[0m\u001b[0mjoin\u001b[0m\u001b[0;34m(\u001b[0m\u001b[0mstr\u001b[0m\u001b[0;34m(\u001b[0m\u001b[0mx\u001b[0m\u001b[0;34m.\u001b[0m\u001b[0mseq\u001b[0m\u001b[0;34m)\u001b[0m\u001b[0;34m.\u001b[0m\u001b[0msplit\u001b[0m\u001b[0;34m(\u001b[0m\u001b[0;34m'N'\u001b[0m\u001b[0;34m)\u001b[0m\u001b[0;34m)\u001b[0m\u001b[0;34m)\u001b[0m\u001b[0;34m\u001b[0m\u001b[0m\n\u001b[1;32m     21\u001b[0m     \u001b[0mseqs\u001b[0m \u001b[0;34m=\u001b[0m \u001b[0mseqs\u001b[0m\u001b[0;34m.\u001b[0m\u001b[0mmap\u001b[0m\u001b[0;34m(\u001b[0m\u001b[0mfilter4\u001b[0m\u001b[0;34m)\u001b[0m\u001b[0;34m.\u001b[0m\u001b[0mreduce\u001b[0m\u001b[0;34m(\u001b[0m\u001b[0;32mlambda\u001b[0m \u001b[0ma\u001b[0m\u001b[0;34m,\u001b[0m\u001b[0mb\u001b[0m\u001b[0;34m:\u001b[0m \u001b[0ma\u001b[0m\u001b[0;34m+\u001b[0m\u001b[0mb\u001b[0m\u001b[0;34m)\u001b[0m\u001b[0;34m\u001b[0m\u001b[0m\n",
      "\u001b[0;32m/Users/richard/anaconda/lib/python2.7/site-packages/Bio/SeqIO/__init__.pyc\u001b[0m in \u001b[0;36mparse\u001b[0;34m(handle, format, alphabet)\u001b[0m\n\u001b[1;32m    581\u001b[0m         \u001b[0;32mraise\u001b[0m \u001b[0mValueError\u001b[0m\u001b[0;34m(\u001b[0m\u001b[0;34m\"Invalid alphabet, %s\"\u001b[0m \u001b[0;34m%\u001b[0m \u001b[0mrepr\u001b[0m\u001b[0;34m(\u001b[0m\u001b[0malphabet\u001b[0m\u001b[0;34m)\u001b[0m\u001b[0;34m)\u001b[0m\u001b[0;34m\u001b[0m\u001b[0m\n\u001b[1;32m    582\u001b[0m \u001b[0;34m\u001b[0m\u001b[0m\n\u001b[0;32m--> 583\u001b[0;31m     \u001b[0;32mwith\u001b[0m \u001b[0mas_handle\u001b[0m\u001b[0;34m(\u001b[0m\u001b[0mhandle\u001b[0m\u001b[0;34m,\u001b[0m \u001b[0mmode\u001b[0m\u001b[0;34m)\u001b[0m \u001b[0;32mas\u001b[0m \u001b[0mfp\u001b[0m\u001b[0;34m:\u001b[0m\u001b[0;34m\u001b[0m\u001b[0m\n\u001b[0m\u001b[1;32m    584\u001b[0m         \u001b[0;31m# Map the file format to a sequence iterator:\u001b[0m\u001b[0;34m\u001b[0m\u001b[0;34m\u001b[0m\u001b[0m\n\u001b[1;32m    585\u001b[0m         \u001b[0;32mif\u001b[0m \u001b[0mformat\u001b[0m \u001b[0;32min\u001b[0m \u001b[0m_FormatToIterator\u001b[0m\u001b[0;34m:\u001b[0m\u001b[0;34m\u001b[0m\u001b[0m\n",
      "\u001b[0;32m/Users/richard/anaconda/lib/python2.7/contextlib.pyc\u001b[0m in \u001b[0;36m__enter__\u001b[0;34m(self)\u001b[0m\n\u001b[1;32m     15\u001b[0m     \u001b[0;32mdef\u001b[0m \u001b[0m__enter__\u001b[0m\u001b[0;34m(\u001b[0m\u001b[0mself\u001b[0m\u001b[0;34m)\u001b[0m\u001b[0;34m:\u001b[0m\u001b[0;34m\u001b[0m\u001b[0m\n\u001b[1;32m     16\u001b[0m         \u001b[0;32mtry\u001b[0m\u001b[0;34m:\u001b[0m\u001b[0;34m\u001b[0m\u001b[0m\n\u001b[0;32m---> 17\u001b[0;31m             \u001b[0;32mreturn\u001b[0m \u001b[0mself\u001b[0m\u001b[0;34m.\u001b[0m\u001b[0mgen\u001b[0m\u001b[0;34m.\u001b[0m\u001b[0mnext\u001b[0m\u001b[0;34m(\u001b[0m\u001b[0;34m)\u001b[0m\u001b[0;34m\u001b[0m\u001b[0m\n\u001b[0m\u001b[1;32m     18\u001b[0m         \u001b[0;32mexcept\u001b[0m \u001b[0mStopIteration\u001b[0m\u001b[0;34m:\u001b[0m\u001b[0;34m\u001b[0m\u001b[0m\n\u001b[1;32m     19\u001b[0m             \u001b[0;32mraise\u001b[0m \u001b[0mRuntimeError\u001b[0m\u001b[0;34m(\u001b[0m\u001b[0;34m\"generator didn't yield\"\u001b[0m\u001b[0;34m)\u001b[0m\u001b[0;34m\u001b[0m\u001b[0m\n",
      "\u001b[0;32m/Users/richard/anaconda/lib/python2.7/site-packages/Bio/File.pyc\u001b[0m in \u001b[0;36mas_handle\u001b[0;34m(handleish, mode, **kwargs)\u001b[0m\n\u001b[1;32m     88\u001b[0m                 \u001b[0;32myield\u001b[0m \u001b[0mfp\u001b[0m\u001b[0;34m\u001b[0m\u001b[0m\n\u001b[1;32m     89\u001b[0m         \u001b[0;32melse\u001b[0m\u001b[0;34m:\u001b[0m\u001b[0;34m\u001b[0m\u001b[0m\n\u001b[0;32m---> 90\u001b[0;31m             \u001b[0;32mwith\u001b[0m \u001b[0mopen\u001b[0m\u001b[0;34m(\u001b[0m\u001b[0mhandleish\u001b[0m\u001b[0;34m,\u001b[0m \u001b[0mmode\u001b[0m\u001b[0;34m,\u001b[0m \u001b[0;34m**\u001b[0m\u001b[0mkwargs\u001b[0m\u001b[0;34m)\u001b[0m \u001b[0;32mas\u001b[0m \u001b[0mfp\u001b[0m\u001b[0;34m:\u001b[0m\u001b[0;34m\u001b[0m\u001b[0m\n\u001b[0m\u001b[1;32m     91\u001b[0m                 \u001b[0;32myield\u001b[0m \u001b[0mfp\u001b[0m\u001b[0;34m\u001b[0m\u001b[0m\n\u001b[1;32m     92\u001b[0m     \u001b[0;32melse\u001b[0m\u001b[0;34m:\u001b[0m\u001b[0;34m\u001b[0m\u001b[0m\n",
      "\u001b[0;31mIOError\u001b[0m: [Errno 2] No such file or directory: '/Users/richard/Desktop/Bioinfo_Research_Place/CDS_cut_Dec21/Picst3/nuc_seq.fna'"
     ]
    }
   ],
   "source": [
    "problem_speices = ['Botci1',\n",
    " 'Chagl_1',\n",
    " 'Copci1',\n",
    " 'Cryne_H99_1',\n",
    " 'Fusgr1',\n",
    " 'Fusox1',\n",
    " 'Maggr1',\n",
    " 'Magpo1',\n",
    " 'Picst3',\n",
    " 'Pospl1',\n",
    " 'Pucgr1',\n",
    " 'Pyrtr1',\n",
    " 'Sclsc1',\n",
    " 'Sporo1',\n",
    " 'Trire2',\n",
    " 'Ustma1']\n",
    "for i in range(16):\n",
    "    filename = \"{}{}/nuc_seq.fna\".format(target,problem_speices[i])\n",
    "    recs = sc.parallelize(list(SeqIO.parse(filename,'fasta')))\n",
    "    seqs = recs.map(lambda x: ''.join(str(x.seq).split('N')))\n",
    "    seqs = seqs.map(filter4).reduce(lambda a,b: a+b)\n",
    "    print seqs"
   ]
  },
  {
   "cell_type": "code",
   "execution_count": 62,
   "metadata": {
    "collapsed": false
   },
   "outputs": [
    {
     "data": {
      "text/plain": [
       "16447"
      ]
     },
     "execution_count": 62,
     "metadata": {},
     "output_type": "execute_result"
    }
   ],
   "source": [
    "seqs"
   ]
  },
  {
   "cell_type": "code",
   "execution_count": null,
   "metadata": {
    "collapsed": true
   },
   "outputs": [],
   "source": []
  },
  {
   "cell_type": "code",
   "execution_count": 41,
   "metadata": {
    "collapsed": false
   },
   "outputs": [],
   "source": [
    "test = seqs.take(1)[0]"
   ]
  },
  {
   "cell_type": "code",
   "execution_count": 50,
   "metadata": {
    "collapsed": false
   },
   "outputs": [
    {
     "data": {
      "text/plain": [
       "False"
      ]
     },
     "execution_count": 50,
     "metadata": {},
     "output_type": "execute_result"
    }
   ],
   "source": [
    "filter1(test)\n",
    "filter2(test)\n",
    "filter3(test)\n",
    "# filter4(test)"
   ]
  },
  {
   "cell_type": "code",
   "execution_count": 36,
   "metadata": {
    "collapsed": false
   },
   "outputs": [
    {
     "ename": "LinAlgError",
     "evalue": "SVD did not converge in Linear Least Squares",
     "output_type": "error",
     "traceback": [
      "\u001b[0;31m---------------------------------------------------------------------------\u001b[0m",
      "\u001b[0;31mLinAlgError\u001b[0m                               Traceback (most recent call last)",
      "\u001b[0;32m<ipython-input-36-1d1630beccba>\u001b[0m in \u001b[0;36m<module>\u001b[0;34m()\u001b[0m\n\u001b[0;32m----> 1\u001b[0;31m \u001b[0mregression_models\u001b[0m \u001b[0;34m=\u001b[0m \u001b[0;34m[\u001b[0m\u001b[0mnp\u001b[0m\u001b[0;34m.\u001b[0m\u001b[0mpoly1d\u001b[0m\u001b[0;34m(\u001b[0m\u001b[0mnp\u001b[0m\u001b[0;34m.\u001b[0m\u001b[0mpolyfit\u001b[0m\u001b[0;34m(\u001b[0m\u001b[0mlist\u001b[0m\u001b[0;34m(\u001b[0m\u001b[0mcondon_freq_table\u001b[0m\u001b[0;34m.\u001b[0m\u001b[0mgc\u001b[0m\u001b[0;34m)\u001b[0m\u001b[0;34m,\u001b[0m \u001b[0mlist\u001b[0m\u001b[0;34m(\u001b[0m\u001b[0mcondon_freq_table\u001b[0m\u001b[0;34m[\u001b[0m\u001b[0mcodon\u001b[0m\u001b[0;34m]\u001b[0m\u001b[0;34m)\u001b[0m\u001b[0;34m,\u001b[0m \u001b[0;36m3\u001b[0m\u001b[0;34m)\u001b[0m\u001b[0;34m)\u001b[0m \u001b[0;32mfor\u001b[0m \u001b[0mcodon\u001b[0m \u001b[0;32min\u001b[0m \u001b[0mCODONS\u001b[0m\u001b[0;34m]\u001b[0m\u001b[0;34m\u001b[0m\u001b[0m\n\u001b[0m",
      "\u001b[0;32m/Users/richard/anaconda/lib/python2.7/site-packages/numpy/lib/polynomial.pyc\u001b[0m in \u001b[0;36mpolyfit\u001b[0;34m(x, y, deg, rcond, full, w, cov)\u001b[0m\n\u001b[1;32m    586\u001b[0m     \u001b[0mscale\u001b[0m \u001b[0;34m=\u001b[0m \u001b[0mNX\u001b[0m\u001b[0;34m.\u001b[0m\u001b[0msqrt\u001b[0m\u001b[0;34m(\u001b[0m\u001b[0;34m(\u001b[0m\u001b[0mlhs\u001b[0m\u001b[0;34m*\u001b[0m\u001b[0mlhs\u001b[0m\u001b[0;34m)\u001b[0m\u001b[0;34m.\u001b[0m\u001b[0msum\u001b[0m\u001b[0;34m(\u001b[0m\u001b[0maxis\u001b[0m\u001b[0;34m=\u001b[0m\u001b[0;36m0\u001b[0m\u001b[0;34m)\u001b[0m\u001b[0;34m)\u001b[0m\u001b[0;34m\u001b[0m\u001b[0m\n\u001b[1;32m    587\u001b[0m     \u001b[0mlhs\u001b[0m \u001b[0;34m/=\u001b[0m \u001b[0mscale\u001b[0m\u001b[0;34m\u001b[0m\u001b[0m\n\u001b[0;32m--> 588\u001b[0;31m     \u001b[0mc\u001b[0m\u001b[0;34m,\u001b[0m \u001b[0mresids\u001b[0m\u001b[0;34m,\u001b[0m \u001b[0mrank\u001b[0m\u001b[0;34m,\u001b[0m \u001b[0ms\u001b[0m \u001b[0;34m=\u001b[0m \u001b[0mlstsq\u001b[0m\u001b[0;34m(\u001b[0m\u001b[0mlhs\u001b[0m\u001b[0;34m,\u001b[0m \u001b[0mrhs\u001b[0m\u001b[0;34m,\u001b[0m \u001b[0mrcond\u001b[0m\u001b[0;34m)\u001b[0m\u001b[0;34m\u001b[0m\u001b[0m\n\u001b[0m\u001b[1;32m    589\u001b[0m     \u001b[0mc\u001b[0m \u001b[0;34m=\u001b[0m \u001b[0;34m(\u001b[0m\u001b[0mc\u001b[0m\u001b[0;34m.\u001b[0m\u001b[0mT\u001b[0m\u001b[0;34m/\u001b[0m\u001b[0mscale\u001b[0m\u001b[0;34m)\u001b[0m\u001b[0;34m.\u001b[0m\u001b[0mT\u001b[0m  \u001b[0;31m# broadcast scale coefficients\u001b[0m\u001b[0;34m\u001b[0m\u001b[0m\n\u001b[1;32m    590\u001b[0m \u001b[0;34m\u001b[0m\u001b[0m\n",
      "\u001b[0;32m/Users/richard/anaconda/lib/python2.7/site-packages/numpy/linalg/linalg.pyc\u001b[0m in \u001b[0;36mlstsq\u001b[0;34m(a, b, rcond)\u001b[0m\n\u001b[1;32m   1919\u001b[0m                                  0, work, lwork, iwork, 0)\n\u001b[1;32m   1920\u001b[0m     \u001b[0;32mif\u001b[0m \u001b[0mresults\u001b[0m\u001b[0;34m[\u001b[0m\u001b[0;34m'info'\u001b[0m\u001b[0;34m]\u001b[0m \u001b[0;34m>\u001b[0m \u001b[0;36m0\u001b[0m\u001b[0;34m:\u001b[0m\u001b[0;34m\u001b[0m\u001b[0m\n\u001b[0;32m-> 1921\u001b[0;31m         \u001b[0;32mraise\u001b[0m \u001b[0mLinAlgError\u001b[0m\u001b[0;34m(\u001b[0m\u001b[0;34m'SVD did not converge in Linear Least Squares'\u001b[0m\u001b[0;34m)\u001b[0m\u001b[0;34m\u001b[0m\u001b[0m\n\u001b[0m\u001b[1;32m   1922\u001b[0m     \u001b[0mresids\u001b[0m \u001b[0;34m=\u001b[0m \u001b[0marray\u001b[0m\u001b[0;34m(\u001b[0m\u001b[0;34m[\u001b[0m\u001b[0;34m]\u001b[0m\u001b[0;34m,\u001b[0m \u001b[0mresult_real_t\u001b[0m\u001b[0;34m)\u001b[0m\u001b[0;34m\u001b[0m\u001b[0m\n\u001b[1;32m   1923\u001b[0m     \u001b[0;32mif\u001b[0m \u001b[0mis_1d\u001b[0m\u001b[0;34m:\u001b[0m\u001b[0;34m\u001b[0m\u001b[0m\n",
      "\u001b[0;31mLinAlgError\u001b[0m: SVD did not converge in Linear Least Squares"
     ]
    }
   ],
   "source": [
    "regression_models = [np.poly1d(np.polyfit(list(condon_freq_table.gc), list(condon_freq_table[codon]), 3)) for codon in CODONS]"
   ]
  },
  {
   "cell_type": "code",
   "execution_count": 38,
   "metadata": {
    "collapsed": true
   },
   "outputs": [],
   "source": [
    "x= list(condon_freq_table.gc)\n",
    "y = list(condon_freq_table[codon])"
   ]
  },
  {
   "cell_type": "code",
   "execution_count": 35,
   "metadata": {
    "collapsed": false
   },
   "outputs": [
    {
     "name": "stdout",
     "output_type": "stream",
     "text": [
      "AAT\n"
     ]
    },
    {
     "ename": "LinAlgError",
     "evalue": "SVD did not converge in Linear Least Squares",
     "output_type": "error",
     "traceback": [
      "\u001b[0;31m---------------------------------------------------------------------------\u001b[0m",
      "\u001b[0;31mLinAlgError\u001b[0m                               Traceback (most recent call last)",
      "\u001b[0;32m<ipython-input-35-7d316f5ea355>\u001b[0m in \u001b[0;36m<module>\u001b[0;34m()\u001b[0m\n\u001b[1;32m      1\u001b[0m \u001b[0;32mfor\u001b[0m \u001b[0mcodon\u001b[0m \u001b[0;32min\u001b[0m \u001b[0mCODONS\u001b[0m\u001b[0;34m[\u001b[0m\u001b[0;36m1\u001b[0m\u001b[0;34m:\u001b[0m\u001b[0;34m]\u001b[0m\u001b[0;34m:\u001b[0m\u001b[0;34m\u001b[0m\u001b[0m\n\u001b[1;32m      2\u001b[0m     \u001b[0;32mprint\u001b[0m \u001b[0mcodon\u001b[0m\u001b[0;34m\u001b[0m\u001b[0m\n\u001b[0;32m----> 3\u001b[0;31m     \u001b[0mnp\u001b[0m\u001b[0;34m.\u001b[0m\u001b[0mpolyfit\u001b[0m\u001b[0;34m(\u001b[0m\u001b[0mcondon_freq_table\u001b[0m\u001b[0;34m.\u001b[0m\u001b[0mgc\u001b[0m\u001b[0;34m,\u001b[0m \u001b[0mcondon_freq_table\u001b[0m\u001b[0;34m[\u001b[0m\u001b[0mcodon\u001b[0m\u001b[0;34m]\u001b[0m\u001b[0;34m,\u001b[0m \u001b[0;36m3\u001b[0m\u001b[0;34m)\u001b[0m\u001b[0;34m\u001b[0m\u001b[0m\n\u001b[0m",
      "\u001b[0;32m/Users/richard/anaconda/lib/python2.7/site-packages/numpy/lib/polynomial.pyc\u001b[0m in \u001b[0;36mpolyfit\u001b[0;34m(x, y, deg, rcond, full, w, cov)\u001b[0m\n\u001b[1;32m    586\u001b[0m     \u001b[0mscale\u001b[0m \u001b[0;34m=\u001b[0m \u001b[0mNX\u001b[0m\u001b[0;34m.\u001b[0m\u001b[0msqrt\u001b[0m\u001b[0;34m(\u001b[0m\u001b[0;34m(\u001b[0m\u001b[0mlhs\u001b[0m\u001b[0;34m*\u001b[0m\u001b[0mlhs\u001b[0m\u001b[0;34m)\u001b[0m\u001b[0;34m.\u001b[0m\u001b[0msum\u001b[0m\u001b[0;34m(\u001b[0m\u001b[0maxis\u001b[0m\u001b[0;34m=\u001b[0m\u001b[0;36m0\u001b[0m\u001b[0;34m)\u001b[0m\u001b[0;34m)\u001b[0m\u001b[0;34m\u001b[0m\u001b[0m\n\u001b[1;32m    587\u001b[0m     \u001b[0mlhs\u001b[0m \u001b[0;34m/=\u001b[0m \u001b[0mscale\u001b[0m\u001b[0;34m\u001b[0m\u001b[0m\n\u001b[0;32m--> 588\u001b[0;31m     \u001b[0mc\u001b[0m\u001b[0;34m,\u001b[0m \u001b[0mresids\u001b[0m\u001b[0;34m,\u001b[0m \u001b[0mrank\u001b[0m\u001b[0;34m,\u001b[0m \u001b[0ms\u001b[0m \u001b[0;34m=\u001b[0m \u001b[0mlstsq\u001b[0m\u001b[0;34m(\u001b[0m\u001b[0mlhs\u001b[0m\u001b[0;34m,\u001b[0m \u001b[0mrhs\u001b[0m\u001b[0;34m,\u001b[0m \u001b[0mrcond\u001b[0m\u001b[0;34m)\u001b[0m\u001b[0;34m\u001b[0m\u001b[0m\n\u001b[0m\u001b[1;32m    589\u001b[0m     \u001b[0mc\u001b[0m \u001b[0;34m=\u001b[0m \u001b[0;34m(\u001b[0m\u001b[0mc\u001b[0m\u001b[0;34m.\u001b[0m\u001b[0mT\u001b[0m\u001b[0;34m/\u001b[0m\u001b[0mscale\u001b[0m\u001b[0;34m)\u001b[0m\u001b[0;34m.\u001b[0m\u001b[0mT\u001b[0m  \u001b[0;31m# broadcast scale coefficients\u001b[0m\u001b[0;34m\u001b[0m\u001b[0m\n\u001b[1;32m    590\u001b[0m \u001b[0;34m\u001b[0m\u001b[0m\n",
      "\u001b[0;32m/Users/richard/anaconda/lib/python2.7/site-packages/numpy/linalg/linalg.pyc\u001b[0m in \u001b[0;36mlstsq\u001b[0;34m(a, b, rcond)\u001b[0m\n\u001b[1;32m   1919\u001b[0m                                  0, work, lwork, iwork, 0)\n\u001b[1;32m   1920\u001b[0m     \u001b[0;32mif\u001b[0m \u001b[0mresults\u001b[0m\u001b[0;34m[\u001b[0m\u001b[0;34m'info'\u001b[0m\u001b[0;34m]\u001b[0m \u001b[0;34m>\u001b[0m \u001b[0;36m0\u001b[0m\u001b[0;34m:\u001b[0m\u001b[0;34m\u001b[0m\u001b[0m\n\u001b[0;32m-> 1921\u001b[0;31m         \u001b[0;32mraise\u001b[0m \u001b[0mLinAlgError\u001b[0m\u001b[0;34m(\u001b[0m\u001b[0;34m'SVD did not converge in Linear Least Squares'\u001b[0m\u001b[0;34m)\u001b[0m\u001b[0;34m\u001b[0m\u001b[0m\n\u001b[0m\u001b[1;32m   1922\u001b[0m     \u001b[0mresids\u001b[0m \u001b[0;34m=\u001b[0m \u001b[0marray\u001b[0m\u001b[0;34m(\u001b[0m\u001b[0;34m[\u001b[0m\u001b[0;34m]\u001b[0m\u001b[0;34m,\u001b[0m \u001b[0mresult_real_t\u001b[0m\u001b[0;34m)\u001b[0m\u001b[0;34m\u001b[0m\u001b[0m\n\u001b[1;32m   1923\u001b[0m     \u001b[0;32mif\u001b[0m \u001b[0mis_1d\u001b[0m\u001b[0;34m:\u001b[0m\u001b[0;34m\u001b[0m\u001b[0m\n",
      "\u001b[0;31mLinAlgError\u001b[0m: SVD did not converge in Linear Least Squares"
     ]
    }
   ],
   "source": [
    "for codon in CODONS[1:]:\n",
    "    print codon\n",
    "    np.polyfit(condon_freq_table.gc, condon_freq_table[codon], 3)"
   ]
  },
  {
   "cell_type": "code",
   "execution_count": null,
   "metadata": {
    "collapsed": true
   },
   "outputs": [],
   "source": [
    "codon_freqs = [] #container for gc, condon freq pairs\n",
    "problem_species = []\n",
    "start = time.time()\n",
    "for i,shortName in enumerate(info.index[423:]):\n",
    "    try:\n",
    "        filename = \"{}{}/nuc_seq.fna\".format(target,shortName)\n",
    "        seqs = process_CDS_spark(filename)\n",
    "        codon_freqs.append(get_condon_freqs_spark(seqs))\n",
    "        print i, shortName, 'time spent so far:', time.time()-start \n",
    "    except:\n",
    "        print 'problem with {}'.format(shortName)\n",
    "        problem_species.append(shortName)"
   ]
  },
  {
   "cell_type": "code",
   "execution_count": null,
   "metadata": {
    "collapsed": false
   },
   "outputs": [],
   "source": [
    "filename = \"{}{}/nuc_seq.fna\".format(target,info.index[423])\n",
    "seqs = process_CDS_spark(filename)"
   ]
  },
  {
   "cell_type": "code",
   "execution_count": null,
   "metadata": {
    "collapsed": false
   },
   "outputs": [],
   "source": [
    "CDSs = (sc.parallelize(CDS_shortNames[:10])\n",
    "        .map(lambda name: (info.gc[name], target+name+'/'+CDS_number[name][0][:-3]))\n",
    "        .map(lambda (gc, filename): (gc, list(SeqIO.parse(filename, 'fasta')))).collect())"
   ]
  },
  {
   "cell_type": "code",
   "execution_count": null,
   "metadata": {
    "collapsed": false
   },
   "outputs": [],
   "source": [
    "test = list(SeqIO.parse('/storage3/w/richard/meta2016/CDS_cut/Aaoar1/nuc_seq.fna','fasta'))"
   ]
  },
  {
   "cell_type": "code",
   "execution_count": null,
   "metadata": {
    "collapsed": false
   },
   "outputs": [],
   "source": [
    "test1 = test[0].seq"
   ]
  },
  {
   "cell_type": "code",
   "execution_count": null,
   "metadata": {
    "collapsed": false
   },
   "outputs": [],
   "source": [
    "str(test1)"
   ]
  },
  {
   "cell_type": "code",
   "execution_count": null,
   "metadata": {
    "collapsed": false
   },
   "outputs": [],
   "source": [
    "test1[-3:] == 'TAG'"
   ]
  },
  {
   "cell_type": "code",
   "execution_count": null,
   "metadata": {
    "collapsed": false
   },
   "outputs": [],
   "source": [
    "test1.upper()"
   ]
  },
  {
   "cell_type": "code",
   "execution_count": null,
   "metadata": {
    "collapsed": false
   },
   "outputs": [],
   "source": [
    "for i in range(0,len(test1),3):\n",
    "    print test1[i:i+3]"
   ]
  }
 ],
 "metadata": {
  "kernelspec": {
   "display_name": "Python 2",
   "language": "python",
   "name": "python2"
  },
  "language_info": {
   "codemirror_mode": {
    "name": "ipython",
    "version": 2
   },
   "file_extension": ".py",
   "mimetype": "text/x-python",
   "name": "python",
   "nbconvert_exporter": "python",
   "pygments_lexer": "ipython2",
   "version": "2.7.10"
  }
 },
 "nbformat": 4,
 "nbformat_minor": 0
}
