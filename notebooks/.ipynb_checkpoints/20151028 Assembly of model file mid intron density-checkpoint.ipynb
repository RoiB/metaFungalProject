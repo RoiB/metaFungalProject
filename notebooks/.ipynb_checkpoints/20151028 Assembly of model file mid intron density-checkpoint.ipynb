{
 "cells": [
  {
   "cell_type": "code",
   "execution_count": 49,
   "metadata": {
    "collapsed": true
   },
   "outputs": [],
   "source": [
    "import subprocess\n",
    "import pandas as pd\n",
    "import numpy as np\n",
    "import re\n",
    "import itertools"
   ]
  },
  {
   "cell_type": "markdown",
   "metadata": {},
   "source": [
    "# Part I, add GC related parameters"
   ]
  },
  {
   "cell_type": "markdown",
   "metadata": {},
   "source": [
    "####Step 0, create gc 30-60 model file with uniform base model"
   ]
  },
  {
   "cell_type": "code",
   "execution_count": 50,
   "metadata": {
    "collapsed": false
   },
   "outputs": [],
   "source": [
    "baseModel = '/home/richard/research/tests/Oct29AssembleModel/models/baseModelV1.txt'\n",
    "modelSetPath = '/home/richard/research/tests/Oct29AssembleModel/modelSet/'\n",
    "\n",
    "for i in range(30,61):\n",
    "    command = 'cp {} {}MetaFungal_model_{}.txt\\n'.format(baseModel, modelSetPath, i)\n",
    "#     print command\n",
    "    subprocess.check_call(command,shell = True)"
   ]
  },
  {
   "cell_type": "code",
   "execution_count": 51,
   "metadata": {
    "collapsed": true
   },
   "outputs": [],
   "source": [
    "filePattern = 'MetaFungal_model_{}.txt'"
   ]
  },
  {
   "cell_type": "markdown",
   "metadata": {},
   "source": [
    "#### Step 1, add markov matrix"
   ]
  },
  {
   "cell_type": "code",
   "execution_count": 52,
   "metadata": {
    "collapsed": false,
    "scrolled": false
   },
   "outputs": [],
   "source": [
    "## prepare gc_matrixTable pair\n",
    "\n",
    "letters = map(lambda x: ''.join(x), list(itertools.product('ACGT','ACGT','ACGT')))\n",
    "\n",
    "with open('/home/richard/research/tests/Oct29AssembleModel/partsForModel/EukMGM.mod') as f: EukMGMtext = f.read()\n",
    "splitedEukMGMtext = EukMGMtext.split('__GC')\n",
    "\n",
    "markov_gc_table_pair = {}\n",
    "for item in splitedEukMGMtext[10:-10]:\n",
    "    \n",
    "    gc = int(item.split()[0])\n",
    "    \n",
    "    #deal with coding matrix\n",
    "    coding_mat = item.split('COD1')[1].split('NONC')[0].split()\n",
    "    coding_mat = map(float, coding_mat)\n",
    "    assert len(filter(lambda x: x<0, coding_mat)) == 0 ## check positive\n",
    "    \n",
    "    coding_mat = np.array(coding_mat).reshape(len(coding_mat)/3, 3)\n",
    "    table = pd.DataFrame(coding_mat)\n",
    "    \n",
    "    #deal with non coding matrix\n",
    "    non_coding_mat = map(float,item.split('NONC')[1].split('COD2')[0].split())\n",
    "    assert len(filter(lambda x: x<0, non_coding_mat)) == 0\n",
    "    table['3'] = non_coding_mat\n",
    "    table['4'] = non_coding_mat\n",
    "    \n",
    "    #complete table and make it as a string to substitue\n",
    "    table.index = letters\n",
    "    table_string = table.to_string(header = None)\n",
    "    \n",
    "    markov_gc_table_pair[gc] = table_string"
   ]
  },
  {
   "cell_type": "code",
   "execution_count": 53,
   "metadata": {
    "collapsed": false,
    "scrolled": false
   },
   "outputs": [],
   "source": [
    "## substitute table into model file\n",
    "markov_line = ''\n",
    "for gc in range(30,61):\n",
    "    filename = filePattern.format(gc)\n",
    "    \n",
    "    ## locate position\n",
    "    with open(modelSetPath+filename) as f:\n",
    "        for line in f:\n",
    "            if '##MARKOV##' in line:\n",
    "                markov_line = line\n",
    "                \n",
    "    with open(modelSetPath+filename) as f:\n",
    "        text = f.read()\n",
    "        param = '$MARKOV\\n'\n",
    "        text_sub = re.sub(markov_line, param+markov_gc_table_pair[gc]+'\\n', text)\n",
    "    \n",
    "    with open(modelSetPath+filename,'w') as f:\n",
    "        f.write(text_sub)"
   ]
  },
  {
   "cell_type": "markdown",
   "metadata": {},
   "source": [
    "#### Step 2, add donor"
   ]
  },
  {
   "cell_type": "code",
   "execution_count": 54,
   "metadata": {
    "collapsed": false
   },
   "outputs": [],
   "source": [
    "## prepare gc_matrixTable_pair\n",
    "donorMatrixLocation = '/home/richard/research/tests/Oct29AssembleModel/partsForModel/trend_donor/'\n",
    "donor_gc_table_pair = {}\n",
    "for gc in range(30,61):\n",
    "    table = pd.read_csv('{}gc{}.mat'.format(donorMatrixLocation,gc), dtype=np.float, header = None)\n",
    "    table.index = [l for l in 'TCAG']\n",
    "    table = table.applymap(lambda x: max(x,0))\n",
    "    donor_gc_table_pair[gc] = table.to_string(header = None)"
   ]
  },
  {
   "cell_type": "code",
   "execution_count": 55,
   "metadata": {
    "collapsed": true
   },
   "outputs": [],
   "source": [
    "## substitute table into model file\n",
    "donor_line = ''\n",
    "for gc in range(30,61):\n",
    "    filename = filePattern.format(gc)\n",
    "    \n",
    "    for i in range(3):\n",
    "        ## locate position\n",
    "        with open(modelSetPath+filename) as f:\n",
    "            for line in f:\n",
    "                if '##DONOR_{}_MAT##'.format(i) in line:\n",
    "                    donor_line = line\n",
    "\n",
    "        with open(modelSetPath+filename) as f:\n",
    "            text = f.read()\n",
    "            param = '$DONOR_{}_MAT\\n'.format(i)\n",
    "            text_sub = re.sub(donor_line, param+donor_gc_table_pair[gc]+'\\n', text)\n",
    "            \n",
    "        with open(modelSetPath+filename,'w') as f:\n",
    "            f.write(text_sub)"
   ]
  },
  {
   "cell_type": "markdown",
   "metadata": {},
   "source": [
    "#### Step 3, add long acceptor"
   ]
  },
  {
   "cell_type": "code",
   "execution_count": 56,
   "metadata": {
    "collapsed": true
   },
   "outputs": [],
   "source": [
    "## prepare gc_matrixTable_pair\n",
    "acceptorMatrixLocation = '/home/richard/research/tests/Oct29AssembleModel/partsForModel/trend_acceptor_long/'\n",
    "acceptor_gc_table_pair = {}\n",
    "for gc in range(30,61):\n",
    "    table = pd.read_csv('{}gc{}.mat'.format(acceptorMatrixLocation,gc), dtype=np.float, header = None)\n",
    "    table.index = [l for l in 'TCAG']\n",
    "    table = table.applymap(lambda x: max(x,0))\n",
    "    acceptor_gc_table_pair[gc] = table.to_string(header = None)"
   ]
  },
  {
   "cell_type": "code",
   "execution_count": 57,
   "metadata": {
    "collapsed": true
   },
   "outputs": [],
   "source": [
    "## substitute table into model file\n",
    "acceptor_line = ''\n",
    "for gc in range(30,61):\n",
    "    filename = filePattern.format(gc)\n",
    "    \n",
    "    for i in range(3):\n",
    "        ## locate position\n",
    "        with open(modelSetPath+filename) as f:\n",
    "            for line in f:\n",
    "                if '##ACCEPTOR_{}_MAT##'.format(i) in line:\n",
    "                    acceptor_line = line\n",
    "\n",
    "        with open(modelSetPath+filename) as f:\n",
    "            text = f.read()\n",
    "            param = '$ACCEPTOR_{}_MAT\\n'.format(i)\n",
    "            text_sub = re.sub(acceptor_line, param+acceptor_gc_table_pair[gc]+'\\n', text)\n",
    "            \n",
    "        with open(modelSetPath+filename,'w') as f:\n",
    "            f.write(text_sub)"
   ]
  },
  {
   "cell_type": "markdown",
   "metadata": {},
   "source": [
    "#### Step 4, add short acceptor"
   ]
  },
  {
   "cell_type": "code",
   "execution_count": 58,
   "metadata": {
    "collapsed": false
   },
   "outputs": [],
   "source": [
    "## prepare gc_matrixTable_pair\n",
    "shortAcceptorMatrixLocation = '/home/richard/research/tests/Oct29AssembleModel/partsForModel/trend_acceptor/'\n",
    "shortAcceptor_gc_table_pair = {}\n",
    "for gc in range(30,61):\n",
    "    table = pd.read_csv('{}gc{}.mat'.format(shortAcceptorMatrixLocation,gc), dtype=np.float, header = None)\n",
    "    table.index = [l for l in 'TCAG']\n",
    "    table = table.applymap(lambda x: max(x,0))\n",
    "    shortAcceptor_gc_table_pair[gc] = table.to_string(header = None)"
   ]
  },
  {
   "cell_type": "code",
   "execution_count": 59,
   "metadata": {
    "collapsed": false
   },
   "outputs": [],
   "source": [
    "## substitute table into model file\n",
    "shortAcceptor_line = ''\n",
    "for gc in range(30,61):\n",
    "    filename = filePattern.format(gc)\n",
    "    \n",
    "    for i in range(3):\n",
    "        ## locate position\n",
    "        with open(modelSetPath+filename) as f:\n",
    "            for line in f:\n",
    "                if '##ACC_BP_{}_MAT##'.format(i) in line:\n",
    "                    shortAcceptor_line = line\n",
    "\n",
    "        with open(modelSetPath+filename) as f:\n",
    "            text = f.read()\n",
    "            param = '$ACC_BP_{}_MAT\\n'.format(i)\n",
    "            text_sub = re.sub(shortAcceptor_line, param+shortAcceptor_gc_table_pair[gc]+'\\n', text)\n",
    "            \n",
    "        with open(modelSetPath+filename,'w') as f:\n",
    "            f.write(text_sub)"
   ]
  },
  {
   "cell_type": "markdown",
   "metadata": {},
   "source": [
    "#### Step 5, add branch point"
   ]
  },
  {
   "cell_type": "code",
   "execution_count": 60,
   "metadata": {
    "collapsed": true
   },
   "outputs": [],
   "source": [
    "## prepare gc_matrixTable_pair\n",
    "bpMatrixLocation = '/home/richard/research/tests/Oct29AssembleModel/partsForModel/trend_bp/'\n",
    "bp_gc_table_pair = {}\n",
    "for gc in range(30,61):\n",
    "    table = pd.read_csv('{}gc{}.mat'.format(bpMatrixLocation,gc), dtype=np.float, header = None)\n",
    "    table.index = [l for l in 'TCAG']\n",
    "    table = table.applymap(lambda x: max(x,0))\n",
    "    bp_gc_table_pair[gc] = table.to_string(header = None)"
   ]
  },
  {
   "cell_type": "code",
   "execution_count": 61,
   "metadata": {
    "collapsed": true
   },
   "outputs": [],
   "source": [
    "## substitute table into model file\n",
    "bp_line = ''\n",
    "for gc in range(30,61):\n",
    "    filename = filePattern.format(gc)\n",
    "    \n",
    "    ## locate position\n",
    "    with open(modelSetPath+filename) as f:\n",
    "        for line in f:\n",
    "            if '##BRANCH_MAT##' in line:\n",
    "                bp_line = line\n",
    "                \n",
    "    with open(modelSetPath+filename) as f:\n",
    "        text = f.read()\n",
    "        param = '$BRANCH_MAT\\n'\n",
    "        text_sub = re.sub(bp_line, param+bp_gc_table_pair[gc]+'\\n', text)\n",
    "    \n",
    "    with open(modelSetPath+filename,'w') as f:\n",
    "        f.write(text_sub)"
   ]
  },
  {
   "cell_type": "markdown",
   "metadata": {},
   "source": [
    "#### Step 6, add spacer emission probability"
   ]
  },
  {
   "cell_type": "code",
   "execution_count": 62,
   "metadata": {
    "collapsed": false
   },
   "outputs": [],
   "source": [
    "## prepare gc_matrixTable_pair\n",
    "spacerMatrixLocation = '/home/richard/research/tests/Oct29AssembleModel/partsForModel/spacer_emission/'\n",
    "spacer_gc_table_pair = {}\n",
    "for gc in range(30,61):\n",
    "    table = (pd.read_csv('{}spacer_emission_{}.txt'.format(spacerMatrixLocation,gc), \n",
    "                         header = None, sep = ' ', skiprows=1))\n",
    "    table = table.applymap(lambda x: max(x,0))\n",
    "    table[0] = map(lambda x: x.lstrip(), table[0])\n",
    "    table.index = table[0]\n",
    "    spacer_gc_table_pair[gc] = table.iloc[:,1].to_string(header = None)"
   ]
  },
  {
   "cell_type": "code",
   "execution_count": 63,
   "metadata": {
    "collapsed": false
   },
   "outputs": [],
   "source": [
    "## substitute table into model file\n",
    "spacer_line = ''\n",
    "for gc in range(30,61):\n",
    "    filename = filePattern.format(gc)\n",
    "    \n",
    "    ## locate position\n",
    "    with open(modelSetPath+filename) as f:\n",
    "        for line in f:\n",
    "            if '##MARKOV_BP_SPACER##' in line:\n",
    "                spacer_line = line\n",
    "                \n",
    "    with open(modelSetPath+filename) as f:\n",
    "        text = f.read()\n",
    "        param = '$MARKOV_BP_SPACER\\n'\n",
    "        text_sub = re.sub(spacer_line, param+spacer_gc_table_pair[gc]+'\\n', text)\n",
    "    \n",
    "    with open(modelSetPath+filename,'w') as f:\n",
    "        f.write(text_sub)"
   ]
  },
  {
   "cell_type": "markdown",
   "metadata": {},
   "source": [
    "#### Step 7, add start "
   ]
  },
  {
   "cell_type": "code",
   "execution_count": 67,
   "metadata": {
    "collapsed": false
   },
   "outputs": [],
   "source": [
    "## prepare gc_matrixTable_pair\n",
    "startMatrixLocation = '/home/richard/research/tests/Oct29AssembleModel/partsForModel/trend_start/'\n",
    "start_gc_table_pair = {}\n",
    "for gc in range(30,61):\n",
    "    table = pd.read_csv('{}gc{}_start.mat'.format(startMatrixLocation,gc), dtype=np.float, header = None)\n",
    "    table.index = [l for l in 'TCAG']\n",
    "    table = table.applymap(lambda x: max(x,0))\n",
    "    start_gc_table_pair[gc] = table.to_string(header = None)"
   ]
  },
  {
   "cell_type": "code",
   "execution_count": 68,
   "metadata": {
    "collapsed": true
   },
   "outputs": [],
   "source": [
    "## substitute table into model file\n",
    "start_line = ''\n",
    "for gc in range(30,61):\n",
    "    filename = filePattern.format(gc)\n",
    "    \n",
    "    for i in range(3):\n",
    "        ## locate position\n",
    "        with open(modelSetPath+filename) as f:\n",
    "            for line in f:\n",
    "                if '##INI_MAT##'.format(i) in line:\n",
    "                    start_line = line\n",
    "\n",
    "        with open(modelSetPath+filename) as f:\n",
    "            text = f.read()\n",
    "            param = '$INI_MAT\\n'.format(i)\n",
    "            text_sub = re.sub(start_line, param+start_gc_table_pair[gc]+'\\n', text)\n",
    "            \n",
    "        with open(modelSetPath+filename,'w') as f:\n",
    "            f.write(text_sub)"
   ]
  },
  {
   "cell_type": "markdown",
   "metadata": {},
   "source": [
    "# Part II, add GC and intron density related parameters"
   ]
  },
  {
   "cell_type": "markdown",
   "metadata": {},
   "source": [
    "### I, low intron density"
   ]
  },
  {
   "cell_type": "code",
   "execution_count": 80,
   "metadata": {
    "collapsed": true
   },
   "outputs": [],
   "source": [
    "filePattern = 'MetaFungal_model_{}_low.txt'\n",
    "modelSetPathLow = '/home/richard/research/tests/Oct29AssembleModel/modelSetLow/'\n",
    "targetLow = '/home/richard/research/tests/Oct29AssembleModel/partsForModel/length_distributions/low/'"
   ]
  },
  {
   "cell_type": "code",
   "execution_count": 78,
   "metadata": {
    "collapsed": false
   },
   "outputs": [],
   "source": [
    "# prepare new set of parameters\n",
    "for i in range(30,61):\n",
    "    command = 'cp {}MetaFungal_model_{}.txt {}MetaFungal_model_{}_low.txt\\n'.format(modelSetPath, i, modelSetPathLow, i)\n",
    "#     print command\n",
    "    subprocess.check_call(command,shell = True)"
   ]
  },
  {
   "cell_type": "code",
   "execution_count": 79,
   "metadata": {
    "collapsed": false
   },
   "outputs": [],
   "source": [
    "## write initial length distribution to model files\n",
    "with open('{}initial_exon_low.txt'.format(targetLow)) as f:\n",
    "    initial_distr = f.read()\n",
    "\n",
    "for gc in range(30,61):\n",
    "    filename = filePattern.format(gc)\n",
    "    \n",
    "    ## locate position\n",
    "    with open(modelSetPathLow+filename) as f:\n",
    "        for line in f:\n",
    "            if '##INITIAL_DISTR##' in line:\n",
    "                tag_line = line\n",
    "                \n",
    "    with open(modelSetPathLow+filename) as f:\n",
    "        text = f.read()\n",
    "        param = '$INITIAL_DISTR\\n'\n",
    "        text_sub = re.sub(tag_line, param+initial_distr+'\\n', text)\n",
    "    \n",
    "    with open(modelSetPathLow+filename,'w') as f:\n",
    "        f.write(text_sub)"
   ]
  },
  {
   "cell_type": "code",
   "execution_count": 81,
   "metadata": {
    "collapsed": true
   },
   "outputs": [],
   "source": [
    "## write internal length distribution to model files\n",
    "with open('{}internal_exon_low.txt'.format(targetLow)) as f:\n",
    "    internal_distr = f.read()\n",
    "\n",
    "for gc in range(30,61):\n",
    "    filename = filePattern.format(gc)\n",
    "    \n",
    "    ## locate position\n",
    "    with open(modelSetPathLow+filename) as f:\n",
    "        for line in f:\n",
    "            if '##EXON_DISTR##' in line:\n",
    "                tag_line = line\n",
    "                \n",
    "    with open(modelSetPathLow+filename) as f:\n",
    "        text = f.read()\n",
    "        param = '$EXON_DISTR\\n'\n",
    "        text_sub = re.sub(tag_line, param+internal_distr+'\\n', text)\n",
    "    \n",
    "    with open(modelSetPathLow+filename,'w') as f:\n",
    "        f.write(text_sub)"
   ]
  },
  {
   "cell_type": "code",
   "execution_count": 82,
   "metadata": {
    "collapsed": true
   },
   "outputs": [],
   "source": [
    "## write terminal length distribution to model files\n",
    "with open('{}terminal_exon_low.txt'.format(targetLow)) as f:\n",
    "    terminal_distr = f.read()\n",
    "\n",
    "for gc in range(30,61):\n",
    "    filename = filePattern.format(gc)\n",
    "    \n",
    "    ## locate position\n",
    "    with open(modelSetPathLow+filename) as f:\n",
    "        for line in f:\n",
    "            if '##TERMINAL_DISTR##' in line:\n",
    "                tag_line = line\n",
    "                \n",
    "    with open(modelSetPathLow+filename) as f:\n",
    "        text = f.read()\n",
    "        param = '$TERMINAL_DISTR\\n'\n",
    "        text_sub = re.sub(tag_line, param+terminal_distr+'\\n', text)\n",
    "    \n",
    "    with open(modelSetPathLow+filename,'w') as f:\n",
    "        f.write(text_sub)"
   ]
  },
  {
   "cell_type": "code",
   "execution_count": 83,
   "metadata": {
    "collapsed": true
   },
   "outputs": [],
   "source": [
    "## write intron length distribution to model files\n",
    "with open('{}intron_low.txt'.format(targetLow)) as f:\n",
    "    intron_distr = f.read()\n",
    "\n",
    "for gc in range(30,61):\n",
    "    filename = filePattern.format(gc)\n",
    "    \n",
    "    ## locate position\n",
    "    with open(modelSetPathLow+filename) as f:\n",
    "        for line in f:\n",
    "            if '##INTRON_DISTR##' in line:\n",
    "                tag_line = line\n",
    "                \n",
    "    with open(modelSetPathLow+filename) as f:\n",
    "        text = f.read()\n",
    "        param = '$INTRON_DISTR\\n'\n",
    "        text_sub = re.sub(tag_line, param+intron_distr+'\\n', text)\n",
    "    \n",
    "    with open(modelSetPathLow+filename,'w') as f:\n",
    "        f.write(text_sub)"
   ]
  },
  {
   "cell_type": "code",
   "execution_count": 84,
   "metadata": {
    "collapsed": true
   },
   "outputs": [],
   "source": [
    "## write spacer length distribution to model files\n",
    "with open('{}spacer_low.txt'.format(targetLow)) as f:\n",
    "    spacer_distr = f.read()\n",
    "\n",
    "for gc in range(30,61):\n",
    "    filename = filePattern.format(gc)\n",
    "    \n",
    "    ## locate position\n",
    "    with open(modelSetPathLow+filename) as f:\n",
    "        for line in f:\n",
    "            if '##BP_ACC_DISTR##' in line:\n",
    "                tag_line = line\n",
    "                \n",
    "    with open(modelSetPathLow+filename) as f:\n",
    "        text = f.read()\n",
    "        param = '$BP_ACC_DISTR\\n'\n",
    "        text_sub = re.sub(tag_line, param+spacer_distr+'\\n', text)\n",
    "    \n",
    "    with open(modelSetPathLow+filename,'w') as f:\n",
    "        f.write(text_sub)"
   ]
  },
  {
   "cell_type": "code",
   "execution_count": 85,
   "metadata": {
    "collapsed": true
   },
   "outputs": [],
   "source": [
    "## write donor to bp length distribution to model files\n",
    "with open('{}donorToBp_low.txt'.format(targetLow)) as f:\n",
    "    donorToBp_distr = f.read()\n",
    "\n",
    "for gc in range(30,61):\n",
    "    filename = filePattern.format(gc)\n",
    "    \n",
    "    ## locate position\n",
    "    with open(modelSetPathLow+filename) as f:\n",
    "        for line in f:\n",
    "            if '##DON_BP_DISTR##' in line:\n",
    "                tag_line = line\n",
    "                \n",
    "    with open(modelSetPathLow+filename) as f:\n",
    "        text = f.read()\n",
    "        param = '$DON_BP_DISTR\\n'\n",
    "        text_sub = re.sub(tag_line, param+donorToBp_distr+'\\n', text)\n",
    "    \n",
    "    with open(modelSetPathLow+filename,'w') as f:\n",
    "        f.write(text_sub)"
   ]
  },
  {
   "cell_type": "code",
   "execution_count": null,
   "metadata": {
    "collapsed": true
   },
   "outputs": [],
   "source": []
  },
  {
   "cell_type": "markdown",
   "metadata": {},
   "source": [
    "#### Aux Programs"
   ]
  },
  {
   "cell_type": "code",
   "execution_count": 64,
   "metadata": {
    "collapsed": true
   },
   "outputs": [],
   "source": [
    "# def automateTest(modelFile, fastaFile, )"
   ]
  }
 ],
 "metadata": {
  "kernelspec": {
   "display_name": "Python 2",
   "language": "python",
   "name": "python2"
  },
  "language_info": {
   "codemirror_mode": {
    "name": "ipython",
    "version": 2
   },
   "file_extension": ".py",
   "mimetype": "text/x-python",
   "name": "python",
   "nbconvert_exporter": "python",
   "pygments_lexer": "ipython2",
   "version": "2.7.10"
  }
 },
 "nbformat": 4,
 "nbformat_minor": 0
}
