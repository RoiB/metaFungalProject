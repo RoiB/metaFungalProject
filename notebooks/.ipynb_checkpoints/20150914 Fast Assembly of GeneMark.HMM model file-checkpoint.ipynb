{
 "cells": [
  {
   "cell_type": "code",
   "execution_count": null,
   "metadata": {
    "collapsed": true
   },
   "outputs": [],
   "source": [
    "'''\n",
    "The main point of this notebook is to create a class that generate GeneMark.HMM model file automatically\n",
    "1. GC related params\n",
    "    1) Markov model from EukMGM\n",
    "    2) Site model from seperated files\n",
    "2. Non-GC params\n",
    "    1) 7 length distributions\n",
    "    2) \n",
    "'''"
   ]
  },
  {
   "cell_type": "code",
   "execution_count": null,
   "metadata": {
    "collapsed": true
   },
   "outputs": [],
   "source": [
    "\n",
    "    "
   ]
  }
 ],
 "metadata": {
  "kernelspec": {
   "display_name": "Python 2",
   "language": "python",
   "name": "python2"
  },
  "language_info": {
   "codemirror_mode": {
    "name": "ipython",
    "version": 2
   },
   "file_extension": ".py",
   "mimetype": "text/x-python",
   "name": "python",
   "nbconvert_exporter": "python",
   "pygments_lexer": "ipython2",
   "version": "2.7.10"
  }
 },
 "nbformat": 4,
 "nbformat_minor": 0
}
