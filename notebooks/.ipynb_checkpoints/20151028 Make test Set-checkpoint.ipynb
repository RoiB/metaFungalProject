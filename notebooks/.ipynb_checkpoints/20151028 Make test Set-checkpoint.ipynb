{
 "cells": [
  {
   "cell_type": "code",
   "execution_count": 10,
   "metadata": {
    "collapsed": false
   },
   "outputs": [],
   "source": [
    "import sys; sys.path.append(\"/home/richard/research/tools/\")\n",
    "import GenerateTestSetModule\n",
    "\n",
    "import subprocess"
   ]
  },
  {
   "cell_type": "code",
   "execution_count": 2,
   "metadata": {
    "collapsed": true
   },
   "outputs": [],
   "source": [
    "sourceFasta = '/home/richard/research/tests/Oct27TestSetStatistics/sampleAnnotation/Pneji1_AssemblyScaffolds.fasta'\n",
    "sourceGtf = '/home/richard/research/tests/Oct27TestSetStatistics/sampleAnnotation/Pneji1_GeneCatalog_genes_20130607.f.good.multiExon.gtf'\n",
    "targetFasta = '/home/richard/research/tests/Oct27TestSetStatistics/sampleAnnotation/Pneji1_testV6.fasta'\n",
    "targetGtf = '/home/richard/research/tests/Oct27TestSetStatistics/sampleAnnotation/Pneji1.good.updatedV6.gtf'\n",
    "\n",
    "shortName = 'Pneji1'.lower()\n",
    "intergenic_length = 200"
   ]
  },
  {
   "cell_type": "code",
   "execution_count": 4,
   "metadata": {
    "collapsed": false
   },
   "outputs": [],
   "source": [
    "# GenerateTestSetModule.makeTestSet(shortName, intergenic_length, sourceGtf, sourceFasta, targetGtf, targetFasta)"
   ]
  },
  {
   "cell_type": "markdown",
   "metadata": {},
   "source": [
    "## Officially start to build test set"
   ]
  },
  {
   "cell_type": "code",
   "execution_count": 17,
   "metadata": {
    "collapsed": false
   },
   "outputs": [],
   "source": [
    "GtfSource = '/storage3/w/richard/meta2015/finalTestSet20151002/gtf_converted_from_gff/'\n",
    "mixAnnotationFiles = os.listdir(GtfSource)\n",
    "good_annotation = filter(lambda x: 'good' in x, mixAnnotationFiles)\n",
    "multiGtfTarget = '/home/richard/research/tests/Oct28TestSet/goodMultiExonGtf/'"
   ]
  },
  {
   "cell_type": "code",
   "execution_count": 12,
   "metadata": {
    "collapsed": false
   },
   "outputs": [
    {
     "data": {
      "text/plain": [
       "'Ophdi1_GeneCatalog_genes_20140614.f.good.gtf'"
      ]
     },
     "execution_count": 12,
     "metadata": {},
     "output_type": "execute_result"
    }
   ],
   "source": []
  },
  {
   "cell_type": "markdown",
   "metadata": {},
   "source": [
    "1) pick multi-gene"
   ]
  },
  {
   "cell_type": "code",
   "execution_count": 16,
   "metadata": {
    "collapsed": false
   },
   "outputs": [],
   "source": [
    "for filename in good_annotation:\n",
    "    command = ('python /home/richard/research/tools/pickMultiGene.py {}{} {}{}.multiExon.gtf'\n",
    "               .format(GtfSource, filename, multiGtfTarget, filename[:-4]))\n",
    "#     print command\n",
    "    subprocess.check_call(command, shell=True)"
   ]
  }
 ],
 "metadata": {
  "kernelspec": {
   "display_name": "Python 2",
   "language": "python",
   "name": "python2"
  },
  "language_info": {
   "codemirror_mode": {
    "name": "ipython",
    "version": 2
   },
   "file_extension": ".py",
   "mimetype": "text/x-python",
   "name": "python",
   "nbconvert_exporter": "python",
   "pygments_lexer": "ipython2",
   "version": "2.7.10"
  }
 },
 "nbformat": 4,
 "nbformat_minor": 0
}
