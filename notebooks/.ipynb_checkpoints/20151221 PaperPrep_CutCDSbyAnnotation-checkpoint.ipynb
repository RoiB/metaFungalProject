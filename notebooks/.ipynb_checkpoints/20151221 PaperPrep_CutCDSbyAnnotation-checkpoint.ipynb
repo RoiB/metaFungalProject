{
 "cells": [
  {
   "cell_type": "code",
   "execution_count": 5,
   "metadata": {
    "collapsed": true
   },
   "outputs": [],
   "source": [
    "'''To keep consistency of data, we cut fasta file according to annotation instead'''\n",
    "import pandas as pd\n",
    "import subprocess"
   ]
  },
  {
   "cell_type": "code",
   "execution_count": 2,
   "metadata": {
    "collapsed": true
   },
   "outputs": [],
   "source": [
    "info = pd.read_csv('/home/richard/research/data_small/fullTableInfoGff3GffRNAESwithDensity20151109.csv')\n",
    "info.index = info.shortName"
   ]
  },
  {
   "cell_type": "code",
   "execution_count": 6,
   "metadata": {
    "collapsed": false
   },
   "outputs": [],
   "source": [
    "## create directory for CDS species\n",
    "# for shortName in info.index:\n",
    "#     command = 'mkdir /storage3/w/richard/meta2016/CDS_cut/{}'.format(shortName)\n",
    "#     subprocess.check_call(command, shell = True)"
   ]
  },
  {
   "cell_type": "code",
   "execution_count": 9,
   "metadata": {
    "collapsed": false
   },
   "outputs": [
    {
     "ename": "SyntaxError",
     "evalue": "invalid syntax (<ipython-input-9-2a0828cd0df3>, line 10)",
     "output_type": "error",
     "traceback": [
      "\u001b[1;36m  File \u001b[1;32m\"<ipython-input-9-2a0828cd0df3>\"\u001b[1;36m, line \u001b[1;32m10\u001b[0m\n\u001b[1;33m    with open('/storage3/w/richard/meta2016/CDS_cut/run_cut.sh') as f:. f.write(script)\u001b[0m\n\u001b[1;37m                                                                      ^\u001b[0m\n\u001b[1;31mSyntaxError\u001b[0m\u001b[1;31m:\u001b[0m invalid syntax\n"
     ]
    }
   ],
   "source": [
    "## create script to cut CDS\n",
    "script = ''\n",
    "for shortName in info.index:\n",
    "    script += 'cd /storage3/w/richard/meta2016/CDS_cut/{}\\n'.format(shortName)\n",
    "    base = '/home/tool/gmes/get_sequence_from_GTF.pl'\n",
    "    gtf = '/storage3/w/alexl/Fa/{}/annot/annot.gtf'\n",
    "    fasta = '/storage3/w/alexl/Fa/{}/data/genome.fasta'\n",
    "    script += '{} {} {}\\n'.format(base, gtf.format(shortName), fasta.format(shortName))\n",
    "    script += 'cd ..\\n'\n",
    "with open('/storage3/w/richard/meta2016/CDS_cut/run_cut.sh') as f: f.write(script)"
   ]
  },
  {
   "cell_type": "code",
   "execution_count": null,
   "metadata": {
    "collapsed": true
   },
   "outputs": [],
   "source": []
  }
 ],
 "metadata": {
  "kernelspec": {
   "display_name": "Python 2",
   "language": "python",
   "name": "python2"
  },
  "language_info": {
   "codemirror_mode": {
    "name": "ipython",
    "version": 2
   },
   "file_extension": ".py",
   "mimetype": "text/x-python",
   "name": "python",
   "nbconvert_exporter": "python",
   "pygments_lexer": "ipython2",
   "version": "2.7.10"
  }
 },
 "nbformat": 4,
 "nbformat_minor": 0
}
