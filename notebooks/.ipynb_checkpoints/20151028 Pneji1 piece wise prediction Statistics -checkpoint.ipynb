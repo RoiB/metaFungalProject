{
 "cells": [
  {
   "cell_type": "code",
   "execution_count": 1,
   "metadata": {
    "collapsed": true
   },
   "outputs": [],
   "source": [
    "from Bio import SeqIO\n",
    "import matplotlib.pylab as plt\n",
    "%matplotlib inline"
   ]
  },
  {
   "cell_type": "code",
   "execution_count": 8,
   "metadata": {
    "collapsed": true
   },
   "outputs": [],
   "source": [
    "pneji1 = SeqIO.parse('/home/richard/research/tests/Oct28TestSet/TestSetCutFastaFixed/Pneji1_AssemblyScaffolds.cut.fasta','fasta')"
   ]
  },
  {
   "cell_type": "code",
   "execution_count": 9,
   "metadata": {
    "collapsed": true
   },
   "outputs": [],
   "source": [
    "fastaLengths = map(len,pneji1)"
   ]
  },
  {
   "cell_type": "code",
   "execution_count": 16,
   "metadata": {
    "collapsed": false
   },
   "outputs": [
    {
     "data": {
      "image/png": "[encoded data removed]",
      "text/plain": [
       "<matplotlib.figure.Figure at 0x7fe1167b2810>"
      ]
     },
     "metadata": {},
     "output_type": "display_data"
    }
   ],
   "source": [
    "plt.hist(fastaLengths, bins=20, color='r')\n",
    "plt.xlabel('fasta record length')\n",
    "plt.ylabel('count')\n",
    "plt.title('fasta record length distribution')\n",
    "plt.show()"
   ]
  },
  {
   "cell_type": "code",
   "execution_count": 10,
   "metadata": {
    "collapsed": false
   },
   "outputs": [],
   "source": [
    "fastaFile = '/home/richard/research/tests/Oct28TestSet/TestSetCutFastaFixed/Pneji1_AssemblyScaffolds.cut.fasta'\n",
    "gtfFile = '/home/richard/research/tests/Oct28TestSet/TestSetMultiExonGtfFixed/Pneji1_GeneCatalog_genes_20130607.f.good.multiExon.updated.gtf'\n",
    "targetFasta = '/home/richard/research/tests/Oct29AssembleModel/Pneji1/Pneji1_AssemblyScaffolds.cut.2000.fasta'\n",
    "targetGtf = '/home/richard/research/tests/Oct29AssembleModel/Pneji1/Pneji1_GeneCatalog_genes_20130607.f.good.multiExon.updated.2000.gtf'\n",
    "length = 2000\n",
    "# def pickFastaByLength(fastaFile, gtfFile, targetFasta, targetGtf, length):\n",
    "SeqRecords = SeqIO.parse(fastaFile,'fasta')\n",
    "SeqRecords = [SeqRecord for SeqRecord in SeqRecords if len(SeqRecord) > length]\n",
    "SeqIO.write(SeqRecords, targetFasta, 'fasta')\n",
    "\n",
    "contigs = set(map(lambda x: x.id, SeqRecords))\n",
    "with open(targetGtf,'w') as f:\n",
    "    with open(gtfFile) as f0:\n",
    "        for line in f0:\n",
    "            contig = line.split()[0]\n",
    "            if contig in contigs:\n",
    "                f.write(line)"
   ]
  },
  {
   "cell_type": "code",
   "execution_count": null,
   "metadata": {
    "collapsed": true
   },
   "outputs": [],
   "source": [
    "from Bio import SeqIO\n",
    "def pickFastaByLength(fastaFile, gtfFile, targetFasta, targetGtf, length):\n",
    "    SeqRecords = SeqIO.parse(fastaFile,'fasta')\n",
    "    SeqRecords = [SeqRecord for SeqRecord in SeqRecords if len(SeqRecord) > length]\n",
    "    SeqIO.write(SeqRecords, targetFasta, 'fasta')\n",
    "\n",
    "    contigs = set(map(lambda x: x.id, SeqRecords))\n",
    "    with open(targetGtf,'w') as f:\n",
    "        with open(gtfFile) as f0:\n",
    "            for line in f0:\n",
    "                contig = line.split()[0]\n",
    "                if contig in contigs:\n",
    "                    f.write(line)    "
   ]
  }
 ],
 "metadata": {
  "kernelspec": {
   "display_name": "Python 2",
   "language": "python",
   "name": "python2"
  },
  "language_info": {
   "codemirror_mode": {
    "name": "ipython",
    "version": 2
   },
   "file_extension": ".py",
   "mimetype": "text/x-python",
   "name": "python",
   "nbconvert_exporter": "python",
   "pygments_lexer": "ipython2",
   "version": "2.7.10"
  }
 },
 "nbformat": 4,
 "nbformat_minor": 0
}
