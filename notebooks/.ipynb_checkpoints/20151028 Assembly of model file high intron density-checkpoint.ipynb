{
 "cells": [
  {
   "cell_type": "code",
   "execution_count": 7,
   "metadata": {
    "collapsed": true
   },
   "outputs": [],
   "source": [
    "import subprocess\n",
    "import pandas as pd\n",
    "import numpy as np\n",
    "import re\n",
    "import itertools"
   ]
  },
  {
   "cell_type": "markdown",
   "metadata": {},
   "source": [
    "# Add GC and intron density related parameters, mid intron density"
   ]
  },
  {
   "cell_type": "markdown",
   "metadata": {},
   "source": [
    "### I, low intron density"
   ]
  },
  {
   "cell_type": "code",
   "execution_count": 8,
   "metadata": {
    "collapsed": true
   },
   "outputs": [],
   "source": [
    "filePattern = 'MetaFungal_model_{}_mid.txt'\n",
    "modelSetPath = '/home/richard/research/tests/Oct29AssembleModel/modelSet/'\n",
    "modelSetPathLow = '/home/richard/research/tests/Oct29AssembleModel/modelSetMid/'\n",
    "targetLow = '/home/richard/research/tests/Oct29AssembleModel/partsForModel/length_distributions/mid/'"
   ]
  },
  {
   "cell_type": "code",
   "execution_count": 9,
   "metadata": {
    "collapsed": false
   },
   "outputs": [],
   "source": [
    "# prepare new set of parameters\n",
    "for i in range(30,61):\n",
    "    command = 'cp {}MetaFungal_model_{}.txt {}MetaFungal_model_{}_mid.txt\\n'.format(modelSetPath, i, modelSetPathLow, i)\n",
    "#     print command\n",
    "    subprocess.check_call(command,shell = True)"
   ]
  },
  {
   "cell_type": "code",
   "execution_count": 10,
   "metadata": {
    "collapsed": false
   },
   "outputs": [],
   "source": [
    "## write initial length distribution to model files\n",
    "with open('{}initial_exon_mid.txt'.format(targetLow)) as f:\n",
    "    initial_distr = f.read()\n",
    "\n",
    "for gc in range(30,61):\n",
    "    filename = filePattern.format(gc)\n",
    "    \n",
    "    ## locate position\n",
    "    with open(modelSetPathLow+filename) as f:\n",
    "        for line in f:\n",
    "            if '##INITIAL_DISTR##' in line:\n",
    "                tag_line = line\n",
    "                \n",
    "    with open(modelSetPathLow+filename) as f:\n",
    "        text = f.read()\n",
    "        param = '$INITIAL_DISTR\\n'\n",
    "        text_sub = re.sub(tag_line, param+initial_distr+'\\n', text)\n",
    "    \n",
    "    with open(modelSetPathLow+filename,'w') as f:\n",
    "        f.write(text_sub)"
   ]
  },
  {
   "cell_type": "code",
   "execution_count": 11,
   "metadata": {
    "collapsed": true
   },
   "outputs": [],
   "source": [
    "## write internal length distribution to model files\n",
    "with open('{}internal_exon_mid.txt'.format(targetLow)) as f:\n",
    "    internal_distr = f.read()\n",
    "\n",
    "for gc in range(30,61):\n",
    "    filename = filePattern.format(gc)\n",
    "    \n",
    "    ## locate position\n",
    "    with open(modelSetPathLow+filename) as f:\n",
    "        for line in f:\n",
    "            if '##EXON_DISTR##' in line:\n",
    "                tag_line = line\n",
    "                \n",
    "    with open(modelSetPathLow+filename) as f:\n",
    "        text = f.read()\n",
    "        param = '$EXON_DISTR\\n'\n",
    "        text_sub = re.sub(tag_line, param+internal_distr+'\\n', text)\n",
    "    \n",
    "    with open(modelSetPathLow+filename,'w') as f:\n",
    "        f.write(text_sub)"
   ]
  },
  {
   "cell_type": "code",
   "execution_count": 12,
   "metadata": {
    "collapsed": true
   },
   "outputs": [],
   "source": [
    "## write terminal length distribution to model files\n",
    "with open('{}terminal_exon_mid.txt'.format(targetLow)) as f:\n",
    "    terminal_distr = f.read()\n",
    "\n",
    "for gc in range(30,61):\n",
    "    filename = filePattern.format(gc)\n",
    "    \n",
    "    ## locate position\n",
    "    with open(modelSetPathLow+filename) as f:\n",
    "        for line in f:\n",
    "            if '##TERMINAL_DISTR##' in line:\n",
    "                tag_line = line\n",
    "                \n",
    "    with open(modelSetPathLow+filename) as f:\n",
    "        text = f.read()\n",
    "        param = '$TERMINAL_DISTR\\n'\n",
    "        text_sub = re.sub(tag_line, param+terminal_distr+'\\n', text)\n",
    "    \n",
    "    with open(modelSetPathLow+filename,'w') as f:\n",
    "        f.write(text_sub)"
   ]
  },
  {
   "cell_type": "code",
   "execution_count": 13,
   "metadata": {
    "collapsed": true
   },
   "outputs": [],
   "source": [
    "## write intron length distribution to model files\n",
    "with open('{}intron_mid.txt'.format(targetLow)) as f:\n",
    "    intron_distr = f.read()\n",
    "\n",
    "for gc in range(30,61):\n",
    "    filename = filePattern.format(gc)\n",
    "    \n",
    "    ## locate position\n",
    "    with open(modelSetPathLow+filename) as f:\n",
    "        for line in f:\n",
    "            if '##INTRON_DISTR##' in line:\n",
    "                tag_line = line\n",
    "                \n",
    "    with open(modelSetPathLow+filename) as f:\n",
    "        text = f.read()\n",
    "        param = '$INTRON_DISTR\\n'\n",
    "        text_sub = re.sub(tag_line, param+intron_distr+'\\n', text)\n",
    "    \n",
    "    with open(modelSetPathLow+filename,'w') as f:\n",
    "        f.write(text_sub)"
   ]
  },
  {
   "cell_type": "code",
   "execution_count": 14,
   "metadata": {
    "collapsed": true
   },
   "outputs": [],
   "source": [
    "## write spacer length distribution to model files\n",
    "with open('{}spacer_mid.txt'.format(targetLow)) as f:\n",
    "    spacer_distr = f.read()\n",
    "\n",
    "for gc in range(30,61):\n",
    "    filename = filePattern.format(gc)\n",
    "    \n",
    "    ## locate position\n",
    "    with open(modelSetPathLow+filename) as f:\n",
    "        for line in f:\n",
    "            if '##BP_ACC_DISTR##' in line:\n",
    "                tag_line = line\n",
    "                \n",
    "    with open(modelSetPathLow+filename) as f:\n",
    "        text = f.read()\n",
    "        param = '$BP_ACC_DISTR\\n'\n",
    "        text_sub = re.sub(tag_line, param+spacer_distr+'\\n', text)\n",
    "    \n",
    "    with open(modelSetPathLow+filename,'w') as f:\n",
    "        f.write(text_sub)"
   ]
  },
  {
   "cell_type": "code",
   "execution_count": 15,
   "metadata": {
    "collapsed": true
   },
   "outputs": [],
   "source": [
    "## write donor to bp length distribution to model files\n",
    "with open('{}donorToBp_mid.txt'.format(targetLow)) as f:\n",
    "    donorToBp_distr = f.read()\n",
    "\n",
    "for gc in range(30,61):\n",
    "    filename = filePattern.format(gc)\n",
    "    \n",
    "    ## locate position\n",
    "    with open(modelSetPathLow+filename) as f:\n",
    "        for line in f:\n",
    "            if '##DON_BP_DISTR##' in line:\n",
    "                tag_line = line\n",
    "                \n",
    "    with open(modelSetPathLow+filename) as f:\n",
    "        text = f.read()\n",
    "        param = '$DON_BP_DISTR\\n'\n",
    "        text_sub = re.sub(tag_line, param+donorToBp_distr+'\\n', text)\n",
    "    \n",
    "    with open(modelSetPathLow+filename,'w') as f:\n",
    "        f.write(text_sub)"
   ]
  },
  {
   "cell_type": "code",
   "execution_count": null,
   "metadata": {
    "collapsed": true
   },
   "outputs": [],
   "source": []
  },
  {
   "cell_type": "markdown",
   "metadata": {},
   "source": [
    "#### Aux Programs"
   ]
  },
  {
   "cell_type": "code",
   "execution_count": 64,
   "metadata": {
    "collapsed": true
   },
   "outputs": [],
   "source": [
    "# def automateTest(modelFile, fastaFile, )"
   ]
  }
 ],
 "metadata": {
  "kernelspec": {
   "display_name": "Python 2",
   "language": "python",
   "name": "python2"
  },
  "language_info": {
   "codemirror_mode": {
    "name": "ipython",
    "version": 2
   },
   "file_extension": ".py",
   "mimetype": "text/x-python",
   "name": "python",
   "nbconvert_exporter": "python",
   "pygments_lexer": "ipython2",
   "version": "2.7.10"
  }
 },
 "nbformat": 4,
 "nbformat_minor": 0
}
