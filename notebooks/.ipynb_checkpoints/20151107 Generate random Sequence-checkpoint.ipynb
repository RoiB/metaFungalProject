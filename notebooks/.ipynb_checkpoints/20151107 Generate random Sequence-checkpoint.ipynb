{
 "cells": [
  {
   "cell_type": "code",
   "execution_count": null,
   "metadata": {
    "collapsed": true
   },
   "outputs": [],
   "source": [
    "'''\n",
    "Create random sequence with gc from 30 to 60 and length 2k\n",
    "Each fasta file have 500 records\n",
    "'''"
   ]
  },
  {
   "cell_type": "code",
   "execution_count": 63,
   "metadata": {
    "collapsed": true
   },
   "outputs": [],
   "source": [
    "import random\n",
    "from Bio import SeqIO\n",
    "from Bio.Seq import Seq\n",
    "from Bio.SeqRecord import SeqRecord\n",
    "from Bio.SeqUtils import GC"
   ]
  },
  {
   "cell_type": "code",
   "execution_count": null,
   "metadata": {
    "collapsed": true
   },
   "outputs": [],
   "source": [
    "''.join([random.choice('AGTC') for x in range(10)]) "
   ]
  },
  {
   "cell_type": "code",
   "execution_count": 24,
   "metadata": {
    "collapsed": false
   },
   "outputs": [],
   "source": [
    "def randomLetter(GC):\n",
    "    if random.random() < GC:\n",
    "        if random.random() < .5:\n",
    "            return 'G'\n",
    "        else:\n",
    "            return 'C'\n",
    "    else:\n",
    "        if random.random() < .5:\n",
    "            return 'A'\n",
    "        else:\n",
    "            return 'T'\n",
    "        \n",
    "def randomSeq(GC, length):\n",
    "    return ''.join(map(lambda x: randomLetter(GC), range(length)))"
   ]
  },
  {
   "cell_type": "code",
   "execution_count": 71,
   "metadata": {
    "collapsed": false
   },
   "outputs": [
    {
     "name": "stdout",
     "output_type": "stream",
     "text": [
      "30.05 33.05 30.5 33.55 35.35 36.4 34.7 35.9 36.85 40.0 40.55 42.05 42.95 43.5 46.75 44.1 46.3 47.2 48.95 47.65 49.1 50.35 52.35 54.2 53.45 53.45 57.85 57.3 59.8 57.45 58.1\n"
     ]
    }
   ],
   "source": [
    "## check correctness\n",
    "for i in range(30,61):\n",
    "    testSeqRec = SeqRecord(randomSeq(i/100.,2000), id = 'random_seq_gc_30')\n",
    "    print GC(testSeqRec.seq), # testSeqRec.seq"
   ]
  },
  {
   "cell_type": "code",
   "execution_count": 55,
   "metadata": {
    "collapsed": true
   },
   "outputs": [],
   "source": [
    "seq_rec_list = (map(lambda x: \n",
    "                    SeqRecord(Seq(randomSeq(0.3,2000)), \n",
    "                              id = 'random_seq_gc_30_{}'.format(x),\n",
    "                              description =''), range(500)))"
   ]
  },
  {
   "cell_type": "code",
   "execution_count": 57,
   "metadata": {
    "collapsed": false
   },
   "outputs": [
    {
     "data": {
      "text/plain": [
       "500"
      ]
     },
     "execution_count": 57,
     "metadata": {},
     "output_type": "execute_result"
    }
   ],
   "source": [
    "SeqIO.write(seq_rec_list, '/home/richard/research/tests/Nov7RandomSeq/random_seq_gc_30.fasta','fasta')"
   ]
  },
  {
   "cell_type": "code",
   "execution_count": 59,
   "metadata": {
    "collapsed": true
   },
   "outputs": [],
   "source": [
    "target = '/home/richard/research/tests/Nov7RandomSeq/random_seq_set/'"
   ]
  },
  {
   "cell_type": "code",
   "execution_count": 62,
   "metadata": {
    "collapsed": false
   },
   "outputs": [],
   "source": [
    "for i in range(30,61):\n",
    "    gc = i/100.\n",
    "    seq_rec_list = (map(lambda x: \n",
    "                    SeqRecord(Seq(randomSeq(gc,2000)), \n",
    "                              id = 'random_seq_gc_{}_{}'.format(i,x),\n",
    "                              description =''), range(500)))\n",
    "    location = '/home/richard/research/tests/Nov7RandomSeq/random_seq_set/random_seq_gc_{}.fasta'.format(i)\n",
    "    SeqIO.write(seq_rec_list,location ,'fasta')"
   ]
  }
 ],
 "metadata": {
  "kernelspec": {
   "display_name": "Python 2",
   "language": "python",
   "name": "python2"
  },
  "language_info": {
   "codemirror_mode": {
    "name": "ipython",
    "version": 2
   },
   "file_extension": ".py",
   "mimetype": "text/x-python",
   "name": "python",
   "nbconvert_exporter": "python",
   "pygments_lexer": "ipython2",
   "version": "2.7.10"
  }
 },
 "nbformat": 4,
 "nbformat_minor": 0
}
