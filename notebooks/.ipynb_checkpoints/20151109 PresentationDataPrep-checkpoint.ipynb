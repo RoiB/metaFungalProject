{
 "cells": [
  {
   "cell_type": "code",
   "execution_count": 19,
   "metadata": {
    "collapsed": true
   },
   "outputs": [],
   "source": [
    "'''\n",
    "Update info table\n",
    "'''\n",
    "import pandas as pd\n",
    "import matplotlib.pylab as plt\n",
    "%matplotlib inline"
   ]
  },
  {
   "cell_type": "code",
   "execution_count": 20,
   "metadata": {
    "collapsed": true
   },
   "outputs": [],
   "source": [
    "info = pd.read_csv('/home/richard/research/data_small/fullTableInfoGff3GffRNAESwithDensity20150829.csv')\n",
    "info.index = info.shortName\n",
    "fastaSource = '/home/richard/research/tests/Nov9UpdatedTestSetAndTest/TestSetCutFasta/'\n",
    "shortNames = map(lambda x: x.split('_Assem')[0], os.listdir(fastaSource))"
   ]
  },
  {
   "cell_type": "code",
   "execution_count": 50,
   "metadata": {
    "collapsed": false
   },
   "outputs": [],
   "source": [
    "info.loc['Spofi1','gc'] = 53.8"
   ]
  },
  {
   "cell_type": "code",
   "execution_count": 47,
   "metadata": {
    "collapsed": false
   },
   "outputs": [
    {
     "data": {
      "text/plain": [
       "shortName                                                     Pneji1\n",
       "longName                                      Pneumocystis jirovecii\n",
       "fastaName                          Pneji1_AssemblyScaffolds.fasta.gz\n",
       "gffName                     Pneji1_GeneCatalog_genes_20130607.gff.gz\n",
       "gff3Name             Pneji1.filtered_proteins.ExternalModels.gff3.gz\n",
       "gc                                                              28.4\n",
       "numGeneGff3                                                     3520\n",
       "numExonGff3                                                    20191\n",
       "exonDensityGff3                                              5.73608\n",
       "numIntronGff3                                                  16671\n",
       "intronDensityGff3                                               4.74\n",
       "numGeneGff                                                      3520\n",
       "numExonGff                                                     20191\n",
       "exonDensityGff                                               5.73608\n",
       "numIntronGff                                                   16671\n",
       "intronDensityGff                                                4.74\n",
       "rnaSeqCount                                                       10\n",
       "ES                                                              fail\n",
       "Name: Pneji1, dtype: object"
      ]
     },
     "execution_count": 47,
     "metadata": {},
     "output_type": "execute_result"
    }
   ],
   "source": [
    "info.ix['Pneji1']"
   ]
  },
  {
   "cell_type": "code",
   "execution_count": 22,
   "metadata": {
    "collapsed": false,
    "scrolled": false
   },
   "outputs": [],
   "source": [
    "df = info.ix[shortNames]"
   ]
  },
  {
   "cell_type": "code",
   "execution_count": 46,
   "metadata": {
    "collapsed": false
   },
   "outputs": [],
   "source": [
    "df[['longName','gc','intronDensityGff']].ix[sorted(df.index)].to_csv('/home/richard/research/tests/Nov9UpdatedTestSetAndTest/baseTable.csv')"
   ]
  },
  {
   "cell_type": "code",
   "execution_count": 41,
   "metadata": {
    "collapsed": false
   },
   "outputs": [
    {
     "data": {
      "text/plain": [
       "<matplotlib.text.Text at 0x7f471bf37310>"
      ]
     },
     "execution_count": 41,
     "metadata": {},
     "output_type": "execute_result"
    },
    {
     "data": {
      "image/png": "[encoded data removed]",
      "text/plain": [
       "<matplotlib.figure.Figure at 0x7f471bc23690>"
      ]
     },
     "metadata": {},
     "output_type": "display_data"
    }
   ],
   "source": [
    "plt.plot(df.gc,df.intronDensityGff,'ro')\n",
    "plt.plot([48.3, 36],[1.86, 1.03], 'ro')\n",
    "plt.title('Test Set Distribution')\n",
    "plt.xlabel('GC')\n",
    "plt.ylabel('Intron Density')"
   ]
  },
  {
   "cell_type": "code",
   "execution_count": null,
   "metadata": {
    "collapsed": true
   },
   "outputs": [],
   "source": []
  }
 ],
 "metadata": {
  "kernelspec": {
   "display_name": "Python 2",
   "language": "python",
   "name": "python2"
  },
  "language_info": {
   "codemirror_mode": {
    "name": "ipython",
    "version": 2
   },
   "file_extension": ".py",
   "mimetype": "text/x-python",
   "name": "python",
   "nbconvert_exporter": "python",
   "pygments_lexer": "ipython2",
   "version": "2.7.10"
  }
 },
 "nbformat": 4,
 "nbformat_minor": 0
}
