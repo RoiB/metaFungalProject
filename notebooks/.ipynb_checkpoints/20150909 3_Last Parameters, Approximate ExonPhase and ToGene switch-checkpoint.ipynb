{
 "cells": [
  {
   "cell_type": "code",
   "execution_count": null,
   "metadata": {
    "collapsed": true
   },
   "outputs": [],
   "source": [
    "'''\n",
    "Approximate the last part of the heuristic model, which take about 0.5 to 1.5 percent of the accuracy\n",
    "'''\n",
    "# The path where all the GeneMark-ES 4th run models located\n",
    "modelFilePath = \"/home/richard/largeDataSet/ES_Run_modfileAug2015/\"\n",
    "modelFileNames = os.listdir(modelFilePath)\n",
    "\n",
    "class ESParamParse():\n",
    "    \"\"\"Take in 4th run of model file as text and extract info\"\"\"\n",
    "    _DISTR_TYPE= {\n",
    "        'INITIAL_EXON_PHASE'  :('$INITIAL_EXON_PHASE', range(1,4)),\n",
    "        'INITIAL_EXON_PHASE'  :('$TERMINAL_EXON_PHASE', range(1,4)),\n",
    "    }\n",
    "    \n",
    "    def __init__(self, filename):\n",
    "        self.f = open(filename)\n",
    "    def close(self):\n",
    "        '''close file connection'''\n",
    "        self.f.close()"
   ]
  }
 ],
 "metadata": {
  "kernelspec": {
   "display_name": "Python 2",
   "language": "python",
   "name": "python2"
  },
  "language_info": {
   "codemirror_mode": {
    "name": "ipython",
    "version": 2
   },
   "file_extension": ".py",
   "mimetype": "text/x-python",
   "name": "python",
   "nbconvert_exporter": "python",
   "pygments_lexer": "ipython2",
   "version": "2.7.10"
  }
 },
 "nbformat": 4,
 "nbformat_minor": 0
}
