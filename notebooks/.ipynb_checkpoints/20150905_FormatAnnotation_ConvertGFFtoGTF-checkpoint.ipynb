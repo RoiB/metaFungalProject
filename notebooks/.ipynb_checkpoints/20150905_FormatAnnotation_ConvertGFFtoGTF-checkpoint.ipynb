{
 "cells": [
  {
   "cell_type": "code",
   "execution_count": 1,
   "metadata": {
    "collapsed": true
   },
   "outputs": [],
   "source": [
    "#for GC36 change +\n",
    "filename = \"GC36/Schpo1_chrome_1_annotation.gff\"\n",
    "output_path = \"GC36/Schpo1_converted_fixed.gtf\"\n",
    "seqname = \"chromosome_1\""
   ]
  },
  {
   "cell_type": "code",
   "execution_count": null,
   "metadata": {
    "collapsed": true
   },
   "outputs": [],
   "source": [
    "result = \"\"\n",
    "annotation = dict()\n",
    "with open(filename) as handle:\n",
    "    for line in handle:\n",
    "        temp = line.split('\\t')\n",
    "#         print temp[2]\n",
    "#         if 'exon' in temp[2]:continue\n",
    "\n",
    "        part1 = \"\\t\".join(temp[:8])\n",
    "        name = temp[8].split(\";\")[0].split()[1][1:-1]\n",
    "        part2 = 'gene_id \"{}\"; transcript_id \"{}\";'.format(name,name)\n",
    "        result+= part1+\"\\t\"+part2+\"\\n\"\n",
    "        \n",
    "        if name not in annotation:\n",
    "            annotation[name] = []\n",
    "        annotation[name].append(temp)\n",
    "            \n",
    "\n",
    "with open(output_path,'w') as handle: handle.write(result)"
   ]
  }
 ],
 "metadata": {
  "kernelspec": {
   "display_name": "Python 2",
   "language": "python",
   "name": "python2"
  },
  "language_info": {
   "codemirror_mode": {
    "name": "ipython",
    "version": 2
   },
   "file_extension": ".py",
   "mimetype": "text/x-python",
   "name": "python",
   "nbconvert_exporter": "python",
   "pygments_lexer": "ipython2",
   "version": "2.7.10"
  }
 },
 "nbformat": 4,
 "nbformat_minor": 0
}
