{
 "cells": [
  {
   "cell_type": "code",
   "execution_count": 2,
   "metadata": {
    "collapsed": false
   },
   "outputs": [],
   "source": [
    "import pandas as pd\n",
    "import numpy as np\n",
    "import matplotlib.pylab as plt\n",
    "%matplotlib inline\n",
    "import numpy.linalg as LA\n",
    "import itertools"
   ]
  },
  {
   "cell_type": "code",
   "execution_count": 3,
   "metadata": {
    "collapsed": true
   },
   "outputs": [],
   "source": [
    "CODONS = map(lambda x: ''.join(x), list(itertools.product(['A','C','G','T'],['A','C','G','T'],['A','C','G','T'])))\n",
    "DI_NUC = map(lambda x: ''.join(x), list(itertools.product(['A','C','G','T'],['A','C','G','T'])))\n",
    "NUC = ['A','T','G','C']"
   ]
  },
  {
   "cell_type": "code",
   "execution_count": 4,
   "metadata": {
    "collapsed": false
   },
   "outputs": [],
   "source": [
    "# frame1 = pd.read_csv('/home/richard/research/tests/Dec21CodonTable/condon_freq_table_Dec21.csv')\n",
    "frame1 = pd.read_csv('/home/richard/research/data_small/condon_freq_table_Dec23.csv')\n",
    "#change indexing\n",
    "frame1_columns = CODONS[:]; frame1_columns.insert(0,'gc');frame1_columns.insert(0,'shortName')\n",
    "frame1 = frame1[frame1_columns]\n",
    "frame1.index=frame1.shortName"
   ]
  },
  {
   "cell_type": "code",
   "execution_count": 5,
   "metadata": {
    "collapsed": false
   },
   "outputs": [],
   "source": [
    "vectors = {shortName:frame1.ix[shortName][2:] for shortName in frame1.shortName}"
   ]
  },
  {
   "cell_type": "code",
   "execution_count": null,
   "metadata": {
    "collapsed": true
   },
   "outputs": [],
   "source": [
    "dist_mat = [[LA.norm(vectors[frame1.shortName[i]]-vectors[frame1.shortName[j]],2) for j in frame1.shortName]\n",
    "            for i in frame1.shortName]"
   ]
  },
  {
   "cell_type": "code",
   "execution_count": null,
   "metadata": {
    "collapsed": true
   },
   "outputs": [],
   "source": [
    "dist_table = pd.DataFrame(dist_mat, columns=frame1.shortName, index=frame1.shortName)\n",
    "dist_table.to_csv('/home/richard/research/tests/Dec21CodonTable/dist_mat.csv')"
   ]
  },
  {
   "cell_type": "code",
   "execution_count": 7,
   "metadata": {
    "collapsed": true
   },
   "outputs": [],
   "source": [
    "### visual check"
   ]
  },
  {
   "cell_type": "code",
   "execution_count": 8,
   "metadata": {
    "collapsed": false
   },
   "outputs": [
    {
     "data": {
      "image/png": "[encoded data removed]",
      "text/plain": [
       "<matplotlib.figure.Figure at 0x7f21572625d0>"
      ]
     },
     "metadata": {},
     "output_type": "display_data"
    }
   ],
   "source": [
    "plt.hist(dist_mat[101],50);plt.show()"
   ]
  },
  {
   "cell_type": "code",
   "execution_count": 9,
   "metadata": {
    "collapsed": false
   },
   "outputs": [
    {
     "data": {
      "image/png": "[encoded data removed]",
      "text/plain": [
       "<matplotlib.figure.Figure at 0x7f21568ab890>"
      ]
     },
     "metadata": {},
     "output_type": "display_data"
    }
   ],
   "source": [
    "plt.hist(dist_mat[200],50);plt.show()"
   ]
  },
  {
   "cell_type": "code",
   "execution_count": null,
   "metadata": {
    "collapsed": false
   },
   "outputs": [],
   "source": [
    "species = set()\n",
    "visited = set()\n",
    "for shortName1 in frame1.shortName:\n",
    "    for shortName2 in frame1.shortName:\n",
    "            visited.add(shortName1)\n",
    "            if (shortName2 not in visited and\n",
    "                dist_table.ix[shortName1][shortName2] > 0.05 and \n",
    "                abs(frame1.ix[shortName1].gc -frame1.ix[shortName2].gc) < 0.5):\n",
    "                species.add(shortName2)"
   ]
  },
  {
   "cell_type": "code",
   "execution_count": 190,
   "metadata": {
    "collapsed": false
   },
   "outputs": [
    {
     "name": "stdout",
     "output_type": "stream",
     "text": [
      "[395, 325, 263, 145, 98, 41, 17]\n"
     ]
    }
   ],
   "source": [
    "# ## multiple threshold, alex's filter\n",
    "# nums = []\n",
    "# for dist_val in [0.005, 0.008, 0.01, 0.015, 0.02, 0.03, 0.04]:\n",
    "#     species = set()\n",
    "#     excluded = set()\n",
    "#     for shortName1 in frame1.shortName:\n",
    "#         if shortName1 not in excluded: \n",
    "#             species.add(shortName1)\n",
    "#         for shortName2 in frame1.shortName:\n",
    "#             if dist_table.ix[shortName1][shortName2] > 0 and dist_table.ix[shortName1][shortName2] < dist_val:\n",
    "#                 excluded.add(shortName2)\n",
    "#     nums.append(len(species))\n",
    "# print nums"
   ]
  },
  {
   "cell_type": "code",
   "execution_count": 193,
   "metadata": {
    "collapsed": false
   },
   "outputs": [
    {
     "data": {
      "text/plain": [
       "<matplotlib.text.Text at 0x7f8e0c682dd0>"
      ]
     },
     "execution_count": 193,
     "metadata": {},
     "output_type": "execute_result"
    },
    {
     "data": {
      "image/png": "[encoded data removed]",
      "text/plain": [
       "<matplotlib.figure.Figure at 0x7f8e0d035b90>"
      ]
     },
     "metadata": {},
     "output_type": "display_data"
    }
   ],
   "source": [
    "plt.plot([0.005, 0.008, 0.01, 0.015, 0.02, 0.03, 0.04], nums, 'ro')\n",
    "plt.title('distance filter')\n",
    "plt.xlabel('distance')\n",
    "plt.ylabel('number of points')"
   ]
  },
  {
   "cell_type": "code",
   "execution_count": 10,
   "metadata": {
    "collapsed": false
   },
   "outputs": [],
   "source": [
    "## favor RNA-Seq supported species\n",
    "supported_species = list(pd.read_csv('/home/richard/research/tests/Dec30RNA_SeqData/RNA_SeqSupportedSpecies.txt', header = None)[0])"
   ]
  },
  {
   "cell_type": "code",
   "execution_count": 42,
   "metadata": {
    "collapsed": false,
    "scrolled": false
   },
   "outputs": [],
   "source": [
    "## choose 0.015, old\n",
    "species = set(supported_species)\n",
    "whole_set = set()\n",
    "excluded = set()\n",
    "problem_species = set()\n",
    "for shortName1 in frame1.shortName:\n",
    "    if shortName1 not in excluded: \n",
    "        species.add(shortName1)\n",
    "    for shortName2 in frame1.shortName:\n",
    "        try:\n",
    "            if dist_table.ix[shortName1][shortName2] > 0 and dist_table.ix[shortName1][shortName2] < 0.015:\n",
    "                excluded.add(shortName2)\n",
    "        except:\n",
    "            problem_species.add(shortName1)"
   ]
  },
  {
   "cell_type": "code",
   "execution_count": 11,
   "metadata": {
    "collapsed": true
   },
   "outputs": [],
   "source": [
    "## choose 0.015, new\n",
    "species = set(supported_species)\n",
    "whole_set = set(frame1.shortName) - set(supported_species)\n",
    "excluded = set()\n",
    "problem_species = set()\n",
    "for shortName1 in whole_set:\n",
    "    if shortName1 not in excluded: \n",
    "        species.add(shortName1)\n",
    "    for shortName2 in whole_set:\n",
    "        try:\n",
    "            if dist_table.ix[shortName1][shortName2] > 0 and dist_table.ix[shortName1][shortName2] < 0.015:\n",
    "                excluded.add(shortName2)\n",
    "        except:\n",
    "            problem_species.add(shortName1)"
   ]
  },
  {
   "cell_type": "code",
   "execution_count": 12,
   "metadata": {
    "collapsed": false
   },
   "outputs": [
    {
     "name": "stdout",
     "output_type": "stream",
     "text": [
      "number of remaining species 191\n"
     ]
    }
   ],
   "source": [
    "print 'number of remaining species',len(species)"
   ]
  },
  {
   "cell_type": "code",
   "execution_count": 13,
   "metadata": {
    "collapsed": true
   },
   "outputs": [],
   "source": [
    "with open('/home/richard/research/tests/20160102RegressionFromAlexData/191species.csv','w') as f: \n",
    "    for name in sorted(list(species)): f.write(name+'\\n')"
   ]
  },
  {
   "cell_type": "code",
   "execution_count": 14,
   "metadata": {
    "collapsed": false,
    "scrolled": false
   },
   "outputs": [
    {
     "data": {
      "image/png": "[encoded data removed]",
      "text/plain": [
       "<matplotlib.figure.Figure at 0x7f215664d550>"
      ]
     },
     "metadata": {},
     "output_type": "display_data"
    }
   ],
   "source": [
    "filtered_data = plt.hist(filter(lambda x: x==x, frame1.ix[species].gc), bins = 50)\n",
    "plt.title('GC distribution(filtered)')\n",
    "plt.xlabel('GC')\n",
    "plt.ylabel('count')\n",
    "plt.show()"
   ]
  },
  {
   "cell_type": "code",
   "execution_count": 67,
   "metadata": {
    "collapsed": false
   },
   "outputs": [],
   "source": [
    "## make csv for alex\n",
    "filtered_gc = filter(lambda x: x==x, frame1.ix[species].gc)\n",
    "with open('/home/richard/research/tests/Dec30RNA_SeqData/filtered_hist_gc.csv','w') as f: \n",
    "    for gc in filtered_gc: f.write(str(gc)+\"\\n\")"
   ]
  },
  {
   "cell_type": "code",
   "execution_count": 11,
   "metadata": {
    "collapsed": false
   },
   "outputs": [
    {
     "data": {
      "image/png": "[encoded data removed]",
      "text/plain": [
       "<matplotlib.figure.Figure at 0x7f3758ae30d0>"
      ]
     },
     "metadata": {},
     "output_type": "display_data"
    }
   ],
   "source": [
    "plt.hist(frame1.gc, bins = 50)\n",
    "plt.title('GC distribution(original)')\n",
    "plt.xlabel('GC')\n",
    "plt.ylabel('count')\n",
    "plt.show()"
   ]
  },
  {
   "cell_type": "code",
   "execution_count": 68,
   "metadata": {
    "collapsed": true
   },
   "outputs": [],
   "source": [
    "with open('/home/richard/research/tests/Dec30RNA_SeqData/original_hist_gc.csv','w') as f: \n",
    "    for gc in frame1.gc: f.write(str(gc)+\"\\n\")"
   ]
  },
  {
   "cell_type": "code",
   "execution_count": 16,
   "metadata": {
    "collapsed": false
   },
   "outputs": [],
   "source": [
    "## update data here with Alex's version of codon table derived from my filtered species\n",
    "with open('/home/richard/research/tests/20160102RegressionFromAlexData/codons_for_meta.txt') as f1:\n",
    "    with open('/home/richard/research/tests/20160102RegressionFromAlexData/codons_for_meta_truncated.txt', 'w') as f2:\n",
    "        for line in f1: f2.write(line.rstrip()+'\\n')\n",
    "\n",
    "freq_table_frame1 = pd.read_csv('/home/richard/research/tests/20160102RegressionFromAlexData/codons_for_meta_truncated.txt', sep = '\\t',header=None)\n",
    "cols_name = list(frame1.columns); cols_name[1] = 'genome_gc'; cols_name.insert(2, 'cds_gc')\n",
    "freq_table_frame1.columns = cols_name\n",
    "\n",
    "freq_table_frame1.index = freq_table_frame1.shortName"
   ]
  },
  {
   "cell_type": "code",
   "execution_count": 17,
   "metadata": {
    "collapsed": false
   },
   "outputs": [],
   "source": [
    "## regression\n",
    "sub_table = freq_table_frame1.ix[[name for name in freq_table_frame1.shortName if name in species]]\n",
    "regression_models = [np.poly1d(np.polyfit(sub_table.cds_gc, sub_table[codon], 3)) for codon in CODONS]"
   ]
  },
  {
   "cell_type": "code",
   "execution_count": 18,
   "metadata": {
    "collapsed": false
   },
   "outputs": [],
   "source": [
    "def non_negative(number):\n",
    "    '''helper function, prevent negative regression result'''\n",
    "    if number < 0: return 0\n",
    "    else         : return number"
   ]
  },
  {
   "cell_type": "code",
   "execution_count": 19,
   "metadata": {
    "collapsed": true
   },
   "outputs": [],
   "source": [
    "# make table with regression model predicted codon frequency\n",
    "vecs = []\n",
    "for gc in range(25,71):\n",
    "    vec = map(lambda model: model(gc), regression_models)\n",
    "    vec = map(non_negative, vec)\n",
    "    vec.insert(0,gc)\n",
    "    vecs.append(vec)"
   ]
  },
  {
   "cell_type": "code",
   "execution_count": 20,
   "metadata": {
    "collapsed": false
   },
   "outputs": [],
   "source": [
    "# predicted codon freqs for frame1\n",
    "frame1_freq = pd.DataFrame(vecs, columns=sub_table.columns[2:])\n",
    "frame1_freq.index = frame1_freq.cds_gc"
   ]
  },
  {
   "cell_type": "code",
   "execution_count": 21,
   "metadata": {
    "collapsed": false,
    "scrolled": false
   },
   "outputs": [],
   "source": [
    "# visual check\n",
    "for codon in CODONS:\n",
    "    plt.figure()\n",
    "    plt.plot(frame1_freq.cds_gc, frame1_freq[codon], 'ro',label = 'approx.')\n",
    "    plt.plot(freq_table_frame1.cds_gc, freq_table_frame1[codon], 'o',label = 'real data', alpha = 0.1)\n",
    "    plt.title('Regression Check, {}'.format(codon))\n",
    "    plt.xlabel('CDS GC')\n",
    "    plt.ylabel('emission probability')\n",
    "    plt.ylim(0,0.1)\n",
    "    plt.legend()\n",
    "    plt.savefig('/home/richard/research/tests/20160102RegressionFromAlexData/frame1_predicted_plots/{}'.format(codon))\n",
    "    plt.close()"
   ]
  },
  {
   "cell_type": "code",
   "execution_count": 22,
   "metadata": {
    "collapsed": true
   },
   "outputs": [],
   "source": [
    "## make codon for 2nd and 3rd frame\n",
    "## 2nd frame\n",
    "def get_freq_2nd_frame(vec):\n",
    "    di_nuc = {item:0 for item in DI_NUC}\n",
    "    nuc = {item:0 for item in NUC}\n",
    "    for codon in CODONS:\n",
    "        di_nuc[codon[1:]] += vec[codon]\n",
    "        nuc[codon[0]] += vec[codon]\n",
    "    res = [di_nuc[codon[1:]]*nuc[codon[0]] for codon in CODONS]; res.insert(0,vec[0])\n",
    "    return res\n",
    "\n",
    "## 3rd frame\n",
    "def get_freq_3rd_frame(vec):\n",
    "    di_nuc = {item:0 for item in DI_NUC}\n",
    "    nuc = {item:0 for item in NUC}\n",
    "    for codon in CODONS:\n",
    "        di_nuc[codon[:-1]] += vec[codon]\n",
    "        nuc[codon[-1]] += vec[codon]\n",
    "    res = [di_nuc[codon[:-1]]*nuc[codon[-1]] for codon in CODONS]; res.insert(0,vec[0])\n",
    "    return res"
   ]
  },
  {
   "cell_type": "code",
   "execution_count": 23,
   "metadata": {
    "collapsed": true
   },
   "outputs": [],
   "source": [
    "gc_range = xrange(25,70)"
   ]
  },
  {
   "cell_type": "code",
   "execution_count": 24,
   "metadata": {
    "collapsed": true
   },
   "outputs": [],
   "source": [
    "frame2_freq = pd.DataFrame([get_freq_2nd_frame(frame1_freq.ix[gc]) for gc in gc_range], columns=frame1_freq.columns)"
   ]
  },
  {
   "cell_type": "code",
   "execution_count": 25,
   "metadata": {
    "collapsed": true
   },
   "outputs": [],
   "source": [
    "frame3_freq = pd.DataFrame([get_freq_3rd_frame(frame1_freq.ix[gc]) for gc in gc_range], columns=frame1_freq.columns)"
   ]
  },
  {
   "cell_type": "code",
   "execution_count": 26,
   "metadata": {
    "collapsed": true
   },
   "outputs": [],
   "source": [
    "## write to file for alex\n",
    "frame1_freq.to_csv('/home/richard/research/tests/20160102RegressionFromAlexData/frame1_approx_table.csv', index = False)\n",
    "frame2_freq.to_csv('/home/richard/research/tests/20160102RegressionFromAlexData/frame2_approx_table.csv', index = False)\n",
    "frame3_freq.to_csv('/home/richard/research/tests/20160102RegressionFromAlexData/frame3_approx_table.csv', index = False)"
   ]
  }
 ],
 "metadata": {
  "kernelspec": {
   "display_name": "Python 2",
   "language": "python",
   "name": "python2"
  },
  "language_info": {
   "codemirror_mode": {
    "name": "ipython",
    "version": 2
   },
   "file_extension": ".py",
   "mimetype": "text/x-python",
   "name": "python",
   "nbconvert_exporter": "python",
   "pygments_lexer": "ipython2",
   "version": "2.7.10"
  }
 },
 "nbformat": 4,
 "nbformat_minor": 0
}
