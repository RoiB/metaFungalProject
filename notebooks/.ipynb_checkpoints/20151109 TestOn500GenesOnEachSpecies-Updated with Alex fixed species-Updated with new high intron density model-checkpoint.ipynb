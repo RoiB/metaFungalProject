{
 "cells": [
  {
   "cell_type": "code",
   "execution_count": 1,
   "metadata": {
    "collapsed": true
   },
   "outputs": [],
   "source": [
    "from Bio import SeqIO\n",
    "import subprocess\n",
    "import pandas as pd"
   ]
  },
  {
   "cell_type": "code",
   "execution_count": 5,
   "metadata": {
    "collapsed": false
   },
   "outputs": [
    {
     "ename": "NameError",
     "evalue": "name 'shortNames' is not defined",
     "output_type": "error",
     "traceback": [
      "\u001b[1;31m---------------------------------------------------------------------------\u001b[0m",
      "\u001b[1;31mNameError\u001b[0m                                 Traceback (most recent call last)",
      "\u001b[1;32m<ipython-input-5-566bbe681f90>\u001b[0m in \u001b[0;36m<module>\u001b[1;34m()\u001b[0m\n\u001b[0;32m      2\u001b[0m \u001b[0mmodelLowLoc\u001b[0m \u001b[1;33m=\u001b[0m \u001b[1;34m'/home/richard/research/tests/Nov13ModelWithNewIntronDensity/modelSetHigh/'\u001b[0m\u001b[1;33m\u001b[0m\u001b[0m\n\u001b[0;32m      3\u001b[0m \u001b[0mscript\u001b[0m \u001b[1;33m=\u001b[0m \u001b[1;34m''\u001b[0m\u001b[1;33m\u001b[0m\u001b[0m\n\u001b[1;32m----> 4\u001b[1;33m \u001b[1;32mfor\u001b[0m \u001b[0mshortName\u001b[0m \u001b[1;32min\u001b[0m \u001b[0mshortNames\u001b[0m\u001b[1;33m:\u001b[0m\u001b[1;33m\u001b[0m\u001b[0m\n\u001b[0m\u001b[0;32m      5\u001b[0m     command = ('python /home/richard/research/tools/gmhmme3MultiFastaV1.py {}MetaFungal_model_{}_high.txt {}{}_100genes.fasta {}_100.gtf\\n'\n\u001b[0;32m      6\u001b[0m                .format(modelLowLoc, max(30, gc[shortName]),testSetLocation, shortName, shortName))\n",
      "\u001b[1;31mNameError\u001b[0m: name 'shortNames' is not defined"
     ]
    }
   ],
   "source": [
    "### run gmhmme3 multi-fasta version, high intron density\n",
    "modelLowLoc = '/home/richard/research/tests/Nov13ModelWithNewIntronDensity/modelSetHigh/'\n",
    "script = ''\n",
    "for shortName in shortNames:\n",
    "    command = ('python /home/richard/research/tools/gmhmme3MultiFastaV1.py {}MetaFungal_model_{}_high.txt {}{}_100genes.fasta {}_100.gtf\\n'\n",
    "               .format(modelLowLoc, max(30, gc[shortName]),testSetLocation, shortName, shortName))\n",
    "    script += command\n",
    "    print command\n",
    "with open('/home/richard/research/tests/Nov13ModelWithNewIntronDensity/test100outputHigh/run_test.sh','w') as f: f.write(script)"
   ]
  },
  {
   "cell_type": "code",
   "execution_count": null,
   "metadata": {
    "collapsed": true
   },
   "outputs": [],
   "source": [
    "# ##### eval out put result\n",
    "# location = '/home/richard/research/tests/Oct30NewTestSet/test100outputHigh/'\n",
    "# folders = os.listdir(location)\n",
    "# outputLocationLow = '/home/richard/research/tests/Oct30NewTestSet/evalresultHigh/'\n",
    "\n",
    "# script = ''\n",
    "# for shortName in shortNames:\n",
    "#     command = ('perl evaluate_gtf.pl {}{}_100genes.gtf {}{}_100.gtf/{}_100.gtf_fullPrediction.gtf > {}{}.eval.txt\\n'\n",
    "#                .format(testSetLocation, shortName, location, shortName, shortName, outputLocationLow,shortName))\n",
    "#     print command\n",
    "#     script += command\n",
    "# with open('/home/richard/research/tests/Oct30NewTestSet/eval_lite/eval_high.sh','w') as f: f.write(script)"
   ]
  }
 ],
 "metadata": {
  "kernelspec": {
   "display_name": "Python 2",
   "language": "python",
   "name": "python2"
  },
  "language_info": {
   "codemirror_mode": {
    "name": "ipython",
    "version": 2
   },
   "file_extension": ".py",
   "mimetype": "text/x-python",
   "name": "python",
   "nbconvert_exporter": "python",
   "pygments_lexer": "ipython2",
   "version": "2.7.10"
  }
 },
 "nbformat": 4,
 "nbformat_minor": 0
}
