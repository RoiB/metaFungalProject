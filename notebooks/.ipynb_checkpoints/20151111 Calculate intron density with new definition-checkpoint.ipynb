{
 "cells": [
  {
   "cell_type": "code",
   "execution_count": 1,
   "metadata": {
    "collapsed": true
   },
   "outputs": [],
   "source": [
    "import sys\n",
    "sys.path.append('/home/richard/research/tools/')\n",
    "import re"
   ]
  },
  {
   "cell_type": "code",
   "execution_count": 124,
   "metadata": {
    "collapsed": true
   },
   "outputs": [],
   "source": [
    "import moduleIntron\n",
    "import pandas as pd"
   ]
  },
  {
   "cell_type": "code",
   "execution_count": 51,
   "metadata": {
    "collapsed": true
   },
   "outputs": [],
   "source": [
    "## generate eval evalute mutigene gtf\n",
    "source = \"/home/richard/research/tests/Nov9UpdatedTestSetAndTest/goodMultiExonGtf/\"\n",
    "filenames = os.listdir(source)"
   ]
  },
  {
   "cell_type": "code",
   "execution_count": 52,
   "metadata": {
    "collapsed": true
   },
   "outputs": [],
   "source": [
    "info = pd.read_csv('/home/richard/research/data_small/fullTableInfoGff3GffRNAESwithDensity20151109.csv')\n",
    "info.index = info.shortName"
   ]
  },
  {
   "cell_type": "code",
   "execution_count": 53,
   "metadata": {
    "collapsed": false
   },
   "outputs": [],
   "source": [
    "shortNames = map(lambda x: x.split('_GeneCatalog')[0], filenames)"
   ]
  },
  {
   "cell_type": "code",
   "execution_count": 54,
   "metadata": {
    "collapsed": false
   },
   "outputs": [],
   "source": [
    "multiExonIntronDensity = {}\n",
    "for filename in filenames:\n",
    "    try:\n",
    "        shortName = filename.split('_GeneCatalog')[0]\n",
    "        density = moduleIntron.get_intron_density(source+filename)\n",
    "        multiExonIntronDensity[shortName] = density\n",
    "    except:\n",
    "        print 'problem with', filename"
   ]
  },
  {
   "cell_type": "code",
   "execution_count": 55,
   "metadata": {
    "collapsed": false
   },
   "outputs": [],
   "source": [
    "sub_info = info[['shortName','longName','gc','intronDensityGff']].ix[shortNames]"
   ]
  },
  {
   "cell_type": "code",
   "execution_count": 56,
   "metadata": {
    "collapsed": true
   },
   "outputs": [],
   "source": [
    "sub_info['multiExonIntronDensity'] = [multiExonIntronDensity[shortName] for shortName in sub_info.index]"
   ]
  },
  {
   "cell_type": "code",
   "execution_count": 57,
   "metadata": {
    "collapsed": true
   },
   "outputs": [],
   "source": [
    "## check ES intron density\n",
    "alex_path = '/storage3/w/alexl/F/'"
   ]
  },
  {
   "cell_type": "code",
   "execution_count": 58,
   "metadata": {
    "collapsed": false
   },
   "outputs": [],
   "source": [
    "ESIntronDensity = {}\n",
    "for shortName in shortNames:\n",
    "    density = moduleIntron.get_intron_density(alex_path+shortName+'/ES/genemark.gtf')\n",
    "    ESIntronDensity[shortName] = density"
   ]
  },
  {
   "cell_type": "code",
   "execution_count": 59,
   "metadata": {
    "collapsed": true
   },
   "outputs": [],
   "source": [
    "sub_info['ESIntronDensity'] = [ESIntronDensity[shortName] for shortName in sub_info.index]"
   ]
  },
  {
   "cell_type": "code",
   "execution_count": 60,
   "metadata": {
    "collapsed": false
   },
   "outputs": [],
   "source": [
    "sub_info = sub_info.ix[sorted(sub_info.index)]"
   ]
  },
  {
   "cell_type": "code",
   "execution_count": 62,
   "metadata": {
    "collapsed": false
   },
   "outputs": [],
   "source": [
    "sub_info[['shortName','longName','gc','intronDensityGff', 'ESIntronDensity', 'multiExonIntronDensity']].to_csv('/home/richard/research/tests/Nov11NewIntronDensity/testSetInfoNew.csv', index = False)"
   ]
  },
  {
   "cell_type": "code",
   "execution_count": null,
   "metadata": {
    "collapsed": true
   },
   "outputs": [],
   "source": [
    "## debug"
   ]
  },
  {
   "cell_type": "code",
   "execution_count": 237,
   "metadata": {
    "collapsed": true
   },
   "outputs": [],
   "source": [
    "test = \"/home/richard/research/tests/Nov9UpdatedTestSetAndTest/goodMultiExonGtf/Aspoch1_GeneCatalog_genes_20140127.f.good.multiExon.gtf\"\n",
    "test1 = '/storage3/w/alexl/F/Aspoch1/arx/Aspoch1_GeneCatalog_genes_20140127.gff'\n",
    "test2 = '/storage3/w/richard/meta2015/finalTestSet20151002/gtf_converted_from_gff/Aspoch1_GeneCatalog_genes_20140127.gtf'\n",
    "test3 = '/home/richard/research/tests/Nov11NewIntronDensity/test.gtf'"
   ]
  },
  {
   "cell_type": "code",
   "execution_count": 1,
   "metadata": {
    "collapsed": true
   },
   "outputs": [],
   "source": [
    "def get_intron_density(gtfFile):\n",
    "    '''\n",
    "    output: intron density, multi-exon included only\n",
    "    '''\n",
    "    gene = set()\n",
    "    exon_number = 0\n",
    "    CDS_number = 0 \n",
    "    with open(gtfFile) as f:\n",
    "        \n",
    "        for line in f:\n",
    "            \n",
    "            items = line.split()\n",
    "            if 'exon' in items[2]:\n",
    "                exon_number += 1\n",
    "            if 'CDS' in items[2]:\n",
    "                CDS_number += 1\n",
    "            gene.add(re.sub('\\;','',items[9]))\n",
    "    return 1. * (exon_number - len(gene)) / len(gene)"
   ]
  },
  {
   "cell_type": "code",
   "execution_count": 225,
   "metadata": {
    "collapsed": false
   },
   "outputs": [],
   "source": [
    "def get_annotation_counts(gtfFile):\n",
    "    '''\n",
    "    input: eval package evaluate result with it self.\n",
    "    output: intron density\n",
    "    '''\n",
    "    gene_class = {}\n",
    "    with open(gtfFile) as f:\n",
    "        for line in f:\n",
    "            items = line.split()\n",
    "            key = re.sub('\\;','',items[9])\n",
    "            if key not in gene_class:\n",
    "                gene_class[key] = {'exon': 0, 'CDS':0}\n",
    "    \n",
    "    with open(gtfFile) as f:\n",
    "        for line in f: \n",
    "            items = line.split()\n",
    "            key = re.sub('\\;','',items[9])\n",
    "            if 'exon' in items[2]:\n",
    "                gene_class[key]['exon']+=1\n",
    "            if 'CDS' in items[2]:\n",
    "                gene_class[key]['CDS']+=1\n",
    "    \n",
    "    exon_number = sum([gene_class[key]['exon'] for key in gene_class])\n",
    "    CDS_number = sum([gene_class[key]['CDS'] for key in gene_class])\n",
    "    multi_exon_gene = [key for key in gene_class if gene_class[key]['exon']>1 or gene_class[key]['CDS']>1]\n",
    "    print '#gene',len(gene_class),'\\n#exon',exon_number,'\\n#CDS',CDS_number\n",
    "    print '#single exon gene', len(gene_class)-len(multi_exon_gene), '\\n#multi-exon gene', len(multi_exon_gene)\n",
    "    \n",
    "    "
   ]
  },
  {
   "cell_type": "code",
   "execution_count": 2,
   "metadata": {
    "collapsed": true
   },
   "outputs": [],
   "source": [
    "def get_intron_density(gtfFile):\n",
    "    '''\n",
    "    output: intron density, multi-exon included only\n",
    "    '''\n",
    "    gene_class = {}\n",
    "    with open(gtfFile) as f:\n",
    "        for line in f:\n",
    "            items = line.split()\n",
    "            key = re.sub('\\;','',items[9])\n",
    "            if key not in gene_class:\n",
    "                gene_class[key] = {'exon': 0, 'CDS':0}\n",
    "    \n",
    "    with open(gtfFile) as f:\n",
    "        for line in f: \n",
    "            items = line.split()\n",
    "            key = re.sub('\\;','',items[9])\n",
    "            if 'exon' in items[2]:\n",
    "                gene_class[key]['exon']+=1\n",
    "            if 'CDS' in items[2]:\n",
    "                gene_class[key]['CDS']+=1\n",
    "    \n",
    "    exon_number = sum([gene_class[key]['exon'] for key in gene_class])\n",
    "    CDS_number = sum([gene_class[key]['CDS'] for key in gene_class])\n",
    "    multi_exon_gene = [key for key in gene_class if gene_class[key]['exon']>1 or gene_class[key]['CDS']>1]\n",
    "    return 1.*(exon_number - len(gene_class)) / len(multi_exon_gene)"
   ]
  },
  {
   "cell_type": "code",
   "execution_count": 246,
   "metadata": {
    "collapsed": true
   },
   "outputs": [],
   "source": [
    "def filter_out_single_gene(inputFile):\n",
    "    '''\n",
    "    Filter out single gene and keep multi-fasta gene from gtf annotation\n",
    "    '''\n",
    "    gene_counter = {}\n",
    "    annotation_container = {}\n",
    "    with open(inputFile) as f:\n",
    "        for line in f:\n",
    "            elems = line.split()\n",
    "            key = re.sub('\\;','',elems[9])\n",
    "            gene_counter[key] = [0,0] #[exon number, CDS number]\n",
    "            annotation_container[key] = []\n",
    "    with open(inputFile) as f:\n",
    "        for line in f:\n",
    "            elems = line.split()\n",
    "            key = re.sub('\\;','',elems[9])\n",
    "            annotation_container[key].append(line)\n",
    "            if 'exon' in elems[2]:\n",
    "                gene_counter[key][0] += 1\n",
    "            if 'CDS' in elems[2]:\n",
    "                gene_counter[key][1] += 1\n",
    "    counter = 0\n",
    "#     with open('/home/richard/research/tests/Nov11NewIntronDensity/test.gtf','w') as f1:\n",
    "#         for key in gene_counter:\n",
    "#             if gene_counter[key][0] > 1 or gene_counter[key][1] > 1:\n",
    "#                 counter += 1\n",
    "#                 for line in annotation_container[key]:\n",
    "#                     f1.write(line)\n",
    "#         print counter, 'genes wrote'\n",
    "                    \n",
    "                \n",
    "    exon_number = sum([gene_counter[key][0] for key in gene_counter])\n",
    "    CDS_number = sum([gene_counter[key][1] for key in gene_counter])\n",
    "    multi_exon_gene = [key for key in gene_counter if gene_counter[key][0]>1 or gene_counter[key][1]>1]\n",
    "    print len(gene_counter), exon_number, CDS_number\n",
    "    print len(multi_exon_gene)\n",
    "    print multi_exon_gene[:10]\n",
    "#     print annotation_container[annotation_container.keys()[0]][0]"
   ]
  },
  {
   "cell_type": "code",
   "execution_count": 247,
   "metadata": {
    "collapsed": false,
    "scrolled": true
   },
   "outputs": [
    {
     "name": "stdout",
     "output_type": "stream",
     "text": [
      "7239 27095 26593\n",
      "7239\n",
      "['\"estExt_Genewise1Plus.C_8_t10340\"', '\"fgenesh1_pm.10_x_23\"', '\"fgenesh1_pm.3_x_474\"', '\"estExt_Genemark1.C_7_t10101\"', '\"CE235033_2662\"', '\"fgenesh1_kg.1_x_613_x_Locus3414v1rpkm38.97\"', '\"estExt_Genewise1.C_2_t60304\"', '\"fgenesh1_kg.8_x_145_x_Locus5575v1rpkm16.62\"', '\"estExt_fgenesh1_pm.C_5_t10261\"', '\"fgenesh1_kg.10_x_38_x_Locus8979v2rpkm3.48\"']\n"
     ]
    }
   ],
   "source": [
    "filter_out_single_gene(test3)"
   ]
  },
  {
   "cell_type": "code",
   "execution_count": 248,
   "metadata": {
    "collapsed": false
   },
   "outputs": [
    {
     "name": "stdout",
     "output_type": "stream",
     "text": [
      "8924 28780 28278\n",
      "7239\n",
      "['\"estExt_Genewise1Plus.C_8_t10340\"', '\"fgenesh1_pm.10_x_23\"', '\"fgenesh1_pm.3_x_474\"', '\"estExt_Genemark1.C_7_t10101\"', '\"estExt_Genewise1.C_5_t30121\"', '\"fgenesh1_kg.1_x_613_x_Locus3414v1rpkm38.97\"', '\"estExt_Genewise1.C_2_t60304\"', '\"fgenesh1_kg.8_x_145_x_Locus5575v1rpkm16.62\"', '\"fgenesh1_kg.1_x_1951_x_Locus8521v1rpkm5.16\"', '\"fgenesh1_kg.10_x_38_x_Locus8979v2rpkm3.48\"']\n"
     ]
    }
   ],
   "source": [
    "filter_out_single_gene(test2)"
   ]
  },
  {
   "cell_type": "code",
   "execution_count": 217,
   "metadata": {
    "collapsed": false
   },
   "outputs": [
    {
     "name": "stdout",
     "output_type": "stream",
     "text": [
      "#gene 5068 \n",
      "#exon 17852 \n",
      "#CDS 17852\n",
      "#single exon gene 0 \n",
      "#multi-exon gene 5068\n"
     ]
    }
   ],
   "source": [
    "get_annotation_counts(test)"
   ]
  },
  {
   "cell_type": "code",
   "execution_count": 209,
   "metadata": {
    "collapsed": false
   },
   "outputs": [
    {
     "name": "stdout",
     "output_type": "stream",
     "text": [
      "#gene 8924 \n",
      "#exon 28780 \n",
      "#CDS 28278\n",
      "#single exon gene 1685 \n",
      "#multi-exon gene 7239\n"
     ]
    }
   ],
   "source": [
    "get_annotation_counts(test1)"
   ]
  },
  {
   "cell_type": "code",
   "execution_count": 210,
   "metadata": {
    "collapsed": false
   },
   "outputs": [
    {
     "name": "stdout",
     "output_type": "stream",
     "text": [
      "#gene 8924 \n",
      "#exon 28780 \n",
      "#CDS 28278\n",
      "#single exon gene 1685 \n",
      "#multi-exon gene 7239\n"
     ]
    }
   ],
   "source": [
    "get_annotation_counts(test2)"
   ]
  }
 ],
 "metadata": {
  "kernelspec": {
   "display_name": "Python 2",
   "language": "python",
   "name": "python2"
  },
  "language_info": {
   "codemirror_mode": {
    "name": "ipython",
    "version": 2
   },
   "file_extension": ".py",
   "mimetype": "text/x-python",
   "name": "python",
   "nbconvert_exporter": "python",
   "pygments_lexer": "ipython2",
   "version": "2.7.10"
  }
 },
 "nbformat": 4,
 "nbformat_minor": 0
}
