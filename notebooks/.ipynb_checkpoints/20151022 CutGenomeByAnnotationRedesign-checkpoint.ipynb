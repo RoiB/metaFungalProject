{
 "cells": [
  {
   "cell_type": "code",
   "execution_count": 10,
   "metadata": {
    "collapsed": true
   },
   "outputs": [],
   "source": [
    "## Test model is on Conli1\n",
    "from Bio import SeqIO"
   ]
  },
  {
   "cell_type": "code",
   "execution_count": 11,
   "metadata": {
    "collapsed": true
   },
   "outputs": [],
   "source": [
    "source = '/home/richard/research/tests/Oct22CutGenomeByAnnotationReDesign/'\n",
    "target = '/home/richard/research/tests/Oct22CutGenomeByAnnotationReDesign/temp/'"
   ]
  },
  {
   "cell_type": "code",
   "execution_count": 12,
   "metadata": {
    "collapsed": false
   },
   "outputs": [],
   "source": [
    "def filter_fasta(fastaFile, inter_len, annotationFile, fastaFileFiltered, annotationFileUpdated):\n",
    "    '''\n",
    "    Wrapper function to filter multifasta file according to annotation\n",
    "    inter_len: parameter that define the intergenic region length to be cut\n",
    "    '''\n",
    "    seqRecords = read_fasta(fastaFile)\n",
    "    annotation_boudary, annotation_items = read_annotation_location(annotationFile)\n",
    "    # deal with fasta\n",
    "    SeqRecords_filtered = (filter(lambda x: x!=None, \\\n",
    "                                 map(lambda x: cut_fasta_by_annotation(x,annotation_boudary,inter_len),seqRecords)))\n",
    "    SeqIO.write(SeqRecords_filtered, fastaFileFiltered, \"fasta\")\n",
    "    # deal with annotation\n",
    "    items_updated = calculate_location_shift(annotation_items)\n",
    "    update_annotation(items_updated,inter_len,annotationFile,annotationFileUpdated)\n",
    "    print \"The filtered fasta file is stored at location:\", fastaFileFiltered\n",
    "    print \"The filtered annotation file is stored at location:\", annotationFileUpdated"
   ]
  },
  {
   "cell_type": "code",
   "execution_count": 13,
   "metadata": {
    "collapsed": true
   },
   "outputs": [],
   "source": [
    "def read_annotation_location(annotationFile):\n",
    "    '''Version 0.1, cut start and stop region'''\n",
    "    gene_info = {}\n",
    "    with open(annotationFile) as f:\n",
    "        for line in f:\n",
    "            if \"start_codon\" in line or \"stop_codon\" in line:\n",
    "                info = line.split()\n",
    "                fasta_id = info[0]\n",
    "                gene_id = info[9]\n",
    "                key = (fasta_id,gene_id)\n",
    "                if key not in gene_info:\n",
    "                    gene_info[key] = []                \n",
    "                \n",
    "                gene_info[key].append(int(info[3]))\n",
    "                gene_info[key].append(int(info[4]))\n",
    "    for key in gene_info:\n",
    "        locs = sorted(gene_info[key])\n",
    "        try:\n",
    "            gene_info[key] = (locs[0],locs[3])\n",
    "        except:\n",
    "            print 'there is a problem with: ', key\n",
    "    items = gene_info.items()\n",
    "    result = map(lambda x: (x[0][0],x[1]),items)\n",
    "    return sorted(result), sorted(items)"
   ]
  },
  {
   "cell_type": "code",
   "execution_count": 14,
   "metadata": {
    "collapsed": true
   },
   "outputs": [],
   "source": [
    "def calculate_location_shift(annotation_items):\n",
    "    '''\n",
    "    input tuple: (key, (start,end))\n",
    "    return left_shift_lengths    \n",
    "    '''\n",
    "    #add length need to shift left and gene length for counter prep\n",
    "    items = map(lambda x: (x[0], x[1],x[1][0]-1,x[1][1]-x[1][0]+1), annotation_items)\n",
    "    # calculate shift for each gene\n",
    "    counter = {fasta:0 for fasta in set(map(lambda x: x[0][0],items))}\n",
    "\n",
    "    items_updated = []\n",
    "    for item in items:\n",
    "        key = item[0]\n",
    "        first_left_shift = item[2]\n",
    "        gene_length = item[3]\n",
    "        \n",
    "        left_shift = first_left_shift-counter[key[0]]\n",
    "        counter[key[0]] += gene_length\n",
    "        items_updated.append((key,left_shift,(item[1][0]-left_shift, item[1][1]-left_shift))) #verification purpose\n",
    "    return items_updated"
   ]
  },
  {
   "cell_type": "code",
   "execution_count": 15,
   "metadata": {
    "collapsed": true
   },
   "outputs": [],
   "source": [
    "def update_annotation(items_updated,inter_len,annotationFile,annotationFileUpdated):\n",
    "    '''\n",
    "    take in tuple of (key, left_shift)\n",
    "    output update annotationFile\n",
    "    '''\n",
    "    #transform tuples into dictionary\n",
    "    lookup_table = {key:val for key,val,_ in items_updated}\n",
    "    with open(annotationFile) as f:\n",
    "        with open(annotationFileUpdated,'w') as f1:\n",
    "            for line in f:\n",
    "                info = line.split()\n",
    "                data = line.split('\\t')\n",
    "                key = (info[0],info[9])\n",
    "                shift_val = lookup_table[key]\n",
    "                data[3] = str(int(data[3])- shift_val+inter_len)\n",
    "                data[4] = str(int(data[4])- shift_val+inter_len)\n",
    "                f1.write('\\t'.join(data))"
   ]
  },
  {
   "cell_type": "code",
   "execution_count": 37,
   "metadata": {
    "collapsed": true
   },
   "outputs": [],
   "source": [
    "def cut_fasta_by_annotation(seqRecord, filteredAnnotation, inter_len):\n",
    "    '''\n",
    "    20151003\n",
    "    The function take in one fasta file(seq record) and all the filtered annotation\n",
    "    The (multi)fasta file is cut by the CDS location of the annotation\n",
    "    return seq record cut by location\n",
    "    '''\n",
    "    idx = seqRecord.id\n",
    "    locations = filter(lambda x: x[0] == idx,filteredAnnotation)\n",
    "#     print sum(map(lambda (_,(a,b)): b-a+1,locations)) #check cut accuracy; checked correct\n",
    "    if len(locations) == 0:\n",
    "        return None\n",
    "    pieces = map(lambda (_,(start,end)): seqRecord[end:end+inter_len]+seqRecord[start-1:end],locations)\n",
    "    return reduce(lambda a,b: a+b, pieces)"
   ]
  },
  {
   "cell_type": "code",
   "execution_count": 38,
   "metadata": {
    "collapsed": true
   },
   "outputs": [],
   "source": [
    "def read_fasta(fastaFile): return list(SeqIO.parse(fastaFile,'fasta'))      "
   ]
  },
  {
   "cell_type": "code",
   "execution_count": 39,
   "metadata": {
    "collapsed": false
   },
   "outputs": [],
   "source": [
    "##################################  Test  ##################################\n",
    "annotation = '/home/richard/research/tests/Oct22CutGenomeByAnnotationReDesign/Conli1_GeneCatalog_genes_20130808.f.good.NODE_1580.gtf'\n",
    "genome = '/home/richard/research/tests/Oct22CutGenomeByAnnotationReDesign/Conli1_NODE_1580.fasta'\n",
    "\n",
    "outputAnnotation = '/home/richard/research/tests/Oct22CutGenomeByAnnotationReDesign/Conli1_GeneCatalog_genes_20130808.f.good.NODE_1580.cut.gtf'\n",
    "outputGenome = '/home/richard/research/tests/Oct22CutGenomeByAnnotationReDesign/Conli1_NODE_1580.cut.fasta'"
   ]
  },
  {
   "cell_type": "code",
   "execution_count": 40,
   "metadata": {
    "collapsed": false
   },
   "outputs": [
    {
     "name": "stdout",
     "output_type": "stream",
     "text": [
      "The filtered fasta file is stored at location: /home/richard/research/tests/Oct22CutGenomeByAnnotationReDesign/Conli1_NODE_1580.cut.fasta\n",
      "The filtered annotation file is stored at location: /home/richard/research/tests/Oct22CutGenomeByAnnotationReDesign/Conli1_GeneCatalog_genes_20130808.f.good.NODE_1580.cut.gtf\n"
     ]
    }
   ],
   "source": [
    "filter_fasta(genome,100,annotation,outputGenome,outputAnnotation)"
   ]
  },
  {
   "cell_type": "code",
   "execution_count": null,
   "metadata": {
    "collapsed": true
   },
   "outputs": [],
   "source": [
    "# if __name__ == '__main__':\n",
    "#     if len(sys.argv) != 5:\n",
    "#         print \"please provide fastaFile, annotationFile, fastaFileFiltered, annotationFileUpdated\"\n",
    "#     else:\n",
    "#         filter_fasta(sys.argv[1], sys.argv[2],sys.argv[3],sys.argv[4])"
   ]
  },
  {
   "cell_type": "code",
   "execution_count": 26,
   "metadata": {
    "collapsed": false
   },
   "outputs": [],
   "source": [
    "test = read_fasta(genome)[0]"
   ]
  },
  {
   "cell_type": "code",
   "execution_count": 31,
   "metadata": {
    "collapsed": false
   },
   "outputs": [
    {
     "data": {
      "text/plain": [
       "SeqRecord(seq=Seq('CCTCTATTTTTTGCCAGCCTTGGGCAGGTACTCTAGTGGGTTCAGGGGACTCAA...GCC', SingleLetterAlphabet()), id='NODE_1580', name='NODE_1580', description='NODE_1580', dbxrefs=[])"
      ]
     },
     "execution_count": 31,
     "metadata": {},
     "output_type": "execute_result"
    }
   ],
   "source": [
    "test"
   ]
  },
  {
   "cell_type": "code",
   "execution_count": 35,
   "metadata": {
    "collapsed": false
   },
   "outputs": [
    {
     "data": {
      "text/plain": [
       "SeqRecord(seq=Seq('CCTATC', SingleLetterAlphabet()), id='NODE_1580', name='NODE_1580', description='NODE_1580', dbxrefs=[])"
      ]
     },
     "execution_count": 35,
     "metadata": {},
     "output_type": "execute_result"
    }
   ],
   "source": [
    "test[:3]+\"ATC\""
   ]
  },
  {
   "cell_type": "code",
   "execution_count": 33,
   "metadata": {
    "collapsed": false
   },
   "outputs": [
    {
     "data": {
      "text/plain": [
       "SeqRecord(seq=Seq('CTA', SingleLetterAlphabet()), id='NODE_1580', name='NODE_1580', description='NODE_1580', dbxrefs=[])"
      ]
     },
     "execution_count": 33,
     "metadata": {},
     "output_type": "execute_result"
    }
   ],
   "source": [
    "test[3:6]"
   ]
  },
  {
   "cell_type": "code",
   "execution_count": 34,
   "metadata": {
    "collapsed": false
   },
   "outputs": [
    {
     "data": {
      "text/plain": [
       "SeqRecord(seq=Seq('CCTCTA', SingleLetterAlphabet()), id='NODE_1580', name='NODE_1580', description='NODE_1580', dbxrefs=[])"
      ]
     },
     "execution_count": 34,
     "metadata": {},
     "output_type": "execute_result"
    }
   ],
   "source": [
    "test[:3]+test[3:6]"
   ]
  },
  {
   "cell_type": "code",
   "execution_count": null,
   "metadata": {
    "collapsed": true
   },
   "outputs": [],
   "source": []
  }
 ],
 "metadata": {
  "kernelspec": {
   "display_name": "Python 2",
   "language": "python",
   "name": "python2"
  },
  "language_info": {
   "codemirror_mode": {
    "name": "ipython",
    "version": 2
   },
   "file_extension": ".py",
   "mimetype": "text/x-python",
   "name": "python",
   "nbconvert_exporter": "python",
   "pygments_lexer": "ipython2",
   "version": "2.7.10"
  }
 },
 "nbformat": 4,
 "nbformat_minor": 0
}
