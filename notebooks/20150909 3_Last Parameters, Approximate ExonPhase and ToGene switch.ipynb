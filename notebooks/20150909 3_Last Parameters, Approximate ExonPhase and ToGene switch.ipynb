{
 "cells": [
  {
   "cell_type": "code",
   "execution_count": 10,
   "metadata": {
    "collapsed": false
   },
   "outputs": [],
   "source": [
    "'''\n",
    "Approximate the last part of the heuristic model, which take about 0.5 to 1.5 percent of the accuracy\n",
    "'''\n",
    "import os\n",
    "import pandas as pd\n",
    "import numpy as np\n",
    "\n",
    "\n",
    "# The path where all the GeneMark-ES 4th run models located\n",
    "modelFilePath = \"/home/richard/largeDataSet/ES_Run_modfileAug2015/\"\n",
    "modelFileNames = os.listdir(modelFilePath)\n",
    "\n",
    "class ESParamParse():\n",
    "    \"\"\"Take in 4th run of model file as text and extract info\"\"\"\n",
    "    _DISTR_TYPE= {\n",
    "        'INITIAL_EXON_PHASE'  :('$INITIAL_EXON_PHASE', range(1,4)),\n",
    "        'TERMINAL_EXON_PHASE'  :('$TERMINAL_EXON_PHASE', range(1,4)),\n",
    "    }\n",
    "    \n",
    "    def __init__(self, filename):\n",
    "        self.f = open(filename)\n",
    "    def close(self):\n",
    "        '''close file connection'''\n",
    "        self.f.close()\n",
    "    def getDistribution(self, distrType = 'INITIAL_EXON_PHASE'):\n",
    "\n",
    "        \n",
    "        # decompose the distrbutionType varibable to distribution type/tag and min_max length range\n",
    "        TAG, RANGE = self._DISTR_TYPE[distrType]\n",
    "        # accqure the max length signal\n",
    "        LENGTH = RANGE[-1]\n",
    "        print LENGTH\n",
    "\n",
    "        # capture length distribution\n",
    "        lengthData = []\n",
    "        switch = False\n",
    "        for line in self.f:\n",
    "            if switch:\n",
    "                lengthData.append(line)\n",
    "            if TAG in line:\n",
    "                switch = True\n",
    "            if switch and \"{} \".format(LENGTH) in line:\n",
    "                switch = False\n",
    "                break\n",
    "        lengthData = map(lambda line: line.rstrip().split(\" \"), lengthData)\n",
    "        positionProbabilityPair = map(lambda (a,b): (int(a), float(b)), lengthData)\n",
    "\n",
    "        df = pd.DataFrame(positionProbabilityPair, columns=['position','probability']) \n",
    "        \n",
    "        return df"
   ]
  },
  {
   "cell_type": "code",
   "execution_count": 23,
   "metadata": {
    "collapsed": true
   },
   "outputs": [],
   "source": [
    "test1 = ESParamParse(modelFilePath+modelFileNames[1])"
   ]
  },
  {
   "cell_type": "code",
   "execution_count": 24,
   "metadata": {
    "collapsed": false
   },
   "outputs": [
    {
     "name": "stdout",
     "output_type": "stream",
     "text": [
      "3\n",
      "0    0.293\n",
      "1    0.279\n",
      "2    0.429\n",
      "Name: probability, dtype: float64\n"
     ]
    }
   ],
   "source": [
    "print test1.getDistribution().probability"
   ]
  },
  {
   "cell_type": "code",
   "execution_count": null,
   "metadata": {
    "collapsed": true
   },
   "outputs": [],
   "source": [
    "df"
   ]
  }
 ],
 "metadata": {
  "kernelspec": {
   "display_name": "Python 2",
   "language": "python",
   "name": "python2"
  },
  "language_info": {
   "codemirror_mode": {
    "name": "ipython",
    "version": 2
   },
   "file_extension": ".py",
   "mimetype": "text/x-python",
   "name": "python",
   "nbconvert_exporter": "python",
   "pygments_lexer": "ipython2",
   "version": "2.7.10"
  }
 },
 "nbformat": 4,
 "nbformat_minor": 0
}
