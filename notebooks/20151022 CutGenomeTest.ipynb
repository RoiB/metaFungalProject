{
 "cells": [
  {
   "cell_type": "code",
   "execution_count": 2,
   "metadata": {
    "collapsed": true
   },
   "outputs": [],
   "source": [
    "'''\n",
    "Filter fasta and convert annotation Step by Step\n",
    "Research result: \n",
    "Engineering Result: a suite that cut fasta and update annotation\n",
    "'''\n",
    "from Bio import SeqIO\n",
    "from operator import add"
   ]
  },
  {
   "cell_type": "code",
   "execution_count": 41,
   "metadata": {
    "collapsed": true
   },
   "outputs": [],
   "source": [
    "gene_locs = [(12158,12994), (15855, 16226), (28738,29638),(2288689,2289986),(2995039,2995770)]"
   ]
  },
  {
   "cell_type": "code",
   "execution_count": 42,
   "metadata": {
    "collapsed": false
   },
   "outputs": [],
   "source": [
    "Schpo1Fasta = SeqIO.parse('/home/richard/research/tests/Oct22CutGenomeByAnnotationReDesign/_Schpo1Test/Schpo1_chrome1.fasta','fasta')\n",
    "Schpo1Fasta = list(Schpo1Fasta)[0]"
   ]
  },
  {
   "cell_type": "markdown",
   "metadata": {},
   "source": [
    "#### First look at start, stop locations with positive and negative strand"
   ]
  },
  {
   "cell_type": "code",
   "execution_count": 54,
   "metadata": {
    "collapsed": false
   },
   "outputs": [
    {
     "name": "stdout",
     "output_type": "stream",
     "text": [
      "ID: chromosome_1\n",
      "Name: chromosome_1\n",
      "Description: chromosome_1\n",
      "Number of features: 0\n",
      "Seq('ATGTCCCCTTTAATAGTTGGGACTTTAATAATTATCCTATTGTCAGGACTCGCA...TAA', SingleLetterAlphabet())\n",
      "\n",
      "ID: chromosome_1\n",
      "Name: chromosome_1\n",
      "Description: chromosome_1\n",
      "Number of features: 0\n",
      "Seq('ATGTCCCCTTTAATAGTTGGGACTTTAATAATTATCCTATTGTCAGGACTCGCA...TAA', SingleLetterAlphabet())\n",
      "\n",
      "ID: chromosome_1\n",
      "Name: chromosome_1\n",
      "Description: chromosome_1\n",
      "Number of features: 0\n",
      "Seq('ATGTCAAATCCAGAAAGCTTGAAAAAACAGGTTGAACCTCCTGGTTACAATGAG...TAA', SingleLetterAlphabet())\n",
      "\n",
      "ID: chromosome_1\n",
      "Name: chromosome_1\n",
      "Description: chromosome_1\n",
      "Number of features: 0\n",
      "Seq('TTAAAGATGCCTGATGTGTTGAGAAACAGTCTCGTATACATAAAATGTAACAGC...CAT', SingleLetterAlphabet())\n",
      "\n",
      "ID: chromosome_1\n",
      "Name: chromosome_1\n",
      "Description: chromosome_1\n",
      "Number of features: 0\n",
      "Seq('TTACTTAAACCAAGGTTTGGTTTCTTGAGCTTTCATAACTGAGTTGCGTAGTCC...CAT', SingleLetterAlphabet())\n",
      "\n"
     ]
    }
   ],
   "source": [
    "# for a,b in gene_locs:\n",
    "#     print Schpo1Fasta[a-1:a+2], Schpo1Fasta[b-3:b]\n",
    "#     print\n",
    "\n",
    "for a,b in gene_locs:\n",
    "    print Schpo1Fasta[a-1:b]\n",
    "    print"
   ]
  },
  {
   "cell_type": "markdown",
   "metadata": {},
   "source": [
    "##From the Above, I realize that the anti-sense part of the DNA is actually 'reverse sense', which means if we read it in the reversed way, we will get a sense sequence"
   ]
  },
  {
   "cell_type": "markdown",
   "metadata": {},
   "source": [
    "#### 1. Cut genomes"
   ]
  },
  {
   "cell_type": "code",
   "execution_count": 74,
   "metadata": {
    "collapsed": true
   },
   "outputs": [],
   "source": [
    "def cut_genome(seq_record, a, b, intergenic_length):\n",
    "    '''\n",
    "    input: SeqRecord; start and stop location (a,b) on annotation(index starts from 1)\n",
    "    output: SeqRecord with the desired region and an intergenic region at front\n",
    "    '''\n",
    "    gene = seq_record[a-1:b]\n",
    "    \n",
    "    if a-1-intergenic_length > 0:\n",
    "        intergenic_region_front = seq_record[a-1-intergenic_length:a-1]\n",
    "    else:\n",
    "        intergenic_region_front = seq_record[b:b+intergenic_length]\n",
    "        \n",
    "#     if b+intergenic_length < len(seq_record):\n",
    "#         intergenic_region_back = seq_record[a-1-intergenic_length:a-1]\n",
    "#     else:\n",
    "#         intergenic_region_front = seq_record[b:b+intergenic_length]\n",
    "    return intergenic_region_front+gene"
   ]
  },
  {
   "cell_type": "code",
   "execution_count": 75,
   "metadata": {
    "collapsed": false
   },
   "outputs": [],
   "source": [
    "a,b = (12158,12994)\n",
    "gene = cut_genome(Schpo1Fasta, a, b, 100)"
   ]
  },
  {
   "cell_type": "code",
   "execution_count": 77,
   "metadata": {
    "collapsed": false
   },
   "outputs": [
    {
     "data": {
      "text/plain": [
       "SeqRecord(seq=Seq('ATGTCCCCTTTAATAGTTGGGACTTTAATAATTATCCTATTGTCAGGACTCGCA...TAA', SingleLetterAlphabet()), id='chromosome_1', name='chromosome_1', description='chromosome_1', dbxrefs=[])"
      ]
     },
     "execution_count": 77,
     "metadata": {},
     "output_type": "execute_result"
    }
   ],
   "source": [
    "gene[100:]"
   ]
  },
  {
   "cell_type": "code",
   "execution_count": 79,
   "metadata": {
    "collapsed": false
   },
   "outputs": [],
   "source": [
    "genes = map(lambda (a,b): cut_genome(Schpo1Fasta, a, b, 100), gene_locs)"
   ]
  },
  {
   "cell_type": "code",
   "execution_count": 82,
   "metadata": {
    "collapsed": false
   },
   "outputs": [],
   "source": [
    "Schpo1FastaFiveGeneCuts = reduce(add, genes)+genes[0][:100]"
   ]
  },
  {
   "cell_type": "code",
   "execution_count": 85,
   "metadata": {
    "collapsed": false,
    "scrolled": true
   },
   "outputs": [
    {
     "data": {
      "text/plain": [
       "1"
      ]
     },
     "execution_count": 85,
     "metadata": {},
     "output_type": "execute_result"
    }
   ],
   "source": [
    "target = '/home/richard/research/tests/Oct22CutGenomeByAnnotationReDesign/_Schpo1Test/Schpo1FiveGenes.fasta'\n",
    "SeqIO.write(Schpo1FastaFiveGeneCuts, target, 'fasta')"
   ]
  },
  {
   "cell_type": "code",
   "execution_count": null,
   "metadata": {
    "collapsed": true
   },
   "outputs": [],
   "source": [
    "def cut_genomes(seq_record, gene_locs, intergenic_length):\n",
    "    genes = map(lambda (a,b): cut_genome(seq_record, a, b, intergenic_length), gene_locs)\n",
    "    return reduce(add, genes)+genes[0][:100]"
   ]
  },
  {
   "cell_type": "code",
   "execution_count": 145,
   "metadata": {
    "collapsed": false
   },
   "outputs": [
    {
     "data": {
      "text/plain": [
       "[('\"SPAC212.08c\";', (12158, 12994)),\n",
       " ('\"SPAC212.12\";', (15855, 16226)),\n",
       " ('\"SPAC212.01c\";', (28738, 29638)),\n",
       " ('\"SPAC4G9.20c\";', (2288689, 2289986)),\n",
       " ('\"SPAC31G5.05c\";', (2995039, 2995770))]"
      ]
     },
     "execution_count": 145,
     "metadata": {},
     "output_type": "execute_result"
    }
   ],
   "source": [
    "gene_locs"
   ]
  },
  {
   "cell_type": "code",
   "execution_count": 154,
   "metadata": {
    "collapsed": true
   },
   "outputs": [],
   "source": [
    "def cut_single_fasta(fastaFile, fastaFileCut, gene_location, intergenic_length):\n",
    "    fasta = SeqIO.parse(fastaFile,'fasta')\n",
    "    seq_record = list(fasta)[0]\n",
    "    \n",
    "    seq_record_cut = cut_genes(seq_record, gene_location, intergenic_length)\n",
    "    SeqIO.write(seq_record_cut, fastaFileCut, 'fasta')\n",
    "    print 'The cut fasta file is saved at', fastaFileCut"
   ]
  },
  {
   "cell_type": "code",
   "execution_count": 156,
   "metadata": {
    "collapsed": false
   },
   "outputs": [
    {
     "name": "stdout",
     "output_type": "stream",
     "text": [
      "The cut fasta file is saved at /home/richard/research/tests/Oct22CutGenomeByAnnotationReDesign/_Schpo1Test/Schpo1_CutTest.fasta\n"
     ]
    }
   ],
   "source": [
    "fastaFile = '/home/richard/research/tests/Oct22CutGenomeByAnnotationReDesign/_Schpo1Test/Schpo1_chrome1.fasta'\n",
    "fastaFileCut = '/home/richard/research/tests/Oct22CutGenomeByAnnotationReDesign/_Schpo1Test/Schpo1_CutTest.fasta'\n",
    "intergenic_length = 100\n",
    "cut_single_fasta(fastaFile, fastaFileCut, gene_locs, intergenic_length)"
   ]
  },
  {
   "cell_type": "markdown",
   "metadata": {},
   "source": [
    "### Comment: remember to sort (start, end) when dealing with annotation"
   ]
  },
  {
   "cell_type": "markdown",
   "metadata": {},
   "source": [
    "#### 2. Update annotation to match genomes that are cut"
   ]
  },
  {
   "cell_type": "code",
   "execution_count": 152,
   "metadata": {
    "collapsed": false
   },
   "outputs": [
    {
     "data": {
      "text/plain": [
       "1"
      ]
     },
     "execution_count": 152,
     "metadata": {},
     "output_type": "execute_result"
    }
   ],
   "source": [
    "SeqIO.write(cut_genes(Schpo1Fasta, gene_locs, intergenic_length),'../tests/Oct22CutGenomeByAnnotationReDesign/_Schpo1Test/Schpo1FiveGenesV2.fasta','fasta')"
   ]
  },
  {
   "cell_type": "code",
   "execution_count": 3,
   "metadata": {
    "collapsed": false
   },
   "outputs": [],
   "source": [
    "def cut_gene(seq_record, a, b, intergenic_length):\n",
    "    '''\n",
    "    helper function\n",
    "    input: SeqRecord; start and stop location (a,b) on annotation(index starts from 1)\n",
    "    output: SeqRecord with the desired region and an intergenic region at front\n",
    "    '''\n",
    "    gene = seq_record[a-1:b]\n",
    "    \n",
    "    if a-1-intergenic_length > 0:\n",
    "        intergenic_region_front = seq_record[a-1-intergenic_length:a-1]\n",
    "    else:\n",
    "        intergenic_region_front = seq_record[b:b+intergenic_length]\n",
    "        \n",
    "    return intergenic_region_front+gene\n",
    "\n",
    "def cut_genes(seq_record, gene_location, intergenic_length):\n",
    "    '''\n",
    "    seq_record should be a single genome\n",
    "    batch cut\n",
    "    '''\n",
    "    gene_location = [atuple for (key, atuple) in gene_location]\n",
    "    genes = map(lambda (a,b): cut_gene(seq_record, a, b, intergenic_length), gene_location)\n",
    "    return reduce(add, genes)+genes[0][:intergenic_length]\n",
    "\n",
    "def cut_single_fasta(fastaFile, fastaFileCut, gene_location, intergenic_length):\n",
    "    fasta = SeqIO.parse(fastaFile,'fasta')\n",
    "    seq_record = list(fasta)[0]\n",
    "    \n",
    "    seq_record_cut = cut_genes(seq_record, gene_location, intergenic_length)\n",
    "    SeqIO.write(seq_record_cut, fastaFileCut, 'fasta')\n",
    "    print 'The cut fasta file is saved at', fastaFileCut\n",
    "\n",
    "\n",
    "def get_gene_location(inputFile):\n",
    "    '''\n",
    "    helper function for 'update_annotation'\n",
    "    input: annotation file\n",
    "    output: tuple, (genename, range)\n",
    "    '''\n",
    "    pairs = {} # put start, stop location to a list associated with \n",
    "    with open(inputFile) as f:\n",
    "        for line in f:\n",
    "            if 'start_codon' in line or 'stop_codon' in line:\n",
    "                alist = line.split()\n",
    "                a,b = map(int,[alist[3], alist[4]])\n",
    "                key = alist[9]\n",
    "                if key not in pairs:\n",
    "                    pairs[key] = [a,b]\n",
    "                else:\n",
    "                    pairs[key].append(a); pairs[key].append(b)\n",
    "                    \n",
    "    for key in pairs:\n",
    "        pairs[key] = sorted(pairs[key])\n",
    "        \n",
    "    gene_locs = map(lambda (key, alist): (key, (min(alist), max(alist))), pairs.items())\n",
    "    return sorted(gene_locs, key = lambda x: x[1])\n",
    "\n",
    "def rearrange_location(gene_locs, intergenic_length):\n",
    "    '''\n",
    "    helper function for 'update_annotation'\n",
    "    '''\n",
    "    acc = 0\n",
    "    shift = {}\n",
    "    for pairs in gene_locs:\n",
    "        acc += intergenic_length\n",
    "        key,[a,b] = pairs\n",
    "        shift[key] = acc-a+1\n",
    "        gene_length = b-a+1\n",
    "        acc+=gene_length\n",
    "    return shift\n",
    "\n",
    "\n",
    "def update_annotation(inputFile, outputFile, gene_locs, intergenic_length):\n",
    "    shift = rearrange_location(gene_locs, intergenic_length)\n",
    "    \n",
    "    with open(inputFile) as f:\n",
    "        with open(outputFile,'w') as f1:\n",
    "            for line in f:\n",
    "                alist1 = line.split()\n",
    "                key = alist1[9]\n",
    "                alist2 = line.split('\\t')\n",
    "                start = shift[key]+int(alist1[3]); stop = shift[key]+int(alist1[4])\n",
    "                if start < 0: continue\n",
    "                alist2[3] = str(start); alist2[4] = str(stop)\n",
    "                f1.write('\\t'.join(alist2))\n",
    "    print 'The updated annotation file is saved at:',outputFile\n",
    "    \n",
    "    \n",
    "def update_annotation_cut_fasta(intergenic_length, inputFile, outputFile, fastaFile, fastaFileCut):\n",
    "    gene_locs = get_gene_location(inputFile)\n",
    "    \n",
    "    update_annotation(inputFile, outputFile, gene_locs, intergenic_length)\n",
    "    \n",
    "    cut_single_fasta(fastaFile, fastaFileCut, gene_locs, intergenic_length)"
   ]
  },
  {
   "cell_type": "code",
   "execution_count": 144,
   "metadata": {
    "collapsed": false
   },
   "outputs": [
    {
     "name": "stdout",
     "output_type": "stream",
     "text": [
      "The updated annotation file is saved at: ../tests/Oct22CutGenomeByAnnotationReDesign/_Schpo1Test/Schpo1FiveGenesShuffledUpdatedV2.gtf\n"
     ]
    }
   ],
   "source": [
    "inputFile = '../tests/Oct22CutGenomeByAnnotationReDesign/_Schpo1Test/Schpo1FiveGenesShuffled.gtf'\n",
    "outputFile = '../tests/Oct22CutGenomeByAnnotationReDesign/_Schpo1Test/Schpo1FiveGenesShuffledUpdatedV2.gtf'\n",
    "update_annotation(inputFile, outputFile, 100)\n",
    "# gene_locs = get_gene_location(inputFile)\n",
    "# shift = rearrange_location(gene_locs, 100)"
   ]
  },
  {
   "cell_type": "code",
   "execution_count": 134,
   "metadata": {
    "collapsed": false
   },
   "outputs": [],
   "source": [
    "with open(inputFile) as f:\n",
    "    with open(outputFile,'w') as f1:\n",
    "        for line in f:\n",
    "            alist1 = line.split()\n",
    "            key = alist1[9]\n",
    "    #         print alist[:3], shift[key]+int(alist[3]), shift[key]+int(alist[4])\n",
    "            alist2 = line.split('\\t')\n",
    "            start = shift[key]+int(alist1[3]); stop = shift[key]+int(alist1[4])\n",
    "            if start < 0: continue\n",
    "            alist2[3] = str(start); alist2[4] = str(stop)\n",
    "            f1.write('\\t'.join(alist2))"
   ]
  },
  {
   "cell_type": "code",
   "execution_count": 108,
   "metadata": {
    "collapsed": false
   },
   "outputs": [
    {
     "data": {
      "text/plain": [
       "[('\"SPAC212.08c\";', (12158, 12994)),\n",
       " ('\"SPAC212.12\";', (15855, 16226)),\n",
       " ('\"SPAC212.01c\";', (28738, 29638)),\n",
       " ('\"SPAC4G9.20c\";', (2288689, 2289986)),\n",
       " ('\"SPAC31G5.05c\";', (2995039, 2995770))]"
      ]
     },
     "execution_count": 108,
     "metadata": {},
     "output_type": "execute_result"
    }
   ],
   "source": [
    "get_gene_location(inputFile)"
   ]
  },
  {
   "cell_type": "code",
   "execution_count": null,
   "metadata": {
    "collapsed": true
   },
   "outputs": [],
   "source": [
    "gene_locs = [(12158,12994), (15855, 16226), (28738,29638),(2288689,2289986),(2995039,2995770)]"
   ]
  },
  {
   "cell_type": "code",
   "execution_count": 105,
   "metadata": {
    "collapsed": false
   },
   "outputs": [
    {
     "name": "stdout",
     "output_type": "stream",
     "text": [
      "[('\"SPAC212.08c\";', (12158, 12994)), ('\"SPAC212.12\";', (15855, 16226)), ('\"SPAC212.01c\";', (28738, 29638)), ('\"SPAC4G9.20c\";', (2288689, 2289986)), ('\"SPAC31G5.05c\";', (2995039, 2995770))]\n"
     ]
    },
    {
     "data": {
      "text/plain": [
       "[('\"SPAC212.08c\";', (12158, 12994)),\n",
       " ('\"SPAC212.12\";', (15855, 16226)),\n",
       " ('\"SPAC212.01c\";', (28738, 29638)),\n",
       " ('\"SPAC4G9.20c\";', (2288689, 2289986)),\n",
       " ('\"SPAC31G5.05c\";', (2995039, 2995770))]"
      ]
     },
     "execution_count": 105,
     "metadata": {},
     "output_type": "execute_result"
    }
   ],
   "source": [
    "inputFile = '../tests/Oct22CutGenomeByAnnotationReDesign/_Schpo1Test/Schpo1FiveGenesShuffled.gtf'\n",
    "\n",
    "with open(inputFile) as f:\n",
    "    pairs = {}\n",
    "    for line in f:\n",
    "        if 'start_codon' in line or 'stop_codon' in line:\n",
    "            alist = line.split()\n",
    "            a,b = map(int,[alist[3], alist[4]])\n",
    "            key = alist[9]\n",
    "            if key not in pairs:\n",
    "                pairs[key] = [a,b]\n",
    "            else:\n",
    "                pairs[key].append(a); pairs[key].append(b)\n",
    "    for key in pairs:\n",
    "        pairs[key] = sorted(pairs[key])\n",
    "    \n",
    "print map(lambda (key, alist): (key, (min(alist), max(alist))), pairs.items())\n",
    "gene_locs = map(lambda (key, alist): (key, (min(alist), max(alist))), pairs.items())\n",
    "sorted(gene_locs, key = lambda x: x[1])\n",
    "# print sorted"
   ]
  },
  {
   "cell_type": "markdown",
   "metadata": {},
   "source": [
    "#### 3. Combine cut annotation and fasta together"
   ]
  },
  {
   "cell_type": "code",
   "execution_count": 157,
   "metadata": {
    "collapsed": true
   },
   "outputs": [],
   "source": [
    "def update_annotation_cut_fasta(intergenic_length, inputFile, outputFile, fastaFile, fastaFileCut):\n",
    "    gene_locs = get_gene_location(inputFile)\n",
    "    \n",
    "    update_annotation(inputFile, outputFile, gene_locs, intergenic_length)\n",
    "    \n",
    "    cut_single_fasta(fastaFile, fastaFileCut, gene_locs, intergenic_length)"
   ]
  },
  {
   "cell_type": "code",
   "execution_count": 158,
   "metadata": {
    "collapsed": true
   },
   "outputs": [],
   "source": [
    "inputFile = '../tests/Oct22CutGenomeByAnnotationReDesign/_Schpo1Test/Schpo1FiveGenesShuffled.gtf'\n",
    "outputFile = '../tests/Oct22CutGenomeByAnnotationReDesign/_Schpo1Test/Schpo1FiveGenesShuffledUpdatedV3.gtf'\n",
    "fastaFile = '/home/richard/research/tests/Oct22CutGenomeByAnnotationReDesign/_Schpo1Test/Schpo1_chrome1.fasta'\n",
    "fastaFileCut = '/home/richard/research/tests/Oct22CutGenomeByAnnotationReDesign/_Schpo1Test/Schpo1_chrome1_CutV3.fasta'\n",
    "intergenic_length = 100"
   ]
  },
  {
   "cell_type": "code",
   "execution_count": 161,
   "metadata": {
    "collapsed": false
   },
   "outputs": [
    {
     "name": "stdout",
     "output_type": "stream",
     "text": [
      "The updated annotation file is saved at: ../tests/Oct22CutGenomeByAnnotationReDesign/_Schpo1Test/Schpo1FiveGenesShuffledUpdatedV3.gtf\n",
      "The cut fasta file is saved at /home/richard/research/tests/Oct22CutGenomeByAnnotationReDesign/_Schpo1Test/Schpo1_chrome1_CutV3.fasta\n"
     ]
    }
   ],
   "source": [
    "update_annotation_cut_fasta(intergenic_length, inputFile, outputFile, fastaFile, fastaFileCut)"
   ]
  },
  {
   "cell_type": "code",
   "execution_count": 170,
   "metadata": {
    "collapsed": false
   },
   "outputs": [
    {
     "name": "stdout",
     "output_type": "stream",
     "text": [
      "The updated annotation file is saved at: ../tests/Oct22CutGenomeByAnnotationReDesign/_Schpo1Test/Schpo1_converted_fixed.updated.gtf\n",
      "The cut fasta file is saved at /home/richard/research/tests/Oct22CutGenomeByAnnotationReDesign/_Schpo1Test/Schpo1_chrome1.cut.fasta\n"
     ]
    }
   ],
   "source": [
    "inputFile = '../tests/Oct22CutGenomeByAnnotationReDesign/_Schpo1Test/Schpo1_converted_fixed.gtf'\n",
    "outputFile = '../tests/Oct22CutGenomeByAnnotationReDesign/_Schpo1Test/Schpo1_converted_fixed.updated.gtf'\n",
    "fastaFile = '/home/richard/research/tests/Oct22CutGenomeByAnnotationReDesign/_Schpo1Test/Schpo1_chrome1.fasta'\n",
    "fastaFileCut = '/home/richard/research/tests/Oct22CutGenomeByAnnotationReDesign/_Schpo1Test/Schpo1_chrome1.cut.fasta'\n",
    "intergenic_length = 300\n",
    "update_annotation_cut_fasta(intergenic_length, inputFile, outputFile, fastaFile, fastaFileCut)"
   ]
  },
  {
   "cell_type": "code",
   "execution_count": 4,
   "metadata": {
    "collapsed": false
   },
   "outputs": [
    {
     "name": "stdout",
     "output_type": "stream",
     "text": [
      "The updated annotation file is saved at: ../tests/Oct23TestCutSuite/NCrassa/NCrassaContig12.1.updated.gtf\n",
      "The cut fasta file is saved at ../tests/Oct23TestCutSuite/NCrassa/Neucr2_Supercontig_1.updated.fasta\n"
     ]
    }
   ],
   "source": [
    "inputFile = '../tests/Oct23TestCutSuite/NCrassa/NCrassaContig12.1.gtf'\n",
    "outputFile = '../tests/Oct23TestCutSuite/NCrassa/NCrassaContig12.1.updated.gtf'\n",
    "fastaFile = '../tests/Oct23TestCutSuite/NCrassa/Neucr2_Supercontig_1.fasta'\n",
    "fastaFileCut = '../tests/Oct23TestCutSuite/NCrassa/Neucr2_Supercontig_1.updated.fasta'\n",
    "intergenic_length = 100\n",
    "update_annotation_cut_fasta(intergenic_length, inputFile, outputFile, fastaFile, fastaFileCut)"
   ]
  },
  {
   "cell_type": "code",
   "execution_count": null,
   "metadata": {
    "collapsed": true
   },
   "outputs": [],
   "source": []
  }
 ],
 "metadata": {
  "kernelspec": {
   "display_name": "Python 2",
   "language": "python",
   "name": "python2"
  },
  "language_info": {
   "codemirror_mode": {
    "name": "ipython",
    "version": 2
   },
   "file_extension": ".py",
   "mimetype": "text/x-python",
   "name": "python",
   "nbconvert_exporter": "python",
   "pygments_lexer": "ipython2",
   "version": "2.7.10"
  }
 },
 "nbformat": 4,
 "nbformat_minor": 0
}
