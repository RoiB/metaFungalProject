{
 "cells": [
  {
   "cell_type": "code",
   "execution_count": 121,
   "metadata": {
    "collapsed": true
   },
   "outputs": [],
   "source": [
    "from Bio import Phylo\n",
    "import matplotlib.pylab as plt\n",
    "%matplotlib inline\n",
    "import re\n",
    "import pandas as pd\n",
    "import subprocess\n",
    "from Bio import SeqIO\n",
    "import sys"
   ]
  },
  {
   "cell_type": "code",
   "execution_count": 122,
   "metadata": {
    "collapsed": true
   },
   "outputs": [],
   "source": [
    "sys.path.append('/home/richard/research/tools/')"
   ]
  },
  {
   "cell_type": "code",
   "execution_count": 123,
   "metadata": {
    "collapsed": true
   },
   "outputs": [],
   "source": [
    "import moduleIntron"
   ]
  },
  {
   "cell_type": "code",
   "execution_count": 2,
   "metadata": {
    "collapsed": false
   },
   "outputs": [],
   "source": [
    "text = ''\n",
    "with open(\"/home/richard/research/tests/Nov16_JGI_Tree_building/full_mare_full_core_genes_mapped_v3.phy\") as f:\n",
    "    text = f.read()\n",
    "    \n",
    "new_text = re.sub('\\s', '_', text)\n",
    "with open('/home/richard/research/tests/Nov16_JGI_Tree_building/tree_add_underscore.phy','w') as f: f.write(new_text[:-1])"
   ]
  },
  {
   "cell_type": "code",
   "execution_count": 3,
   "metadata": {
    "collapsed": false
   },
   "outputs": [],
   "source": [
    "tree = Phylo.read(\"/home/richard/research/tests/Nov16_JGI_Tree_building/tree_add_underscore.phy\", \"newick\")"
   ]
  },
  {
   "cell_type": "code",
   "execution_count": 4,
   "metadata": {
    "collapsed": false
   },
   "outputs": [],
   "source": [
    "# Phylo.draw_ascii(tree)\n",
    "# Phylo.draw(tree, branch_labels=lambda c: c.branch_length)\n",
    "# Phylo.draw_graphviz(tree)"
   ]
  },
  {
   "cell_type": "code",
   "execution_count": 23,
   "metadata": {
    "collapsed": false
   },
   "outputs": [],
   "source": [
    "species = sorted(map(lambda x: x.name, tree.get_terminals()))"
   ]
  },
  {
   "cell_type": "code",
   "execution_count": 31,
   "metadata": {
    "collapsed": false
   },
   "outputs": [],
   "source": [
    "with open('/home/richard/research/tests/Nov16_JGI_Tree_building/longNames.csv','w') as f:\n",
    "    for name in species:\n",
    "        f.write(' '.join(name.split('_'))+',\\n')"
   ]
  },
  {
   "cell_type": "code",
   "execution_count": 6,
   "metadata": {
    "collapsed": false
   },
   "outputs": [],
   "source": [
    "## what to do ...\n",
    "# 1. get short names\n",
    "# 2. get gff files\n",
    "# 3. get intron\n",
    "# 4. parse acceptor, donor\n",
    "# 5. calculate KL distance"
   ]
  },
  {
   "cell_type": "code",
   "execution_count": 26,
   "metadata": {
    "collapsed": false
   },
   "outputs": [],
   "source": [
    "info = pd.read_csv('/home/richard/research/data_small/fullTableInfoGff3GffRNAESwithDensity20151109.csv')\n",
    "info.index = info.shortName"
   ]
  },
  {
   "cell_type": "code",
   "execution_count": 27,
   "metadata": {
    "collapsed": false
   },
   "outputs": [],
   "source": [
    "shortNames = []\n",
    "for name in species:\n",
    "    name = ' '.join(name.split('_'))\n",
    "    for shortName in info.index:\n",
    "        if name in str(info.ix[shortName].longName):\n",
    "            shortNames.append(shortName)\n",
    "            break"
   ]
  },
  {
   "cell_type": "code",
   "execution_count": 37,
   "metadata": {
    "collapsed": false
   },
   "outputs": [],
   "source": [
    "info.ix[shortNames][['longName']].to_csv('/home/richard/research/tests/Nov16_JGI_Tree_building/shortName_longName.csv')"
   ]
  },
  {
   "cell_type": "code",
   "execution_count": 38,
   "metadata": {
    "collapsed": false
   },
   "outputs": [
    {
     "data": {
      "text/plain": [
       "['Ascru1',\n",
       " 'Aspnid1',\n",
       " 'Babin1',\n",
       " 'Batde5',\n",
       " 'Canar1',\n",
       " 'Canta1',\n",
       " 'Cante1',\n",
       " 'Cryne_H99_1',\n",
       " 'Cybja1',\n",
       " 'Debha1',\n",
       " 'Dekbr2',\n",
       " 'Ashgo1_1',\n",
       " 'Hanva1_1',\n",
       " 'Hypbu1',\n",
       " 'Klula1',\n",
       " 'Lipst1_1',\n",
       " 'Metbi1',\n",
       " 'Neucr2',\n",
       " 'Pacta1_2',\n",
       " 'Picme2',\n",
       " 'Pneji1',\n",
       " 'Rhior3',\n",
       " 'Sacce1',\n",
       " 'Saico1',\n",
       " 'Schco3',\n",
       " 'Schpo1',\n",
       " 'Spapa3',\n",
       " 'Tapde1_1',\n",
       " 'Trire2',\n",
       " 'Tubme1',\n",
       " 'Wican1',\n",
       " 'Yarli1']"
      ]
     },
     "execution_count": 38,
     "metadata": {},
     "output_type": "execute_result"
    }
   ],
   "source": [
    "shortNames"
   ]
  },
  {
   "cell_type": "code",
   "execution_count": 57,
   "metadata": {
    "collapsed": false
   },
   "outputs": [
    {
     "name": "stdout",
     "output_type": "stream",
     "text": [
      "problem with Batde5\n",
      "problem with Cante1\n",
      "problem with Cryne_H99_1\n",
      "problem with Rhior3\n",
      "problem with Spapa3\n"
     ]
    }
   ],
   "source": [
    "## cp gff files\n",
    "problems = []\n",
    "target = '/home/richard/research/tests/Nov16_JGI_Tree_building/gff_jgi/'\n",
    "for shortName in shortNames:\n",
    "    command = 'cp /home/richard/largeDataSet/fungi_download/{}/{} {}'.format(shortName,info.ix[shortName].gffName, target)\n",
    "    try:\n",
    "        subprocess.check_call(command, shell = True)\n",
    "    except:\n",
    "        print 'problem with', shortName\n",
    "        problems.append(shortName)"
   ]
  },
  {
   "cell_type": "code",
   "execution_count": 47,
   "metadata": {
    "collapsed": false
   },
   "outputs": [],
   "source": [
    "shortNames_filtered = [shortName for shortName in shortNames if shortName not in problems]"
   ]
  },
  {
   "cell_type": "code",
   "execution_count": 53,
   "metadata": {
    "collapsed": false
   },
   "outputs": [],
   "source": [
    "jgi = {shortName:{} for shortName in shortNames_filtered}\n",
    "for shortName in shortNames_filtered:\n",
    "    jgi[shortName]['gff'] = info.ix[shortName].gffName[:-3]"
   ]
  },
  {
   "cell_type": "code",
   "execution_count": 64,
   "metadata": {
    "collapsed": false
   },
   "outputs": [],
   "source": [
    "#convert gff to gtf\n",
    "target_gtf = '/home/richard/research/tests/Nov16_JGI_Tree_building/gtf_converted/'\n",
    "for shortName in shortNames_filtered:\n",
    "    jgi[shortName]['gtf'] = jgi[shortName]['gff'][:-3]+'gtf'\n",
    "    command = 'python /home/richard/research/tools/JGIgff_to_gtf.py {}{} {}{}'.format(target,jgi[shortName]['gff'], target_gtf, jgi[shortName]['gff'][:-3]+'gtf')\n",
    "    subprocess.check_call(command, shell = True)"
   ]
  },
  {
   "cell_type": "code",
   "execution_count": 77,
   "metadata": {
    "collapsed": false
   },
   "outputs": [
    {
     "name": "stdout",
     "output_type": "stream",
     "text": [
      "problem with Babin1\n",
      "problem with Trire2\n",
      "problem with Wican1\n"
     ]
    }
   ],
   "source": [
    "# get intron from gtf files\n",
    "problems = []\n",
    "target_intron = '/home/richard/research/tests/Nov16_JGI_Tree_building/introns/'\n",
    "for shortName in shortNames_filtered:\n",
    "    jgi[shortName]['gff3'] = jgi[shortName]['gff'][:-3]+'gff3'\n",
    "    try:\n",
    "        command1 = '/home/tool/gt/bin/gt gtf_to_gff3 -force -tidy -o {}{} {}{}'.format(target_intron, jgi[shortName]['gff'][:-3]+'gff3', target_gtf, jgi[shortName]['gtf'])\n",
    "#     print command1\n",
    "        subprocess.check_call(command1, shell = True)\n",
    "    \n",
    "        command2 = '/home/tool/gt/bin/gt gff3 -force -addintrons -o {}{} {}{}'.format(target_intron, 'tmp_'+jgi[shortName]['gff3'],target_intron, jgi[shortName]['gff3'])\n",
    "        subprocess.check_call(command2, shell = True)\n",
    "        \n",
    "        command3 = \"grep -P '\\\\tintron\\\\t' {}{} > {}{}_introns.gff\".format(target_intron, 'tmp_'+jgi[shortName]['gff3'], target_intron, shortName)\n",
    "#         print command3\n",
    "        subprocess.check_call(command3, shell = True)\n",
    "    except:\n",
    "        print 'problem with', shortName\n",
    "        problems.append(shortName)"
   ]
  },
  {
   "cell_type": "code",
   "execution_count": 79,
   "metadata": {
    "collapsed": false
   },
   "outputs": [],
   "source": [
    "shortNames_filtered = [shortName for shortName in shortNames_filtered if shortName not in problems]"
   ]
  },
  {
   "cell_type": "code",
   "execution_count": 83,
   "metadata": {
    "collapsed": true
   },
   "outputs": [],
   "source": [
    "## generate donor, acceptor matrix\n",
    "target_folder = '/home/richard/research/tests/Nov16_JGI_Tree_building/donor_acceptor/'\n",
    "for shortName in shortNames_filtered: \n",
    "    command = 'mkdir {}'.format(target_folder+shortName)\n",
    "    subprocess.check_call(command, shell=True)"
   ]
  },
  {
   "cell_type": "code",
   "execution_count": 87,
   "metadata": {
    "collapsed": false
   },
   "outputs": [],
   "source": [
    "## cp fasta files\n",
    "target_fasta = '/home/richard/research/tests/Nov16_JGI_Tree_building/fasta/'\n",
    "for shortName in shortNames_filtered:\n",
    "    jgi[shortName]['fasta'] = info.ix[shortName].fastaName[:-3]\n",
    "    command = 'cp /home/richard/largeDataSet/fungi_download/{}/{} {}'.format(shortName, info.ix[shortName].fastaName, target_fasta)\n",
    "#     print command\n",
    "#     subprocess.check_call(command, shell=True)"
   ]
  },
  {
   "cell_type": "code",
   "execution_count": 95,
   "metadata": {
    "collapsed": false
   },
   "outputs": [],
   "source": [
    "script = ''\n",
    "for shortName in shortNames_filtered:\n",
    "    script += 'cd {}\\n'.format(shortName)\n",
    "    script += 'echo \"working on {}\"\\n'.format(shortName)\n",
    "    script += '/storage3/w/b/get_don_acc.pl  --seq ../../fasta/{}  --introns  ../../introns/{}_introns.gff\\n'.format(jgi[shortName]['fasta'], shortName)\n",
    "    script += 'cd ..\\n'\n",
    "with open('/home/richard/research/tests/Nov16_JGI_Tree_building/donor_acceptor/get_don_acc.sh','w') as f: f.write(script)"
   ]
  },
  {
   "cell_type": "code",
   "execution_count": 93,
   "metadata": {
    "collapsed": false
   },
   "outputs": [
    {
     "name": "stdout",
     "output_type": "stream",
     "text": [
      "Ascru1_AssemblyScaffolds.fasta\n",
      "Aspnid1_AssemblyScaffolds.fasta\n",
      "Canar1_AssemblyScaffolds.fasta\n",
      "Canta1_AssemblyScaffolds.fasta\n",
      "Cybja1_AssemblyScaffolds.fasta\n",
      "Debha1_AssemblyScaffolds.fasta\n",
      "Dekbr2_AssemblyScaffolds.fasta\n",
      "Ashgo1_1_AssemblyScaffolds.fasta\n",
      "Hanva1_1_AssemblyScaffolds.fasta\n",
      "Hypbu1_AssemblyScaffolds.fasta\n",
      "Klula1_AssemblyScaffolds.fasta\n",
      "Lipst1_1_AssemblyScaffolds.fasta\n",
      "Metbi1_AssemblyScaffolds.fasta\n",
      "Neucr2_AssemblyScaffolds.fasta\n",
      "Pacta1_2_AssemblyScaffolds.fasta\n",
      "Picme2_AssemblyScaffolds.fasta\n",
      "Pneji1_AssemblyScaffolds.fasta\n",
      "Sacce1_AssemblyScaffolds.fasta\n",
      "Saico1_AssemblyScaffolds.fasta\n",
      "Schco3_AssemblyScaffolds.fasta\n",
      "Schpo1_AssemblyScaffolds.fasta\n",
      "Tapde1_1_AssemblyScaffolds.fasta\n",
      "Tubme1_AssemblyScaffolds.fasta\n",
      "Yarli1_AssemblyScaffolds.fasta\n"
     ]
    }
   ],
   "source": [
    "for key in shortNames_filtered:\n",
    "    print jgi[key]['fasta']"
   ]
  },
  {
   "cell_type": "code",
   "execution_count": 96,
   "metadata": {
    "collapsed": true
   },
   "outputs": [],
   "source": [
    "# Klula1, Yarli1 need to be fixed\n",
    "source_bad_fasta = '/home/richard/research/tests/Nov16_JGI_Tree_building/problem_fasta/'"
   ]
  },
  {
   "cell_type": "code",
   "execution_count": 102,
   "metadata": {
    "collapsed": false
   },
   "outputs": [],
   "source": [
    "Klula1 = list(SeqIO.parse('/home/richard/research/tests/Nov16_JGI_Tree_building/problem_fasta/Klula1_AssemblyScaffolds.fasta', 'fasta'))\n",
    "Yarli1 = list(SeqIO.parse('/home/richard/research/tests/Nov16_JGI_Tree_building/problem_fasta/Yarli1_AssemblyScaffolds.fasta', 'fasta'))"
   ]
  },
  {
   "cell_type": "code",
   "execution_count": 108,
   "metadata": {
    "collapsed": false
   },
   "outputs": [],
   "source": [
    "## change to upper\n",
    "for i in range(len(Klula1)):\n",
    "    Klula1[i].seq = Klula1[i].seq.upper()"
   ]
  },
  {
   "cell_type": "code",
   "execution_count": 112,
   "metadata": {
    "collapsed": true
   },
   "outputs": [],
   "source": [
    "## change to upper\n",
    "for i in range(len(Yarli1)):\n",
    "    Yarli1[i].seq = Yarli1[i].seq.upper()"
   ]
  },
  {
   "cell_type": "code",
   "execution_count": 114,
   "metadata": {
    "collapsed": false
   },
   "outputs": [
    {
     "data": {
      "text/plain": [
       "6"
      ]
     },
     "execution_count": 114,
     "metadata": {},
     "output_type": "execute_result"
    }
   ],
   "source": [
    "## write to fasta folder\n",
    "SeqIO.write(Klula1, '/home/richard/research/tests/Nov16_JGI_Tree_building/fasta/Klula1_AssemblyScaffolds.fasta', 'fasta')"
   ]
  },
  {
   "cell_type": "code",
   "execution_count": 115,
   "metadata": {
    "collapsed": false
   },
   "outputs": [
    {
     "data": {
      "text/plain": [
       "6"
      ]
     },
     "execution_count": 115,
     "metadata": {},
     "output_type": "execute_result"
    }
   ],
   "source": [
    "SeqIO.write(Yarli1, '/home/richard/research/tests/Nov16_JGI_Tree_building/fasta/Yarli1_AssemblyScaffolds.fasta', 'fasta')"
   ]
  },
  {
   "cell_type": "code",
   "execution_count": 120,
   "metadata": {
    "collapsed": false
   },
   "outputs": [
    {
     "name": "stdout",
     "output_type": "stream",
     "text": [
      "['Ascru1', 'Aspnid1', 'Canar1', 'Canta1', 'Cybja1', 'Debha1', 'Dekbr2', 'Ashgo1_1', 'Hanva1_1', 'Hypbu1', 'Klula1', 'Lipst1_1', 'Metbi1', 'Neucr2', 'Pacta1_2', 'Picme2', 'Pneji1', 'Sacce1', 'Saico1', 'Schco3', 'Schpo1', 'Tapde1_1', 'Tubme1', 'Yarli1']\n"
     ]
    }
   ],
   "source": [
    "print shortNames_filtered"
   ]
  },
  {
   "cell_type": "code",
   "execution_count": 125,
   "metadata": {
    "collapsed": false
   },
   "outputs": [],
   "source": [
    "for shortName in shortNames_filtered:\n",
    "    jgi[shortName]['intronDensity'] = moduleIntron.get_intron_density(target+jgi[shortName]['gff'])"
   ]
  },
  {
   "cell_type": "code",
   "execution_count": 128,
   "metadata": {
    "collapsed": false
   },
   "outputs": [],
   "source": [
    "table = info.ix[shortNames_filtered][['longName','gc']]"
   ]
  },
  {
   "cell_type": "code",
   "execution_count": 129,
   "metadata": {
    "collapsed": true
   },
   "outputs": [],
   "source": [
    "intronDensity = [jgi[shortName]['intronDensity'] for shortName in table.index]"
   ]
  },
  {
   "cell_type": "code",
   "execution_count": 131,
   "metadata": {
    "collapsed": false
   },
   "outputs": [],
   "source": [
    "table['intronDensity'] = intronDensity"
   ]
  },
  {
   "cell_type": "code",
   "execution_count": 133,
   "metadata": {
    "collapsed": false
   },
   "outputs": [],
   "source": [
    "table.to_csv('/home/richard/research/tests/Nov16_JGI_Tree_building/speciesInfo.csv')"
   ]
  },
  {
   "cell_type": "code",
   "execution_count": null,
   "metadata": {
    "collapsed": true
   },
   "outputs": [],
   "source": []
  }
 ],
 "metadata": {
  "kernelspec": {
   "display_name": "Python 2",
   "language": "python",
   "name": "python2"
  },
  "language_info": {
   "codemirror_mode": {
    "name": "ipython",
    "version": 2
   },
   "file_extension": ".py",
   "mimetype": "text/x-python",
   "name": "python",
   "nbconvert_exporter": "python",
   "pygments_lexer": "ipython2",
   "version": "2.7.10"
  }
 },
 "nbformat": 4,
 "nbformat_minor": 0
}
