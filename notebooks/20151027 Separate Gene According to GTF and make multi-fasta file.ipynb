{
 "cells": [
  {
   "cell_type": "markdown",
   "metadata": {},
   "source": [
    "## Test set specification\n",
    "#### 1. File with sequences in FASTA format, ShortName_ContigID_Left_Right\n",
    "######1.1 parse good gene annotation and cut fasta to make it one gene per fasta file with 200 down and up stream\n",
    "######1.2 parse good gene annotation and up shift location of all the annotation by (start-1) to make start as one \n",
    "#### 2. Annotation in GFF format, sequence_ID (first column) should match sequence_ID in definition line of FASTA records.\n"
   ]
  },
  {
   "cell_type": "code",
   "execution_count": 221,
   "metadata": {
    "collapsed": false
   },
   "outputs": [],
   "source": [
    "from Bio import SeqIO\n",
    "from Bio.SeqRecord import SeqRecord"
   ]
  },
  {
   "cell_type": "code",
   "execution_count": 4,
   "metadata": {
    "collapsed": true
   },
   "outputs": [],
   "source": [
    "sourceFasta = '/home/richard/research/tests/Oct27TestSetStatistics/sampleAnnotation/Pneji1_AssemblyScaffolds.fasta'\n",
    "sourceGtf = '/home/richard/research/tests/Oct27TestSetStatistics/sampleAnnotation/Pneji1_GeneCatalog_genes_20130607.f.good.multiExon.gtf'"
   ]
  },
  {
   "cell_type": "code",
   "execution_count": 8,
   "metadata": {
    "collapsed": false
   },
   "outputs": [],
   "source": [
    "Pneji1_fasta = list(SeqIO.parse(sourceFasta, 'fasta'))"
   ]
  },
  {
   "cell_type": "code",
   "execution_count": 12,
   "metadata": {
    "collapsed": false,
    "scrolled": false
   },
   "outputs": [
    {
     "data": {
      "text/plain": [
       "SeqRecord(seq=Seq('CGTCCGATCACCACTAGCGCTCACAATTCGATCTTCTTTAAGTTGAACAGCATT...TTA', SingleLetterAlphabet()), id='contig_1', name='contig_1', description='contig_1', dbxrefs=[])"
      ]
     },
     "execution_count": 12,
     "metadata": {},
     "output_type": "execute_result"
    }
   ],
   "source": [
    "Pneji1_fasta[0]"
   ]
  },
  {
   "cell_type": "markdown",
   "metadata": {},
   "source": [
    "####Part I\n",
    "1. Cut whole genome by genes, add upstream and down stream intergenic region margin(200bp)\n",
    "2. Combine the cut sequences into one multi-fasta file"
   ]
  },
  {
   "cell_type": "code",
   "execution_count": 207,
   "metadata": {
    "collapsed": true
   },
   "outputs": [],
   "source": [
    "def makeTestSet(shortName, intergenic_length, sourceGtf, sourceFasta, targetGtf, targetFasta):\n",
    "    gene_locations = get_gene_locationV1(sourceGtf)\n",
    "#     gene_locations = get_gene_locationV1Choice2(sourceGtf)\n",
    "    cutFasta(shortName,intergenic_length, gene_locations, sourceFasta, targetFasta)\n",
    "    updateGtf(shortName,intergenic_length, gene_locations, sourceGtf, targetGtf)\n",
    "\n",
    "def cutFasta(shortName,intergenic_length, gene_locations, sourceFasta, targetFasta):\n",
    "    SeqRecords = list(SeqIO.parse(sourceFasta, 'fasta'))\n",
    "    SeqRecordsPairs = {SeqRecord.id:SeqRecord for SeqRecord in SeqRecords}\n",
    "\n",
    "    ## spark implementation, might not be a good choice to put in a package\n",
    "    ## use the below two step map instead\n",
    "#     genes = (sc.parallelize(gene_locations)\n",
    "#              .map(lambda ((contig,_),(a,b)): \n",
    "#                   ('{}__{}__{}__{}'.format(shortName,contig,a,b),\n",
    "#                    cut_geneV1(SeqRecordsPairs[contig], a, b, intergenic_length)))\n",
    "#              .map(lambda (key,val): SeqRecord(val.seq, id=key, description=''))\n",
    "#              .collect())\n",
    "\n",
    "    genes = (map(lambda ((contig,_),(a,b)): ('{}__{}__{}__{}'.format(shortName,contig,a,b), \n",
    "                                         cut_geneV1(SeqRecordsPairs[contig], a, b, intergenic_length))\n",
    "                 ,gene_locations))\n",
    "\n",
    "    genes = map(lambda (key,val): SeqRecord(val.seq, id=key, description=''), genes)\n",
    "    \n",
    "    \n",
    "    SeqIO.write(genes, targetFasta, \"fasta\")\n",
    "    print 'multi-fasta file is saved at:',targetFasta\n",
    "\n",
    "def updateGtf(shortName, intergenic_length, gene_locations, sourceGtf, targetGtf):\n",
    "    shifts = calculate_shift(gene_locations,intergenic_length)\n",
    "    gene_locations = {gene:(c,d)for ((a,gene),(c,d)) in gene_locations}\n",
    "    with open(sourceGtf) as f:\n",
    "        with open(targetGtf,'w') as f1:\n",
    "            for line in f:\n",
    "                alist1 = line.split()\n",
    "                gene = alist1[9]\n",
    "                alist2 = line.split('\\t')\n",
    "                alist2[0] = '{}__{}__{}__{}'.format(shortName,alist2[0],gene_locations[gene][0],gene_locations[gene][1])\n",
    "                start = shifts[gene]+int(alist1[3]); stop = shifts[gene]+int(alist1[4])\n",
    "                if start < 0:                         ## need to talk with Alex, some CDS with no start or stop\n",
    "                    print shifts[gene]\n",
    "                    print line \n",
    "                    print '\\t'.join(alist2)\n",
    "                    continue\n",
    "                alist2[3] = str(start); alist2[4] = str(stop)\n",
    "                \n",
    "                f1.write('\\t'.join(alist2))\n",
    "            print 'updated annotation is saved at:',targetGtf\n",
    "\n",
    "def calculate_shift(gene_locs, intergenic_length):\n",
    "    '''\n",
    "    helper function for 'updateGtf'\n",
    "    shift value is negative if goes to the left\n",
    "    '''\n",
    "    shift = {}\n",
    "    for ((_,gene),(a,b)) in gene_locs:\n",
    "        shift[gene] = intergenic_length-int(a)+1\n",
    "    return shift\n",
    "\n",
    "# def updateGtf():\n",
    "\n",
    "def get_gene_locationV1(inputFile):\n",
    "    '''\n",
    "    updated: include contig name in V1\n",
    "    original helper function for 'update_annotation'\n",
    "    input: annotation file\n",
    "    output: tuple, (genename, range)\n",
    "    '''\n",
    "    pairs = {} # put start, stop location to a list associated with \n",
    "    with open(inputFile) as f:\n",
    "        for line in f:\n",
    "            if 'start_codon' in line or 'stop_codon' in line:\n",
    "                alist = line.split()\n",
    "                a,b = map(int,[alist[3], alist[4]])\n",
    "                key = (alist[0],alist[9])\n",
    "                if key not in pairs:\n",
    "                    pairs[key] = [a,b]\n",
    "                else:\n",
    "                    pairs[key].append(a); pairs[key].append(b)\n",
    "                    \n",
    "    for key in pairs:\n",
    "        pairs[key] = sorted(pairs[key])\n",
    "            \n",
    "    gene_locs = map(lambda (key, alist): (key, (min(alist), max(alist))), pairs.items())\n",
    "#     print gene_locs\n",
    "    return sorted(gene_locs, key = lambda x: x[1])\n",
    "        \n",
    "def get_gene_locationV1Choice2(inputFile):\n",
    "    '''\n",
    "    choice2: include gene with CDS out of boundary\n",
    "    updated: include contig name in V1\n",
    "    original helper function for 'update_annotation'\n",
    "    input: annotation file\n",
    "    output: tuple, (genename, range)\n",
    "    '''\n",
    "    pairs = {} # put start, stop location to a list associated with \n",
    "    with open(inputFile) as f:\n",
    "        for line in f:\n",
    "            alist = line.split()\n",
    "            a,b = map(int,[alist[3], alist[4]])\n",
    "            key = (alist[0],alist[9])\n",
    "            if key not in pairs:\n",
    "                pairs[key] = [a,b]\n",
    "            else:\n",
    "                pairs[key].append(a); pairs[key].append(b)\n",
    "                    \n",
    "    for key in pairs:\n",
    "        pairs[key] = sorted(pairs[key])\n",
    "        \n",
    "    gene_locs = map(lambda (key, alist): (key, (min(alist), max(alist))), pairs.items())\n",
    "#     print gene_locs\n",
    "    return sorted(gene_locs, key = lambda x: x[1])\n",
    "\n",
    "def cut_geneV1(seq_record, a, b, intergenic_length):\n",
    "    '''\n",
    "    updated: add down stream\n",
    "    helper function\n",
    "    input: SeqRecord; start and stop location (a,b) on annotation(index starts from 1)\n",
    "    output: SeqRecord with the desired region and an intergenic region at front\n",
    "    '''\n",
    "    gene = seq_record[a-1:b]\n",
    "    \n",
    "    if a-1-intergenic_length > 0:\n",
    "        intergenic_region_front = seq_record[a-1-intergenic_length:a-1]\n",
    "    else:\n",
    "        intergenic_region_front = seq_record[b:b+intergenic_length]\n",
    "        \n",
    "    if b+intergenic_length > len(seq_record):\n",
    "        intergenic_region_back = seq_record[a-1-intergenic_length:a-1]\n",
    "    else:\n",
    "        intergenic_region_back = seq_record[b:b+intergenic_length]\n",
    "        \n",
    "    return intergenic_region_front+gene+intergenic_region_back"
   ]
  },
  {
   "cell_type": "code",
   "execution_count": 177,
   "metadata": {
    "collapsed": false
   },
   "outputs": [],
   "source": [
    "shortName = 'Pneji1'.lower()\n",
    "# def get_fasta_name(shortName, gene_locations):\n",
    "gene_locations = get_gene_locationV1(sourceGtf)"
   ]
  },
  {
   "cell_type": "code",
   "execution_count": 178,
   "metadata": {
    "collapsed": false
   },
   "outputs": [],
   "source": [
    "shifts = calculate_shift(gene_locations,intergenic_length)"
   ]
  },
  {
   "cell_type": "code",
   "execution_count": 149,
   "metadata": {
    "collapsed": false
   },
   "outputs": [
    {
     "name": "stdout",
     "output_type": "stream",
     "text": [
      "0 1 399\n",
      "-12 13 751\n",
      "-12 13 1658\n",
      "-13 14 1511\n",
      "-26 27 1086\n",
      "-37 38 1361\n",
      "-41 42 292\n",
      "-46 47 1092\n",
      "-58 59 695\n",
      "-67 68 2110\n"
     ]
    }
   ],
   "source": [
    "for ((a,b),(c,d)) in gene_locations[:10]:\n",
    "    print shifts[b], c, d"
   ]
  },
  {
   "cell_type": "code",
   "execution_count": 34,
   "metadata": {
    "collapsed": false
   },
   "outputs": [
    {
     "data": {
      "text/plain": [
       "['pneji1||contig_132||1||399',\n",
       " 'pneji1||contig_353||13||751',\n",
       " 'pneji1||contig_225||13||1658',\n",
       " 'pneji1||contig_30||14||1511',\n",
       " 'pneji1||contig_193||27||1086',\n",
       " 'pneji1||contig_259||38||1361',\n",
       " 'pneji1||contig_319||42||292',\n",
       " 'pneji1||contig_219||47||1092',\n",
       " 'pneji1||contig_270||59||695',\n",
       " 'pneji1||contig_198||68||2110']"
      ]
     },
     "execution_count": 34,
     "metadata": {},
     "output_type": "execute_result"
    }
   ],
   "source": [
    "map(lambda x: '{}||{}||{}||{}'.format(shortName, x[0][0],x[1][0],x[1][1]), gene_locations)[:10]"
   ]
  },
  {
   "cell_type": "code",
   "execution_count": 81,
   "metadata": {
    "collapsed": false,
    "scrolled": false
   },
   "outputs": [],
   "source": [
    "## cut genomes\n",
    "intergenic_length = 200\n",
    "SeqRecords = Pneji1_fasta\n",
    "##def cutSeqRecords(SeqRecords,gene_locations,shorName):\n",
    "\n",
    "SeqRecordsPairs = {SeqRecord.name:SeqRecord for SeqRecord in SeqRecords}\n",
    "genes = (sc.parallelize(gene_locations)\n",
    "         .map(lambda ((contig,_),(a,b)): \n",
    "              ('{}__{}__{}__{}'.format(shortName,contig,a,b),\n",
    "               cut_geneV1(SeqRecordsPairs[contig], a, b, intergenic_length)))\n",
    "         .map(lambda (key,val): SeqRecord(val.seq, id=key, description=''))\n",
    "         .collect())"
   ]
  },
  {
   "cell_type": "code",
   "execution_count": 85,
   "metadata": {
    "collapsed": false
   },
   "outputs": [
    {
     "data": {
      "text/plain": [
       "SeqRecord(seq=Seq('TTATTTTTCTTTATACTAATTTATTCCAGAAAGATAAATTGGTTTATACTAATA...AAA', SingleLetterAlphabet()), id='pneji1__contig_132__1__399', name='<unknown name>', description='', dbxrefs=[])"
      ]
     },
     "execution_count": 85,
     "metadata": {},
     "output_type": "execute_result"
    }
   ],
   "source": [
    "genes[0]"
   ]
  },
  {
   "cell_type": "code",
   "execution_count": 83,
   "metadata": {
    "collapsed": false
   },
   "outputs": [
    {
     "data": {
      "text/plain": [
       "586"
      ]
     },
     "execution_count": 83,
     "metadata": {},
     "output_type": "execute_result"
    }
   ],
   "source": [
    "targetFasta = '/home/richard/research/tests/Oct27TestSetStatistics/sampleAnnotation/Pneji1_test.fasta'\n",
    "SeqIO.write(genes, targetFasta, \"fasta\")"
   ]
  },
  {
   "cell_type": "markdown",
   "metadata": {},
   "source": [
    "## Check correctness of cut genomes"
   ]
  },
  {
   "cell_type": "code",
   "execution_count": 99,
   "metadata": {
    "collapsed": true
   },
   "outputs": [],
   "source": [
    "\n",
    "testSetPneji1 = list(SeqIO.parse(targetFasta, 'fasta'))"
   ]
  },
  {
   "cell_type": "code",
   "execution_count": 100,
   "metadata": {
    "collapsed": false,
    "scrolled": false
   },
   "outputs": [],
   "source": [
    "testRDD = (sc.parallelize(testSetPneji1)\n",
    "           .map(lambda x: ((x.id).split('__'), x))\n",
    "           .map(lambda ((_,contig,a,b), val): (contig,int(a),int(b),val))\n",
    "           .map(lambda (contig,a,b,val): \n",
    "                SeqRecordsPairs[contig][a-1:b].seq == val[intergenic_length:intergenic_length+(b-a+1)].seq)\n",
    "           .take(10))"
   ]
  },
  {
   "cell_type": "code",
   "execution_count": 101,
   "metadata": {
    "collapsed": false
   },
   "outputs": [
    {
     "data": {
      "text/plain": [
       "[True, True, True, True, True, True, True, True, True, True]"
      ]
     },
     "execution_count": 101,
     "metadata": {},
     "output_type": "execute_result"
    }
   ],
   "source": [
    "testRDD"
   ]
  },
  {
   "cell_type": "code",
   "execution_count": 203,
   "metadata": {
    "collapsed": false
   },
   "outputs": [],
   "source": [
    "testRDD = (sc.parallelize(testSetPneji1)\n",
    "           .map(lambda x: ((x.id).split('__'), x))\n",
    "           .map(lambda ((_,contig,a,b), val): (contig,int(a),int(b),val))\n",
    "           .map(lambda (contig,a,b,val): \n",
    "                len(SeqRecordsPairs[contig][a-1:b]) == len(val) - 400)\n",
    "           .take(10))"
   ]
  },
  {
   "cell_type": "code",
   "execution_count": 204,
   "metadata": {
    "collapsed": false
   },
   "outputs": [
    {
     "data": {
      "text/plain": [
       "[True, True, True, True, True, True, True, True, True, True]"
      ]
     },
     "execution_count": 204,
     "metadata": {},
     "output_type": "execute_result"
    }
   ],
   "source": [
    "testRDD"
   ]
  },
  {
   "cell_type": "markdown",
   "metadata": {},
   "source": [
    "### check passed"
   ]
  },
  {
   "cell_type": "code",
   "execution_count": 195,
   "metadata": {
    "collapsed": false
   },
   "outputs": [
    {
     "data": {
      "text/plain": [
       "[(('contig_132', '\"\"PNEJI1_002411g.01\"\";'), (1, 399)),\n",
       " (('contig_353', '\"\"PNEJI1_003669g.01\"\";'), (13, 751)),\n",
       " (('contig_225', '\"\"PNEJI1_003267g.01\"\";'), (13, 1658)),\n",
       " (('contig_30', '\"\"PNEJI1_003541g.01\"\";'), (14, 1511)),\n",
       " (('contig_193', '\"\"PNEJI1_002046g.01\"\";'), (27, 1086)),\n",
       " (('contig_259', '\"\"PNEJI1_001069g.01\"\";'), (38, 1361)),\n",
       " (('contig_319', '\"\"PNEJI1_003824g.01\"\";'), (42, 292)),\n",
       " (('contig_219', '\"\"PNEJI1_000858g.01\"\";'), (47, 1092)),\n",
       " (('contig_270', '\"\"PNEJI1_000303g.01\"\";'), (59, 695)),\n",
       " (('contig_198', '\"\"PNEJI1_003021g.01\"\";'), (68, 2110))]"
      ]
     },
     "execution_count": 195,
     "metadata": {},
     "output_type": "execute_result"
    }
   ],
   "source": [
    "gene_locations = get_gene_locationV1(sourceGtf)\n",
    "gene_locations[:10]"
   ]
  },
  {
   "cell_type": "code",
   "execution_count": 205,
   "metadata": {
    "collapsed": false,
    "scrolled": false
   },
   "outputs": [],
   "source": [
    "sourceFasta = '/home/richard/research/tests/Oct27TestSetStatistics/sampleAnnotation/Pneji1_AssemblyScaffolds.fasta'\n",
    "sourceGtf = '/home/richard/research/tests/Oct27TestSetStatistics/sampleAnnotation/Pneji1_GeneCatalog_genes_20130607.f.good.multiExon.gtf'\n",
    "targetFasta = '/home/richard/research/tests/Oct27TestSetStatistics/sampleAnnotation/Pneji1_testV2.fasta'\n",
    "targetGtf = '/home/richard/research/tests/Oct27TestSetStatistics/sampleAnnotation/Pneji1.good.updated.gtf'\n",
    "\n",
    "shortName = 'Pneji1'.lower()\n",
    "intergenic_length = 300\n",
    "\n",
    "\n",
    "\n",
    "def makeTestSet(shortName, intergenic_length, sourceGtf, sourceFasta, targetGtf, targetFasta):\n",
    "    gene_locations = get_gene_locationV1(sourceGtf)\n",
    "#     gene_locations = get_gene_locationV1Choice2(sourceGtf)\n",
    "    cutFasta(shortName,intergenic_length, gene_locations, sourceFasta)\n",
    "    updateGtf(intergenic_length, gene_locations, sourceGtf, targetGtf)\n"
   ]
  },
  {
   "cell_type": "code",
   "execution_count": 208,
   "metadata": {
    "collapsed": false
   },
   "outputs": [
    {
     "name": "stdout",
     "output_type": "stream",
     "text": [
      "multi-fasta file is saved at: /home/richard/research/tests/Oct27TestSetStatistics/sampleAnnotation/Pneji1_test300.fasta\n",
      "-21724\n",
      "contig_275\tJGI\tCDS\t20637\t20779\t.\t-\t2\tgene_id \"\"PNEJI1_000732g.01\"\"; transcript_id \"\"PNEJI1_000732g.01\"\";\n",
      "\n",
      "pneji1__contig_275__22025__22598\tJGI\tCDS\t20637\t20779\t.\t-\t2\tgene_id \"\"PNEJI1_000732g.01\"\"; transcript_id \"\"PNEJI1_000732g.01\"\";\n",
      "\n",
      "-21724\n",
      "contig_275\tJGI\texon\t20637\t20779\t0\t-\t.\tgene_id \"\"PNEJI1_000732g.01\"\"; transcript_id \"\"PNEJI1_000732g.01\"\";\n",
      "\n",
      "pneji1__contig_275__22025__22598\tJGI\texon\t20637\t20779\t0\t-\t.\tgene_id \"\"PNEJI1_000732g.01\"\"; transcript_id \"\"PNEJI1_000732g.01\"\";\n",
      "\n",
      "-21724\n",
      "contig_275\tJGI\tCDS\t20830\t20959\t.\t-\t0\tgene_id \"\"PNEJI1_000732g.01\"\"; transcript_id \"\"PNEJI1_000732g.01\"\";\n",
      "\n",
      "pneji1__contig_275__22025__22598\tJGI\tCDS\t20830\t20959\t.\t-\t0\tgene_id \"\"PNEJI1_000732g.01\"\"; transcript_id \"\"PNEJI1_000732g.01\"\";\n",
      "\n",
      "-21724\n",
      "contig_275\tJGI\texon\t20830\t20959\t0\t-\t.\tgene_id \"\"PNEJI1_000732g.01\"\"; transcript_id \"\"PNEJI1_000732g.01\"\";\n",
      "\n",
      "pneji1__contig_275__22025__22598\tJGI\texon\t20830\t20959\t0\t-\t.\tgene_id \"\"PNEJI1_000732g.01\"\"; transcript_id \"\"PNEJI1_000732g.01\"\";\n",
      "\n",
      "-21724\n",
      "contig_275\tJGI\tCDS\t21007\t21348\t.\t-\t0\tgene_id \"\"PNEJI1_000732g.01\"\"; transcript_id \"\"PNEJI1_000732g.01\"\";\n",
      "\n",
      "pneji1__contig_275__22025__22598\tJGI\tCDS\t21007\t21348\t.\t-\t0\tgene_id \"\"PNEJI1_000732g.01\"\"; transcript_id \"\"PNEJI1_000732g.01\"\";\n",
      "\n",
      "-21724\n",
      "contig_275\tJGI\texon\t21007\t21348\t0\t-\t.\tgene_id \"\"PNEJI1_000732g.01\"\"; transcript_id \"\"PNEJI1_000732g.01\"\";\n",
      "\n",
      "pneji1__contig_275__22025__22598\tJGI\texon\t21007\t21348\t0\t-\t.\tgene_id \"\"PNEJI1_000732g.01\"\"; transcript_id \"\"PNEJI1_000732g.01\"\";\n",
      "\n",
      "-21724\n",
      "contig_275\tJGI\tCDS\t21396\t21521\t.\t-\t0\tgene_id \"\"PNEJI1_000732g.01\"\"; transcript_id \"\"PNEJI1_000732g.01\"\";\n",
      "\n",
      "pneji1__contig_275__22025__22598\tJGI\tCDS\t21396\t21521\t.\t-\t0\tgene_id \"\"PNEJI1_000732g.01\"\"; transcript_id \"\"PNEJI1_000732g.01\"\";\n",
      "\n",
      "-21724\n",
      "contig_275\tJGI\texon\t21396\t21521\t0\t-\t.\tgene_id \"\"PNEJI1_000732g.01\"\"; transcript_id \"\"PNEJI1_000732g.01\"\";\n",
      "\n",
      "pneji1__contig_275__22025__22598\tJGI\texon\t21396\t21521\t0\t-\t.\tgene_id \"\"PNEJI1_000732g.01\"\"; transcript_id \"\"PNEJI1_000732g.01\"\";\n",
      "\n",
      "-21724\n",
      "contig_275\tJGI\tCDS\t21560\t21837\t.\t-\t2\tgene_id \"\"PNEJI1_000732g.01\"\"; transcript_id \"\"PNEJI1_000732g.01\"\";\n",
      "\n",
      "pneji1__contig_275__22025__22598\tJGI\tCDS\t21560\t21837\t.\t-\t2\tgene_id \"\"PNEJI1_000732g.01\"\"; transcript_id \"\"PNEJI1_000732g.01\"\";\n",
      "\n",
      "-21724\n",
      "contig_275\tJGI\texon\t21560\t21837\t0\t-\t.\tgene_id \"\"PNEJI1_000732g.01\"\"; transcript_id \"\"PNEJI1_000732g.01\"\";\n",
      "\n",
      "pneji1__contig_275__22025__22598\tJGI\texon\t21560\t21837\t0\t-\t.\tgene_id \"\"PNEJI1_000732g.01\"\"; transcript_id \"\"PNEJI1_000732g.01\"\";\n",
      "\n",
      "-1742\n",
      "contig_11\tJGI\tCDS\t89\t601\t.\t-\t0\tgene_id \"\"PNEJI1_003760g.01\"\"; transcript_id \"\"PNEJI1_003760g.01\"\";\n",
      "\n",
      "pneji1__contig_11__2043__2947\tJGI\tCDS\t89\t601\t.\t-\t0\tgene_id \"\"PNEJI1_003760g.01\"\"; transcript_id \"\"PNEJI1_003760g.01\"\";\n",
      "\n",
      "-1742\n",
      "contig_11\tJGI\texon\t89\t601\t0\t-\t.\tgene_id \"\"PNEJI1_003760g.01\"\"; transcript_id \"\"PNEJI1_003760g.01\"\";\n",
      "\n",
      "pneji1__contig_11__2043__2947\tJGI\texon\t89\t601\t0\t-\t.\tgene_id \"\"PNEJI1_003760g.01\"\"; transcript_id \"\"PNEJI1_003760g.01\"\";\n",
      "\n",
      "-1742\n",
      "contig_11\tJGI\tCDS\t646\t1884\t.\t-\t0\tgene_id \"\"PNEJI1_003760g.01\"\"; transcript_id \"\"PNEJI1_003760g.01\"\";\n",
      "\n",
      "pneji1__contig_11__2043__2947\tJGI\tCDS\t646\t1884\t.\t-\t0\tgene_id \"\"PNEJI1_003760g.01\"\"; transcript_id \"\"PNEJI1_003760g.01\"\";\n",
      "\n",
      "-1742\n",
      "contig_11\tJGI\texon\t646\t1884\t0\t-\t.\tgene_id \"\"PNEJI1_003760g.01\"\"; transcript_id \"\"PNEJI1_003760g.01\"\";\n",
      "\n",
      "pneji1__contig_11__2043__2947\tJGI\texon\t646\t1884\t0\t-\t.\tgene_id \"\"PNEJI1_003760g.01\"\"; transcript_id \"\"PNEJI1_003760g.01\"\";\n",
      "\n",
      "updated annotation is saved at: /home/richard/research/tests/Oct27TestSetStatistics/sampleAnnotation/Pneji1.good.updated300.gtf\n"
     ]
    }
   ],
   "source": [
    "targetFasta = '/home/richard/research/tests/Oct27TestSetStatistics/sampleAnnotation/Pneji1_test300.fasta'\n",
    "targetGtf = '/home/richard/research/tests/Oct27TestSetStatistics/sampleAnnotation/Pneji1.good.updated300.gtf'\n",
    "makeTestSet(shortName, intergenic_length, sourceGtf, sourceFasta, targetGtf, targetFasta)"
   ]
  },
  {
   "cell_type": "code",
   "execution_count": 210,
   "metadata": {
    "collapsed": false
   },
   "outputs": [],
   "source": [
    "### check gene length\n",
    "test = list(SeqIO.parse(targetFasta,'fasta'))"
   ]
  },
  {
   "cell_type": "code",
   "execution_count": 222,
   "metadata": {
    "collapsed": true
   },
   "outputs": [],
   "source": [
    "genes = (map(lambda ((contig,_),(a,b)): ('{}__{}__{}__{}'.format(shortName,contig,a,b), \n",
    "                                         cut_geneV1(SeqRecordsPairs[contig], a, b, intergenic_length))\n",
    "             ,gene_locations))\n",
    "\n",
    "genes = map(lambda (key,val): SeqRecord(val.seq, id=key, description=''), genes)"
   ]
  },
  {
   "cell_type": "code",
   "execution_count": 224,
   "metadata": {
    "collapsed": false
   },
   "outputs": [],
   "source": [
    "genes2 = (sc.parallelize(gene_locations)\n",
    "             .map(lambda ((contig,_),(a,b)): \n",
    "                  ('{}__{}__{}__{}'.format(shortName,contig,a,b),\n",
    "                   cut_geneV1(SeqRecordsPairs[contig], a, b, intergenic_length)))\n",
    "             .map(lambda (key,val): SeqRecord(val.seq, id=key, description=''))\n",
    "             .collect())"
   ]
  },
  {
   "cell_type": "code",
   "execution_count": null,
   "metadata": {
    "collapsed": true
   },
   "outputs": [],
   "source": []
  }
 ],
 "metadata": {
  "kernelspec": {
   "display_name": "Python 2",
   "language": "python",
   "name": "python2"
  },
  "language_info": {
   "codemirror_mode": {
    "name": "ipython",
    "version": 2
   },
   "file_extension": ".py",
   "mimetype": "text/x-python",
   "name": "python",
   "nbconvert_exporter": "python",
   "pygments_lexer": "ipython2",
   "version": "2.7.10"
  }
 },
 "nbformat": 4,
 "nbformat_minor": 0
}
