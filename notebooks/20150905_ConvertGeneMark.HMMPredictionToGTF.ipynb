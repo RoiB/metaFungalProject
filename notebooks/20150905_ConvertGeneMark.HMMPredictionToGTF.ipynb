{
 "cells": [
  {
   "cell_type": "code",
   "execution_count": 1,
   "metadata": {
    "collapsed": false
   },
   "outputs": [],
   "source": [
    "'''The file convert GeneMark.HMM output stye'''\n",
    "seqname = \"chromosome_1\"\n",
    "source = \"GeneMark\"\n",
    "score ='.'"
   ]
  },
  {
   "cell_type": "code",
   "execution_count": 2,
   "metadata": {
    "collapsed": false
   },
   "outputs": [],
   "source": [
    "def get_pos(pos, shift): return str(int(pos)+shift)\n",
    "\n",
    "def change_plus_single(temp,result, strand):\n",
    "\n",
    "    number = temp[0]\n",
    "    start = temp[4]; \n",
    "    stop = temp[5]\n",
    "#     frame = str(int(temp[7])-1)\n",
    "    frame = '.'\n",
    "    \n",
    "    part2 = 'gene_id \"{}\"; transcript_id \"{}\";'.format(\"x\"+number,\"x\"+number+\".a\")\n",
    "    \n",
    "    ## add start\n",
    "    start1 = \"\\t\".join([seqname, source, \"start_codon\", start, get_pos(start, 2), \".\", strand, frame])\n",
    "    result += start1+\"\\t\"+part2+\"\\n\"\n",
    "    ## add CDS region\n",
    "    part1 = \"\\t\".join([seqname, source, \"CDS\", start, get_pos(stop,-3), \".\", strand, frame])\n",
    "    result+= part1+\"\\t\"+part2+\"\\n\"\n",
    "    ## add stop region\n",
    "    stop1 = \"\\t\".join([seqname, source, \"stop_codon\", get_pos(stop,-2), stop, \".\", strand, frame])\n",
    "    result+= stop1+\"\\t\"+part2+\"\\n\"\n",
    "#     print result\n",
    "    return result\n",
    "\n",
    "def change_minus_single(temp,result, strand):\n",
    "\n",
    "    number = temp[0]\n",
    "    stop = temp[4]; \n",
    "    start = temp[5]\n",
    "    #     frame = str(int(temp[7])-1)\n",
    "    frame = '.'\n",
    "    \n",
    "    part2 = 'gene_id \"{}\"; transcript_id \"{}\";'.format(\"x\"+number,\"x\"+number+\".a\")\n",
    "    \n",
    "    ## add start\n",
    "    start1 = \"\\t\".join([seqname, source, \"start_codon\", get_pos(start, -2), start, \".\", strand, frame])\n",
    "    result += start1+\"\\t\"+part2+\"\\n\"\n",
    "    ## add CDS region\n",
    "    part1 = \"\\t\".join([seqname, source, \"CDS\", get_pos(stop,3), start, \".\", strand, frame])\n",
    "    result+= part1+\"\\t\"+part2+\"\\n\"\n",
    "    ## add stop region\n",
    "    stop1 = \"\\t\".join([seqname, source, \"stop_codon\", stop,get_pos(stop,+2),  \".\", strand, frame])\n",
    "    result+= stop1+\"\\t\"+part2+\"\\n\"\n",
    "#     print result\n",
    "    return result\n",
    "\n",
    "def change_plus_terminal(temp,result, strand):\n",
    "    number = temp[0]\n",
    "    start = temp[4]; \n",
    "    stop = temp[5]\n",
    "    #     frame = str(int(temp[7])-1)\n",
    "    frame = '.'\n",
    "    \n",
    "    part2 = 'gene_id \"{}\"; transcript_id \"{}\";'.format(\"x\"+number,\"x\"+number+\".a\")\n",
    "    \n",
    "    ## add CDS region\n",
    "    part1 = \"\\t\".join([seqname, source, \"CDS\", start, get_pos(stop,-3), \".\", strand, frame])\n",
    "    result+= part1+\"\\t\"+part2+\"\\n\"\n",
    "    ## add stop region\n",
    "    stop1 = \"\\t\".join([seqname, source, \"stop_codon\", get_pos(stop,-2), stop, \".\", strand, frame])\n",
    "    result+= stop1+\"\\t\"+part2+\"\\n\"\n",
    "    return result\n",
    "\n",
    "def change_minus_terminal(temp,result, strand):\n",
    "    number = temp[0]\n",
    "    stop = temp[4]; \n",
    "    start = temp[5]\n",
    "    #     frame = str(int(temp[7])-1)\n",
    "    frame = '.'\n",
    "    \n",
    "    part2 = 'gene_id \"{}\"; transcript_id \"{}\";'.format(\"x\"+number,\"x\"+number+\".a\")\n",
    "    \n",
    "    ## add CDS region\n",
    "    part1 = \"\\t\".join([seqname, source, \"CDS\", get_pos(stop,3),start, \".\", strand, frame])\n",
    "    result+= part1+\"\\t\"+part2+\"\\n\"\n",
    "    ## add stop region\n",
    "    stop1 = \"\\t\".join([seqname, source, \"stop_codon\", stop, get_pos(stop,2), \".\", strand, frame])\n",
    "    result+= stop1+\"\\t\"+part2+\"\\n\"\n",
    "    return result\n",
    "\n",
    "def change_plus_initial(temp,result, strand):\n",
    "    number = temp[0]\n",
    "    start = temp[4]; \n",
    "    stop = temp[5]\n",
    "    #     frame = str(int(temp[7])-1)\n",
    "    frame = '.'\n",
    "    \n",
    "    part2 = 'gene_id \"{}\"; transcript_id \"{}\";'.format(\"x\"+number,\"x\"+number+\".a\")\n",
    "    \n",
    "    ## add start\n",
    "    start1 = \"\\t\".join([seqname, source, \"start_codon\", start, get_pos(start, 2), \".\", strand, frame])\n",
    "    result += start1+\"\\t\"+part2+\"\\n\"\n",
    "    ## add CDS region\n",
    "    part1 = \"\\t\".join([seqname, source, \"CDS\", start, stop, \".\", strand, frame])\n",
    "    result+= part1+\"\\t\"+part2+\"\\n\"\n",
    "    return result\n",
    "\n",
    "def change_minus_initial(temp,result, strand):\n",
    "    number = temp[0]\n",
    "    stop = temp[4]; \n",
    "    start = temp[5]\n",
    "    #     frame = str(int(temp[7])-1)\n",
    "    frame = '.'\n",
    "    \n",
    "    part2 = 'gene_id \"{}\"; transcript_id \"{}\";'.format(\"x\"+number,\"x\"+number+\".a\")\n",
    "    \n",
    "    ## add start\n",
    "    start1 = \"\\t\".join([seqname, source, \"start_codon\", get_pos(start, -2), start, \".\", strand, frame])\n",
    "    result += start1+\"\\t\"+part2+\"\\n\"\n",
    "    ## add CDS region\n",
    "    part1 = \"\\t\".join([seqname, source, \"CDS\", stop, start, \".\", strand, frame])\n",
    "    result+= part1+\"\\t\"+part2+\"\\n\"\n",
    "    return result\n",
    "\n",
    "def add_plus_internal(temp,result, strand):\n",
    "\n",
    "    number = temp[0]\n",
    "    start = temp[4]; \n",
    "    stop = temp[5]\n",
    "    #     frame = str(int(temp[7])-1)\n",
    "    frame = '.'\n",
    "    \n",
    "    part2 = 'gene_id \"{}\"; transcript_id \"{}\";'.format(\"x\"+number,\"x\"+number+\".a\")\n",
    "    ## add CDS region\n",
    "    part1 = \"\\t\".join([seqname, source, \"CDS\", start, stop, \".\", strand, frame])\n",
    "    result+= part1+\"\\t\"+part2+\"\\n\"\n",
    "    \n",
    "    return result\n",
    "\n",
    "def add_minus_internal(temp,result, strand):\n",
    "\n",
    "    number = temp[0]\n",
    "    start = temp[4]; \n",
    "    stop = temp[5]\n",
    "    #     frame = str(int(temp[7])-1)\n",
    "    frame = '.'\n",
    "    \n",
    "    part2 = 'gene_id \"{}\"; transcript_id \"{}\";'.format(\"x\"+number,\"x\"+number+\".a\")\n",
    "    ## add CDS region\n",
    "    part1 = \"\\t\".join([seqname, source, \"CDS\", start, stop, \".\", strand, frame])\n",
    "    result+= part1+\"\\t\"+part2+\"\\n\"\n",
    "    \n",
    "    return result\n",
    "\n",
    "\n",
    "def convert(filename1, output_path1):\n",
    "    source = \"GeneMark\"\n",
    "    score ='.'\n",
    "\n",
    "    inside = False\n",
    "    result1 = \"\"\n",
    "    with open(filename1) as handle:\n",
    "        container = []\n",
    "        for line in handle:\n",
    "            temp = line.split()\n",
    "\n",
    "            if len(temp)==11:\n",
    "\n",
    "                strand = temp[2]\n",
    "                \n",
    "\n",
    "                if strand == '+':\n",
    "                    if temp[3] == \"Single\":\n",
    "                        result1 = change_plus_single(temp,result1, strand)\n",
    "\n",
    "                    elif temp[3] == \"Internal\":\n",
    "                        result1 = add_plus_internal(temp,result1, strand)\n",
    "\n",
    "                    elif temp[3] == \"Initial\":\n",
    "                        result1 = change_plus_initial(temp,result1, strand)\n",
    "\n",
    "                    elif temp[3] == \"Terminal\":\n",
    "                        result1 = change_plus_terminal(temp,result1, strand)\n",
    "\n",
    "                else: # strand is negative\n",
    "                    container.append(temp)\n",
    "        strand = \"-\"\n",
    "        while len(container)!=0:\n",
    "            temp = container.pop()\n",
    "            if temp[3] == \"Single\":\n",
    "                result1 = change_minus_single(temp,result1, strand)\n",
    "            elif temp[3] == \"Internal\":\n",
    "                result1 = add_minus_internal(temp,result1, strand)\n",
    "            elif temp[3] == \"Initial\":\n",
    "                result1 = change_minus_initial(temp,result1, strand)\n",
    "            elif temp[3] == \"Terminal\":\n",
    "                result1 = change_minus_terminal(temp,result1, strand)\n",
    "\n",
    "\n",
    "    with open(output_path1,'w') as handle: handle.write(result1)"
   ]
  },
  {
   "cell_type": "code",
   "execution_count": 4,
   "metadata": {
    "collapsed": true
   },
   "outputs": [],
   "source": [
    "## process GC36 model file specific for S. Pombe"
   ]
  },
  {
   "cell_type": "code",
   "execution_count": 7,
   "metadata": {
    "collapsed": false
   },
   "outputs": [],
   "source": [
    "sourcePath = \"../5_Tests/Sep5modelWithLengthDistribution/modelDIY/resGC36only.txt\"\n",
    "targetPath = \"../5_Tests/Sep5modelWithLengthDistribution/modelDIY/resGC36only.gtf\"\n",
    "convert(sourcePath, targetPath)"
   ]
  },
  {
   "cell_type": "code",
   "execution_count": 8,
   "metadata": {
    "collapsed": true
   },
   "outputs": [],
   "source": [
    "sourcePath = \"../5_Tests/Sep5modelWithLengthDistribution/modelDIY/resGC36Intron.txt\"\n",
    "targetPath = \"../5_Tests/Sep5modelWithLengthDistribution/modelDIY/resGC36Intron.gtf\"\n",
    "convert(sourcePath, targetPath)"
   ]
  },
  {
   "cell_type": "code",
   "execution_count": 9,
   "metadata": {
    "collapsed": true
   },
   "outputs": [],
   "source": [
    "sourcePath = \"../5_Tests/Sep5modelWithLengthDistribution/modelDIY/resGC36IntronSpacer.txt\"\n",
    "targetPath = \"../5_Tests/Sep5modelWithLengthDistribution/modelDIY/resGC36IntronSpacer.gtf\"\n",
    "convert(sourcePath, targetPath)"
   ]
  },
  {
   "cell_type": "code",
   "execution_count": 10,
   "metadata": {
    "collapsed": true
   },
   "outputs": [],
   "source": [
    "sourcePath = \"../5_Tests/Sep5modelWithLengthDistribution/modelDIY/resGC36IntronSpacerDonorToBP.txt\"\n",
    "targetPath = \"../5_Tests/Sep5modelWithLengthDistribution/modelDIY/resGC36IntronSpacerDonorToBP.gtf\"\n",
    "convert(sourcePath, targetPath)"
   ]
  },
  {
   "cell_type": "code",
   "execution_count": 12,
   "metadata": {
    "collapsed": true
   },
   "outputs": [],
   "source": [
    "sourcePath = \"../5_Tests/Sep5modelWithLengthDistribution/modelDIY/resGC36IntronSpacerDonorToBPSingle.txt\"\n",
    "targetPath = \"../5_Tests/Sep5modelWithLengthDistribution/modelDIY/resGC36IntronSpacerDonorToBPSingle.gtf\"\n",
    "convert(sourcePath, targetPath)"
   ]
  },
  {
   "cell_type": "code",
   "execution_count": 13,
   "metadata": {
    "collapsed": true
   },
   "outputs": [],
   "source": [
    "sourcePath = \"../5_Tests/Sep5modelWithLengthDistribution/modelDIY/resGC36IntronSpacerDonorToBPSingleInternal.txt\"\n",
    "targetPath = \"../5_Tests/Sep5modelWithLengthDistribution/modelDIY/resGC36IntronSpacerDonorToBPSingleInternal.gtf\"\n",
    "convert(sourcePath, targetPath)"
   ]
  },
  {
   "cell_type": "code",
   "execution_count": 14,
   "metadata": {
    "collapsed": true
   },
   "outputs": [],
   "source": [
    "sourcePath = \"../5_Tests/Sep5modelWithLengthDistribution/modelDIY/resGC36IntronSpacerDonorToBPSingleInternalInitial.txt\"\n",
    "targetPath = \"../5_Tests/Sep5modelWithLengthDistribution/modelDIY/resGC36IntronSpacerDonorToBPSingleInternalInitial.gtf\"\n",
    "convert(sourcePath, targetPath)"
   ]
  },
  {
   "cell_type": "code",
   "execution_count": 15,
   "metadata": {
    "collapsed": true
   },
   "outputs": [],
   "source": [
    "sourcePath = \"../5_Tests/Sep5modelWithLengthDistribution/modelDIY/resGC36IntronSpacerDonorToBPSingleInternalInitialTerminal.txt\"\n",
    "targetPath = \"../5_Tests/Sep5modelWithLengthDistribution/modelDIY/resGC36IntronSpacerDonorToBPSingleInternalInitialTerminal.gtf\"\n",
    "convert(sourcePath, targetPath)"
   ]
  },
  {
   "cell_type": "code",
   "execution_count": 16,
   "metadata": {
    "collapsed": true
   },
   "outputs": [],
   "source": [
    "## process GC36 model file with N Crass Lenght distribution"
   ]
  },
  {
   "cell_type": "code",
   "execution_count": 17,
   "metadata": {
    "collapsed": true
   },
   "outputs": [],
   "source": [
    "sourcePath = \"../5_Tests/Sep5modelWithLengthDistribution/modelDIY/resGC36NCrassaIntron.txt\"\n",
    "targetPath = \"../5_Tests/Sep5modelWithLengthDistribution/modelDIY/resGC36NCrassaIntron.gtf\"\n",
    "convert(sourcePath, targetPath)"
   ]
  },
  {
   "cell_type": "code",
   "execution_count": 18,
   "metadata": {
    "collapsed": true
   },
   "outputs": [],
   "source": [
    "sourcePath = \"../5_Tests/Sep5modelWithLengthDistribution/modelDIY/resGC36NCrassaIntronSpacer.txt\"\n",
    "targetPath = \"../5_Tests/Sep5modelWithLengthDistribution/modelDIY/resGC36NCrassaIntronSpacer.gtf\"\n",
    "convert(sourcePath, targetPath)"
   ]
  },
  {
   "cell_type": "code",
   "execution_count": 19,
   "metadata": {
    "collapsed": true
   },
   "outputs": [],
   "source": [
    "sourcePath = \"../5_Tests/Sep5modelWithLengthDistribution/modelDIY/resGC36NCrassaIntronSpacerDonorToBP.txt\"\n",
    "targetPath = \"../5_Tests/Sep5modelWithLengthDistribution/modelDIY/resGC36NCrassaIntronSpacerDonorToBP.gtf\"\n",
    "convert(sourcePath, targetPath)"
   ]
  },
  {
   "cell_type": "code",
   "execution_count": 20,
   "metadata": {
    "collapsed": true
   },
   "outputs": [],
   "source": [
    "sourcePath = \"../5_Tests/Sep5modelWithLengthDistribution/modelDIY/resGC36NCrassaIntronSpacerDonorToBPSingle.txt\"\n",
    "targetPath = \"../5_Tests/Sep5modelWithLengthDistribution/modelDIY/resGC36NCrassaIntronSpacerDonorToBPSingle.gtf\"\n",
    "convert(sourcePath, targetPath)"
   ]
  },
  {
   "cell_type": "code",
   "execution_count": 21,
   "metadata": {
    "collapsed": true
   },
   "outputs": [],
   "source": [
    "sourcePath = \"../5_Tests/Sep5modelWithLengthDistribution/modelDIY/resGC36NCrassaIntronSpacerDonorToBPSingleInternal.txt\"\n",
    "targetPath = \"../5_Tests/Sep5modelWithLengthDistribution/modelDIY/resGC36NCrassaIntronSpacerDonorToBPSingleInternal.gtf\"\n",
    "convert(sourcePath, targetPath)"
   ]
  },
  {
   "cell_type": "code",
   "execution_count": 22,
   "metadata": {
    "collapsed": true
   },
   "outputs": [],
   "source": [
    "sourcePath = \"../5_Tests/Sep5modelWithLengthDistribution/modelDIY/resGC36NCrassaIntronSpacerDonorToBPSingleInternalInitial.txt\"\n",
    "targetPath = \"../5_Tests/Sep5modelWithLengthDistribution/modelDIY/resGC36NCrassaIntronSpacerDonorToBPSingleInternalInitial.gtf\"\n",
    "convert(sourcePath, targetPath)"
   ]
  },
  {
   "cell_type": "code",
   "execution_count": 23,
   "metadata": {
    "collapsed": true
   },
   "outputs": [],
   "source": [
    "sourcePath = \"../5_Tests/Sep5modelWithLengthDistribution/modelDIY/resGC36NCrassaIntronSpacerDonorToBPSingleInternalInitialTerminal.txt\"\n",
    "targetPath = \"../5_Tests/Sep5modelWithLengthDistribution/modelDIY/resGC36NCrassaIntronSpacerDonorToBPSingleInternalInitialTerminal.gtf\"\n",
    "convert(sourcePath, targetPath)"
   ]
  },
  {
   "cell_type": "code",
   "execution_count": 24,
   "metadata": {
    "collapsed": true
   },
   "outputs": [],
   "source": [
    "sourcePath = \"../5_Tests/Sep5modelWithLengthDistribution/resESfullSPombe.txt\"\n",
    "targetPath = \"../5_Tests/Sep5modelWithLengthDistribution/resESfullSPombe.gtf\"\n",
    "convert(sourcePath, targetPath)"
   ]
  },
  {
   "cell_type": "code",
   "execution_count": 25,
   "metadata": {
    "collapsed": true
   },
   "outputs": [],
   "source": [
    "sourcePath = \"../5_Tests/Sep5modelWithLengthDistribution/modelES/resESGConly.txt\"\n",
    "targetPath = \"../5_Tests/Sep5modelWithLengthDistribution/modelES/resESGConly.gtf\"\n",
    "convert(sourcePath, targetPath)"
   ]
  },
  {
   "cell_type": "code",
   "execution_count": 6,
   "metadata": {
    "collapsed": false
   },
   "outputs": [],
   "source": [
    "## process GC36 model file with Pneumocystis jirovecii Lenght distribution\n",
    "sourcePath = \"../5_Tests/Sep5modelWithLengthDistribution/modelDIY/resGC36Pneji1Intron.txt\"\n",
    "targetPath = \"../5_Tests/Sep5modelWithLengthDistribution/modelDIY/resGC36Pneji1Intron.gtf\"\n",
    "convert(sourcePath, targetPath)"
   ]
  },
  {
   "cell_type": "code",
   "execution_count": 7,
   "metadata": {
    "collapsed": true
   },
   "outputs": [],
   "source": [
    "sourcePath = \"../5_Tests/Sep5modelWithLengthDistribution/modelDIY/resGC36Pneji1IntronSpacer.txt\"\n",
    "targetPath = \"../5_Tests/Sep5modelWithLengthDistribution/modelDIY/resGC36Pneji1IntronSpacer.gtf\"\n",
    "convert(sourcePath, targetPath)"
   ]
  },
  {
   "cell_type": "code",
   "execution_count": 8,
   "metadata": {
    "collapsed": true
   },
   "outputs": [],
   "source": [
    "sourcePath = \"../5_Tests/Sep5modelWithLengthDistribution/modelDIY/resGC36Pneji1IntronSpacerDonorToBP.txt\"\n",
    "targetPath = \"../5_Tests/Sep5modelWithLengthDistribution/modelDIY/resGC36Pneji1IntronSpacerDonorToBP.gtf\"\n",
    "convert(sourcePath, targetPath)"
   ]
  },
  {
   "cell_type": "code",
   "execution_count": 10,
   "metadata": {
    "collapsed": true
   },
   "outputs": [],
   "source": [
    "sourcePath = \"../5_Tests/Sep5modelWithLengthDistribution/modelDIY/resGC36Pneji1IntronSpacerDonorToBPSingle.txt\"\n",
    "targetPath = \"../5_Tests/Sep5modelWithLengthDistribution/modelDIY/resGC36Pneji1IntronSpacerDonorToBPSingle.gtf\"\n",
    "convert(sourcePath, targetPath)"
   ]
  },
  {
   "cell_type": "code",
   "execution_count": 11,
   "metadata": {
    "collapsed": true
   },
   "outputs": [],
   "source": [
    "sourcePath = \"../5_Tests/Sep5modelWithLengthDistribution/modelDIY/resGC36Pneji1IntronSpacerDonorToBPSingleInternal.txt\"\n",
    "targetPath = \"../5_Tests/Sep5modelWithLengthDistribution/modelDIY/resGC36Pneji1IntronSpacerDonorToBPSingleInternal.gtf\"\n",
    "convert(sourcePath, targetPath)"
   ]
  },
  {
   "cell_type": "code",
   "execution_count": 12,
   "metadata": {
    "collapsed": true
   },
   "outputs": [],
   "source": [
    "sourcePath = \"../5_Tests/Sep5modelWithLengthDistribution/modelDIY/resGC36Pneji1IntronSpacerDonorToBPSingleInternalInitial.txt\"\n",
    "targetPath = \"../5_Tests/Sep5modelWithLengthDistribution/modelDIY/resGC36Pneji1IntronSpacerDonorToBPSingleInternalInitial.gtf\"\n",
    "convert(sourcePath, targetPath)"
   ]
  },
  {
   "cell_type": "code",
   "execution_count": 13,
   "metadata": {
    "collapsed": true
   },
   "outputs": [],
   "source": [
    "sourcePath = \"../5_Tests/Sep5modelWithLengthDistribution/modelDIY/resGC36Pneji1IntronSpacerDonorToBPSingleInternalInitialTerminal.txt\"\n",
    "targetPath = \"../5_Tests/Sep5modelWithLengthDistribution/modelDIY/resGC36Pneji1IntronSpacerDonorToBPSingleInternalInitialTerminal.gtf\"\n",
    "convert(sourcePath, targetPath)"
   ]
  },
  {
   "cell_type": "code",
   "execution_count": 14,
   "metadata": {
    "collapsed": true
   },
   "outputs": [],
   "source": [
    "sourcePath = \"../5_Tests/Sep5modelWithLengthDistribution/modelDIY/resSchpo1.ESNoPhaseToGene.mod.txt\"\n",
    "targetPath = \"../5_Tests/Sep5modelWithLengthDistribution/modelDIY/resSchpo1.ESNoPhaseToGene.mod.gtf\"\n",
    "convert(sourcePath, targetPath)"
   ]
  },
  {
   "cell_type": "code",
   "execution_count": 4,
   "metadata": {
    "collapsed": false
   },
   "outputs": [],
   "source": [
    "## NCrassa model with SPombe lengthDistribution\n",
    "sourcePath = \"../5_Tests/Sep7modelWithLengthDistributionNCrassa/ModelDIY/GC49only.result\"\n",
    "targetPath = \"../5_Tests/Sep7modelWithLengthDistributionNCrassa/ModelDIY/GC49only.gtf\"\n",
    "convert(sourcePath, targetPath)"
   ]
  },
  {
   "cell_type": "code",
   "execution_count": 5,
   "metadata": {
    "collapsed": true
   },
   "outputs": [],
   "source": [
    "sourcePath = \"../5_Tests/Sep7modelWithLengthDistributionNCrassa/ModelDIY/Neucr2.ESNoPhaseToGene.result\"\n",
    "targetPath = \"../5_Tests/Sep7modelWithLengthDistributionNCrassa/ModelDIY/Neucr2.ESNoPhaseToGene.gtf\"\n",
    "convert(sourcePath, targetPath)"
   ]
  },
  {
   "cell_type": "code",
   "execution_count": 6,
   "metadata": {
    "collapsed": true
   },
   "outputs": [],
   "source": [
    "sourcePath = \"../5_Tests/Sep7modelWithLengthDistributionNCrassa/ModelDIY/Neucr2.ES_C_4.result\"\n",
    "targetPath = \"../5_Tests/Sep7modelWithLengthDistributionNCrassa/ModelDIY/Neucr2.ES_C_4.gtf\"\n",
    "convert(sourcePath, targetPath)"
   ]
  },
  {
   "cell_type": "code",
   "execution_count": 15,
   "metadata": {
    "collapsed": false
   },
   "outputs": [],
   "source": [
    "sourcePath = \"../5_Tests/Sep7modelWithLengthDistributionNCrassa/ModelDIY/Neucr2.ESGConly.result\"\n",
    "targetPath = \"../5_Tests/Sep7modelWithLengthDistributionNCrassa/ModelDIY/Neucr2.ESGConly.gtf\"\n",
    "convert(sourcePath, targetPath)"
   ]
  },
  {
   "cell_type": "code",
   "execution_count": 18,
   "metadata": {
    "collapsed": true
   },
   "outputs": [],
   "source": [
    "sourcePath = \"../5_Tests/Sep7modelWithLengthDistributionNCrassa/ModelDIY/GC49SPombeIntron.result\"\n",
    "targetPath = \"../5_Tests/Sep7modelWithLengthDistributionNCrassa/ModelDIY/GC49SPombeIntron.gtf\"\n",
    "convert(sourcePath, targetPath)"
   ]
  },
  {
   "cell_type": "code",
   "execution_count": 8,
   "metadata": {
    "collapsed": true
   },
   "outputs": [],
   "source": [
    "sourcePath = \"../5_Tests/Sep7modelWithLengthDistributionNCrassa/ModelDIY/GC49SPombeIntronSpacer.result\"\n",
    "targetPath = \"../5_Tests/Sep7modelWithLengthDistributionNCrassa/ModelDIY/GC49SPombeIntronSpacer.gtf\"\n",
    "convert(sourcePath, targetPath)"
   ]
  },
  {
   "cell_type": "code",
   "execution_count": 9,
   "metadata": {
    "collapsed": true
   },
   "outputs": [],
   "source": [
    "sourcePath = \"../5_Tests/Sep7modelWithLengthDistributionNCrassa/ModelDIY/GC49SPombeIntronSpacerDonorToBp.result\"\n",
    "targetPath = \"../5_Tests/Sep7modelWithLengthDistributionNCrassa/ModelDIY/GC49SPombeIntronSpacerDonorToBp.gtf\"\n",
    "convert(sourcePath, targetPath)"
   ]
  },
  {
   "cell_type": "code",
   "execution_count": null,
   "metadata": {
    "collapsed": true
   },
   "outputs": [],
   "source": [
    "sourcePath = \"../5_Tests/Sep7modelWithLengthDistributionNCrassa/ModelDIY/GC49SPombeIntronSpacerDonorToBp.result\"\n",
    "targetPath = \"../5_Tests/Sep7modelWithLengthDistributionNCrassa/ModelDIY/GC49SPombeIntronSpacerDonorToBp.gtf\"\n",
    "convert(sourcePath, targetPath)"
   ]
  },
  {
   "cell_type": "code",
   "execution_count": 10,
   "metadata": {
    "collapsed": true
   },
   "outputs": [],
   "source": [
    "sourcePath = \"../5_Tests/Sep7modelWithLengthDistributionNCrassa/ModelDIY/GC49SPombeIntronSpacerDonorToBpSingle.result\"\n",
    "targetPath = \"../5_Tests/Sep7modelWithLengthDistributionNCrassa/ModelDIY/GC49SPombeIntronSpacerDonorToBpSingle.gtf\"\n",
    "convert(sourcePath, targetPath)"
   ]
  },
  {
   "cell_type": "code",
   "execution_count": 11,
   "metadata": {
    "collapsed": true
   },
   "outputs": [],
   "source": [
    "sourcePath = \"../5_Tests/Sep7modelWithLengthDistributionNCrassa/ModelDIY/GC49SPombeIntronSpacerDonorToBpSingleInitial.result\"\n",
    "targetPath = \"../5_Tests/Sep7modelWithLengthDistributionNCrassa/ModelDIY/GC49SPombeIntronSpacerDonorToBpSingleInitial.gtf\"\n",
    "convert(sourcePath, targetPath)"
   ]
  },
  {
   "cell_type": "code",
   "execution_count": 12,
   "metadata": {
    "collapsed": true
   },
   "outputs": [],
   "source": [
    "sourcePath = \"../5_Tests/Sep7modelWithLengthDistributionNCrassa/ModelDIY/GC49SPombeIntronSpacerDonorToBpSingleInitialInternal.result\"\n",
    "targetPath = \"../5_Tests/Sep7modelWithLengthDistributionNCrassa/ModelDIY/GC49SPombeIntronSpacerDonorToBpSingleInitialInternal.gtf\"\n",
    "convert(sourcePath, targetPath)"
   ]
  },
  {
   "cell_type": "code",
   "execution_count": 13,
   "metadata": {
    "collapsed": true
   },
   "outputs": [],
   "source": [
    "sourcePath = \"../5_Tests/Sep7modelWithLengthDistributionNCrassa/ModelDIY/GC49SPombeIntronSpacerDonorToBpSingleInitialInternalTerminal.result\"\n",
    "targetPath = \"../5_Tests/Sep7modelWithLengthDistributionNCrassa/ModelDIY/GC49SPombeIntronSpacerDonorToBpSingleInitialInternalTerminal.gtf\"\n",
    "convert(sourcePath, targetPath)"
   ]
  },
  {
   "cell_type": "code",
   "execution_count": 16,
   "metadata": {
    "collapsed": true
   },
   "outputs": [],
   "source": [
    "sourcePath = \"../5_Tests/Sep7modelWithLengthDistributionNCrassa/ModelDIY/GC49SPombeIntronSpacerDonorToBpSingleInitialInternalTerminalConstSingle.result\"\n",
    "targetPath = \"../5_Tests/Sep7modelWithLengthDistributionNCrassa/ModelDIY/GC49SPombeIntronSpacerDonorToBpSingleInitialInternalTerminalConstSingle.gtf\"\n",
    "convert(sourcePath, targetPath)"
   ]
  },
  {
   "cell_type": "code",
   "execution_count": null,
   "metadata": {
    "collapsed": true
   },
   "outputs": [],
   "source": [
    "## test  NCrass model with Pneji1 length distribution model"
   ]
  },
  {
   "cell_type": "code",
   "execution_count": 19,
   "metadata": {
    "collapsed": true
   },
   "outputs": [],
   "source": [
    "sourcePath = \"../5_Tests/Sep7modelWithLengthDistributionNCrassa/ModelDIY/GC49onlyPneji1Intron.result\"\n",
    "targetPath = \"../5_Tests/Sep7modelWithLengthDistributionNCrassa/ModelDIY/GC49Pneji1Intron.gtf\"\n",
    "convert(sourcePath, targetPath)"
   ]
  },
  {
   "cell_type": "code",
   "execution_count": 20,
   "metadata": {
    "collapsed": true
   },
   "outputs": [],
   "source": [
    "sourcePath = \"../5_Tests/Sep7modelWithLengthDistributionNCrassa/ModelDIY/GC49onlyPneji1IntronSpacer.result\"\n",
    "targetPath = \"../5_Tests/Sep7modelWithLengthDistributionNCrassa/ModelDIY/GC49Pneji1IntronSpacer.gtf\"\n",
    "convert(sourcePath, targetPath)"
   ]
  },
  {
   "cell_type": "code",
   "execution_count": 21,
   "metadata": {
    "collapsed": true
   },
   "outputs": [],
   "source": [
    "sourcePath = \"../5_Tests/Sep7modelWithLengthDistributionNCrassa/ModelDIY/GC49onlyPneji1IntronSpacerDonorToBp.result\"\n",
    "targetPath = \"../5_Tests/Sep7modelWithLengthDistributionNCrassa/ModelDIY/GC49Pneji1IntronSpacerDonorToBp.gtf\"\n",
    "convert(sourcePath, targetPath)"
   ]
  },
  {
   "cell_type": "code",
   "execution_count": 22,
   "metadata": {
    "collapsed": true
   },
   "outputs": [],
   "source": [
    "sourcePath = \"../5_Tests/Sep7modelWithLengthDistributionNCrassa/ModelDIY/GC49onlyPneji1IntronSpacerDonorToBpSingle.result\"\n",
    "targetPath = \"../5_Tests/Sep7modelWithLengthDistributionNCrassa/ModelDIY/GC49Pneji1IntronSpacerDonorToBpSingle.gtf\"\n",
    "convert(sourcePath, targetPath)"
   ]
  },
  {
   "cell_type": "code",
   "execution_count": 23,
   "metadata": {
    "collapsed": true
   },
   "outputs": [],
   "source": [
    "sourcePath = \"../5_Tests/Sep7modelWithLengthDistributionNCrassa/ModelDIY/GC49onlyPneji1IntronSpacerDonorToBpSingleInitial.result\"\n",
    "targetPath = \"../5_Tests/Sep7modelWithLengthDistributionNCrassa/ModelDIY/GC49Pneji1IntronSpacerDonorToBpSingleInitial.gtf\"\n",
    "convert(sourcePath, targetPath)"
   ]
  },
  {
   "cell_type": "code",
   "execution_count": 24,
   "metadata": {
    "collapsed": true
   },
   "outputs": [],
   "source": [
    "sourcePath = \"../5_Tests/Sep7modelWithLengthDistributionNCrassa/ModelDIY/GC49onlyPneji1IntronSpacerDonorToBpSingleInitialInternal.result\"\n",
    "targetPath = \"../5_Tests/Sep7modelWithLengthDistributionNCrassa/ModelDIY/GC49Pneji1IntronSpacerDonorToBpSingleInitialInternal.gtf\"\n",
    "convert(sourcePath, targetPath)"
   ]
  },
  {
   "cell_type": "code",
   "execution_count": 25,
   "metadata": {
    "collapsed": true
   },
   "outputs": [],
   "source": [
    "sourcePath = \"../5_Tests/Sep7modelWithLengthDistributionNCrassa/ModelDIY/GC49onlyPneji1IntronSpacerDonorToBpSingleInitialInternalTerminal.result\"\n",
    "targetPath = \"../5_Tests/Sep7modelWithLengthDistributionNCrassa/ModelDIY/GC49Pneji1IntronSpacerDonorToBpSingleInitialInternalTerminal.gtf\"\n",
    "convert(sourcePath, targetPath)"
   ]
  },
  {
   "cell_type": "code",
   "execution_count": 28,
   "metadata": {
    "collapsed": true
   },
   "outputs": [],
   "source": [
    "## covnert Pneji1\n",
    "sourcePath = \"../5_Tests/Sep9Pneji/Pneji1.result\"\n",
    "targetPath = \"../5_Tests/Sep9Pneji/Pneji1.gtf\"\n",
    "convert(sourcePath, targetPath)"
   ]
  },
  {
   "cell_type": "code",
   "execution_count": 29,
   "metadata": {
    "collapsed": true
   },
   "outputs": [],
   "source": [
    "sourcePath = \"../5_Tests/Sep9Pneji/Pneji1_contig_281.result\"\n",
    "targetPath = \"../5_Tests/Sep9Pneji/Pneji1_contig_281.gtf\"\n",
    "convert(sourcePath, targetPath)"
   ]
  },
  {
   "cell_type": "code",
   "execution_count": null,
   "metadata": {
    "collapsed": true
   },
   "outputs": [],
   "source": [
    "## Sep 17, test "
   ]
  },
  {
   "cell_type": "code",
   "execution_count": 5,
   "metadata": {
    "collapsed": false
   },
   "outputs": [],
   "source": [
    "# S. Pombe\n",
    "sourcePath = \"../5_Tests/Sep17PolyAndGamma/GC36onlyPoly.es_output\"\n",
    "targetPath = \"../5_Tests/Sep17PolyAndGamma/GC36onlyPoly.gtf\"\n",
    "convert(sourcePath, targetPath)"
   ]
  },
  {
   "cell_type": "code",
   "execution_count": 6,
   "metadata": {
    "collapsed": true
   },
   "outputs": [],
   "source": [
    "# N. Crassa\n",
    "sourcePath = \"../5_Tests/Sep17PolyAndGamma/GC49onlyPoly.es_output\"\n",
    "targetPath = \"../5_Tests/Sep17PolyAndGamma/GC49onlyPoly.gtf\"\n",
    "convert(sourcePath, targetPath)"
   ]
  },
  {
   "cell_type": "code",
   "execution_count": 8,
   "metadata": {
    "collapsed": false
   },
   "outputs": [],
   "source": [
    "# S. Pombe\n",
    "sourcePath = \"../5_Tests/Sep17PolyAndGamma/GC36FullExonGammaApprox.es_output\"\n",
    "targetPath = \"../5_Tests/Sep17PolyAndGamma/GC36FullExonGammaApprox.gtf\"\n",
    "convert(sourcePath, targetPath)"
   ]
  },
  {
   "cell_type": "code",
   "execution_count": 9,
   "metadata": {
    "collapsed": true
   },
   "outputs": [],
   "source": [
    "# S. Pombe\n",
    "sourcePath = \"../5_Tests/Sep17PolyAndGamma/GC36NCrassaFullExonGammaApprox.es_output\"\n",
    "targetPath = \"../5_Tests/Sep17PolyAndGamma/GC36NCrassaFullExonGammaApprox.gtf\"\n",
    "convert(sourcePath, targetPath)"
   ]
  },
  {
   "cell_type": "code",
   "execution_count": 10,
   "metadata": {
    "collapsed": true
   },
   "outputs": [],
   "source": [
    "# S. Pombe\n",
    "sourcePath = \"../5_Tests/Sep17PolyAndGamma/GC36Pneji1FullExonGammaApprox.es_output\"\n",
    "targetPath = \"../5_Tests/Sep17PolyAndGamma/GC36Pneji1FullExonGammaApprox.gtf\"\n",
    "convert(sourcePath, targetPath)"
   ]
  },
  {
   "cell_type": "code",
   "execution_count": null,
   "metadata": {
    "collapsed": true
   },
   "outputs": [],
   "source": [
    "# \n",
    "sourcePath = \"../5_Tests/Sep17PolyAndGamma/GC36S1FullExonGammaApprox.es_output\"\n",
    "targetPath = \"../5_Tests/Sep17PolyAndGamma/GC36Pneji1FullExonGammaApprox.gtf\"\n",
    "convert(sourcePath, targetPath)"
   ]
  },
  {
   "cell_type": "code",
   "execution_count": 11,
   "metadata": {
    "collapsed": true
   },
   "outputs": [],
   "source": [
    "# N.crassa\n",
    "sourcePath = \"../5_Tests/Sep17PolyAndGamma/GC49FullExonGammaApprox.es_output\"\n",
    "targetPath = \"../5_Tests/Sep17PolyAndGamma/GC49FullExonGammaApprox.gtf\"\n",
    "convert(sourcePath, targetPath)"
   ]
  },
  {
   "cell_type": "code",
   "execution_count": 12,
   "metadata": {
    "collapsed": true
   },
   "outputs": [],
   "source": [
    "# N.crassa\n",
    "sourcePath = \"../5_Tests/Sep17PolyAndGamma/GC49SPombeFullExonGammaApprox.es_output\"\n",
    "targetPath = \"../5_Tests/Sep17PolyAndGamma/GC49SPombeFullExonGammaApprox.gtf\"\n",
    "convert(sourcePath, targetPath)"
   ]
  },
  {
   "cell_type": "code",
   "execution_count": 15,
   "metadata": {
    "collapsed": true
   },
   "outputs": [],
   "source": [
    "# N.crassa\n",
    "sourcePath = \"../5_Tests/Sep17PolyAndGamma/GC49Pneji1FullExonGammaApprox.es_output\"\n",
    "targetPath = \"../5_Tests/Sep17PolyAndGamma/GC49Pneji1FullExonGammaApprox.gtf\"\n",
    "convert(sourcePath, targetPath)"
   ]
  },
  {
   "cell_type": "code",
   "execution_count": 14,
   "metadata": {
    "collapsed": true
   },
   "outputs": [],
   "source": [
    "# N.crassa\n",
    "sourcePath = \"../5_Tests/Sep17PolyAndGamma/GC49FullNative.es_output\"\n",
    "targetPath = \"../5_Tests/Sep17PolyAndGamma/GC49FullNative.gtf\"\n",
    "convert(sourcePath, targetPath)"
   ]
  },
  {
   "cell_type": "code",
   "execution_count": 4,
   "metadata": {
    "collapsed": true
   },
   "outputs": [],
   "source": [
    "# S.Pombe\n",
    "sourcePath = \"../5_Tests/Sep25Intron/GC36FullExonIntronGammaApprox.genemarkHMM\"\n",
    "targetPath = \"../5_Tests/Sep25Intron/GC36FullExonIntronGammaApprox.gtf\"\n",
    "convert(sourcePath, targetPath)"
   ]
  },
  {
   "cell_type": "code",
   "execution_count": 6,
   "metadata": {
    "collapsed": true
   },
   "outputs": [],
   "source": [
    "# N.Crassa\n",
    "sourcePath = \"../5_Tests/Sep25Intron/GC49FullExonIntronGammaApprox.genemarkHMM\"\n",
    "targetPath = \"../5_Tests/Sep25Intron/GC49FullExonIntronGammaApprox.gtf\"\n",
    "convert(sourcePath, targetPath)"
   ]
  },
  {
   "cell_type": "code",
   "execution_count": 3,
   "metadata": {
    "collapsed": true
   },
   "outputs": [],
   "source": [
    "# S.Pombe assembled\n",
    "sourcePath = \"../5_Tests/Sep27AssembleAnnotation/ESFullAssembledAnnotation.es_output\"\n",
    "targetPath = \"../5_Tests/Sep27AssembleAnnotation/ESFullAssembledAnnotation.gtf\"\n",
    "convert(sourcePath, targetPath)"
   ]
  },
  {
   "cell_type": "code",
   "execution_count": 4,
   "metadata": {
    "collapsed": true
   },
   "outputs": [],
   "source": [
    "# S.Pombe assembled\n",
    "sourcePath = \"../5_Tests/Sep27AssembleAnnotation/HeuristicAssembledAnnotation.es_output\"\n",
    "targetPath = \"../5_Tests/Sep27AssembleAnnotation/HeuristicAssembledAnnotation.gtf\"\n",
    "convert(sourcePath, targetPath)"
   ]
  },
  {
   "cell_type": "code",
   "execution_count": 4,
   "metadata": {
    "collapsed": false
   },
   "outputs": [],
   "source": [
    "# S.Pombe assembled prokaryote\n",
    "sourcePath = \"../5_Tests/Sep28ComparisonProkaryote/mgm.output\"\n",
    "targetPath = \"../5_Tests/Sep28ComparisonProkaryote/mgm.gtf\"\n",
    "convert(sourcePath, targetPath)"
   ]
  },
  {
   "cell_type": "code",
   "execution_count": 10,
   "metadata": {
    "collapsed": true
   },
   "outputs": [],
   "source": [
    "# N.Crassa assembled prokaryote\n",
    "sourcePath = \"../5_Tests/Sep28ComparisonProkaryote/gmhmmResultESmodel.gmhmm\"\n",
    "targetPath = \"../5_Tests/Sep28ComparisonProkaryote/gmhmmResultESmodel.gtf\"\n",
    "convert(sourcePath, targetPath)"
   ]
  },
  {
   "cell_type": "code",
   "execution_count": 11,
   "metadata": {
    "collapsed": true
   },
   "outputs": [],
   "source": [
    "# N.Crassa assembled prokaryote\n",
    "sourcePath = \"../5_Tests/Sep28ComparisonProkaryote/gmhmmResultHeuristicModel.gmhmm\"\n",
    "targetPath = \"../5_Tests/Sep28ComparisonProkaryote/gmhmmResultHeuristicModel.gtf\"\n",
    "convert(sourcePath, targetPath)"
   ]
  },
  {
   "cell_type": "code",
   "execution_count": 14,
   "metadata": {
    "collapsed": true
   },
   "outputs": [],
   "source": [
    "# S.Pombe assembled gc36only\n",
    "sourcePath = \"../5_Tests/Sep28ComparisonProkaryote/gmhmmResultGC36onlyModel.gmhmm\"\n",
    "targetPath = \"../5_Tests/Sep28ComparisonProkaryote/gmhmmResultGC36onlyModel.gtf\"\n",
    "convert(sourcePath, targetPath)"
   ]
  },
  {
   "cell_type": "code",
   "execution_count": 15,
   "metadata": {
    "collapsed": true
   },
   "outputs": [],
   "source": [
    "# N.Crassa assembled gc49only\n",
    "sourcePath = \"../5_Tests/Sep28ComparisonProkaryote/gmhmmResultGC49onlyModel.gmhmm\"\n",
    "targetPath = \"../5_Tests/Sep28ComparisonProkaryote/gmhmmResultGC49onlyModel.gtf\"\n",
    "convert(sourcePath, targetPath)"
   ]
  },
  {
   "cell_type": "code",
   "execution_count": 18,
   "metadata": {
    "collapsed": true
   },
   "outputs": [],
   "source": [
    "# S.Pombe assembled gc36only\n",
    "sourcePath = \"../5_Tests/Sep29H99EukTest/gmhmmResultGC36H99.gmhmm\"\n",
    "targetPath = \"../5_Tests/Sep29H99EukTest/gmhmmResultGC36H99.gtf\"\n",
    "convert(sourcePath, targetPath)"
   ]
  },
  {
   "cell_type": "code",
   "execution_count": 19,
   "metadata": {
    "collapsed": true
   },
   "outputs": [],
   "source": [
    "# N.Crassa assembled gc49only\n",
    "sourcePath = \"../5_Tests/Sep29H99EukTest/gmhmmResultGC49H99.gmhmm\"\n",
    "targetPath = \"../5_Tests/Sep29H99EukTest/gmhmmResultGC49H99.gtf\"\n",
    "convert(sourcePath, targetPath)"
   ]
  },
  {
   "cell_type": "code",
   "execution_count": 3,
   "metadata": {
    "collapsed": true
   },
   "outputs": [],
   "source": [
    "# Aspo\n",
    "sourcePath = \"/storage3/w/richard/meta2015/finalTestSet20151002/longestContigsGenemarkhmm/Aspoch1_scaffold_1.gmhmme3\"\n",
    "targetPath = \"/storage3/w/richard/meta2015/finalTestSet20151002/longestContigsGenemarkhmmToGTF/Aspoch1_scaffold_1.gmhmme3.gtf\"\n",
    "convert(sourcePath, targetPath)\n"
   ]
  },
  {
   "cell_type": "code",
   "execution_count": 4,
   "metadata": {
    "collapsed": true
   },
   "outputs": [],
   "source": [
    "sourcePath = \"/storage3/w/richard/meta2015/finalTestSet20151002/longestContigsGenemarkhmm/Conli1_NODE_1580.gmhmme3\"\n",
    "targetPath = \"/storage3/w/richard/meta2015/finalTestSet20151002/longestContigsGenemarkhmmToGTF/Conli1_NODE_1580.gmhmme3.gtf\"\n",
    "convert(sourcePath, targetPath)\n"
   ]
  },
  {
   "cell_type": "code",
   "execution_count": null,
   "metadata": {
    "collapsed": true
   },
   "outputs": [],
   "source": []
  }
 ],
 "metadata": {
  "kernelspec": {
   "display_name": "Python 2",
   "language": "python",
   "name": "python2"
  },
  "language_info": {
   "codemirror_mode": {
    "name": "ipython",
    "version": 2
   },
   "file_extension": ".py",
   "mimetype": "text/x-python",
   "name": "python",
   "nbconvert_exporter": "python",
   "pygments_lexer": "ipython2",
   "version": "2.7.10"
  }
 },
 "nbformat": 4,
 "nbformat_minor": 0
}
