{
 "cells": [
  {
   "cell_type": "code",
   "execution_count": 5,
   "metadata": {
    "collapsed": true
   },
   "outputs": [],
   "source": [
    "'''To keep consistency of data, we cut fasta file according to annotation instead'''\n",
    "import pandas as pd\n",
    "import subprocess"
   ]
  },
  {
   "cell_type": "code",
   "execution_count": 2,
   "metadata": {
    "collapsed": true
   },
   "outputs": [],
   "source": [
    "info = pd.read_csv('/home/richard/research/data_small/fullTableInfoGff3GffRNAESwithDensity20151109.csv')\n",
    "info.index = info.shortName"
   ]
  },
  {
   "cell_type": "code",
   "execution_count": 6,
   "metadata": {
    "collapsed": false
   },
   "outputs": [],
   "source": [
    "## create directory for CDS species\n",
    "# for shortName in info.index:\n",
    "#     command = 'mkdir /storage3/w/richard/meta2016/CDS_cut/{}'.format(shortName)\n",
    "#     subprocess.check_call(command, shell = True)"
   ]
  },
  {
   "cell_type": "code",
   "execution_count": 11,
   "metadata": {
    "collapsed": false
   },
   "outputs": [],
   "source": [
    "## create script to cut CDS\n",
    "script = ''\n",
    "for shortName in info.index:\n",
    "    script += 'cd /storage3/w/richard/meta2016/CDS_cut/{}\\n'.format(shortName)\n",
    "    base = '/home/tool/gmes/get_sequence_from_GTF.pl'\n",
    "    gtf = '/storage3/w/alexl/Fa/{}/annot/annot.gtf'\n",
    "    fasta = '/storage3/w/alexl/Fa/{}/data/genome.fasta'\n",
    "    script += '{} {} {}\\n'.format(base, gtf.format(shortName), fasta.format(shortName))\n",
    "    script += 'cd ..\\n'\n",
    "with open('/storage3/w/richard/meta2016/CDS_cut/run_cut.sh','w') as f: f.write(script)"
   ]
  }
 ],
 "metadata": {
  "kernelspec": {
   "display_name": "Python 2",
   "language": "python",
   "name": "python2"
  },
  "language_info": {
   "codemirror_mode": {
    "name": "ipython",
    "version": 2
   },
   "file_extension": ".py",
   "mimetype": "text/x-python",
   "name": "python",
   "nbconvert_exporter": "python",
   "pygments_lexer": "ipython2",
   "version": "2.7.10"
  }
 },
 "nbformat": 4,
 "nbformat_minor": 0
}
