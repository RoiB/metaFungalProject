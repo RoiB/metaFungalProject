{
 "cells": [
  {
   "cell_type": "code",
   "execution_count": 10,
   "metadata": {
    "collapsed": false
   },
   "outputs": [],
   "source": [
    "'''\n",
    "filter out genomes that have 1) < 1 intron density, 2) rna seq count is 0\n",
    "'''\n",
    "import pandas as pd\n",
    "import matplotlib.pyplot as plt\n",
    "%matplotlib inline\n",
    "info = pd.read_csv(\"/home/richard/research/1_DataSmall/2_completeFileInfo/completeInfoStatisticsRNASeq.csv\")"
   ]
  },
  {
   "cell_type": "code",
   "execution_count": 11,
   "metadata": {
    "collapsed": false
   },
   "outputs": [],
   "source": [
    "# filter table to satisfy two criteria\n",
    "idx = (info['intronDensity'] >= 1) & (info['rnaSeqCount'] > 0)\n",
    "infoFiltered = info.loc[idx]\n",
    "infoFiltered.to_csv(\"/home/richard/research/1_DataSmall/2_completeFileInfo/completeInfoStatsRNASeqFiltered.csv\", index = None)"
   ]
  },
  {
   "cell_type": "code",
   "execution_count": 12,
   "metadata": {
    "collapsed": false,
    "scrolled": true
   },
   "outputs": [
    {
     "data": {
      "text/plain": [
       "[<matplotlib.lines.Line2D at 0x7f27449897d0>]"
      ]
     },
     "execution_count": 12,
     "metadata": {},
     "output_type": "execute_result"
    },
    {
     "data": {
      "image/png": "[encoded data removed]",
      "text/plain": [
       "<matplotlib.figure.Figure at 0x7f2744a06550>"
      ]
     },
     "metadata": {},
     "output_type": "display_data"
    }
   ],
   "source": [
    "## plotting\n",
    "gc = map(lambda x: round(x,2),infoFiltered['gc'])\n",
    "intronDensity = map(lambda x: round(x, 2), infoFiltered['intronDensity'])\n",
    "plt.plot(gc, intronDensity,'ro')"
   ]
  },
  {
   "cell_type": "code",
   "execution_count": 17,
   "metadata": {
    "collapsed": false,
    "scrolled": false
   },
   "outputs": [
    {
     "data": {
      "text/plain": [
       "shortName                                                 Pneji1\n",
       "longName                                  Pneumocystis jirovecii\n",
       "fastaName                      Pneji1_AssemblyScaffolds.fasta.gz\n",
       "gff3Name         Pneji1.filtered_proteins.ExternalModels.gff3.gz\n",
       "gc                                                          28.4\n",
       "numGene                                                     3520\n",
       "numExon                                                    20191\n",
       "numIntron                                                  16671\n",
       "intronDensity                                            4.73608\n",
       "rnaSeqCount                                                   10\n",
       "Name: 139, dtype: object"
      ]
     },
     "execution_count": 17,
     "metadata": {},
     "output_type": "execute_result"
    }
   ],
   "source": [
    "data = pd.read_csv(\"/home/richard/research/1_DataSmall/2_completeFileInfo/completeInfoStatsRNASeqFiltered.csv\")\n",
    "data.loc[139]"
   ]
  }
 ],
 "metadata": {
  "kernelspec": {
   "display_name": "Python 2",
   "language": "python",
   "name": "python2"
  },
  "language_info": {
   "codemirror_mode": {
    "name": "ipython",
    "version": 2
   },
   "file_extension": ".py",
   "mimetype": "text/x-python",
   "name": "python",
   "nbconvert_exporter": "python",
   "pygments_lexer": "ipython2",
   "version": "2.7.10"
  }
 },
 "nbformat": 4,
 "nbformat_minor": 0
}
