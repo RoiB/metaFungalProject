{
 "cells": [
  {
   "cell_type": "code",
   "execution_count": 8,
   "metadata": {
    "collapsed": true
   },
   "outputs": [],
   "source": [
    "from Bio import SeqIO\n",
    "import subprocess\n",
    "import pandas as pd"
   ]
  },
  {
   "cell_type": "code",
   "execution_count": 9,
   "metadata": {
    "collapsed": false
   },
   "outputs": [],
   "source": [
    "# ### pick fasta by number, 500 for this test\n",
    "# testSetLocation = '/home/richard/research/tests/Oct30NewTestSet/testSet500/'\n",
    "# fastaSource = '/home/richard/research/tests/Oct30NewTestSet/TestSetCutFastaFixedCDS/'\n",
    "# gtfSource = '/home/richard/research/tests/Oct30NewTestSet/TestSetMultiExonGtfFixedCDS/'\n",
    "\n",
    "# shortNames = map(lambda x: x.split('_Assem')[0], os.listdir(fastaSource))\n",
    "# shortNames = filter(lambda x: x not in ['HypEC38_1', 'Neopa1', 'Veren1','Spofi1.draft.mito.scaffolds.cut.fasta'],shortNames)\n",
    "\n",
    "# for shortName in shortNames:\n",
    "#     command = ('python /home/richard/research/tools/pickFastaByNumber.py {}{} {}{} {}{} {}{} {}'\n",
    "#                .format(fastaSource,shortName+'*.fasta', gtfSource, shortName+'*.gtf', \n",
    "#                        testSetLocation,shortName+'_500genes.fasta', testSetLocation, shortName+'_500genes.gtf', 500))\n",
    "#     subprocess.check_call(command, shell = True)\n",
    "#     print shortName,'done'"
   ]
  },
  {
   "cell_type": "code",
   "execution_count": 17,
   "metadata": {
    "collapsed": false,
    "scrolled": true
   },
   "outputs": [
    {
     "name": "stdout",
     "output_type": "stream",
     "text": [
      "Disac1 done\n",
      "Tilan2 done\n",
      "Trias1 done\n",
      "Hebcy2 done\n",
      "Croqu1 done\n",
      "Neopa1 done\n",
      "Spofi1 done\n",
      "Gloin1 done\n",
      "Aurvu1 done\n",
      "Conli1 done\n",
      "Conco1 done\n",
      "Aspoch1 done\n",
      "Veren1 done\n",
      "Sphst1 done\n",
      "SerlaS7_9_2 done\n",
      "HypEC38_1 done\n",
      "Phchr2 done\n",
      "Obbri1 done\n",
      "Pneji1 done\n",
      "Ophdi1 done\n",
      "Cenge3 done\n"
     ]
    }
   ],
   "source": [
    "### pick fasta by number, 100 for this test\n",
    "testSetLocation = '/home/richard/research/tests/Nov9UpdatedTestSetAndTest/testSet100Updated/'\n",
    "fastaSource = '/home/richard/research/tests/Nov9UpdatedTestSetAndTest/TestSetCutFasta/'\n",
    "gtfSource = '/home/richard/research/tests/Nov9UpdatedTestSetAndTest/TestSetMultiExonGtf/'\n",
    "\n",
    "shortNames = map(lambda x: x.split('_Assem')[0], os.listdir(fastaSource))\n",
    "# # shortNames = filter(lambda x: x not in ['HypEC38_1', 'Neopa1', 'Veren1','Spofi1.draft.mito.scaffolds.cut.fasta'],shortNames)\n",
    "shortNames = filter(lambda x: x not in ['Neopa1'],shortNames)\n",
    "for shortName in shortNames:\n",
    "    command = ('python /home/richard/research/tools/pickFastaByNumber.py {}{} {}{} {}{} {}{} {}'\n",
    "               .format(fastaSource,shortName+'*.fasta', gtfSource, shortName+'*.gtf', \n",
    "                       testSetLocation,shortName+'_100_genes.fasta', testSetLocation, shortName+'_100_genes.gtf', 100))\n",
    "    subprocess.check_call(command, shell = True)\n",
    "    print shortName,'done'"
   ]
  },
  {
   "cell_type": "code",
   "execution_count": 27,
   "metadata": {
    "collapsed": false
   },
   "outputs": [
    {
     "name": "stdout",
     "output_type": "stream",
     "text": [
      "python /home/richard/research/tools/gmhmme3MultiFastaV1.py /home/richard/largeDataSet/ES_Run_modfileAug2015/Disac1.ES_C_4.mod /home/richard/research/tests/Nov9UpdatedTestSetAndTest/testSet100Updated/Disac1_100_genes.fasta Disac1\n",
      "\n",
      "python /home/richard/research/tools/gmhmme3MultiFastaV1.py /home/richard/largeDataSet/ES_Run_modfileAug2015/Tilan2.ES_C_4.mod /home/richard/research/tests/Nov9UpdatedTestSetAndTest/testSet100Updated/Tilan2_100_genes.fasta Tilan2\n",
      "\n",
      "python /home/richard/research/tools/gmhmme3MultiFastaV1.py /home/richard/largeDataSet/ES_Run_modfileAug2015/Trias1.ES_C_4.mod /home/richard/research/tests/Nov9UpdatedTestSetAndTest/testSet100Updated/Trias1_100_genes.fasta Trias1\n",
      "\n",
      "python /home/richard/research/tools/gmhmme3MultiFastaV1.py /home/richard/largeDataSet/ES_Run_modfileAug2015/Hebcy2.ES_C_4.mod /home/richard/research/tests/Nov9UpdatedTestSetAndTest/testSet100Updated/Hebcy2_100_genes.fasta Hebcy2\n",
      "\n",
      "python /home/richard/research/tools/gmhmme3MultiFastaV1.py /home/richard/largeDataSet/ES_Run_modfileAug2015/Croqu1.ES_C_4.mod /home/richard/research/tests/Nov9UpdatedTestSetAndTest/testSet100Updated/Croqu1_100_genes.fasta Croqu1\n",
      "\n",
      "python /home/richard/research/tools/gmhmme3MultiFastaV1.py /home/richard/largeDataSet/ES_Run_modfileAug2015/Neopa1.ES_C_4.mod /home/richard/research/tests/Nov9UpdatedTestSetAndTest/testSet100Updated/Neopa1_100_genes.fasta Neopa1\n",
      "\n",
      "python /home/richard/research/tools/gmhmme3MultiFastaV1.py /home/richard/largeDataSet/ES_Run_modfileAug2015/Spofi1.ES_C_4.mod /home/richard/research/tests/Nov9UpdatedTestSetAndTest/testSet100Updated/Spofi1_100_genes.fasta Spofi1\n",
      "\n",
      "python /home/richard/research/tools/gmhmme3MultiFastaV1.py /home/richard/largeDataSet/ES_Run_modfileAug2015/Gloin1.ES_C_4.mod /home/richard/research/tests/Nov9UpdatedTestSetAndTest/testSet100Updated/Gloin1_100_genes.fasta Gloin1\n",
      "\n",
      "python /home/richard/research/tools/gmhmme3MultiFastaV1.py /home/richard/largeDataSet/ES_Run_modfileAug2015/Aurvu1.ES_C_4.mod /home/richard/research/tests/Nov9UpdatedTestSetAndTest/testSet100Updated/Aurvu1_100_genes.fasta Aurvu1\n",
      "\n",
      "python /home/richard/research/tools/gmhmme3MultiFastaV1.py /home/richard/largeDataSet/ES_Run_modfileAug2015/Conli1.ES_C_4.mod /home/richard/research/tests/Nov9UpdatedTestSetAndTest/testSet100Updated/Conli1_100_genes.fasta Conli1\n",
      "\n",
      "python /home/richard/research/tools/gmhmme3MultiFastaV1.py /home/richard/largeDataSet/ES_Run_modfileAug2015/Conco1.ES_C_4.mod /home/richard/research/tests/Nov9UpdatedTestSetAndTest/testSet100Updated/Conco1_100_genes.fasta Conco1\n",
      "\n",
      "python /home/richard/research/tools/gmhmme3MultiFastaV1.py /home/richard/largeDataSet/ES_Run_modfileAug2015/Aspoch1.ES_C_4.mod /home/richard/research/tests/Nov9UpdatedTestSetAndTest/testSet100Updated/Aspoch1_100_genes.fasta Aspoch1\n",
      "\n",
      "python /home/richard/research/tools/gmhmme3MultiFastaV1.py /home/richard/largeDataSet/ES_Run_modfileAug2015/Veren1.ES_C_4.mod /home/richard/research/tests/Nov9UpdatedTestSetAndTest/testSet100Updated/Veren1_100_genes.fasta Veren1\n",
      "\n",
      "python /home/richard/research/tools/gmhmme3MultiFastaV1.py /home/richard/largeDataSet/ES_Run_modfileAug2015/Sphst1.ES_C_4.mod /home/richard/research/tests/Nov9UpdatedTestSetAndTest/testSet100Updated/Sphst1_100_genes.fasta Sphst1\n",
      "\n",
      "python /home/richard/research/tools/gmhmme3MultiFastaV1.py /home/richard/largeDataSet/ES_Run_modfileAug2015/SerlaS7_9_2.ES_C_4.mod /home/richard/research/tests/Nov9UpdatedTestSetAndTest/testSet100Updated/SerlaS7_9_2_100_genes.fasta SerlaS7_9_2\n",
      "\n",
      "python /home/richard/research/tools/gmhmme3MultiFastaV1.py /home/richard/largeDataSet/ES_Run_modfileAug2015/HypEC38_1.ES_C_4.mod /home/richard/research/tests/Nov9UpdatedTestSetAndTest/testSet100Updated/HypEC38_1_100_genes.fasta HypEC38_1\n",
      "\n",
      "python /home/richard/research/tools/gmhmme3MultiFastaV1.py /home/richard/largeDataSet/ES_Run_modfileAug2015/Phchr2.ES_C_4.mod /home/richard/research/tests/Nov9UpdatedTestSetAndTest/testSet100Updated/Phchr2_100_genes.fasta Phchr2\n",
      "\n",
      "python /home/richard/research/tools/gmhmme3MultiFastaV1.py /home/richard/largeDataSet/ES_Run_modfileAug2015/Obbri1.ES_C_4.mod /home/richard/research/tests/Nov9UpdatedTestSetAndTest/testSet100Updated/Obbri1_100_genes.fasta Obbri1\n",
      "\n",
      "python /home/richard/research/tools/gmhmme3MultiFastaV1.py /home/richard/largeDataSet/ES_Run_modfileAug2015/Pneji1.ES_C_4.mod /home/richard/research/tests/Nov9UpdatedTestSetAndTest/testSet100Updated/Pneji1_100_genes.fasta Pneji1\n",
      "\n",
      "python /home/richard/research/tools/gmhmme3MultiFastaV1.py /home/richard/largeDataSet/ES_Run_modfileAug2015/Ophdi1.ES_C_4.mod /home/richard/research/tests/Nov9UpdatedTestSetAndTest/testSet100Updated/Ophdi1_100_genes.fasta Ophdi1\n",
      "\n",
      "python /home/richard/research/tools/gmhmme3MultiFastaV1.py /home/richard/largeDataSet/ES_Run_modfileAug2015/Cenge3.ES_C_4.mod /home/richard/research/tests/Nov9UpdatedTestSetAndTest/testSet100Updated/Cenge3_100_genes.fasta Cenge3\n",
      "\n"
     ]
    }
   ],
   "source": [
    "### run gmhmme3 multi-fasta version, with ES model file\n",
    "modelLowLoc = '/home/richard/largeDataSet/ES_Run_modfileAug2015/'\n",
    "script = ''\n",
    "for shortName in shortNames:\n",
    "    command = ('python /home/richard/research/tools/gmhmme3MultiFastaV1.py {}{}.ES_C_4.mod {}{}_100_genes.fasta {}\\n'\n",
    "               .format(modelLowLoc,shortName, testSetLocation, shortName, shortName))\n",
    "    script += command\n",
    "    print command\n",
    "with open('/home/richard/research/tests/Nov9UpdatedTestSetAndTest/test100outputES/run_test.sh','w') as f: f.write(script)"
   ]
  },
  {
   "cell_type": "code",
   "execution_count": 26,
   "metadata": {
    "collapsed": false
   },
   "outputs": [
    {
     "name": "stdout",
     "output_type": "stream",
     "text": [
      "perl evaluate_gtf.pl /home/richard/research/tests/Nov9UpdatedTestSetAndTest/testSet100Updated/Disac1_100_genes.gtf /home/richard/research/tests/Nov9UpdatedTestSetAndTest/test100outputES/Disac1/Disac1_fullPrediction.gtf > /home/richard/research/tests/Nov9UpdatedTestSetAndTest/evalresultES/Disac1.eval.txt\n",
      "\n",
      "perl evaluate_gtf.pl /home/richard/research/tests/Nov9UpdatedTestSetAndTest/testSet100Updated/Tilan2_100_genes.gtf /home/richard/research/tests/Nov9UpdatedTestSetAndTest/test100outputES/Tilan2/Tilan2_fullPrediction.gtf > /home/richard/research/tests/Nov9UpdatedTestSetAndTest/evalresultES/Tilan2.eval.txt\n",
      "\n",
      "perl evaluate_gtf.pl /home/richard/research/tests/Nov9UpdatedTestSetAndTest/testSet100Updated/Trias1_100_genes.gtf /home/richard/research/tests/Nov9UpdatedTestSetAndTest/test100outputES/Trias1/Trias1_fullPrediction.gtf > /home/richard/research/tests/Nov9UpdatedTestSetAndTest/evalresultES/Trias1.eval.txt\n",
      "\n",
      "perl evaluate_gtf.pl /home/richard/research/tests/Nov9UpdatedTestSetAndTest/testSet100Updated/Hebcy2_100_genes.gtf /home/richard/research/tests/Nov9UpdatedTestSetAndTest/test100outputES/Hebcy2/Hebcy2_fullPrediction.gtf > /home/richard/research/tests/Nov9UpdatedTestSetAndTest/evalresultES/Hebcy2.eval.txt\n",
      "\n",
      "perl evaluate_gtf.pl /home/richard/research/tests/Nov9UpdatedTestSetAndTest/testSet100Updated/Croqu1_100_genes.gtf /home/richard/research/tests/Nov9UpdatedTestSetAndTest/test100outputES/Croqu1/Croqu1_fullPrediction.gtf > /home/richard/research/tests/Nov9UpdatedTestSetAndTest/evalresultES/Croqu1.eval.txt\n",
      "\n",
      "perl evaluate_gtf.pl /home/richard/research/tests/Nov9UpdatedTestSetAndTest/testSet100Updated/Neopa1_100_genes.gtf /home/richard/research/tests/Nov9UpdatedTestSetAndTest/test100outputES/Neopa1/Neopa1_fullPrediction.gtf > /home/richard/research/tests/Nov9UpdatedTestSetAndTest/evalresultES/Neopa1.eval.txt\n",
      "\n",
      "perl evaluate_gtf.pl /home/richard/research/tests/Nov9UpdatedTestSetAndTest/testSet100Updated/Spofi1_100_genes.gtf /home/richard/research/tests/Nov9UpdatedTestSetAndTest/test100outputES/Spofi1/Spofi1_fullPrediction.gtf > /home/richard/research/tests/Nov9UpdatedTestSetAndTest/evalresultES/Spofi1.eval.txt\n",
      "\n",
      "perl evaluate_gtf.pl /home/richard/research/tests/Nov9UpdatedTestSetAndTest/testSet100Updated/Gloin1_100_genes.gtf /home/richard/research/tests/Nov9UpdatedTestSetAndTest/test100outputES/Gloin1/Gloin1_fullPrediction.gtf > /home/richard/research/tests/Nov9UpdatedTestSetAndTest/evalresultES/Gloin1.eval.txt\n",
      "\n",
      "perl evaluate_gtf.pl /home/richard/research/tests/Nov9UpdatedTestSetAndTest/testSet100Updated/Aurvu1_100_genes.gtf /home/richard/research/tests/Nov9UpdatedTestSetAndTest/test100outputES/Aurvu1/Aurvu1_fullPrediction.gtf > /home/richard/research/tests/Nov9UpdatedTestSetAndTest/evalresultES/Aurvu1.eval.txt\n",
      "\n",
      "perl evaluate_gtf.pl /home/richard/research/tests/Nov9UpdatedTestSetAndTest/testSet100Updated/Conli1_100_genes.gtf /home/richard/research/tests/Nov9UpdatedTestSetAndTest/test100outputES/Conli1/Conli1_fullPrediction.gtf > /home/richard/research/tests/Nov9UpdatedTestSetAndTest/evalresultES/Conli1.eval.txt\n",
      "\n",
      "perl evaluate_gtf.pl /home/richard/research/tests/Nov9UpdatedTestSetAndTest/testSet100Updated/Conco1_100_genes.gtf /home/richard/research/tests/Nov9UpdatedTestSetAndTest/test100outputES/Conco1/Conco1_fullPrediction.gtf > /home/richard/research/tests/Nov9UpdatedTestSetAndTest/evalresultES/Conco1.eval.txt\n",
      "\n",
      "perl evaluate_gtf.pl /home/richard/research/tests/Nov9UpdatedTestSetAndTest/testSet100Updated/Aspoch1_100_genes.gtf /home/richard/research/tests/Nov9UpdatedTestSetAndTest/test100outputES/Aspoch1/Aspoch1_fullPrediction.gtf > /home/richard/research/tests/Nov9UpdatedTestSetAndTest/evalresultES/Aspoch1.eval.txt\n",
      "\n",
      "perl evaluate_gtf.pl /home/richard/research/tests/Nov9UpdatedTestSetAndTest/testSet100Updated/Veren1_100_genes.gtf /home/richard/research/tests/Nov9UpdatedTestSetAndTest/test100outputES/Veren1/Veren1_fullPrediction.gtf > /home/richard/research/tests/Nov9UpdatedTestSetAndTest/evalresultES/Veren1.eval.txt\n",
      "\n",
      "perl evaluate_gtf.pl /home/richard/research/tests/Nov9UpdatedTestSetAndTest/testSet100Updated/Sphst1_100_genes.gtf /home/richard/research/tests/Nov9UpdatedTestSetAndTest/test100outputES/Sphst1/Sphst1_fullPrediction.gtf > /home/richard/research/tests/Nov9UpdatedTestSetAndTest/evalresultES/Sphst1.eval.txt\n",
      "\n",
      "perl evaluate_gtf.pl /home/richard/research/tests/Nov9UpdatedTestSetAndTest/testSet100Updated/SerlaS7_9_2_100_genes.gtf /home/richard/research/tests/Nov9UpdatedTestSetAndTest/test100outputES/SerlaS7_9_2/SerlaS7_9_2_fullPrediction.gtf > /home/richard/research/tests/Nov9UpdatedTestSetAndTest/evalresultES/SerlaS7_9_2.eval.txt\n",
      "\n",
      "perl evaluate_gtf.pl /home/richard/research/tests/Nov9UpdatedTestSetAndTest/testSet100Updated/HypEC38_1_100_genes.gtf /home/richard/research/tests/Nov9UpdatedTestSetAndTest/test100outputES/HypEC38_1/HypEC38_1_fullPrediction.gtf > /home/richard/research/tests/Nov9UpdatedTestSetAndTest/evalresultES/HypEC38_1.eval.txt\n",
      "\n",
      "perl evaluate_gtf.pl /home/richard/research/tests/Nov9UpdatedTestSetAndTest/testSet100Updated/Phchr2_100_genes.gtf /home/richard/research/tests/Nov9UpdatedTestSetAndTest/test100outputES/Phchr2/Phchr2_fullPrediction.gtf > /home/richard/research/tests/Nov9UpdatedTestSetAndTest/evalresultES/Phchr2.eval.txt\n",
      "\n",
      "perl evaluate_gtf.pl /home/richard/research/tests/Nov9UpdatedTestSetAndTest/testSet100Updated/Obbri1_100_genes.gtf /home/richard/research/tests/Nov9UpdatedTestSetAndTest/test100outputES/Obbri1/Obbri1_fullPrediction.gtf > /home/richard/research/tests/Nov9UpdatedTestSetAndTest/evalresultES/Obbri1.eval.txt\n",
      "\n",
      "perl evaluate_gtf.pl /home/richard/research/tests/Nov9UpdatedTestSetAndTest/testSet100Updated/Pneji1_100_genes.gtf /home/richard/research/tests/Nov9UpdatedTestSetAndTest/test100outputES/Pneji1/Pneji1_fullPrediction.gtf > /home/richard/research/tests/Nov9UpdatedTestSetAndTest/evalresultES/Pneji1.eval.txt\n",
      "\n",
      "perl evaluate_gtf.pl /home/richard/research/tests/Nov9UpdatedTestSetAndTest/testSet100Updated/Ophdi1_100_genes.gtf /home/richard/research/tests/Nov9UpdatedTestSetAndTest/test100outputES/Ophdi1/Ophdi1_fullPrediction.gtf > /home/richard/research/tests/Nov9UpdatedTestSetAndTest/evalresultES/Ophdi1.eval.txt\n",
      "\n",
      "perl evaluate_gtf.pl /home/richard/research/tests/Nov9UpdatedTestSetAndTest/testSet100Updated/Cenge3_100_genes.gtf /home/richard/research/tests/Nov9UpdatedTestSetAndTest/test100outputES/Cenge3/Cenge3_fullPrediction.gtf > /home/richard/research/tests/Nov9UpdatedTestSetAndTest/evalresultES/Cenge3.eval.txt\n",
      "\n"
     ]
    }
   ],
   "source": [
    "##### eval out put result\n",
    "location = '/home/richard/research/tests/Nov9UpdatedTestSetAndTest/test100outputES/'\n",
    "folders = os.listdir(location)\n",
    "outputLocationLow = '/home/richard/research/tests/Nov9UpdatedTestSetAndTest/evalresultES/'\n",
    "\n",
    "script = ''\n",
    "for shortName in shortNames:\n",
    "    command = ('perl evaluate_gtf.pl {}{}_100_genes.gtf {}{}/{}_fullPrediction.gtf > {}{}.eval.txt\\n'\n",
    "               .format(testSetLocation, shortName, location, shortName, shortName, outputLocationLow,shortName))\n",
    "    print command\n",
    "    script += command\n",
    "with open('/home/richard/research/tests/Nov9UpdatedTestSetAndTest/eval_lite/eval_ES.sh','w') as f: f.write(script)"
   ]
  },
  {
   "cell_type": "code",
   "execution_count": null,
   "metadata": {
    "collapsed": true
   },
   "outputs": [],
   "source": []
  }
 ],
 "metadata": {
  "kernelspec": {
   "display_name": "Python 2",
   "language": "python",
   "name": "python2"
  },
  "language_info": {
   "codemirror_mode": {
    "name": "ipython",
    "version": 2
   },
   "file_extension": ".py",
   "mimetype": "text/x-python",
   "name": "python",
   "nbconvert_exporter": "python",
   "pygments_lexer": "ipython2",
   "version": "2.7.10"
  }
 },
 "nbformat": 4,
 "nbformat_minor": 0
}
