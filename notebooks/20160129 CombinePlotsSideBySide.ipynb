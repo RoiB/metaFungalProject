{
 "cells": [
  {
   "cell_type": "code",
   "execution_count": 53,
   "metadata": {
    "collapsed": false
   },
   "outputs": [],
   "source": [
    "from PIL import Image\n",
    "import pandas as pd"
   ]
  },
  {
   "cell_type": "code",
   "execution_count": 57,
   "metadata": {
    "collapsed": false
   },
   "outputs": [],
   "source": [
    "info = pd.read_csv('/home/richard/research/data_small/fullTableInfoGff3GffRNAESwithDensity20151223.csv')\n",
    "info.index = info.shortName"
   ]
  },
  {
   "cell_type": "code",
   "execution_count": 20,
   "metadata": {
    "collapsed": false
   },
   "outputs": [],
   "source": [
    "im = Image.open(\"/home/richard/research/tests/20160129ApproxSiteDonorAcceptor/plots/acceptors_plot/Aaoar1_acc_50.tiff\")"
   ]
  },
  {
   "cell_type": "code",
   "execution_count": 21,
   "metadata": {
    "collapsed": false
   },
   "outputs": [],
   "source": [
    "new_im = Image.new('RGB', (960,480))"
   ]
  },
  {
   "cell_type": "code",
   "execution_count": 25,
   "metadata": {
    "collapsed": false
   },
   "outputs": [],
   "source": [
    "new_im.paste(im, (0,0))\n",
    "new_im.paste(im, (480,0))"
   ]
  },
  {
   "cell_type": "code",
   "execution_count": 50,
   "metadata": {
    "collapsed": true
   },
   "outputs": [],
   "source": [
    "## learn the image package and start paste donor image\n",
    "donor_files = os.listdir('/home/richard/research/tests/20160129ApproxSiteDonorAcceptor/plots/donors_plot/')\n",
    "acceptor_files = os.listdir('/home/richard/research/tests/20160129ApproxSiteDonorAcceptor/plots/acceptors_plot/')"
   ]
  },
  {
   "cell_type": "code",
   "execution_count": 49,
   "metadata": {
    "collapsed": false
   },
   "outputs": [
    {
     "name": "stdout",
     "output_type": "stream",
     "text": [
      "problem with Orpsp1_1_don_17.tiff\n",
      "problem with PirE2_1_don_22.tiff\n"
     ]
    }
   ],
   "source": [
    "for name in donor_files:\n",
    "    try:\n",
    "        new_im = Image.new('RGB', (960,480))\n",
    "        #paste original\n",
    "        im1 = Image.open('/home/richard/research/tests/20160129ApproxSiteDonorAcceptor/plots/donors_plot/{}'.format(name))\n",
    "        new_im.paste(im1,(0,0))\n",
    "\n",
    "        #paste approx\n",
    "        gc = name.split('_')[-1]\n",
    "        im2 = Image.open('/home/richard/research/tests/20160129ApproxSiteDonorAcceptor/plots/approx_donors_plots/don_{}'.format(gc))\n",
    "        new_im.paste(im2,(480,0))\n",
    "\n",
    "        path = '/home/richard/research/tests/20160129ApproxSiteDonorAcceptor/plots/donor_combined/'\n",
    "        new_im.save(path + name[:-5]+'_combined.png')\n",
    "    except:\n",
    "        print \"problem with\", name"
   ]
  },
  {
   "cell_type": "code",
   "execution_count": 51,
   "metadata": {
    "collapsed": false
   },
   "outputs": [
    {
     "name": "stdout",
     "output_type": "stream",
     "text": [
      "problem with Orpsp1_1_acc_17.tiff\n",
      "problem with PirE2_1_acc_22.tiff\n"
     ]
    }
   ],
   "source": [
    "for name in acceptor_files:\n",
    "    try:\n",
    "        new_im = Image.new('RGB', (960,480))\n",
    "        #paste original\n",
    "        im1 = Image.open('/home/richard/research/tests/20160129ApproxSiteDonorAcceptor/plots/acceptors_plot/{}'.format(name))\n",
    "        new_im.paste(im1,(0,0))\n",
    "\n",
    "        #paste approx\n",
    "        gc = name.split('_')[-1]\n",
    "        im2 = Image.open('/home/richard/research/tests/20160129ApproxSiteDonorAcceptor/plots/approx_acceptors_plots/acc_{}'.format(gc))\n",
    "        new_im.paste(im2,(480,0))\n",
    "    \n",
    "        path = '/home/richard/research/tests/20160129ApproxSiteDonorAcceptor/plots/acceptor_combined/'\n",
    "        new_im.save(path + name[:-5]+'_combined.png')\n",
    "    except:\n",
    "        print \"problem with\", name"
   ]
  },
  {
   "cell_type": "code",
   "execution_count": 55,
   "metadata": {
    "collapsed": false
   },
   "outputs": [
    {
     "data": {
      "text/plain": [
       "'Rhoto1_acc_62.tiff'"
      ]
     },
     "execution_count": 55,
     "metadata": {},
     "output_type": "execute_result"
    }
   ],
   "source": [
    "name"
   ]
  }
 ],
 "metadata": {
  "kernelspec": {
   "display_name": "Python 2",
   "language": "python",
   "name": "python2"
  },
  "language_info": {
   "codemirror_mode": {
    "name": "ipython",
    "version": 2
   },
   "file_extension": ".py",
   "mimetype": "text/x-python",
   "name": "python",
   "nbconvert_exporter": "python",
   "pygments_lexer": "ipython2",
   "version": "2.7.10"
  }
 },
 "nbformat": 4,
 "nbformat_minor": 0
}
