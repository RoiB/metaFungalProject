{
 "cells": [
  {
   "cell_type": "code",
   "execution_count": 6,
   "metadata": {
    "collapsed": true
   },
   "outputs": [],
   "source": [
    "import sys\n",
    "sys.path.append('/home/richard/research/tools/')\n",
    "import re"
   ]
  },
  {
   "cell_type": "code",
   "execution_count": 7,
   "metadata": {
    "collapsed": true
   },
   "outputs": [],
   "source": [
    "import moduleIntron\n",
    "import pandas as pd"
   ]
  },
  {
   "cell_type": "code",
   "execution_count": 8,
   "metadata": {
    "collapsed": true
   },
   "outputs": [],
   "source": [
    "## generate eval evalute mutigene gtf\n",
    "source = \"/home/richard/research/tests/Nov9UpdatedTestSetAndTest/goodMultiExonGtf/\"\n",
    "filenames = os.listdir(source)"
   ]
  },
  {
   "cell_type": "code",
   "execution_count": 9,
   "metadata": {
    "collapsed": true
   },
   "outputs": [],
   "source": [
    "info = pd.read_csv('/home/richard/research/data_small/fullTableInfoGff3GffRNAESwithDensity20151109.csv')\n",
    "info.index = info.shortName"
   ]
  },
  {
   "cell_type": "code",
   "execution_count": 10,
   "metadata": {
    "collapsed": false
   },
   "outputs": [],
   "source": [
    "shortNames = map(lambda x: x.split('_GeneCatalog')[0], filenames)"
   ]
  },
  {
   "cell_type": "code",
   "execution_count": 13,
   "metadata": {
    "collapsed": false
   },
   "outputs": [],
   "source": [
    "annotationPath = '/storage3/w/richard/meta2015/placeForRNASeq/'\n",
    "annotationIntronDensity = {}\n",
    "for shortName in shortNames:\n",
    "    density = moduleIntron.get_intron_density(annotationPath+shortName+'/data/{}'.format(info.gffName[shortName][:-3]))\n",
    "    annotationIntronDensity[shortName] = density"
   ]
  },
  {
   "cell_type": "code",
   "execution_count": 16,
   "metadata": {
    "collapsed": true
   },
   "outputs": [],
   "source": [
    "alex_path = '/storage3/w/alexl/F/'\n",
    "ESIntronDensity = {}\n",
    "for shortName in shortNames:\n",
    "    density = moduleIntron.get_intron_density(alex_path+shortName+'/ES/genemark.gtf')\n",
    "    ESIntronDensity[shortName] = density"
   ]
  },
  {
   "cell_type": "code",
   "execution_count": 11,
   "metadata": {
    "collapsed": false
   },
   "outputs": [],
   "source": [
    "filteredAnnotationIntronDensity = {}\n",
    "for filename in filenames:\n",
    "    try:\n",
    "        shortName = filename.split('_GeneCatalog')[0]\n",
    "        density = moduleIntron.get_intron_density(source+filename)\n",
    "        filteredAnnotationIntronDensity[shortName] = density\n",
    "    except:\n",
    "        print 'problem with', filename"
   ]
  },
  {
   "cell_type": "code",
   "execution_count": 22,
   "metadata": {
    "collapsed": true
   },
   "outputs": [],
   "source": [
    "sub_info = info[['shortName','longName','gc']].ix[shortNames]\n",
    "sub_info['annotationIntronDensity'] = [annotationIntronDensity[shortName] for shortName in sub_info.index]\n",
    "sub_info['ESIntronDensity'] = [ESIntronDensity[shortName] for shortName in sub_info.index]\n",
    "sub_info['filteredAnnotationIntronDensity'] = [filteredAnnotationIntronDensity[shortName] for shortName in sub_info.index]\n",
    "sub_info = sub_info.ix[sorted(sub_info.index)]\n",
    "sub_info.to_csv('/home/richard/research/tests/Nov11NewIntronDensity/testSetInfoNewUpdated.csv', index = False)"
   ]
  },
  {
   "cell_type": "code",
   "execution_count": 21,
   "metadata": {
    "collapsed": false
   },
   "outputs": [
    {
     "data": {
      "text/html": [
       "<div>\n",
       "<table border=\"1\" class=\"dataframe\">\n",
       "  <thead>\n",
       "    <tr style=\"text-align: right;\">\n",
       "      <th></th>\n",
       "      <th>shortName</th>\n",
       "      <th>longName</th>\n",
       "      <th>gc</th>\n",
       "      <th>annotationIntronDensity</th>\n",
       "      <th>ESIntronDensity</th>\n",
       "      <th>filteredAnnotationIntronDensity</th>\n",
       "    </tr>\n",
       "    <tr>\n",
       "      <th>shortName</th>\n",
       "      <th></th>\n",
       "      <th></th>\n",
       "      <th></th>\n",
       "      <th></th>\n",
       "      <th></th>\n",
       "      <th></th>\n",
       "    </tr>\n",
       "  </thead>\n",
       "  <tbody>\n",
       "    <tr>\n",
       "      <th>Aspoch1</th>\n",
       "      <td>Aspoch1</td>\n",
       "      <td>Aspergillus ochraceoroseus IBT 24754 v1.0</td>\n",
       "      <td>44.2</td>\n",
       "      <td>2.742920</td>\n",
       "      <td>2.668625</td>\n",
       "      <td>2.522494</td>\n",
       "    </tr>\n",
       "    <tr>\n",
       "      <th>Aurvu1</th>\n",
       "      <td>Aurvu1</td>\n",
       "      <td>Auriscalpium vulgare FP105234-Sp v1.0</td>\n",
       "      <td>56.8</td>\n",
       "      <td>4.931555</td>\n",
       "      <td>5.357689</td>\n",
       "      <td>4.619048</td>\n",
       "    </tr>\n",
       "    <tr>\n",
       "      <th>Cenge3</th>\n",
       "      <td>Cenge3</td>\n",
       "      <td>Cenococcum geophilum 1.58 v2.0</td>\n",
       "      <td>37.5</td>\n",
       "      <td>2.670176</td>\n",
       "      <td>3.495655</td>\n",
       "      <td>2.577524</td>\n",
       "    </tr>\n",
       "    <tr>\n",
       "      <th>Conco1</th>\n",
       "      <td>Conco1</td>\n",
       "      <td>Conidiobolus coronatus NRRL28638 v1.0</td>\n",
       "      <td>27.7</td>\n",
       "      <td>3.160395</td>\n",
       "      <td>3.218114</td>\n",
       "      <td>3.528374</td>\n",
       "    </tr>\n",
       "    <tr>\n",
       "      <th>Conli1</th>\n",
       "      <td>Conli1</td>\n",
       "      <td>Coniochaeta ligniaria CBS 111746</td>\n",
       "      <td>51.9</td>\n",
       "      <td>2.593246</td>\n",
       "      <td>2.264935</td>\n",
       "      <td>1.978952</td>\n",
       "    </tr>\n",
       "    <tr>\n",
       "      <th>Croqu1</th>\n",
       "      <td>Croqu1</td>\n",
       "      <td>Cronartium quercuum f. sp. fusiforme G11 v1.0</td>\n",
       "      <td>41.1</td>\n",
       "      <td>4.016015</td>\n",
       "      <td>4.266862</td>\n",
       "      <td>4.531011</td>\n",
       "    </tr>\n",
       "    <tr>\n",
       "      <th>Disac1</th>\n",
       "      <td>Disac1</td>\n",
       "      <td>Dissoconium aciculare v1.0</td>\n",
       "      <td>52.7</td>\n",
       "      <td>1.944040</td>\n",
       "      <td>1.948052</td>\n",
       "      <td>1.864229</td>\n",
       "    </tr>\n",
       "    <tr>\n",
       "      <th>Gloin1</th>\n",
       "      <td>Gloin1</td>\n",
       "      <td>Rhizophagus irregularis DAOM 181602 v1.0</td>\n",
       "      <td>27.7</td>\n",
       "      <td>3.208206</td>\n",
       "      <td>3.330882</td>\n",
       "      <td>3.851971</td>\n",
       "    </tr>\n",
       "    <tr>\n",
       "      <th>Hebcy2</th>\n",
       "      <td>Hebcy2</td>\n",
       "      <td>Hebeloma cylindrosporum h7 v2.0</td>\n",
       "      <td>48.4</td>\n",
       "      <td>5.041882</td>\n",
       "      <td>5.583074</td>\n",
       "      <td>4.555496</td>\n",
       "    </tr>\n",
       "    <tr>\n",
       "      <th>HypEC38_1</th>\n",
       "      <td>HypEC38_1</td>\n",
       "      <td>Hypoxylon sp. EC38 v1.0</td>\n",
       "      <td>40.1</td>\n",
       "      <td>2.426896</td>\n",
       "      <td>2.424418</td>\n",
       "      <td>2.250673</td>\n",
       "    </tr>\n",
       "    <tr>\n",
       "      <th>Obbri1</th>\n",
       "      <td>Obbri1</td>\n",
       "      <td>Obba rivulosa 3A-2 v1.0</td>\n",
       "      <td>53.6</td>\n",
       "      <td>5.549950</td>\n",
       "      <td>5.744722</td>\n",
       "      <td>5.094981</td>\n",
       "    </tr>\n",
       "    <tr>\n",
       "      <th>Ophdi1</th>\n",
       "      <td>Ophdi1</td>\n",
       "      <td>Ophiobolus disseminans CBS 113818 v1.0</td>\n",
       "      <td>51.7</td>\n",
       "      <td>2.207689</td>\n",
       "      <td>2.204172</td>\n",
       "      <td>2.078879</td>\n",
       "    </tr>\n",
       "    <tr>\n",
       "      <th>Phchr2</th>\n",
       "      <td>Phchr2</td>\n",
       "      <td>Phanerochaete chrysosporium RP-78 v2.2</td>\n",
       "      <td>56.8</td>\n",
       "      <td>4.972733</td>\n",
       "      <td>5.345783</td>\n",
       "      <td>4.766645</td>\n",
       "    </tr>\n",
       "    <tr>\n",
       "      <th>Pneji1</th>\n",
       "      <td>Pneji1</td>\n",
       "      <td>Pneumocystis jirovecii</td>\n",
       "      <td>28.4</td>\n",
       "      <td>5.025927</td>\n",
       "      <td>5.194429</td>\n",
       "      <td>3.261092</td>\n",
       "    </tr>\n",
       "    <tr>\n",
       "      <th>SerlaS7_9_2</th>\n",
       "      <td>SerlaS7_9_2</td>\n",
       "      <td>Serpula lacrymans S7.9 v2.0</td>\n",
       "      <td>45.3</td>\n",
       "      <td>5.259169</td>\n",
       "      <td>5.398889</td>\n",
       "      <td>5.100018</td>\n",
       "    </tr>\n",
       "    <tr>\n",
       "      <th>Sphst1</th>\n",
       "      <td>Sphst1</td>\n",
       "      <td>Sphaerobolus stellatus v1.0</td>\n",
       "      <td>44.4</td>\n",
       "      <td>4.377487</td>\n",
       "      <td>4.526614</td>\n",
       "      <td>2.873486</td>\n",
       "    </tr>\n",
       "    <tr>\n",
       "      <th>Spofi1</th>\n",
       "      <td>Spofi1</td>\n",
       "      <td>Sporormia fimetaria v1.0</td>\n",
       "      <td>53.8</td>\n",
       "      <td>2.296779</td>\n",
       "      <td>2.364673</td>\n",
       "      <td>2.206270</td>\n",
       "    </tr>\n",
       "    <tr>\n",
       "      <th>Tilan2</th>\n",
       "      <td>Tilan2</td>\n",
       "      <td>Tilletiaria anomala UBC 951 v1.0</td>\n",
       "      <td>56.0</td>\n",
       "      <td>2.774329</td>\n",
       "      <td>2.747828</td>\n",
       "      <td>2.681672</td>\n",
       "    </tr>\n",
       "    <tr>\n",
       "      <th>Trias1</th>\n",
       "      <td>Trias1</td>\n",
       "      <td>Trichoderma asperellum CBS 433.97 v1.0</td>\n",
       "      <td>47.3</td>\n",
       "      <td>2.342797</td>\n",
       "      <td>2.355561</td>\n",
       "      <td>2.192479</td>\n",
       "    </tr>\n",
       "    <tr>\n",
       "      <th>Veren1</th>\n",
       "      <td>Veren1</td>\n",
       "      <td>Verruculina enalia CBS 304.66 v1.0</td>\n",
       "      <td>41.2</td>\n",
       "      <td>2.381540</td>\n",
       "      <td>2.398234</td>\n",
       "      <td>2.288623</td>\n",
       "    </tr>\n",
       "  </tbody>\n",
       "</table>\n",
       "</div>"
      ],
      "text/plain": [
       "               shortName                                       longName    gc  \\\n",
       "shortName                                                                       \n",
       "Aspoch1          Aspoch1      Aspergillus ochraceoroseus IBT 24754 v1.0  44.2   \n",
       "Aurvu1            Aurvu1          Auriscalpium vulgare FP105234-Sp v1.0  56.8   \n",
       "Cenge3            Cenge3                 Cenococcum geophilum 1.58 v2.0  37.5   \n",
       "Conco1            Conco1          Conidiobolus coronatus NRRL28638 v1.0  27.7   \n",
       "Conli1            Conli1               Coniochaeta ligniaria CBS 111746  51.9   \n",
       "Croqu1            Croqu1  Cronartium quercuum f. sp. fusiforme G11 v1.0  41.1   \n",
       "Disac1            Disac1                     Dissoconium aciculare v1.0  52.7   \n",
       "Gloin1            Gloin1       Rhizophagus irregularis DAOM 181602 v1.0  27.7   \n",
       "Hebcy2            Hebcy2                Hebeloma cylindrosporum h7 v2.0  48.4   \n",
       "HypEC38_1      HypEC38_1                        Hypoxylon sp. EC38 v1.0  40.1   \n",
       "Obbri1            Obbri1                        Obba rivulosa 3A-2 v1.0  53.6   \n",
       "Ophdi1            Ophdi1         Ophiobolus disseminans CBS 113818 v1.0  51.7   \n",
       "Phchr2            Phchr2         Phanerochaete chrysosporium RP-78 v2.2  56.8   \n",
       "Pneji1            Pneji1                         Pneumocystis jirovecii  28.4   \n",
       "SerlaS7_9_2  SerlaS7_9_2                    Serpula lacrymans S7.9 v2.0  45.3   \n",
       "Sphst1            Sphst1                    Sphaerobolus stellatus v1.0  44.4   \n",
       "Spofi1            Spofi1                       Sporormia fimetaria v1.0  53.8   \n",
       "Tilan2            Tilan2               Tilletiaria anomala UBC 951 v1.0  56.0   \n",
       "Trias1            Trias1         Trichoderma asperellum CBS 433.97 v1.0  47.3   \n",
       "Veren1            Veren1             Verruculina enalia CBS 304.66 v1.0  41.2   \n",
       "\n",
       "             annotationIntronDensity  ESIntronDensity  \\\n",
       "shortName                                               \n",
       "Aspoch1                     2.742920         2.668625   \n",
       "Aurvu1                      4.931555         5.357689   \n",
       "Cenge3                      2.670176         3.495655   \n",
       "Conco1                      3.160395         3.218114   \n",
       "Conli1                      2.593246         2.264935   \n",
       "Croqu1                      4.016015         4.266862   \n",
       "Disac1                      1.944040         1.948052   \n",
       "Gloin1                      3.208206         3.330882   \n",
       "Hebcy2                      5.041882         5.583074   \n",
       "HypEC38_1                   2.426896         2.424418   \n",
       "Obbri1                      5.549950         5.744722   \n",
       "Ophdi1                      2.207689         2.204172   \n",
       "Phchr2                      4.972733         5.345783   \n",
       "Pneji1                      5.025927         5.194429   \n",
       "SerlaS7_9_2                 5.259169         5.398889   \n",
       "Sphst1                      4.377487         4.526614   \n",
       "Spofi1                      2.296779         2.364673   \n",
       "Tilan2                      2.774329         2.747828   \n",
       "Trias1                      2.342797         2.355561   \n",
       "Veren1                      2.381540         2.398234   \n",
       "\n",
       "             filteredAnnotationIntronDensity  \n",
       "shortName                                     \n",
       "Aspoch1                             2.522494  \n",
       "Aurvu1                              4.619048  \n",
       "Cenge3                              2.577524  \n",
       "Conco1                              3.528374  \n",
       "Conli1                              1.978952  \n",
       "Croqu1                              4.531011  \n",
       "Disac1                              1.864229  \n",
       "Gloin1                              3.851971  \n",
       "Hebcy2                              4.555496  \n",
       "HypEC38_1                           2.250673  \n",
       "Obbri1                              5.094981  \n",
       "Ophdi1                              2.078879  \n",
       "Phchr2                              4.766645  \n",
       "Pneji1                              3.261092  \n",
       "SerlaS7_9_2                         5.100018  \n",
       "Sphst1                              2.873486  \n",
       "Spofi1                              2.206270  \n",
       "Tilan2                              2.681672  \n",
       "Trias1                              2.192479  \n",
       "Veren1                              2.288623  "
      ]
     },
     "execution_count": 21,
     "metadata": {},
     "output_type": "execute_result"
    }
   ],
   "source": [
    "sub_info"
   ]
  },
  {
   "cell_type": "code",
   "execution_count": 11,
   "metadata": {
    "collapsed": true
   },
   "outputs": [],
   "source": [
    "### dumped"
   ]
  },
  {
   "cell_type": "code",
   "execution_count": 54,
   "metadata": {
    "collapsed": false
   },
   "outputs": [],
   "source": [
    "multiExonIntronDensity = {}\n",
    "for filename in filenames:\n",
    "    try:\n",
    "        shortName = filename.split('_GeneCatalog')[0]\n",
    "        density = moduleIntron.get_intron_density(source+filename)\n",
    "        multiExonIntronDensity[shortName] = density\n",
    "    except:\n",
    "        print 'problem with', filename"
   ]
  },
  {
   "cell_type": "code",
   "execution_count": 55,
   "metadata": {
    "collapsed": false
   },
   "outputs": [],
   "source": [
    "sub_info = info[['shortName','longName','gc','intronDensityGff']].ix[shortNames]"
   ]
  },
  {
   "cell_type": "code",
   "execution_count": 56,
   "metadata": {
    "collapsed": true
   },
   "outputs": [],
   "source": [
    "sub_info['multiExonIntronDensity'] = [multiExonIntronDensity[shortName] for shortName in sub_info.index]"
   ]
  },
  {
   "cell_type": "code",
   "execution_count": 57,
   "metadata": {
    "collapsed": true
   },
   "outputs": [],
   "source": [
    "## check ES intron density\n",
    "alex_path = '/storage3/w/alexl/F/'"
   ]
  },
  {
   "cell_type": "code",
   "execution_count": 58,
   "metadata": {
    "collapsed": false
   },
   "outputs": [],
   "source": [
    "ESIntronDensity = {}\n",
    "for shortName in shortNames:\n",
    "    density = moduleIntron.get_intron_density(alex_path+shortName+'/ES/genemark.gtf')\n",
    "    ESIntronDensity[shortName] = density"
   ]
  },
  {
   "cell_type": "code",
   "execution_count": 59,
   "metadata": {
    "collapsed": true
   },
   "outputs": [],
   "source": [
    "sub_info['ESIntronDensity'] = [ESIntronDensity[shortName] for shortName in sub_info.index]"
   ]
  },
  {
   "cell_type": "code",
   "execution_count": 60,
   "metadata": {
    "collapsed": false
   },
   "outputs": [],
   "source": [
    "sub_info = sub_info.ix[sorted(sub_info.index)]"
   ]
  },
  {
   "cell_type": "code",
   "execution_count": 62,
   "metadata": {
    "collapsed": false
   },
   "outputs": [],
   "source": [
    "sub_info[['shortName','longName','gc','intronDensityGff', 'ESIntronDensity', 'multiExonIntronDensity']].to_csv('/home/richard/research/tests/Nov11NewIntronDensity/testSetInfoNew.csv', index = False)"
   ]
  },
  {
   "cell_type": "code",
   "execution_count": null,
   "metadata": {
    "collapsed": true
   },
   "outputs": [],
   "source": [
    "## debug"
   ]
  },
  {
   "cell_type": "code",
   "execution_count": 4,
   "metadata": {
    "collapsed": true
   },
   "outputs": [],
   "source": [
    "test = \"/home/richard/research/tests/Nov9UpdatedTestSetAndTest/goodMultiExonGtf/Aspoch1_GeneCatalog_genes_20140127.f.good.multiExon.gtf\"\n",
    "test1 = '/storage3/w/alexl/F/Aspoch1/arx/Aspoch1_GeneCatalog_genes_20140127.gff'\n",
    "test2 = '/storage3/w/richard/meta2015/finalTestSet20151002/gtf_converted_from_gff/Aspoch1_GeneCatalog_genes_20140127.gtf'\n",
    "test3 = '/home/richard/research/tests/Nov11NewIntronDensity/test.gtf'"
   ]
  },
  {
   "cell_type": "code",
   "execution_count": 1,
   "metadata": {
    "collapsed": true
   },
   "outputs": [],
   "source": [
    "def get_intron_density(gtfFile):\n",
    "    '''\n",
    "    output: intron density, multi-exon included only\n",
    "    '''\n",
    "    gene = set()\n",
    "    exon_number = 0\n",
    "    CDS_number = 0 \n",
    "    with open(gtfFile) as f:\n",
    "        \n",
    "        for line in f:\n",
    "            \n",
    "            items = line.split()\n",
    "            if 'exon' in items[2]:\n",
    "                exon_number += 1\n",
    "            if 'CDS' in items[2]:\n",
    "                CDS_number += 1\n",
    "            gene.add(re.sub('\\;','',items[9]))\n",
    "    return 1. * (exon_number - len(gene)) / len(gene)"
   ]
  },
  {
   "cell_type": "code",
   "execution_count": 225,
   "metadata": {
    "collapsed": false
   },
   "outputs": [],
   "source": [
    "def get_annotation_counts(gtfFile):\n",
    "    '''\n",
    "    input: eval package evaluate result with it self.\n",
    "    output: intron density\n",
    "    '''\n",
    "    gene_class = {}\n",
    "    with open(gtfFile) as f:\n",
    "        for line in f:\n",
    "            items = line.split()\n",
    "            key = re.sub('\\;','',items[9])\n",
    "            if key not in gene_class:\n",
    "                gene_class[key] = {'exon': 0, 'CDS':0}\n",
    "    \n",
    "    with open(gtfFile) as f:\n",
    "        for line in f: \n",
    "            items = line.split()\n",
    "            key = re.sub('\\;','',items[9])\n",
    "            if 'exon' in items[2]:\n",
    "                gene_class[key]['exon']+=1\n",
    "            if 'CDS' in items[2]:\n",
    "                gene_class[key]['CDS']+=1\n",
    "    \n",
    "    exon_number = sum([gene_class[key]['exon'] for key in gene_class])\n",
    "    CDS_number = sum([gene_class[key]['CDS'] for key in gene_class])\n",
    "    multi_exon_gene = [key for key in gene_class if gene_class[key]['exon']>1 or gene_class[key]['CDS']>1]\n",
    "    print '#gene',len(gene_class),'\\n#exon',exon_number,'\\n#CDS',CDS_number\n",
    "    print '#single exon gene', len(gene_class)-len(multi_exon_gene), '\\n#multi-exon gene', len(multi_exon_gene)\n",
    "    \n",
    "    "
   ]
  },
  {
   "cell_type": "code",
   "execution_count": 2,
   "metadata": {
    "collapsed": true
   },
   "outputs": [],
   "source": [
    "def get_intron_density(gtfFile):\n",
    "    '''\n",
    "    output: intron density, multi-exon included only\n",
    "    '''\n",
    "    gene_class = {}\n",
    "    with open(gtfFile) as f:\n",
    "        for line in f:\n",
    "            items = line.split()\n",
    "            key = re.sub('\\;','',items[9])\n",
    "            if key not in gene_class:\n",
    "                gene_class[key] = {'exon': 0, 'CDS':0}\n",
    "    \n",
    "    with open(gtfFile) as f:\n",
    "        for line in f: \n",
    "            items = line.split()\n",
    "            key = re.sub('\\;','',items[9])\n",
    "            if 'exon' in items[2]:\n",
    "                gene_class[key]['exon']+=1\n",
    "            if 'CDS' in items[2]:\n",
    "                gene_class[key]['CDS']+=1\n",
    "    \n",
    "    exon_number = sum([gene_class[key]['exon'] for key in gene_class])\n",
    "    CDS_number = sum([gene_class[key]['CDS'] for key in gene_class])\n",
    "    multi_exon_gene = [key for key in gene_class if gene_class[key]['exon']>1 or gene_class[key]['CDS']>1]\n",
    "    return 1.*(exon_number - len(gene_class)) / len(multi_exon_gene)"
   ]
  },
  {
   "cell_type": "code",
   "execution_count": 246,
   "metadata": {
    "collapsed": true
   },
   "outputs": [],
   "source": [
    "def filter_out_single_gene(inputFile):\n",
    "    '''\n",
    "    Filter out single gene and keep multi-fasta gene from gtf annotation\n",
    "    '''\n",
    "    gene_counter = {}\n",
    "    annotation_container = {}\n",
    "    with open(inputFile) as f:\n",
    "        for line in f:\n",
    "            elems = line.split()\n",
    "            key = re.sub('\\;','',elems[9])\n",
    "            gene_counter[key] = [0,0] #[exon number, CDS number]\n",
    "            annotation_container[key] = []\n",
    "    with open(inputFile) as f:\n",
    "        for line in f:\n",
    "            elems = line.split()\n",
    "            key = re.sub('\\;','',elems[9])\n",
    "            annotation_container[key].append(line)\n",
    "            if 'exon' in elems[2]:\n",
    "                gene_counter[key][0] += 1\n",
    "            if 'CDS' in elems[2]:\n",
    "                gene_counter[key][1] += 1\n",
    "    counter = 0\n",
    "#     with open('/home/richard/research/tests/Nov11NewIntronDensity/test.gtf','w') as f1:\n",
    "#         for key in gene_counter:\n",
    "#             if gene_counter[key][0] > 1 or gene_counter[key][1] > 1:\n",
    "#                 counter += 1\n",
    "#                 for line in annotation_container[key]:\n",
    "#                     f1.write(line)\n",
    "#         print counter, 'genes wrote'\n",
    "                    \n",
    "                \n",
    "    exon_number = sum([gene_counter[key][0] for key in gene_counter])\n",
    "    CDS_number = sum([gene_counter[key][1] for key in gene_counter])\n",
    "    multi_exon_gene = [key for key in gene_counter if gene_counter[key][0]>1 or gene_counter[key][1]>1]\n",
    "    print len(gene_counter), exon_number, CDS_number\n",
    "    print len(multi_exon_gene)\n",
    "    print multi_exon_gene[:10]\n",
    "#     print annotation_container[annotation_container.keys()[0]][0]"
   ]
  },
  {
   "cell_type": "code",
   "execution_count": 247,
   "metadata": {
    "collapsed": false,
    "scrolled": true
   },
   "outputs": [
    {
     "name": "stdout",
     "output_type": "stream",
     "text": [
      "7239 27095 26593\n",
      "7239\n",
      "['\"estExt_Genewise1Plus.C_8_t10340\"', '\"fgenesh1_pm.10_x_23\"', '\"fgenesh1_pm.3_x_474\"', '\"estExt_Genemark1.C_7_t10101\"', '\"CE235033_2662\"', '\"fgenesh1_kg.1_x_613_x_Locus3414v1rpkm38.97\"', '\"estExt_Genewise1.C_2_t60304\"', '\"fgenesh1_kg.8_x_145_x_Locus5575v1rpkm16.62\"', '\"estExt_fgenesh1_pm.C_5_t10261\"', '\"fgenesh1_kg.10_x_38_x_Locus8979v2rpkm3.48\"']\n"
     ]
    }
   ],
   "source": [
    "filter_out_single_gene(test3)"
   ]
  },
  {
   "cell_type": "code",
   "execution_count": 248,
   "metadata": {
    "collapsed": false
   },
   "outputs": [
    {
     "name": "stdout",
     "output_type": "stream",
     "text": [
      "8924 28780 28278\n",
      "7239\n",
      "['\"estExt_Genewise1Plus.C_8_t10340\"', '\"fgenesh1_pm.10_x_23\"', '\"fgenesh1_pm.3_x_474\"', '\"estExt_Genemark1.C_7_t10101\"', '\"estExt_Genewise1.C_5_t30121\"', '\"fgenesh1_kg.1_x_613_x_Locus3414v1rpkm38.97\"', '\"estExt_Genewise1.C_2_t60304\"', '\"fgenesh1_kg.8_x_145_x_Locus5575v1rpkm16.62\"', '\"fgenesh1_kg.1_x_1951_x_Locus8521v1rpkm5.16\"', '\"fgenesh1_kg.10_x_38_x_Locus8979v2rpkm3.48\"']\n"
     ]
    }
   ],
   "source": [
    "filter_out_single_gene(test2)"
   ]
  },
  {
   "cell_type": "code",
   "execution_count": 217,
   "metadata": {
    "collapsed": false
   },
   "outputs": [
    {
     "name": "stdout",
     "output_type": "stream",
     "text": [
      "#gene 5068 \n",
      "#exon 17852 \n",
      "#CDS 17852\n",
      "#single exon gene 0 \n",
      "#multi-exon gene 5068\n"
     ]
    }
   ],
   "source": [
    "get_annotation_counts(test)"
   ]
  },
  {
   "cell_type": "code",
   "execution_count": 209,
   "metadata": {
    "collapsed": false
   },
   "outputs": [
    {
     "name": "stdout",
     "output_type": "stream",
     "text": [
      "#gene 8924 \n",
      "#exon 28780 \n",
      "#CDS 28278\n",
      "#single exon gene 1685 \n",
      "#multi-exon gene 7239\n"
     ]
    }
   ],
   "source": [
    "get_annotation_counts(test1)"
   ]
  },
  {
   "cell_type": "code",
   "execution_count": 210,
   "metadata": {
    "collapsed": false
   },
   "outputs": [
    {
     "name": "stdout",
     "output_type": "stream",
     "text": [
      "#gene 8924 \n",
      "#exon 28780 \n",
      "#CDS 28278\n",
      "#single exon gene 1685 \n",
      "#multi-exon gene 7239\n"
     ]
    }
   ],
   "source": [
    "get_annotation_counts(test2)"
   ]
  },
  {
   "cell_type": "code",
   "execution_count": 5,
   "metadata": {
    "collapsed": false
   },
   "outputs": [
    {
     "data": {
      "text/plain": [
       "2.7429202928581295"
      ]
     },
     "execution_count": 5,
     "metadata": {},
     "output_type": "execute_result"
    }
   ],
   "source": [
    "moduleIntron.get_intron_density(test1)"
   ]
  },
  {
   "cell_type": "code",
   "execution_count": null,
   "metadata": {
    "collapsed": true
   },
   "outputs": [],
   "source": []
  }
 ],
 "metadata": {
  "kernelspec": {
   "display_name": "Python 2",
   "language": "python",
   "name": "python2"
  },
  "language_info": {
   "codemirror_mode": {
    "name": "ipython",
    "version": 2
   },
   "file_extension": ".py",
   "mimetype": "text/x-python",
   "name": "python",
   "nbconvert_exporter": "python",
   "pygments_lexer": "ipython2",
   "version": "2.7.10"
  }
 },
 "nbformat": 4,
 "nbformat_minor": 0
}
