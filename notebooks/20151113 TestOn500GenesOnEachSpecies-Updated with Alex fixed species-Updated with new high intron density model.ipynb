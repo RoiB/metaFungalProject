{
 "cells": [
  {
   "cell_type": "code",
   "execution_count": 8,
   "metadata": {
    "collapsed": true
   },
   "outputs": [],
   "source": [
    "from Bio import SeqIO\n",
    "import subprocess\n",
    "import pandas as pd"
   ]
  },
  {
   "cell_type": "code",
   "execution_count": 12,
   "metadata": {
    "collapsed": false
   },
   "outputs": [],
   "source": [
    "### pick fasta by number, 100 for this test\n",
    "testSetLocation = '/home/richard/research/tests/Nov9UpdatedTestSetAndTest/testSet100Updated/'\n",
    "fastaSource = '/home/richard/research/tests/Nov9UpdatedTestSetAndTest/TestSetCutFasta/'\n",
    "gtfSource = '/home/richard/research/tests/Nov9UpdatedTestSetAndTest/TestSetMultiExonGtf/'\n",
    "\n",
    "shortNames = map(lambda x: x.split('_Assem')[0], os.listdir(fastaSource))\n",
    "# # shortNames = filter(lambda x: x not in ['HypEC38_1', 'Neopa1', 'Veren1','Spofi1.draft.mito.scaffolds.cut.fasta'],shortNames)\n",
    "shortNames = filter(lambda x: x not in ['Neopa1'],shortNames)\n",
    "\n",
    "info = pd.read_csv('/home/richard/research/tests/Oct30NewTestSet/testSetStatistics.csv')\n",
    "info.index = info.shortName\n",
    "gc = {shortName:int(round(info.gc[shortName])) for shortName in shortNames}"
   ]
  },
  {
   "cell_type": "code",
   "execution_count": null,
   "metadata": {
    "collapsed": true
   },
   "outputs": [],
   "source": []
  },
  {
   "cell_type": "code",
   "execution_count": 22,
   "metadata": {
    "collapsed": false
   },
   "outputs": [
    {
     "name": "stdout",
     "output_type": "stream",
     "text": [
      "python /home/richard/research/tools/gmhmme3MultiFastaV1.py /home/richard/research/tests/Nov13ModelWithNewIntronDensity/modelSetHigh/MetaFungal_model_53_high.txt /home/richard/research/tests/Nov9UpdatedTestSetAndTest/testSet100Updated/Disac1_100_genes.fasta Disac1.gtf\n",
      "\n",
      "python /home/richard/research/tools/gmhmme3MultiFastaV1.py /home/richard/research/tests/Nov13ModelWithNewIntronDensity/modelSetHigh/MetaFungal_model_56_high.txt /home/richard/research/tests/Nov9UpdatedTestSetAndTest/testSet100Updated/Tilan2_100_genes.fasta Tilan2.gtf\n",
      "\n",
      "python /home/richard/research/tools/gmhmme3MultiFastaV1.py /home/richard/research/tests/Nov13ModelWithNewIntronDensity/modelSetHigh/MetaFungal_model_47_high.txt /home/richard/research/tests/Nov9UpdatedTestSetAndTest/testSet100Updated/Trias1_100_genes.fasta Trias1.gtf\n",
      "\n",
      "python /home/richard/research/tools/gmhmme3MultiFastaV1.py /home/richard/research/tests/Nov13ModelWithNewIntronDensity/modelSetHigh/MetaFungal_model_48_high.txt /home/richard/research/tests/Nov9UpdatedTestSetAndTest/testSet100Updated/Hebcy2_100_genes.fasta Hebcy2.gtf\n",
      "\n",
      "python /home/richard/research/tools/gmhmme3MultiFastaV1.py /home/richard/research/tests/Nov13ModelWithNewIntronDensity/modelSetHigh/MetaFungal_model_41_high.txt /home/richard/research/tests/Nov9UpdatedTestSetAndTest/testSet100Updated/Croqu1_100_genes.fasta Croqu1.gtf\n",
      "\n",
      "python /home/richard/research/tools/gmhmme3MultiFastaV1.py /home/richard/research/tests/Nov13ModelWithNewIntronDensity/modelSetHigh/MetaFungal_model_30_high.txt /home/richard/research/tests/Nov9UpdatedTestSetAndTest/testSet100Updated/Spofi1_100_genes.fasta Spofi1.gtf\n",
      "\n",
      "python /home/richard/research/tools/gmhmme3MultiFastaV1.py /home/richard/research/tests/Nov13ModelWithNewIntronDensity/modelSetHigh/MetaFungal_model_30_high.txt /home/richard/research/tests/Nov9UpdatedTestSetAndTest/testSet100Updated/Gloin1_100_genes.fasta Gloin1.gtf\n",
      "\n",
      "python /home/richard/research/tools/gmhmme3MultiFastaV1.py /home/richard/research/tests/Nov13ModelWithNewIntronDensity/modelSetHigh/MetaFungal_model_57_high.txt /home/richard/research/tests/Nov9UpdatedTestSetAndTest/testSet100Updated/Aurvu1_100_genes.fasta Aurvu1.gtf\n",
      "\n",
      "python /home/richard/research/tools/gmhmme3MultiFastaV1.py /home/richard/research/tests/Nov13ModelWithNewIntronDensity/modelSetHigh/MetaFungal_model_52_high.txt /home/richard/research/tests/Nov9UpdatedTestSetAndTest/testSet100Updated/Conli1_100_genes.fasta Conli1.gtf\n",
      "\n",
      "python /home/richard/research/tools/gmhmme3MultiFastaV1.py /home/richard/research/tests/Nov13ModelWithNewIntronDensity/modelSetHigh/MetaFungal_model_30_high.txt /home/richard/research/tests/Nov9UpdatedTestSetAndTest/testSet100Updated/Conco1_100_genes.fasta Conco1.gtf\n",
      "\n",
      "python /home/richard/research/tools/gmhmme3MultiFastaV1.py /home/richard/research/tests/Nov13ModelWithNewIntronDensity/modelSetHigh/MetaFungal_model_44_high.txt /home/richard/research/tests/Nov9UpdatedTestSetAndTest/testSet100Updated/Aspoch1_100_genes.fasta Aspoch1.gtf\n",
      "\n",
      "python /home/richard/research/tools/gmhmme3MultiFastaV1.py /home/richard/research/tests/Nov13ModelWithNewIntronDensity/modelSetHigh/MetaFungal_model_41_high.txt /home/richard/research/tests/Nov9UpdatedTestSetAndTest/testSet100Updated/Veren1_100_genes.fasta Veren1.gtf\n",
      "\n",
      "python /home/richard/research/tools/gmhmme3MultiFastaV1.py /home/richard/research/tests/Nov13ModelWithNewIntronDensity/modelSetHigh/MetaFungal_model_44_high.txt /home/richard/research/tests/Nov9UpdatedTestSetAndTest/testSet100Updated/Sphst1_100_genes.fasta Sphst1.gtf\n",
      "\n",
      "python /home/richard/research/tools/gmhmme3MultiFastaV1.py /home/richard/research/tests/Nov13ModelWithNewIntronDensity/modelSetHigh/MetaFungal_model_45_high.txt /home/richard/research/tests/Nov9UpdatedTestSetAndTest/testSet100Updated/SerlaS7_9_2_100_genes.fasta SerlaS7_9_2.gtf\n",
      "\n",
      "python /home/richard/research/tools/gmhmme3MultiFastaV1.py /home/richard/research/tests/Nov13ModelWithNewIntronDensity/modelSetHigh/MetaFungal_model_40_high.txt /home/richard/research/tests/Nov9UpdatedTestSetAndTest/testSet100Updated/HypEC38_1_100_genes.fasta HypEC38_1.gtf\n",
      "\n",
      "python /home/richard/research/tools/gmhmme3MultiFastaV1.py /home/richard/research/tests/Nov13ModelWithNewIntronDensity/modelSetHigh/MetaFungal_model_57_high.txt /home/richard/research/tests/Nov9UpdatedTestSetAndTest/testSet100Updated/Phchr2_100_genes.fasta Phchr2.gtf\n",
      "\n",
      "python /home/richard/research/tools/gmhmme3MultiFastaV1.py /home/richard/research/tests/Nov13ModelWithNewIntronDensity/modelSetHigh/MetaFungal_model_54_high.txt /home/richard/research/tests/Nov9UpdatedTestSetAndTest/testSet100Updated/Obbri1_100_genes.fasta Obbri1.gtf\n",
      "\n",
      "python /home/richard/research/tools/gmhmme3MultiFastaV1.py /home/richard/research/tests/Nov13ModelWithNewIntronDensity/modelSetHigh/MetaFungal_model_30_high.txt /home/richard/research/tests/Nov9UpdatedTestSetAndTest/testSet100Updated/Pneji1_100_genes.fasta Pneji1.gtf\n",
      "\n",
      "python /home/richard/research/tools/gmhmme3MultiFastaV1.py /home/richard/research/tests/Nov13ModelWithNewIntronDensity/modelSetHigh/MetaFungal_model_52_high.txt /home/richard/research/tests/Nov9UpdatedTestSetAndTest/testSet100Updated/Ophdi1_100_genes.fasta Ophdi1.gtf\n",
      "\n",
      "python /home/richard/research/tools/gmhmme3MultiFastaV1.py /home/richard/research/tests/Nov13ModelWithNewIntronDensity/modelSetHigh/MetaFungal_model_38_high.txt /home/richard/research/tests/Nov9UpdatedTestSetAndTest/testSet100Updated/Cenge3_100_genes.fasta Cenge3.gtf\n",
      "\n"
     ]
    }
   ],
   "source": [
    "### run gmhmme3 multi-fasta version, high intron density\n",
    "modelLowLoc = '/home/richard/research/tests/Nov13ModelWithNewIntronDensity/modelSetHigh/'\n",
    "script = ''\n",
    "for shortName in shortNames:\n",
    "    command = ('python /home/richard/research/tools/gmhmme3MultiFastaV1.py {}MetaFungal_model_{}_high.txt {}{}_100_genes.fasta {}.gtf\\n'\n",
    "               .format(modelLowLoc, max(30, gc[shortName]),testSetLocation, shortName, shortName))\n",
    "    script += command\n",
    "    print command\n",
    "with open('/home/richard/research/tests/Nov13ModelWithNewIntronDensity/test100outputHigh/run_test.sh','w') as f: f.write(script)"
   ]
  },
  {
   "cell_type": "code",
   "execution_count": 27,
   "metadata": {
    "collapsed": false
   },
   "outputs": [
    {
     "name": "stdout",
     "output_type": "stream",
     "text": [
      "perl evaluate_gtf.pl /home/richard/research/tests/Nov9UpdatedTestSetAndTest/testSet100Updated/Disac1_100_genes.gtf /home/richard/research/tests/Nov13ModelWithNewIntronDensity/test100outputHigh/Disac1.gtf/Disac1.gtf_fullPrediction.gtf > /home/richard/research/tests/Nov13ModelWithNewIntronDensity/evalresultHigh/Disac1.eval.txt\n",
      "\n",
      "perl evaluate_gtf.pl /home/richard/research/tests/Nov9UpdatedTestSetAndTest/testSet100Updated/Tilan2_100_genes.gtf /home/richard/research/tests/Nov13ModelWithNewIntronDensity/test100outputHigh/Tilan2.gtf/Tilan2.gtf_fullPrediction.gtf > /home/richard/research/tests/Nov13ModelWithNewIntronDensity/evalresultHigh/Tilan2.eval.txt\n",
      "\n",
      "perl evaluate_gtf.pl /home/richard/research/tests/Nov9UpdatedTestSetAndTest/testSet100Updated/Trias1_100_genes.gtf /home/richard/research/tests/Nov13ModelWithNewIntronDensity/test100outputHigh/Trias1.gtf/Trias1.gtf_fullPrediction.gtf > /home/richard/research/tests/Nov13ModelWithNewIntronDensity/evalresultHigh/Trias1.eval.txt\n",
      "\n",
      "perl evaluate_gtf.pl /home/richard/research/tests/Nov9UpdatedTestSetAndTest/testSet100Updated/Hebcy2_100_genes.gtf /home/richard/research/tests/Nov13ModelWithNewIntronDensity/test100outputHigh/Hebcy2.gtf/Hebcy2.gtf_fullPrediction.gtf > /home/richard/research/tests/Nov13ModelWithNewIntronDensity/evalresultHigh/Hebcy2.eval.txt\n",
      "\n",
      "perl evaluate_gtf.pl /home/richard/research/tests/Nov9UpdatedTestSetAndTest/testSet100Updated/Croqu1_100_genes.gtf /home/richard/research/tests/Nov13ModelWithNewIntronDensity/test100outputHigh/Croqu1.gtf/Croqu1.gtf_fullPrediction.gtf > /home/richard/research/tests/Nov13ModelWithNewIntronDensity/evalresultHigh/Croqu1.eval.txt\n",
      "\n",
      "perl evaluate_gtf.pl /home/richard/research/tests/Nov9UpdatedTestSetAndTest/testSet100Updated/Spofi1_100_genes.gtf /home/richard/research/tests/Nov13ModelWithNewIntronDensity/test100outputHigh/Spofi1.gtf/Spofi1.gtf_fullPrediction.gtf > /home/richard/research/tests/Nov13ModelWithNewIntronDensity/evalresultHigh/Spofi1.eval.txt\n",
      "\n",
      "perl evaluate_gtf.pl /home/richard/research/tests/Nov9UpdatedTestSetAndTest/testSet100Updated/Gloin1_100_genes.gtf /home/richard/research/tests/Nov13ModelWithNewIntronDensity/test100outputHigh/Gloin1.gtf/Gloin1.gtf_fullPrediction.gtf > /home/richard/research/tests/Nov13ModelWithNewIntronDensity/evalresultHigh/Gloin1.eval.txt\n",
      "\n",
      "perl evaluate_gtf.pl /home/richard/research/tests/Nov9UpdatedTestSetAndTest/testSet100Updated/Aurvu1_100_genes.gtf /home/richard/research/tests/Nov13ModelWithNewIntronDensity/test100outputHigh/Aurvu1.gtf/Aurvu1.gtf_fullPrediction.gtf > /home/richard/research/tests/Nov13ModelWithNewIntronDensity/evalresultHigh/Aurvu1.eval.txt\n",
      "\n",
      "perl evaluate_gtf.pl /home/richard/research/tests/Nov9UpdatedTestSetAndTest/testSet100Updated/Conli1_100_genes.gtf /home/richard/research/tests/Nov13ModelWithNewIntronDensity/test100outputHigh/Conli1.gtf/Conli1.gtf_fullPrediction.gtf > /home/richard/research/tests/Nov13ModelWithNewIntronDensity/evalresultHigh/Conli1.eval.txt\n",
      "\n",
      "perl evaluate_gtf.pl /home/richard/research/tests/Nov9UpdatedTestSetAndTest/testSet100Updated/Conco1_100_genes.gtf /home/richard/research/tests/Nov13ModelWithNewIntronDensity/test100outputHigh/Conco1.gtf/Conco1.gtf_fullPrediction.gtf > /home/richard/research/tests/Nov13ModelWithNewIntronDensity/evalresultHigh/Conco1.eval.txt\n",
      "\n",
      "perl evaluate_gtf.pl /home/richard/research/tests/Nov9UpdatedTestSetAndTest/testSet100Updated/Aspoch1_100_genes.gtf /home/richard/research/tests/Nov13ModelWithNewIntronDensity/test100outputHigh/Aspoch1.gtf/Aspoch1.gtf_fullPrediction.gtf > /home/richard/research/tests/Nov13ModelWithNewIntronDensity/evalresultHigh/Aspoch1.eval.txt\n",
      "\n",
      "perl evaluate_gtf.pl /home/richard/research/tests/Nov9UpdatedTestSetAndTest/testSet100Updated/Veren1_100_genes.gtf /home/richard/research/tests/Nov13ModelWithNewIntronDensity/test100outputHigh/Veren1.gtf/Veren1.gtf_fullPrediction.gtf > /home/richard/research/tests/Nov13ModelWithNewIntronDensity/evalresultHigh/Veren1.eval.txt\n",
      "\n",
      "perl evaluate_gtf.pl /home/richard/research/tests/Nov9UpdatedTestSetAndTest/testSet100Updated/Sphst1_100_genes.gtf /home/richard/research/tests/Nov13ModelWithNewIntronDensity/test100outputHigh/Sphst1.gtf/Sphst1.gtf_fullPrediction.gtf > /home/richard/research/tests/Nov13ModelWithNewIntronDensity/evalresultHigh/Sphst1.eval.txt\n",
      "\n",
      "perl evaluate_gtf.pl /home/richard/research/tests/Nov9UpdatedTestSetAndTest/testSet100Updated/SerlaS7_9_2_100_genes.gtf /home/richard/research/tests/Nov13ModelWithNewIntronDensity/test100outputHigh/SerlaS7_9_2.gtf/SerlaS7_9_2.gtf_fullPrediction.gtf > /home/richard/research/tests/Nov13ModelWithNewIntronDensity/evalresultHigh/SerlaS7_9_2.eval.txt\n",
      "\n",
      "perl evaluate_gtf.pl /home/richard/research/tests/Nov9UpdatedTestSetAndTest/testSet100Updated/HypEC38_1_100_genes.gtf /home/richard/research/tests/Nov13ModelWithNewIntronDensity/test100outputHigh/HypEC38_1.gtf/HypEC38_1.gtf_fullPrediction.gtf > /home/richard/research/tests/Nov13ModelWithNewIntronDensity/evalresultHigh/HypEC38_1.eval.txt\n",
      "\n",
      "perl evaluate_gtf.pl /home/richard/research/tests/Nov9UpdatedTestSetAndTest/testSet100Updated/Phchr2_100_genes.gtf /home/richard/research/tests/Nov13ModelWithNewIntronDensity/test100outputHigh/Phchr2.gtf/Phchr2.gtf_fullPrediction.gtf > /home/richard/research/tests/Nov13ModelWithNewIntronDensity/evalresultHigh/Phchr2.eval.txt\n",
      "\n",
      "perl evaluate_gtf.pl /home/richard/research/tests/Nov9UpdatedTestSetAndTest/testSet100Updated/Obbri1_100_genes.gtf /home/richard/research/tests/Nov13ModelWithNewIntronDensity/test100outputHigh/Obbri1.gtf/Obbri1.gtf_fullPrediction.gtf > /home/richard/research/tests/Nov13ModelWithNewIntronDensity/evalresultHigh/Obbri1.eval.txt\n",
      "\n",
      "perl evaluate_gtf.pl /home/richard/research/tests/Nov9UpdatedTestSetAndTest/testSet100Updated/Pneji1_100_genes.gtf /home/richard/research/tests/Nov13ModelWithNewIntronDensity/test100outputHigh/Pneji1.gtf/Pneji1.gtf_fullPrediction.gtf > /home/richard/research/tests/Nov13ModelWithNewIntronDensity/evalresultHigh/Pneji1.eval.txt\n",
      "\n",
      "perl evaluate_gtf.pl /home/richard/research/tests/Nov9UpdatedTestSetAndTest/testSet100Updated/Ophdi1_100_genes.gtf /home/richard/research/tests/Nov13ModelWithNewIntronDensity/test100outputHigh/Ophdi1.gtf/Ophdi1.gtf_fullPrediction.gtf > /home/richard/research/tests/Nov13ModelWithNewIntronDensity/evalresultHigh/Ophdi1.eval.txt\n",
      "\n",
      "perl evaluate_gtf.pl /home/richard/research/tests/Nov9UpdatedTestSetAndTest/testSet100Updated/Cenge3_100_genes.gtf /home/richard/research/tests/Nov13ModelWithNewIntronDensity/test100outputHigh/Cenge3.gtf/Cenge3.gtf_fullPrediction.gtf > /home/richard/research/tests/Nov13ModelWithNewIntronDensity/evalresultHigh/Cenge3.eval.txt\n",
      "\n"
     ]
    }
   ],
   "source": [
    "##### eval out put result\n",
    "location = '/home/richard/research/tests/Nov13ModelWithNewIntronDensity/test100outputHigh/'\n",
    "folders = os.listdir(location)\n",
    "outputLocationLow = '/home/richard/research/tests/Nov13ModelWithNewIntronDensity/evalresultHigh/'\n",
    "\n",
    "script = ''\n",
    "for shortName in shortNames:\n",
    "    command = ('perl evaluate_gtf.pl {}{}_100_genes.gtf {}{}.gtf/{}.gtf_fullPrediction.gtf > {}{}.eval.txt\\n'\n",
    "               .format(testSetLocation, shortName, location, shortName, shortName, outputLocationLow,shortName))\n",
    "    print command\n",
    "    script += command\n",
    "with open('/home/richard/research/tests/Nov13ModelWithNewIntronDensity/eval_lite/eval_high.sh','w') as f: f.write(script)"
   ]
  },
  {
   "cell_type": "code",
   "execution_count": null,
   "metadata": {
    "collapsed": true
   },
   "outputs": [],
   "source": []
  }
 ],
 "metadata": {
  "kernelspec": {
   "display_name": "Python 2",
   "language": "python",
   "name": "python2"
  },
  "language_info": {
   "codemirror_mode": {
    "name": "ipython",
    "version": 2
   },
   "file_extension": ".py",
   "mimetype": "text/x-python",
   "name": "python",
   "nbconvert_exporter": "python",
   "pygments_lexer": "ipython2",
   "version": "2.7.10"
  }
 },
 "nbformat": 4,
 "nbformat_minor": 0
}
