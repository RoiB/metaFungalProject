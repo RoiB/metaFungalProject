{
 "cells": [
  {
   "cell_type": "code",
   "execution_count": 44,
   "metadata": {
    "collapsed": false
   },
   "outputs": [],
   "source": [
    "'''\n",
    "Parse fasta file info, combine shortName, long name, fasta file name\n",
    "Parse gff3 file info, combine shortName, long name, fasta file name\n",
    "\n",
    "Aug. 3 added & update\n",
    "Parse each folder and make table: shortName, LongName, fastaFilename, gffName, gff3Name\n",
    "consolidate full set of infomation with NA for entry that were not presented \n",
    "'''\n",
    "import pandas as pd\n",
    "import re\n",
    "import os\n",
    "dataPath = \"/home/richard/research/1_DataSmall/2_completeFileInfo/\"\n",
    "dataPathLarge = \"/home/richard/1_DataLarge/fasta_gff_gtf_07302015/\""
   ]
  },
  {
   "cell_type": "code",
   "execution_count": 43,
   "metadata": {
    "collapsed": false
   },
   "outputs": [
    {
     "data": {
      "text/plain": [
       "529"
      ]
     },
     "execution_count": 43,
     "metadata": {},
     "output_type": "execute_result"
    }
   ],
   "source": [
    "#make fastafile ---- genome name pair info\n",
    "with open(dataPath+\"0_genomeName_fileName.txt\") as f: \n",
    "    fastaInfo = [line.lstrip().rstrip() for line in f if len(line) > 1]\n",
    "\n",
    "# get genome names for each line of info\n",
    "fastaGenomeNamePattern = '(.*): Project'\n",
    "fastaGenomeName = []\n",
    "for line in fastaInfo:\n",
    "    matchObj = re.match(fastaGenomeNamePattern, line)\n",
    "    fastaGenomeName.append(matchObj.group(1))\n",
    "# get genome file names for each line of info\n",
    "fastaFileName = []\n",
    "fastaFileNamePattern = \".*: Project.*\\,\\s*?(\\S*\\.gz)\"\n",
    "for line in fastaInfo:\n",
    "    try:\n",
    "        matchObj = re.match(fastaFileNamePattern, line)\n",
    "        fastaFileName.append(matchObj.group(1))\n",
    "    except:\n",
    "#         if \"unmasked\" in line:\n",
    "        print line\n",
    "\n",
    "assert len(fastaGenomeName) == len(fastaFileName)\n",
    "# len(fastaFileName)\n",
    "# for d in zip(fastaFileName,fastaGenomeName): print d\n",
    "fastaDict = {x:y for x,y in zip(fastaFileName,fastaGenomeName)}\n",
    "len(fastaDict)"
   ]
  },
  {
   "cell_type": "code",
   "execution_count": 13,
   "metadata": {
    "collapsed": false,
    "scrolled": false
   },
   "outputs": [
    {
     "data": {
      "text/plain": [
       "382"
      ]
     },
     "execution_count": 13,
     "metadata": {},
     "output_type": "execute_result"
    }
   ],
   "source": [
    "## There are four kinds of annotation files, gtf(very few), gff, gff3(all protein), gff3(filtered model)\n",
    "## (we only need gff3(filtered protein) annotation for intron comparison) outdated\n",
    "\n",
    "\n",
    "#make gff3(filtered protein) filename ---- genome name pair info\n",
    "with open(dataPath+\"1_annotationName_fileName.txt\") as f: \n",
    "    annotationInfo = [line.lstrip().rstrip() for line in f if len(line) > 1]\n",
    "\n",
    "# get genome names for each line of info\n",
    "annotationGenomeNamePattern = '(.*): Project'\n",
    "annotationGenomeName = []\n",
    "for line in annotationInfo:\n",
    "    matchObj = re.match(annotationGenomeNamePattern, line)\n",
    "    annotationGenomeName.append(matchObj.group(1))\n",
    "\n",
    "# get gff3(filtered protein) names for each line of info\n",
    "gff3FilteredNamePattern = '.*\\,\\s*(.*filtered_proteins.*?gff3.gz)\\s'\n",
    "gff3FilteredName = []\n",
    "\n",
    "for line in annotationInfo:\n",
    "    try:\n",
    "        matchObj = re.match(gff3FilteredNamePattern, line)    \n",
    "        gff3FilteredName.append(matchObj.group(1))\n",
    "    except:\n",
    "        gff3FilteredName.append(None)\n",
    "\n",
    "assert len(annotationGenomeName) == len(gff3FilteredName)\n",
    "# for d in zip(gff3FilteredName,annotationGenomeName): \n",
    "#     if None not in d:\n",
    "#         print d\n",
    "# len([item  for item in gff3FilteredName if item !=None])\n",
    "annotationDict = {x:y for x,y in zip(gff3FilteredName,annotationGenomeName) if x != None and y != None}\n",
    "len(annotationDict)"
   ]
  },
  {
   "cell_type": "code",
   "execution_count": 14,
   "metadata": {
    "collapsed": false,
    "scrolled": true
   },
   "outputs": [
    {
     "name": "stdout",
     "output_type": "stream",
     "text": [
      "Armillaria mellea: Project: 0, Armme1_1.gff3.gz   2 MB;  Wed Nov 19 18:50:20 PST 2014  File information\n",
      "\n",
      "Dacryopinax sp. DJM 731 SSP1 v1.0: Project: 403529, Dacsp1_GeneModels_FilteredModels1.gff3   8 MB;  Wed Mar 07 16:35:43 PST 2012  File information   md5: 1ab96cb8a322de98df6489f3331e5035\n",
      "\n",
      "Zymoseptoria ardabiliae STIR04_1.1.1: Project: 0, Zymar1_ExternalModels_genes_20141022.gff3.gz   841 KB;  Thu Oct 23 12:58:06 PDT 2014  File information\n",
      "\n",
      "Zymoseptoria pseudotritici STIR04_2.2.1: Project: 0, Zymps1_ExternalModels_genes_20141022.gff3.gz   859 KB;  Thu Oct 23 12:59:13 PDT 2014  File information\n",
      "\n",
      "363\n"
     ]
    }
   ],
   "source": [
    "## check gff3 files that were left off due two in consistent nameing\n",
    "for line in annotationInfo:\n",
    "    if ('filtered_proteins' not in line and \n",
    "       'all_proteins' not in line and \n",
    "       'gff.gz' not in line and\n",
    "       'GeneCatalog' not in line and \n",
    "       'gtf.gz' not in line):\n",
    "        print line\n",
    "        print\n",
    "    \n",
    "    \n",
    "## get into each folder(folder name is defined to be the short name)\n",
    "## capture the folder that have both gff3 filtered protein file and fasta file, then attach long name on it.\n",
    "\n",
    "def listContain(alist, target):\n",
    "    '''\n",
    "    check to see if keyword: target is in any of items in alist\n",
    "    '''\n",
    "    return sum(map(lambda x: target in x,alist)) == 1\n",
    "\n",
    "def getFileName(alist, target):\n",
    "    for filename in alist:\n",
    "        if target.lower() in filename.lower():\n",
    "            return filename\n",
    "    return \"NA\"\n",
    "\n",
    "shortNames = os.listdir(dataPathLarge)\n",
    "\n",
    "folderNameFiltered = []\n",
    "completeInfo = [] # shortName, longName, fasta filename, gff3 filtered protein name\n",
    "for shortName in shortNames:\n",
    "    filenames = os.listdir(dataPathLarge+\"{}\".format(shortName))\n",
    "    if listContain(filenames, \"fasta\") and listContain(filenames, \"filtered_proteins\"):\n",
    "        folderNameFiltered.append(shortName)\n",
    "        fasta, gff3 = getFileName(filenames, \"fasta\"), getFileName(filenames, \"filtered_proteins\")\n",
    "        assert fastaDict[fasta] == annotationDict[gff3]\n",
    "        completeInfo.append((shortName, fastaDict[fasta], fasta, gff3))\n",
    "print len(completeInfo)\n",
    "completeInfoDF = pd.DataFrame(completeInfo, columns= ['shortName', 'longName', 'fastaName','gff3Name'])\n",
    "completeInfoDF.sort(columns = 'shortName').to_csv(dataPath+\"2_completeFileInfo.csv\", index= False) #sorted"
   ]
  },
  {
   "cell_type": "code",
   "execution_count": 23,
   "metadata": {
    "collapsed": false
   },
   "outputs": [
    {
     "data": {
      "text/plain": [
       "490"
      ]
     },
     "execution_count": 23,
     "metadata": {},
     "output_type": "execute_result"
    }
   ],
   "source": [
    "# Aug. 3 updated\n",
    "## include gff file names, gffs are the most abundant type of annotation\n",
    "#make gff(GeneCatalog) filename ---- genome name pair info\n",
    "with open(dataPath+\"1_annotationName_fileName.txt\") as f: \n",
    "    annotationInfo = [line.lstrip().rstrip() for line in f if len(line) > 1]\n",
    "\n",
    "# get genome names for each line of info\n",
    "annotationGenomeNamePattern = '(.*): Project'\n",
    "annotationGenomeName = []\n",
    "for line in annotationInfo:\n",
    "    matchObj = re.match(annotationGenomeNamePattern, line)\n",
    "    annotationGenomeName.append(matchObj.group(1))\n",
    "\n",
    "# get gff(GeneCatalog) filename for each line of info\n",
    "gffFilteredNamePattern = '.*\\,\\s*(.*GeneCatalog.*?gff.gz)\\s'\n",
    "gffFilteredName = []\n",
    "\n",
    "for line in annotationInfo:\n",
    "    try:\n",
    "        matchObj = re.match(gffFilteredNamePattern, line, re.IGNORECASE)    \n",
    "        gffFilteredName.append(matchObj.group(1))\n",
    "    except:\n",
    "        gffFilteredName.append(None)\n",
    "\n",
    "assert len(annotationGenomeName) == len(gffFilteredName)\n",
    "# for d in zip(gff3FilteredName,annotationGenomeName): \n",
    "#     if None not in d:\n",
    "#         print d\n",
    "# len([item  for item in gff3FilteredName if item !=None])\n",
    "annotationDict = {x:y for x,y in zip(gffFilteredName,annotationGenomeName) if x != None and y != None}\n",
    "len(annotationDict)\n",
    "# for item in annotationDict.items():\n",
    "#     print item"
   ]
  },
  {
   "cell_type": "code",
   "execution_count": 46,
   "metadata": {
    "collapsed": false,
    "scrolled": true
   },
   "outputs": [
    {
     "name": "stdout",
     "output_type": "stream",
     "text": [
      "No fasta file found Sporo1\n",
      "No fasta file found Neute_matA2\n",
      "No fasta file found Pospl1\n",
      "No fasta file found Ustma1\n",
      "No fasta file found Crypa2\n"
     ]
    }
   ],
   "source": [
    "## data we have: shortNames(all the name index we have)\n",
    "\n",
    "completeInfo = [] # shortName, LongName, fastaName, gffName, gff3Name\n",
    "fastaName = []\n",
    "gffName = []\n",
    "gff3Name = []\n",
    "for shortName in shortNames:\n",
    "    filenames = os.listdir(dataPathLarge+\"{}\".format(shortName))\n",
    "    fasta = getFileName(filenames, \"fasta\")\n",
    "    gff3 = getFileName(filenames, \"filtered_proteins\")\n",
    "    gff = getFileName(filenames, \"GeneCatalog\")\n",
    "#     assert fastaDict[fasta] == annotationDict[gff3]\n",
    "    try:\n",
    "        longName = fastaDict[fasta]\n",
    "        completeInfo.append((shortName, fastaDict[fasta], fasta, gff, gff3))\n",
    "    except:\n",
    "        print \"No fasta file found\", shortName\n",
    "        completeInfo.append((shortName, \"NA\", fasta, gff3))\n",
    "\n",
    "completeTable = pd.DataFrame(completeInfo, columns='shortName, LongName, fastaName, gffName, gff3Name'.split(\", \"))\n",
    "completeTable = completeTable.sort(columns = 'shortName')\n",
    "completeTable.to_csv(dataPath+\"fullTableInfo.csv\", index= False) #sorted"
   ]
  }
 ],
 "metadata": {
  "kernelspec": {
   "display_name": "Python 2",
   "language": "python",
   "name": "python2"
  },
  "language_info": {
   "codemirror_mode": {
    "name": "ipython",
    "version": 2
   },
   "file_extension": ".py",
   "mimetype": "text/x-python",
   "name": "python",
   "nbconvert_exporter": "python",
   "pygments_lexer": "ipython2",
   "version": "2.7.10"
  }
 },
 "nbformat": 4,
 "nbformat_minor": 0
}
