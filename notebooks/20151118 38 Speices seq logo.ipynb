{
 "cells": [
  {
   "cell_type": "code",
   "execution_count": 7,
   "metadata": {
    "collapsed": true
   },
   "outputs": [],
   "source": [
    "import pandas as pd\n",
    "import subprocess"
   ]
  },
  {
   "cell_type": "code",
   "execution_count": 2,
   "metadata": {
    "collapsed": true
   },
   "outputs": [],
   "source": [
    "info = pd.read_csv('/home/richard/research/tests/Nov18_JGI38Species/speciesInfo.csv')"
   ]
  },
  {
   "cell_type": "code",
   "execution_count": 11,
   "metadata": {
    "collapsed": true
   },
   "outputs": [],
   "source": [
    "shortNames = info.shortName\n",
    "shortNames = shortNames[pd.notnull(shortNames)]"
   ]
  },
  {
   "cell_type": "code",
   "execution_count": 12,
   "metadata": {
    "collapsed": false
   },
   "outputs": [
    {
     "name": "stdout",
     "output_type": "stream",
     "text": [
      "['Spapa3', 'Picst3', 'Canta1', 'Debha1', 'Hypbu1', 'Cante1', 'Metbi1', 'Babin1', 'Canar1', 'Hanpo2', 'Picme2', 'Dekbr2', 'Picpa1', 'Pacta1_2', 'Klula1', 'Ashgo1_1', 'Sacce1', 'Hanva1_1', 'Wican1', 'Cybja1', 'Ascru1', 'Nadfu1', 'Yarli1', 'Canca1', 'Lipst1_1', 'Neucr2', 'TrireRUTC30_1', 'Aspnid1', 'Tubme1', 'Schpo1', 'Pneji1', 'Tapde1_1', 'Saico1', 'Cryne_H99_1', 'Schco3', 'Rhior3', 'Batde5']\n"
     ]
    }
   ],
   "source": [
    "print list(shortNames)"
   ]
  },
  {
   "cell_type": "code",
   "execution_count": 25,
   "metadata": {
    "collapsed": false
   },
   "outputs": [],
   "source": [
    "source = '/storage3/w/alexl/Fa/{}/annot/'\n",
    "target = '/home/richard/research/tests/Nov18_JGI38Species/JGI_species/'\n",
    "# for shortName in shortNames:\n",
    "#     command = 'mkdir {}{}'.format(target,shortName)\n",
    "#     print command\n",
    "#     subprocess.check_call(command, shell = True)\n",
    "\n",
    "for shortName in shortNames:\n",
    "    command = 'cp {}don.mat {}{}/'.format(source.format(shortName), target,shortName)\n",
    "    subprocess.check_call(command, shell = True)\n",
    "    command = 'cp {}acc.mat {}{}/'.format(source.format(shortName), target,shortName)\n",
    "    subprocess.check_call(command, shell = True)\n",
    "#     print command"
   ]
  }
 ],
 "metadata": {
  "kernelspec": {
   "display_name": "Python 2",
   "language": "python",
   "name": "python2"
  },
  "language_info": {
   "codemirror_mode": {
    "name": "ipython",
    "version": 2
   },
   "file_extension": ".py",
   "mimetype": "text/x-python",
   "name": "python",
   "nbconvert_exporter": "python",
   "pygments_lexer": "ipython2",
   "version": "2.7.10"
  }
 },
 "nbformat": 4,
 "nbformat_minor": 0
}
