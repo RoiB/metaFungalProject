{
 "cells": [
  {
   "cell_type": "markdown",
   "metadata": {},
   "source": [
    "#### Create Script that run gmhmm on multifasta file and output consolidated result"
   ]
  },
  {
   "cell_type": "code",
   "execution_count": 1,
   "metadata": {
    "collapsed": true
   },
   "outputs": [],
   "source": [
    "from Bio import SeqIO\n",
    "import subprocess"
   ]
  },
  {
   "cell_type": "code",
   "execution_count": 2,
   "metadata": {
    "collapsed": true
   },
   "outputs": [],
   "source": [
    "## python gmhmmMultiFasta <model file> <multi-fasta>"
   ]
  },
  {
   "cell_type": "code",
   "execution_count": null,
   "metadata": {
    "collapsed": true
   },
   "outputs": [],
   "source": [
    "from Bio import SeqIO\n",
    "import subprocess\n",
    "\n",
    "def gmhmmMultiFasta(modelFile, multiFastaFile, shortName):\n",
    "    '''\n",
    "    assume short name has Assembly inside\n",
    "    '''\n",
    "    subprocess.check_call('mkdir {}'.format(shortName), shell = True)\n",
    "    subprocess.check_call('mkdir {}/{}'.format(shortName,'fastaPieces'), shell = True)\n",
    "    subprocess.check_call('mkdir {}/{}'.format(shortName,'predictions'), shell = True)\n",
    "    fastaPieceLocation = '{}/{}/'.format(shortName,'fastaPieces')\n",
    "    predictionLocation = '{}/{}/'.format(shortName,'predictions')\n",
    "    fastaPieceFiles = []\n",
    "    predictionFiles = []\n",
    "    consolidatedPrediction = '{}/{}_fullPrediction.gtf'.format(shortName,shortName)\n",
    "    \n",
    "    ## split fasta file\n",
    "    SeqRecords = SeqIO.parse(multiFastaFile,'fasta')\n",
    "    for SeqRecord in SeqRecords:\n",
    "        filename = '{}{}.fasta'.format(fastaPieceLocation,SeqRecord.id)\n",
    "        SeqIO.write(SeqRecord, filename,'fasta')\n",
    "        fastaPieceFiles.append('{}.fasta'.format(SeqRecord.id))\n",
    "\n",
    "    \n",
    "    ## perform gmhmm on each piece\n",
    "    script = ''\n",
    "    base_command1 = '/home/tool/gmes/gmhmme3 -m {}'.format(modelFile)\n",
    "    base_command2 = 'python /home/richard/research/tools/gmhmme3_to_gtfV4.py'\n",
    "\n",
    "    counter = 0\n",
    "    for fastaPiece in fastaPieceFiles:\n",
    "        counter += 1\n",
    "        #gmhmm prediction\n",
    "        tempName = fastaPiece[:-5]+'tmp'\n",
    "        script += '{} {}{} -o {}{}\\n'.format(base_command1, fastaPieceLocation,fastaPiece,predictionLocation,tempName)\n",
    "\n",
    "        #convert prediciton\n",
    "        outputName = tempName[:-3]+'prediction.gtf'\n",
    "    #     print outputName\n",
    "        predictionFiles.append(outputName)\n",
    "\n",
    "        script += '{} {}{} {}{}\\n'.format(base_command2, predictionLocation, tempName, predictionLocation, outputName)\n",
    "        script += 'rm {}{}\\n'.format(predictionLocation, tempName)\n",
    "        script += 'echo \"#{} prediction of {} is done!\"\\n'.format(counter, fastaPiece)\n",
    "    subprocess.check_call(script,shell = True)\n",
    "    \n",
    "    ## consolidate predicitons\n",
    "    with open(consolidatedPrediction, 'w') as f:\n",
    "        for predictionFile in predictionFiles:\n",
    "            with open(predictionLocation+predictionFile) as f0:\n",
    "                for line in f0:\n",
    "                    f.write(line)"
   ]
  },
  {
   "cell_type": "code",
   "execution_count": 3,
   "metadata": {
    "collapsed": true
   },
   "outputs": [],
   "source": [
    "shortName = 'Pneji1'"
   ]
  },
  {
   "cell_type": "code",
   "execution_count": 17,
   "metadata": {
    "collapsed": false
   },
   "outputs": [],
   "source": [
    "basePath = '/home/richard/research/tests/Oct28TestSet/testSmallSample/'\n",
    "modelFile = '/home/richard/largeDataSet/ES_Run_modfileAug2015/Pneji1.ES_C_4.mod'\n",
    "\n",
    "multiFastaFile = '/home/richard/research/tests/Oct28TestSet/testSmallSample/Pneji1_AssemblyScaffolds.cut.fasta'\n",
    "fastaPieceLocation = '/home/richard/research/tests/Oct28TestSet/testSmallSample/fastaPieces/'\n",
    "fastaPieceFiles = []\n",
    "\n",
    "predictionLocation = '/home/richard/research/tests/Oct28TestSet/testSmallSample/predictions/'\n",
    "predictionFiles = []\n",
    "\n",
    "consolidatedPrediction = '{}_fullPrediction.gtf'.format(shortName)"
   ]
  },
  {
   "cell_type": "code",
   "execution_count": 5,
   "metadata": {
    "collapsed": false
   },
   "outputs": [],
   "source": [
    "## split fasta file\n",
    "SeqRecords = SeqIO.parse(multiFastaFile,'fasta')\n",
    "for SeqRecord in SeqRecords:\n",
    "    filename = '{}{}.fasta'.format(fastaPieceLocation,SeqRecord.id)\n",
    "    SeqIO.write(SeqRecord, filename,'fasta')\n",
    "    fastaPieceFiles.append('{}.fasta'.format(SeqRecord.id))"
   ]
  },
  {
   "cell_type": "code",
   "execution_count": 14,
   "metadata": {
    "collapsed": false
   },
   "outputs": [],
   "source": [
    "## perform gmhmm on each piece\n",
    "script = ''\n",
    "base_command1 = '/home/tool/gmes/gmhmme3 -m {}'.format(modelFile)\n",
    "base_command2 = 'python /home/richard/research/tools/gmhmme3_to_gtfV4.py'\n",
    "\n",
    "counter = 0\n",
    "for fastaPiece in fastaPieceFiles:\n",
    "    counter += 1\n",
    "    #gmhmm prediction\n",
    "    tempName = fastaPiece[:-5]+'tmp'\n",
    "    script += '{} {}{} -o {}{}\\n'.format(base_command1, fastaPieceLocation,fastaPiece,predictionLocation,tempName)\n",
    "    \n",
    "    #convert prediciton\n",
    "    outputName = tempName[:-3]+'prediction.gtf'\n",
    "#     print outputName\n",
    "    predictionFiles.append(outputName)\n",
    "    \n",
    "    script += '{} {}{} {}{}\\n'.format(base_command2, predictionLocation, tempName, predictionLocation, outputName)\n",
    "    script += 'rm {}{}\\n'.format(predictionLocation, tempName)\n",
    "    script += 'echo \"#{} prediction of {} is done!\"\\n'.format(counter, fastaPiece)"
   ]
  },
  {
   "cell_type": "code",
   "execution_count": 15,
   "metadata": {
    "collapsed": false
   },
   "outputs": [],
   "source": [
    "with open('{}predictionScript.sh'.format(basePath),'w') as f: f.write(script) "
   ]
  },
  {
   "cell_type": "code",
   "execution_count": 18,
   "metadata": {
    "collapsed": true
   },
   "outputs": [],
   "source": [
    "## consolidate predicitons\n",
    "with open(basePath+consolidatedPrediction, 'w') as f:\n",
    "    for predictionFile in predictionFiles:\n",
    "        with open(predictionLocation+predictionFile) as f0:\n",
    "            for line in f0:\n",
    "                f.write(line)"
   ]
  }
 ],
 "metadata": {
  "kernelspec": {
   "display_name": "Python 2",
   "language": "python",
   "name": "python2"
  },
  "language_info": {
   "codemirror_mode": {
    "name": "ipython",
    "version": 2
   },
   "file_extension": ".py",
   "mimetype": "text/x-python",
   "name": "python",
   "nbconvert_exporter": "python",
   "pygments_lexer": "ipython2",
   "version": "2.7.10"
  }
 },
 "nbformat": 4,
 "nbformat_minor": 0
}
