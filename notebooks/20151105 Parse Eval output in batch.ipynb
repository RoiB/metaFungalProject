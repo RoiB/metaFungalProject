{
 "cells": [
  {
   "cell_type": "code",
   "execution_count": 1,
   "metadata": {
    "collapsed": true
   },
   "outputs": [],
   "source": [
    "'''\n",
    "1. Given a folder of eval results, consolidate internal exon accuracy and nucleotide accuracy into a csv table\n",
    "'''\n",
    "import pandas as pd"
   ]
  },
  {
   "cell_type": "code",
   "execution_count": 2,
   "metadata": {
    "collapsed": true
   },
   "outputs": [],
   "source": [
    "source = '/home/richard/research/tests/Oct30NewTestSet/evalresultMid/'"
   ]
  },
  {
   "cell_type": "code",
   "execution_count": 3,
   "metadata": {
    "collapsed": true
   },
   "outputs": [],
   "source": [
    "filenames = os.listdir(source)"
   ]
  },
  {
   "cell_type": "code",
   "execution_count": 4,
   "metadata": {
    "collapsed": true
   },
   "outputs": [],
   "source": [
    "with open(source+filenames[0]) as f:\n",
    "    text = f.read()"
   ]
  },
  {
   "cell_type": "code",
   "execution_count": 14,
   "metadata": {
    "collapsed": false
   },
   "outputs": [
    {
     "name": "stdout",
     "output_type": "stream",
     "text": [
      "(72.22, 54.17, 100.0, 96.38)\n"
     ]
    }
   ],
   "source": [
    "temp = []\n",
    "counter = 0\n",
    "flag = False\n",
    "with open(source+filenames[0]) as f:\n",
    "    for line in f:\n",
    "        if 'Nucleotide Sensitivity' in line:\n",
    "            nuc_sn = float(line.split('Nucleotide Sensitivity')[1].split('%')[0])\n",
    "        if 'Nucleotide Specificity' in line:\n",
    "            nuc_sp = float(line.split('Nucleotide Specificity')[1].split('%')[0])\n",
    "            \n",
    "        if 'Internal' in line:\n",
    "            counter += 1\n",
    "            if counter == 3:\n",
    "                flag = True\n",
    "                counter = 100 #to ignore comming 'Internals'\n",
    "        if flag:\n",
    "            if 'Correct Specificity' in line:\n",
    "                internal_exon_sp = float(line.split('Correct Specificity')[1].split('%')[0])\n",
    "                \n",
    "            if 'Correct Sensitivity' in line:\n",
    "                internal_exon_sn = float(line.split('Correct Sensitivity')[1].split('%')[0])\n",
    "                flag = False\n",
    "    print (internal_exon_sn, internal_exon_sp, nuc_sn, nuc_sp)"
   ]
  },
  {
   "cell_type": "code",
   "execution_count": 17,
   "metadata": {
    "collapsed": true
   },
   "outputs": [],
   "source": [
    "def accuracy_vec(filename):\n",
    "    '''\n",
    "    input: filename with file path\n",
    "    output: accuracy vector (internal exon Sn, internal exon Sp, nucleotide Sn, nucleotide Sp)\n",
    "    '''\n",
    "    counter = 0\n",
    "    flag = False\n",
    "    with open(filename) as f:\n",
    "        for line in f:\n",
    "            if 'Nucleotide Sensitivity' in line:\n",
    "                nuc_sn = float(line.split('Nucleotide Sensitivity')[1].split('%')[0])\n",
    "            if 'Nucleotide Specificity' in line:\n",
    "                nuc_sp = float(line.split('Nucleotide Specificity')[1].split('%')[0])\n",
    "\n",
    "            if 'Internal' in line:\n",
    "                counter += 1\n",
    "                if counter == 3:\n",
    "                    flag = True\n",
    "                    counter = 100 #to ignore comming 'Internals'\n",
    "            if flag:\n",
    "                if 'Correct Specificity' in line:\n",
    "                    internal_exon_sp = float(line.split('Correct Specificity')[1].split('%')[0])\n",
    "\n",
    "                if 'Correct Sensitivity' in line:\n",
    "                    internal_exon_sn = float(line.split('Correct Sensitivity')[1].split('%')[0])\n",
    "                    flag = False\n",
    "        return (internal_exon_sn, internal_exon_sp, nuc_sn, nuc_sp)\n",
    "    \n",
    "def get_accuracy(source):\n",
    "    filenames = os.listdir(source)\n",
    "    df = (pd.DataFrame(map(lambda x: accuracy_vec(source+x), filenames), \n",
    "                   index= map(lambda x: x.split('.eval')[0],filenames), \n",
    "                   columns=['Internal_Exon_Sn','Internal_Exon_Sp','Nucleotide_Sn', 'Nucleotide_Sp']))\n",
    "    return df"
   ]
  },
  {
   "cell_type": "code",
   "execution_count": 55,
   "metadata": {
    "collapsed": false
   },
   "outputs": [],
   "source": [
    "df = (pd.DataFrame(map(lambda x: accuracy_vec(source+x), filenames), \n",
    "                   index= map(lambda x: x.split('.eval')[0],filenames), \n",
    "                   columns=['Internal_Exon_Sn','Internal_Exon_Sp','Nucleotide_Sn', 'Nucleotide_Sp']))"
   ]
  },
  {
   "cell_type": "code",
   "execution_count": 60,
   "metadata": {
    "collapsed": true
   },
   "outputs": [],
   "source": [
    "df.to_csv('/home/richard/tempFile/123.csv')"
   ]
  },
  {
   "cell_type": "code",
   "execution_count": null,
   "metadata": {
    "collapsed": true
   },
   "outputs": [],
   "source": []
  }
 ],
 "metadata": {
  "kernelspec": {
   "display_name": "Python 2",
   "language": "python",
   "name": "python2"
  },
  "language_info": {
   "codemirror_mode": {
    "name": "ipython",
    "version": 2
   },
   "file_extension": ".py",
   "mimetype": "text/x-python",
   "name": "python",
   "nbconvert_exporter": "python",
   "pygments_lexer": "ipython2",
   "version": "2.7.10"
  }
 },
 "nbformat": 4,
 "nbformat_minor": 0
}
