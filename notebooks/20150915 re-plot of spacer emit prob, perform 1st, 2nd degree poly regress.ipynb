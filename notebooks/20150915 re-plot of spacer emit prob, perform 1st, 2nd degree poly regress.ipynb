{
 "cells": [
  {
   "cell_type": "code",
   "execution_count": 3,
   "metadata": {
    "collapsed": false
   },
   "outputs": [
    {
     "ename": "IOError",
     "evalue": "Connection file u'~/.ipython/profile_default/security/ipcontroller-client.json' not found.\nYou have attempted to connect to an IPython Cluster but no Controller could be found.\nPlease double-check your configuration and ensure that a cluster is running.",
     "output_type": "error",
     "traceback": [
      "\u001b[1;31m---------------------------------------------------------------------------\u001b[0m",
      "\u001b[1;31mIOError\u001b[0m                                   Traceback (most recent call last)",
      "\u001b[1;32m<ipython-input-3-68a61b60ae13>\u001b[0m in \u001b[0;36m<module>\u001b[1;34m()\u001b[0m\n\u001b[0;32m     10\u001b[0m \u001b[1;31m## use ipython parallel programming\u001b[0m\u001b[1;33m\u001b[0m\u001b[1;33m\u001b[0m\u001b[0m\n\u001b[0;32m     11\u001b[0m \u001b[1;32mfrom\u001b[0m \u001b[0mIPython\u001b[0m\u001b[1;33m.\u001b[0m\u001b[0mparallel\u001b[0m \u001b[1;32mimport\u001b[0m \u001b[0mClient\u001b[0m\u001b[1;33m\u001b[0m\u001b[0m\n\u001b[1;32m---> 12\u001b[1;33m \u001b[0mrc\u001b[0m \u001b[1;33m=\u001b[0m \u001b[0mClient\u001b[0m\u001b[1;33m(\u001b[0m\u001b[1;33m)\u001b[0m\u001b[1;33m\u001b[0m\u001b[0m\n\u001b[0m\u001b[0;32m     13\u001b[0m \u001b[0mdview\u001b[0m \u001b[1;33m=\u001b[0m \u001b[0mrc\u001b[0m\u001b[1;33m[\u001b[0m\u001b[1;33m:\u001b[0m\u001b[1;33m]\u001b[0m\u001b[1;33m\u001b[0m\u001b[0m\n\u001b[0;32m     14\u001b[0m \u001b[1;33m\u001b[0m\u001b[0m\n",
      "\u001b[1;32m/home/richard/anaconda/lib/python2.7/site-packages/IPython/parallel/client/client.pyc\u001b[0m in \u001b[0;36m__init__\u001b[1;34m(self, url_file, profile, profile_dir, ipython_dir, context, debug, sshserver, sshkey, password, paramiko, timeout, cluster_id, **extra_args)\u001b[0m\n\u001b[0;32m    405\u001b[0m                         \u001b[0mno_file_msg\u001b[0m\u001b[1;33m,\u001b[0m\u001b[1;33m\u001b[0m\u001b[0m\n\u001b[0;32m    406\u001b[0m                     ])\n\u001b[1;32m--> 407\u001b[1;33m                     \u001b[1;32mraise\u001b[0m \u001b[0mIOError\u001b[0m\u001b[1;33m(\u001b[0m\u001b[0mmsg\u001b[0m\u001b[1;33m)\u001b[0m\u001b[1;33m\u001b[0m\u001b[0m\n\u001b[0m\u001b[0;32m    408\u001b[0m         \u001b[1;32mif\u001b[0m \u001b[0murl_file\u001b[0m \u001b[1;32mis\u001b[0m \u001b[0mNone\u001b[0m\u001b[1;33m:\u001b[0m\u001b[1;33m\u001b[0m\u001b[0m\n\u001b[0;32m    409\u001b[0m             \u001b[1;32mraise\u001b[0m \u001b[0mIOError\u001b[0m\u001b[1;33m(\u001b[0m\u001b[0mno_file_msg\u001b[0m\u001b[1;33m)\u001b[0m\u001b[1;33m\u001b[0m\u001b[0m\n",
      "\u001b[1;31mIOError\u001b[0m: Connection file u'~/.ipython/profile_default/security/ipcontroller-client.json' not found.\nYou have attempted to connect to an IPython Cluster but no Controller could be found.\nPlease double-check your configuration and ensure that a cluster is running."
     ]
    }
   ],
   "source": [
    "'''\n",
    "The note book deal with spacer emission probability to get a better understanding of emission prob distribution\n",
    "\n",
    "1. plot all emission probability on the same scale\n",
    "2. compare linear and poly regression on emission probability \n",
    "3. build new set of parameters on spacer emission probability\n",
    "4. build function to assembly spacer emission probabilty fitting the model file\n",
    "'''\n",
    "\n",
    "## use ipython parallel programming \n",
    "from IPython.parallel import Client\n",
    "rc = Client()\n",
    "dview = rc[:]\n",
    "\n",
    "\n",
    "import pandas as pd; dview.execute(\"import pandas as pd\")\n",
    "\n",
    "import numpy as np\n",
    "\n",
    "import matplotlib.pylab as plt\n",
    "%matplotlib inline\n",
    "import matplotlib\n",
    "\n",
    "\n",
    "import os\n",
    "# The path where all the GeneMark-ES 4th run models located\n",
    "modelFilePath = \"/home/richard/largeDataSet/ES_Run_modfileAug2015/\" \n",
    "modelFileNames = os.listdir(modelFilePath)\n",
    "\n",
    "# full data\n",
    "fulldata = pd.read_csv(\"../1_DataSmall/fullTableInfoGff3GffRNAESwithDensity20150829.csv\")\n",
    "fulldata.index = fulldata['shortName']\n",
    "\n",
    "\n",
    "dview.push({'modelFilePath':modelFilePath,'modelFileNames':modelFileNames})"
   ]
  },
  {
   "cell_type": "code",
   "execution_count": null,
   "metadata": {
    "collapsed": false
   },
   "outputs": [],
   "source": [
    "class ESModelSpacer():\n",
    "    _GC_PARAM = { # each param is paired with an ending signal\n",
    "        '$MARKOV_BP_SPACER':'TT'\n",
    "    }\n",
    "    \n",
    "    def __init__(self, filename):\n",
    "        self.f = open(filename)\n",
    "\n",
    "    def close(self):\n",
    "        '''close file connection'''\n",
    "        self.f.close()\n",
    "        \n",
    "    def extract_to_table(self, param, cols = ['X','Y']):\n",
    "        '''\n",
    "        Capture data below parameter and output an dataframe\n",
    "        Right now, only been tested on spacer\n",
    "        \n",
    "        '''\n",
    "        data = []\n",
    "        switch = False\n",
    "        for line in self.f:\n",
    "            if switch:\n",
    "                data.append(line)\n",
    "#                 print line\n",
    "            if param in line:\n",
    "                switch = True\n",
    "            if switch and \"{}\".format(self._GC_PARAM[param]) in line:\n",
    "                switch = False\n",
    "                break\n",
    "        data = map(lambda line: line.rstrip().split(), data)\n",
    "#         pairs = map(lambda (a,b): (int(a), float(b)), data)\n",
    "        \n",
    "        return pd.DataFrame(data, columns= cols) \n",
    "    \n",
    "dview.push({'ESModelSpacer':ESModelSpacer})"
   ]
  },
  {
   "cell_type": "code",
   "execution_count": null,
   "metadata": {
    "collapsed": false
   },
   "outputs": [],
   "source": [
    "test1 = ESModelSpacer(modelFilePath+modelFileNames[0]).extract_to_table(\"$MARKOV_BP_SPACER\")"
   ]
  },
  {
   "cell_type": "code",
   "execution_count": null,
   "metadata": {
    "collapsed": false
   },
   "outputs": [],
   "source": [
    "cols = test1.X #assign column names as dinucleotides"
   ]
  },
  {
   "cell_type": "code",
   "execution_count": null,
   "metadata": {
    "collapsed": true
   },
   "outputs": [],
   "source": [
    "spacer_prob_map = dview.map(lambda filename: ESModelSpacer(modelFilePath+filename).extract_to_table(\"$MARKOV_BP_SPACER\"), modelFileNames)"
   ]
  },
  {
   "cell_type": "code",
   "execution_count": null,
   "metadata": {
    "collapsed": false
   },
   "outputs": [],
   "source": [
    "spacer_probs = spacer_prob_map.get()"
   ]
  },
  {
   "cell_type": "code",
   "execution_count": null,
   "metadata": {
    "collapsed": false
   },
   "outputs": [],
   "source": [
    "df = pd.DataFrame(map(lambda df: df.Y, spacer_probs),dtype=float)"
   ]
  },
  {
   "cell_type": "code",
   "execution_count": null,
   "metadata": {
    "collapsed": true
   },
   "outputs": [],
   "source": [
    "df.columns = cols"
   ]
  },
  {
   "cell_type": "code",
   "execution_count": null,
   "metadata": {
    "collapsed": false
   },
   "outputs": [],
   "source": [
    "## get GC\n",
    "gc = map(lambda filename: fulldata.loc[filename[:-11]].gc, modelFileNames)"
   ]
  },
  {
   "cell_type": "code",
   "execution_count": null,
   "metadata": {
    "collapsed": true
   },
   "outputs": [],
   "source": [
    "df['gc'] = gc"
   ]
  },
  {
   "cell_type": "code",
   "execution_count": null,
   "metadata": {
    "collapsed": true
   },
   "outputs": [],
   "source": [
    "# adjust font size\n",
    "matplotlib.rcParams.update({'font.size': 20})"
   ]
  },
  {
   "cell_type": "code",
   "execution_count": null,
   "metadata": {
    "collapsed": false
   },
   "outputs": [],
   "source": [
    "plt.plot(df.gc, df.icol(0),'ro')\n",
    "plt.title(df.columns[0])\n",
    "plt.ylim([0,.5])\n",
    "plt.xlim([10,70])\n",
    "plt.xlabel('GC')\n",
    "plt.ylabel('Probability')"
   ]
  },
  {
   "cell_type": "code",
   "execution_count": null,
   "metadata": {
    "collapsed": false
   },
   "outputs": [],
   "source": [
    "df.to_csv('../1_DataSmall/SpacerEmissionProbTable.csv',index=None)"
   ]
  },
  {
   "cell_type": "code",
   "execution_count": null,
   "metadata": {
    "collapsed": true
   },
   "outputs": [],
   "source": [
    "# plot path \n",
    "plot_path = \"/home/richard/research/1_DataSmall/Plots/spacer_emission/\""
   ]
  },
  {
   "cell_type": "code",
   "execution_count": null,
   "metadata": {
    "collapsed": true
   },
   "outputs": [],
   "source": [
    "for i in range(16):\n",
    "    plt.plot(df.gc, df.icol(i),'ro')\n",
    "    plt.title(df.columns[i])\n",
    "    plt.ylim([0,.3])\n",
    "    plt.xlim([10,70])\n",
    "    plt.xlabel('GC')\n",
    "    plt.ylabel('Probability')\n",
    "    plt.savefig(plot_path+df.columns[i],bbox_inches='tight')\n",
    "    plt.close()"
   ]
  },
  {
   "cell_type": "code",
   "execution_count": null,
   "metadata": {
    "collapsed": true
   },
   "outputs": [],
   "source": [
    "### start poly regression "
   ]
  },
  {
   "cell_type": "code",
   "execution_count": null,
   "metadata": {
    "collapsed": true
   },
   "outputs": [],
   "source": [
    "# regression set with 1d wrapper, just plug in gc and will output probability\n",
    "regressModelSet = map(lambda XY: np.poly1d(np.polyfit(df.gc, df[XY],deg = 2)), df.columns)"
   ]
  },
  {
   "cell_type": "code",
   "execution_count": null,
   "metadata": {
    "collapsed": true
   },
   "outputs": [],
   "source": [
    "gc_range = range(20,65)"
   ]
  },
  {
   "cell_type": "code",
   "execution_count": null,
   "metadata": {
    "collapsed": false
   },
   "outputs": [],
   "source": [
    "regressResult = map(lambda model: model(gc_range), regressModelSet)"
   ]
  },
  {
   "cell_type": "code",
   "execution_count": null,
   "metadata": {
    "collapsed": false
   },
   "outputs": [],
   "source": [
    "AA = np.polyfit(df.gc, df.AA, 2)\n",
    "linearAA = np.polyfit(df.gc, df.AA, 1)"
   ]
  },
  {
   "cell_type": "code",
   "execution_count": null,
   "metadata": {
    "collapsed": false
   },
   "outputs": [],
   "source": [
    "p = np.poly1d(AA)\n",
    "linearp = np.poly1d(linearAA)"
   ]
  },
  {
   "cell_type": "code",
   "execution_count": null,
   "metadata": {
    "collapsed": false
   },
   "outputs": [],
   "source": [
    "plt.plot(range(10,70),p(range(10,70)), lw = 3, label = '2nd degree poly regression')\n",
    "plt.plot(range(10,70),linearp(range(10,70)), lw = 3, label = 'linear regression')\n",
    "plt.plot(df.gc, df.icol(0),'ro',label = 'real data',alpha = 0.15)\n",
    "plt.legend(fontsize = 10)"
   ]
  },
  {
   "cell_type": "code",
   "execution_count": null,
   "metadata": {
    "collapsed": true
   },
   "outputs": [],
   "source": [
    "# plot path \n",
    "plot_path = \"/home/richard/research/1_DataSmall/Plots/spacer_emission_regression/\""
   ]
  },
  {
   "cell_type": "code",
   "execution_count": null,
   "metadata": {
    "collapsed": false,
    "scrolled": false
   },
   "outputs": [],
   "source": [
    "for i in range(16):\n",
    "    plt.plot(df.gc, df.icol(i),'ro',label = 'real data')\n",
    "    plt.plot(gc_range, regressResult[i], lw = 4, label = '2nd degree poly regression')\n",
    "    plt.title(df.columns[i])\n",
    "    plt.ylim([0,.3])\n",
    "    plt.xlim([10,70])\n",
    "    plt.xlabel('GC')\n",
    "    plt.ylabel('Probability')\n",
    "    plt.legend()\n",
    "    plt.savefig(plot_path+df.columns[i],bbox_inches='tight')\n",
    "    plt.close()"
   ]
  },
  {
   "cell_type": "code",
   "execution_count": null,
   "metadata": {
    "collapsed": true
   },
   "outputs": [],
   "source": [
    "## add comparison linear regression\n",
    "linearRegressModelSet = map(lambda XY: np.poly1d(np.polyfit(df.gc, df[XY],deg = 1)), df.columns)\n",
    "gc_range = range(20,65)\n",
    "linearRegressResult = map(lambda model: model(gc_range), linearRegressModelSet)"
   ]
  },
  {
   "cell_type": "code",
   "execution_count": null,
   "metadata": {
    "collapsed": true
   },
   "outputs": [],
   "source": [
    "matplotlib.rcParams.update({'font.size': 20})\n",
    "_alpha = 1\n",
    "lineWidth = 2\n",
    "for i in range(16):\n",
    "    plt.plot(df.gc, df.icol(i),'ro',label = 'real data', alpha = _alpha)\n",
    "    plt.plot(gc_range, regressResult[i], lw = lineWidth, label = '2nd degree poly regression')\n",
    "    plt.plot(gc_range, linearRegressResult[i], lw = lineWidth, label = 'linear regression')\n",
    "    plt.title(df.columns[i])\n",
    "    plt.ylim([0,.3])\n",
    "    plt.xlim([10,70])\n",
    "    plt.xlabel('GC')\n",
    "    plt.ylabel('Probability')\n",
    "    plt.legend(fontsize = 13)\n",
    "    plt.savefig(plot_path+df.columns[i],bbox_inches='tight')\n",
    "    plt.close()"
   ]
  },
  {
   "cell_type": "code",
   "execution_count": null,
   "metadata": {
    "collapsed": true
   },
   "outputs": [],
   "source": [
    "## fit TT legend\n",
    "plt.plot(df.gc, df.TT,'ro',label = 'real data',alpha = _alpha)\n",
    "plt.plot(gc_range, regressResult[i], lw = lineWidth, label = '2nd degree poly regression')\n",
    "plt.plot(gc_range, linearRegressResult[i], lw = lineWidth, label = 'linear regression')\n",
    "plt.title('TT')\n",
    "plt.ylim([0,.3])\n",
    "plt.xlim([10,70])\n",
    "plt.xlabel('GC')\n",
    "plt.ylabel('Probability')\n",
    "plt.legend(fontsize = 8)\n",
    "plt.savefig(plot_path+df.columns[i],bbox_inches='tight')\n",
    "plt.close()"
   ]
  },
  {
   "cell_type": "code",
   "execution_count": null,
   "metadata": {
    "collapsed": false,
    "scrolled": true
   },
   "outputs": [],
   "source": [
    "###\n",
    "### Build new set of parameters on spacer emisson probability\n",
    "### create table that could to referenced in the future\n",
    "df_poly_regress = pd.concat(map(pd.DataFrame,regressResult), axis = 1)\n",
    "df_poly_regress.index = gc_range\n",
    "df_poly_regress.columns = df.columns\n",
    "df_poly_regress.head()"
   ]
  },
  {
   "cell_type": "code",
   "execution_count": null,
   "metadata": {
    "collapsed": true
   },
   "outputs": [],
   "source": [
    "df_poly_regress.to_csv(\"../1_DataSmall/heuristic_model_params/spacer_emission.csv\",index = None)"
   ]
  },
  {
   "cell_type": "code",
   "execution_count": null,
   "metadata": {
    "collapsed": false
   },
   "outputs": [],
   "source": [
    "for col in df_poly_regress.columns[:-1]:\n",
    "    print col,df_poly_regress.loc[20,col]"
   ]
  },
  {
   "cell_type": "code",
   "execution_count": null,
   "metadata": {
    "collapsed": false
   },
   "outputs": [],
   "source": [
    "## assembly parameters for model file\n",
    "path  = '../1_DataSmall/heuristic_model_params/spacer_emission/'\n",
    "for gc in gc_range:\n",
    "    base = '$MARKOV_BP_SPACER\\n'\n",
    "    for col in df_poly_regress.columns[:-1]:\n",
    "        base+= \"{} {}\\n\".format(col,df_poly_regress.loc[gc,col])\n",
    "    with open('spacer_emission_{}.txt'.format(gc),'w') as f:\n",
    "        f.write(base)"
   ]
  },
  {
   "cell_type": "code",
   "execution_count": null,
   "metadata": {
    "collapsed": false
   },
   "outputs": [],
   "source": [
    "####################################\n",
    "## Oct 28 rerun code for model assembly\n",
    "for gc in gc_range:\n",
    "    base = '$MARKOV_BP_SPACER\\n'\n",
    "    for col in df_poly_regress.columns[:-1]:\n",
    "        base+= \"{} {}\\n\".format(col,df_poly_regress.loc[gc,col])\n",
    "    print gc\n",
    "    print base"
   ]
  },
  {
   "cell_type": "code",
   "execution_count": null,
   "metadata": {
    "collapsed": true
   },
   "outputs": [],
   "source": []
  }
 ],
 "metadata": {
  "kernelspec": {
   "display_name": "Python 2",
   "language": "python",
   "name": "python2"
  },
  "language_info": {
   "codemirror_mode": {
    "name": "ipython",
    "version": 2
   },
   "file_extension": ".py",
   "mimetype": "text/x-python",
   "name": "python",
   "nbconvert_exporter": "python",
   "pygments_lexer": "ipython2",
   "version": "2.7.10"
  }
 },
 "nbformat": 4,
 "nbformat_minor": 0
}
