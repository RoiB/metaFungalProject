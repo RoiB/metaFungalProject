{
 "cells": [
  {
   "cell_type": "code",
   "execution_count": 43,
   "metadata": {
    "collapsed": true
   },
   "outputs": [],
   "source": [
    "import re\n",
    "##########################################################################\n",
    "##########################################################################\n",
    "## format prokaryote gmhmm output to gtf that could be recognized by eval\n",
    "## to note: each field should be delimited by \\t\n",
    "##          there should be space between gene_id and transcript_id            \n",
    "def format_gene_id(gene_id):\n",
    "    '''helper function for gff to gtf'''\n",
    "    num = gene_id.split('=')[1]\n",
    "    return '\\tgene_id \"x{0}\"; transcript_id \"x{0}.a\";\\n'.format(num)\n",
    "\n",
    "\n",
    "start_location_pattern = '(\\d+?)_\\d+?.+?GeneMark'\n",
    "def get_start_position(line):\n",
    "    '''helper function for gff to gtf'''\n",
    "    return int(re.findall(start_location_pattern, line)[0]) - 1\n",
    "\n",
    "def gff_to_gtf(target, output):\n",
    "    '''format prokaryote gmhmm output to gtf that could be recognized by eval'''\n",
    "    converted_text = ''\n",
    "    with open(target) as f:\n",
    "        for line in f:\n",
    "            ## need to add up with the location\n",
    "            ## format need to be consistant, fasta name to help locate gene\n",
    "            if 'gene_id=' in line:\n",
    "                start = get_start_position(line)\n",
    "                \n",
    "                elems = line.split()\n",
    "                elems[3] = str(int(elems[3])+start)\n",
    "                elems[4] = str(int(elems[4])+start)\n",
    "                converted_text+='\\t'.join(elems[:-1])\n",
    "                converted_text+= format_gene_id(elems[-1])\n",
    "    with open(output,'w') as f: f.write(converted_text)"
   ]
  },
  {
   "cell_type": "code",
   "execution_count": 44,
   "metadata": {
    "collapsed": false
   },
   "outputs": [],
   "source": [
    "## genemark.hmm prok verion, gff to gtf\n",
    "target = \"../5_Tests/Sep28ComparisonProkaryote/Schpo1_meta_collection.gff\"\n",
    "output = \"../5_Tests/Sep28ComparisonProkaryote/Schpo1_meta_collection.gtf\"\n",
    "gff_to_gtf(target, output)"
   ]
  },
  {
   "cell_type": "code",
   "execution_count": 45,
   "metadata": {
    "collapsed": true
   },
   "outputs": [],
   "source": [
    "## genemark.hmm prok verion, gff to gtf\n",
    "target = \"../5_Tests/Sep28ComparisonProkaryote/Neucr2_meta_collection.gff\"\n",
    "output = \"../5_Tests/Sep28ComparisonProkaryote/Neucr2_meta_collection.gtf\"\n",
    "gff_to_gtf(target, output)"
   ]
  },
  {
   "cell_type": "code",
   "execution_count": 49,
   "metadata": {
    "collapsed": true
   },
   "outputs": [],
   "source": [
    "## convert JGI gff annotation to gtf format\n",
    "import re\n",
    "def JGIgff_to_gtf(target, output):\n",
    "    '''\n",
    "    format prokaryote gmhmm output to gtf that could be recognized by eval\n",
    "    example line: \n",
    "    scaffold_1\tJGI\texon\t6287\t6313\t.\t-\t.\tname \"estExt_fgenesh1_pg.C_1_t10002\"; transcriptId 519841\n",
    "    '''\n",
    "    \n",
    "    converted_text = ''\n",
    "    with open(target) as f:\n",
    "        for line in f:\n",
    "            ## need to add up with the location\n",
    "            ## format need to be consistant, fasta name to help locate gene\n",
    "                elems = line.split()\n",
    "                converted_text+='\\t'.join(elems[:8])\n",
    "                converted_text+= format_gene_id_JGI_gff(elems[8:])\n",
    "    with open(output,'w') as f: f.write(converted_text)\n",
    "        \n",
    "def format_gene_id_JGI_gff(last_col):\n",
    "    '''helper function for gff to gtf'''\n",
    "    name = last_col[1].split(';')[0]\n",
    "    gene_id = re.sub('\\#','ding',name)\n",
    "    return '\\tgene_id {0}; transcript_id {0};\\n'.format(gene_id)"
   ]
  },
  {
   "cell_type": "code",
   "execution_count": 35,
   "metadata": {
    "collapsed": true
   },
   "outputs": [],
   "source": [
    "## 20151002 final test set, test case\n",
    "target = \"/home/richard/tempFile/test.gff\"\n",
    "output = \"/home/richard/tempFile/test.gtf\"\n",
    "JGIgff_to_gtf(target, output)"
   ]
  },
  {
   "cell_type": "code",
   "execution_count": 50,
   "metadata": {
    "collapsed": true
   },
   "outputs": [],
   "source": [
    "## 20151002 final test set \n",
    "target = \"/storage3/w/richard/meta2015/finalTestSet20151002/gff/Aspoch1_GeneCatalog_genes_20140127.gff\"\n",
    "output = \"/home/richard/tempFile/Aspoch1_GeneCatalog_genes_20140127.gtf\"\n",
    "JGIgff_to_gtf(target, output)"
   ]
  },
  {
   "cell_type": "code",
   "execution_count": 46,
   "metadata": {
    "collapsed": true
   },
   "outputs": [],
   "source": [
    "target = \"/home/richard/research/5_Tests/Oct03ValidateGffToGTF/Schpo1_GeneCatalog_genes_20130111.chromosome_1.gff\"\n",
    "output = \"/home/richard/research/5_Tests/Oct03ValidateGffToGTF/Schpo1_GeneCatalog_genes_20130111.chromosome_1.gtf\"\n",
    "JGIgff_to_gtf(target, output)"
   ]
  },
  {
   "cell_type": "code",
   "execution_count": 15,
   "metadata": {
    "collapsed": false
   },
   "outputs": [
    {
     "name": "stdout",
     "output_type": "stream",
     "text": [
      "\"SPAC750.08c\"\n",
      "\"SPAC750.08\n"
     ]
    },
    {
     "data": {
      "text/plain": [
       "'\"SPAC750.08c'"
      ]
     },
     "execution_count": 15,
     "metadata": {},
     "output_type": "execute_result"
    }
   ],
   "source": [
    "line = 'chromosome_1\tJGI\tstop_codon\t5578447\t5578449\t.\t-\t0\tname \"SPAC750.08c\"'\n",
    "last_col = line.split()[8:]\n",
    "print last_col[1]\n",
    "print re.sub('\\#','x',last_col[1][:-2])\n",
    "re.sub('\\#','x',last_col[1][:-1])"
   ]
  },
  {
   "cell_type": "code",
   "execution_count": null,
   "metadata": {
    "collapsed": true
   },
   "outputs": [],
   "source": [
    "#########################################################\n",
    "#########################################################\n",
    "################### test codes ##########################\n",
    "#########################################################\n",
    "#########################################################"
   ]
  },
  {
   "cell_type": "code",
   "execution_count": 42,
   "metadata": {
    "collapsed": false
   },
   "outputs": [
    {
     "data": {
      "text/plain": [
       "['gene_id', '\"fgenesh1_pg.1_#_1\";', 'transcript_id', '\"fgenesh1_pg.1_#_1.a\";']"
      ]
     },
     "execution_count": 42,
     "metadata": {},
     "output_type": "execute_result"
    }
   ],
   "source": [
    "# text = 'scaffold_1\tJGI\texon\t6287\t6313\t.\t-\t.\tname \"estExt_fgenesh1_pg.C_1_t10002\"; transcriptId 519841'\n",
    "text = 'scaffold_1\tJGI\texon\t2169\t2903\t.\t-\t.\tgene_id \"fgenesh1_pg.1_#_1\"; transcript_id \"fgenesh1_pg.1_#_1.a\";'\n",
    "text.split()[8:]"
   ]
  },
  {
   "cell_type": "code",
   "execution_count": 17,
   "metadata": {
    "collapsed": false,
    "scrolled": false
   },
   "outputs": [],
   "source": [
    "# format prokaryote gmhmm output to gtf that could be recognized by eval\n",
    "converted_text = ''\n",
    "with open(target) as f:\n",
    "    for line in f:\n",
    "        if 'gene_id=' in line:\n",
    "            elems = line.split()\n",
    "            converted_text+=' '.join(elems[:-1])\n",
    "            converted_text+= format_gene_id(elems[-1])"
   ]
  },
  {
   "cell_type": "code",
   "execution_count": 20,
   "metadata": {
    "collapsed": true
   },
   "outputs": [],
   "source": [
    "a='chromosome_1\tJGI\tstop_codon\t5578447\t5578449\t.\t-\t0\tgene_id \"SPAC750.08c\"; transcript_id \"SPAC750.08c\";'\n",
    "b='chromosome_1\tJGI\tstop_codon\t5578447\t5578449\t.\t-\t0\tgene_id \"SPAC750.08c\"; transcript_id \"SPAC750.08c\";'"
   ]
  },
  {
   "cell_type": "code",
   "execution_count": 40,
   "metadata": {
    "collapsed": false
   },
   "outputs": [],
   "source": [
    "target1 = \"/home/richard/research/5_Tests/Oct03ValidateGffToGTF/Schpo1_GeneCatalog_genes_20130111.chromosome_1.gtf\"\n",
    "target2 = \"/home/richard/research/5_Tests/Oct03ValidateGffToGTF/Schpo1_converted_fixed.gtf\""
   ]
  },
  {
   "cell_type": "code",
   "execution_count": 41,
   "metadata": {
    "collapsed": false
   },
   "outputs": [
    {
     "name": "stdout",
     "output_type": "stream",
     "text": [
      "True\n",
      "chromosome_1\tJGI\texon\t1\t5662\t.\t-\t.\tgene_id \"tlh1\"; transcript_id \"tlh1\";\n",
      "chromosome_1\tJGI\tCDS\t1\t5662\t.\t-\t0\tgene_id \"tlh1\"; transcript_id \"tlh1\";\n",
      "chromosome_1\tJGI\tstart_codon\t5660\t5662\t.\t-\t0\tgene_id \"tlh1\"; transcript_id \"tlh1\";\n",
      "chromosome_1\tJGI\texon\t11784\t12994\t.\t+\t.\tgene_id \"SPAC212.08c\"; transcript_id \"SPAC212.08c\";\n",
      "chromosome_1\tJGI\tCDS\t12158\t12994\t.\t+\t0\tgene_id \"SPAC212.08c\"; transcript_id \"SPAC212.08c\";\n",
      "chromosome_1\tJGI\tstart_codon\t12158\t12160\t.\t+\t0\tgene_id \"SPAC212.08c\"; transcript_id \"SPAC212.08c\";\n",
      "chromosome_1\tJGI\tstop_codon\t12992\t12994\t.\t+\t0\tgene_id \"SPAC212.08c\"; transcript_id \"SPAC212.08c\";\n",
      "chromosome_1\tJGI\texon\t15855\t16226\t.\t+\t.\tgene_id \"SPAC212.12\"; transcript_id \"SPAC212.12\";\n",
      "chromosome_1\tJGI\tCDS\t15855\t16226\t.\t+\t0\tgene_id \"SPAC212.12\"; transcript_id \"SPAC212.12\";\n",
      "chromosome_1\tJGI\tstart_codon\t15855\t15857\t.\t+\t0\tgene_id \"SPAC212.12\"; transcript_id \"SPAC212.12\";\n",
      "chromosome_1\tJGI\tstop_codon\t16224\t16226\t.\t+\t0\tgene_id \"SPAC212.12\"; transcript_id \"SPAC212.12\";\n",
      "chromosome_1\tJGI\texo\n",
      "\n",
      "chromosome_1\tJGI\texon\t1\t5662\t.\t-\t.\tgene_id \"tlh1\"; transcript_id \"tlh1\";\n",
      "chromosome_1\tJGI\tCDS\t1\t5662\t.\t-\t0\tgene_id \"tlh1\"; transcript_id \"tlh1\";\n",
      "chromosome_1\tJGI\tstart_codon\t5660\t5662\t.\t-\t0\tgene_id \"tlh1\"; transcript_id \"tlh1\";\n",
      "chromosome_1\tJGI\texon\t11784\t12994\t.\t+\t.\tgene_id \"SPAC212.08c\"; transcript_id \"SPAC212.08c\";\n",
      "chromosome_1\tJGI\tCDS\t12158\t12994\t.\t+\t0\tgene_id \"SPAC212.08c\"; transcript_id \"SPAC212.08c\";\n",
      "chromosome_1\tJGI\tstart_codon\t12158\t12160\t.\t+\t0\tgene_id \"SPAC212.08c\"; transcript_id \"SPAC212.08c\";\n",
      "chromosome_1\tJGI\tstop_codon\t12992\t12994\t.\t+\t0\tgene_id \"SPAC212.08c\"; transcript_id \"SPAC212.08c\";\n",
      "chromosome_1\tJGI\texon\t15855\t16226\t.\t+\t.\tgene_id \"SPAC212.12\"; transcript_id \"SPAC212.12\";\n",
      "chromosome_1\tJGI\tCDS\t15855\t16226\t.\t+\t0\tgene_id \"SPAC212.12\"; transcript_id \"SPAC212.12\";\n",
      "chromosome_1\tJGI\tstart_codon\t15855\t15857\t.\t+\t0\tgene_id \"SPAC212.12\"; transcript_id \"SPAC212.12\";\n",
      "chromosome_1\tJGI\tstop_codon\t16224\t16226\t.\t+\t0\tgene_id \"SPAC212.12\"; transcript_id \"SPAC212.12\";\n",
      "chromosome_1\tJGI\texo\n"
     ]
    }
   ],
   "source": [
    "with open(target1) as f1:\n",
    "    f1text = f1.read()\n",
    "    with open(target2) as f2:\n",
    "        f2text = f2.read()\n",
    "        print f2text[:1000] == f1text[:1000]\n",
    "        print f2text[:1000]\n",
    "        print\n",
    "        print f1text[:1000]"
   ]
  },
  {
   "cell_type": "code",
   "execution_count": null,
   "metadata": {
    "collapsed": true
   },
   "outputs": [],
   "source": []
  }
 ],
 "metadata": {
  "kernelspec": {
   "display_name": "Python 2",
   "language": "python",
   "name": "python2"
  },
  "language_info": {
   "codemirror_mode": {
    "name": "ipython",
    "version": 2
   },
   "file_extension": ".py",
   "mimetype": "text/x-python",
   "name": "python",
   "nbconvert_exporter": "python",
   "pygments_lexer": "ipython2",
   "version": "2.7.10"
  }
 },
 "nbformat": 4,
 "nbformat_minor": 0
}
