{
 "cells": [
  {
   "cell_type": "code",
   "execution_count": 2,
   "metadata": {
    "collapsed": true
   },
   "outputs": [],
   "source": [
    "'''\n",
    "1. choose the largeset contig/chromosome of each species\n",
    "2. filter annotation according to the contig\n",
    "3. run genemark.hmm on the contig\n",
    "4. convert genemark prediction to gtf\n",
    "5. Compare gtf result with annotation\n",
    "'''\n",
    "import pandas as pd\n",
    "from Bio import SeqIO\n",
    "import numpy as np\n",
    "import subprocess"
   ]
  },
  {
   "cell_type": "code",
   "execution_count": 3,
   "metadata": {
    "collapsed": false
   },
   "outputs": [
    {
     "data": {
      "text/html": [
       "<div>\n",
       "<table border=\"1\" class=\"dataframe\">\n",
       "  <thead>\n",
       "    <tr style=\"text-align: right;\">\n",
       "      <th></th>\n",
       "      <th>shortName</th>\n",
       "      <th>longName</th>\n",
       "      <th>gc</th>\n",
       "      <th>intronDensityGff</th>\n",
       "      <th>fastaName</th>\n",
       "      <th>gffName</th>\n",
       "      <th>gff3Name</th>\n",
       "    </tr>\n",
       "    <tr>\n",
       "      <th>shortName</th>\n",
       "      <th></th>\n",
       "      <th></th>\n",
       "      <th></th>\n",
       "      <th></th>\n",
       "      <th></th>\n",
       "      <th></th>\n",
       "      <th></th>\n",
       "    </tr>\n",
       "  </thead>\n",
       "  <tbody>\n",
       "    <tr>\n",
       "      <th>Aspoch1</th>\n",
       "      <td>Aspoch1</td>\n",
       "      <td>Aspergillus ochraceoroseus IBT 24754 v1.0</td>\n",
       "      <td>44.2</td>\n",
       "      <td>2.23</td>\n",
       "      <td>Aspoch1_AssemblyScaffolds.fasta.gz</td>\n",
       "      <td>Aspoch1_GeneCatalog_genes_20140127.gff.gz</td>\n",
       "      <td>Aspoch1.filtered_proteins.FilteredModels1.gff3.gz</td>\n",
       "    </tr>\n",
       "    <tr>\n",
       "      <th>Disac1</th>\n",
       "      <td>Disac1</td>\n",
       "      <td>Dissoconium aciculare v1.0</td>\n",
       "      <td>52.7</td>\n",
       "      <td>1.17</td>\n",
       "      <td>Disac1_AssemblyScaffolds.fasta.gz</td>\n",
       "      <td>Disac1_GeneCatalog_genes_20130805.gff.gz</td>\n",
       "      <td>Disac1.filtered_proteins.FilteredModels2.gff3.gz</td>\n",
       "    </tr>\n",
       "    <tr>\n",
       "      <th>get_introns_jgi.sh</th>\n",
       "      <td>NaN</td>\n",
       "      <td>NaN</td>\n",
       "      <td>NaN</td>\n",
       "      <td>NaN</td>\n",
       "      <td>NaN</td>\n",
       "      <td>NaN</td>\n",
       "      <td>NaN</td>\n",
       "    </tr>\n",
       "    <tr>\n",
       "      <th>Cenge3</th>\n",
       "      <td>Cenge3</td>\n",
       "      <td>Cenococcum geophilum 1.58 v2.0</td>\n",
       "      <td>37.5</td>\n",
       "      <td>1.93</td>\n",
       "      <td>Cenge3_AssemblyScaffolds.fasta.gz</td>\n",
       "      <td>Cenge3_GeneCatalog_genes_20130403.gff.gz</td>\n",
       "      <td>Cenge3.filtered_proteins.FilteredModels1.gff3.gz</td>\n",
       "    </tr>\n",
       "  </tbody>\n",
       "</table>\n",
       "</div>"
      ],
      "text/plain": [
       "                   shortName                                   longName    gc  \\\n",
       "shortName                                                                       \n",
       "Aspoch1              Aspoch1  Aspergillus ochraceoroseus IBT 24754 v1.0  44.2   \n",
       "Disac1                Disac1                 Dissoconium aciculare v1.0  52.7   \n",
       "get_introns_jgi.sh       NaN                                        NaN   NaN   \n",
       "Cenge3                Cenge3             Cenococcum geophilum 1.58 v2.0  37.5   \n",
       "\n",
       "                    intronDensityGff                           fastaName  \\\n",
       "shortName                                                                  \n",
       "Aspoch1                         2.23  Aspoch1_AssemblyScaffolds.fasta.gz   \n",
       "Disac1                          1.17   Disac1_AssemblyScaffolds.fasta.gz   \n",
       "get_introns_jgi.sh               NaN                                 NaN   \n",
       "Cenge3                          1.93   Cenge3_AssemblyScaffolds.fasta.gz   \n",
       "\n",
       "                                                      gffName  \\\n",
       "shortName                                                       \n",
       "Aspoch1             Aspoch1_GeneCatalog_genes_20140127.gff.gz   \n",
       "Disac1               Disac1_GeneCatalog_genes_20130805.gff.gz   \n",
       "get_introns_jgi.sh                                        NaN   \n",
       "Cenge3               Cenge3_GeneCatalog_genes_20130403.gff.gz   \n",
       "\n",
       "                                                             gff3Name  \n",
       "shortName                                                              \n",
       "Aspoch1             Aspoch1.filtered_proteins.FilteredModels1.gff3.gz  \n",
       "Disac1               Disac1.filtered_proteins.FilteredModels2.gff3.gz  \n",
       "get_introns_jgi.sh                                                NaN  \n",
       "Cenge3               Cenge3.filtered_proteins.FilteredModels1.gff3.gz  "
      ]
     },
     "execution_count": 3,
     "metadata": {},
     "output_type": "execute_result"
    }
   ],
   "source": [
    "full_info = pd.read_csv('../1_DataSmall/fullTableInfoGff3GffRNAESwithDensity20150829.csv')\n",
    "full_info.index = full_info.shortName\n",
    "\n",
    "rna_seq_result_path = '/storage3/w/richard/meta2015/placeForRNASeq/'\n",
    "rna_seq_result_shortName = os.listdir(rna_seq_result_path)\n",
    "rna_seq_result_shortName = filter(lambda x: 'Clafu1' not in x, rna_seq_result_shortName)\n",
    "\n",
    "cols = ['shortName','longName','gc','intronDensityGff','fastaName','gffName','gff3Name']\n",
    "supported_set = full_info.loc[rna_seq_result_shortName]  # rna seq data supported set\n",
    "supported_set[cols].head(4)"
   ]
  },
  {
   "cell_type": "code",
   "execution_count": 4,
   "metadata": {
    "collapsed": false
   },
   "outputs": [
    {
     "ename": "TypeError",
     "evalue": "'float' object has no attribute '__getitem__'",
     "output_type": "error",
     "traceback": [
      "\u001b[1;31m---------------------------------------------------------------------------\u001b[0m",
      "\u001b[1;31mTypeError\u001b[0m                                 Traceback (most recent call last)",
      "\u001b[1;32m<ipython-input-4-459003a8ef09>\u001b[0m in \u001b[0;36m<module>\u001b[1;34m()\u001b[0m\n\u001b[0;32m      3\u001b[0m \u001b[0mgenomes\u001b[0m \u001b[1;33m=\u001b[0m \u001b[1;33m[\u001b[0m\u001b[1;33m]\u001b[0m\u001b[1;33m\u001b[0m\u001b[0m\n\u001b[0;32m      4\u001b[0m \u001b[1;32mfor\u001b[0m \u001b[0mshortName\u001b[0m \u001b[1;32min\u001b[0m \u001b[0mrna_seq_result_shortName\u001b[0m\u001b[1;33m:\u001b[0m\u001b[1;33m\u001b[0m\u001b[0m\n\u001b[1;32m----> 5\u001b[1;33m     \u001b[0mfastaName\u001b[0m \u001b[1;33m=\u001b[0m \u001b[0msupported_set\u001b[0m\u001b[1;33m.\u001b[0m\u001b[0mloc\u001b[0m\u001b[1;33m[\u001b[0m\u001b[0mshortName\u001b[0m\u001b[1;33m]\u001b[0m\u001b[1;33m.\u001b[0m\u001b[0mfastaName\u001b[0m\u001b[1;33m[\u001b[0m\u001b[1;33m:\u001b[0m\u001b[1;33m-\u001b[0m\u001b[1;36m3\u001b[0m\u001b[1;33m]\u001b[0m\u001b[1;33m\u001b[0m\u001b[0m\n\u001b[0m\u001b[0;32m      6\u001b[0m     \u001b[0mfilename\u001b[0m \u001b[1;33m=\u001b[0m \u001b[1;34m'{}{}/data/{}'\u001b[0m\u001b[1;33m.\u001b[0m\u001b[0mformat\u001b[0m\u001b[1;33m(\u001b[0m\u001b[0mrna_seq_result_path\u001b[0m\u001b[1;33m,\u001b[0m\u001b[0mshortName\u001b[0m\u001b[1;33m,\u001b[0m\u001b[0mfastaName\u001b[0m\u001b[1;33m)\u001b[0m\u001b[1;33m\u001b[0m\u001b[0m\n\u001b[0;32m      7\u001b[0m     \u001b[0mgenomes\u001b[0m\u001b[1;33m.\u001b[0m\u001b[0mappend\u001b[0m\u001b[1;33m(\u001b[0m\u001b[0mlist\u001b[0m\u001b[1;33m(\u001b[0m\u001b[0mSeqIO\u001b[0m\u001b[1;33m.\u001b[0m\u001b[0mparse\u001b[0m\u001b[1;33m(\u001b[0m\u001b[0mfilename\u001b[0m\u001b[1;33m,\u001b[0m\u001b[1;34m'fasta'\u001b[0m\u001b[1;33m)\u001b[0m\u001b[1;33m)\u001b[0m\u001b[1;33m)\u001b[0m\u001b[1;33m\u001b[0m\u001b[0m\n",
      "\u001b[1;31mTypeError\u001b[0m: 'float' object has no attribute '__getitem__'"
     ]
    }
   ],
   "source": [
    "# 1. choose the largeset contig/chromosome of each species\n",
    "# 1.1 read in all genomes\n",
    "genomes = []\n",
    "for shortName in rna_seq_result_shortName:\n",
    "    fastaName = supported_set.loc[shortName].fastaName[:-3]\n",
    "    filename = '{}{}/data/{}'.format(rna_seq_result_path,shortName,fastaName)\n",
    "    genomes.append(list(SeqIO.parse(filename,'fasta')))"
   ]
  },
  {
   "cell_type": "code",
   "execution_count": null,
   "metadata": {
    "collapsed": false
   },
   "outputs": [],
   "source": [
    "# 1.2 calculate length of each contig in each genome and find the argmax for each genome\n",
    "genome_contig_lengths = [map(len,contigs) for contigs in genomes]\n",
    "genome_argmax_contig_length = map(np.argmax,genome_contig_lengths)"
   ]
  },
  {
   "cell_type": "code",
   "execution_count": null,
   "metadata": {
    "collapsed": false,
    "scrolled": true
   },
   "outputs": [],
   "source": [
    "# 1.3 extract contig with longest sequence\n",
    "genomes_maxlength_contigs = map(lambda i: genomes[i][genome_argmax_contig_length[i]], range(len(genome_argmax_contig_length)))\n",
    "## get contigs name\n",
    "name_maxlength_contigs = map(lambda x: x.id, genomes_maxlength_contigs)"
   ]
  },
  {
   "cell_type": "code",
   "execution_count": null,
   "metadata": {
    "collapsed": false
   },
   "outputs": [],
   "source": [
    "# 1.4 write extracted contig with longest sequence\n",
    "outputPath = '/storage3/w/richard/meta2015/finalTestSet20151002/longestContigs/'\n",
    "for i in range(len(genome_argmax_contig_length)):\n",
    "    shortName = rna_seq_result_shortName[i]\n",
    "    contigName = name_maxlength_contigs[i]\n",
    "    filePath = \"{}{}_{}.fasta\".format(outputPath,shortName,contigName)\n",
    "    SeqIO.write(genomes_maxlength_contigs[i],filePath,'fasta')"
   ]
  },
  {
   "cell_type": "code",
   "execution_count": null,
   "metadata": {
    "collapsed": false
   },
   "outputs": [],
   "source": [
    "##############################\n",
    "# 2. filter annotation according to the contig\n",
    "annotationPath = \"/storage3/w/richard/meta2015/finalTestSet20151002/gtf_converted_from_gff/\"\n",
    "annotationNames = [gffName[:-7]+\".gtf\" for gffName in supported_set.gffName]\n",
    "\n",
    "outputPath = '/storage3/w/richard/meta2015/finalTestSet20151002/longestContigsAnnotation/'\n",
    "for i in range(len(annotationNames)):\n",
    "    shortName = rna_seq_result_shortName[i]\n",
    "    contigName = name_maxlength_contigs[i]\n",
    "    outputName = '{}{}_{}.gtf'.format(outputPath,shortName,contigName)\n",
    "    inputName = annotationPath+annotationNames[i]\n",
    "    command = 'python /home/richard/research/4_Tools/filter_annotation.py'\n",
    "    subprocess.check_call('{} {} {} {}'.format(command, inputName, outputName, contigName),shell=True)"
   ]
  },
  {
   "cell_type": "code",
   "execution_count": null,
   "metadata": {
    "collapsed": false
   },
   "outputs": [],
   "source": [
    "##############################\n",
    "# 3. run genemark.hmm on the contigs\n",
    "fastaPath = \"/storage3/w/richard/meta2015/finalTestSet20151002/longestContigs/\"\n",
    "fastaNames = [\"{}_{}.fasta\".format(rna_seq_result_shortName[i], name_maxlength_contigs[i]) for i in range(len(annotationNames))]\n",
    "\n",
    "\n",
    "modelPath = '/home/richard/largeDataSet/ES_Run_modfileAug2015/'\n",
    "modelNames = ['{}.ES_C_4.mod'.format(shortName) for shortName in rna_seq_result_shortName]\n",
    "\n",
    "outputPath = '/storage3/w/richard/meta2015/finalTestSet20151002/longestContigsGenemarkhmm/'\n",
    "outputNames = map(lambda x: x[:-6]+'.gmhmme3', fastaNames)\n",
    "\n",
    "base = '/home/richard/research/4_Tools/essuite/gmhmme3 -m '\n",
    "script = ''\n",
    "for i in range(len(annotationNames)):\n",
    "    script += base + modelPath+modelNames[i]+ \" \"+ fastaPath+fastaNames[i]+\" -o \"+ outputPath+outputNames[i]+\"\\n\"\n",
    "\n",
    "with open(\"/home/richard/tempFile/gmhmmContigs.sh\",'w') as f: f.write(script)"
   ]
  },
  {
   "cell_type": "code",
   "execution_count": null,
   "metadata": {
    "collapsed": false
   },
   "outputs": [],
   "source": [
    "# print script"
   ]
  },
  {
   "cell_type": "code",
   "execution_count": 5,
   "metadata": {
    "collapsed": false
   },
   "outputs": [],
   "source": [
    "# gmhmm3Names"
   ]
  },
  {
   "cell_type": "code",
   "execution_count": 9,
   "metadata": {
    "collapsed": false
   },
   "outputs": [
    {
     "ename": "NameError",
     "evalue": "name 'fastaNames' is not defined",
     "output_type": "error",
     "traceback": [
      "\u001b[1;31m---------------------------------------------------------------------------\u001b[0m",
      "\u001b[1;31mNameError\u001b[0m                                 Traceback (most recent call last)",
      "\u001b[1;32m<ipython-input-9-3bf878426dcc>\u001b[0m in \u001b[0;36m<module>\u001b[1;34m()\u001b[0m\n\u001b[0;32m      2\u001b[0m \u001b[1;31m## 4. convert genemark prediction to gtf\u001b[0m\u001b[1;33m\u001b[0m\u001b[1;33m\u001b[0m\u001b[0m\n\u001b[0;32m      3\u001b[0m \u001b[0mgmhmm3Path\u001b[0m \u001b[1;33m=\u001b[0m \u001b[1;34m'/storage3/w/richard/meta2015/finalTestSet20151002/longestContigsGenemarkhmm/'\u001b[0m\u001b[1;33m\u001b[0m\u001b[0m\n\u001b[1;32m----> 4\u001b[1;33m \u001b[0mgmhmm3Names\u001b[0m \u001b[1;33m=\u001b[0m \u001b[0mmap\u001b[0m\u001b[1;33m(\u001b[0m\u001b[1;32mlambda\u001b[0m \u001b[0mx\u001b[0m\u001b[1;33m:\u001b[0m \u001b[0mx\u001b[0m\u001b[1;33m[\u001b[0m\u001b[1;33m:\u001b[0m\u001b[1;33m-\u001b[0m\u001b[1;36m6\u001b[0m\u001b[1;33m]\u001b[0m\u001b[1;33m+\u001b[0m\u001b[1;34m'.gmhmme3'\u001b[0m\u001b[1;33m,\u001b[0m \u001b[0mfastaNames\u001b[0m\u001b[1;33m)\u001b[0m\u001b[1;33m\u001b[0m\u001b[0m\n\u001b[0m\u001b[0;32m      5\u001b[0m \u001b[1;33m\u001b[0m\u001b[0m\n\u001b[0;32m      6\u001b[0m \u001b[0moutputPath\u001b[0m \u001b[1;33m=\u001b[0m \u001b[1;34m'/storage3/w/richard/meta2015/finalTestSet20151002/longestContigsGenemarkhmmToGTF/'\u001b[0m\u001b[1;33m\u001b[0m\u001b[0m\n",
      "\u001b[1;31mNameError\u001b[0m: name 'fastaNames' is not defined"
     ]
    }
   ],
   "source": [
    "##############################\n",
    "## 4. convert genemark prediction to gtf\n",
    "gmhmm3Path = '/storage3/w/richard/meta2015/finalTestSet20151002/longestContigsGenemarkhmm/'\n",
    "gmhmm3Names = map(lambda x: x[:-6]+'.gmhmme3', fastaNames)\n",
    "\n",
    "outputPath = '/storage3/w/richard/meta2015/finalTestSet20151002/longestContigsGenemarkhmmToGTF/'\n",
    "outputNames = map(lambda x: x+\".gtf\",gmhmm3Names)\n",
    "\n",
    "base = \"python /home/richard/research/4_Tools/gmhmme3_to_gtf.py \"\n",
    "for i in range(len(gmhmm3Names)):\n",
    "    contigName = name_maxlength_contigs[i]\n",
    "    try:\n",
    "        command = \"{} {}{} {}{} {}\".format(base,gmhmm3Path,gmhmm3Names[i],outputPath,outputNames[i],contigName)\n",
    "        print command\n",
    "        subprocess.check_call(command,shell = True)\n",
    "    except:\n",
    "        print 'Model file does not exists:',gmhmm3Names[i]\n",
    "#     try:\n",
    "# #     subprocess.check_call(\"{} {}{} {}{}\".format(base,gmhmm3Path,gmhmm3Names[i],outputPath,outputNames[i])\",shell = \"True\")\n",
    "#         print \"{} {}{} {}{}\".format(base,gmhmm3Path,gmhmm3Names[i],outputPath,outputNames[i])\n",
    "#     except:\n",
    "#         print i"
   ]
  },
  {
   "cell_type": "code",
   "execution_count": 10,
   "metadata": {
    "collapsed": false
   },
   "outputs": [
    {
     "ename": "NameError",
     "evalue": "name 'annotationNames' is not defined",
     "output_type": "error",
     "traceback": [
      "\u001b[1;31m---------------------------------------------------------------------------\u001b[0m",
      "\u001b[1;31mNameError\u001b[0m                                 Traceback (most recent call last)",
      "\u001b[1;32m<ipython-input-10-157872b5ec46>\u001b[0m in \u001b[0;36m<module>\u001b[1;34m()\u001b[0m\n\u001b[0;32m      2\u001b[0m \u001b[0moutputPath\u001b[0m \u001b[1;33m=\u001b[0m \u001b[1;34m\"/storage3/w/richard/meta2015/finalTestSet20151002/longestContigsEval\"\u001b[0m\u001b[1;33m\u001b[0m\u001b[0m\n\u001b[0;32m      3\u001b[0m \u001b[0mreferenceAnnotationPath\u001b[0m \u001b[1;33m=\u001b[0m \u001b[1;34m'/storage3/w/richard/meta2015/finalTestSet20151002/longestContigsAnnotation/'\u001b[0m\u001b[1;33m\u001b[0m\u001b[0m\n\u001b[1;32m----> 4\u001b[1;33m \u001b[0mreferenceAnnotationNames\u001b[0m \u001b[1;33m=\u001b[0m \u001b[1;33m[\u001b[0m\u001b[1;34m\"{}_{}.gtf\"\u001b[0m\u001b[1;33m.\u001b[0m\u001b[0mformat\u001b[0m\u001b[1;33m(\u001b[0m\u001b[0mrna_seq_result_shortName\u001b[0m\u001b[1;33m[\u001b[0m\u001b[0mi\u001b[0m\u001b[1;33m]\u001b[0m\u001b[1;33m,\u001b[0m \u001b[0mname_maxlength_contigs\u001b[0m\u001b[1;33m[\u001b[0m\u001b[0mi\u001b[0m\u001b[1;33m]\u001b[0m\u001b[1;33m)\u001b[0m \u001b[1;32mfor\u001b[0m \u001b[0mi\u001b[0m \u001b[1;32min\u001b[0m \u001b[0mrange\u001b[0m\u001b[1;33m(\u001b[0m\u001b[0mlen\u001b[0m\u001b[1;33m(\u001b[0m\u001b[0mannotationNames\u001b[0m\u001b[1;33m)\u001b[0m\u001b[1;33m)\u001b[0m\u001b[1;33m]\u001b[0m\u001b[1;33m\u001b[0m\u001b[0m\n\u001b[0m\u001b[0;32m      5\u001b[0m \u001b[1;33m\u001b[0m\u001b[0m\n\u001b[0;32m      6\u001b[0m \u001b[0mgtf_from_gmhmme3_path\u001b[0m \u001b[1;33m=\u001b[0m \u001b[1;34m'/storage3/w/richard/meta2015/finalTestSet20151002/longestContigsGenemarkhmmToGTF/'\u001b[0m\u001b[1;33m\u001b[0m\u001b[0m\n",
      "\u001b[1;31mNameError\u001b[0m: name 'annotationNames' is not defined"
     ]
    }
   ],
   "source": [
    "## 5. Compare gtf result with annotation\n",
    "outputPath = \"/storage3/w/richard/meta2015/finalTestSet20151002/longestContigsEval\"\n",
    "referenceAnnotationPath = '/storage3/w/richard/meta2015/finalTestSet20151002/longestContigsAnnotation/'\n",
    "referenceAnnotationNames = [\"{}_{}.gtf\".format(rna_seq_result_shortName[i], name_maxlength_contigs[i]) for i in range(len(annotationNames))]\n",
    "\n",
    "gtf_from_gmhmme3_path = '/storage3/w/richard/meta2015/finalTestSet20151002/longestContigsGenemarkhmmToGTF/'\n",
    "gtf_from_gmhmme3_names = [\"{}_{}.gmhmme3.gtf\".format(rna_seq_result_shortName[i], name_maxlength_contigs[i]) for i in range(len(annotationNames))]\n",
    "\n",
    "\n",
    "outputPath = '/storage3/w/richard/meta2015/finalTestSet20151002/longestContigsEval/'\n",
    "base = \"perl evaluate_gtf.pl \"\n",
    "script = ''\n",
    "for i in range(len(gmhmm3Names)):\n",
    "    script += base+referenceAnnotationPath+referenceAnnotationNames[i]+\" \"+gtf_from_gmhmme3_path+gtf_from_gmhmme3_names[i]+\" >\"+outputPath+referenceAnnotationNames[i][:-3]+\"eval\\n\"\n",
    "\n",
    "with open(\"/home/richard/tempFile/largestContigsEval.sh\",'w') as f: f.write(script)"
   ]
  },
  {
   "cell_type": "code",
   "execution_count": 8,
   "metadata": {
    "collapsed": false
   },
   "outputs": [],
   "source": [
    "# print script"
   ]
  }
 ],
 "metadata": {
  "kernelspec": {
   "display_name": "Python 2",
   "language": "python",
   "name": "python2"
  },
  "language_info": {
   "codemirror_mode": {
    "name": "ipython",
    "version": 2
   },
   "file_extension": ".py",
   "mimetype": "text/x-python",
   "name": "python",
   "nbconvert_exporter": "python",
   "pygments_lexer": "ipython2",
   "version": "2.7.10"
  }
 },
 "nbformat": 4,
 "nbformat_minor": 0
}
