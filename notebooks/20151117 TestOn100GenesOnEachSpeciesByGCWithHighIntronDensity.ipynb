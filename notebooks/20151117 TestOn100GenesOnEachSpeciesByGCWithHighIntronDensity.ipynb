{
 "cells": [
  {
   "cell_type": "code",
   "execution_count": 2,
   "metadata": {
    "collapsed": true
   },
   "outputs": [],
   "source": [
    "# from Bio import SeqIO"
   ]
  },
  {
   "cell_type": "code",
   "execution_count": 1,
   "metadata": {
    "collapsed": true
   },
   "outputs": [],
   "source": [
    "testSetLocation = '/home/richard/research/tests/Nov9UpdatedTestSetAndTest/testSet100Updated/'"
   ]
  },
  {
   "cell_type": "code",
   "execution_count": 2,
   "metadata": {
    "collapsed": true
   },
   "outputs": [],
   "source": [
    "fastaSource = '/home/richard/research/tests/Nov9UpdatedTestSetAndTest/TestSetCutFasta/'\n",
    "gtfSource = '/home/richard/research/tests/Nov9UpdatedTestSetAndTest/TestSetMultiExonGtf/'\n",
    "\n",
    "shortNames = map(lambda x: x.split('_Assem')[0], os.listdir(fastaSource))\n",
    "shortNames = filter(lambda x: x not in ['Neopa1'],shortNames)"
   ]
  },
  {
   "cell_type": "code",
   "execution_count": 4,
   "metadata": {
    "collapsed": false
   },
   "outputs": [],
   "source": [
    "# ### run gmhmme3 multi-fasta version, mid intron density\n",
    "# modelMidLoc = '/home/richard/research/tests/Oct29AssembleModel/modelSetMid/'\n",
    "# script = ''\n",
    "# for shortName in shortNames:\n",
    "#     command = ('python /home/richard/research/tools/gmhmme3MultiFastaBySeqGC.py {} {}{}_100_genes.fasta {}\\n'\n",
    "#                .format(modelMidLoc,testSetLocation, shortName, shortName))\n",
    "# #     print command\n",
    "#     script += command\n",
    "# #     print command\n",
    "# with open('/home/richard/research/tests/Nov9UpdatedTestSetAndTest/test100outputBySeqGCMid/run_test.sh','w') as f: f.write(script)"
   ]
  },
  {
   "cell_type": "code",
   "execution_count": 5,
   "metadata": {
    "collapsed": true
   },
   "outputs": [],
   "source": [
    "### run gmhmme3 multi-fasta version, low intron density\n",
    "modelHighLoc = '/home/richard/research/tests/Nov13ModelWithNewIntronDensity/modelSetHigh/'\n",
    "script = ''\n",
    "for shortName in shortNames:\n",
    "    command = ('python /home/richard/research/tools/gmhmme3MultiFastaBySeqGC.py {} {}{}_100_genes.fasta {}\\n'\n",
    "               .format(modelHighLoc,testSetLocation, shortName, shortName))\n",
    "#     print command\n",
    "    script += command\n",
    "#     print command\n",
    "with open('/home/richard/research/tests/Nov13ModelWithNewIntronDensity/test100outputBySeqGCHigh/run_test.sh','w') as f: f.write(script)"
   ]
  },
  {
   "cell_type": "code",
   "execution_count": 15,
   "metadata": {
    "collapsed": true
   },
   "outputs": [],
   "source": [
    "##### eval out put result\n",
    "location = '/home/richard/research/tests/Nov9UpdatedTestSetAndTest/test100outputBySeqGCMid/'\n",
    "folders = os.listdir(location)\n",
    "outputLocationLow = '/home/richard/research/tests/Nov9UpdatedTestSetAndTest/evalresultByGCMid/'\n",
    "\n",
    "script = ''\n",
    "for shortName in shortNames:\n",
    "    command = ('perl evaluate_gtf.pl {}{}_100_genes.gtf {}{}/{}_fullPrediction.gtf > {}{}.eval.txt\\n'\n",
    "               .format(testSetLocation, shortName, location, shortName, shortName, outputLocationLow,shortName))\n",
    "#     print command\n",
    "    script += command\n",
    "with open('/home/richard/research/tests/Nov9UpdatedTestSetAndTest/eval_lite/eval_ByGCMid.sh','w') as f: f.write(script)"
   ]
  },
  {
   "cell_type": "code",
   "execution_count": 7,
   "metadata": {
    "collapsed": true
   },
   "outputs": [],
   "source": [
    "##### eval out put result\n",
    "location = '/home/richard/research/tests/Nov13ModelWithNewIntronDensity/test100outputBySeqGCHigh/'\n",
    "folders = os.listdir(location)\n",
    "outputLocationLow = '/home/richard/research/tests/Nov13ModelWithNewIntronDensity/evalresultByGCHigh/'\n",
    "\n",
    "script = ''\n",
    "for shortName in shortNames:\n",
    "    command = ('perl evaluate_gtf.pl {}{}_100_genes.gtf {}{}/{}_fullPrediction.gtf > {}{}.eval.txt\\n'\n",
    "               .format(testSetLocation, shortName, location, shortName, shortName, outputLocationLow,shortName))\n",
    "#     print command\n",
    "    script += command\n",
    "with open('/home/richard/research/tests/Nov13ModelWithNewIntronDensity/eval_lite/eval_ByGCHigh.sh','w') as f: f.write(script)"
   ]
  },
  {
   "cell_type": "code",
   "execution_count": null,
   "metadata": {
    "collapsed": true
   },
   "outputs": [],
   "source": []
  }
 ],
 "metadata": {
  "kernelspec": {
   "display_name": "Python 2",
   "language": "python",
   "name": "python2"
  },
  "language_info": {
   "codemirror_mode": {
    "name": "ipython",
    "version": 2
   },
   "file_extension": ".py",
   "mimetype": "text/x-python",
   "name": "python",
   "nbconvert_exporter": "python",
   "pygments_lexer": "ipython2",
   "version": "2.7.10"
  }
 },
 "nbformat": 4,
 "nbformat_minor": 0
}
