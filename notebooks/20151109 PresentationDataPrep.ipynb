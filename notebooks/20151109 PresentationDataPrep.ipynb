{
 "cells": [
  {
   "cell_type": "code",
   "execution_count": 8,
   "metadata": {
    "collapsed": true
   },
   "outputs": [],
   "source": [
    "'''\n",
    "Update info table\n",
    "'''\n",
    "import pandas as pd\n",
    "import matplotlib.pylab as plt\n",
    "%matplotlib inline"
   ]
  },
  {
   "cell_type": "code",
   "execution_count": 9,
   "metadata": {
    "collapsed": true
   },
   "outputs": [],
   "source": [
    "info = pd.read_csv('/home/richard/research/data_small/fullTableInfoGff3GffRNAESwithDensity20150829.csv')\n",
    "info.index = info.shortName\n",
    "fastaSource = '/home/richard/research/tests/Nov9UpdatedTestSetAndTest/TestSetCutFasta/'\n",
    "shortNames = map(lambda x: x.split('_Assem')[0], os.listdir(fastaSource))"
   ]
  },
  {
   "cell_type": "code",
   "execution_count": 10,
   "metadata": {
    "collapsed": false
   },
   "outputs": [],
   "source": [
    "info.loc['Spofi1','gc'] = 53.8\n",
    "info.loc['Spofi1','intronDensityGff'] = 1.63\n",
    "info.loc['Spofi1','intronDensityGff3'] = 1.63"
   ]
  },
  {
   "cell_type": "code",
   "execution_count": 11,
   "metadata": {
    "collapsed": false
   },
   "outputs": [],
   "source": [
    "info.to_csv('/home/richard/research/data_small/fullTableInfoGff3GffRNAESwithDensity20151109.csv')"
   ]
  },
  {
   "cell_type": "code",
   "execution_count": 12,
   "metadata": {
    "collapsed": false
   },
   "outputs": [
    {
     "data": {
      "text/html": [
       "<div>\n",
       "<table border=\"1\" class=\"dataframe\">\n",
       "  <thead>\n",
       "    <tr style=\"text-align: right;\">\n",
       "      <th></th>\n",
       "      <th>shortName</th>\n",
       "      <th>longName</th>\n",
       "      <th>fastaName</th>\n",
       "      <th>gffName</th>\n",
       "      <th>gff3Name</th>\n",
       "      <th>gc</th>\n",
       "      <th>numGeneGff3</th>\n",
       "      <th>numExonGff3</th>\n",
       "      <th>exonDensityGff3</th>\n",
       "      <th>numIntronGff3</th>\n",
       "      <th>intronDensityGff3</th>\n",
       "      <th>numGeneGff</th>\n",
       "      <th>numExonGff</th>\n",
       "      <th>exonDensityGff</th>\n",
       "      <th>numIntronGff</th>\n",
       "      <th>intronDensityGff</th>\n",
       "      <th>rnaSeqCount</th>\n",
       "      <th>ES</th>\n",
       "    </tr>\n",
       "    <tr>\n",
       "      <th>shortName</th>\n",
       "      <th></th>\n",
       "      <th></th>\n",
       "      <th></th>\n",
       "      <th></th>\n",
       "      <th></th>\n",
       "      <th></th>\n",
       "      <th></th>\n",
       "      <th></th>\n",
       "      <th></th>\n",
       "      <th></th>\n",
       "      <th></th>\n",
       "      <th></th>\n",
       "      <th></th>\n",
       "      <th></th>\n",
       "      <th></th>\n",
       "      <th></th>\n",
       "      <th></th>\n",
       "      <th></th>\n",
       "    </tr>\n",
       "  </thead>\n",
       "  <tbody>\n",
       "    <tr>\n",
       "      <th>Psean1_1</th>\n",
       "      <td>Psean1_1</td>\n",
       "      <td>Pseudozyma antarctica T-34</td>\n",
       "      <td>Psean1_1_AssemblyScaffolds.fasta.gz</td>\n",
       "      <td>Psean1_1_GeneCatalog_genes_20140109.gff.gz</td>\n",
       "      <td>Psean1_1.filtered_proteins.ExternalModels.gff3.gz</td>\n",
       "      <td>61.1</td>\n",
       "      <td>6640</td>\n",
       "      <td>11452</td>\n",
       "      <td>1.724699</td>\n",
       "      <td>4812</td>\n",
       "      <td>0.72</td>\n",
       "      <td>6640</td>\n",
       "      <td>11452</td>\n",
       "      <td>1.724699</td>\n",
       "      <td>4812</td>\n",
       "      <td>0.72</td>\n",
       "      <td>0</td>\n",
       "      <td>pass</td>\n",
       "    </tr>\n",
       "    <tr>\n",
       "      <th>Rhoba1_1</th>\n",
       "      <td>Rhoba1_1</td>\n",
       "      <td>Rhodotorula graminis strain WP1 v1.1</td>\n",
       "      <td>Rhoba1_1_AssemblyScaffolds.fasta.gz</td>\n",
       "      <td>Rhoba1_1_GeneCatalog_genes_20100913.gff.gz</td>\n",
       "      <td>Rhoba1_1.filtered_proteins.FilteredModels2.gff...</td>\n",
       "      <td>67.8</td>\n",
       "      <td>7283</td>\n",
       "      <td>45433</td>\n",
       "      <td>6.238226</td>\n",
       "      <td>38150</td>\n",
       "      <td>5.24</td>\n",
       "      <td>7283</td>\n",
       "      <td>45433</td>\n",
       "      <td>6.238226</td>\n",
       "      <td>38150</td>\n",
       "      <td>5.24</td>\n",
       "      <td>0</td>\n",
       "      <td>pass</td>\n",
       "    </tr>\n",
       "    <tr>\n",
       "      <th>Rhosp1</th>\n",
       "      <td>Rhosp1</td>\n",
       "      <td>Rhodotorula sp. JG-1b</td>\n",
       "      <td>Rhosp1_AssemblyScaffolds.fasta.gz</td>\n",
       "      <td>Rhosp1_GeneCatalog_genes_20140409.gff.gz</td>\n",
       "      <td>NaN</td>\n",
       "      <td>60.6</td>\n",
       "      <td>NaN</td>\n",
       "      <td>NaN</td>\n",
       "      <td>NaN</td>\n",
       "      <td>NaN</td>\n",
       "      <td>NaN</td>\n",
       "      <td>6680</td>\n",
       "      <td>42063</td>\n",
       "      <td>6.296856</td>\n",
       "      <td>35383</td>\n",
       "      <td>5.30</td>\n",
       "      <td>0</td>\n",
       "      <td>pass</td>\n",
       "    </tr>\n",
       "    <tr>\n",
       "      <th>Rhoto1</th>\n",
       "      <td>Rhoto1</td>\n",
       "      <td>Rhodosporidium toruloides NP11</td>\n",
       "      <td>Rhoto1_AssemblyScaffolds.fasta.gz</td>\n",
       "      <td>Rhoto1_GeneCatalog_genes_20141208.gff.gz</td>\n",
       "      <td>NaN</td>\n",
       "      <td>62.0</td>\n",
       "      <td>NaN</td>\n",
       "      <td>NaN</td>\n",
       "      <td>NaN</td>\n",
       "      <td>NaN</td>\n",
       "      <td>NaN</td>\n",
       "      <td>8140</td>\n",
       "      <td>50966</td>\n",
       "      <td>6.261179</td>\n",
       "      <td>42826</td>\n",
       "      <td>5.26</td>\n",
       "      <td>3</td>\n",
       "      <td>pass</td>\n",
       "    </tr>\n",
       "    <tr>\n",
       "      <th>Tilwa1</th>\n",
       "      <td>Tilwa1</td>\n",
       "      <td>Tilletiopsis washingtonensis MCA 4186 v1.0</td>\n",
       "      <td>Tilwa1_AssemblyScaffolds.fasta.gz</td>\n",
       "      <td>Tilwa1_GeneCatalog_genes_20141225.gff.gz</td>\n",
       "      <td>NaN</td>\n",
       "      <td>67.6</td>\n",
       "      <td>NaN</td>\n",
       "      <td>NaN</td>\n",
       "      <td>NaN</td>\n",
       "      <td>NaN</td>\n",
       "      <td>NaN</td>\n",
       "      <td>7011</td>\n",
       "      <td>31625</td>\n",
       "      <td>4.510769</td>\n",
       "      <td>24614</td>\n",
       "      <td>3.51</td>\n",
       "      <td>0</td>\n",
       "      <td>pass</td>\n",
       "    </tr>\n",
       "    <tr>\n",
       "      <th>Triol1</th>\n",
       "      <td>Triol1</td>\n",
       "      <td>Trichosporon oleaginosus IBC0246 v1.0</td>\n",
       "      <td>Triol1_AssemblyScaffolds.fasta.gz</td>\n",
       "      <td>Triol1_GeneCatalog_genes_20140430.gff.gz</td>\n",
       "      <td>Triol1.filtered_proteins.FilteredModels1.gff3.gz</td>\n",
       "      <td>60.8</td>\n",
       "      <td>831</td>\n",
       "      <td>3073</td>\n",
       "      <td>3.697954</td>\n",
       "      <td>2242</td>\n",
       "      <td>2.70</td>\n",
       "      <td>8322</td>\n",
       "      <td>30978</td>\n",
       "      <td>3.722422</td>\n",
       "      <td>22656</td>\n",
       "      <td>2.72</td>\n",
       "      <td>0</td>\n",
       "      <td>pass</td>\n",
       "    </tr>\n",
       "  </tbody>\n",
       "</table>\n",
       "</div>"
      ],
      "text/plain": [
       "          shortName                                    longName  \\\n",
       "shortName                                                         \n",
       "Psean1_1   Psean1_1                  Pseudozyma antarctica T-34   \n",
       "Rhoba1_1   Rhoba1_1        Rhodotorula graminis strain WP1 v1.1   \n",
       "Rhosp1       Rhosp1                       Rhodotorula sp. JG-1b   \n",
       "Rhoto1       Rhoto1              Rhodosporidium toruloides NP11   \n",
       "Tilwa1       Tilwa1  Tilletiopsis washingtonensis MCA 4186 v1.0   \n",
       "Triol1       Triol1       Trichosporon oleaginosus IBC0246 v1.0   \n",
       "\n",
       "                                     fastaName  \\\n",
       "shortName                                        \n",
       "Psean1_1   Psean1_1_AssemblyScaffolds.fasta.gz   \n",
       "Rhoba1_1   Rhoba1_1_AssemblyScaffolds.fasta.gz   \n",
       "Rhosp1       Rhosp1_AssemblyScaffolds.fasta.gz   \n",
       "Rhoto1       Rhoto1_AssemblyScaffolds.fasta.gz   \n",
       "Tilwa1       Tilwa1_AssemblyScaffolds.fasta.gz   \n",
       "Triol1       Triol1_AssemblyScaffolds.fasta.gz   \n",
       "\n",
       "                                              gffName  \\\n",
       "shortName                                               \n",
       "Psean1_1   Psean1_1_GeneCatalog_genes_20140109.gff.gz   \n",
       "Rhoba1_1   Rhoba1_1_GeneCatalog_genes_20100913.gff.gz   \n",
       "Rhosp1       Rhosp1_GeneCatalog_genes_20140409.gff.gz   \n",
       "Rhoto1       Rhoto1_GeneCatalog_genes_20141208.gff.gz   \n",
       "Tilwa1       Tilwa1_GeneCatalog_genes_20141225.gff.gz   \n",
       "Triol1       Triol1_GeneCatalog_genes_20140430.gff.gz   \n",
       "\n",
       "                                                    gff3Name    gc  \\\n",
       "shortName                                                            \n",
       "Psean1_1   Psean1_1.filtered_proteins.ExternalModels.gff3.gz  61.1   \n",
       "Rhoba1_1   Rhoba1_1.filtered_proteins.FilteredModels2.gff...  67.8   \n",
       "Rhosp1                                                   NaN  60.6   \n",
       "Rhoto1                                                   NaN  62.0   \n",
       "Tilwa1                                                   NaN  67.6   \n",
       "Triol1      Triol1.filtered_proteins.FilteredModels1.gff3.gz  60.8   \n",
       "\n",
       "           numGeneGff3  numExonGff3  exonDensityGff3  numIntronGff3  \\\n",
       "shortName                                                             \n",
       "Psean1_1          6640        11452         1.724699           4812   \n",
       "Rhoba1_1          7283        45433         6.238226          38150   \n",
       "Rhosp1             NaN          NaN              NaN            NaN   \n",
       "Rhoto1             NaN          NaN              NaN            NaN   \n",
       "Tilwa1             NaN          NaN              NaN            NaN   \n",
       "Triol1             831         3073         3.697954           2242   \n",
       "\n",
       "           intronDensityGff3  numGeneGff  numExonGff  exonDensityGff  \\\n",
       "shortName                                                              \n",
       "Psean1_1                0.72        6640       11452        1.724699   \n",
       "Rhoba1_1                5.24        7283       45433        6.238226   \n",
       "Rhosp1                   NaN        6680       42063        6.296856   \n",
       "Rhoto1                   NaN        8140       50966        6.261179   \n",
       "Tilwa1                   NaN        7011       31625        4.510769   \n",
       "Triol1                  2.70        8322       30978        3.722422   \n",
       "\n",
       "           numIntronGff  intronDensityGff  rnaSeqCount    ES  \n",
       "shortName                                                     \n",
       "Psean1_1           4812              0.72            0  pass  \n",
       "Rhoba1_1          38150              5.24            0  pass  \n",
       "Rhosp1            35383              5.30            0  pass  \n",
       "Rhoto1            42826              5.26            3  pass  \n",
       "Tilwa1            24614              3.51            0  pass  \n",
       "Triol1            22656              2.72            0  pass  "
      ]
     },
     "execution_count": 12,
     "metadata": {},
     "output_type": "execute_result"
    }
   ],
   "source": [
    "info.ix[info.gc>60]"
   ]
  },
  {
   "cell_type": "code",
   "execution_count": 67,
   "metadata": {
    "collapsed": false
   },
   "outputs": [
    {
     "data": {
      "text/plain": [
       "shortName                                                  Neucr2\n",
       "longName                             Neurospora crassa OR74A v2.0\n",
       "fastaName                       Neucr2_AssemblyScaffolds.fasta.gz\n",
       "gffName                  Neucr2_GeneCatalog_genes_20130412.gff.gz\n",
       "gff3Name             Neucr2.filtered_proteins.BroadModels.gff3.gz\n",
       "gc                                                           48.3\n",
       "numGeneGff3                                                 10785\n",
       "numExonGff3                                                 30794\n",
       "exonDensityGff3                                          2.855262\n",
       "numIntronGff3                                               20009\n",
       "intronDensityGff3                                            1.86\n",
       "numGeneGff                                                  10785\n",
       "numExonGff                                                  30794\n",
       "exonDensityGff                                           2.855262\n",
       "numIntronGff                                                20009\n",
       "intronDensityGff                                             1.86\n",
       "rnaSeqCount                                                   506\n",
       "ES                                                           pass\n",
       "Name: Neucr2, dtype: object"
      ]
     },
     "execution_count": 67,
     "metadata": {},
     "output_type": "execute_result"
    }
   ],
   "source": [
    "info.ix['Neucr2']"
   ]
  },
  {
   "cell_type": "code",
   "execution_count": 59,
   "metadata": {
    "collapsed": false,
    "scrolled": false
   },
   "outputs": [],
   "source": [
    "df = info.ix[shortNames]"
   ]
  },
  {
   "cell_type": "code",
   "execution_count": 60,
   "metadata": {
    "collapsed": false
   },
   "outputs": [],
   "source": [
    "df[['longName','gc','intronDensityGff']].ix[sorted(df.index)].to_csv('/home/richard/research/tests/Nov9UpdatedTestSetAndTest/baseTable.csv')"
   ]
  },
  {
   "cell_type": "code",
   "execution_count": 61,
   "metadata": {
    "collapsed": false
   },
   "outputs": [
    {
     "data": {
      "text/plain": [
       "<matplotlib.text.Text at 0x7f471b8e5910>"
      ]
     },
     "execution_count": 61,
     "metadata": {},
     "output_type": "execute_result"
    },
    {
     "data": {
      "image/png": "[encoded data removed]",
      "text/plain": [
       "<matplotlib.figure.Figure at 0x7f471bab9950>"
      ]
     },
     "metadata": {},
     "output_type": "display_data"
    }
   ],
   "source": [
    "plt.plot(df.gc,df.intronDensityGff,'ro')\n",
    "plt.plot([48.3, 36],[1.86, 1.03], 'ro')\n",
    "plt.title('Test Set Distribution')\n",
    "plt.xlabel('GC')\n",
    "plt.ylabel('Intron Density')"
   ]
  },
  {
   "cell_type": "code",
   "execution_count": null,
   "metadata": {
    "collapsed": true
   },
   "outputs": [],
   "source": []
  }
 ],
 "metadata": {
  "kernelspec": {
   "display_name": "Python 2",
   "language": "python",
   "name": "python2"
  },
  "language_info": {
   "codemirror_mode": {
    "name": "ipython",
    "version": 2
   },
   "file_extension": ".py",
   "mimetype": "text/x-python",
   "name": "python",
   "nbconvert_exporter": "python",
   "pygments_lexer": "ipython2",
   "version": "2.7.10"
  }
 },
 "nbformat": 4,
 "nbformat_minor": 0
}
