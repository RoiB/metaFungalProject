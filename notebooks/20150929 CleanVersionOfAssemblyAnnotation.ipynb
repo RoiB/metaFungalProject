{
 "cells": [
  {
   "cell_type": "code",
   "execution_count": 26,
   "metadata": {
    "collapsed": true
   },
   "outputs": [],
   "source": [
    "import re"
   ]
  },
  {
   "cell_type": "code",
   "execution_count": 27,
   "metadata": {
    "collapsed": true
   },
   "outputs": [],
   "source": [
    "## assemble prediction\n",
    "pattern = '\\#(\\d*)\\_' #main pattern to get rid of over head\n",
    "pattern_interval = '\\#\\d*_(\\d*)_(\\d*)\\.'\n",
    "substitute_pattern = \"\\d+?\"\n",
    "prediction_pattern = '(\\d+?)\\s+?\\d\\s+?[+|-]\\s+?[^-+]'\n",
    "\n",
    "def find_idx(predictionName): return int(re.findall(pattern,predictionName)[0]) # find index of the output file\n",
    "def find_gene_number(line): \n",
    "    try:\n",
    "        return int(re.findall(substitute_pattern,line)[0])\n",
    "    except:\n",
    "        print \"problem with line: \", line\n",
    "def substitute_gene_number(line, number, gene_count): \n",
    "#     print number+gene_count\n",
    "#     print line\n",
    "    return  re.sub(substitute_pattern,str(number+gene_count),line, count = 1)\n",
    "def substitute_exon_range(line, i, interval): \n",
    "    line_elem = line.split()\n",
    "    line_elem[4], line_elem[5] = str(int(line_elem[4])+interval*i), str(int(line_elem[5])+interval*i)\n",
    "    return ' '.join(line_elem)\n",
    "\n",
    "def assemble_annotation(predictionPath, predictionNames):\n",
    "    idx_file_pair = {find_idx(predictionName):predictionName for predictionName in predictionNames}\n",
    "#     print idx_file_pair\n",
    "    ##locate seperate line and overhead\n",
    "    with open(predictionPath+predictionNames[0]) as f:\n",
    "        sep_line = ''\n",
    "        with open(predictionPath+predictionNames[0]) as f1:\n",
    "            for line in f1:\n",
    "                if '#' in line and 'Type' in line:\n",
    "                    sep_line = line     #sep\n",
    "                    break\n",
    "        text = f.read()\n",
    "        parts = text.split(sep_line)\n",
    "        base = parts[0] + sep_line      #overhead for annotation\n",
    "\n",
    "        gene_counter = 0 # for all the predictions\n",
    "#         print idx_file_pair\n",
    "        for idx in idx_file_pair:\n",
    "#             print idx\n",
    "            number = find_idx(idx_file_pair[idx]) #locate the rank number of the prediction file \n",
    "            a,b = re.findall(pattern_interval,predictionNames[0])[0]\n",
    "            interval = int(b)-int(a)+1\n",
    "            \n",
    "#             print idx_file_pair[idx]\n",
    "            with open(predictionPath+idx_file_pair[idx]) as f:\n",
    "                all_line = filter(lambda x: len(x) > 10,f.read().split(sep_line)[1].split('\\n')) #get rid of empty line\n",
    "#                 print all_line\n",
    "#                 if len(all_line) == 0: \n",
    "#                     print \"break\"\n",
    "#                     break #it's possible that there is no gene in a file, so no prediction\n",
    "        \n",
    "                \n",
    "                gene_numbers = map(find_gene_number, all_line) # find gene number for each line\n",
    "                \n",
    "                #first modi\n",
    "                modified_all_line = [substitute_gene_number(all_line[i], gene_numbers[i], gene_counter) \\\n",
    "                                     for i in range(len(all_line))]\n",
    "                #idx-1 is the number of interval so far\n",
    "                modified_all_line = [substitute_exon_range(modified_all_line[i], int(idx)-1, interval) \n",
    "                                     for i in range(len(all_line))]\n",
    "                modified_all_line += '\\n'\n",
    "                gene_counter += len(set(gene_numbers))\n",
    "            base+='\\n'.join(modified_all_line)\n",
    "    return base"
   ]
  },
  {
   "cell_type": "code",
   "execution_count": 24,
   "metadata": {
    "collapsed": false,
    "scrolled": false
   },
   "outputs": [],
   "source": [
    "# continue from last part\n",
    "predictionPath = '/home/richard/research/5_Tests/Sep28ComparisonProkaryote/gmhmmResultESmodel/'\n",
    "predictionNames = filter(lambda x: 'es_output' in x, os.listdir(predictionPath))\n",
    "res = assemble_annotation(predictionPath, predictionNames) \n",
    "with open(\"../5_Tests/Sep28ComparisonProkaryote/gmhmmResultESmodel.gmhmm\",'w') as f: f.write(res) "
   ]
  },
  {
   "cell_type": "code",
   "execution_count": 25,
   "metadata": {
    "collapsed": true
   },
   "outputs": [],
   "source": [
    "# continue from last part\n",
    "predictionPath = '/home/richard/research/5_Tests/Sep28ComparisonProkaryote/gmhmmResultHeuristicModel/'\n",
    "predictionNames = filter(lambda x: 'es_output' in x, os.listdir(predictionPath))\n",
    "res = assemble_annotation(predictionPath, predictionNames) \n",
    "with open(\"../5_Tests/Sep28ComparisonProkaryote/gmhmmResultHeuristicModel.gmhmm\",'w') as f: f.write(res) "
   ]
  },
  {
   "cell_type": "code",
   "execution_count": 28,
   "metadata": {
    "collapsed": true
   },
   "outputs": [],
   "source": [
    "# continue from last part, GC49only\n",
    "predictionPath = '/home/richard/research/5_Tests/Sep28ComparisonProkaryote/gmhmmResultGC49only/'\n",
    "predictionNames = filter(lambda x: 'es_output' in x, os.listdir(predictionPath))\n",
    "res = assemble_annotation(predictionPath, predictionNames) \n",
    "with open(\"../5_Tests/Sep28ComparisonProkaryote/gmhmmResultGC49onlyModel.gmhmm\",'w') as f: f.write(res) "
   ]
  },
  {
   "cell_type": "code",
   "execution_count": 29,
   "metadata": {
    "collapsed": true
   },
   "outputs": [],
   "source": [
    "# continue from last part, GC36only\n",
    "predictionPath = '/home/richard/research/5_Tests/Sep28ComparisonProkaryote/gmhmmResultGC36only/'\n",
    "predictionNames = filter(lambda x: 'es_output' in x, os.listdir(predictionPath))\n",
    "res = assemble_annotation(predictionPath, predictionNames) \n",
    "with open(\"../5_Tests/Sep28ComparisonProkaryote/gmhmmResultGC36onlyModel.gmhmm\",'w') as f: f.write(res) "
   ]
  },
  {
   "cell_type": "code",
   "execution_count": 30,
   "metadata": {
    "collapsed": true
   },
   "outputs": [],
   "source": [
    "# continue from last part, GC36only\n",
    "predictionPath = '/home/richard/research/5_Tests/Sep29H99EukTest/gmhmmResultGC36H99only/'\n",
    "predictionNames = filter(lambda x: 'es_output' in x, os.listdir(predictionPath))\n",
    "res = assemble_annotation(predictionPath, predictionNames) \n",
    "with open(\"../5_Tests/Sep29H99EukTest/gmhmmResultGC36H99.gmhmm\",'w') as f: f.write(res) "
   ]
  },
  {
   "cell_type": "code",
   "execution_count": 31,
   "metadata": {
    "collapsed": true
   },
   "outputs": [],
   "source": [
    "# continue from last part, GC49only\n",
    "predictionPath = '/home/richard/research/5_Tests/Sep29H99EukTest/gmhmmResultGC49H99only/'\n",
    "predictionNames = filter(lambda x: 'es_output' in x, os.listdir(predictionPath))\n",
    "res = assemble_annotation(predictionPath, predictionNames) \n",
    "with open(\"../5_Tests/Sep29H99EukTest/gmhmmResultGC49H99.gmhmm\",'w') as f: f.write(res) "
   ]
  },
  {
   "cell_type": "code",
   "execution_count": null,
   "metadata": {
    "collapsed": true
   },
   "outputs": [],
   "source": []
  }
 ],
 "metadata": {
  "kernelspec": {
   "display_name": "Python 2",
   "language": "python",
   "name": "python2"
  },
  "language_info": {
   "codemirror_mode": {
    "name": "ipython",
    "version": 2
   },
   "file_extension": ".py",
   "mimetype": "text/x-python",
   "name": "python",
   "nbconvert_exporter": "python",
   "pygments_lexer": "ipython2",
   "version": "2.7.10"
  }
 },
 "nbformat": 4,
 "nbformat_minor": 0
}
