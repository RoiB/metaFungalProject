{
 "cells": [
  {
   "cell_type": "code",
   "execution_count": 117,
   "metadata": {
    "collapsed": true
   },
   "outputs": [],
   "source": [
    "'''\n",
    "Test Set Statistics as required\n",
    "\n",
    "1. species name\n",
    "2. GC\n",
    "3. intron density\n",
    "4. # of genes in annotation\n",
    "5. # of multi exon genes in annotation\n",
    "6. # of genes in test set (multi-exon anchored)\n",
    "'''\n",
    "import pandas as pd\n",
    "import subprocess\n",
    "import matplotlib.pylab as plt\n",
    "%matplotlib inline"
   ]
  },
  {
   "cell_type": "code",
   "execution_count": 118,
   "metadata": {
    "collapsed": true
   },
   "outputs": [],
   "source": [
    "def countGeneNumber(inputFile):\n",
    "    'count number of genes from annotation'\n",
    "    result = set()\n",
    "    with open(inputFile) as f:\n",
    "        for line in f:\n",
    "            elems = line.split()\n",
    "            result.add(elems[9])\n",
    "    return len(result)"
   ]
  },
  {
   "cell_type": "code",
   "execution_count": 119,
   "metadata": {
    "collapsed": true
   },
   "outputs": [],
   "source": [
    "fullinfo = pd.read_csv('/home/richard/research/data_small/fullTableInfoGff3GffRNAESwithDensity20150829.csv')\n",
    "fullinfo.index = fullinfo.shortName\n",
    "filenames = filter(lambda x: len(x) < 15, os.listdir('/storage3/w/richard/meta2015/placeForRNASeq/'))"
   ]
  },
  {
   "cell_type": "markdown",
   "metadata": {},
   "source": [
    "####1. collect info from full genome file"
   ]
  },
  {
   "cell_type": "code",
   "execution_count": 120,
   "metadata": {
    "collapsed": false,
    "scrolled": false
   },
   "outputs": [
    {
     "data": {
      "text/html": [
       "<div>\n",
       "<table border=\"1\" class=\"dataframe\">\n",
       "  <thead>\n",
       "    <tr style=\"text-align: right;\">\n",
       "      <th></th>\n",
       "      <th>shortName</th>\n",
       "      <th>longName</th>\n",
       "      <th>gc</th>\n",
       "      <th>intronDensityGff</th>\n",
       "    </tr>\n",
       "    <tr>\n",
       "      <th>shortName</th>\n",
       "      <th></th>\n",
       "      <th></th>\n",
       "      <th></th>\n",
       "      <th></th>\n",
       "    </tr>\n",
       "  </thead>\n",
       "  <tbody>\n",
       "    <tr>\n",
       "      <th>Aspoch1</th>\n",
       "      <td>Aspoch1</td>\n",
       "      <td>Aspergillus ochraceoroseus IBT 24754 v1.0</td>\n",
       "      <td>44.2</td>\n",
       "      <td>2.23</td>\n",
       "    </tr>\n",
       "    <tr>\n",
       "      <th>Disac1</th>\n",
       "      <td>Disac1</td>\n",
       "      <td>Dissoconium aciculare v1.0</td>\n",
       "      <td>52.7</td>\n",
       "      <td>1.17</td>\n",
       "    </tr>\n",
       "    <tr>\n",
       "      <th>Cenge3</th>\n",
       "      <td>Cenge3</td>\n",
       "      <td>Cenococcum geophilum 1.58 v2.0</td>\n",
       "      <td>37.5</td>\n",
       "      <td>1.93</td>\n",
       "    </tr>\n",
       "    <tr>\n",
       "      <th>Conli1</th>\n",
       "      <td>Conli1</td>\n",
       "      <td>Coniochaeta ligniaria CBS 111746</td>\n",
       "      <td>51.9</td>\n",
       "      <td>1.98</td>\n",
       "    </tr>\n",
       "    <tr>\n",
       "      <th>Trias1</th>\n",
       "      <td>Trias1</td>\n",
       "      <td>Trichoderma asperellum CBS 433.97 v1.0</td>\n",
       "      <td>47.3</td>\n",
       "      <td>1.68</td>\n",
       "    </tr>\n",
       "    <tr>\n",
       "      <th>Pneji1</th>\n",
       "      <td>Pneji1</td>\n",
       "      <td>Pneumocystis jirovecii</td>\n",
       "      <td>28.4</td>\n",
       "      <td>4.74</td>\n",
       "    </tr>\n",
       "    <tr>\n",
       "      <th>Ophdi1</th>\n",
       "      <td>Ophdi1</td>\n",
       "      <td>Ophiobolus disseminans CBS 113818 v1.0</td>\n",
       "      <td>51.7</td>\n",
       "      <td>1.59</td>\n",
       "    </tr>\n",
       "    <tr>\n",
       "      <th>HypEC38_1</th>\n",
       "      <td>HypEC38_1</td>\n",
       "      <td>Hypoxylon sp. EC38 v1.0</td>\n",
       "      <td>40.1</td>\n",
       "      <td>1.86</td>\n",
       "    </tr>\n",
       "    <tr>\n",
       "      <th>Hebcy2</th>\n",
       "      <td>Hebcy2</td>\n",
       "      <td>Hebeloma cylindrosporum h7 v2.0</td>\n",
       "      <td>48.4</td>\n",
       "      <td>4.24</td>\n",
       "    </tr>\n",
       "    <tr>\n",
       "      <th>Clafu1</th>\n",
       "      <td>Clafu1</td>\n",
       "      <td>Cladosporium fulvum v1.0</td>\n",
       "      <td>48.8</td>\n",
       "      <td>1.18</td>\n",
       "    </tr>\n",
       "    <tr>\n",
       "      <th>Aurvu1</th>\n",
       "      <td>Aurvu1</td>\n",
       "      <td>Auriscalpium vulgare FP105234-Sp v1.0</td>\n",
       "      <td>56.8</td>\n",
       "      <td>4.22</td>\n",
       "    </tr>\n",
       "    <tr>\n",
       "      <th>SerlaS7_9_2</th>\n",
       "      <td>SerlaS7_9_2</td>\n",
       "      <td>Serpula lacrymans S7.9 v2.0</td>\n",
       "      <td>45.3</td>\n",
       "      <td>4.73</td>\n",
       "    </tr>\n",
       "    <tr>\n",
       "      <th>Veren1</th>\n",
       "      <td>Veren1</td>\n",
       "      <td>Verruculina enalia CBS 304.66 v1.0</td>\n",
       "      <td>41.2</td>\n",
       "      <td>1.84</td>\n",
       "    </tr>\n",
       "    <tr>\n",
       "      <th>Gloin1</th>\n",
       "      <td>Gloin1</td>\n",
       "      <td>Rhizophagus irregularis DAOM 181602 v1.0</td>\n",
       "      <td>27.7</td>\n",
       "      <td>2.46</td>\n",
       "    </tr>\n",
       "    <tr>\n",
       "      <th>Obbri1</th>\n",
       "      <td>Obbri1</td>\n",
       "      <td>Obba rivulosa 3A-2 v1.0</td>\n",
       "      <td>53.6</td>\n",
       "      <td>5.02</td>\n",
       "    </tr>\n",
       "    <tr>\n",
       "      <th>Tilan2</th>\n",
       "      <td>Tilan2</td>\n",
       "      <td>Tilletiaria anomala UBC 951 v1.0</td>\n",
       "      <td>56.0</td>\n",
       "      <td>2.32</td>\n",
       "    </tr>\n",
       "    <tr>\n",
       "      <th>Phchr2</th>\n",
       "      <td>Phchr2</td>\n",
       "      <td>Phanerochaete chrysosporium RP-78 v2.2</td>\n",
       "      <td>56.8</td>\n",
       "      <td>4.41</td>\n",
       "    </tr>\n",
       "    <tr>\n",
       "      <th>Sphst1</th>\n",
       "      <td>Sphst1</td>\n",
       "      <td>Sphaerobolus stellatus v1.0</td>\n",
       "      <td>44.4</td>\n",
       "      <td>3.67</td>\n",
       "    </tr>\n",
       "    <tr>\n",
       "      <th>Conco1</th>\n",
       "      <td>Conco1</td>\n",
       "      <td>Conidiobolus coronatus NRRL28638 v1.0</td>\n",
       "      <td>27.7</td>\n",
       "      <td>1.78</td>\n",
       "    </tr>\n",
       "    <tr>\n",
       "      <th>Neopa1</th>\n",
       "      <td>Neopa1</td>\n",
       "      <td>Neofusicoccum parvum UCRNP2</td>\n",
       "      <td>56.8</td>\n",
       "      <td>2.16</td>\n",
       "    </tr>\n",
       "    <tr>\n",
       "      <th>Croqu1</th>\n",
       "      <td>Croqu1</td>\n",
       "      <td>Cronartium quercuum f. sp. fusiforme G11 v1.0</td>\n",
       "      <td>41.1</td>\n",
       "      <td>3.35</td>\n",
       "    </tr>\n",
       "    <tr>\n",
       "      <th>Spofi1</th>\n",
       "      <td>Spofi1</td>\n",
       "      <td>Sporormia fimetaria v1.0</td>\n",
       "      <td>26.4</td>\n",
       "      <td>1.70</td>\n",
       "    </tr>\n",
       "  </tbody>\n",
       "</table>\n",
       "</div>"
      ],
      "text/plain": [
       "               shortName                                       longName    gc  \\\n",
       "shortName                                                                       \n",
       "Aspoch1          Aspoch1      Aspergillus ochraceoroseus IBT 24754 v1.0  44.2   \n",
       "Disac1            Disac1                     Dissoconium aciculare v1.0  52.7   \n",
       "Cenge3            Cenge3                 Cenococcum geophilum 1.58 v2.0  37.5   \n",
       "Conli1            Conli1               Coniochaeta ligniaria CBS 111746  51.9   \n",
       "Trias1            Trias1         Trichoderma asperellum CBS 433.97 v1.0  47.3   \n",
       "Pneji1            Pneji1                         Pneumocystis jirovecii  28.4   \n",
       "Ophdi1            Ophdi1         Ophiobolus disseminans CBS 113818 v1.0  51.7   \n",
       "HypEC38_1      HypEC38_1                        Hypoxylon sp. EC38 v1.0  40.1   \n",
       "Hebcy2            Hebcy2                Hebeloma cylindrosporum h7 v2.0  48.4   \n",
       "Clafu1            Clafu1                       Cladosporium fulvum v1.0  48.8   \n",
       "Aurvu1            Aurvu1          Auriscalpium vulgare FP105234-Sp v1.0  56.8   \n",
       "SerlaS7_9_2  SerlaS7_9_2                    Serpula lacrymans S7.9 v2.0  45.3   \n",
       "Veren1            Veren1             Verruculina enalia CBS 304.66 v1.0  41.2   \n",
       "Gloin1            Gloin1       Rhizophagus irregularis DAOM 181602 v1.0  27.7   \n",
       "Obbri1            Obbri1                        Obba rivulosa 3A-2 v1.0  53.6   \n",
       "Tilan2            Tilan2               Tilletiaria anomala UBC 951 v1.0  56.0   \n",
       "Phchr2            Phchr2         Phanerochaete chrysosporium RP-78 v2.2  56.8   \n",
       "Sphst1            Sphst1                    Sphaerobolus stellatus v1.0  44.4   \n",
       "Conco1            Conco1          Conidiobolus coronatus NRRL28638 v1.0  27.7   \n",
       "Neopa1            Neopa1                    Neofusicoccum parvum UCRNP2  56.8   \n",
       "Croqu1            Croqu1  Cronartium quercuum f. sp. fusiforme G11 v1.0  41.1   \n",
       "Spofi1            Spofi1                       Sporormia fimetaria v1.0  26.4   \n",
       "\n",
       "             intronDensityGff  \n",
       "shortName                      \n",
       "Aspoch1                  2.23  \n",
       "Disac1                   1.17  \n",
       "Cenge3                   1.93  \n",
       "Conli1                   1.98  \n",
       "Trias1                   1.68  \n",
       "Pneji1                   4.74  \n",
       "Ophdi1                   1.59  \n",
       "HypEC38_1                1.86  \n",
       "Hebcy2                   4.24  \n",
       "Clafu1                   1.18  \n",
       "Aurvu1                   4.22  \n",
       "SerlaS7_9_2              4.73  \n",
       "Veren1                   1.84  \n",
       "Gloin1                   2.46  \n",
       "Obbri1                   5.02  \n",
       "Tilan2                   2.32  \n",
       "Phchr2                   4.41  \n",
       "Sphst1                   3.67  \n",
       "Conco1                   1.78  \n",
       "Neopa1                   2.16  \n",
       "Croqu1                   3.35  \n",
       "Spofi1                   1.70  "
      ]
     },
     "execution_count": 120,
     "metadata": {},
     "output_type": "execute_result"
    }
   ],
   "source": [
    "targetInfo = fullinfo.ix[filenames]\n",
    "targetInfo[['shortName','longName','gc','intronDensityGff']]"
   ]
  },
  {
   "cell_type": "markdown",
   "metadata": {},
   "source": [
    "####2. use eval package to calculate number of genes, number of multi-exon genes in annotation"
   ]
  },
  {
   "cell_type": "code",
   "execution_count": 95,
   "metadata": {
    "collapsed": false
   },
   "outputs": [],
   "source": [
    "# counter = 0\n",
    "# for filename in filenames:\n",
    "#     print counter, filename\n",
    "#     counter+=1\n",
    "#     print subprocess.Popen('ls /storage3/w/richard/meta2015/finalTestSet20151002/gtf_converted_from_gff/{}*.f.good.gtf'.format(filename),stdout=subprocess.PIPE,shell = True).communicate()[0]"
   ]
  },
  {
   "cell_type": "markdown",
   "metadata": {},
   "source": [
    "2.1 from here we can see that Clafu1 is not working since the RNA-Seq Alignment was not completed"
   ]
  },
  {
   "cell_type": "code",
   "execution_count": 121,
   "metadata": {
    "collapsed": true
   },
   "outputs": [],
   "source": [
    "filenames = filter(lambda x: 'Clafu1' not in x, filenames)\n",
    "targetInfo = fullinfo.ix[filenames]"
   ]
  },
  {
   "cell_type": "markdown",
   "metadata": {},
   "source": [
    "2.2 run evaluate on these annotations"
   ]
  },
  {
   "cell_type": "code",
   "execution_count": 110,
   "metadata": {
    "collapsed": true
   },
   "outputs": [],
   "source": [
    "source = '/storage3/w/richard/meta2015/finalTestSet20151002/gtf_converted_from_gff/'\n",
    "target = '/home/richard/research/tests/Oct27TestSetStatistics/annotation_original/'\n",
    "target_simple = '/home/richard/research/tests/Oct27TestSetStatistics/annotation_original_simple/'\n",
    "target_good = '/home/richard/research/tests/Oct27TestSetStatistics/annotation_good/'"
   ]
  },
  {
   "cell_type": "code",
   "execution_count": 41,
   "metadata": {
    "collapsed": true
   },
   "outputs": [],
   "source": [
    "mixAnnotationFiles = os.listdir(source)"
   ]
  },
  {
   "cell_type": "code",
   "execution_count": 44,
   "metadata": {
    "collapsed": true
   },
   "outputs": [],
   "source": [
    "original_annotation = (sc.parallelize(mixAnnotationFiles)\n",
    "                       .filter(lambda x: '.c.' not in x)\n",
    "                      .filter(lambda x: '.f.' not in x)\n",
    "                      .filter(lambda x: 'out' not in x)\n",
    "                      .collect())\n",
    "good_annotation = (sc.parallelize(mixAnnotationFiles)\n",
    "                   .filter(lambda x: 'good' in x)\n",
    "                  .collect())"
   ]
  },
  {
   "cell_type": "markdown",
   "metadata": {},
   "source": [
    "2.2.1 make script to run under eval folder"
   ]
  },
  {
   "cell_type": "code",
   "execution_count": 48,
   "metadata": {
    "collapsed": true
   },
   "outputs": [],
   "source": [
    "script = ''\n",
    "for anno in original_annotation:\n",
    "    script += 'perl evaluate_gtf.pl {}{} {}{} > {}{}.eval.txt\\n'.format(source,anno,source,anno,target,anno)\n",
    "with open('/home/richard/research/tests/Oct27TestSetStatistics/eval_lite/original_annotation.sh', 'w') as f: \n",
    "    f.write(script)"
   ]
  },
  {
   "cell_type": "code",
   "execution_count": 50,
   "metadata": {
    "collapsed": false
   },
   "outputs": [],
   "source": [
    "script = ''\n",
    "for anno in good_annotation:\n",
    "    script += 'perl evaluate_gtf.pl {}{} {}{} > {}{}.eval.txt\\n'.format(source,anno,source,anno,target_good,anno)\n",
    "with open('/home/richard/research/tests/Oct27TestSetStatistics/eval_lite/good_annotation.sh', 'w') as f: \n",
    "    f.write(script)"
   ]
  },
  {
   "cell_type": "markdown",
   "metadata": {
    "collapsed": true
   },
   "source": [
    "#### 3.1 Analyse eval output"
   ]
  },
  {
   "cell_type": "code",
   "execution_count": 54,
   "metadata": {
    "collapsed": true
   },
   "outputs": [],
   "source": [
    "good_annotation_eval = os.listdir(target_good)\n",
    "good_gene_count = {}\n",
    "good_singleExon_count = {}"
   ]
  },
  {
   "cell_type": "code",
   "execution_count": 70,
   "metadata": {
    "collapsed": false,
    "scrolled": false
   },
   "outputs": [],
   "source": [
    "for filename in good_annotation_eval:\n",
    "    shortName = filename.split('_GeneCatalog')[0]\n",
    "    flag = False\n",
    "    with open(target_good+filename) as f:\n",
    "        for line in f:\n",
    "            if 'Total Transcripts' in line:\n",
    "                elems = line.split()\n",
    "                good_gene_count[shortName] = int(float(elems[2]))\n",
    "                \n",
    "            if 'Single Exon' in line:\n",
    "                flag = True\n",
    "            if flag and 'Count' in line:\n",
    "                flag = False\n",
    "                elems = line.split()\n",
    "                good_singleExon_count[shortName] = int(float(elems[1]))\n",
    "    "
   ]
  },
  {
   "cell_type": "code",
   "execution_count": 114,
   "metadata": {
    "collapsed": true
   },
   "outputs": [],
   "source": [
    "annotation_eval = os.listdir(target)\n",
    "gene_count = {}\n",
    "singleExon_count = {}"
   ]
  },
  {
   "cell_type": "code",
   "execution_count": 115,
   "metadata": {
    "collapsed": true
   },
   "outputs": [],
   "source": [
    "for filename in annotation_eval:\n",
    "    shortName = filename.split('_GeneCatalog')[0]\n",
    "    flag = False\n",
    "    with open(target+filename) as f:\n",
    "        for line in f:\n",
    "            if 'Total Transcripts' in line:\n",
    "                elems = line.split()\n",
    "                gene_count[shortName] = int(float(elems[2]))\n",
    "                \n",
    "            if 'Single Exon' in line:\n",
    "                flag = True\n",
    "            if flag and 'Count' in line:\n",
    "                flag = False\n",
    "                elems = line.split()\n",
    "                singleExon_count[shortName] = int(float(elems[1]))"
   ]
  },
  {
   "cell_type": "markdown",
   "metadata": {},
   "source": [
    " 3.1.1 add results to table"
   ]
  },
  {
   "cell_type": "code",
   "execution_count": 124,
   "metadata": {
    "collapsed": true
   },
   "outputs": [],
   "source": [
    "targetInfo['geneCount'] = [gene_count[shortName] for shortName in targetInfo.index]\n",
    "targetInfo['singleExonCount'] = [singleExon_count[shortName] for shortName in targetInfo.index]\n",
    "targetInfo['multiExonGeneCount'] = targetInfo.geneCount - targetInfo.singleExonCount"
   ]
  },
  {
   "cell_type": "code",
   "execution_count": 129,
   "metadata": {
    "collapsed": false
   },
   "outputs": [],
   "source": [
    "targetInfo['goodGeneCount'] = [good_gene_count[shortName] for shortName in targetInfo.index]\n",
    "targetInfo['goodSingleExonCount'] = [good_singleExon_count[shortName] for shortName in targetInfo.index]\n",
    "targetInfo['goodMultiExonGeneCount'] = targetInfo.goodGeneCount - targetInfo.goodSingleExonCount\n",
    "\n",
    "sub_info = (targetInfo[['shortName','longName','gc','intronDensityGff','geneCount','singleExonCount',\\\n",
    "                       'multiExonGeneCount','goodGeneCount','goodSingleExonCount','goodMultiExonGeneCount']])"
   ]
  },
  {
   "cell_type": "code",
   "execution_count": 130,
   "metadata": {
    "collapsed": false
   },
   "outputs": [],
   "source": [
    "result = sub_info[sub_info.goodMultiExonGeneCount > 100]"
   ]
  },
  {
   "cell_type": "code",
   "execution_count": 138,
   "metadata": {
    "collapsed": false
   },
   "outputs": [
    {
     "data": {
      "image/png": "[encoded data removed]",
      "text/plain": [
       "<matplotlib.figure.Figure at 0x7f3a2ec81990>"
      ]
     },
     "metadata": {},
     "output_type": "display_data"
    }
   ],
   "source": [
    "plt.plot(result.gc, result.intronDensityGff,'ro'); \n",
    "plt.title('Test Set GC & Intron Density Distribution\\n (Species have at least 500 good multi-exon gene)')\n",
    "plt.xlabel('GC'); \n",
    "plt.ylabel('Intron Density'); \n",
    "plt.show()"
   ]
  },
  {
   "cell_type": "code",
   "execution_count": 134,
   "metadata": {
    "collapsed": false
   },
   "outputs": [],
   "source": [
    "sub_info.to_csv('/home/richard/research/tests/Oct27TestSetStatistics/testSetStatistics.csv',index = False)"
   ]
  },
  {
   "cell_type": "code",
   "execution_count": null,
   "metadata": {
    "collapsed": true
   },
   "outputs": [],
   "source": []
  }
 ],
 "metadata": {
  "kernelspec": {
   "display_name": "Python 2",
   "language": "python",
   "name": "python2"
  },
  "language_info": {
   "codemirror_mode": {
    "name": "ipython",
    "version": 2
   },
   "file_extension": ".py",
   "mimetype": "text/x-python",
   "name": "python",
   "nbconvert_exporter": "python",
   "pygments_lexer": "ipython2",
   "version": "2.7.10"
  }
 },
 "nbformat": 4,
 "nbformat_minor": 0
}
