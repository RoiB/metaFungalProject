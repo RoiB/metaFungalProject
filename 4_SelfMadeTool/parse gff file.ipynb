{
 "cells": [
  {
   "cell_type": "code",
   "execution_count": 1,
   "metadata": {
    "collapsed": true
   },
   "outputs": [],
   "source": [
    "import sys\n",
    "import re\n",
    "def countGeneExon(filename):\n",
    "    '''\n",
    "    args: gff annotation file name\n",
    "    return: (number of gene, number of exon)\n",
    "    '''\n",
    "    geneSet = set()\n",
    "    exonCount = 0\n",
    "    with open(filename) as f:\n",
    "        for line in f:\n",
    "            if len(line)> 1:\n",
    "                data = line.split()\n",
    "            \n",
    "                gene = data[9]\n",
    "                pattern = '\\\".*?\\\"'\n",
    "                obj = re.match(pattern, gene)\n",
    "                gene = obj.group(0)\n",
    "                geneSet.add(gene)\n",
    "            \n",
    "                if data[2] == 'exon':\n",
    "                    exonCount += 1\n",
    "    return len(geneSet), exonCount"
   ]
  },
  {
   "cell_type": "code",
   "execution_count": null,
   "metadata": {
    "collapsed": true
   },
   "outputs": [],
   "source": []
  }
 ],
 "metadata": {
  "kernelspec": {
   "display_name": "Python 2",
   "language": "python",
   "name": "python2"
  },
  "language_info": {
   "codemirror_mode": {
    "name": "ipython",
    "version": 2
   },
   "file_extension": ".py",
   "mimetype": "text/x-python",
   "name": "python",
   "nbconvert_exporter": "python",
   "pygments_lexer": "ipython2",
   "version": "2.7.10"
  }
 },
 "nbformat": 4,
 "nbformat_minor": 0
}
