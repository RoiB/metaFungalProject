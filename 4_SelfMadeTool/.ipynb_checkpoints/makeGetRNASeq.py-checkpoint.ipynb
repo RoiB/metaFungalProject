{
 "cells": [
  {
   "cell_type": "code",
   "execution_count": 1,
   "metadata": {
    "collapsed": false
   },
   "outputs": [
    {
     "name": "stdout",
     "output_type": "stream",
     "text": [
      "cd /storage3/w/richard/meta2015/dataForRNASeq/\n",
      "\n",
      "please run bash /storage3/w/richard/meta2015/logFile/getRNASeqData_-f.sh to download rna seq file and wait util it's done\n"
     ]
    }
   ],
   "source": [
    "import pandas as pd\n",
    "import sys\n",
    "def main():\n",
    "    logPath = '/storage3/w/richard/meta2015/logFile/'\n",
    "    RNASeqFileInfo = pd.read_csv(\"/home/richard/research/1_DataSmall/rnaSeqFileList.csv\")\n",
    "    dataForRNASeq = '/storage3/w/richard/meta2015/dataForRNASeq/'\n",
    "\n",
    "    shortName = sys.argv[1]\n",
    "    # make script to download rna seq\n",
    "    script_rna = 'cd {}\\n'.format(dataForRNASeq)\n",
    "    idx = RNASeqFileInfo['shortName'] == shortName;\n",
    "    for URL in RNASeqFileInfo.loc[idx]['URL']:\n",
    "        script_rna+=\"wget {}\\n\".format(URL)\n",
    "    print script_rna\n",
    "    with open(\"{}getRNASeqData_{}.sh\".format(logPath, shortName), 'w') as f: f.write(script_rna)\n",
    "    print \"please run bash {}getRNASeqData_{}.sh to download rna seq file and wait util it's done\".format(logPath,shortName)\n",
    "    \n",
    "\n",
    "if __name__ == '__main__':\n",
    "    main()"
   ]
  }
 ],
 "metadata": {
  "kernelspec": {
   "display_name": "Python 2",
   "language": "python",
   "name": "python2"
  },
  "language_info": {
   "codemirror_mode": {
    "name": "ipython",
    "version": 2
   },
   "file_extension": ".py",
   "mimetype": "text/x-python",
   "name": "python",
   "nbconvert_exporter": "python",
   "pygments_lexer": "ipython2",
   "version": "2.7.10"
  }
 },
 "nbformat": 4,
 "nbformat_minor": 0
}
