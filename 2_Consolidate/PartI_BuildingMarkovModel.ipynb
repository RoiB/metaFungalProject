{
 "cells": [
  {
   "cell_type": "code",
   "execution_count": 9,
   "metadata": {
    "collapsed": false
   },
   "outputs": [],
   "source": [
    "'''\n",
    "The notebook and its instruction is a consolidation of research work performed in Fall 2014 at Georgia Tech.\n",
    "Research Statement\n",
    "Computer methods of gene finding in DNA sequences require models of protein coding and non-coding regions \n",
    "derived either from experimentally validated training sets (supervised training) or from sufficiently large \n",
    "volumes of anonymous DNA sequence (unsupervised training). When the sequence data is limited we still have \n",
    "a method, the heuristic method (two versions, described in publications by Besemer & Borodovsky, 1999 and by \n",
    "Zhu et al. 2010), to produce fairly accurate parameters for the three-periodic Markov models of protein coding regions.·\n",
    "Still, the methods were developed for prokaryotic species and currently, with many eukaryotic genomes sequenced, \n",
    "there is an opportunity to develop heuristic models for eukaryotic genomes and transcriptomes as well as \n",
    "eukaryotic viruses.\n",
    "The work to be performed is to develop heuristic models for eukaryotes, particularly for fungal genomes.\n",
    "'''\n",
    "import os\n",
    "import pandas as pd\n",
    "fulldata = pd.read_csv(\"../1_DataSmall/fullTableInfoGff3GffRNA.csv\")\n",
    "# fulldata.columns"
   ]
  },
  {
   "cell_type": "code",
   "execution_count": 17,
   "metadata": {
    "collapsed": false
   },
   "outputs": [],
   "source": [
    "#####################################################################################################\n",
    "#####################################################################################################\n",
    "############################# Module 1, Dealing with genomic sequence ###############################\n",
    "'''\n",
    "Get a general overview of GC distribution and positional Nucleic acids distribution\n",
    "The data set was aquired on July 30 from JGI. \n",
    "A table was created to link short name, long name and file names together for easy access and error avoidance\n",
    "\n",
    "Steps:\n",
    "copy all zipped fasta file to a folder, named genomeFasta under, put under largeDataSet at ~\n",
    "'''\n",
    "# fastaName = fulldata['fastaName']\n",
    "# shortName = fulldata['shortName']\n",
    "sourceFolder = \"/home/richard/largeDataSet/fungi_download/\"\n",
    "targetFolder = \"/home/richard/largeDataSet/genomeFasta/\"\n",
    "script = \"\"\n",
    "for i in range(fulldata.shape[0]):\n",
    "    script += \"mkdir /home/richard/largeDataSet/genomeFasta/{}\\n\".format(fulldata.loc[i]['shortName'])\n",
    "    script += \"cp {}{}/{} {}{}/\\n\".format(sourceFolder, fulldata.loc[i]['shortName'],fulldata.loc[i]['fastaName'],\n",
    "                                      targetFolder, fulldata.loc[i]['shortName'])\n",
    "# print script\n",
    "# write the script to tempFolder\n",
    "with open('/home/richard/tempFile/cpGenomeFasta.sh',\"w\") as f: f.write(script)"
   ]
  },
  {
   "cell_type": "code",
   "execution_count": null,
   "metadata": {
    "collapsed": true
   },
   "outputs": [],
   "source": []
  }
 ],
 "metadata": {
  "kernelspec": {
   "display_name": "Python 2",
   "language": "python",
   "name": "python2"
  },
  "language_info": {
   "codemirror_mode": {
    "name": "ipython",
    "version": 2
   },
   "file_extension": ".py",
   "mimetype": "text/x-python",
   "name": "python",
   "nbconvert_exporter": "python",
   "pygments_lexer": "ipython2",
   "version": "2.7.10"
  }
 },
 "nbformat": 4,
 "nbformat_minor": 0
}
